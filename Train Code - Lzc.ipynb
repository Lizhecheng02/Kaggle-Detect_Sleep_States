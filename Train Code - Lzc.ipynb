{
 "cells": [
  {
   "cell_type": "code",
   "execution_count": 1,
   "metadata": {},
   "outputs": [
    {
     "name": "stderr",
     "output_type": "stream",
     "text": [
      "100%|██████████| 277/277 [00:00<00:00, 18516.57it/s]"
     ]
    },
    {
     "name": "stdout",
     "output_type": "stream",
     "text": [
      "Target: [(6228, 12324), (22044, 28248), (59016, 65064), (78024, 82068), (95400, 99444), (109956, 114480), (126780, 132972), (144984, 151944), (191376, 199020), (211716, 217476), (243036, 251184)]\n",
      "           anglez      enmo      step\n",
      "0       26.234375  0.142456       0.0\n",
      "1       25.828125  0.142456       1.0\n",
      "2       25.687500  0.140015       2.0\n",
      "3       26.640625  0.141968       3.0\n",
      "4       26.140625  0.154053       4.0\n",
      "...           ...       ...       ...\n",
      "328135  -2.517578  0.027496  328135.0\n",
      "328136 -10.000000  0.016602  328136.0\n",
      "328137 -12.046875  0.015198  328137.0\n",
      "328138 -12.585938  0.013901  328138.0\n",
      "328139 -16.937500  0.013000  328139.0\n",
      "\n",
      "[328140 rows x 3 columns]\n",
      "<class 'list'>\n",
      "<class 'pandas.core.frame.DataFrame'>\n"
     ]
    },
    {
     "name": "stderr",
     "output_type": "stream",
     "text": [
      "\n"
     ]
    }
   ],
   "source": [
    "import joblib\n",
    "import numpy as np\n",
    "import pandas as pd\n",
    "from collections import Counter\n",
    "from tqdm import tqdm\n",
    "import torch\n",
    "import torch.nn as nn\n",
    "from torchsummary import summary\n",
    "from torch.utils.data import Dataset, DataLoader, random_split, SubsetRandomSampler, Subset\n",
    "import matplotlib.pyplot as plt\n",
    "from torch.optim.lr_scheduler import StepLR\n",
    "\n",
    "loaded_data = joblib.load(\"train_data.pkl\")\n",
    "\n",
    "targets, data, ids = loaded_data\n",
    "\n",
    "# 打印某个人的具体信息\n",
    "\n",
    "for i in tqdm(range(277)):\n",
    "    if ids[i] == \"44a41bba1ee7\":\n",
    "        print(f\"Target: {targets[i]}\")\n",
    "        print(f\"{data[i]}\")\n",
    "        print(type(targets[i]))\n",
    "        print(type(data[i]))"
   ]
  },
  {
   "cell_type": "code",
   "execution_count": 2,
   "metadata": {},
   "outputs": [],
   "source": [
    "class CFG:\n",
    "    window_overlap = 30\n",
    "    window_size = 60\n",
    "    train_ratio = 0.8\n",
    "    batch_size = 32\n",
    "    input_dim = 2\n",
    "    embed_dim = 32\n",
    "    num_classes = 3 \n",
    "    num_layers = 6\n",
    "    nhead = 4\n",
    "    dim_feedforward = 64\n",
    "    learning_rate = 1e-3\n",
    "    epochs = 10\n",
    "    train_record_steps = 80\n",
    "    test_record_steps = 20\n",
    "    dropout = 0.4\n",
    "    num_person = 277\n",
    "    scheduler_step_size = 30\n",
    "    scheduler_gamma = 0.8"
   ]
  },
  {
   "cell_type": "code",
   "execution_count": 3,
   "metadata": {},
   "outputs": [
    {
     "name": "stdout",
     "output_type": "stream",
     "text": [
      "The number of total persons is: 277\n"
     ]
    },
    {
     "name": "stderr",
     "output_type": "stream",
     "text": [
      "  0%|          | 1/200 [00:05<16:51,  5.08s/it]"
     ]
    },
    {
     "name": "stdout",
     "output_type": "stream",
     "text": [
      "Element 0 occurs 10313 times\n",
      "Element 1 occurs 43 times\n",
      "Element 2 occurs 42 times\n",
      "Element 3 occurs 2596 times\n"
     ]
    },
    {
     "name": "stderr",
     "output_type": "stream",
     "text": [
      "  1%|          | 2/200 [00:14<24:44,  7.50s/it]"
     ]
    },
    {
     "name": "stdout",
     "output_type": "stream",
     "text": [
      "Element 0 occurs 19221 times\n",
      "Element 1 occurs 19 times\n",
      "Element 2 occurs 18 times\n",
      "Element 3 occurs 4878 times\n"
     ]
    },
    {
     "name": "stderr",
     "output_type": "stream",
     "text": [
      "  2%|▏         | 3/200 [00:19<21:04,  6.42s/it]"
     ]
    },
    {
     "name": "stdout",
     "output_type": "stream",
     "text": [
      "Element 0 occurs 10152 times\n",
      "Element 1 occurs 39 times\n",
      "Element 2 occurs 40 times\n",
      "Element 3 occurs 3009 times\n"
     ]
    },
    {
     "name": "stderr",
     "output_type": "stream",
     "text": [
      "  2%|▏         | 4/200 [00:27<23:06,  7.08s/it]"
     ]
    },
    {
     "name": "stdout",
     "output_type": "stream",
     "text": [
      "Element 0 occurs 16909 times\n",
      "Element 3 occurs 4250 times\n",
      "Element 1 occurs 44 times\n",
      "Element 2 occurs 47 times\n"
     ]
    },
    {
     "name": "stderr",
     "output_type": "stream",
     "text": [
      "  2%|▎         | 5/200 [00:32<20:38,  6.35s/it]"
     ]
    },
    {
     "name": "stdout",
     "output_type": "stream",
     "text": [
      "Element 0 occurs 12687 times\n",
      "Element 3 occurs 639 times\n",
      "Element 1 occurs 16 times\n",
      "Element 2 occurs 18 times\n"
     ]
    },
    {
     "name": "stderr",
     "output_type": "stream",
     "text": [
      "  3%|▎         | 6/200 [00:38<19:47,  6.12s/it]"
     ]
    },
    {
     "name": "stdout",
     "output_type": "stream",
     "text": [
      "Element 0 occurs 8673 times\n",
      "Element 1 occurs 6 times\n",
      "Element 2 occurs 7 times\n",
      "Element 3 occurs 6060 times\n"
     ]
    },
    {
     "name": "stderr",
     "output_type": "stream",
     "text": [
      "  4%|▎         | 7/200 [00:48<23:36,  7.34s/it]"
     ]
    },
    {
     "name": "stdout",
     "output_type": "stream",
     "text": [
      "Element 0 occurs 16916 times\n",
      "Element 1 occurs 33 times\n",
      "Element 2 occurs 29 times\n",
      "Element 3 occurs 8976 times\n"
     ]
    },
    {
     "name": "stderr",
     "output_type": "stream",
     "text": [
      "  4%|▍         | 8/200 [00:53<21:44,  6.79s/it]"
     ]
    },
    {
     "name": "stdout",
     "output_type": "stream",
     "text": [
      "Element 0 occurs 14561 times\n",
      "Element 1 occurs 56 times\n",
      "Element 2 occurs 57 times\n"
     ]
    },
    {
     "name": "stderr",
     "output_type": "stream",
     "text": [
      "  4%|▍         | 9/200 [00:57<18:56,  5.95s/it]"
     ]
    },
    {
     "name": "stdout",
     "output_type": "stream",
     "text": [
      "Element 0 occurs 8495 times\n",
      "Element 1 occurs 32 times\n",
      "Element 2 occurs 33 times\n"
     ]
    },
    {
     "name": "stderr",
     "output_type": "stream",
     "text": [
      "  5%|▌         | 10/200 [01:03<18:33,  5.86s/it]"
     ]
    },
    {
     "name": "stdout",
     "output_type": "stream",
     "text": [
      "Element 0 occurs 7972 times\n",
      "Element 1 occurs 12 times\n",
      "Element 2 occurs 13 times\n",
      "Element 3 occurs 4343 times\n"
     ]
    },
    {
     "name": "stderr",
     "output_type": "stream",
     "text": [
      "  6%|▌         | 11/200 [01:11<20:58,  6.66s/it]"
     ]
    },
    {
     "name": "stdout",
     "output_type": "stream",
     "text": [
      "Element 0 occurs 19506 times\n",
      "Element 1 occurs 70 times\n",
      "Element 2 occurs 67 times\n",
      "Element 3 occurs 527 times\n"
     ]
    },
    {
     "name": "stderr",
     "output_type": "stream",
     "text": [
      "  6%|▌         | 12/200 [01:17<19:25,  6.20s/it]"
     ]
    },
    {
     "name": "stdout",
     "output_type": "stream",
     "text": [
      "Element 0 occurs 12731 times\n",
      "Element 1 occurs 45 times\n",
      "Element 2 occurs 44 times\n"
     ]
    },
    {
     "name": "stderr",
     "output_type": "stream",
     "text": [
      "  6%|▋         | 13/200 [01:22<18:33,  5.95s/it]"
     ]
    },
    {
     "name": "stdout",
     "output_type": "stream",
     "text": [
      "Element 0 occurs 11025 times\n",
      "Element 1 occurs 42 times\n",
      "Element 2 occurs 47 times\n",
      "Element 3 occurs 2378 times\n"
     ]
    },
    {
     "name": "stderr",
     "output_type": "stream",
     "text": [
      "  7%|▋         | 14/200 [01:27<18:00,  5.81s/it]"
     ]
    },
    {
     "name": "stdout",
     "output_type": "stream",
     "text": [
      "Element 0 occurs 10072 times\n",
      "Element 1 occurs 46 times\n",
      "Element 2 occurs 46 times\n",
      "Element 3 occurs 3538 times\n"
     ]
    },
    {
     "name": "stderr",
     "output_type": "stream",
     "text": [
      "  8%|▊         | 15/200 [01:35<19:46,  6.41s/it]"
     ]
    },
    {
     "name": "stdout",
     "output_type": "stream",
     "text": [
      "Element 0 occurs 16924 times\n",
      "Element 1 occurs 64 times\n",
      "Element 2 occurs 67 times\n",
      "Element 3 occurs 2041 times\n"
     ]
    },
    {
     "name": "stderr",
     "output_type": "stream",
     "text": [
      "  8%|▊         | 16/200 [01:40<18:16,  5.96s/it]"
     ]
    },
    {
     "name": "stdout",
     "output_type": "stream",
     "text": [
      "Element 0 occurs 12003 times\n",
      "Element 1 occurs 47 times\n",
      "Element 2 occurs 44 times\n"
     ]
    },
    {
     "name": "stderr",
     "output_type": "stream",
     "text": [
      "  8%|▊         | 17/200 [01:49<20:25,  6.70s/it]"
     ]
    },
    {
     "name": "stdout",
     "output_type": "stream",
     "text": [
      "Element 0 occurs 11254 times\n",
      "Element 1 occurs 48 times\n",
      "Element 2 occurs 46 times\n",
      "Element 3 occurs 5846 times\n"
     ]
    },
    {
     "name": "stderr",
     "output_type": "stream",
     "text": [
      "  9%|▉         | 18/200 [01:54<19:09,  6.31s/it]"
     ]
    },
    {
     "name": "stdout",
     "output_type": "stream",
     "text": [
      "Element 0 occurs 8890 times\n"
     ]
    },
    {
     "name": "stderr",
     "output_type": "stream",
     "text": [
      " 10%|▉         | 19/200 [02:01<19:39,  6.52s/it]"
     ]
    },
    {
     "name": "stdout",
     "output_type": "stream",
     "text": [
      "Element 0 occurs 12535 times\n",
      "Element 1 occurs 7 times\n",
      "Element 2 occurs 7 times\n",
      "Element 3 occurs 883 times\n"
     ]
    },
    {
     "name": "stderr",
     "output_type": "stream",
     "text": [
      " 10%|█         | 20/200 [02:09<21:04,  7.02s/it]"
     ]
    },
    {
     "name": "stdout",
     "output_type": "stream",
     "text": [
      "Element 0 occurs 13593 times\n",
      "Element 1 occurs 51 times\n",
      "Element 2 occurs 52 times\n"
     ]
    },
    {
     "name": "stderr",
     "output_type": "stream",
     "text": [
      " 10%|█         | 21/200 [02:17<21:16,  7.13s/it]"
     ]
    },
    {
     "name": "stdout",
     "output_type": "stream",
     "text": [
      "Element 0 occurs 12980 times\n",
      "Element 1 occurs 48 times\n",
      "Element 2 occurs 50 times\n"
     ]
    },
    {
     "name": "stderr",
     "output_type": "stream",
     "text": [
      " 11%|█         | 22/200 [02:28<25:20,  8.54s/it]"
     ]
    },
    {
     "name": "stdout",
     "output_type": "stream",
     "text": [
      "Element 0 occurs 22994 times\n",
      "Element 1 occurs 59 times\n",
      "Element 2 occurs 62 times\n",
      "Element 3 occurs 1699 times\n"
     ]
    },
    {
     "name": "stderr",
     "output_type": "stream",
     "text": [
      " 12%|█▏        | 23/200 [02:38<26:09,  8.87s/it]"
     ]
    },
    {
     "name": "stdout",
     "output_type": "stream",
     "text": [
      "Element 0 occurs 19920 times\n",
      "Element 1 occurs 70 times\n",
      "Element 2 occurs 72 times\n"
     ]
    },
    {
     "name": "stderr",
     "output_type": "stream",
     "text": [
      " 12%|█▏        | 24/200 [02:46<25:37,  8.74s/it]"
     ]
    },
    {
     "name": "stdout",
     "output_type": "stream",
     "text": [
      "Element 0 occurs 14118 times\n",
      "Element 1 occurs 8 times\n",
      "Element 2 occurs 8 times\n"
     ]
    },
    {
     "name": "stderr",
     "output_type": "stream",
     "text": [
      " 12%|█▎        | 25/200 [02:55<25:34,  8.77s/it]"
     ]
    },
    {
     "name": "stdout",
     "output_type": "stream",
     "text": [
      "Element 0 occurs 11898 times\n",
      "Element 1 occurs 40 times\n",
      "Element 2 occurs 42 times\n",
      "Element 3 occurs 7416 times\n"
     ]
    },
    {
     "name": "stderr",
     "output_type": "stream",
     "text": [
      " 13%|█▎        | 26/200 [03:01<22:40,  7.82s/it]"
     ]
    },
    {
     "name": "stdout",
     "output_type": "stream",
     "text": [
      "Element 0 occurs 13328 times\n",
      "Element 3 occurs 806 times\n",
      "Element 1 occurs 10 times\n",
      "Element 2 occurs 8 times\n"
     ]
    },
    {
     "name": "stderr",
     "output_type": "stream",
     "text": [
      " 14%|█▎        | 27/200 [03:09<22:24,  7.77s/it]"
     ]
    },
    {
     "name": "stdout",
     "output_type": "stream",
     "text": [
      "Element 0 occurs 11502 times\n",
      "Element 1 occurs 35 times\n",
      "Element 2 occurs 35 times\n",
      "Element 3 occurs 6774 times\n"
     ]
    },
    {
     "name": "stderr",
     "output_type": "stream",
     "text": [
      " 14%|█▍        | 28/200 [03:18<23:31,  8.21s/it]"
     ]
    },
    {
     "name": "stdout",
     "output_type": "stream",
     "text": [
      "Element 0 occurs 17744 times\n",
      "Element 1 occurs 66 times\n",
      "Element 2 occurs 70 times\n",
      "Element 3 occurs 526 times\n"
     ]
    },
    {
     "name": "stderr",
     "output_type": "stream",
     "text": [
      " 14%|█▍        | 29/200 [03:24<21:27,  7.53s/it]"
     ]
    },
    {
     "name": "stdout",
     "output_type": "stream",
     "text": [
      "Element 0 occurs 5717 times\n",
      "Element 1 occurs 31 times\n",
      "Element 2 occurs 30 times\n",
      "Element 3 occurs 7036 times\n"
     ]
    },
    {
     "name": "stderr",
     "output_type": "stream",
     "text": [
      " 15%|█▌        | 30/200 [03:30<20:32,  7.25s/it]"
     ]
    },
    {
     "name": "stdout",
     "output_type": "stream",
     "text": [
      "Element 0 occurs 15844 times\n",
      "Element 1 occurs 56 times\n",
      "Element 2 occurs 58 times\n"
     ]
    },
    {
     "name": "stderr",
     "output_type": "stream",
     "text": [
      " 16%|█▌        | 31/200 [03:36<19:15,  6.84s/it]"
     ]
    },
    {
     "name": "stdout",
     "output_type": "stream",
     "text": [
      "Element 0 occurs 12374 times\n",
      "Element 1 occurs 41 times\n",
      "Element 2 occurs 44 times\n",
      "Element 3 occurs 1843 times\n"
     ]
    },
    {
     "name": "stderr",
     "output_type": "stream",
     "text": [
      " 16%|█▌        | 32/200 [03:42<17:53,  6.39s/it]"
     ]
    },
    {
     "name": "stdout",
     "output_type": "stream",
     "text": [
      "Element 0 occurs 11871 times\n",
      "Element 1 occurs 50 times\n",
      "Element 2 occurs 44 times\n",
      "Element 3 occurs 915 times\n"
     ]
    },
    {
     "name": "stderr",
     "output_type": "stream",
     "text": [
      " 16%|█▋        | 33/200 [03:51<20:04,  7.21s/it]"
     ]
    },
    {
     "name": "stdout",
     "output_type": "stream",
     "text": [
      "Element 0 occurs 19194 times\n",
      "Element 1 occurs 69 times\n",
      "Element 2 occurs 66 times\n",
      "Element 3 occurs 877 times\n"
     ]
    },
    {
     "name": "stderr",
     "output_type": "stream",
     "text": [
      " 17%|█▋        | 34/200 [03:58<19:58,  7.22s/it]"
     ]
    },
    {
     "name": "stdout",
     "output_type": "stream",
     "text": [
      "Element 0 occurs 16388 times\n",
      "Element 1 occurs 63 times\n",
      "Element 2 occurs 65 times\n"
     ]
    },
    {
     "name": "stderr",
     "output_type": "stream",
     "text": [
      " 18%|█▊        | 35/200 [04:07<21:29,  7.81s/it]"
     ]
    },
    {
     "name": "stdout",
     "output_type": "stream",
     "text": [
      "Element 0 occurs 18354 times\n",
      "Element 1 occurs 67 times\n",
      "Element 2 occurs 63 times\n"
     ]
    },
    {
     "name": "stderr",
     "output_type": "stream",
     "text": [
      " 18%|█▊        | 36/200 [04:14<20:11,  7.39s/it]"
     ]
    },
    {
     "name": "stdout",
     "output_type": "stream",
     "text": [
      "Element 0 occurs 11902 times\n",
      "Element 1 occurs 46 times\n",
      "Element 2 occurs 44 times\n",
      "Element 3 occurs 948 times\n"
     ]
    },
    {
     "name": "stderr",
     "output_type": "stream",
     "text": [
      " 18%|█▊        | 37/200 [04:15<15:27,  5.69s/it]"
     ]
    },
    {
     "name": "stdout",
     "output_type": "stream",
     "text": [
      "Element 0 occurs 2905 times\n",
      "Element 1 occurs 14 times\n",
      "Element 2 occurs 12 times\n",
      "Element 3 occurs 913 times\n"
     ]
    },
    {
     "name": "stderr",
     "output_type": "stream",
     "text": [
      " 19%|█▉        | 38/200 [04:26<19:04,  7.06s/it]"
     ]
    },
    {
     "name": "stdout",
     "output_type": "stream",
     "text": [
      "Element 0 occurs 5490 times\n",
      "Element 3 occurs 14592 times\n",
      "Element 1 occurs 22 times\n",
      "Element 2 occurs 24 times\n"
     ]
    },
    {
     "name": "stderr",
     "output_type": "stream",
     "text": [
      " 20%|█▉        | 39/200 [04:33<19:29,  7.26s/it]"
     ]
    },
    {
     "name": "stdout",
     "output_type": "stream",
     "text": [
      "Element 0 occurs 15435 times\n",
      "Element 1 occurs 14 times\n",
      "Element 2 occurs 13 times\n",
      "Element 3 occurs 2368 times\n"
     ]
    },
    {
     "name": "stderr",
     "output_type": "stream",
     "text": [
      " 20%|██        | 40/200 [04:42<20:44,  7.78s/it]"
     ]
    },
    {
     "name": "stdout",
     "output_type": "stream",
     "text": [
      "Element 0 occurs 8271 times\n",
      "Element 3 occurs 11103 times\n",
      "Element 1 occurs 33 times\n",
      "Element 2 occurs 31 times\n"
     ]
    },
    {
     "name": "stderr",
     "output_type": "stream",
     "text": [
      " 20%|██        | 41/200 [04:48<19:11,  7.24s/it]"
     ]
    },
    {
     "name": "stdout",
     "output_type": "stream",
     "text": [
      "Element 0 occurs 11020 times\n",
      "Element 1 occurs 40 times\n",
      "Element 2 occurs 39 times\n",
      "Element 3 occurs 1961 times\n"
     ]
    },
    {
     "name": "stderr",
     "output_type": "stream",
     "text": [
      " 21%|██        | 42/200 [04:59<21:40,  8.23s/it]"
     ]
    },
    {
     "name": "stdout",
     "output_type": "stream",
     "text": [
      "Element 0 occurs 20529 times\n",
      "Element 1 occurs 79 times\n",
      "Element 2 occurs 76 times\n",
      "Element 3 occurs 1802 times\n"
     ]
    },
    {
     "name": "stderr",
     "output_type": "stream",
     "text": [
      " 22%|██▏       | 43/200 [05:09<23:13,  8.88s/it]"
     ]
    },
    {
     "name": "stdout",
     "output_type": "stream",
     "text": [
      "Element 0 occurs 21261 times\n",
      "Element 1 occurs 18 times\n",
      "Element 2 occurs 19 times\n"
     ]
    },
    {
     "name": "stderr",
     "output_type": "stream",
     "text": [
      " 22%|██▏       | 44/200 [05:16<21:10,  8.14s/it]"
     ]
    },
    {
     "name": "stdout",
     "output_type": "stream",
     "text": [
      "Element 0 occurs 11706 times\n",
      "Element 1 occurs 45 times\n",
      "Element 2 occurs 46 times\n",
      "Element 3 occurs 867 times\n"
     ]
    },
    {
     "name": "stderr",
     "output_type": "stream",
     "text": [
      " 22%|██▎       | 45/200 [05:25<22:06,  8.56s/it]"
     ]
    },
    {
     "name": "stdout",
     "output_type": "stream",
     "text": [
      "Element 0 occurs 9564 times\n",
      "Element 1 occurs 46 times\n",
      "Element 2 occurs 51 times\n",
      "Element 3 occurs 10731 times\n"
     ]
    },
    {
     "name": "stderr",
     "output_type": "stream",
     "text": [
      " 23%|██▎       | 46/200 [05:33<21:37,  8.43s/it]"
     ]
    },
    {
     "name": "stdout",
     "output_type": "stream",
     "text": [
      "Element 0 occurs 11927 times\n",
      "Element 1 occurs 52 times\n",
      "Element 2 occurs 50 times\n",
      "Element 3 occurs 6509 times\n"
     ]
    },
    {
     "name": "stderr",
     "output_type": "stream",
     "text": [
      " 24%|██▎       | 47/200 [05:41<20:56,  8.21s/it]"
     ]
    },
    {
     "name": "stdout",
     "output_type": "stream",
     "text": [
      "Element 0 occurs 15343 times\n",
      "Element 1 occurs 62 times\n",
      "Element 2 occurs 67 times\n"
     ]
    },
    {
     "name": "stderr",
     "output_type": "stream",
     "text": [
      " 24%|██▍       | 48/200 [05:47<19:00,  7.50s/it]"
     ]
    },
    {
     "name": "stdout",
     "output_type": "stream",
     "text": [
      "Element 0 occurs 7823 times\n",
      "Element 1 occurs 33 times\n",
      "Element 2 occurs 30 times\n",
      "Element 3 occurs 5294 times\n"
     ]
    },
    {
     "name": "stderr",
     "output_type": "stream",
     "text": [
      " 24%|██▍       | 49/200 [05:53<18:14,  7.25s/it]"
     ]
    },
    {
     "name": "stdout",
     "output_type": "stream",
     "text": [
      "Element 0 occurs 11890 times\n",
      "Element 1 occurs 49 times\n",
      "Element 2 occurs 49 times\n",
      "Element 3 occurs 3178 times\n"
     ]
    },
    {
     "name": "stderr",
     "output_type": "stream",
     "text": [
      " 25%|██▌       | 50/200 [06:03<19:40,  7.87s/it]"
     ]
    },
    {
     "name": "stdout",
     "output_type": "stream",
     "text": [
      "Element 0 occurs 18036 times\n",
      "Element 1 occurs 69 times\n",
      "Element 2 occurs 67 times\n",
      "Element 3 occurs 1860 times\n"
     ]
    },
    {
     "name": "stderr",
     "output_type": "stream",
     "text": [
      " 26%|██▌       | 51/200 [06:11<20:03,  8.08s/it]"
     ]
    },
    {
     "name": "stdout",
     "output_type": "stream",
     "text": [
      "Element 0 occurs 17118 times\n",
      "Element 1 occurs 25 times\n",
      "Element 2 occurs 24 times\n",
      "Element 3 occurs 2439 times\n"
     ]
    },
    {
     "name": "stderr",
     "output_type": "stream",
     "text": [
      " 26%|██▌       | 52/200 [06:15<16:36,  6.73s/it]"
     ]
    },
    {
     "name": "stdout",
     "output_type": "stream",
     "text": [
      "Element 0 occurs 6123 times\n",
      "Element 1 occurs 26 times\n",
      "Element 2 occurs 27 times\n",
      "Element 3 occurs 1874 times\n"
     ]
    },
    {
     "name": "stderr",
     "output_type": "stream",
     "text": [
      " 26%|██▋       | 53/200 [06:20<15:22,  6.27s/it]"
     ]
    },
    {
     "name": "stdout",
     "output_type": "stream",
     "text": [
      "Element 0 occurs 10856 times\n",
      "Element 1 occurs 40 times\n",
      "Element 2 occurs 37 times\n",
      "Element 3 occurs 879 times\n"
     ]
    },
    {
     "name": "stderr",
     "output_type": "stream",
     "text": [
      " 27%|██▋       | 54/200 [06:26<15:03,  6.19s/it]"
     ]
    },
    {
     "name": "stdout",
     "output_type": "stream",
     "text": [
      "Element 0 occurs 12442 times\n",
      "Element 1 occurs 47 times\n",
      "Element 2 occurs 43 times\n",
      "Element 3 occurs 864 times\n"
     ]
    },
    {
     "name": "stderr",
     "output_type": "stream",
     "text": [
      " 28%|██▊       | 55/200 [06:32<14:52,  6.15s/it]"
     ]
    },
    {
     "name": "stdout",
     "output_type": "stream",
     "text": [
      "Element 0 occurs 13894 times\n"
     ]
    },
    {
     "name": "stderr",
     "output_type": "stream",
     "text": [
      " 28%|██▊       | 56/200 [06:42<17:31,  7.30s/it]"
     ]
    },
    {
     "name": "stdout",
     "output_type": "stream",
     "text": [
      "Element 0 occurs 18779 times\n",
      "Element 1 occurs 23 times\n",
      "Element 2 occurs 24 times\n"
     ]
    },
    {
     "name": "stderr",
     "output_type": "stream",
     "text": [
      " 28%|██▊       | 57/200 [06:52<19:05,  8.01s/it]"
     ]
    },
    {
     "name": "stdout",
     "output_type": "stream",
     "text": [
      "Element 0 occurs 19736 times\n",
      "Element 3 occurs 2511 times\n",
      "Element 1 occurs 72 times\n",
      "Element 2 occurs 71 times\n"
     ]
    },
    {
     "name": "stderr",
     "output_type": "stream",
     "text": [
      " 29%|██▉       | 58/200 [06:58<17:21,  7.34s/it]"
     ]
    },
    {
     "name": "stdout",
     "output_type": "stream",
     "text": [
      "Element 0 occurs 11531 times\n",
      "Element 1 occurs 46 times\n",
      "Element 2 occurs 49 times\n",
      "Element 3 occurs 2334 times\n"
     ]
    },
    {
     "name": "stderr",
     "output_type": "stream",
     "text": [
      " 30%|██▉       | 59/200 [07:05<17:14,  7.33s/it]"
     ]
    },
    {
     "name": "stdout",
     "output_type": "stream",
     "text": [
      "Element 0 occurs 17711 times\n",
      "Element 1 occurs 68 times\n",
      "Element 2 occurs 69 times\n"
     ]
    },
    {
     "name": "stderr",
     "output_type": "stream",
     "text": [
      " 30%|███       | 60/200 [07:05<12:20,  5.29s/it]"
     ]
    },
    {
     "name": "stdout",
     "output_type": "stream",
     "text": [
      "Element 0 occurs 1225 times\n",
      "Element 1 occurs 5 times\n",
      "Element 2 occurs 4 times\n"
     ]
    },
    {
     "name": "stderr",
     "output_type": "stream",
     "text": [
      " 30%|███       | 61/200 [07:11<12:38,  5.46s/it]"
     ]
    },
    {
     "name": "stdout",
     "output_type": "stream",
     "text": [
      "Element 0 occurs 13460 times\n",
      "Element 1 occurs 29 times\n",
      "Element 2 occurs 29 times\n",
      "Element 3 occurs 868 times\n"
     ]
    },
    {
     "name": "stderr",
     "output_type": "stream",
     "text": [
      " 31%|███       | 62/200 [07:16<12:02,  5.24s/it]"
     ]
    },
    {
     "name": "stdout",
     "output_type": "stream",
     "text": [
      "Element 0 occurs 9786 times\n",
      "Element 1 occurs 38 times\n",
      "Element 2 occurs 39 times\n",
      "Element 3 occurs 1763 times\n"
     ]
    },
    {
     "name": "stderr",
     "output_type": "stream",
     "text": [
      " 32%|███▏      | 63/200 [07:21<12:00,  5.26s/it]"
     ]
    },
    {
     "name": "stdout",
     "output_type": "stream",
     "text": [
      "Element 0 occurs 12563 times\n",
      "Element 1 occurs 53 times\n",
      "Element 2 occurs 48 times\n"
     ]
    },
    {
     "name": "stderr",
     "output_type": "stream",
     "text": [
      " 32%|███▏      | 64/200 [07:27<12:09,  5.36s/it]"
     ]
    },
    {
     "name": "stdout",
     "output_type": "stream",
     "text": [
      "Element 0 occurs 12053 times\n",
      "Element 1 occurs 41 times\n",
      "Element 2 occurs 38 times\n",
      "Element 3 occurs 1402 times\n"
     ]
    },
    {
     "name": "stderr",
     "output_type": "stream",
     "text": [
      " 32%|███▎      | 65/200 [07:33<12:13,  5.43s/it]"
     ]
    },
    {
     "name": "stdout",
     "output_type": "stream",
     "text": [
      "Element 0 occurs 13204 times\n"
     ]
    },
    {
     "name": "stderr",
     "output_type": "stream",
     "text": [
      " 33%|███▎      | 66/200 [07:34<09:27,  4.24s/it]"
     ]
    },
    {
     "name": "stdout",
     "output_type": "stream",
     "text": [
      "Element 0 occurs 840 times\n",
      "Element 1 occurs 5 times\n",
      "Element 2 occurs 4 times\n",
      "Element 3 occurs 2599 times\n"
     ]
    },
    {
     "name": "stderr",
     "output_type": "stream",
     "text": [
      " 34%|███▎      | 67/200 [07:42<12:01,  5.43s/it]"
     ]
    },
    {
     "name": "stdout",
     "output_type": "stream",
     "text": [
      "Element 0 occurs 16744 times\n",
      "Element 1 occurs 65 times\n",
      "Element 2 occurs 66 times\n",
      "Element 3 occurs 2941 times\n"
     ]
    },
    {
     "name": "stderr",
     "output_type": "stream",
     "text": [
      " 34%|███▍      | 68/200 [07:49<12:56,  5.89s/it]"
     ]
    },
    {
     "name": "stdout",
     "output_type": "stream",
     "text": [
      "Element 0 occurs 11540 times\n",
      "Element 1 occurs 43 times\n",
      "Element 2 occurs 46 times\n",
      "Element 3 occurs 2025 times\n"
     ]
    },
    {
     "name": "stderr",
     "output_type": "stream",
     "text": [
      " 34%|███▍      | 69/200 [07:57<14:22,  6.59s/it]"
     ]
    },
    {
     "name": "stdout",
     "output_type": "stream",
     "text": [
      "Element 0 occurs 6134 times\n",
      "Element 1 occurs 9 times\n",
      "Element 2 occurs 9 times\n",
      "Element 3 occurs 8360 times\n"
     ]
    },
    {
     "name": "stderr",
     "output_type": "stream",
     "text": [
      " 35%|███▌      | 70/200 [08:03<13:41,  6.32s/it]"
     ]
    },
    {
     "name": "stdout",
     "output_type": "stream",
     "text": [
      "Element 0 occurs 6232 times\n",
      "Element 1 occurs 29 times\n",
      "Element 2 occurs 29 times\n",
      "Element 3 occurs 6806 times\n"
     ]
    },
    {
     "name": "stderr",
     "output_type": "stream",
     "text": [
      " 36%|███▌      | 71/200 [08:09<13:10,  6.13s/it]"
     ]
    },
    {
     "name": "stdout",
     "output_type": "stream",
     "text": [
      "Element 0 occurs 11025 times\n",
      "Element 1 occurs 42 times\n",
      "Element 2 occurs 44 times\n",
      "Element 3 occurs 2363 times\n"
     ]
    },
    {
     "name": "stderr",
     "output_type": "stream",
     "text": [
      " 36%|███▌      | 72/200 [08:14<12:47,  6.00s/it]"
     ]
    },
    {
     "name": "stdout",
     "output_type": "stream",
     "text": [
      "Element 0 occurs 9039 times\n",
      "Element 1 occurs 24 times\n",
      "Element 2 occurs 26 times\n",
      "Element 3 occurs 3845 times\n"
     ]
    },
    {
     "name": "stderr",
     "output_type": "stream",
     "text": [
      " 36%|███▋      | 73/200 [08:20<12:18,  5.81s/it]"
     ]
    },
    {
     "name": "stdout",
     "output_type": "stream",
     "text": [
      "Element 0 occurs 13293 times\n",
      "Element 1 occurs 7 times\n",
      "Element 2 occurs 6 times\n"
     ]
    },
    {
     "name": "stderr",
     "output_type": "stream",
     "text": [
      " 37%|███▋      | 74/200 [08:25<12:00,  5.72s/it]"
     ]
    },
    {
     "name": "stdout",
     "output_type": "stream",
     "text": [
      "Element 0 occurs 11464 times\n",
      "Element 1 occurs 45 times\n",
      "Element 2 occurs 46 times\n",
      "Element 3 occurs 1517 times\n"
     ]
    },
    {
     "name": "stderr",
     "output_type": "stream",
     "text": [
      " 38%|███▊      | 75/200 [08:34<13:36,  6.53s/it]"
     ]
    },
    {
     "name": "stdout",
     "output_type": "stream",
     "text": [
      "Element 0 occurs 14863 times\n",
      "Element 1 occurs 64 times\n",
      "Element 2 occurs 65 times\n",
      "Element 3 occurs 5268 times\n"
     ]
    },
    {
     "name": "stderr",
     "output_type": "stream",
     "text": [
      " 38%|███▊      | 76/200 [08:39<12:56,  6.27s/it]"
     ]
    },
    {
     "name": "stdout",
     "output_type": "stream",
     "text": [
      "Element 0 occurs 12486 times\n",
      "Element 1 occurs 54 times\n",
      "Element 2 occurs 48 times\n",
      "Element 3 occurs 838 times\n"
     ]
    },
    {
     "name": "stderr",
     "output_type": "stream",
     "text": [
      " 38%|███▊      | 77/200 [08:44<11:46,  5.75s/it]"
     ]
    },
    {
     "name": "stdout",
     "output_type": "stream",
     "text": [
      "Element 0 occurs 7879 times\n",
      "Element 1 occurs 24 times\n",
      "Element 2 occurs 24 times\n",
      "Element 3 occurs 3009 times\n"
     ]
    },
    {
     "name": "stderr",
     "output_type": "stream",
     "text": [
      " 39%|███▉      | 78/200 [08:50<11:45,  5.78s/it]"
     ]
    },
    {
     "name": "stdout",
     "output_type": "stream",
     "text": [
      "Element 0 occurs 6965 times\n",
      "Element 3 occurs 7231 times\n",
      "Element 1 occurs 31 times\n",
      "Element 2 occurs 27 times\n"
     ]
    },
    {
     "name": "stderr",
     "output_type": "stream",
     "text": [
      " 40%|███▉      | 79/200 [08:55<11:25,  5.67s/it]"
     ]
    },
    {
     "name": "stdout",
     "output_type": "stream",
     "text": [
      "Element 0 occurs 11340 times\n",
      "Element 3 occurs 1556 times\n",
      "Element 1 occurs 44 times\n",
      "Element 2 occurs 48 times\n"
     ]
    },
    {
     "name": "stderr",
     "output_type": "stream",
     "text": [
      " 40%|████      | 80/200 [08:59<10:17,  5.14s/it]"
     ]
    },
    {
     "name": "stdout",
     "output_type": "stream",
     "text": [
      "Element 0 occurs 9502 times\n",
      "Element 1 occurs 38 times\n",
      "Element 2 occurs 40 times\n"
     ]
    },
    {
     "name": "stderr",
     "output_type": "stream",
     "text": [
      " 40%|████      | 81/200 [09:07<11:36,  5.85s/it]"
     ]
    },
    {
     "name": "stdout",
     "output_type": "stream",
     "text": [
      "Element 0 occurs 16111 times\n",
      "Element 3 occurs 1516 times\n",
      "Element 1 occurs 69 times\n",
      "Element 2 occurs 62 times\n"
     ]
    },
    {
     "name": "stderr",
     "output_type": "stream",
     "text": [
      " 41%|████      | 82/200 [09:12<11:31,  5.86s/it]"
     ]
    },
    {
     "name": "stdout",
     "output_type": "stream",
     "text": [
      "Element 0 occurs 12884 times\n",
      "Element 1 occurs 49 times\n",
      "Element 2 occurs 50 times\n",
      "Element 3 occurs 941 times\n"
     ]
    },
    {
     "name": "stderr",
     "output_type": "stream",
     "text": [
      " 42%|████▏     | 83/200 [09:18<11:09,  5.72s/it]"
     ]
    },
    {
     "name": "stdout",
     "output_type": "stream",
     "text": [
      "Element 0 occurs 11275 times\n",
      "Element 1 occurs 39 times\n",
      "Element 2 occurs 43 times\n",
      "Element 3 occurs 1565 times\n"
     ]
    },
    {
     "name": "stderr",
     "output_type": "stream",
     "text": [
      " 42%|████▏     | 84/200 [09:23<10:50,  5.61s/it]"
     ]
    },
    {
     "name": "stdout",
     "output_type": "stream",
     "text": [
      "Element 0 occurs 11773 times\n",
      "Element 3 occurs 805 times\n",
      "Element 1 occurs 43 times\n",
      "Element 2 occurs 43 times\n"
     ]
    },
    {
     "name": "stderr",
     "output_type": "stream",
     "text": [
      " 42%|████▎     | 85/200 [09:33<13:13,  6.90s/it]"
     ]
    },
    {
     "name": "stdout",
     "output_type": "stream",
     "text": [
      "Element 0 occurs 10443 times\n",
      "Element 3 occurs 13700 times\n",
      "Element 1 occurs 32 times\n",
      "Element 2 occurs 33 times\n"
     ]
    },
    {
     "name": "stderr",
     "output_type": "stream",
     "text": [
      " 43%|████▎     | 86/200 [09:39<12:21,  6.51s/it]"
     ]
    },
    {
     "name": "stdout",
     "output_type": "stream",
     "text": [
      "Element 0 occurs 4126 times\n",
      "Element 1 occurs 15 times\n",
      "Element 2 occurs 16 times\n",
      "Element 3 occurs 9491 times\n"
     ]
    },
    {
     "name": "stderr",
     "output_type": "stream",
     "text": [
      " 44%|████▎     | 87/200 [09:46<12:36,  6.69s/it]"
     ]
    },
    {
     "name": "stdout",
     "output_type": "stream",
     "text": [
      "Element 0 occurs 16312 times\n",
      "Element 1 occurs 66 times\n",
      "Element 2 occurs 67 times\n",
      "Element 3 occurs 815 times\n"
     ]
    },
    {
     "name": "stderr",
     "output_type": "stream",
     "text": [
      " 44%|████▍     | 88/200 [09:52<12:00,  6.43s/it]"
     ]
    },
    {
     "name": "stdout",
     "output_type": "stream",
     "text": [
      "Element 0 occurs 9141 times\n",
      "Element 1 occurs 36 times\n",
      "Element 2 occurs 34 times\n",
      "Element 3 occurs 4797 times\n"
     ]
    },
    {
     "name": "stderr",
     "output_type": "stream",
     "text": [
      " 44%|████▍     | 89/200 [09:57<11:25,  6.18s/it]"
     ]
    },
    {
     "name": "stdout",
     "output_type": "stream",
     "text": [
      "Element 0 occurs 8727 times\n",
      "Element 1 occurs 35 times\n",
      "Element 2 occurs 36 times\n",
      "Element 3 occurs 3830 times\n"
     ]
    },
    {
     "name": "stderr",
     "output_type": "stream",
     "text": [
      " 45%|████▌     | 90/200 [10:03<10:59,  5.99s/it]"
     ]
    },
    {
     "name": "stdout",
     "output_type": "stream",
     "text": [
      "Element 0 occurs 11445 times\n",
      "Element 1 occurs 44 times\n",
      "Element 2 occurs 50 times\n",
      "Element 3 occurs 1815 times\n"
     ]
    },
    {
     "name": "stderr",
     "output_type": "stream",
     "text": [
      " 46%|████▌     | 91/200 [10:09<10:44,  5.91s/it]"
     ]
    },
    {
     "name": "stdout",
     "output_type": "stream",
     "text": [
      "Element 0 occurs 13649 times\n",
      "Element 1 occurs 52 times\n",
      "Element 2 occurs 55 times\n"
     ]
    },
    {
     "name": "stderr",
     "output_type": "stream",
     "text": [
      " 46%|████▌     | 92/200 [10:17<12:11,  6.77s/it]"
     ]
    },
    {
     "name": "stdout",
     "output_type": "stream",
     "text": [
      "Element 0 occurs 13211 times\n",
      "Element 1 occurs 49 times\n",
      "Element 2 occurs 48 times\n",
      "Element 3 occurs 7366 times\n"
     ]
    },
    {
     "name": "stderr",
     "output_type": "stream",
     "text": [
      " 46%|████▋     | 93/200 [10:26<13:00,  7.29s/it]"
     ]
    },
    {
     "name": "stdout",
     "output_type": "stream",
     "text": [
      "Element 0 occurs 17335 times\n",
      "Element 1 occurs 72 times\n",
      "Element 2 occurs 67 times\n",
      "Element 3 occurs 2576 times\n"
     ]
    },
    {
     "name": "stderr",
     "output_type": "stream",
     "text": [
      " 47%|████▋     | 94/200 [10:32<12:03,  6.82s/it]"
     ]
    },
    {
     "name": "stdout",
     "output_type": "stream",
     "text": [
      "Element 0 occurs 13673 times\n",
      "Element 1 occurs 3 times\n",
      "Element 2 occurs 2 times\n"
     ]
    },
    {
     "name": "stderr",
     "output_type": "stream",
     "text": [
      " 48%|████▊     | 95/200 [10:38<11:32,  6.60s/it]"
     ]
    },
    {
     "name": "stdout",
     "output_type": "stream",
     "text": [
      "Element 0 occurs 13491 times\n",
      "Element 1 occurs 50 times\n",
      "Element 2 occurs 53 times\n"
     ]
    },
    {
     "name": "stderr",
     "output_type": "stream",
     "text": [
      " 48%|████▊     | 96/200 [10:43<10:51,  6.26s/it]"
     ]
    },
    {
     "name": "stdout",
     "output_type": "stream",
     "text": [
      "Element 0 occurs 10464 times\n",
      "Element 1 occurs 39 times\n",
      "Element 2 occurs 34 times\n",
      "Element 3 occurs 2397 times\n"
     ]
    },
    {
     "name": "stderr",
     "output_type": "stream",
     "text": [
      " 48%|████▊     | 97/200 [10:49<10:23,  6.05s/it]"
     ]
    },
    {
     "name": "stdout",
     "output_type": "stream",
     "text": [
      "Element 0 occurs 13151 times\n",
      "Element 1 occurs 43 times\n",
      "Element 2 occurs 46 times\n"
     ]
    },
    {
     "name": "stderr",
     "output_type": "stream",
     "text": [
      " 49%|████▉     | 98/200 [10:51<08:10,  4.81s/it]"
     ]
    },
    {
     "name": "stdout",
     "output_type": "stream",
     "text": [
      "Element 0 occurs 1997 times\n",
      "Element 1 occurs 7 times\n",
      "Element 2 occurs 6 times\n",
      "Element 3 occurs 2542 times\n"
     ]
    },
    {
     "name": "stderr",
     "output_type": "stream",
     "text": [
      " 50%|████▉     | 99/200 [10:56<08:10,  4.85s/it]"
     ]
    },
    {
     "name": "stdout",
     "output_type": "stream",
     "text": [
      "Element 0 occurs 8963 times\n",
      "Element 1 occurs 37 times\n",
      "Element 2 occurs 37 times\n",
      "Element 3 occurs 2925 times\n"
     ]
    },
    {
     "name": "stderr",
     "output_type": "stream",
     "text": [
      " 50%|█████     | 100/200 [11:01<08:19,  4.99s/it]"
     ]
    },
    {
     "name": "stdout",
     "output_type": "stream",
     "text": [
      "Element 0 occurs 12006 times\n",
      "Element 1 occurs 49 times\n",
      "Element 2 occurs 46 times\n",
      "Element 3 occurs 893 times\n"
     ]
    },
    {
     "name": "stderr",
     "output_type": "stream",
     "text": [
      " 50%|█████     | 101/200 [11:06<08:30,  5.16s/it]"
     ]
    },
    {
     "name": "stdout",
     "output_type": "stream",
     "text": [
      "Element 0 occurs 13378 times\n",
      "Element 1 occurs 48 times\n",
      "Element 2 occurs 48 times\n"
     ]
    },
    {
     "name": "stderr",
     "output_type": "stream",
     "text": [
      " 51%|█████     | 102/200 [11:15<09:56,  6.09s/it]"
     ]
    },
    {
     "name": "stdout",
     "output_type": "stream",
     "text": [
      "Element 0 occurs 17603 times\n",
      "Element 1 occurs 73 times\n",
      "Element 2 occurs 72 times\n",
      "Element 3 occurs 1768 times\n"
     ]
    },
    {
     "name": "stderr",
     "output_type": "stream",
     "text": [
      " 52%|█████▏    | 103/200 [11:23<10:54,  6.75s/it]"
     ]
    },
    {
     "name": "stdout",
     "output_type": "stream",
     "text": [
      "Element 0 occurs 18809 times\n",
      "Element 1 occurs 69 times\n",
      "Element 2 occurs 72 times\n",
      "Element 3 occurs 884 times\n"
     ]
    },
    {
     "name": "stderr",
     "output_type": "stream",
     "text": [
      " 52%|█████▏    | 104/200 [11:29<10:25,  6.52s/it]"
     ]
    },
    {
     "name": "stdout",
     "output_type": "stream",
     "text": [
      "Element 0 occurs 10987 times\n",
      "Element 3 occurs 3505 times\n",
      "Element 1 occurs 26 times\n",
      "Element 2 occurs 24 times\n"
     ]
    },
    {
     "name": "stderr",
     "output_type": "stream",
     "text": [
      " 52%|█████▎    | 105/200 [11:31<07:59,  5.05s/it]"
     ]
    },
    {
     "name": "stdout",
     "output_type": "stream",
     "text": [
      "Element 0 occurs 2865 times\n",
      "Element 1 occurs 6 times\n",
      "Element 2 occurs 8 times\n",
      "Element 3 occurs 917 times\n"
     ]
    },
    {
     "name": "stderr",
     "output_type": "stream",
     "text": [
      " 53%|█████▎    | 106/200 [11:37<08:21,  5.34s/it]"
     ]
    },
    {
     "name": "stdout",
     "output_type": "stream",
     "text": [
      "Element 0 occurs 12591 times\n",
      "Element 1 occurs 25 times\n",
      "Element 2 occurs 27 times\n",
      "Element 3 occurs 1683 times\n"
     ]
    },
    {
     "name": "stderr",
     "output_type": "stream",
     "text": [
      " 54%|█████▎    | 107/200 [11:45<09:29,  6.13s/it]"
     ]
    },
    {
     "name": "stdout",
     "output_type": "stream",
     "text": [
      "Element 0 occurs 17815 times\n",
      "Element 1 occurs 70 times\n",
      "Element 2 occurs 68 times\n",
      "Element 3 occurs 951 times\n"
     ]
    },
    {
     "name": "stderr",
     "output_type": "stream",
     "text": [
      " 54%|█████▍    | 108/200 [11:50<09:04,  5.92s/it]"
     ]
    },
    {
     "name": "stdout",
     "output_type": "stream",
     "text": [
      "Element 0 occurs 12809 times\n",
      "Element 1 occurs 51 times\n",
      "Element 2 occurs 50 times\n"
     ]
    },
    {
     "name": "stderr",
     "output_type": "stream",
     "text": [
      " 55%|█████▍    | 109/200 [11:55<08:40,  5.72s/it]"
     ]
    },
    {
     "name": "stdout",
     "output_type": "stream",
     "text": [
      "Element 0 occurs 12446 times\n",
      "Element 1 occurs 50 times\n",
      "Element 2 occurs 48 times\n"
     ]
    },
    {
     "name": "stderr",
     "output_type": "stream",
     "text": [
      " 55%|█████▌    | 110/200 [12:05<10:15,  6.84s/it]"
     ]
    },
    {
     "name": "stdout",
     "output_type": "stream",
     "text": [
      "Element 0 occurs 20527 times\n",
      "Element 1 occurs 61 times\n",
      "Element 2 occurs 54 times\n",
      "Element 3 occurs 1994 times\n"
     ]
    },
    {
     "name": "stderr",
     "output_type": "stream",
     "text": [
      " 56%|█████▌    | 111/200 [12:13<10:46,  7.26s/it]"
     ]
    },
    {
     "name": "stdout",
     "output_type": "stream",
     "text": [
      "Element 0 occurs 8916 times\n",
      "Element 1 occurs 36 times\n",
      "Element 2 occurs 37 times\n",
      "Element 3 occurs 11115 times\n"
     ]
    },
    {
     "name": "stderr",
     "output_type": "stream",
     "text": [
      " 56%|█████▌    | 112/200 [12:19<09:58,  6.80s/it]"
     ]
    },
    {
     "name": "stdout",
     "output_type": "stream",
     "text": [
      "Element 0 occurs 7036 times\n",
      "Element 1 occurs 35 times\n",
      "Element 2 occurs 32 times\n",
      "Element 3 occurs 6647 times\n"
     ]
    },
    {
     "name": "stderr",
     "output_type": "stream",
     "text": [
      " 56%|█████▋    | 113/200 [12:29<11:25,  7.87s/it]"
     ]
    },
    {
     "name": "stdout",
     "output_type": "stream",
     "text": [
      "Element 0 occurs 15933 times\n",
      "Element 1 occurs 69 times\n",
      "Element 2 occurs 65 times\n",
      "Element 3 occurs 9239 times\n"
     ]
    },
    {
     "name": "stderr",
     "output_type": "stream",
     "text": [
      " 57%|█████▋    | 114/200 [12:39<12:06,  8.44s/it]"
     ]
    },
    {
     "name": "stdout",
     "output_type": "stream",
     "text": [
      "Element 0 occurs 18639 times\n",
      "Element 1 occurs 75 times\n",
      "Element 2 occurs 71 times\n",
      "Element 3 occurs 4139 times\n"
     ]
    },
    {
     "name": "stderr",
     "output_type": "stream",
     "text": [
      " 57%|█████▊    | 115/200 [12:45<10:50,  7.65s/it]"
     ]
    },
    {
     "name": "stdout",
     "output_type": "stream",
     "text": [
      "Element 0 occurs 14105 times\n",
      "Element 1 occurs 51 times\n",
      "Element 2 occurs 50 times\n"
     ]
    },
    {
     "name": "stderr",
     "output_type": "stream",
     "text": [
      " 58%|█████▊    | 116/200 [12:50<09:54,  7.07s/it]"
     ]
    },
    {
     "name": "stdout",
     "output_type": "stream",
     "text": [
      "Element 0 occurs 6534 times\n",
      "Element 1 occurs 32 times\n",
      "Element 2 occurs 32 times\n",
      "Element 3 occurs 7116 times\n"
     ]
    },
    {
     "name": "stderr",
     "output_type": "stream",
     "text": [
      " 58%|█████▊    | 117/200 [12:56<09:11,  6.64s/it]"
     ]
    },
    {
     "name": "stdout",
     "output_type": "stream",
     "text": [
      "Element 0 occurs 10957 times\n",
      "Element 1 occurs 13 times\n",
      "Element 2 occurs 11 times\n",
      "Element 3 occurs 2049 times\n"
     ]
    },
    {
     "name": "stderr",
     "output_type": "stream",
     "text": [
      " 59%|█████▉    | 118/200 [13:01<08:36,  6.29s/it]"
     ]
    },
    {
     "name": "stdout",
     "output_type": "stream",
     "text": [
      "Element 0 occurs 8966 times\n",
      "Element 1 occurs 35 times\n",
      "Element 2 occurs 32 times\n",
      "Element 3 occurs 4045 times\n"
     ]
    },
    {
     "name": "stderr",
     "output_type": "stream",
     "text": [
      " 60%|█████▉    | 119/200 [13:07<08:07,  6.02s/it]"
     ]
    },
    {
     "name": "stdout",
     "output_type": "stream",
     "text": [
      "Element 0 occurs 12932 times\n",
      "Element 1 occurs 49 times\n",
      "Element 2 occurs 49 times\n"
     ]
    },
    {
     "name": "stderr",
     "output_type": "stream",
     "text": [
      " 60%|██████    | 120/200 [13:15<08:41,  6.52s/it]"
     ]
    },
    {
     "name": "stdout",
     "output_type": "stream",
     "text": [
      "Element 0 occurs 18414 times\n",
      "Element 1 occurs 65 times\n",
      "Element 2 occurs 65 times\n"
     ]
    },
    {
     "name": "stderr",
     "output_type": "stream",
     "text": [
      " 60%|██████    | 121/200 [13:20<08:14,  6.26s/it]"
     ]
    },
    {
     "name": "stdout",
     "output_type": "stream",
     "text": [
      "Element 0 occurs 9920 times\n",
      "Element 1 occurs 10 times\n",
      "Element 2 occurs 10 times\n",
      "Element 3 occurs 3828 times\n"
     ]
    },
    {
     "name": "stderr",
     "output_type": "stream",
     "text": [
      " 61%|██████    | 122/200 [13:26<07:53,  6.07s/it]"
     ]
    },
    {
     "name": "stdout",
     "output_type": "stream",
     "text": [
      "Element 0 occurs 11752 times\n",
      "Element 3 occurs 1833 times\n",
      "Element 1 occurs 5 times\n",
      "Element 2 occurs 4 times\n"
     ]
    },
    {
     "name": "stderr",
     "output_type": "stream",
     "text": [
      " 62%|██████▏   | 123/200 [13:31<07:35,  5.92s/it]"
     ]
    },
    {
     "name": "stdout",
     "output_type": "stream",
     "text": [
      "Element 0 occurs 12385 times\n",
      "Element 1 occurs 50 times\n",
      "Element 2 occurs 49 times\n",
      "Element 3 occurs 870 times\n"
     ]
    },
    {
     "name": "stderr",
     "output_type": "stream",
     "text": [
      " 62%|██████▏   | 124/200 [13:36<07:11,  5.67s/it]"
     ]
    },
    {
     "name": "stdout",
     "output_type": "stream",
     "text": [
      "Element 0 occurs 12265 times\n",
      "Element 1 occurs 47 times\n",
      "Element 2 occurs 46 times\n"
     ]
    },
    {
     "name": "stderr",
     "output_type": "stream",
     "text": [
      " 62%|██████▎   | 125/200 [13:42<07:06,  5.69s/it]"
     ]
    },
    {
     "name": "stdout",
     "output_type": "stream",
     "text": [
      "Element 0 occurs 13659 times\n",
      "Element 1 occurs 52 times\n",
      "Element 2 occurs 51 times\n"
     ]
    },
    {
     "name": "stderr",
     "output_type": "stream",
     "text": [
      " 63%|██████▎   | 126/200 [13:50<07:43,  6.26s/it]"
     ]
    },
    {
     "name": "stdout",
     "output_type": "stream",
     "text": [
      "Element 0 occurs 6661 times\n",
      "Element 1 occurs 30 times\n",
      "Element 2 occurs 31 times\n",
      "Element 3 occurs 11732 times\n"
     ]
    },
    {
     "name": "stderr",
     "output_type": "stream",
     "text": [
      " 64%|██████▎   | 127/200 [13:56<07:26,  6.12s/it]"
     ]
    },
    {
     "name": "stdout",
     "output_type": "stream",
     "text": [
      "Element 0 occurs 13496 times\n",
      "Element 1 occurs 51 times\n",
      "Element 2 occurs 53 times\n"
     ]
    },
    {
     "name": "stderr",
     "output_type": "stream",
     "text": [
      " 64%|██████▍   | 128/200 [14:18<13:20, 11.11s/it]"
     ]
    },
    {
     "name": "stdout",
     "output_type": "stream",
     "text": [
      "Element 0 occurs 47741 times\n",
      "Element 1 occurs 27 times\n",
      "Element 2 occurs 26 times\n"
     ]
    },
    {
     "name": "stderr",
     "output_type": "stream",
     "text": [
      " 64%|██████▍   | 129/200 [14:24<11:17,  9.54s/it]"
     ]
    },
    {
     "name": "stdout",
     "output_type": "stream",
     "text": [
      "Element 0 occurs 7553 times\n",
      "Element 1 occurs 37 times\n",
      "Element 2 occurs 36 times\n",
      "Element 3 occurs 5944 times\n"
     ]
    },
    {
     "name": "stderr",
     "output_type": "stream",
     "text": [
      " 65%|██████▌   | 130/200 [14:31<10:14,  8.78s/it]"
     ]
    },
    {
     "name": "stdout",
     "output_type": "stream",
     "text": [
      "Element 0 occurs 11974 times\n",
      "Element 1 occurs 47 times\n",
      "Element 2 occurs 48 times\n",
      "Element 3 occurs 937 times\n"
     ]
    },
    {
     "name": "stderr",
     "output_type": "stream",
     "text": [
      " 66%|██████▌   | 131/200 [14:38<09:17,  8.08s/it]"
     ]
    },
    {
     "name": "stdout",
     "output_type": "stream",
     "text": [
      "Element 0 occurs 10392 times\n",
      "Element 1 occurs 41 times\n",
      "Element 2 occurs 48 times\n",
      "Element 3 occurs 2363 times\n"
     ]
    },
    {
     "name": "stderr",
     "output_type": "stream",
     "text": [
      " 66%|██████▌   | 132/200 [14:44<08:35,  7.58s/it]"
     ]
    },
    {
     "name": "stdout",
     "output_type": "stream",
     "text": [
      "Element 0 occurs 13802 times\n",
      "Element 1 occurs 52 times\n",
      "Element 2 occurs 52 times\n"
     ]
    },
    {
     "name": "stderr",
     "output_type": "stream",
     "text": [
      " 66%|██████▋   | 133/200 [14:49<07:37,  6.83s/it]"
     ]
    },
    {
     "name": "stdout",
     "output_type": "stream",
     "text": [
      "Element 0 occurs 11282 times\n",
      "Element 1 occurs 47 times\n",
      "Element 2 occurs 44 times\n",
      "Element 3 occurs 1447 times\n"
     ]
    },
    {
     "name": "stderr",
     "output_type": "stream",
     "text": [
      " 67%|██████▋   | 134/200 [14:52<06:08,  5.59s/it]"
     ]
    },
    {
     "name": "stdout",
     "output_type": "stream",
     "text": [
      "Element 0 occurs 4374 times\n",
      "Element 1 occurs 18 times\n",
      "Element 2 occurs 18 times\n",
      "Element 3 occurs 2380 times\n"
     ]
    },
    {
     "name": "stderr",
     "output_type": "stream",
     "text": [
      " 68%|██████▊   | 135/200 [14:57<05:57,  5.49s/it]"
     ]
    },
    {
     "name": "stdout",
     "output_type": "stream",
     "text": [
      "Element 0 occurs 11367 times\n",
      "Element 1 occurs 47 times\n",
      "Element 2 occurs 48 times\n",
      "Element 3 occurs 1682 times\n"
     ]
    },
    {
     "name": "stderr",
     "output_type": "stream",
     "text": [
      " 68%|██████▊   | 136/200 [15:06<06:57,  6.52s/it]"
     ]
    },
    {
     "name": "stdout",
     "output_type": "stream",
     "text": [
      "Element 0 occurs 14348 times\n",
      "Element 1 occurs 7 times\n",
      "Element 2 occurs 6 times\n",
      "Element 3 occurs 8125 times\n"
     ]
    },
    {
     "name": "stderr",
     "output_type": "stream",
     "text": [
      " 68%|██████▊   | 137/200 [15:11<06:19,  6.02s/it]"
     ]
    },
    {
     "name": "stdout",
     "output_type": "stream",
     "text": [
      "Element 0 occurs 9985 times\n",
      "Element 1 occurs 28 times\n",
      "Element 2 occurs 29 times\n",
      "Element 3 occurs 2316 times\n"
     ]
    },
    {
     "name": "stderr",
     "output_type": "stream",
     "text": [
      " 69%|██████▉   | 138/200 [15:16<05:51,  5.67s/it]"
     ]
    },
    {
     "name": "stdout",
     "output_type": "stream",
     "text": [
      "Element 0 occurs 11323 times\n",
      "Element 1 occurs 44 times\n",
      "Element 2 occurs 47 times\n",
      "Element 3 occurs 884 times\n"
     ]
    },
    {
     "name": "stderr",
     "output_type": "stream",
     "text": [
      " 70%|██████▉   | 139/200 [15:25<06:43,  6.62s/it]"
     ]
    },
    {
     "name": "stdout",
     "output_type": "stream",
     "text": [
      "Element 0 occurs 22837 times\n",
      "Element 1 occurs 17 times\n",
      "Element 2 occurs 16 times\n"
     ]
    },
    {
     "name": "stderr",
     "output_type": "stream",
     "text": [
      " 70%|███████   | 140/200 [15:30<06:20,  6.34s/it]"
     ]
    },
    {
     "name": "stdout",
     "output_type": "stream",
     "text": [
      "Element 0 occurs 14194 times\n",
      "Element 1 occurs 58 times\n",
      "Element 2 occurs 56 times\n"
     ]
    },
    {
     "name": "stderr",
     "output_type": "stream",
     "text": [
      " 70%|███████   | 141/200 [15:36<05:57,  6.05s/it]"
     ]
    },
    {
     "name": "stdout",
     "output_type": "stream",
     "text": [
      "Element 0 occurs 13984 times\n"
     ]
    },
    {
     "name": "stderr",
     "output_type": "stream",
     "text": [
      " 71%|███████   | 142/200 [15:44<06:27,  6.68s/it]"
     ]
    },
    {
     "name": "stdout",
     "output_type": "stream",
     "text": [
      "Element 0 occurs 17676 times\n",
      "Element 1 occurs 61 times\n",
      "Element 2 occurs 61 times\n",
      "Element 3 occurs 2762 times\n"
     ]
    },
    {
     "name": "stderr",
     "output_type": "stream",
     "text": [
      " 72%|███████▏  | 143/200 [15:50<06:14,  6.57s/it]"
     ]
    },
    {
     "name": "stdout",
     "output_type": "stream",
     "text": [
      "Element 0 occurs 13448 times\n",
      "Element 1 occurs 48 times\n",
      "Element 2 occurs 50 times\n"
     ]
    },
    {
     "name": "stderr",
     "output_type": "stream",
     "text": [
      " 72%|███████▏  | 144/200 [16:00<07:04,  7.57s/it]"
     ]
    },
    {
     "name": "stdout",
     "output_type": "stream",
     "text": [
      "Element 0 occurs 19334 times\n",
      "Element 1 occurs 58 times\n",
      "Element 2 occurs 57 times\n",
      "Element 3 occurs 901 times\n"
     ]
    },
    {
     "name": "stderr",
     "output_type": "stream",
     "text": [
      " 72%|███████▎  | 145/200 [16:10<07:35,  8.28s/it]"
     ]
    },
    {
     "name": "stdout",
     "output_type": "stream",
     "text": [
      "Element 0 occurs 19266 times\n",
      "Element 1 occurs 21 times\n",
      "Element 2 occurs 19 times\n",
      "Element 3 occurs 1476 times\n"
     ]
    },
    {
     "name": "stderr",
     "output_type": "stream",
     "text": [
      " 73%|███████▎  | 146/200 [16:16<06:52,  7.64s/it]"
     ]
    },
    {
     "name": "stdout",
     "output_type": "stream",
     "text": [
      "Element 0 occurs 13952 times\n",
      "Element 1 occurs 27 times\n",
      "Element 2 occurs 29 times\n"
     ]
    },
    {
     "name": "stderr",
     "output_type": "stream",
     "text": [
      " 74%|███████▎  | 147/200 [16:22<06:15,  7.09s/it]"
     ]
    },
    {
     "name": "stdout",
     "output_type": "stream",
     "text": [
      "Element 0 occurs 13410 times\n",
      "Element 1 occurs 53 times\n",
      "Element 2 occurs 53 times\n"
     ]
    },
    {
     "name": "stderr",
     "output_type": "stream",
     "text": [
      " 74%|███████▍  | 148/200 [16:31<06:36,  7.63s/it]"
     ]
    },
    {
     "name": "stdout",
     "output_type": "stream",
     "text": [
      "Element 0 occurs 17814 times\n",
      "Element 3 occurs 2286 times\n",
      "Element 1 occurs 27 times\n",
      "Element 2 occurs 25 times\n"
     ]
    },
    {
     "name": "stderr",
     "output_type": "stream",
     "text": [
      " 74%|███████▍  | 149/200 [16:36<05:55,  6.98s/it]"
     ]
    },
    {
     "name": "stdout",
     "output_type": "stream",
     "text": [
      "Element 0 occurs 12815 times\n",
      "Element 1 occurs 50 times\n",
      "Element 2 occurs 51 times\n"
     ]
    },
    {
     "name": "stderr",
     "output_type": "stream",
     "text": [
      " 75%|███████▌  | 150/200 [16:41<05:20,  6.41s/it]"
     ]
    },
    {
     "name": "stdout",
     "output_type": "stream",
     "text": [
      "Element 0 occurs 6802 times\n",
      "Element 3 occurs 6026 times\n",
      "Element 1 occurs 28 times\n",
      "Element 2 occurs 24 times\n"
     ]
    },
    {
     "name": "stderr",
     "output_type": "stream",
     "text": [
      " 76%|███████▌  | 151/200 [16:51<05:58,  7.32s/it]"
     ]
    },
    {
     "name": "stdout",
     "output_type": "stream",
     "text": [
      "Element 0 occurs 16081 times\n",
      "Element 1 occurs 42 times\n",
      "Element 2 occurs 44 times\n",
      "Element 3 occurs 6151 times\n"
     ]
    },
    {
     "name": "stderr",
     "output_type": "stream",
     "text": [
      " 76%|███████▌  | 152/200 [16:57<05:31,  6.91s/it]"
     ]
    },
    {
     "name": "stdout",
     "output_type": "stream",
     "text": [
      "Element 0 occurs 13760 times\n",
      "Element 1 occurs 50 times\n",
      "Element 2 occurs 54 times\n"
     ]
    },
    {
     "name": "stderr",
     "output_type": "stream",
     "text": [
      " 76%|███████▋  | 153/200 [17:02<05:03,  6.47s/it]"
     ]
    },
    {
     "name": "stdout",
     "output_type": "stream",
     "text": [
      "Element 0 occurs 11280 times\n",
      "Element 1 occurs 10 times\n",
      "Element 2 occurs 8 times\n",
      "Element 3 occurs 1762 times\n"
     ]
    },
    {
     "name": "stderr",
     "output_type": "stream",
     "text": [
      " 77%|███████▋  | 154/200 [17:07<04:39,  6.07s/it]"
     ]
    },
    {
     "name": "stdout",
     "output_type": "stream",
     "text": [
      "Element 0 occurs 11767 times\n",
      "Element 1 occurs 42 times\n",
      "Element 2 occurs 46 times\n",
      "Element 3 occurs 887 times\n"
     ]
    },
    {
     "name": "stderr",
     "output_type": "stream",
     "text": [
      " 78%|███████▊  | 155/200 [17:14<04:36,  6.14s/it]"
     ]
    },
    {
     "name": "stdout",
     "output_type": "stream",
     "text": [
      "Element 0 occurs 13708 times\n",
      "Element 1 occurs 52 times\n",
      "Element 2 occurs 56 times\n"
     ]
    },
    {
     "name": "stderr",
     "output_type": "stream",
     "text": [
      " 78%|███████▊  | 156/200 [17:20<04:34,  6.25s/it]"
     ]
    },
    {
     "name": "stdout",
     "output_type": "stream",
     "text": [
      "Element 0 occurs 8948 times\n",
      "Element 1 occurs 39 times\n",
      "Element 2 occurs 39 times\n",
      "Element 3 occurs 5216 times\n"
     ]
    },
    {
     "name": "stderr",
     "output_type": "stream",
     "text": [
      " 78%|███████▊  | 157/200 [17:27<04:33,  6.36s/it]"
     ]
    },
    {
     "name": "stdout",
     "output_type": "stream",
     "text": [
      "Element 0 occurs 13445 times\n",
      "Element 1 occurs 53 times\n",
      "Element 2 occurs 48 times\n"
     ]
    },
    {
     "name": "stderr",
     "output_type": "stream",
     "text": [
      " 79%|███████▉  | 158/200 [17:30<03:51,  5.51s/it]"
     ]
    },
    {
     "name": "stdout",
     "output_type": "stream",
     "text": [
      "Element 0 occurs 5220 times\n",
      "Element 1 occurs 22 times\n",
      "Element 2 occurs 20 times\n",
      "Element 3 occurs 1432 times\n"
     ]
    },
    {
     "name": "stderr",
     "output_type": "stream",
     "text": [
      " 80%|███████▉  | 159/200 [17:39<04:24,  6.45s/it]"
     ]
    },
    {
     "name": "stdout",
     "output_type": "stream",
     "text": [
      "Element 0 occurs 17830 times\n",
      "Element 1 occurs 60 times\n",
      "Element 2 occurs 60 times\n",
      "Element 3 occurs 2628 times\n"
     ]
    },
    {
     "name": "stderr",
     "output_type": "stream",
     "text": [
      " 80%|████████  | 160/200 [17:42<03:32,  5.32s/it]"
     ]
    },
    {
     "name": "stdout",
     "output_type": "stream",
     "text": [
      "Element 0 occurs 6485 times\n",
      "Element 1 occurs 20 times\n",
      "Element 2 occurs 21 times\n"
     ]
    },
    {
     "name": "stderr",
     "output_type": "stream",
     "text": [
      " 80%|████████  | 161/200 [17:47<03:29,  5.37s/it]"
     ]
    },
    {
     "name": "stdout",
     "output_type": "stream",
     "text": [
      "Element 0 occurs 9077 times\n",
      "Element 1 occurs 38 times\n",
      "Element 2 occurs 41 times\n",
      "Element 3 occurs 3754 times\n"
     ]
    },
    {
     "name": "stderr",
     "output_type": "stream",
     "text": [
      " 81%|████████  | 162/200 [17:52<03:21,  5.29s/it]"
     ]
    },
    {
     "name": "stdout",
     "output_type": "stream",
     "text": [
      "Element 0 occurs 10599 times\n",
      "Element 1 occurs 41 times\n",
      "Element 2 occurs 39 times\n",
      "Element 3 occurs 1889 times\n"
     ]
    },
    {
     "name": "stderr",
     "output_type": "stream",
     "text": [
      " 82%|████████▏ | 163/200 [17:58<03:21,  5.43s/it]"
     ]
    },
    {
     "name": "stdout",
     "output_type": "stream",
     "text": [
      "Element 0 occurs 13700 times\n",
      "Element 1 occurs 46 times\n",
      "Element 2 occurs 46 times\n"
     ]
    },
    {
     "name": "stderr",
     "output_type": "stream",
     "text": [
      " 82%|████████▏ | 164/200 [18:03<03:14,  5.40s/it]"
     ]
    },
    {
     "name": "stdout",
     "output_type": "stream",
     "text": [
      "Element 0 occurs 12895 times\n",
      "Element 1 occurs 51 times\n",
      "Element 2 occurs 48 times\n"
     ]
    },
    {
     "name": "stderr",
     "output_type": "stream",
     "text": [
      " 82%|████████▎ | 165/200 [18:09<03:09,  5.41s/it]"
     ]
    },
    {
     "name": "stdout",
     "output_type": "stream",
     "text": [
      "Element 0 occurs 10711 times\n",
      "Element 1 occurs 39 times\n",
      "Element 2 occurs 41 times\n",
      "Element 3 occurs 2071 times\n"
     ]
    },
    {
     "name": "stderr",
     "output_type": "stream",
     "text": [
      " 83%|████████▎ | 166/200 [18:14<03:02,  5.36s/it]"
     ]
    },
    {
     "name": "stdout",
     "output_type": "stream",
     "text": [
      "Element 0 occurs 5494 times\n",
      "Element 3 occurs 7708 times\n",
      "Element 1 occurs 19 times\n",
      "Element 2 occurs 19 times\n"
     ]
    },
    {
     "name": "stderr",
     "output_type": "stream",
     "text": [
      " 84%|████████▎ | 167/200 [18:19<02:56,  5.35s/it]"
     ]
    },
    {
     "name": "stdout",
     "output_type": "stream",
     "text": [
      "Element 0 occurs 8455 times\n",
      "Element 1 occurs 26 times\n",
      "Element 2 occurs 28 times\n",
      "Element 3 occurs 5025 times\n"
     ]
    },
    {
     "name": "stderr",
     "output_type": "stream",
     "text": [
      " 84%|████████▍ | 168/200 [18:25<02:54,  5.47s/it]"
     ]
    },
    {
     "name": "stdout",
     "output_type": "stream",
     "text": [
      "Element 0 occurs 13326 times\n",
      "Element 1 occurs 2 times\n",
      "Element 2 occurs 2 times\n"
     ]
    },
    {
     "name": "stderr",
     "output_type": "stream",
     "text": [
      " 84%|████████▍ | 169/200 [18:32<03:02,  5.90s/it]"
     ]
    },
    {
     "name": "stdout",
     "output_type": "stream",
     "text": [
      "Element 0 occurs 13882 times\n"
     ]
    },
    {
     "name": "stderr",
     "output_type": "stream",
     "text": [
      " 85%|████████▌ | 170/200 [18:38<02:59,  5.97s/it]"
     ]
    },
    {
     "name": "stdout",
     "output_type": "stream",
     "text": [
      "Element 0 occurs 12035 times\n",
      "Element 1 occurs 45 times\n",
      "Element 2 occurs 48 times\n",
      "Element 3 occurs 1670 times\n"
     ]
    },
    {
     "name": "stderr",
     "output_type": "stream",
     "text": [
      " 86%|████████▌ | 171/200 [18:46<03:14,  6.70s/it]"
     ]
    },
    {
     "name": "stdout",
     "output_type": "stream",
     "text": [
      "Element 0 occurs 20087 times\n",
      "Element 1 occurs 29 times\n",
      "Element 2 occurs 30 times\n"
     ]
    },
    {
     "name": "stderr",
     "output_type": "stream",
     "text": [
      " 86%|████████▌ | 172/200 [18:52<03:00,  6.46s/it]"
     ]
    },
    {
     "name": "stdout",
     "output_type": "stream",
     "text": [
      "Element 0 occurs 9891 times\n",
      "Element 1 occurs 43 times\n",
      "Element 2 occurs 43 times\n",
      "Element 3 occurs 3923 times\n"
     ]
    },
    {
     "name": "stderr",
     "output_type": "stream",
     "text": [
      " 86%|████████▋ | 173/200 [18:58<02:46,  6.18s/it]"
     ]
    },
    {
     "name": "stdout",
     "output_type": "stream",
     "text": [
      "Element 0 occurs 12761 times\n",
      "Element 1 occurs 48 times\n",
      "Element 2 occurs 48 times\n",
      "Element 3 occurs 905 times\n"
     ]
    },
    {
     "name": "stderr",
     "output_type": "stream",
     "text": [
      " 87%|████████▋ | 174/200 [19:01<02:15,  5.23s/it]"
     ]
    },
    {
     "name": "stdout",
     "output_type": "stream",
     "text": [
      "Element 0 occurs 6412 times\n",
      "Element 1 occurs 6 times\n",
      "Element 2 occurs 6 times\n"
     ]
    },
    {
     "name": "stderr",
     "output_type": "stream",
     "text": [
      " 88%|████████▊ | 175/200 [19:10<02:40,  6.44s/it]"
     ]
    },
    {
     "name": "stdout",
     "output_type": "stream",
     "text": [
      "Element 0 occurs 20999 times\n",
      "Element 1 occurs 77 times\n",
      "Element 2 occurs 78 times\n"
     ]
    },
    {
     "name": "stderr",
     "output_type": "stream",
     "text": [
      " 88%|████████▊ | 176/200 [19:13<02:07,  5.30s/it]"
     ]
    },
    {
     "name": "stdout",
     "output_type": "stream",
     "text": [
      "Element 0 occurs 5128 times\n",
      "Element 1 occurs 22 times\n",
      "Element 2 occurs 20 times\n"
     ]
    },
    {
     "name": "stderr",
     "output_type": "stream",
     "text": [
      " 88%|████████▊ | 177/200 [19:18<02:03,  5.37s/it]"
     ]
    },
    {
     "name": "stdout",
     "output_type": "stream",
     "text": [
      "Element 0 occurs 8534 times\n",
      "Element 1 occurs 37 times\n",
      "Element 2 occurs 35 times\n",
      "Element 3 occurs 4706 times\n"
     ]
    },
    {
     "name": "stderr",
     "output_type": "stream",
     "text": [
      " 89%|████████▉ | 178/200 [19:25<02:04,  5.67s/it]"
     ]
    },
    {
     "name": "stdout",
     "output_type": "stream",
     "text": [
      "Element 0 occurs 10055 times\n",
      "Element 1 occurs 42 times\n",
      "Element 2 occurs 43 times\n",
      "Element 3 occurs 5980 times\n"
     ]
    },
    {
     "name": "stderr",
     "output_type": "stream",
     "text": [
      " 90%|████████▉ | 179/200 [19:30<01:54,  5.46s/it]"
     ]
    },
    {
     "name": "stdout",
     "output_type": "stream",
     "text": [
      "Element 0 occurs 11334 times\n",
      "Element 1 occurs 2 times\n",
      "Element 2 occurs 2 times\n"
     ]
    },
    {
     "name": "stderr",
     "output_type": "stream",
     "text": [
      " 90%|█████████ | 180/200 [19:35<01:48,  5.43s/it]"
     ]
    },
    {
     "name": "stdout",
     "output_type": "stream",
     "text": [
      "Element 0 occurs 13623 times\n",
      "Element 1 occurs 52 times\n",
      "Element 2 occurs 51 times\n"
     ]
    },
    {
     "name": "stderr",
     "output_type": "stream",
     "text": [
      " 90%|█████████ | 181/200 [19:42<01:50,  5.79s/it]"
     ]
    },
    {
     "name": "stdout",
     "output_type": "stream",
     "text": [
      "Element 0 occurs 16673 times\n",
      "Element 1 occurs 59 times\n",
      "Element 2 occurs 54 times\n"
     ]
    },
    {
     "name": "stderr",
     "output_type": "stream",
     "text": [
      " 91%|█████████ | 182/200 [19:47<01:43,  5.76s/it]"
     ]
    },
    {
     "name": "stdout",
     "output_type": "stream",
     "text": [
      "Element 0 occurs 13290 times\n",
      "Element 1 occurs 50 times\n",
      "Element 2 occurs 56 times\n"
     ]
    },
    {
     "name": "stderr",
     "output_type": "stream",
     "text": [
      " 92%|█████████▏| 183/200 [19:53<01:36,  5.68s/it]"
     ]
    },
    {
     "name": "stdout",
     "output_type": "stream",
     "text": [
      "Element 0 occurs 12885 times\n",
      "Element 1 occurs 46 times\n",
      "Element 2 occurs 51 times\n",
      "Element 3 occurs 834 times\n"
     ]
    },
    {
     "name": "stderr",
     "output_type": "stream",
     "text": [
      " 92%|█████████▏| 184/200 [20:00<01:36,  6.06s/it]"
     ]
    },
    {
     "name": "stdout",
     "output_type": "stream",
     "text": [
      "Element 0 occurs 13176 times\n",
      "Element 1 occurs 27 times\n",
      "Element 2 occurs 30 times\n",
      "Element 3 occurs 1789 times\n"
     ]
    },
    {
     "name": "stderr",
     "output_type": "stream",
     "text": [
      " 92%|█████████▎| 185/200 [20:12<01:56,  7.79s/it]"
     ]
    },
    {
     "name": "stdout",
     "output_type": "stream",
     "text": [
      "Element 0 occurs 22990 times\n",
      "Element 1 occurs 51 times\n",
      "Element 2 occurs 57 times\n",
      "Element 3 occurs 948 times\n"
     ]
    },
    {
     "name": "stderr",
     "output_type": "stream",
     "text": [
      " 93%|█████████▎| 186/200 [20:17<01:39,  7.12s/it]"
     ]
    },
    {
     "name": "stdout",
     "output_type": "stream",
     "text": [
      "Element 0 occurs 7334 times\n",
      "Element 1 occurs 33 times\n",
      "Element 2 occurs 40 times\n",
      "Element 3 occurs 5635 times\n"
     ]
    },
    {
     "name": "stderr",
     "output_type": "stream",
     "text": [
      " 94%|█████████▎| 187/200 [20:25<01:34,  7.29s/it]"
     ]
    },
    {
     "name": "stdout",
     "output_type": "stream",
     "text": [
      "Element 0 occurs 17265 times\n",
      "Element 3 occurs 1675 times\n",
      "Element 1 occurs 6 times\n",
      "Element 2 occurs 6 times\n"
     ]
    },
    {
     "name": "stderr",
     "output_type": "stream",
     "text": [
      " 94%|█████████▍| 188/200 [20:30<01:21,  6.78s/it]"
     ]
    },
    {
     "name": "stdout",
     "output_type": "stream",
     "text": [
      "Element 0 occurs 6490 times\n",
      "Element 1 occurs 15 times\n",
      "Element 2 occurs 15 times\n",
      "Element 3 occurs 7518 times\n"
     ]
    },
    {
     "name": "stderr",
     "output_type": "stream",
     "text": [
      " 94%|█████████▍| 189/200 [20:36<01:11,  6.47s/it]"
     ]
    },
    {
     "name": "stdout",
     "output_type": "stream",
     "text": [
      "Element 0 occurs 13148 times\n",
      "Element 1 occurs 12 times\n",
      "Element 2 occurs 15 times\n",
      "Element 3 occurs 953 times\n"
     ]
    },
    {
     "name": "stderr",
     "output_type": "stream",
     "text": [
      " 95%|█████████▌| 190/200 [20:42<01:02,  6.27s/it]"
     ]
    },
    {
     "name": "stdout",
     "output_type": "stream",
     "text": [
      "Element 0 occurs 9747 times\n",
      "Element 1 occurs 28 times\n",
      "Element 2 occurs 26 times\n",
      "Element 3 occurs 4711 times\n"
     ]
    },
    {
     "name": "stderr",
     "output_type": "stream",
     "text": [
      " 96%|█████████▌| 191/200 [20:47<00:53,  5.96s/it]"
     ]
    },
    {
     "name": "stdout",
     "output_type": "stream",
     "text": [
      "Element 0 occurs 11000 times\n",
      "Element 1 occurs 44 times\n",
      "Element 2 occurs 44 times\n",
      "Element 3 occurs 2002 times\n"
     ]
    },
    {
     "name": "stderr",
     "output_type": "stream",
     "text": [
      " 96%|█████████▌| 192/200 [20:52<00:45,  5.71s/it]"
     ]
    },
    {
     "name": "stdout",
     "output_type": "stream",
     "text": [
      "Element 0 occurs 11745 times\n",
      "Element 1 occurs 45 times\n",
      "Element 2 occurs 45 times\n",
      "Element 3 occurs 979 times\n"
     ]
    },
    {
     "name": "stderr",
     "output_type": "stream",
     "text": [
      " 96%|█████████▋| 193/200 [21:01<00:46,  6.71s/it]"
     ]
    },
    {
     "name": "stdout",
     "output_type": "stream",
     "text": [
      "Element 0 occurs 20516 times\n",
      "Element 1 occurs 63 times\n",
      "Element 2 occurs 65 times\n",
      "Element 3 occurs 1728 times\n"
     ]
    },
    {
     "name": "stderr",
     "output_type": "stream",
     "text": [
      " 97%|█████████▋| 194/200 [21:07<00:38,  6.40s/it]"
     ]
    },
    {
     "name": "stdout",
     "output_type": "stream",
     "text": [
      "Element 0 occurs 13825 times\n",
      "Element 1 occurs 47 times\n",
      "Element 2 occurs 52 times\n"
     ]
    },
    {
     "name": "stderr",
     "output_type": "stream",
     "text": [
      " 98%|█████████▊| 195/200 [21:12<00:30,  6.10s/it]"
     ]
    },
    {
     "name": "stdout",
     "output_type": "stream",
     "text": [
      "Element 0 occurs 13006 times\n",
      "Element 1 occurs 47 times\n",
      "Element 2 occurs 49 times\n"
     ]
    },
    {
     "name": "stderr",
     "output_type": "stream",
     "text": [
      " 98%|█████████▊| 196/200 [21:22<00:28,  7.19s/it]"
     ]
    },
    {
     "name": "stdout",
     "output_type": "stream",
     "text": [
      "Element 0 occurs 24690 times\n",
      "Element 1 occurs 2 times\n",
      "Element 2 occurs 2 times\n"
     ]
    },
    {
     "name": "stderr",
     "output_type": "stream",
     "text": [
      " 98%|█████████▊| 197/200 [21:32<00:23,  7.85s/it]"
     ]
    },
    {
     "name": "stdout",
     "output_type": "stream",
     "text": [
      "Element 0 occurs 20683 times\n",
      "Element 1 occurs 67 times\n",
      "Element 2 occurs 62 times\n",
      "Element 3 occurs 2412 times\n"
     ]
    },
    {
     "name": "stderr",
     "output_type": "stream",
     "text": [
      " 99%|█████████▉| 198/200 [21:37<00:14,  7.07s/it]"
     ]
    },
    {
     "name": "stdout",
     "output_type": "stream",
     "text": [
      "Element 0 occurs 5407 times\n",
      "Element 3 occurs 7866 times\n",
      "Element 1 occurs 19 times\n",
      "Element 2 occurs 20 times\n"
     ]
    },
    {
     "name": "stderr",
     "output_type": "stream",
     "text": [
      "100%|█████████▉| 199/200 [21:45<00:07,  7.34s/it]"
     ]
    },
    {
     "name": "stdout",
     "output_type": "stream",
     "text": [
      "Element 0 occurs 16838 times\n",
      "Element 1 occurs 71 times\n",
      "Element 2 occurs 69 times\n",
      "Element 3 occurs 2682 times\n"
     ]
    },
    {
     "name": "stderr",
     "output_type": "stream",
     "text": [
      "100%|██████████| 200/200 [21:47<00:00,  6.54s/it]"
     ]
    },
    {
     "name": "stdout",
     "output_type": "stream",
     "text": [
      "Element 0 occurs 4498 times\n",
      "Element 1 occurs 19 times\n",
      "Element 2 occurs 17 times\n",
      "2552077 2552077\n"
     ]
    },
    {
     "name": "stderr",
     "output_type": "stream",
     "text": [
      "\n"
     ]
    }
   ],
   "source": [
    "# 生成放入模型的数据，假设使用30分钟作为一个窗口，那么需要找的为形状（360，2）的矩阵\n",
    "\n",
    "train_events = pd.read_csv(\"./train_events.csv\")\n",
    "num_person = len(train_events[\"series_id\"].unique())\n",
    "print(\"The number of total persons is:\", num_person)\n",
    "\n",
    "# 用来存储模型的输入与标签\n",
    "X = []\n",
    "y = []\n",
    "\n",
    "for i in tqdm(range(min(num_person, CFG.num_person))):\n",
    "\n",
    "    df = data[i]\n",
    "    pair_list = targets[i]\n",
    "    sleep_id = ids[i]\n",
    "\n",
    "    # 先提取出开始睡觉和结束睡觉的时间\n",
    "    onset_steps = []\n",
    "    wakeup_steps = []\n",
    "    for j in range(len(pair_list)):\n",
    "        onset_steps.append(pair_list[j][0])\n",
    "        wakeup_steps.append(pair_list[j][1])\n",
    "    # print(\"length of onset list:\", len(onset_steps))\n",
    "    # print(\"length of wakeup list:\", len(wakeup_steps))\n",
    "    # print(onset_steps)\n",
    "    # print(wakeup_steps)\n",
    "\n",
    "    # 中间没有明确时间点的区间全部都不要\n",
    "    empty_spaces = []\n",
    "    events = train_events[train_events[\"series_id\"] == sleep_id]\n",
    "    last_events = 0\n",
    "    mark = 0 \n",
    "    for (idx, row) in events.iterrows():\n",
    "        if np.isnan(row[\"step\"]):\n",
    "            mark = 1\n",
    "        else:\n",
    "            if row[\"step\"] > last_events and mark == 0:\n",
    "                last_events = row[\"step\"]\n",
    "            elif row[\"step\"] > last_events and mark == 1:\n",
    "                empty_spaces.append((int(last_events + 720), int(row[\"step\"] - 720)))\n",
    "                last_events = row[\"step\"]\n",
    "                mark = 0\n",
    "\n",
    "    # print(empty_spaces)\n",
    "\n",
    "    # 为训练数据设置label，如果区间中没有任何事件，标签为0，如果有开始睡觉事件，标签为1，如果有结束睡觉事件，标签为2\n",
    "    labels = []\n",
    "    for j in range(0, len(df), CFG.window_overlap):\n",
    "        start = j\n",
    "        if j + CFG.window_size >= len(df):\n",
    "            break\n",
    "        else:\n",
    "            end = j + CFG.window_size\n",
    "\n",
    "        flag = 0\n",
    "        for k in empty_spaces:\n",
    "            if (k[0] <= start <= k[1]) or (k[0] <= end <= k[1]):\n",
    "                flag = 1\n",
    "                break\n",
    "            else:\n",
    "                continue\n",
    "\n",
    "        chunk = df.iloc[start:end][[\"anglez\", \"enmo\"]]\n",
    "        chunk = chunk.to_numpy()\n",
    "\n",
    "        if flag == 1:\n",
    "            label = 3\n",
    "        elif any(start <= num <= end for num in wakeup_steps):\n",
    "            label = 2\n",
    "        elif any(start <= num <= end for num in onset_steps):\n",
    "            label = 1\n",
    "        else:\n",
    "            label = 0\n",
    "        labels.append(label)\n",
    "\n",
    "        if label != 3:\n",
    "            X.append(chunk)\n",
    "            y.append(label)\n",
    "\n",
    "    element_counts = Counter(labels)\n",
    "\n",
    "    for element, count in element_counts.items():\n",
    "        print(f'Element {element} occurs {count} times')\n",
    "\n",
    "print(len(X), len(y))"
   ]
  },
  {
   "cell_type": "code",
   "execution_count": 4,
   "metadata": {},
   "outputs": [
    {
     "name": "stderr",
     "output_type": "stream",
     "text": [
      "100%|██████████| 2552077/2552077 [00:01<00:00, 1786795.30it/s]\n"
     ]
    },
    {
     "name": "stdout",
     "output_type": "stream",
     "text": [
      "2536565 7754 7758\n",
      "25912 25912\n"
     ]
    }
   ],
   "source": [
    "X_noevent = []\n",
    "y_noevent = []\n",
    "X_onset = []\n",
    "y_onset = []\n",
    "X_wakeup = []\n",
    "y_wakeup = []\n",
    "\n",
    "for i in tqdm(range(len(X))):\n",
    "    xi = X[i]\n",
    "    yi = y[i]\n",
    "    if yi == 0:\n",
    "        X_noevent.append(xi)\n",
    "        y_noevent.append(yi)\n",
    "    elif yi == 1:\n",
    "        X_onset.append(xi)\n",
    "        y_onset.append(yi)\n",
    "    elif yi == 2:\n",
    "        X_wakeup.append(xi)\n",
    "        y_wakeup.append(yi)\n",
    "\n",
    "print(len(X_noevent), len(X_onset), len(X_wakeup))\n",
    "\n",
    "X_noevent = X_noevent[:10400]\n",
    "y_noevent = y_noevent[:10400]\n",
    "X = X_noevent + X_onset + X_wakeup\n",
    "y = y_noevent + y_onset + y_wakeup\n",
    "\n",
    "print(len(X), len(y))"
   ]
  },
  {
   "cell_type": "code",
   "execution_count": 5,
   "metadata": {},
   "outputs": [
    {
     "name": "stdout",
     "output_type": "stream",
     "text": [
      "25912\n",
      "648 162\n"
     ]
    }
   ],
   "source": [
    "class MyDataset(Dataset):\n",
    "    def __init__(self, inputs, outputs):\n",
    "        self.inputs = inputs\n",
    "        self.outputs = outputs\n",
    "\n",
    "    def __len__(self):\n",
    "        return len(self.inputs)\n",
    "\n",
    "    def __getitem__(self, index):\n",
    "        inp = self.inputs[index]\n",
    "        output = self.outputs[index]\n",
    "\n",
    "        input_tensor = torch.tensor(inp, dtype=torch.float32)\n",
    "        output_tensor = torch.tensor(output, dtype=torch.long)\n",
    "\n",
    "        return input_tensor, output_tensor\n",
    "\n",
    "\n",
    "dataset = MyDataset(X, y)\n",
    "print(len(dataset))\n",
    "\n",
    "train_size = int(CFG.train_ratio * len(dataset))\n",
    "test_size = len(dataset) - train_size\n",
    "\n",
    "train_dataset, test_dataset = random_split(dataset, [train_size, test_size])\n",
    "\n",
    "train_loader = DataLoader(train_dataset, batch_size=CFG.batch_size, shuffle=True)\n",
    "test_loader = DataLoader(test_dataset, batch_size=CFG.batch_size, shuffle=True)\n",
    "print(len(train_loader), len(test_loader))"
   ]
  },
  {
   "cell_type": "code",
   "execution_count": 6,
   "metadata": {},
   "outputs": [
    {
     "name": "stdout",
     "output_type": "stream",
     "text": [
      "TransformerModel(\n",
      "  (conv1d): Conv1d(2, 32, kernel_size=(3,), stride=(1,), padding=(1,))\n",
      "  (embed_layer): Linear(in_features=32, out_features=32, bias=True)\n",
      "  (layernorm): LayerNorm((32,), eps=1e-05, elementwise_affine=True)\n",
      "  (encoder): TransformerEncoder(\n",
      "    (layers): ModuleList(\n",
      "      (0-7): 8 x TransformerEncoderLayer(\n",
      "        (self_attn): MultiheadAttention(\n",
      "          (out_proj): NonDynamicallyQuantizableLinear(in_features=32, out_features=32, bias=True)\n",
      "        )\n",
      "        (linear1): Linear(in_features=32, out_features=64, bias=True)\n",
      "        (dropout): Dropout(p=0.4, inplace=False)\n",
      "        (linear2): Linear(in_features=64, out_features=32, bias=True)\n",
      "        (norm1): LayerNorm((32,), eps=1e-05, elementwise_affine=True)\n",
      "        (norm2): LayerNorm((32,), eps=1e-05, elementwise_affine=True)\n",
      "        (dropout1): Dropout(p=0.4, inplace=False)\n",
      "        (dropout2): Dropout(p=0.4, inplace=False)\n",
      "      )\n",
      "    )\n",
      "  )\n",
      "  (classification): Linear(in_features=32, out_features=3, bias=True)\n",
      ")\n",
      "Total number of parameters: 69795\n",
      "torch.Size([3, 3])\n"
     ]
    }
   ],
   "source": [
    "class TransformerModel(nn.Module):\n",
    "    def __init__(\n",
    "        self,\n",
    "        input_dim,\n",
    "        embed_dim,\n",
    "        num_classes=3,\n",
    "        num_layers=8,\n",
    "        nhead=4,\n",
    "        dim_feedforward=64,\n",
    "        dropout=0.4\n",
    "    ):\n",
    "\n",
    "        super(TransformerModel, self).__init__()\n",
    "\n",
    "        self.conv1d = nn.Conv1d(\n",
    "            in_channels=input_dim, \n",
    "            out_channels=embed_dim, \n",
    "            kernel_size=3, \n",
    "            padding=1\n",
    "        )\n",
    "        self.embed_layer = nn.Linear(embed_dim, embed_dim)\n",
    "        self.layernorm = nn.LayerNorm(embed_dim)\n",
    "\n",
    "        self.encoder = nn.TransformerEncoder(\n",
    "            nn.TransformerEncoderLayer(\n",
    "                d_model=embed_dim,\n",
    "                nhead=nhead,\n",
    "                dim_feedforward=dim_feedforward,\n",
    "                dropout=dropout\n",
    "            ),\n",
    "            num_layers=num_layers\n",
    "        )\n",
    "\n",
    "        self.classification = nn.Linear(embed_dim, num_classes)\n",
    "\n",
    "    def forward(self, x):\n",
    "        x = x.permute(0, 2, 1)\n",
    "        x = self.conv1d(x)\n",
    "        x = x.permute(0, 2, 1)\n",
    "\n",
    "        x = self.embed_layer(x)\n",
    "        x = self.layernorm(x)\n",
    "        x = self.encoder(x.permute(1, 0, 2))\n",
    "        x = x[-1]\n",
    "        x = self.classification(x)\n",
    "        return x\n",
    "\n",
    "\n",
    "model = TransformerModel(input_dim=2, embed_dim=32)\n",
    "input_data = torch.rand(3, 360, 2)\n",
    "output = model(input_data)\n",
    "print(model)\n",
    "total_params = sum(p.numel() for p in model.parameters())\n",
    "print(f\"Total number of parameters: {total_params}\")\n",
    "print(output.shape)"
   ]
  },
  {
   "cell_type": "code",
   "execution_count": 7,
   "metadata": {},
   "outputs": [
    {
     "name": "stdout",
     "output_type": "stream",
     "text": [
      "Total number of parameters: 52707\n"
     ]
    }
   ],
   "source": [
    "model = TransformerModel(\n",
    "    input_dim=CFG.input_dim,\n",
    "    embed_dim=CFG.embed_dim,\n",
    "    num_classes=CFG.num_classes,\n",
    "    num_layers=CFG.num_layers,\n",
    "    nhead=CFG.nhead,\n",
    "    dim_feedforward=CFG.dim_feedforward,\n",
    "    dropout=CFG.dropout\n",
    ")\n",
    "\n",
    "criterion = nn.CrossEntropyLoss()\n",
    "optimizer = torch.optim.Adam(model.parameters(), lr=CFG.learning_rate)\n",
    "scheduler = StepLR(optimizer, step_size=CFG.scheduler_step_size, gamma=CFG.scheduler_gamma)\n",
    "device = \"cuda\" if torch.cuda.is_available() else \"cpu\"\n",
    "\n",
    "total_params = sum(p.numel() for p in model.parameters())\n",
    "print(f\"Total number of parameters: {total_params}\")"
   ]
  },
  {
   "cell_type": "code",
   "execution_count": 8,
   "metadata": {},
   "outputs": [
    {
     "name": "stderr",
     "output_type": "stream",
     "text": [
      " 12%|█▎        | 81/648 [00:07<00:51, 11.01it/s]"
     ]
    },
    {
     "name": "stdout",
     "output_type": "stream",
     "text": [
      "Step: 6400, Train Loss These Steps: 1.0930926218628882\n"
     ]
    },
    {
     "name": "stderr",
     "output_type": "stream",
     "text": [
      " 25%|██▍       | 161/648 [00:15<00:44, 10.83it/s]"
     ]
    },
    {
     "name": "stdout",
     "output_type": "stream",
     "text": [
      "Step: 12800, Train Loss These Steps: 1.0585698902606964\n"
     ]
    },
    {
     "name": "stderr",
     "output_type": "stream",
     "text": [
      " 37%|███▋      | 241/648 [00:22<00:38, 10.64it/s]"
     ]
    },
    {
     "name": "stdout",
     "output_type": "stream",
     "text": [
      "Step: 19200, Train Loss These Steps: 1.0265078224241733\n"
     ]
    },
    {
     "name": "stderr",
     "output_type": "stream",
     "text": [
      " 50%|████▉     | 322/648 [00:32<00:32, 10.05it/s]"
     ]
    },
    {
     "name": "stdout",
     "output_type": "stream",
     "text": [
      "Step: 25600, Train Loss These Steps: 0.9932703830301761\n"
     ]
    },
    {
     "name": "stderr",
     "output_type": "stream",
     "text": [
      " 62%|██████▏   | 402/648 [00:39<00:24, 10.15it/s]"
     ]
    },
    {
     "name": "stdout",
     "output_type": "stream",
     "text": [
      "Step: 32000, Train Loss These Steps: 0.9575813084840774\n"
     ]
    },
    {
     "name": "stderr",
     "output_type": "stream",
     "text": [
      " 74%|███████▍  | 480/648 [00:47<00:19,  8.77it/s]"
     ]
    },
    {
     "name": "stdout",
     "output_type": "stream",
     "text": [
      "Step: 38400, Train Loss These Steps: 0.9306625291705132\n"
     ]
    },
    {
     "name": "stderr",
     "output_type": "stream",
     "text": [
      " 87%|████████▋ | 561/648 [00:56<00:13,  6.63it/s]"
     ]
    },
    {
     "name": "stdout",
     "output_type": "stream",
     "text": [
      "Step: 44800, Train Loss These Steps: 0.9014676816761493\n"
     ]
    },
    {
     "name": "stderr",
     "output_type": "stream",
     "text": [
      " 99%|█████████▉| 641/648 [01:04<00:00,  9.59it/s]"
     ]
    },
    {
     "name": "stdout",
     "output_type": "stream",
     "text": [
      "Step: 51200, Train Loss These Steps: 0.9040380761027336\n"
     ]
    },
    {
     "name": "stderr",
     "output_type": "stream",
     "text": [
      "100%|██████████| 648/648 [01:05<00:00,  9.94it/s]\n",
      " 14%|█▎        | 22/162 [00:01<00:06, 20.34it/s]"
     ]
    },
    {
     "name": "stdout",
     "output_type": "stream",
     "text": [
      "Step: 400, Test Loss These Steps: 0.8579687982797622\n"
     ]
    },
    {
     "name": "stderr",
     "output_type": "stream",
     "text": [
      " 27%|██▋       | 43/162 [00:02<00:06, 19.34it/s]"
     ]
    },
    {
     "name": "stdout",
     "output_type": "stream",
     "text": [
      "Step: 800, Test Loss These Steps: 0.867357051372528\n"
     ]
    },
    {
     "name": "stderr",
     "output_type": "stream",
     "text": [
      " 39%|███▉      | 63/162 [00:03<00:04, 20.61it/s]"
     ]
    },
    {
     "name": "stdout",
     "output_type": "stream",
     "text": [
      "Step: 1200, Test Loss These Steps: 0.8959409534931183\n"
     ]
    },
    {
     "name": "stderr",
     "output_type": "stream",
     "text": [
      " 52%|█████▏    | 84/162 [00:04<00:03, 20.74it/s]"
     ]
    },
    {
     "name": "stdout",
     "output_type": "stream",
     "text": [
      "Step: 1600, Test Loss These Steps: 0.8465119421482086\n"
     ]
    },
    {
     "name": "stderr",
     "output_type": "stream",
     "text": [
      " 63%|██████▎   | 102/162 [00:05<00:02, 20.81it/s]"
     ]
    },
    {
     "name": "stdout",
     "output_type": "stream",
     "text": [
      "Step: 2000, Test Loss These Steps: 0.9086770713329315\n"
     ]
    },
    {
     "name": "stderr",
     "output_type": "stream",
     "text": [
      " 76%|███████▌  | 123/162 [00:06<00:01, 20.96it/s]"
     ]
    },
    {
     "name": "stdout",
     "output_type": "stream",
     "text": [
      "Step: 2400, Test Loss These Steps: 0.8920616954565048\n"
     ]
    },
    {
     "name": "stderr",
     "output_type": "stream",
     "text": [
      " 89%|████████▉ | 144/162 [00:07<00:00, 21.14it/s]"
     ]
    },
    {
     "name": "stdout",
     "output_type": "stream",
     "text": [
      "Step: 2800, Test Loss These Steps: 0.8851401925086975\n"
     ]
    },
    {
     "name": "stderr",
     "output_type": "stream",
     "text": [
      "100%|██████████| 162/162 [00:07<00:00, 20.54it/s]\n"
     ]
    },
    {
     "name": "stdout",
     "output_type": "stream",
     "text": [
      "Step: 3200, Test Loss These Steps: 0.880806303024292\n",
      "Epoch: 1, Train Loss: 0.9823113502359685, Test Loss: 0.8776968257662691\n"
     ]
    },
    {
     "name": "stderr",
     "output_type": "stream",
     "text": [
      " 13%|█▎        | 82/648 [00:07<00:51, 10.95it/s]"
     ]
    },
    {
     "name": "stdout",
     "output_type": "stream",
     "text": [
      "Step: 6400, Train Loss These Steps: 0.8851207867264748\n"
     ]
    },
    {
     "name": "stderr",
     "output_type": "stream",
     "text": [
      " 25%|██▌       | 162/648 [00:15<00:44, 10.83it/s]"
     ]
    },
    {
     "name": "stdout",
     "output_type": "stream",
     "text": [
      "Step: 12800, Train Loss These Steps: 0.9111545510590077\n"
     ]
    },
    {
     "name": "stderr",
     "output_type": "stream",
     "text": [
      " 37%|███▋      | 241/648 [00:22<00:38, 10.67it/s]"
     ]
    },
    {
     "name": "stdout",
     "output_type": "stream",
     "text": [
      "Step: 19200, Train Loss These Steps: 0.8500598534941674\n"
     ]
    },
    {
     "name": "stderr",
     "output_type": "stream",
     "text": [
      " 50%|████▉     | 321/648 [00:29<00:30, 10.89it/s]"
     ]
    },
    {
     "name": "stdout",
     "output_type": "stream",
     "text": [
      "Step: 25600, Train Loss These Steps: 0.9282966509461403\n"
     ]
    },
    {
     "name": "stderr",
     "output_type": "stream",
     "text": [
      " 62%|██████▏   | 401/648 [00:37<00:21, 11.33it/s]"
     ]
    },
    {
     "name": "stdout",
     "output_type": "stream",
     "text": [
      "Step: 32000, Train Loss These Steps: 0.8755992129445076\n"
     ]
    },
    {
     "name": "stderr",
     "output_type": "stream",
     "text": [
      " 74%|███████▍  | 481/648 [00:44<00:15, 11.08it/s]"
     ]
    },
    {
     "name": "stdout",
     "output_type": "stream",
     "text": [
      "Step: 38400, Train Loss These Steps: 0.8640773609280586\n"
     ]
    },
    {
     "name": "stderr",
     "output_type": "stream",
     "text": [
      " 87%|████████▋ | 561/648 [00:51<00:07, 11.34it/s]"
     ]
    },
    {
     "name": "stdout",
     "output_type": "stream",
     "text": [
      "Step: 44800, Train Loss These Steps: 0.8528889939188957\n"
     ]
    },
    {
     "name": "stderr",
     "output_type": "stream",
     "text": [
      " 99%|█████████▉| 641/648 [00:58<00:00, 11.10it/s]"
     ]
    },
    {
     "name": "stdout",
     "output_type": "stream",
     "text": [
      "Step: 51200, Train Loss These Steps: 0.8867039985954761\n"
     ]
    },
    {
     "name": "stderr",
     "output_type": "stream",
     "text": [
      "100%|██████████| 648/648 [00:59<00:00, 10.90it/s]\n",
      " 15%|█▍        | 24/162 [00:01<00:06, 21.02it/s]"
     ]
    },
    {
     "name": "stdout",
     "output_type": "stream",
     "text": [
      "Step: 400, Test Loss These Steps: 0.8759236097335815\n"
     ]
    },
    {
     "name": "stderr",
     "output_type": "stream",
     "text": [
      " 26%|██▌       | 42/162 [00:02<00:05, 20.32it/s]"
     ]
    },
    {
     "name": "stdout",
     "output_type": "stream",
     "text": [
      "Step: 800, Test Loss These Steps: 0.8251764684915542\n"
     ]
    },
    {
     "name": "stderr",
     "output_type": "stream",
     "text": [
      " 39%|███▉      | 63/162 [00:03<00:04, 20.29it/s]"
     ]
    },
    {
     "name": "stdout",
     "output_type": "stream",
     "text": [
      "Step: 1200, Test Loss These Steps: 0.8869632750749588\n"
     ]
    },
    {
     "name": "stderr",
     "output_type": "stream",
     "text": [
      " 52%|█████▏    | 84/162 [00:04<00:03, 20.48it/s]"
     ]
    },
    {
     "name": "stdout",
     "output_type": "stream",
     "text": [
      "Step: 1600, Test Loss These Steps: 0.863598421216011\n"
     ]
    },
    {
     "name": "stderr",
     "output_type": "stream",
     "text": [
      " 63%|██████▎   | 102/162 [00:04<00:02, 20.65it/s]"
     ]
    },
    {
     "name": "stdout",
     "output_type": "stream",
     "text": [
      "Step: 2000, Test Loss These Steps: 0.885182437300682\n"
     ]
    },
    {
     "name": "stderr",
     "output_type": "stream",
     "text": [
      " 76%|███████▌  | 123/162 [00:06<00:01, 19.96it/s]"
     ]
    },
    {
     "name": "stdout",
     "output_type": "stream",
     "text": [
      "Step: 2400, Test Loss These Steps: 0.8486537516117096\n"
     ]
    },
    {
     "name": "stderr",
     "output_type": "stream",
     "text": [
      " 88%|████████▊ | 143/162 [00:07<00:00, 20.14it/s]"
     ]
    },
    {
     "name": "stdout",
     "output_type": "stream",
     "text": [
      "Step: 2800, Test Loss These Steps: 0.8835112482309342\n"
     ]
    },
    {
     "name": "stderr",
     "output_type": "stream",
     "text": [
      " 99%|█████████▉| 161/162 [00:07<00:00, 19.31it/s]"
     ]
    },
    {
     "name": "stdout",
     "output_type": "stream",
     "text": [
      "Step: 3200, Test Loss These Steps: 0.8403167426586151\n"
     ]
    },
    {
     "name": "stderr",
     "output_type": "stream",
     "text": [
      "100%|██████████| 162/162 [00:08<00:00, 19.85it/s]\n"
     ]
    },
    {
     "name": "stdout",
     "output_type": "stream",
     "text": [
      "Epoch: 2, Train Loss: 0.8816887375749187, Test Loss: 0.8629630723117311\n"
     ]
    },
    {
     "name": "stderr",
     "output_type": "stream",
     "text": [
      " 12%|█▎        | 81/648 [00:10<01:05,  8.70it/s]"
     ]
    },
    {
     "name": "stdout",
     "output_type": "stream",
     "text": [
      "Step: 6400, Train Loss These Steps: 0.8780304215848446\n"
     ]
    },
    {
     "name": "stderr",
     "output_type": "stream",
     "text": [
      " 25%|██▍       | 161/648 [00:19<01:00,  8.01it/s]"
     ]
    },
    {
     "name": "stdout",
     "output_type": "stream",
     "text": [
      "Step: 12800, Train Loss These Steps: 0.8736901305615902\n"
     ]
    },
    {
     "name": "stderr",
     "output_type": "stream",
     "text": [
      " 37%|███▋      | 241/648 [00:29<00:57,  7.13it/s]"
     ]
    },
    {
     "name": "stdout",
     "output_type": "stream",
     "text": [
      "Step: 19200, Train Loss These Steps: 0.8528404392302036\n"
     ]
    },
    {
     "name": "stderr",
     "output_type": "stream",
     "text": [
      " 49%|████▉     | 320/648 [00:37<00:39,  8.35it/s]"
     ]
    },
    {
     "name": "stdout",
     "output_type": "stream",
     "text": [
      "Step: 25600, Train Loss These Steps: 0.8321697548031807\n"
     ]
    },
    {
     "name": "stderr",
     "output_type": "stream",
     "text": [
      " 62%|██████▏   | 401/648 [00:48<00:30,  8.18it/s]"
     ]
    },
    {
     "name": "stdout",
     "output_type": "stream",
     "text": [
      "Step: 32000, Train Loss These Steps: 0.8466319933533668\n"
     ]
    },
    {
     "name": "stderr",
     "output_type": "stream",
     "text": [
      " 74%|███████▍  | 480/648 [00:57<00:18,  8.92it/s]"
     ]
    },
    {
     "name": "stdout",
     "output_type": "stream",
     "text": [
      "Step: 38400, Train Loss These Steps: 0.8709445245563984\n"
     ]
    },
    {
     "name": "stderr",
     "output_type": "stream",
     "text": [
      " 87%|████████▋ | 561/648 [01:06<00:09,  9.47it/s]"
     ]
    },
    {
     "name": "stdout",
     "output_type": "stream",
     "text": [
      "Step: 44800, Train Loss These Steps: 0.8878039248287678\n"
     ]
    },
    {
     "name": "stderr",
     "output_type": "stream",
     "text": [
      " 99%|█████████▉| 642/648 [01:13<00:00, 10.66it/s]"
     ]
    },
    {
     "name": "stdout",
     "output_type": "stream",
     "text": [
      "Step: 51200, Train Loss These Steps: 0.8774591699242592\n"
     ]
    },
    {
     "name": "stderr",
     "output_type": "stream",
     "text": [
      "100%|██████████| 648/648 [01:14<00:00,  8.70it/s]\n",
      " 14%|█▍        | 23/162 [00:01<00:06, 20.53it/s]"
     ]
    },
    {
     "name": "stdout",
     "output_type": "stream",
     "text": [
      "Step: 400, Test Loss These Steps: 0.8148237437009811\n"
     ]
    },
    {
     "name": "stderr",
     "output_type": "stream",
     "text": [
      " 26%|██▌       | 42/162 [00:02<00:06, 18.97it/s]"
     ]
    },
    {
     "name": "stdout",
     "output_type": "stream",
     "text": [
      "Step: 800, Test Loss These Steps: 0.8210516959428787\n"
     ]
    },
    {
     "name": "stderr",
     "output_type": "stream",
     "text": [
      " 38%|███▊      | 62/162 [00:03<00:05, 16.69it/s]"
     ]
    },
    {
     "name": "stdout",
     "output_type": "stream",
     "text": [
      "Step: 1200, Test Loss These Steps: 0.8180188596248626\n"
     ]
    },
    {
     "name": "stderr",
     "output_type": "stream",
     "text": [
      " 51%|█████     | 83/162 [00:04<00:04, 18.56it/s]"
     ]
    },
    {
     "name": "stdout",
     "output_type": "stream",
     "text": [
      "Step: 1600, Test Loss These Steps: 0.8207089275121688\n"
     ]
    },
    {
     "name": "stderr",
     "output_type": "stream",
     "text": [
      " 63%|██████▎   | 102/162 [00:05<00:04, 12.72it/s]"
     ]
    },
    {
     "name": "stdout",
     "output_type": "stream",
     "text": [
      "Step: 2000, Test Loss These Steps: 0.8396906226873397\n"
     ]
    },
    {
     "name": "stderr",
     "output_type": "stream",
     "text": [
      " 75%|███████▌  | 122/162 [00:07<00:02, 15.12it/s]"
     ]
    },
    {
     "name": "stdout",
     "output_type": "stream",
     "text": [
      "Step: 2400, Test Loss These Steps: 0.840854036808014\n"
     ]
    },
    {
     "name": "stderr",
     "output_type": "stream",
     "text": [
      " 88%|████████▊ | 142/162 [00:08<00:01, 16.47it/s]"
     ]
    },
    {
     "name": "stdout",
     "output_type": "stream",
     "text": [
      "Step: 2800, Test Loss These Steps: 0.8455370455980301\n"
     ]
    },
    {
     "name": "stderr",
     "output_type": "stream",
     "text": [
      "100%|██████████| 162/162 [00:09<00:00, 16.78it/s]\n"
     ]
    },
    {
     "name": "stdout",
     "output_type": "stream",
     "text": [
      "Step: 3200, Test Loss These Steps: 0.8530119806528091\n",
      "Epoch: 3, Train Loss: 0.864484722783536, Test Loss: 0.8321611553798487\n"
     ]
    },
    {
     "name": "stderr",
     "output_type": "stream",
     "text": [
      " 12%|█▎        | 81/648 [00:09<01:09,  8.11it/s]"
     ]
    },
    {
     "name": "stdout",
     "output_type": "stream",
     "text": [
      "Step: 6400, Train Loss These Steps: 0.8465961530804634\n"
     ]
    },
    {
     "name": "stderr",
     "output_type": "stream",
     "text": [
      " 25%|██▍       | 161/648 [00:19<00:59,  8.14it/s]"
     ]
    },
    {
     "name": "stdout",
     "output_type": "stream",
     "text": [
      "Step: 12800, Train Loss These Steps: 0.848926492780447\n"
     ]
    },
    {
     "name": "stderr",
     "output_type": "stream",
     "text": [
      " 37%|███▋      | 241/648 [00:29<00:48,  8.35it/s]"
     ]
    },
    {
     "name": "stdout",
     "output_type": "stream",
     "text": [
      "Step: 19200, Train Loss These Steps: 0.8369344733655453\n"
     ]
    },
    {
     "name": "stderr",
     "output_type": "stream",
     "text": [
      " 50%|████▉     | 321/648 [00:39<00:39,  8.18it/s]"
     ]
    },
    {
     "name": "stdout",
     "output_type": "stream",
     "text": [
      "Step: 25600, Train Loss These Steps: 0.8613605178892613\n"
     ]
    },
    {
     "name": "stderr",
     "output_type": "stream",
     "text": [
      " 62%|██████▏   | 401/648 [00:49<00:38,  6.49it/s]"
     ]
    },
    {
     "name": "stdout",
     "output_type": "stream",
     "text": [
      "Step: 32000, Train Loss These Steps: 0.8398535467684269\n"
     ]
    },
    {
     "name": "stderr",
     "output_type": "stream",
     "text": [
      " 74%|███████▍  | 481/648 [00:58<00:19,  8.59it/s]"
     ]
    },
    {
     "name": "stdout",
     "output_type": "stream",
     "text": [
      "Step: 38400, Train Loss These Steps: 0.8555591180920601\n"
     ]
    },
    {
     "name": "stderr",
     "output_type": "stream",
     "text": [
      " 87%|████████▋ | 561/648 [01:08<00:10,  8.07it/s]"
     ]
    },
    {
     "name": "stdout",
     "output_type": "stream",
     "text": [
      "Step: 44800, Train Loss These Steps: 0.8485426411032677\n"
     ]
    },
    {
     "name": "stderr",
     "output_type": "stream",
     "text": [
      " 99%|█████████▉| 641/648 [01:17<00:00,  7.93it/s]"
     ]
    },
    {
     "name": "stdout",
     "output_type": "stream",
     "text": [
      "Step: 51200, Train Loss These Steps: 0.8451592601835728\n"
     ]
    },
    {
     "name": "stderr",
     "output_type": "stream",
     "text": [
      "100%|██████████| 648/648 [01:18<00:00,  8.22it/s]\n",
      " 14%|█▎        | 22/162 [00:01<00:08, 16.78it/s]"
     ]
    },
    {
     "name": "stdout",
     "output_type": "stream",
     "text": [
      "Step: 400, Test Loss These Steps: 0.8734349846839905\n"
     ]
    },
    {
     "name": "stderr",
     "output_type": "stream",
     "text": [
      " 26%|██▌       | 42/162 [00:02<00:07, 15.47it/s]"
     ]
    },
    {
     "name": "stdout",
     "output_type": "stream",
     "text": [
      "Step: 800, Test Loss These Steps: 0.8241620987653733\n"
     ]
    },
    {
     "name": "stderr",
     "output_type": "stream",
     "text": [
      " 38%|███▊      | 62/162 [00:03<00:06, 16.57it/s]"
     ]
    },
    {
     "name": "stdout",
     "output_type": "stream",
     "text": [
      "Step: 1200, Test Loss These Steps: 0.9016078293323517\n"
     ]
    },
    {
     "name": "stderr",
     "output_type": "stream",
     "text": [
      " 51%|█████     | 82/162 [00:05<00:04, 16.55it/s]"
     ]
    },
    {
     "name": "stdout",
     "output_type": "stream",
     "text": [
      "Step: 1600, Test Loss These Steps: 0.9218904912471771\n"
     ]
    },
    {
     "name": "stderr",
     "output_type": "stream",
     "text": [
      " 63%|██████▎   | 102/162 [00:06<00:03, 15.98it/s]"
     ]
    },
    {
     "name": "stdout",
     "output_type": "stream",
     "text": [
      "Step: 2000, Test Loss These Steps: 0.9016613602638245\n"
     ]
    },
    {
     "name": "stderr",
     "output_type": "stream",
     "text": [
      " 75%|███████▌  | 122/162 [00:07<00:02, 16.11it/s]"
     ]
    },
    {
     "name": "stdout",
     "output_type": "stream",
     "text": [
      "Step: 2400, Test Loss These Steps: 0.8847805321216583\n"
     ]
    },
    {
     "name": "stderr",
     "output_type": "stream",
     "text": [
      " 88%|████████▊ | 142/162 [00:08<00:01, 15.78it/s]"
     ]
    },
    {
     "name": "stdout",
     "output_type": "stream",
     "text": [
      "Step: 2800, Test Loss These Steps: 0.8603812783956528\n"
     ]
    },
    {
     "name": "stderr",
     "output_type": "stream",
     "text": [
      "100%|██████████| 162/162 [00:10<00:00, 16.15it/s]\n"
     ]
    },
    {
     "name": "stdout",
     "output_type": "stream",
     "text": [
      "Step: 3200, Test Loss These Steps: 0.8751711785793305\n",
      "Epoch: 4, Train Loss: 0.8474483665676764, Test Loss: 0.8796203942210586\n"
     ]
    },
    {
     "name": "stderr",
     "output_type": "stream",
     "text": [
      " 12%|█▎        | 81/648 [00:09<01:05,  8.67it/s]"
     ]
    },
    {
     "name": "stdout",
     "output_type": "stream",
     "text": [
      "Step: 6400, Train Loss These Steps: 0.8386074528098106\n"
     ]
    },
    {
     "name": "stderr",
     "output_type": "stream",
     "text": [
      " 25%|██▍       | 161/648 [00:19<00:56,  8.59it/s]"
     ]
    },
    {
     "name": "stdout",
     "output_type": "stream",
     "text": [
      "Step: 12800, Train Loss These Steps: 0.8391501888632774\n"
     ]
    },
    {
     "name": "stderr",
     "output_type": "stream",
     "text": [
      " 37%|███▋      | 241/648 [00:29<00:53,  7.62it/s]"
     ]
    },
    {
     "name": "stdout",
     "output_type": "stream",
     "text": [
      "Step: 19200, Train Loss These Steps: 0.8706008106470108\n"
     ]
    },
    {
     "name": "stderr",
     "output_type": "stream",
     "text": [
      " 50%|████▉     | 321/648 [00:38<00:38,  8.41it/s]"
     ]
    },
    {
     "name": "stdout",
     "output_type": "stream",
     "text": [
      "Step: 25600, Train Loss These Steps: 0.8258632257580757\n"
     ]
    },
    {
     "name": "stderr",
     "output_type": "stream",
     "text": [
      " 62%|██████▏   | 401/648 [00:48<00:29,  8.38it/s]"
     ]
    },
    {
     "name": "stdout",
     "output_type": "stream",
     "text": [
      "Step: 32000, Train Loss These Steps: 0.8471233293414115\n"
     ]
    },
    {
     "name": "stderr",
     "output_type": "stream",
     "text": [
      " 74%|███████▍  | 481/648 [00:58<00:19,  8.39it/s]"
     ]
    },
    {
     "name": "stdout",
     "output_type": "stream",
     "text": [
      "Step: 38400, Train Loss These Steps: 0.8296341687440872\n"
     ]
    },
    {
     "name": "stderr",
     "output_type": "stream",
     "text": [
      " 87%|████████▋ | 562/648 [01:06<00:07, 11.06it/s]"
     ]
    },
    {
     "name": "stdout",
     "output_type": "stream",
     "text": [
      "Step: 44800, Train Loss These Steps: 0.828325429558754\n"
     ]
    },
    {
     "name": "stderr",
     "output_type": "stream",
     "text": [
      " 99%|█████████▉| 641/648 [01:14<00:00,  8.37it/s]"
     ]
    },
    {
     "name": "stdout",
     "output_type": "stream",
     "text": [
      "Step: 51200, Train Loss These Steps: 0.8420847415924072\n"
     ]
    },
    {
     "name": "stderr",
     "output_type": "stream",
     "text": [
      "100%|██████████| 648/648 [01:14<00:00,  8.66it/s]\n",
      " 14%|█▍        | 23/162 [00:01<00:07, 17.61it/s]"
     ]
    },
    {
     "name": "stdout",
     "output_type": "stream",
     "text": [
      "Step: 400, Test Loss These Steps: 0.8200991034507752\n"
     ]
    },
    {
     "name": "stderr",
     "output_type": "stream",
     "text": [
      " 26%|██▌       | 42/162 [00:02<00:07, 15.82it/s]"
     ]
    },
    {
     "name": "stdout",
     "output_type": "stream",
     "text": [
      "Step: 800, Test Loss These Steps: 0.8031661629676818\n"
     ]
    },
    {
     "name": "stderr",
     "output_type": "stream",
     "text": [
      " 38%|███▊      | 62/162 [00:03<00:07, 13.56it/s]"
     ]
    },
    {
     "name": "stdout",
     "output_type": "stream",
     "text": [
      "Step: 1200, Test Loss These Steps: 0.8134767472743988\n"
     ]
    },
    {
     "name": "stderr",
     "output_type": "stream",
     "text": [
      " 51%|█████     | 82/162 [00:05<00:05, 15.53it/s]"
     ]
    },
    {
     "name": "stdout",
     "output_type": "stream",
     "text": [
      "Step: 1600, Test Loss These Steps: 0.8136215448379517\n"
     ]
    },
    {
     "name": "stderr",
     "output_type": "stream",
     "text": [
      " 63%|██████▎   | 102/162 [00:06<00:02, 20.83it/s]"
     ]
    },
    {
     "name": "stdout",
     "output_type": "stream",
     "text": [
      "Step: 2000, Test Loss These Steps: 0.7772780984640122\n"
     ]
    },
    {
     "name": "stderr",
     "output_type": "stream",
     "text": [
      " 76%|███████▌  | 123/162 [00:07<00:01, 20.63it/s]"
     ]
    },
    {
     "name": "stdout",
     "output_type": "stream",
     "text": [
      "Step: 2400, Test Loss These Steps: 0.8403380811214447\n"
     ]
    },
    {
     "name": "stderr",
     "output_type": "stream",
     "text": [
      " 89%|████████▉ | 144/162 [00:08<00:00, 19.92it/s]"
     ]
    },
    {
     "name": "stdout",
     "output_type": "stream",
     "text": [
      "Step: 2800, Test Loss These Steps: 0.8502647399902343\n"
     ]
    },
    {
     "name": "stderr",
     "output_type": "stream",
     "text": [
      "100%|██████████| 162/162 [00:09<00:00, 17.61it/s]\n"
     ]
    },
    {
     "name": "stdout",
     "output_type": "stream",
     "text": [
      "Step: 3200, Test Loss These Steps: 0.7959592312574386\n",
      "Epoch: 5, Train Loss: 0.839575293439406, Test Loss: 0.8143529406300297\n"
     ]
    },
    {
     "name": "stderr",
     "output_type": "stream",
     "text": [
      " 13%|█▎        | 82/648 [00:07<00:52, 10.74it/s]"
     ]
    },
    {
     "name": "stdout",
     "output_type": "stream",
     "text": [
      "Step: 6400, Train Loss These Steps: 0.829026547819376\n"
     ]
    },
    {
     "name": "stderr",
     "output_type": "stream",
     "text": [
      " 25%|██▍       | 161/648 [00:16<01:04,  7.57it/s]"
     ]
    },
    {
     "name": "stdout",
     "output_type": "stream",
     "text": [
      "Step: 12800, Train Loss These Steps: 0.8121910937130451\n"
     ]
    },
    {
     "name": "stderr",
     "output_type": "stream",
     "text": [
      " 37%|███▋      | 242/648 [00:26<00:35, 11.41it/s]"
     ]
    },
    {
     "name": "stdout",
     "output_type": "stream",
     "text": [
      "Step: 19200, Train Loss These Steps: 0.8350933790206909\n"
     ]
    },
    {
     "name": "stderr",
     "output_type": "stream",
     "text": [
      " 50%|████▉     | 322/648 [00:33<00:29, 11.14it/s]"
     ]
    },
    {
     "name": "stdout",
     "output_type": "stream",
     "text": [
      "Step: 25600, Train Loss These Steps: 0.8590042524039745\n"
     ]
    },
    {
     "name": "stderr",
     "output_type": "stream",
     "text": [
      " 62%|██████▏   | 402/648 [00:40<00:21, 11.36it/s]"
     ]
    },
    {
     "name": "stdout",
     "output_type": "stream",
     "text": [
      "Step: 32000, Train Loss These Steps: 0.8280024260282517\n"
     ]
    },
    {
     "name": "stderr",
     "output_type": "stream",
     "text": [
      " 74%|███████▍  | 482/648 [00:47<00:14, 11.34it/s]"
     ]
    },
    {
     "name": "stdout",
     "output_type": "stream",
     "text": [
      "Step: 38400, Train Loss These Steps: 0.8338099159300327\n"
     ]
    },
    {
     "name": "stderr",
     "output_type": "stream",
     "text": [
      " 87%|████████▋ | 562/648 [00:54<00:08, 10.17it/s]"
     ]
    },
    {
     "name": "stdout",
     "output_type": "stream",
     "text": [
      "Step: 44800, Train Loss These Steps: 0.870594872534275\n"
     ]
    },
    {
     "name": "stderr",
     "output_type": "stream",
     "text": [
      " 99%|█████████▉| 642/648 [01:03<00:00, 10.50it/s]"
     ]
    },
    {
     "name": "stdout",
     "output_type": "stream",
     "text": [
      "Step: 51200, Train Loss These Steps: 0.8251748502254486\n"
     ]
    },
    {
     "name": "stderr",
     "output_type": "stream",
     "text": [
      "100%|██████████| 648/648 [01:03<00:00, 10.17it/s]\n",
      " 14%|█▍        | 23/162 [00:01<00:06, 20.59it/s]"
     ]
    },
    {
     "name": "stdout",
     "output_type": "stream",
     "text": [
      "Step: 400, Test Loss These Steps: 0.790756317973137\n"
     ]
    },
    {
     "name": "stderr",
     "output_type": "stream",
     "text": [
      " 27%|██▋       | 44/162 [00:02<00:05, 21.33it/s]"
     ]
    },
    {
     "name": "stdout",
     "output_type": "stream",
     "text": [
      "Step: 800, Test Loss These Steps: 0.7943130850791931\n"
     ]
    },
    {
     "name": "stderr",
     "output_type": "stream",
     "text": [
      " 38%|███▊      | 62/162 [00:03<00:04, 21.34it/s]"
     ]
    },
    {
     "name": "stdout",
     "output_type": "stream",
     "text": [
      "Step: 1200, Test Loss These Steps: 0.7644837349653244\n"
     ]
    },
    {
     "name": "stderr",
     "output_type": "stream",
     "text": [
      " 51%|█████     | 83/162 [00:04<00:03, 20.00it/s]"
     ]
    },
    {
     "name": "stdout",
     "output_type": "stream",
     "text": [
      "Step: 1600, Test Loss These Steps: 0.8315549165010452\n"
     ]
    },
    {
     "name": "stderr",
     "output_type": "stream",
     "text": [
      " 62%|██████▏   | 101/162 [00:05<00:03, 18.95it/s]"
     ]
    },
    {
     "name": "stdout",
     "output_type": "stream",
     "text": [
      "Step: 2000, Test Loss These Steps: 0.8017155975103378\n"
     ]
    },
    {
     "name": "stderr",
     "output_type": "stream",
     "text": [
      " 75%|███████▌  | 122/162 [00:06<00:02, 18.63it/s]"
     ]
    },
    {
     "name": "stdout",
     "output_type": "stream",
     "text": [
      "Step: 2400, Test Loss These Steps: 0.8474005609750748\n"
     ]
    },
    {
     "name": "stderr",
     "output_type": "stream",
     "text": [
      " 88%|████████▊ | 143/162 [00:07<00:01, 17.73it/s]"
     ]
    },
    {
     "name": "stdout",
     "output_type": "stream",
     "text": [
      "Step: 2800, Test Loss These Steps: 0.8159183830022811\n"
     ]
    },
    {
     "name": "stderr",
     "output_type": "stream",
     "text": [
      "100%|██████████| 162/162 [00:08<00:00, 18.80it/s]\n"
     ]
    },
    {
     "name": "stdout",
     "output_type": "stream",
     "text": [
      "Step: 3200, Test Loss These Steps: 0.8114900112152099\n",
      "Epoch: 6, Train Loss: 0.8370019282087867, Test Loss: 0.807548874322279\n"
     ]
    },
    {
     "name": "stderr",
     "output_type": "stream",
     "text": [
      " 13%|█▎        | 82/648 [00:08<00:52, 10.77it/s]"
     ]
    },
    {
     "name": "stdout",
     "output_type": "stream",
     "text": [
      "Step: 6400, Train Loss These Steps: 0.8277597025036811\n"
     ]
    },
    {
     "name": "stderr",
     "output_type": "stream",
     "text": [
      " 25%|██▌       | 162/648 [00:16<00:48, 10.07it/s]"
     ]
    },
    {
     "name": "stdout",
     "output_type": "stream",
     "text": [
      "Step: 12800, Train Loss These Steps: 0.8329069323837757\n"
     ]
    },
    {
     "name": "stderr",
     "output_type": "stream",
     "text": [
      " 37%|███▋      | 242/648 [00:24<00:39, 10.28it/s]"
     ]
    },
    {
     "name": "stdout",
     "output_type": "stream",
     "text": [
      "Step: 19200, Train Loss These Steps: 0.8331211879849434\n"
     ]
    },
    {
     "name": "stderr",
     "output_type": "stream",
     "text": [
      " 50%|████▉     | 322/648 [00:31<00:29, 11.00it/s]"
     ]
    },
    {
     "name": "stdout",
     "output_type": "stream",
     "text": [
      "Step: 25600, Train Loss These Steps: 0.8136747047305107\n"
     ]
    },
    {
     "name": "stderr",
     "output_type": "stream",
     "text": [
      " 62%|██████▏   | 402/648 [00:39<00:22, 10.93it/s]"
     ]
    },
    {
     "name": "stdout",
     "output_type": "stream",
     "text": [
      "Step: 32000, Train Loss These Steps: 0.8155656397342682\n"
     ]
    },
    {
     "name": "stderr",
     "output_type": "stream",
     "text": [
      " 74%|███████▍  | 481/648 [00:46<00:15, 10.77it/s]"
     ]
    },
    {
     "name": "stdout",
     "output_type": "stream",
     "text": [
      "Step: 38400, Train Loss These Steps: 0.8335997968912124\n"
     ]
    },
    {
     "name": "stderr",
     "output_type": "stream",
     "text": [
      " 87%|████████▋ | 561/648 [00:54<00:07, 11.23it/s]"
     ]
    },
    {
     "name": "stdout",
     "output_type": "stream",
     "text": [
      "Step: 44800, Train Loss These Steps: 0.8280088849365711\n"
     ]
    },
    {
     "name": "stderr",
     "output_type": "stream",
     "text": [
      " 99%|█████████▉| 641/648 [01:01<00:00, 10.37it/s]"
     ]
    },
    {
     "name": "stdout",
     "output_type": "stream",
     "text": [
      "Step: 51200, Train Loss These Steps: 0.8284692794084549\n"
     ]
    },
    {
     "name": "stderr",
     "output_type": "stream",
     "text": [
      "100%|██████████| 648/648 [01:02<00:00, 10.41it/s]\n",
      " 15%|█▍        | 24/162 [00:01<00:06, 21.32it/s]"
     ]
    },
    {
     "name": "stdout",
     "output_type": "stream",
     "text": [
      "Step: 400, Test Loss These Steps: 0.7778313815593719\n"
     ]
    },
    {
     "name": "stderr",
     "output_type": "stream",
     "text": [
      " 26%|██▌       | 42/162 [00:02<00:05, 20.55it/s]"
     ]
    },
    {
     "name": "stdout",
     "output_type": "stream",
     "text": [
      "Step: 800, Test Loss These Steps: 0.7757170796394348\n"
     ]
    },
    {
     "name": "stderr",
     "output_type": "stream",
     "text": [
      " 39%|███▉      | 63/162 [00:03<00:04, 20.14it/s]"
     ]
    },
    {
     "name": "stdout",
     "output_type": "stream",
     "text": [
      "Step: 1200, Test Loss These Steps: 0.8191662102937698\n"
     ]
    },
    {
     "name": "stderr",
     "output_type": "stream",
     "text": [
      " 52%|█████▏    | 84/162 [00:04<00:03, 20.35it/s]"
     ]
    },
    {
     "name": "stdout",
     "output_type": "stream",
     "text": [
      "Step: 1600, Test Loss These Steps: 0.764793211221695\n"
     ]
    },
    {
     "name": "stderr",
     "output_type": "stream",
     "text": [
      " 63%|██████▎   | 102/162 [00:04<00:03, 19.89it/s]"
     ]
    },
    {
     "name": "stdout",
     "output_type": "stream",
     "text": [
      "Step: 2000, Test Loss These Steps: 0.7751808136701583\n"
     ]
    },
    {
     "name": "stderr",
     "output_type": "stream",
     "text": [
      " 76%|███████▌  | 123/162 [00:06<00:01, 20.34it/s]"
     ]
    },
    {
     "name": "stdout",
     "output_type": "stream",
     "text": [
      "Step: 2400, Test Loss These Steps: 0.7593233674764633\n"
     ]
    },
    {
     "name": "stderr",
     "output_type": "stream",
     "text": [
      " 88%|████████▊ | 142/162 [00:06<00:00, 20.25it/s]"
     ]
    },
    {
     "name": "stdout",
     "output_type": "stream",
     "text": [
      "Step: 2800, Test Loss These Steps: 0.8467745900154113\n"
     ]
    },
    {
     "name": "stderr",
     "output_type": "stream",
     "text": [
      "100%|██████████| 162/162 [00:07<00:00, 20.29it/s]\n"
     ]
    },
    {
     "name": "stdout",
     "output_type": "stream",
     "text": [
      "Step: 3200, Test Loss These Steps: 0.7884657442569732\n",
      "Epoch: 7, Train Loss: 0.826445229443503, Test Loss: 0.7906783116452488\n"
     ]
    },
    {
     "name": "stderr",
     "output_type": "stream",
     "text": [
      " 12%|█▎        | 81/648 [00:07<00:55, 10.30it/s]"
     ]
    },
    {
     "name": "stdout",
     "output_type": "stream",
     "text": [
      "Step: 6400, Train Loss These Steps: 0.8225829400122165\n"
     ]
    },
    {
     "name": "stderr",
     "output_type": "stream",
     "text": [
      " 25%|██▍       | 161/648 [00:15<00:44, 10.87it/s]"
     ]
    },
    {
     "name": "stdout",
     "output_type": "stream",
     "text": [
      "Step: 12800, Train Loss These Steps: 0.8323307067155838\n"
     ]
    },
    {
     "name": "stderr",
     "output_type": "stream",
     "text": [
      " 37%|███▋      | 241/648 [00:22<00:37, 10.98it/s]"
     ]
    },
    {
     "name": "stdout",
     "output_type": "stream",
     "text": [
      "Step: 19200, Train Loss These Steps: 0.809963335096836\n"
     ]
    },
    {
     "name": "stderr",
     "output_type": "stream",
     "text": [
      " 50%|████▉     | 321/648 [00:29<00:30, 10.76it/s]"
     ]
    },
    {
     "name": "stdout",
     "output_type": "stream",
     "text": [
      "Step: 25600, Train Loss These Steps: 0.8162395067512989\n"
     ]
    },
    {
     "name": "stderr",
     "output_type": "stream",
     "text": [
      " 62%|██████▏   | 401/648 [00:37<00:23, 10.42it/s]"
     ]
    },
    {
     "name": "stdout",
     "output_type": "stream",
     "text": [
      "Step: 32000, Train Loss These Steps: 0.8422524273395539\n"
     ]
    },
    {
     "name": "stderr",
     "output_type": "stream",
     "text": [
      " 74%|███████▍  | 481/648 [00:44<00:15, 10.84it/s]"
     ]
    },
    {
     "name": "stdout",
     "output_type": "stream",
     "text": [
      "Step: 38400, Train Loss These Steps: 0.8161411598324776\n"
     ]
    },
    {
     "name": "stderr",
     "output_type": "stream",
     "text": [
      " 87%|████████▋ | 562/648 [00:52<00:08, 10.28it/s]"
     ]
    },
    {
     "name": "stdout",
     "output_type": "stream",
     "text": [
      "Step: 44800, Train Loss These Steps: 0.8209446646273136\n"
     ]
    },
    {
     "name": "stderr",
     "output_type": "stream",
     "text": [
      " 99%|█████████▉| 642/648 [00:59<00:00, 10.97it/s]"
     ]
    },
    {
     "name": "stdout",
     "output_type": "stream",
     "text": [
      "Step: 51200, Train Loss These Steps: 0.8221155546605587\n"
     ]
    },
    {
     "name": "stderr",
     "output_type": "stream",
     "text": [
      "100%|██████████| 648/648 [01:00<00:00, 10.72it/s]\n",
      " 15%|█▍        | 24/162 [00:01<00:06, 20.95it/s]"
     ]
    },
    {
     "name": "stdout",
     "output_type": "stream",
     "text": [
      "Step: 400, Test Loss These Steps: 0.7749692142009735\n"
     ]
    },
    {
     "name": "stderr",
     "output_type": "stream",
     "text": [
      " 26%|██▌       | 42/162 [00:02<00:05, 20.79it/s]"
     ]
    },
    {
     "name": "stdout",
     "output_type": "stream",
     "text": [
      "Step: 800, Test Loss These Steps: 0.8223230004310608\n"
     ]
    },
    {
     "name": "stderr",
     "output_type": "stream",
     "text": [
      " 39%|███▉      | 63/162 [00:03<00:04, 21.00it/s]"
     ]
    },
    {
     "name": "stdout",
     "output_type": "stream",
     "text": [
      "Step: 1200, Test Loss These Steps: 0.8070331931114196\n"
     ]
    },
    {
     "name": "stderr",
     "output_type": "stream",
     "text": [
      " 52%|█████▏    | 84/162 [00:03<00:03, 21.45it/s]"
     ]
    },
    {
     "name": "stdout",
     "output_type": "stream",
     "text": [
      "Step: 1600, Test Loss These Steps: 0.7818055510520935\n"
     ]
    },
    {
     "name": "stderr",
     "output_type": "stream",
     "text": [
      " 63%|██████▎   | 102/162 [00:04<00:02, 20.68it/s]"
     ]
    },
    {
     "name": "stdout",
     "output_type": "stream",
     "text": [
      "Step: 2000, Test Loss These Steps: 0.8058448538184166\n"
     ]
    },
    {
     "name": "stderr",
     "output_type": "stream",
     "text": [
      " 76%|███████▌  | 123/162 [00:05<00:01, 19.87it/s]"
     ]
    },
    {
     "name": "stdout",
     "output_type": "stream",
     "text": [
      "Step: 2400, Test Loss These Steps: 0.8373377293348312\n"
     ]
    },
    {
     "name": "stderr",
     "output_type": "stream",
     "text": [
      " 89%|████████▉ | 144/162 [00:06<00:00, 20.96it/s]"
     ]
    },
    {
     "name": "stdout",
     "output_type": "stream",
     "text": [
      "Step: 2800, Test Loss These Steps: 0.7677530944347382\n"
     ]
    },
    {
     "name": "stderr",
     "output_type": "stream",
     "text": [
      "100%|██████████| 162/162 [00:07<00:00, 20.80it/s]\n"
     ]
    },
    {
     "name": "stdout",
     "output_type": "stream",
     "text": [
      "Step: 3200, Test Loss These Steps: 0.799230483174324\n",
      "Epoch: 8, Train Loss: 0.8223576989990694, Test Loss: 0.7983037481705347\n"
     ]
    },
    {
     "name": "stderr",
     "output_type": "stream",
     "text": [
      " 13%|█▎        | 82/648 [00:07<00:51, 10.95it/s]"
     ]
    },
    {
     "name": "stdout",
     "output_type": "stream",
     "text": [
      "Step: 6400, Train Loss These Steps: 0.7975514903664589\n"
     ]
    },
    {
     "name": "stderr",
     "output_type": "stream",
     "text": [
      " 25%|██▌       | 162/648 [00:14<00:44, 10.98it/s]"
     ]
    },
    {
     "name": "stdout",
     "output_type": "stream",
     "text": [
      "Step: 12800, Train Loss These Steps: 0.8244505412876606\n"
     ]
    },
    {
     "name": "stderr",
     "output_type": "stream",
     "text": [
      " 37%|███▋      | 241/648 [00:22<00:41,  9.88it/s]"
     ]
    },
    {
     "name": "stdout",
     "output_type": "stream",
     "text": [
      "Step: 19200, Train Loss These Steps: 0.8157949343323707\n"
     ]
    },
    {
     "name": "stderr",
     "output_type": "stream",
     "text": [
      " 50%|████▉     | 321/648 [00:29<00:30, 10.60it/s]"
     ]
    },
    {
     "name": "stdout",
     "output_type": "stream",
     "text": [
      "Step: 25600, Train Loss These Steps: 0.8230981804430485\n"
     ]
    },
    {
     "name": "stderr",
     "output_type": "stream",
     "text": [
      " 62%|██████▏   | 401/648 [00:37<00:22, 11.19it/s]"
     ]
    },
    {
     "name": "stdout",
     "output_type": "stream",
     "text": [
      "Step: 32000, Train Loss These Steps: 0.8170721381902695\n"
     ]
    },
    {
     "name": "stderr",
     "output_type": "stream",
     "text": [
      " 74%|███████▍  | 481/648 [00:44<00:14, 11.31it/s]"
     ]
    },
    {
     "name": "stdout",
     "output_type": "stream",
     "text": [
      "Step: 38400, Train Loss These Steps: 0.8145798169076442\n"
     ]
    },
    {
     "name": "stderr",
     "output_type": "stream",
     "text": [
      " 87%|████████▋ | 561/648 [00:51<00:08, 10.87it/s]"
     ]
    },
    {
     "name": "stdout",
     "output_type": "stream",
     "text": [
      "Step: 44800, Train Loss These Steps: 0.81289252191782\n"
     ]
    },
    {
     "name": "stderr",
     "output_type": "stream",
     "text": [
      " 99%|█████████▉| 641/648 [00:59<00:00, 11.10it/s]"
     ]
    },
    {
     "name": "stdout",
     "output_type": "stream",
     "text": [
      "Step: 51200, Train Loss These Steps: 0.8045661114156246\n"
     ]
    },
    {
     "name": "stderr",
     "output_type": "stream",
     "text": [
      "100%|██████████| 648/648 [00:59<00:00, 10.85it/s]\n",
      " 15%|█▍        | 24/162 [00:01<00:06, 21.25it/s]"
     ]
    },
    {
     "name": "stdout",
     "output_type": "stream",
     "text": [
      "Step: 400, Test Loss These Steps: 0.8185660779476166\n"
     ]
    },
    {
     "name": "stderr",
     "output_type": "stream",
     "text": [
      " 26%|██▌       | 42/162 [00:01<00:05, 20.55it/s]"
     ]
    },
    {
     "name": "stdout",
     "output_type": "stream",
     "text": [
      "Step: 800, Test Loss These Steps: 0.8366614609956742\n"
     ]
    },
    {
     "name": "stderr",
     "output_type": "stream",
     "text": [
      " 39%|███▉      | 63/162 [00:02<00:04, 21.50it/s]"
     ]
    },
    {
     "name": "stdout",
     "output_type": "stream",
     "text": [
      "Step: 1200, Test Loss These Steps: 0.7643628478050232\n"
     ]
    },
    {
     "name": "stderr",
     "output_type": "stream",
     "text": [
      " 52%|█████▏    | 84/162 [00:03<00:03, 21.25it/s]"
     ]
    },
    {
     "name": "stdout",
     "output_type": "stream",
     "text": [
      "Step: 1600, Test Loss These Steps: 0.809229576587677\n"
     ]
    },
    {
     "name": "stderr",
     "output_type": "stream",
     "text": [
      " 63%|██████▎   | 102/162 [00:04<00:02, 20.20it/s]"
     ]
    },
    {
     "name": "stdout",
     "output_type": "stream",
     "text": [
      "Step: 2000, Test Loss These Steps: 0.7913703203201294\n"
     ]
    },
    {
     "name": "stderr",
     "output_type": "stream",
     "text": [
      " 76%|███████▌  | 123/162 [00:05<00:01, 21.21it/s]"
     ]
    },
    {
     "name": "stdout",
     "output_type": "stream",
     "text": [
      "Step: 2400, Test Loss These Steps: 0.8101236909627915\n"
     ]
    },
    {
     "name": "stderr",
     "output_type": "stream",
     "text": [
      " 89%|████████▉ | 144/162 [00:06<00:00, 20.90it/s]"
     ]
    },
    {
     "name": "stdout",
     "output_type": "stream",
     "text": [
      "Step: 2800, Test Loss These Steps: 0.7822975546121598\n"
     ]
    },
    {
     "name": "stderr",
     "output_type": "stream",
     "text": [
      "100%|██████████| 162/162 [00:07<00:00, 21.08it/s]\n"
     ]
    },
    {
     "name": "stdout",
     "output_type": "stream",
     "text": [
      "Step: 3200, Test Loss These Steps: 0.7696534723043442\n",
      "Epoch: 9, Train Loss: 0.8130529561528453, Test Loss: 0.7986326574543376\n"
     ]
    },
    {
     "name": "stderr",
     "output_type": "stream",
     "text": [
      " 13%|█▎        | 82/648 [00:07<00:52, 10.75it/s]"
     ]
    },
    {
     "name": "stdout",
     "output_type": "stream",
     "text": [
      "Step: 6400, Train Loss These Steps: 0.8409866079688072\n"
     ]
    },
    {
     "name": "stderr",
     "output_type": "stream",
     "text": [
      " 25%|██▌       | 162/648 [00:15<00:45, 10.75it/s]"
     ]
    },
    {
     "name": "stdout",
     "output_type": "stream",
     "text": [
      "Step: 12800, Train Loss These Steps: 0.8253683559596539\n"
     ]
    },
    {
     "name": "stderr",
     "output_type": "stream",
     "text": [
      " 37%|███▋      | 242/648 [00:22<00:37, 10.87it/s]"
     ]
    },
    {
     "name": "stdout",
     "output_type": "stream",
     "text": [
      "Step: 19200, Train Loss These Steps: 0.8132523253560067\n"
     ]
    },
    {
     "name": "stderr",
     "output_type": "stream",
     "text": [
      " 50%|████▉     | 322/648 [00:30<00:29, 10.93it/s]"
     ]
    },
    {
     "name": "stdout",
     "output_type": "stream",
     "text": [
      "Step: 25600, Train Loss These Steps: 0.7977438122034073\n"
     ]
    },
    {
     "name": "stderr",
     "output_type": "stream",
     "text": [
      " 62%|██████▏   | 402/648 [00:37<00:23, 10.66it/s]"
     ]
    },
    {
     "name": "stdout",
     "output_type": "stream",
     "text": [
      "Step: 32000, Train Loss These Steps: 0.7954811990261078\n"
     ]
    },
    {
     "name": "stderr",
     "output_type": "stream",
     "text": [
      " 74%|███████▍  | 482/648 [00:44<00:15, 10.96it/s]"
     ]
    },
    {
     "name": "stdout",
     "output_type": "stream",
     "text": [
      "Step: 38400, Train Loss These Steps: 0.8087496884167195\n"
     ]
    },
    {
     "name": "stderr",
     "output_type": "stream",
     "text": [
      " 87%|████████▋ | 562/648 [00:52<00:07, 11.25it/s]"
     ]
    },
    {
     "name": "stdout",
     "output_type": "stream",
     "text": [
      "Step: 44800, Train Loss These Steps: 0.8039057902991772\n"
     ]
    },
    {
     "name": "stderr",
     "output_type": "stream",
     "text": [
      " 99%|█████████▉| 640/648 [00:59<00:00, 10.97it/s]"
     ]
    },
    {
     "name": "stdout",
     "output_type": "stream",
     "text": [
      "Step: 51200, Train Loss These Steps: 0.8066712707281113\n"
     ]
    },
    {
     "name": "stderr",
     "output_type": "stream",
     "text": [
      "100%|██████████| 648/648 [00:59<00:00, 10.81it/s]\n",
      " 14%|█▍        | 23/162 [00:01<00:06, 20.74it/s]"
     ]
    },
    {
     "name": "stdout",
     "output_type": "stream",
     "text": [
      "Step: 400, Test Loss These Steps: 0.7825119525194169\n"
     ]
    },
    {
     "name": "stderr",
     "output_type": "stream",
     "text": [
      " 27%|██▋       | 44/162 [00:02<00:05, 20.38it/s]"
     ]
    },
    {
     "name": "stdout",
     "output_type": "stream",
     "text": [
      "Step: 800, Test Loss These Steps: 0.7727489233016968\n"
     ]
    },
    {
     "name": "stderr",
     "output_type": "stream",
     "text": [
      " 38%|███▊      | 62/162 [00:03<00:04, 20.29it/s]"
     ]
    },
    {
     "name": "stdout",
     "output_type": "stream",
     "text": [
      "Step: 1200, Test Loss These Steps: 0.8225830882787705\n"
     ]
    },
    {
     "name": "stderr",
     "output_type": "stream",
     "text": [
      " 51%|█████     | 82/162 [00:04<00:03, 20.45it/s]"
     ]
    },
    {
     "name": "stdout",
     "output_type": "stream",
     "text": [
      "Step: 1600, Test Loss These Steps: 0.8035712569952012\n"
     ]
    },
    {
     "name": "stderr",
     "output_type": "stream",
     "text": [
      " 64%|██████▎   | 103/162 [00:05<00:02, 20.22it/s]"
     ]
    },
    {
     "name": "stdout",
     "output_type": "stream",
     "text": [
      "Step: 2000, Test Loss These Steps: 0.7721529036760331\n"
     ]
    },
    {
     "name": "stderr",
     "output_type": "stream",
     "text": [
      " 75%|███████▍  | 121/162 [00:05<00:01, 20.55it/s]"
     ]
    },
    {
     "name": "stdout",
     "output_type": "stream",
     "text": [
      "Step: 2400, Test Loss These Steps: 0.7586090177297592\n"
     ]
    },
    {
     "name": "stderr",
     "output_type": "stream",
     "text": [
      " 88%|████████▊ | 142/162 [00:06<00:00, 20.98it/s]"
     ]
    },
    {
     "name": "stdout",
     "output_type": "stream",
     "text": [
      "Step: 2800, Test Loss These Steps: 0.7784906476736069\n"
     ]
    },
    {
     "name": "stderr",
     "output_type": "stream",
     "text": [
      "100%|██████████| 162/162 [00:07<00:00, 20.43it/s]"
     ]
    },
    {
     "name": "stdout",
     "output_type": "stream",
     "text": [
      "Step: 3200, Test Loss These Steps: 0.8012858629226685\n",
      "Epoch: 10, Train Loss: 0.8115714429705231, Test Loss: 0.7864040220961158\n"
     ]
    },
    {
     "name": "stderr",
     "output_type": "stream",
     "text": [
      "\n"
     ]
    }
   ],
   "source": [
    "model.train()\n",
    "train_losses = []\n",
    "train_step_losses = []\n",
    "test_losses = []\n",
    "test_step_losses = []\n",
    "\n",
    "for epoch in range(1, CFG.epochs + 1):\n",
    "    train_loss = 0.0\n",
    "    test_loss = 0.0\n",
    "    train_step_loss = 0.0\n",
    "    test_step_loss = 0.0\n",
    "\n",
    "    for batch_idx, (data, target) in tqdm(enumerate(train_loader), total=len(train_loader)):\n",
    "        optimizer.zero_grad()\n",
    "\n",
    "        data = data.to(device)\n",
    "        target = target.to(device)\n",
    "        output = model(data)\n",
    "\n",
    "        loss = criterion(output, target)\n",
    "        train_loss += loss.item()\n",
    "        train_step_loss += loss.item()\n",
    "\n",
    "        loss.backward()\n",
    "        optimizer.step()\n",
    "\n",
    "        if (batch_idx + 1) % CFG.train_record_steps == 0:\n",
    "            train_step_loss /= CFG.train_record_steps\n",
    "            train_step_losses.append(train_step_loss)\n",
    "            print(f\"Step: {(batch_idx + 1) * CFG.train_record_steps}, Train Loss These Steps: {train_step_loss}\")\n",
    "            train_step_loss = 0.0\n",
    "\n",
    "    scheduler.step()\n",
    "\n",
    "    with torch.no_grad():\n",
    "        for batch_idx, (data, target) in tqdm(enumerate(test_loader), total=len(test_loader)):\n",
    "            data = data.to(device)\n",
    "            target = target.to(device)\n",
    "            output = model(data)\n",
    "\n",
    "            loss = criterion(output, target)\n",
    "            test_loss += loss.item()\n",
    "            test_step_loss += loss.item()\n",
    "\n",
    "            if (batch_idx + 1) % CFG.test_record_steps == 0:\n",
    "                test_step_loss /= CFG.test_record_steps\n",
    "                test_step_losses.append(test_step_loss)\n",
    "                print(f\"Step: {(batch_idx + 1) * CFG.test_record_steps}, Test Loss These Steps: {test_step_loss}\")\n",
    "                test_step_loss = 0.0\n",
    "\n",
    "    train_loss /= len(train_loader)\n",
    "    train_losses.append(train_loss)\n",
    "\n",
    "    test_loss /= len(test_loader)\n",
    "    test_losses.append(test_loss)\n",
    "\n",
    "    print(f\"Epoch: {epoch}, Train Loss: {train_loss}, Test Loss: {test_loss}\")"
   ]
  },
  {
   "cell_type": "code",
   "execution_count": 9,
   "metadata": {},
   "outputs": [
    {
     "data": {
      "image/png": "[encoded data removed]",
      "text/plain": [
       "<Figure size 1500x500 with 2 Axes>"
      ]
     },
     "metadata": {},
     "output_type": "display_data"
    }
   ],
   "source": [
    "plt.figure(figsize=(15, 5))\n",
    "\n",
    "plt.subplot(1, 2, 1)\n",
    "plt.plot(train_losses, label='Train Loss')\n",
    "plt.plot(test_losses, label='Test Loss')\n",
    "plt.xlabel('Epoch')\n",
    "plt.ylabel('Loss')\n",
    "plt.title('Train & Test Loss')\n",
    "plt.legend()\n",
    "\n",
    "plt.subplot(1, 2, 2)\n",
    "plt.plot(train_step_losses, label='Train Step Loss')\n",
    "plt.plot(test_step_losses, label='Test Step Loss')\n",
    "plt.xlabel('Step')\n",
    "plt.ylabel('Loss')\n",
    "plt.title('Train & Test Step Loss')\n",
    "plt.legend()\n",
    "\n",
    "plt.tight_layout()\n",
    "plt.show()"
   ]
  }
 ],
 "metadata": {
  "kernelspec": {
   "display_name": "base",
   "language": "python",
   "name": "python3"
  },
  "language_info": {
   "codemirror_mode": {
    "name": "ipython",
    "version": 3
   },
   "file_extension": ".py",
   "mimetype": "text/x-python",
   "name": "python",
   "nbconvert_exporter": "python",
   "pygments_lexer": "ipython3",
   "version": "3.10.9"
  }
 },
 "nbformat": 4,
 "nbformat_minor": 2
}
