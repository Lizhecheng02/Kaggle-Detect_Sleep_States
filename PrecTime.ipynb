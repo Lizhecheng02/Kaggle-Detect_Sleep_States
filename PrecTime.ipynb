{
 "cells": [
  {
   "cell_type": "code",
   "execution_count": 1,
   "id": "c35910c0-eb4e-4051-aaa5-3de7045c9e27",
   "metadata": {
    "tags": []
   },
   "outputs": [],
   "source": [
    "import torch\n",
    "import torch.nn as nn"
   ]
  },
  {
   "cell_type": "code",
   "execution_count": 11,
   "id": "0f566b7a-0689-420f-85f7-17e98a54f9de",
   "metadata": {
    "tags": []
   },
   "outputs": [],
   "source": [
    "class FE(nn.Module):\n",
    "    def __init__(self,\n",
    "                 in_channels,\n",
    "                 out_channels,\n",
    "                 kernel_size,\n",
    "                 dilation,\n",
    "                 padding,\n",
    "                 mp_kernel_size,\n",
    "                 dropout,\n",
    "                 num_conv_layers\n",
    "                ):\n",
    "        super().__init__()\n",
    "        self.conv1 = nn.Conv1d(in_channels = in_channels,\n",
    "                               out_channels = out_channels,\n",
    "                               kernel_size = kernel_size,\n",
    "                               stride = 1,\n",
    "                               dilation = dilation,\n",
    "                               padding = padding\n",
    "                               )\n",
    "        self.mp = nn.MaxPool1d(mp_kernel_size)\n",
    "        self.dropout1 = nn.Dropout(dropout)\n",
    "        self.convlist = nn.ModuleList([nn.Conv1d(in_channels = out_channels,\n",
    "                                               out_channels = out_channels,\n",
    "                                               kernel_size = kernel_size,\n",
    "                                               stride = 1,\n",
    "                                               dilation = dilation,\n",
    "                                                padding = padding\n",
    "                                               ) for _ in range(num_conv_layers)])\n",
    "    def forward(self, x):\n",
    "        x = self.conv1(x)\n",
    "        x = self.mp(x)\n",
    "        x = self.dropout1(x)\n",
    "        for i in range(len(self.convlist)):\n",
    "            x = self.convlist[i](x)\n",
    "    \n",
    "        return x\n",
    "\n",
    "class IW_FE(nn.Module):\n",
    "    def __init__(self,):\n",
    "        super().__init__()\n",
    "        self.fe1 = fe1 = FE(in_channels = 2, \n",
    "                            out_channels = 128, \n",
    "                            kernel_size = 5,\n",
    "                            dilation = 1,\n",
    "                            padding = 2,\n",
    "                            mp_kernel_size = 2,\n",
    "                            dropout = 0.5,\n",
    "                            num_conv_layers = 3)\n",
    "        self.fe2 = fe1 = FE(in_channels = 2, \n",
    "                        out_channels = 128, \n",
    "                        kernel_size = 5,\n",
    "                        dilation = 4,\n",
    "                        padding = 8, # dilation *(kernel_size - 1) // 2\n",
    "                        mp_kernel_size = 2,\n",
    "                        dropout = 0.5,\n",
    "                        num_conv_layers = 3)\n",
    "    def forward(self, x):\n",
    "        left = self.fe1(x)\n",
    "        right = self.fe2(x)\n",
    "        \n",
    "fe1 = FE(in_channels = 2, \n",
    "        out_channels = 128, \n",
    "        kernel_size = 5,\n",
    "        dilation = 1,\n",
    "        padding = 2,\n",
    "        mp_kernel_size = 2,\n",
    "        dropout = 0.5,\n",
    "        num_conv_layers = 3)\n",
    "fe2 = FE(in_channels = 2, \n",
    "        out_channels = 128, \n",
    "        kernel_size = 5,\n",
    "        dilation = 4,\n",
    "        padding = 8, # dilation *(kernel_size - 1) // 2\n",
    "        mp_kernel_size = 2,\n",
    "        dropout = 0.5,\n",
    "        num_conv_layers = 3)"
   ]
  },
  {
   "cell_type": "code",
   "execution_count": 16,
   "id": "111d8927-ba99-4e74-808d-534da6b100f5",
   "metadata": {
    "tags": []
   },
   "outputs": [
    {
     "name": "stdout",
     "output_type": "stream",
     "text": [
      "Total parameters: 12369600\n"
     ]
    }
   ],
   "source": [
    "a = nn.LSTM(input_size=128 * 120,hidden_size=100,num_layers=1, batch_first=True,bidirectional=True)\n",
    "total_params = sum(p.numel() for p in a.parameters())\n",
    "print(f\"Total parameters: {total_params}\")"
   ]
  },
  {
   "cell_type": "code",
   "execution_count": 4,
   "id": "aba6bad6-1801-4c68-8d14-79c0041939c9",
   "metadata": {
    "tags": []
   },
   "outputs": [
    {
     "name": "stdout",
     "output_type": "stream",
     "text": [
      "Total parameters: 5099200\n"
     ]
    }
   ],
   "source": [
    "total_params = sum(p.numel() for p in a.parameters())\n",
    "print(f\"Total parameters: {total_params}\")"
   ]
  },
  {
   "cell_type": "code",
   "execution_count": 5,
   "id": "f18c8ede-bc75-403b-af3f-6893affa32f8",
   "metadata": {
    "tags": []
   },
   "outputs": [
    {
     "name": "stdout",
     "output_type": "stream",
     "text": [
      "Total parameters: 252032\n"
     ]
    }
   ],
   "source": [
    "total_params = sum(p.numel() for p in fe1.parameters())\n",
    "print(f\"Total parameters: {total_params}\")"
   ]
  },
  {
   "cell_type": "code",
   "execution_count": 23,
   "id": "e0e8abe9-1379-47eb-8fa0-8cda03a682c1",
   "metadata": {
    "tags": []
   },
   "outputs": [],
   "source": [
    "x = torch.randn(1,2,120)\n",
    "u1 = torch.cat([fe2(x), fe1(x)], dim = 1)\n",
    "# f1 = u1.flatten(1)\n",
    "# d1, _ = a(f1)"
   ]
  },
  {
   "cell_type": "code",
   "execution_count": 24,
   "id": "fdbf654e-278a-4ce4-a7dc-4b697c458b15",
   "metadata": {
    "tags": []
   },
   "outputs": [
    {
     "data": {
      "text/plain": [
       "torch.Size([1, 256, 60])"
      ]
     },
     "execution_count": 24,
     "metadata": {},
     "output_type": "execute_result"
    }
   ],
   "source": [
    "u1.shape"
   ]
  }
 ],
 "metadata": {
  "kernelspec": {
   "display_name": "Python 3 (ipykernel)",
   "language": "python",
   "name": "python3"
  },
  "language_info": {
   "codemirror_mode": {
    "name": "ipython",
    "version": 3
   },
   "file_extension": ".py",
   "mimetype": "text/x-python",
   "name": "python",
   "nbconvert_exporter": "python",
   "pygments_lexer": "ipython3",
   "version": "3.11.5"
  }
 },
 "nbformat": 4,
 "nbformat_minor": 5
}
