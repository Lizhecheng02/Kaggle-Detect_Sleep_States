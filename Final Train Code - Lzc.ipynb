{
 "cells": [
  {
   "cell_type": "code",
   "execution_count": 1,
   "metadata": {},
   "outputs": [],
   "source": [
    "import joblib\n",
    "import numpy as np\n",
    "import pandas as pd\n",
    "from collections import Counter\n",
    "from tqdm import tqdm\n",
    "import torch\n",
    "import torch.nn as nn\n",
    "from torchsummary import summary\n",
    "from torch.utils.data import Dataset, DataLoader, random_split, SubsetRandomSampler, Subset\n",
    "import matplotlib.pyplot as plt\n",
    "from torch.optim.lr_scheduler import StepLR\n",
    "from sklearn.model_selection import KFold\n",
    "import random"
   ]
  },
  {
   "cell_type": "code",
   "execution_count": 2,
   "metadata": {},
   "outputs": [
    {
     "name": "stderr",
     "output_type": "stream",
     "text": [
      "100%|██████████| 277/277 [00:00<00:00, 69428.84it/s]\n"
     ]
    },
    {
     "name": "stdout",
     "output_type": "stream",
     "text": [
      "Target: [(5928, 13524), (23220, 30276), (40668, 47952), (75756, 82800), (178464, 186564), (196260, 203844), (230820, 241872), (248124, 255060)]\n",
      "           anglez      enmo      step\n",
      "0       38.906250  0.080322       0.0\n",
      "1       29.375000  0.075195       1.0\n",
      "2       37.218750  0.179077       2.0\n",
      "3       46.937500  0.092224       3.0\n",
      "4       60.500000  0.034210       4.0\n",
      "...           ...       ...       ...\n",
      "724135 -12.062500  0.038208  724135.0\n",
      "724136 -15.914062  0.025406  724136.0\n",
      "724137 -10.859375  0.028107  724137.0\n",
      "724138  -8.531250  0.027405  724138.0\n",
      "724139  -9.273438  0.032013  724139.0\n",
      "\n",
      "[724140 rows x 3 columns]\n",
      "<class 'list'>\n",
      "<class 'pandas.core.frame.DataFrame'>\n"
     ]
    },
    {
     "name": "stderr",
     "output_type": "stream",
     "text": [
      "100%|██████████| 277/277 [00:00<00:00, 69399.81it/s]"
     ]
    },
    {
     "name": "stdout",
     "output_type": "stream",
     "text": [
      "038441c925bb 03d92c9f6f8a 0402a003dae9 04f547b8017d 05e1944c3818 062cae666e2a 062dbd4c95e6 08db4255286f 0a96f4993bd7 0cd1e3d0ed95 0ce74d6d2106 0cfc06c129cc 0d0ad1e77851 0dee4fda51c3 0ec9fc461819 0ef7d94fde99 0f572d690310 0f9e60a8e56d 10469f6765bf 1087d7b0ff2e 10f8bc1f7b07 12d01911d509 1319a1935f48 137771d19ca2 137b99e936ab 13b4d6a01d27 148471991ffb 154fe824ed87 16fe2798ed0f 1716cd4163b2 1762ab70ec76 188d4b7cd28b 18a0ca03431d 18b61dd5aae8 1955d568d987 1b92be89db4c 1c7c0bad1263 1d4569cbac0f 1e6717d93c1d 1f96b9668bdf 207eded97727 25e2b3dd9c3b 2654a87be968 27f09a6a858f 280e08693c6d 292a75c0b94e 29c75c018220 29d3469bd15d 2b0a1fa8eba8 2b8d87addea9 2cd2340ca14d 2e9ced2c7976 2f7504d0f426 2fbbee1a38e3 2fc653ca75c7 31011ade7c0a 3318a0e3ed6f 33ceeba8918a 3452b878e596 349c5562ee2c 35826366dfc7 361366da569e 3664fe9233f9 3665c86afaf5 390b487231ce 3a9a9dc2cbd9 3aceb17ef7bd 3be1545083b7 3be2f86c3e45 3c336d6ba566 3d53bfea61d6 3df0da2e5966 405df1b41f9f 40dce6018935 416354edd92a 449766346eb1 44a41bba1ee7 44d8c02b369e 4743bdde25df 483d6545417f 4a31811f3558 4ab54be1a403 4ac356361be9 4b45c36f8f5a 4feda0596965 519ae2d858b0 51b23d177971 51c49c540b4e 51fdcc8d9fe7 559ffb7c166a 55a47ff9dc8a 55b7f5c99930 599ca4ed791b 5aad18e7ce64 5acc9d63b5fd 5c088d7e916c 5c55a5e717d6 5e816f11f5c3 5f40907ec171 5f76965e10cf 5f94bb3e1bed 5ffd5e1e81ac 601559e1777d 60d31b0bec3b 60e51cad2ffb 612aa8ba44e2 653622ac8363 655f19eabf1e 67f5fc60e494 694faf956ebf 6a4cd123bd69 6bf95a3cf91c 6ca4f4fca6a2 6d6b9d22d48a 6ee4ade1f2bd 702bb5387b1e 703b5efa9bc1 72ba4a8afff4 72bbd1ac3edf 72d2234e84e4 73fb772e50fb 7476c0bd18d2 7504165f497d 752900afe3a6 76237b9406d5 77ca4db83644 7822ee8fe3ec 78569a801a38 785c9ca4eff7 7df249527c63 7fd4284b7ee8 804594bb1f06 808652a666c6 83fa182bec3a 844f54dcab89 854206f602d0 87a6cbb7c4ed 8877a6586606 8898e6db816d 89bd631d1769 89c7daa72eee 8a22387617c3 8a306e0890c0 8b159a98f485 8b8b9e29171c 8becc76ea607 8e32047cbc1f 8f6f15b9f598 8fb18e36697d 90eac42a9ec9 91127c2b0e60 91cb6c98201f 9277be28a1cf 927dd0c35dfd 939932f1822d 971207c6a525 99237ce045e4 99b829cbad2d 9a340507e36a 9aed9ee12ae2 9b9cd7b7af8c 9c91c546e095 9ddd40f2cb36 9ee455e4770d 9fbdeffbe2ba a167532acca2 a261bc4b7470 a2b0a64ec9cf a3e59c2ce3f6 a4e48102f402 a596ad0b82aa a681f9b04b21 a81f4472c637 a88088855de5 a9a2f7fac455 a9e5f5314bcb aa81faa78747 ad425f3ee76d aed3850f65f0 af91d9a50547 b1831c4979da b364205aba43 b4b75225b224 b7188813d58a b737f8c78ec5 b750c8c1556c b7fc34995d0f b84960841a75 ba8083a2c3b8 bb5612895813 bccf2f2819f8 bdfce9ce62b9 bf00506437aa bfa54bd26187 bfe41e96d12f c107b5789660 c289c8a823e0 c3072a759efb c38707ef76df c535634d7dcd c5365a55ebb7 c5d08fc3e040 c6788e579967 c68260cc9e8f c75b4b207bea c7b1283bb7eb c7b2155a4a47 c7d693f24684 c8053490cec2 c908a0ad3e31 ca730dbf521d ca732a3c37f7 cca14d1966c1 ccdee561ee5d ce85771a714c ce9164297046 cf13ed7e457a cfeb11428dd7 d043c0ca71cd d0f613c700f7 d150801f3145 d25e479ecbb7 d2d6b9af0553 d2fef7e4defd d3dddd3c0e00 d515236bdeec d5be621fd9aa d5e47b94477e d8de352c2657 d93b0c7de16b d9e887091a5c dacc6d652e35 db5e0ee1c0ab db75092f0530 dc80ca623d71 de6fedfb6139 def21f50dd3c df33ae359fb5 dfc3ccebfdc9 dff367373725 e0686434d029 e0d7b0dcf9f3 e11b9d69f856 e1f2a4f991cb e1f5abb82285 e2a849d283c0 e2b60820c325 e30cb792a2bc e34b496b84ce e4500e7e19e1 e586cbfa7762 e69aff66e0cb e6ddbaaf0639 e867b5133665 e8d0a37c3eba ea0770830757 ebb6fae8ed43 ebd76e93ec7d ece2561f07e9 ee4e0e3afd3d eec197a4bdca eef041dd50aa efbfc4526d58 f0482490923c f2c2436cf7b7 f564985ab692 f56824b503a0 f6d2cc003183 f7eb179216c2 f88e18cb4100 f8a8da8bdd00 f981a0805fd0 fa149c3c4bde fb223ed2278c fbf33b1a2c10 fcca183903b7 fe90110788d2 "
     ]
    },
    {
     "name": "stderr",
     "output_type": "stream",
     "text": [
      "\n"
     ]
    }
   ],
   "source": [
    "loaded_data = joblib.load(\"train_data.pkl\")\n",
    "targets, data, ids = loaded_data\n",
    "\n",
    "# 打印某个人的具体信息\n",
    "for i in tqdm(range(277)):\n",
    "    if ids[i] == \"03d92c9f6f8a\":\n",
    "        print(f\"Target: {targets[i]}\")\n",
    "        print(f\"{data[i]}\")\n",
    "        print(type(targets[i]))\n",
    "        print(type(data[i]))\n",
    "\n",
    "for i in tqdm(range(277)):\n",
    "    print(ids[i], end=\" \")"
   ]
  },
  {
   "cell_type": "code",
   "execution_count": 3,
   "metadata": {},
   "outputs": [
    {
     "name": "stdout",
     "output_type": "stream",
     "text": [
      "The number of total persons is: 277\n",
      "{'038441c925bb': 0, '03d92c9f6f8a': 1, '0402a003dae9': 2, '04f547b8017d': 3, '05e1944c3818': 4, '062cae666e2a': 5, '062dbd4c95e6': 6, '08db4255286f': 7, '0a96f4993bd7': 8, '0cd1e3d0ed95': 9, '0ce74d6d2106': 10, '0cfc06c129cc': 11, '0d0ad1e77851': 12, '0dee4fda51c3': 13, '0ec9fc461819': 14, '0ef7d94fde99': 15, '0f572d690310': 16, '0f9e60a8e56d': 17, '10469f6765bf': 18, '1087d7b0ff2e': 19, '10f8bc1f7b07': 20, '12d01911d509': 21, '1319a1935f48': 22, '137771d19ca2': 23, '137b99e936ab': 24, '13b4d6a01d27': 25, '148471991ffb': 26, '154fe824ed87': 27, '16fe2798ed0f': 28, '1716cd4163b2': 29, '1762ab70ec76': 30, '188d4b7cd28b': 31, '18a0ca03431d': 32, '18b61dd5aae8': 33, '1955d568d987': 34, '1b92be89db4c': 35, '1c7c0bad1263': 36, '1d4569cbac0f': 37, '1e6717d93c1d': 38, '1f96b9668bdf': 39, '207eded97727': 40, '25e2b3dd9c3b': 41, '2654a87be968': 42, '27f09a6a858f': 43, '280e08693c6d': 44, '292a75c0b94e': 45, '29c75c018220': 46, '29d3469bd15d': 47, '2b0a1fa8eba8': 48, '2b8d87addea9': 49, '2cd2340ca14d': 50, '2e9ced2c7976': 51, '2f7504d0f426': 52, '2fbbee1a38e3': 53, '2fc653ca75c7': 54, '31011ade7c0a': 55, '3318a0e3ed6f': 56, '33ceeba8918a': 57, '3452b878e596': 58, '349c5562ee2c': 59, '35826366dfc7': 60, '361366da569e': 61, '3664fe9233f9': 62, '3665c86afaf5': 63, '390b487231ce': 64, '3a9a9dc2cbd9': 65, '3aceb17ef7bd': 66, '3be1545083b7': 67, '3be2f86c3e45': 68, '3c336d6ba566': 69, '3d53bfea61d6': 70, '3df0da2e5966': 71, '405df1b41f9f': 72, '40dce6018935': 73, '416354edd92a': 74, '449766346eb1': 75, '44a41bba1ee7': 76, '44d8c02b369e': 77, '4743bdde25df': 78, '483d6545417f': 79, '4a31811f3558': 80, '4ab54be1a403': 81, '4ac356361be9': 82, '4b45c36f8f5a': 83, '4feda0596965': 84, '519ae2d858b0': 85, '51b23d177971': 86, '51c49c540b4e': 87, '51fdcc8d9fe7': 88, '559ffb7c166a': 89, '55a47ff9dc8a': 90, '55b7f5c99930': 91, '599ca4ed791b': 92, '5aad18e7ce64': 93, '5acc9d63b5fd': 94, '5c088d7e916c': 95, '5c55a5e717d6': 96, '5e816f11f5c3': 97, '5f40907ec171': 98, '5f76965e10cf': 99, '5f94bb3e1bed': 100, '5ffd5e1e81ac': 101, '601559e1777d': 102, '60d31b0bec3b': 103, '60e51cad2ffb': 104, '612aa8ba44e2': 105, '653622ac8363': 106, '655f19eabf1e': 107, '67f5fc60e494': 108, '694faf956ebf': 109, '6a4cd123bd69': 110, '6bf95a3cf91c': 111, '6ca4f4fca6a2': 112, '6d6b9d22d48a': 113, '6ee4ade1f2bd': 114, '702bb5387b1e': 115, '703b5efa9bc1': 116, '72ba4a8afff4': 117, '72bbd1ac3edf': 118, '72d2234e84e4': 119, '73fb772e50fb': 120, '7476c0bd18d2': 121, '7504165f497d': 122, '752900afe3a6': 123, '76237b9406d5': 124, '77ca4db83644': 125, '7822ee8fe3ec': 126, '78569a801a38': 127, '785c9ca4eff7': 128, '7df249527c63': 129, '7fd4284b7ee8': 130, '804594bb1f06': 131, '808652a666c6': 132, '83fa182bec3a': 133, '844f54dcab89': 134, '854206f602d0': 135, '87a6cbb7c4ed': 136, '8877a6586606': 137, '8898e6db816d': 138, '89bd631d1769': 139, '89c7daa72eee': 140, '8a22387617c3': 141, '8a306e0890c0': 142, '8b159a98f485': 143, '8b8b9e29171c': 144, '8becc76ea607': 145, '8e32047cbc1f': 146, '8f6f15b9f598': 147, '8fb18e36697d': 148, '90eac42a9ec9': 149, '91127c2b0e60': 150, '91cb6c98201f': 151, '9277be28a1cf': 152, '927dd0c35dfd': 153, '939932f1822d': 154, '971207c6a525': 155, '99237ce045e4': 156, '99b829cbad2d': 157, '9a340507e36a': 158, '9aed9ee12ae2': 159, '9b9cd7b7af8c': 160, '9c91c546e095': 161, '9ddd40f2cb36': 162, '9ee455e4770d': 163, '9fbdeffbe2ba': 164, 'a167532acca2': 165, 'a261bc4b7470': 166, 'a2b0a64ec9cf': 167, 'a3e59c2ce3f6': 168, 'a4e48102f402': 169, 'a596ad0b82aa': 170, 'a681f9b04b21': 171, 'a81f4472c637': 172, 'a88088855de5': 173, 'a9a2f7fac455': 174, 'a9e5f5314bcb': 175, 'aa81faa78747': 176, 'ad425f3ee76d': 177, 'aed3850f65f0': 178, 'af91d9a50547': 179, 'b1831c4979da': 180, 'b364205aba43': 181, 'b4b75225b224': 182, 'b7188813d58a': 183, 'b737f8c78ec5': 184, 'b750c8c1556c': 185, 'b7fc34995d0f': 186, 'b84960841a75': 187, 'ba8083a2c3b8': 188, 'bb5612895813': 189, 'bccf2f2819f8': 190, 'bdfce9ce62b9': 191, 'bf00506437aa': 192, 'bfa54bd26187': 193, 'bfe41e96d12f': 194, 'c107b5789660': 195, 'c289c8a823e0': 196, 'c3072a759efb': 197, 'c38707ef76df': 198, 'c535634d7dcd': 199, 'c5365a55ebb7': 200, 'c5d08fc3e040': 201, 'c6788e579967': 202, 'c68260cc9e8f': 203, 'c75b4b207bea': 204, 'c7b1283bb7eb': 205, 'c7b2155a4a47': 206, 'c7d693f24684': 207, 'c8053490cec2': 208, 'c908a0ad3e31': 209, 'ca730dbf521d': 210, 'ca732a3c37f7': 211, 'cca14d1966c1': 212, 'ccdee561ee5d': 213, 'ce85771a714c': 214, 'ce9164297046': 215, 'cf13ed7e457a': 216, 'cfeb11428dd7': 217, 'd043c0ca71cd': 218, 'd0f613c700f7': 219, 'd150801f3145': 220, 'd25e479ecbb7': 221, 'd2d6b9af0553': 222, 'd2fef7e4defd': 223, 'd3dddd3c0e00': 224, 'd515236bdeec': 225, 'd5be621fd9aa': 226, 'd5e47b94477e': 227, 'd8de352c2657': 228, 'd93b0c7de16b': 229, 'd9e887091a5c': 230, 'dacc6d652e35': 231, 'db5e0ee1c0ab': 232, 'db75092f0530': 233, 'dc80ca623d71': 234, 'de6fedfb6139': 235, 'def21f50dd3c': 236, 'df33ae359fb5': 237, 'dfc3ccebfdc9': 238, 'dff367373725': 239, 'e0686434d029': 240, 'e0d7b0dcf9f3': 241, 'e11b9d69f856': 242, 'e1f2a4f991cb': 243, 'e1f5abb82285': 244, 'e2a849d283c0': 245, 'e2b60820c325': 246, 'e30cb792a2bc': 247, 'e34b496b84ce': 248, 'e4500e7e19e1': 249, 'e586cbfa7762': 250, 'e69aff66e0cb': 251, 'e6ddbaaf0639': 252, 'e867b5133665': 253, 'e8d0a37c3eba': 254, 'ea0770830757': 255, 'ebb6fae8ed43': 256, 'ebd76e93ec7d': 257, 'ece2561f07e9': 258, 'ee4e0e3afd3d': 259, 'eec197a4bdca': 260, 'eef041dd50aa': 261, 'efbfc4526d58': 262, 'f0482490923c': 263, 'f2c2436cf7b7': 264, 'f564985ab692': 265, 'f56824b503a0': 266, 'f6d2cc003183': 267, 'f7eb179216c2': 268, 'f88e18cb4100': 269, 'f8a8da8bdd00': 270, 'f981a0805fd0': 271, 'fa149c3c4bde': 272, 'fb223ed2278c': 273, 'fbf33b1a2c10': 274, 'fcca183903b7': 275, 'fe90110788d2': 276}\n",
      "{0: '038441c925bb', 1: '03d92c9f6f8a', 2: '0402a003dae9', 3: '04f547b8017d', 4: '05e1944c3818', 5: '062cae666e2a', 6: '062dbd4c95e6', 7: '08db4255286f', 8: '0a96f4993bd7', 9: '0cd1e3d0ed95', 10: '0ce74d6d2106', 11: '0cfc06c129cc', 12: '0d0ad1e77851', 13: '0dee4fda51c3', 14: '0ec9fc461819', 15: '0ef7d94fde99', 16: '0f572d690310', 17: '0f9e60a8e56d', 18: '10469f6765bf', 19: '1087d7b0ff2e', 20: '10f8bc1f7b07', 21: '12d01911d509', 22: '1319a1935f48', 23: '137771d19ca2', 24: '137b99e936ab', 25: '13b4d6a01d27', 26: '148471991ffb', 27: '154fe824ed87', 28: '16fe2798ed0f', 29: '1716cd4163b2', 30: '1762ab70ec76', 31: '188d4b7cd28b', 32: '18a0ca03431d', 33: '18b61dd5aae8', 34: '1955d568d987', 35: '1b92be89db4c', 36: '1c7c0bad1263', 37: '1d4569cbac0f', 38: '1e6717d93c1d', 39: '1f96b9668bdf', 40: '207eded97727', 41: '25e2b3dd9c3b', 42: '2654a87be968', 43: '27f09a6a858f', 44: '280e08693c6d', 45: '292a75c0b94e', 46: '29c75c018220', 47: '29d3469bd15d', 48: '2b0a1fa8eba8', 49: '2b8d87addea9', 50: '2cd2340ca14d', 51: '2e9ced2c7976', 52: '2f7504d0f426', 53: '2fbbee1a38e3', 54: '2fc653ca75c7', 55: '31011ade7c0a', 56: '3318a0e3ed6f', 57: '33ceeba8918a', 58: '3452b878e596', 59: '349c5562ee2c', 60: '35826366dfc7', 61: '361366da569e', 62: '3664fe9233f9', 63: '3665c86afaf5', 64: '390b487231ce', 65: '3a9a9dc2cbd9', 66: '3aceb17ef7bd', 67: '3be1545083b7', 68: '3be2f86c3e45', 69: '3c336d6ba566', 70: '3d53bfea61d6', 71: '3df0da2e5966', 72: '405df1b41f9f', 73: '40dce6018935', 74: '416354edd92a', 75: '449766346eb1', 76: '44a41bba1ee7', 77: '44d8c02b369e', 78: '4743bdde25df', 79: '483d6545417f', 80: '4a31811f3558', 81: '4ab54be1a403', 82: '4ac356361be9', 83: '4b45c36f8f5a', 84: '4feda0596965', 85: '519ae2d858b0', 86: '51b23d177971', 87: '51c49c540b4e', 88: '51fdcc8d9fe7', 89: '559ffb7c166a', 90: '55a47ff9dc8a', 91: '55b7f5c99930', 92: '599ca4ed791b', 93: '5aad18e7ce64', 94: '5acc9d63b5fd', 95: '5c088d7e916c', 96: '5c55a5e717d6', 97: '5e816f11f5c3', 98: '5f40907ec171', 99: '5f76965e10cf', 100: '5f94bb3e1bed', 101: '5ffd5e1e81ac', 102: '601559e1777d', 103: '60d31b0bec3b', 104: '60e51cad2ffb', 105: '612aa8ba44e2', 106: '653622ac8363', 107: '655f19eabf1e', 108: '67f5fc60e494', 109: '694faf956ebf', 110: '6a4cd123bd69', 111: '6bf95a3cf91c', 112: '6ca4f4fca6a2', 113: '6d6b9d22d48a', 114: '6ee4ade1f2bd', 115: '702bb5387b1e', 116: '703b5efa9bc1', 117: '72ba4a8afff4', 118: '72bbd1ac3edf', 119: '72d2234e84e4', 120: '73fb772e50fb', 121: '7476c0bd18d2', 122: '7504165f497d', 123: '752900afe3a6', 124: '76237b9406d5', 125: '77ca4db83644', 126: '7822ee8fe3ec', 127: '78569a801a38', 128: '785c9ca4eff7', 129: '7df249527c63', 130: '7fd4284b7ee8', 131: '804594bb1f06', 132: '808652a666c6', 133: '83fa182bec3a', 134: '844f54dcab89', 135: '854206f602d0', 136: '87a6cbb7c4ed', 137: '8877a6586606', 138: '8898e6db816d', 139: '89bd631d1769', 140: '89c7daa72eee', 141: '8a22387617c3', 142: '8a306e0890c0', 143: '8b159a98f485', 144: '8b8b9e29171c', 145: '8becc76ea607', 146: '8e32047cbc1f', 147: '8f6f15b9f598', 148: '8fb18e36697d', 149: '90eac42a9ec9', 150: '91127c2b0e60', 151: '91cb6c98201f', 152: '9277be28a1cf', 153: '927dd0c35dfd', 154: '939932f1822d', 155: '971207c6a525', 156: '99237ce045e4', 157: '99b829cbad2d', 158: '9a340507e36a', 159: '9aed9ee12ae2', 160: '9b9cd7b7af8c', 161: '9c91c546e095', 162: '9ddd40f2cb36', 163: '9ee455e4770d', 164: '9fbdeffbe2ba', 165: 'a167532acca2', 166: 'a261bc4b7470', 167: 'a2b0a64ec9cf', 168: 'a3e59c2ce3f6', 169: 'a4e48102f402', 170: 'a596ad0b82aa', 171: 'a681f9b04b21', 172: 'a81f4472c637', 173: 'a88088855de5', 174: 'a9a2f7fac455', 175: 'a9e5f5314bcb', 176: 'aa81faa78747', 177: 'ad425f3ee76d', 178: 'aed3850f65f0', 179: 'af91d9a50547', 180: 'b1831c4979da', 181: 'b364205aba43', 182: 'b4b75225b224', 183: 'b7188813d58a', 184: 'b737f8c78ec5', 185: 'b750c8c1556c', 186: 'b7fc34995d0f', 187: 'b84960841a75', 188: 'ba8083a2c3b8', 189: 'bb5612895813', 190: 'bccf2f2819f8', 191: 'bdfce9ce62b9', 192: 'bf00506437aa', 193: 'bfa54bd26187', 194: 'bfe41e96d12f', 195: 'c107b5789660', 196: 'c289c8a823e0', 197: 'c3072a759efb', 198: 'c38707ef76df', 199: 'c535634d7dcd', 200: 'c5365a55ebb7', 201: 'c5d08fc3e040', 202: 'c6788e579967', 203: 'c68260cc9e8f', 204: 'c75b4b207bea', 205: 'c7b1283bb7eb', 206: 'c7b2155a4a47', 207: 'c7d693f24684', 208: 'c8053490cec2', 209: 'c908a0ad3e31', 210: 'ca730dbf521d', 211: 'ca732a3c37f7', 212: 'cca14d1966c1', 213: 'ccdee561ee5d', 214: 'ce85771a714c', 215: 'ce9164297046', 216: 'cf13ed7e457a', 217: 'cfeb11428dd7', 218: 'd043c0ca71cd', 219: 'd0f613c700f7', 220: 'd150801f3145', 221: 'd25e479ecbb7', 222: 'd2d6b9af0553', 223: 'd2fef7e4defd', 224: 'd3dddd3c0e00', 225: 'd515236bdeec', 226: 'd5be621fd9aa', 227: 'd5e47b94477e', 228: 'd8de352c2657', 229: 'd93b0c7de16b', 230: 'd9e887091a5c', 231: 'dacc6d652e35', 232: 'db5e0ee1c0ab', 233: 'db75092f0530', 234: 'dc80ca623d71', 235: 'de6fedfb6139', 236: 'def21f50dd3c', 237: 'df33ae359fb5', 238: 'dfc3ccebfdc9', 239: 'dff367373725', 240: 'e0686434d029', 241: 'e0d7b0dcf9f3', 242: 'e11b9d69f856', 243: 'e1f2a4f991cb', 244: 'e1f5abb82285', 245: 'e2a849d283c0', 246: 'e2b60820c325', 247: 'e30cb792a2bc', 248: 'e34b496b84ce', 249: 'e4500e7e19e1', 250: 'e586cbfa7762', 251: 'e69aff66e0cb', 252: 'e6ddbaaf0639', 253: 'e867b5133665', 254: 'e8d0a37c3eba', 255: 'ea0770830757', 256: 'ebb6fae8ed43', 257: 'ebd76e93ec7d', 258: 'ece2561f07e9', 259: 'ee4e0e3afd3d', 260: 'eec197a4bdca', 261: 'eef041dd50aa', 262: 'efbfc4526d58', 263: 'f0482490923c', 264: 'f2c2436cf7b7', 265: 'f564985ab692', 266: 'f56824b503a0', 267: 'f6d2cc003183', 268: 'f7eb179216c2', 269: 'f88e18cb4100', 270: 'f8a8da8bdd00', 271: 'f981a0805fd0', 272: 'fa149c3c4bde', 273: 'fb223ed2278c', 274: 'fbf33b1a2c10', 275: 'fcca183903b7', 276: 'fe90110788d2'}\n"
     ]
    }
   ],
   "source": [
    "train_events = pd.read_csv(\"./train_events.csv\")\n",
    "num_person = len(train_events[\"series_id\"].unique())\n",
    "print(\"The number of total persons is:\", num_person)\n",
    "\n",
    "person_ids = train_events[\"series_id\"].unique()\n",
    "ids_to_index = {person_id: index for index, person_id in enumerate(person_ids)}\n",
    "index_to_ids = {index: person_id for index, person_id in enumerate(person_ids)}\n",
    "print(ids_to_index)\n",
    "print(index_to_ids)"
   ]
  },
  {
   "cell_type": "code",
   "execution_count": 4,
   "metadata": {},
   "outputs": [],
   "source": [
    "class CFG:\n",
    "    window_overlap = 60\n",
    "    window_size = 30\n",
    "    batch_size = 32\n",
    "    input_dim = 2\n",
    "    embed_dim = 32\n",
    "    num_classes = 4 \n",
    "    num_layers = 4\n",
    "    nhead = 4\n",
    "    dim_feedforward = 64\n",
    "    learning_rate = 1e-3\n",
    "    epochs = 300\n",
    "    train_record_steps = 1\n",
    "    dropout = 0.2\n",
    "    num_person = 10\n",
    "    scheduler_step_size = 20\n",
    "    scheduler_gamma = 0.8\n",
    "    fold = 8\n",
    "    weight_decay = 0.001\n",
    "    model_dir = \"./models\""
   ]
  },
  {
   "cell_type": "code",
   "execution_count": 5,
   "metadata": {},
   "outputs": [
    {
     "name": "stderr",
     "output_type": "stream",
     "text": [
      "  0%|          | 0/10 [00:00<?, ?it/s]"
     ]
    },
    {
     "name": "stdout",
     "output_type": "stream",
     "text": [
      "Id: 038441c925bb\n"
     ]
    },
    {
     "name": "stderr",
     "output_type": "stream",
     "text": [
      " 10%|█         | 1/10 [00:03<00:28,  3.12s/it]"
     ]
    },
    {
     "name": "stdout",
     "output_type": "stream",
     "text": [
      "Element 0 occurs 3134 times\n",
      "Element 2 occurs 12 times\n",
      "Element 1 occurs 1968 times\n",
      "Element 3 occurs 15 times\n",
      "Element 4 occurs 1369 times\n",
      "5129 5129\n",
      "Id: 03d92c9f6f8a\n"
     ]
    },
    {
     "name": "stderr",
     "output_type": "stream",
     "text": [
      " 20%|██        | 2/10 [00:09<00:38,  4.81s/it]"
     ]
    },
    {
     "name": "stdout",
     "output_type": "stream",
     "text": [
      "Element 0 occurs 8531 times\n",
      "Element 1 occurs 1020 times\n",
      "Element 3 occurs 4 times\n",
      "Element 2 occurs 5 times\n",
      "Element 4 occurs 2509 times\n",
      "9560 9560\n",
      "Id: 0402a003dae9\n"
     ]
    },
    {
     "name": "stderr",
     "output_type": "stream",
     "text": [
      " 30%|███       | 3/10 [00:12<00:28,  4.06s/it]"
     ]
    },
    {
     "name": "stdout",
     "output_type": "stream",
     "text": [
      "Element 0 occurs 3654 times\n",
      "Element 2 occurs 10 times\n",
      "Element 1 occurs 1392 times\n",
      "Element 4 occurs 1552 times\n",
      "Element 3 occurs 13 times\n",
      "5069 5069\n",
      "Id: 04f547b8017d\n"
     ]
    },
    {
     "name": "stderr",
     "output_type": "stream",
     "text": [
      " 40%|████      | 4/10 [00:17<00:26,  4.40s/it]"
     ]
    },
    {
     "name": "stdout",
     "output_type": "stream",
     "text": [
      "Element 4 occurs 2236 times\n",
      "Element 0 occurs 5880 times\n",
      "Element 2 occurs 13 times\n",
      "Element 1 occurs 2485 times\n",
      "Element 3 occurs 12 times\n",
      "8390 8390\n",
      "Id: 05e1944c3818\n"
     ]
    },
    {
     "name": "stderr",
     "output_type": "stream",
     "text": [
      " 50%|█████     | 5/10 [00:20<00:19,  3.90s/it]"
     ]
    },
    {
     "name": "stdout",
     "output_type": "stream",
     "text": [
      "Element 4 occurs 336 times\n",
      "Element 0 occurs 5630 times\n",
      "Element 2 occurs 4 times\n",
      "Element 1 occurs 705 times\n",
      "Element 3 occurs 6 times\n",
      "6345 6345\n",
      "Id: 062cae666e2a\n"
     ]
    },
    {
     "name": "stderr",
     "output_type": "stream",
     "text": [
      " 60%|██████    | 6/10 [00:23<00:14,  3.68s/it]"
     ]
    },
    {
     "name": "stdout",
     "output_type": "stream",
     "text": [
      "Element 0 occurs 3992 times\n",
      "Element 2 occurs 2 times\n",
      "Element 1 occurs 326 times\n",
      "Element 3 occurs 1 times\n",
      "Element 4 occurs 3053 times\n",
      "4321 4321\n",
      "Id: 062dbd4c95e6\n"
     ]
    },
    {
     "name": "stderr",
     "output_type": "stream",
     "text": [
      " 70%|███████   | 7/10 [00:29<00:13,  4.40s/it]"
     ]
    },
    {
     "name": "stdout",
     "output_type": "stream",
     "text": [
      "Element 0 occurs 6784 times\n",
      "Element 2 occurs 11 times\n",
      "Element 1 occurs 1572 times\n",
      "Element 4 occurs 4604 times\n",
      "Element 3 occurs 7 times\n",
      "8374 8374\n",
      "Id: 08db4255286f\n"
     ]
    },
    {
     "name": "stderr",
     "output_type": "stream",
     "text": [
      " 80%|████████  | 8/10 [00:32<00:08,  4.12s/it]"
     ]
    },
    {
     "name": "stdout",
     "output_type": "stream",
     "text": [
      "Element 0 occurs 5241 times\n",
      "Element 1 occurs 2065 times\n",
      "Element 2 occurs 13 times\n",
      "Element 3 occurs 19 times\n",
      "7338 7338\n",
      "Id: 0a96f4993bd7\n"
     ]
    },
    {
     "name": "stderr",
     "output_type": "stream",
     "text": [
      " 90%|█████████ | 9/10 [00:34<00:03,  3.45s/it]"
     ]
    },
    {
     "name": "stdout",
     "output_type": "stream",
     "text": [
      "Element 0 occurs 2623 times\n",
      "Element 1 occurs 1639 times\n",
      "Element 3 occurs 11 times\n",
      "Element 2 occurs 8 times\n",
      "4281 4281\n",
      "Id: 0cd1e3d0ed95\n"
     ]
    },
    {
     "name": "stderr",
     "output_type": "stream",
     "text": [
      "100%|██████████| 10/10 [00:37<00:00,  3.76s/it]"
     ]
    },
    {
     "name": "stdout",
     "output_type": "stream",
     "text": [
      "Element 0 occurs 3383 times\n",
      "Element 2 occurs 2 times\n",
      "Element 1 occurs 586 times\n",
      "Element 3 occurs 5 times\n",
      "Element 4 occurs 2195 times\n",
      "3976 3976\n"
     ]
    },
    {
     "name": "stderr",
     "output_type": "stream",
     "text": [
      "\n"
     ]
    }
   ],
   "source": [
    "#将每个人的数据分别提取出来\n",
    "\n",
    "dic_X = {}\n",
    "dic_y = {}\n",
    "\n",
    "for i in tqdm(range(min(num_person, CFG.num_person))):\n",
    "\n",
    "    print(\"Id:\", ids[i])\n",
    "    person_id = ids[i]\n",
    "\n",
    "    dic_X[person_id] = []\n",
    "    dic_y[person_id] = []\n",
    "\n",
    "    pair_list = targets[i]\n",
    "    onset_steps = []\n",
    "    wakeup_steps = []\n",
    "    for idx in range(len(pair_list)):\n",
    "        onset_steps.append(pair_list[idx][0])\n",
    "        wakeup_steps.append(pair_list[idx][1])\n",
    "\n",
    "    empty_spaces = []\n",
    "    events = train_events[train_events[\"series_id\"] == person_id]\n",
    "    last_events = 0\n",
    "    empty_mark = 0 \n",
    "    for (idx, row) in events.iterrows():\n",
    "        if np.isnan(row[\"step\"]):\n",
    "            empty_mark = 1\n",
    "        else:\n",
    "            if row[\"step\"] > last_events and empty_mark == 0:\n",
    "                last_events = row[\"step\"]\n",
    "            elif row[\"step\"] > last_events and empty_mark == 1:\n",
    "                empty_spaces.append((int(last_events) - 360, int(row[\"step\"]) - 360))\n",
    "                last_events = row[\"step\"]\n",
    "                empty_mark = 0\n",
    "\n",
    "    df = data[i]\n",
    "    labels = []\n",
    "    for j in range(0, len(df), CFG.window_overlap):\n",
    "        start = j\n",
    "        if j + CFG.window_size >= len(df):\n",
    "            start = len(df) - CFG.window_size\n",
    "            end = len(df)\n",
    "            break\n",
    "        else:\n",
    "            end = j + CFG.window_size\n",
    "\n",
    "        flag_empty = 0\n",
    "        for k in empty_spaces:\n",
    "            if (k[0] < start < k[1]) or (k[0] < end < k[1]):\n",
    "                flag_empty = 1\n",
    "                break\n",
    "            else:\n",
    "                continue\n",
    "\n",
    "        flag_sleep = 0\n",
    "        for k in range(len(onset_steps)):\n",
    "            if (onset_steps[k] < start < end < wakeup_steps[k]):\n",
    "                flag_sleep = 1\n",
    "                break\n",
    "            else:\n",
    "                continue\n",
    "\n",
    "\n",
    "        chunk = df.iloc[start:end][[\"anglez\", \"enmo\"]]\n",
    "        chunk = chunk.to_numpy()\n",
    "\n",
    "        if flag_empty == 1:\n",
    "            label = 4\n",
    "        elif any(start <= num <= end for num in wakeup_steps):\n",
    "            label = 3\n",
    "        elif any(start <= num <= end for num in onset_steps):\n",
    "            label = 2\n",
    "        elif flag_sleep == 1:\n",
    "            label = 1\n",
    "        else:\n",
    "            label = 0\n",
    "        labels.append(label)\n",
    "\n",
    "        if label != 4:\n",
    "            dic_X[person_id].append(chunk)\n",
    "            dic_y[person_id].append(label)\n",
    "\n",
    "    element_counts = Counter(labels)\n",
    "\n",
    "    for element, count in element_counts.items():\n",
    "        print(f\"Element {element} occurs {count} times\")\n",
    "\n",
    "    print(len(dic_X[person_id]), len(dic_y[person_id]))"
   ]
  },
  {
   "cell_type": "code",
   "execution_count": 6,
   "metadata": {},
   "outputs": [
    {
     "name": "stdout",
     "output_type": "stream",
     "text": [
      "15 15 12 15\n",
      "57 57\n",
      "5 5 5 4\n",
      "19 19\n",
      "13 13 10 13\n",
      "49 49\n",
      "13 13 13 12\n",
      "51 51\n",
      "6 6 4 6\n",
      "22 22\n",
      "2 2 2 1\n",
      "7 7\n",
      "11 11 11 7\n",
      "40 40\n",
      "19 19 13 19\n",
      "70 70\n",
      "11 11 8 11\n",
      "41 41\n",
      "5 5 2 5\n",
      "17 17\n"
     ]
    }
   ],
   "source": [
    "for key, value in dic_y.items():\n",
    "    y = value\n",
    "    X = dic_X[key]\n",
    "\n",
    "    X_awake = []\n",
    "    y_awake = []\n",
    "    X_sleep = []\n",
    "    y_sleep = []\n",
    "    X_onset = []\n",
    "    y_onset = []\n",
    "    X_wakeup = []\n",
    "    y_wakeup = []\n",
    "\n",
    "    for idx in range(len(y)):\n",
    "        if y[idx] == 0:\n",
    "            X_awake.append(X[idx])\n",
    "            y_awake.append(y[idx])\n",
    "        elif y[idx] == 1:\n",
    "            X_sleep.append(X[idx])\n",
    "            y_sleep.append(y[idx])\n",
    "        elif y[idx] == 2:\n",
    "            X_onset.append(X[idx])\n",
    "            y_onset.append(y[idx])\n",
    "        elif y[idx] == 3:\n",
    "            X_wakeup.append(X[idx])\n",
    "            y_wakeup.append(y[idx])\n",
    "\n",
    "    num_sample = max(len(X_onset), len(X_wakeup))\n",
    "\n",
    "    indices = random.sample(range(len(X_awake)), num_sample)\n",
    "    selected_X_awake = [X_awake[i] for i in indices]\n",
    "    selected_y_awake = [y_awake[i] for i in indices]\n",
    "    X_awake = selected_X_awake\n",
    "    y_awake = selected_y_awake\n",
    "\n",
    "    indices = random.sample(range(len(X_sleep)), num_sample)\n",
    "    selected_X_sleep = [X_sleep[i] for i in indices]\n",
    "    selected_y_sleep = [y_sleep[i] for i in indices]\n",
    "    X_sleep = selected_X_sleep\n",
    "    y_sleep = selected_y_sleep\n",
    "\n",
    "    print(len(X_awake), len(X_sleep), len(X_onset), len(X_wakeup))\n",
    "\n",
    "    X_total = []\n",
    "    y_total = []\n",
    "    X_total = X_awake + X_sleep + X_onset + X_wakeup\n",
    "    y_total = y_awake + y_sleep + y_onset + y_wakeup\n",
    "\n",
    "    dic_y[key] = y_total\n",
    "    dic_X[key] = X_total\n",
    "\n",
    "    print(len(dic_X[key]), len(dic_y[key]))"
   ]
  },
  {
   "cell_type": "code",
   "execution_count": 7,
   "metadata": {},
   "outputs": [],
   "source": [
    "class MyDataset(Dataset):\n",
    "    def __init__(self, inputs, outputs):\n",
    "        self.inputs = inputs\n",
    "        self.outputs = outputs\n",
    "\n",
    "    def __len__(self):\n",
    "        return len(self.inputs)\n",
    "\n",
    "    def __getitem__(self, index):\n",
    "        inp = self.inputs[index]\n",
    "        output = self.outputs[index]\n",
    "\n",
    "        input_tensor = torch.tensor(inp, dtype=torch.float32)\n",
    "        output_tensor = torch.tensor(output, dtype=torch.long)\n",
    "\n",
    "        return input_tensor, output_tensor"
   ]
  },
  {
   "cell_type": "code",
   "execution_count": 8,
   "metadata": {},
   "outputs": [
    {
     "name": "stdout",
     "output_type": "stream",
     "text": [
      "TransformerModel(\n",
      "  (conv1d): Conv1d(2, 32, kernel_size=(3,), stride=(1,), padding=(1,))\n",
      "  (embed_layer): Linear(in_features=32, out_features=32, bias=True)\n",
      "  (layernorm): LayerNorm((32,), eps=1e-05, elementwise_affine=True)\n",
      "  (encoder): TransformerEncoder(\n",
      "    (layers): ModuleList(\n",
      "      (0-7): 8 x TransformerEncoderLayer(\n",
      "        (self_attn): MultiheadAttention(\n",
      "          (out_proj): NonDynamicallyQuantizableLinear(in_features=32, out_features=32, bias=True)\n",
      "        )\n",
      "        (linear1): Linear(in_features=32, out_features=64, bias=True)\n",
      "        (dropout): Dropout(p=0.2, inplace=False)\n",
      "        (linear2): Linear(in_features=64, out_features=32, bias=True)\n",
      "        (norm1): LayerNorm((32,), eps=1e-05, elementwise_affine=True)\n",
      "        (norm2): LayerNorm((32,), eps=1e-05, elementwise_affine=True)\n",
      "        (dropout1): Dropout(p=0.2, inplace=False)\n",
      "        (dropout2): Dropout(p=0.2, inplace=False)\n",
      "      )\n",
      "    )\n",
      "  )\n",
      "  (classification): Linear(in_features=32, out_features=4, bias=True)\n",
      ")\n",
      "Total number of parameters: 69828\n",
      "torch.Size([3, 4])\n"
     ]
    }
   ],
   "source": [
    "class TransformerModel(nn.Module):\n",
    "    def __init__(\n",
    "        self,\n",
    "        input_dim,\n",
    "        embed_dim,\n",
    "        num_classes=4,\n",
    "        num_layers=8,\n",
    "        nhead=4,\n",
    "        dim_feedforward=64,\n",
    "        dropout=0.2\n",
    "    ):\n",
    "\n",
    "        super(TransformerModel, self).__init__()\n",
    "\n",
    "        self.conv1d = nn.Conv1d(\n",
    "            in_channels=input_dim, \n",
    "            out_channels=embed_dim, \n",
    "            kernel_size=3, \n",
    "            padding=1\n",
    "        )\n",
    "        self.embed_layer = nn.Linear(embed_dim, embed_dim)\n",
    "        self.layernorm = nn.LayerNorm(embed_dim)\n",
    "\n",
    "        self.encoder = nn.TransformerEncoder(\n",
    "            nn.TransformerEncoderLayer(\n",
    "                d_model=embed_dim,\n",
    "                nhead=nhead,\n",
    "                dim_feedforward=dim_feedforward,\n",
    "                dropout=dropout\n",
    "            ),\n",
    "            num_layers=num_layers\n",
    "        )\n",
    "\n",
    "        self.classification = nn.Linear(embed_dim, num_classes)\n",
    "\n",
    "    def forward(self, x):\n",
    "        x = x.permute(0, 2, 1)\n",
    "        x = self.conv1d(x)\n",
    "        x = x.permute(0, 2, 1)\n",
    "\n",
    "        x = self.embed_layer(x)\n",
    "        x = self.layernorm(x)\n",
    "        x = self.encoder(x.permute(1, 0, 2))\n",
    "        x = x[-1]\n",
    "        x = self.classification(x)\n",
    "        return x\n",
    "\n",
    "# 示例\n",
    "model = TransformerModel(input_dim=2, embed_dim=32)\n",
    "input_data = torch.rand(3, 360, 2)\n",
    "output = model(input_data)\n",
    "print(model)\n",
    "total_params = sum(p.numel() for p in model.parameters())\n",
    "print(f\"Total number of parameters: {total_params}\")\n",
    "print(output.shape)"
   ]
  },
  {
   "cell_type": "code",
   "execution_count": 9,
   "metadata": {},
   "outputs": [
    {
     "name": "stdout",
     "output_type": "stream",
     "text": [
      "Total number of parameters: 35652\n"
     ]
    }
   ],
   "source": [
    "model = TransformerModel(\n",
    "    input_dim=CFG.input_dim,\n",
    "    embed_dim=CFG.embed_dim,\n",
    "    num_classes=CFG.num_classes,\n",
    "    num_layers=CFG.num_layers,\n",
    "    nhead=CFG.nhead,\n",
    "    dim_feedforward=CFG.dim_feedforward,\n",
    "    dropout=CFG.dropout\n",
    ")\n",
    "\n",
    "criterion = nn.CrossEntropyLoss()\n",
    "device = \"cuda\" if torch.cuda.is_available() else \"cpu\"\n",
    "\n",
    "total_params = sum(p.numel() for p in model.parameters())\n",
    "print(f\"Total number of parameters: {total_params}\")"
   ]
  },
  {
   "cell_type": "code",
   "execution_count": 10,
   "metadata": {},
   "outputs": [],
   "source": [
    "# train_series = pd.read_parquet(\"./train_series.parquet\")\n",
    "\n",
    "# def inference(person_id, model):\n",
    "#     df = train_series[train_series[\"series_id\"] == person_id]\n",
    "\n",
    "#     X = []\n",
    "#     y = []\n",
    "#     for j in range(0, len(df), CFG.window_overlap):\n",
    "#         start = j\n",
    "#         if j + CFG.window_size >= len(df):\n",
    "#             start = len(df) - CFG.window_size\n",
    "#             end = len(df)\n",
    "#             break\n",
    "#         else:\n",
    "#             end = j + CFG.window_size\n",
    "            \n",
    "#         chunk = df.iloc[start:end][[\"anglez\", \"enmo\"]]\n",
    "#         chunk = chunk.to_numpy()\n",
    "#         X.append(chunk)\n",
    "#         y.append(-1)\n",
    "\n",
    "#     dataset = MyDataset(X, y)\n",
    "#     dataloader = DataLoader(dataset, batch_size=CFG.batch_size, shuffle=False)\n",
    "    \n",
    "#     for batch_idx, (data, target) in tqdm(enumerate(dataloader), total=len(dataloader)):\n",
    "\n",
    "#             data = data.to(device)\n",
    "#             target = target.to(device)\n",
    "#             output = model(data)\n",
    "#             _, predicted = torch.max(output, 1)\n",
    "#             print(predicted)\n"
   ]
  },
  {
   "cell_type": "code",
   "execution_count": 11,
   "metadata": {},
   "outputs": [
    {
     "name": "stdout",
     "output_type": "stream",
     "text": [
      "Fold 1\n",
      "Train indices: [0 1 3 4 5 6 7 9]\n",
      "Test indices: [2 8]\n",
      "283 90\n"
     ]
    },
    {
     "name": "stderr",
     "output_type": "stream",
     "text": [
      " 22%|██▏       | 2/9 [00:00<00:00, 19.81it/s]"
     ]
    },
    {
     "name": "stdout",
     "output_type": "stream",
     "text": [
      "Step: 1, Train Loss Now: 1.7223035097122192\n",
      "Step: 2, Train Loss Now: 1.6250168681144714\n",
      "Step: 3, Train Loss Now: 1.5402263800303142\n",
      "Step: 4, Train Loss Now: 1.5234940946102142\n",
      "Step: 5, Train Loss Now: 1.4902157068252564\n"
     ]
    },
    {
     "name": "stderr",
     "output_type": "stream",
     "text": [
      " 67%|██████▋   | 6/9 [00:00<00:00, 27.92it/s]"
     ]
    },
    {
     "name": "stdout",
     "output_type": "stream",
     "text": [
      "Step: 6, Train Loss Now: 1.486708442370097\n",
      "Step: 7, Train Loss Now: 1.4706545897892542\n",
      "Step: 8, Train Loss Now: 1.4560060054063797\n"
     ]
    },
    {
     "name": "stderr",
     "output_type": "stream",
     "text": [
      "100%|██████████| 9/9 [00:00<00:00, 27.23it/s]\n"
     ]
    },
    {
     "name": "stdout",
     "output_type": "stream",
     "text": [
      "Step: 9, Train Loss Now: 1.4609838061862521\n"
     ]
    },
    {
     "name": "stderr",
     "output_type": "stream",
     "text": [
      "100%|██████████| 3/3 [00:00<00:00, 103.52it/s]\n",
      "  0%|          | 0/9 [00:00<?, ?it/s]"
     ]
    },
    {
     "name": "stdout",
     "output_type": "stream",
     "text": [
      "Step: 1, Train Loss Now: 1.3124853372573853\n",
      "Step: 2, Train Loss Now: 1.3226634860038757\n"
     ]
    },
    {
     "name": "stderr",
     "output_type": "stream",
     "text": [
      " 33%|███▎      | 3/9 [00:00<00:00, 28.98it/s]"
     ]
    },
    {
     "name": "stdout",
     "output_type": "stream",
     "text": [
      "Step: 3, Train Loss Now: 1.3398349682490032\n",
      "Step: 4, Train Loss Now: 1.3366575241088867\n"
     ]
    },
    {
     "name": "stderr",
     "output_type": "stream",
     "text": [
      " 78%|███████▊  | 7/9 [00:00<00:00, 28.98it/s]"
     ]
    },
    {
     "name": "stdout",
     "output_type": "stream",
     "text": [
      "Step: 5, Train Loss Now: 1.3463093042373657\n",
      "Step: 6, Train Loss Now: 1.364575167496999\n",
      "Step: 7, Train Loss Now: 1.3804766280310494\n",
      "Step: 8, Train Loss Now: 1.3936448395252228\n"
     ]
    },
    {
     "name": "stderr",
     "output_type": "stream",
     "text": [
      "100%|██████████| 9/9 [00:00<00:00, 29.02it/s]\n"
     ]
    },
    {
     "name": "stdout",
     "output_type": "stream",
     "text": [
      "Step: 9, Train Loss Now: 1.3902818891737196\n"
     ]
    },
    {
     "name": "stderr",
     "output_type": "stream",
     "text": [
      "100%|██████████| 3/3 [00:00<00:00, 81.40it/s]\n",
      " 44%|████▍     | 4/9 [00:00<00:00, 32.34it/s]"
     ]
    },
    {
     "name": "stdout",
     "output_type": "stream",
     "text": [
      "Step: 1, Train Loss Now: 1.3425709009170532\n",
      "Step: 2, Train Loss Now: 1.3489925265312195\n",
      "Step: 3, Train Loss Now: 1.3278602361679077\n",
      "Step: 4, Train Loss Now: 1.346767008304596\n",
      "Step: 5, Train Loss Now: 1.350193691253662\n",
      "Step: 6, Train Loss Now: 1.3506900072097778\n",
      "Step: 7, Train Loss Now: 1.352966036115374\n"
     ]
    },
    {
     "name": "stderr",
     "output_type": "stream",
     "text": [
      "100%|██████████| 9/9 [00:00<00:00, 31.24it/s]\n"
     ]
    },
    {
     "name": "stdout",
     "output_type": "stream",
     "text": [
      "Step: 8, Train Loss Now: 1.3463192284107208\n",
      "Step: 9, Train Loss Now: 1.3489916721979778\n"
     ]
    },
    {
     "name": "stderr",
     "output_type": "stream",
     "text": [
      "100%|██████████| 3/3 [00:00<00:00, 42.54it/s]\n",
      "  0%|          | 0/9 [00:00<?, ?it/s]"
     ]
    },
    {
     "name": "stdout",
     "output_type": "stream",
     "text": [
      "Step: 1, Train Loss Now: 1.3431326150894165\n",
      "Step: 2, Train Loss Now: 1.3238692879676819\n"
     ]
    },
    {
     "name": "stderr",
     "output_type": "stream",
     "text": [
      " 44%|████▍     | 4/9 [00:00<00:00, 31.70it/s]"
     ]
    },
    {
     "name": "stdout",
     "output_type": "stream",
     "text": [
      "Step: 3, Train Loss Now: 1.3334500392278035\n",
      "Step: 4, Train Loss Now: 1.3292045891284943\n",
      "Step: 5, Train Loss Now: 1.318162751197815\n",
      "Step: 6, Train Loss Now: 1.3260545531908672\n",
      "Step: 7, Train Loss Now: 1.3244667904717582\n"
     ]
    },
    {
     "name": "stderr",
     "output_type": "stream",
     "text": [
      "100%|██████████| 9/9 [00:00<00:00, 31.85it/s]"
     ]
    },
    {
     "name": "stdout",
     "output_type": "stream",
     "text": [
      "Step: 8, Train Loss Now: 1.3281462788581848\n",
      "Step: 9, Train Loss Now: 1.3194630808300443\n"
     ]
    },
    {
     "name": "stderr",
     "output_type": "stream",
     "text": [
      "\n",
      "100%|██████████| 3/3 [00:00<00:00, 109.07it/s]\n",
      " 44%|████▍     | 4/9 [00:00<00:00, 32.90it/s]"
     ]
    },
    {
     "name": "stdout",
     "output_type": "stream",
     "text": [
      "Step: 1, Train Loss Now: 1.3817954063415527\n",
      "Step: 2, Train Loss Now: 1.3404054641723633\n",
      "Step: 3, Train Loss Now: 1.338087836901347\n",
      "Step: 4, Train Loss Now: 1.32148677110672\n",
      "Step: 5, Train Loss Now: 1.3140016317367553\n",
      "Step: 6, Train Loss Now: 1.3124336004257202\n",
      "Step: 7, Train Loss Now: 1.308122890336173\n"
     ]
    },
    {
     "name": "stderr",
     "output_type": "stream",
     "text": [
      "100%|██████████| 9/9 [00:00<00:00, 32.15it/s]\n"
     ]
    },
    {
     "name": "stdout",
     "output_type": "stream",
     "text": [
      "Step: 8, Train Loss Now: 1.3255482614040375\n",
      "Step: 9, Train Loss Now: 1.3230264319313898\n"
     ]
    },
    {
     "name": "stderr",
     "output_type": "stream",
     "text": [
      "100%|██████████| 3/3 [00:00<00:00, 90.49it/s]\n",
      "  0%|          | 0/9 [00:00<?, ?it/s]"
     ]
    },
    {
     "name": "stdout",
     "output_type": "stream",
     "text": [
      "Step: 1, Train Loss Now: 1.143599510192871\n"
     ]
    },
    {
     "name": "stderr",
     "output_type": "stream",
     "text": [
      " 44%|████▍     | 4/9 [00:00<00:00, 31.53it/s]"
     ]
    },
    {
     "name": "stdout",
     "output_type": "stream",
     "text": [
      "Step: 2, Train Loss Now: 1.2333565950393677\n",
      "Step: 3, Train Loss Now: 1.284074306488037\n",
      "Step: 4, Train Loss Now: 1.304168701171875\n",
      "Step: 5, Train Loss Now: 1.3070467472076417\n",
      "Step: 6, Train Loss Now: 1.2963247895240784\n",
      "Step: 7, Train Loss Now: 1.2854794434138708\n"
     ]
    },
    {
     "name": "stderr",
     "output_type": "stream",
     "text": [
      " 89%|████████▉ | 8/9 [00:00<00:00, 33.71it/s]"
     ]
    },
    {
     "name": "stdout",
     "output_type": "stream",
     "text": [
      "Step: 8, Train Loss Now: 1.2881893068552017\n"
     ]
    },
    {
     "name": "stderr",
     "output_type": "stream",
     "text": [
      "100%|██████████| 9/9 [00:00<00:00, 33.37it/s]\n"
     ]
    },
    {
     "name": "stdout",
     "output_type": "stream",
     "text": [
      "Step: 9, Train Loss Now: 1.2995098299450345\n"
     ]
    },
    {
     "name": "stderr",
     "output_type": "stream",
     "text": [
      "100%|██████████| 3/3 [00:00<00:00, 97.51it/s]\n",
      "  0%|          | 0/9 [00:00<?, ?it/s]"
     ]
    },
    {
     "name": "stdout",
     "output_type": "stream",
     "text": [
      "Step: 1, Train Loss Now: 1.2477407455444336\n",
      "Step: 2, Train Loss Now: 1.2522920370101929\n",
      "Step: 3, Train Loss Now: 1.282319188117981\n",
      "Step: 4, Train Loss Now: 1.2700949609279633\n"
     ]
    },
    {
     "name": "stderr",
     "output_type": "stream",
     "text": [
      " 44%|████▍     | 4/9 [00:00<00:00, 33.50it/s]"
     ]
    },
    {
     "name": "stdout",
     "output_type": "stream",
     "text": [
      "Step: 5, Train Loss Now: 1.260698914527893\n",
      "Step: 6, Train Loss Now: 1.2577781875928242\n",
      "Step: 7, Train Loss Now: 1.2804993220738001\n"
     ]
    },
    {
     "name": "stderr",
     "output_type": "stream",
     "text": [
      " 89%|████████▉ | 8/9 [00:00<00:00, 31.42it/s]"
     ]
    },
    {
     "name": "stdout",
     "output_type": "stream",
     "text": [
      "Step: 8, Train Loss Now: 1.2893179059028625\n"
     ]
    },
    {
     "name": "stderr",
     "output_type": "stream",
     "text": [
      "100%|██████████| 9/9 [00:00<00:00, 31.46it/s]\n"
     ]
    },
    {
     "name": "stdout",
     "output_type": "stream",
     "text": [
      "Step: 9, Train Loss Now: 1.2907980415556166\n"
     ]
    },
    {
     "name": "stderr",
     "output_type": "stream",
     "text": [
      "100%|██████████| 3/3 [00:00<00:00, 86.31it/s]\n",
      "  0%|          | 0/9 [00:00<?, ?it/s]"
     ]
    },
    {
     "name": "stdout",
     "output_type": "stream",
     "text": [
      "Step: 1, Train Loss Now: 1.1657731533050537\n",
      "Step: 2, Train Loss Now: 1.2119262218475342\n"
     ]
    },
    {
     "name": "stderr",
     "output_type": "stream",
     "text": [
      " 44%|████▍     | 4/9 [00:00<00:00, 31.17it/s]"
     ]
    },
    {
     "name": "stdout",
     "output_type": "stream",
     "text": [
      "Step: 3, Train Loss Now: 1.2101881901423137\n",
      "Step: 4, Train Loss Now: 1.2311513125896454\n",
      "Step: 5, Train Loss Now: 1.2312559843063355\n",
      "Step: 6, Train Loss Now: 1.2415024439493816\n",
      "Step: 7, Train Loss Now: 1.2564551149095808\n"
     ]
    },
    {
     "name": "stderr",
     "output_type": "stream",
     "text": [
      " 89%|████████▉ | 8/9 [00:00<00:00, 30.49it/s]"
     ]
    },
    {
     "name": "stdout",
     "output_type": "stream",
     "text": [
      "Step: 8, Train Loss Now: 1.2639684975147247\n"
     ]
    },
    {
     "name": "stderr",
     "output_type": "stream",
     "text": [
      "100%|██████████| 9/9 [00:00<00:00, 30.87it/s]\n"
     ]
    },
    {
     "name": "stdout",
     "output_type": "stream",
     "text": [
      "Step: 9, Train Loss Now: 1.2645634412765503\n"
     ]
    },
    {
     "name": "stderr",
     "output_type": "stream",
     "text": [
      "100%|██████████| 3/3 [00:00<00:00, 74.70it/s]\n",
      "  0%|          | 0/9 [00:00<?, ?it/s]"
     ]
    },
    {
     "name": "stdout",
     "output_type": "stream",
     "text": [
      "Step: 1, Train Loss Now: 1.2860485315322876\n",
      "Step: 2, Train Loss Now: 1.2545303106307983\n"
     ]
    },
    {
     "name": "stderr",
     "output_type": "stream",
     "text": [
      " 44%|████▍     | 4/9 [00:00<00:00, 34.34it/s]"
     ]
    },
    {
     "name": "stdout",
     "output_type": "stream",
     "text": [
      "Step: 3, Train Loss Now: 1.2535062630971272\n",
      "Step: 4, Train Loss Now: 1.2427328824996948\n",
      "Step: 5, Train Loss Now: 1.2322814226150514\n",
      "Step: 6, Train Loss Now: 1.22979336977005\n",
      "Step: 7, Train Loss Now: 1.2444003479821342\n"
     ]
    },
    {
     "name": "stderr",
     "output_type": "stream",
     "text": [
      " 89%|████████▉ | 8/9 [00:00<00:00, 32.19it/s]"
     ]
    },
    {
     "name": "stdout",
     "output_type": "stream",
     "text": [
      "Step: 8, Train Loss Now: 1.2497923076152802\n"
     ]
    },
    {
     "name": "stderr",
     "output_type": "stream",
     "text": [
      "100%|██████████| 9/9 [00:00<00:00, 28.99it/s]\n"
     ]
    },
    {
     "name": "stdout",
     "output_type": "stream",
     "text": [
      "Step: 9, Train Loss Now: 1.2625508705774944\n"
     ]
    },
    {
     "name": "stderr",
     "output_type": "stream",
     "text": [
      "100%|██████████| 3/3 [00:00<00:00, 60.68it/s]\n",
      "  0%|          | 0/9 [00:00<?, ?it/s]"
     ]
    },
    {
     "name": "stdout",
     "output_type": "stream",
     "text": [
      "Step: 1, Train Loss Now: 1.2297197580337524\n",
      "Step: 2, Train Loss Now: 1.2147232294082642\n"
     ]
    },
    {
     "name": "stderr",
     "output_type": "stream",
     "text": [
      " 44%|████▍     | 4/9 [00:00<00:00, 35.27it/s]"
     ]
    },
    {
     "name": "stdout",
     "output_type": "stream",
     "text": [
      "Step: 3, Train Loss Now: 1.2128962278366089\n",
      "Step: 4, Train Loss Now: 1.201290488243103\n",
      "Step: 5, Train Loss Now: 1.230354118347168\n",
      "Step: 6, Train Loss Now: 1.225072205066681\n",
      "Step: 7, Train Loss Now: 1.2312545435769218\n"
     ]
    },
    {
     "name": "stderr",
     "output_type": "stream",
     "text": [
      "100%|██████████| 9/9 [00:00<00:00, 32.16it/s]"
     ]
    },
    {
     "name": "stdout",
     "output_type": "stream",
     "text": [
      "Step: 8, Train Loss Now: 1.225705325603485\n",
      "Step: 9, Train Loss Now: 1.228452616267734\n"
     ]
    },
    {
     "name": "stderr",
     "output_type": "stream",
     "text": [
      "\n",
      "100%|██████████| 3/3 [00:00<00:00, 89.22it/s]\n",
      "  0%|          | 0/9 [00:00<?, ?it/s]"
     ]
    },
    {
     "name": "stdout",
     "output_type": "stream",
     "text": [
      "Step: 1, Train Loss Now: 1.1073318719863892\n",
      "Step: 2, Train Loss Now: 1.1238701343536377\n",
      "Step: 3, Train Loss Now: 1.1480406920115154\n"
     ]
    },
    {
     "name": "stderr",
     "output_type": "stream",
     "text": [
      " 44%|████▍     | 4/9 [00:00<00:00, 32.44it/s]"
     ]
    },
    {
     "name": "stdout",
     "output_type": "stream",
     "text": [
      "Step: 4, Train Loss Now: 1.2082398533821106\n",
      "Step: 5, Train Loss Now: 1.209307861328125\n",
      "Step: 6, Train Loss Now: 1.2333482305208843\n",
      "Step: 7, Train Loss Now: 1.2266619205474854\n"
     ]
    },
    {
     "name": "stderr",
     "output_type": "stream",
     "text": [
      " 89%|████████▉ | 8/9 [00:00<00:00, 32.41it/s]"
     ]
    },
    {
     "name": "stdout",
     "output_type": "stream",
     "text": [
      "Step: 8, Train Loss Now: 1.216600850224495\n"
     ]
    },
    {
     "name": "stderr",
     "output_type": "stream",
     "text": [
      "100%|██████████| 9/9 [00:00<00:00, 32.19it/s]\n"
     ]
    },
    {
     "name": "stdout",
     "output_type": "stream",
     "text": [
      "Step: 9, Train Loss Now: 1.2258766624662611\n"
     ]
    },
    {
     "name": "stderr",
     "output_type": "stream",
     "text": [
      "100%|██████████| 3/3 [00:00<00:00, 79.22it/s]\n",
      " 44%|████▍     | 4/9 [00:00<00:00, 30.79it/s]"
     ]
    },
    {
     "name": "stdout",
     "output_type": "stream",
     "text": [
      "Step: 1, Train Loss Now: 1.1358228921890259\n",
      "Step: 2, Train Loss Now: 1.1934804916381836\n",
      "Step: 3, Train Loss Now: 1.1624404589335124\n",
      "Step: 4, Train Loss Now: 1.1840975284576416\n",
      "Step: 5, Train Loss Now: 1.1543726682662965\n",
      "Step: 6, Train Loss Now: 1.1835936109224956\n",
      "Step: 7, Train Loss Now: 1.1984007017953056\n"
     ]
    },
    {
     "name": "stderr",
     "output_type": "stream",
     "text": [
      "100%|██████████| 9/9 [00:00<00:00, 32.42it/s]\n"
     ]
    },
    {
     "name": "stdout",
     "output_type": "stream",
     "text": [
      "Step: 8, Train Loss Now: 1.2004056423902512\n",
      "Step: 9, Train Loss Now: 1.2074269983503554\n"
     ]
    },
    {
     "name": "stderr",
     "output_type": "stream",
     "text": [
      "100%|██████████| 3/3 [00:00<00:00, 89.53it/s]\n",
      "  0%|          | 0/9 [00:00<?, ?it/s]"
     ]
    },
    {
     "name": "stdout",
     "output_type": "stream",
     "text": [
      "Step: 1, Train Loss Now: 1.179695725440979\n"
     ]
    },
    {
     "name": "stderr",
     "output_type": "stream",
     "text": [
      " 44%|████▍     | 4/9 [00:00<00:00, 34.37it/s]"
     ]
    },
    {
     "name": "stdout",
     "output_type": "stream",
     "text": [
      "Step: 2, Train Loss Now: 1.1799662709236145\n",
      "Step: 3, Train Loss Now: 1.1994409163792927\n",
      "Step: 4, Train Loss Now: 1.1800422072410583\n",
      "Step: 5, Train Loss Now: 1.1602980852127076\n",
      "Step: 6, Train Loss Now: 1.1633184154828389\n",
      "Step: 7, Train Loss Now: 1.1602954183306013\n"
     ]
    },
    {
     "name": "stderr",
     "output_type": "stream",
     "text": [
      " 89%|████████▉ | 8/9 [00:00<00:00, 32.14it/s]"
     ]
    },
    {
     "name": "stdout",
     "output_type": "stream",
     "text": [
      "Step: 8, Train Loss Now: 1.1782216727733612\n"
     ]
    },
    {
     "name": "stderr",
     "output_type": "stream",
     "text": [
      "100%|██████████| 9/9 [00:00<00:00, 32.25it/s]\n"
     ]
    },
    {
     "name": "stdout",
     "output_type": "stream",
     "text": [
      "Step: 9, Train Loss Now: 1.1922033892737494\n"
     ]
    },
    {
     "name": "stderr",
     "output_type": "stream",
     "text": [
      "100%|██████████| 3/3 [00:00<00:00, 90.33it/s]\n",
      " 44%|████▍     | 4/9 [00:00<00:00, 33.35it/s]"
     ]
    },
    {
     "name": "stdout",
     "output_type": "stream",
     "text": [
      "Step: 1, Train Loss Now: 1.2461471557617188\n",
      "Step: 2, Train Loss Now: 1.2269296646118164\n",
      "Step: 3, Train Loss Now: 1.1727761030197144\n",
      "Step: 4, Train Loss Now: 1.178737074136734\n",
      "Step: 5, Train Loss Now: 1.1824151039123536\n",
      "Step: 6, Train Loss Now: 1.1741077502568562\n",
      "Step: 7, Train Loss Now: 1.1494596345084054\n"
     ]
    },
    {
     "name": "stderr",
     "output_type": "stream",
     "text": [
      "100%|██████████| 9/9 [00:00<00:00, 31.20it/s]\n"
     ]
    },
    {
     "name": "stdout",
     "output_type": "stream",
     "text": [
      "Step: 8, Train Loss Now: 1.1448338627815247\n",
      "Step: 9, Train Loss Now: 1.1584600740008884\n"
     ]
    },
    {
     "name": "stderr",
     "output_type": "stream",
     "text": [
      "100%|██████████| 3/3 [00:00<00:00, 112.42it/s]\n",
      " 44%|████▍     | 4/9 [00:00<00:00, 33.35it/s]"
     ]
    },
    {
     "name": "stdout",
     "output_type": "stream",
     "text": [
      "Step: 1, Train Loss Now: 1.0923928022384644\n",
      "Step: 2, Train Loss Now: 1.1471364498138428\n",
      "Step: 3, Train Loss Now: 1.1856516202290852\n",
      "Step: 4, Train Loss Now: 1.1690357625484467\n",
      "Step: 5, Train Loss Now: 1.1495899438858033\n",
      "Step: 6, Train Loss Now: 1.1456722219785054\n",
      "Step: 7, Train Loss Now: 1.1850743974958147\n"
     ]
    },
    {
     "name": "stderr",
     "output_type": "stream",
     "text": [
      "100%|██████████| 9/9 [00:00<00:00, 34.15it/s]\n"
     ]
    },
    {
     "name": "stdout",
     "output_type": "stream",
     "text": [
      "Step: 8, Train Loss Now: 1.2076052576303482\n",
      "Step: 9, Train Loss Now: 1.1823320984840393\n"
     ]
    },
    {
     "name": "stderr",
     "output_type": "stream",
     "text": [
      "100%|██████████| 3/3 [00:00<00:00, 90.44it/s]\n",
      " 33%|███▎      | 3/9 [00:00<00:00, 23.69it/s]"
     ]
    },
    {
     "name": "stdout",
     "output_type": "stream",
     "text": [
      "Step: 1, Train Loss Now: 1.2164043188095093\n",
      "Step: 2, Train Loss Now: 1.2031704783439636\n",
      "Step: 3, Train Loss Now: 1.1595106919606526\n"
     ]
    },
    {
     "name": "stderr",
     "output_type": "stream",
     "text": [
      " 78%|███████▊  | 7/9 [00:00<00:00, 29.67it/s]"
     ]
    },
    {
     "name": "stdout",
     "output_type": "stream",
     "text": [
      "Step: 4, Train Loss Now: 1.2206418812274933\n",
      "Step: 5, Train Loss Now: 1.204166293144226\n",
      "Step: 6, Train Loss Now: 1.2118401924769084\n",
      "Step: 7, Train Loss Now: 1.215434159551348\n"
     ]
    },
    {
     "name": "stderr",
     "output_type": "stream",
     "text": [
      "100%|██████████| 9/9 [00:00<00:00, 29.33it/s]\n"
     ]
    },
    {
     "name": "stdout",
     "output_type": "stream",
     "text": [
      "Step: 8, Train Loss Now: 1.2019692808389664\n",
      "Step: 9, Train Loss Now: 1.175719161828359\n"
     ]
    },
    {
     "name": "stderr",
     "output_type": "stream",
     "text": [
      "100%|██████████| 3/3 [00:00<00:00, 90.37it/s]\n",
      "  0%|          | 0/9 [00:00<?, ?it/s]"
     ]
    },
    {
     "name": "stdout",
     "output_type": "stream",
     "text": [
      "Step: 1, Train Loss Now: 1.1932727098464966\n",
      "Step: 2, Train Loss Now: 1.1105387806892395\n",
      "Step: 3, Train Loss Now: 1.1409858465194702\n"
     ]
    },
    {
     "name": "stderr",
     "output_type": "stream",
     "text": [
      " 44%|████▍     | 4/9 [00:00<00:00, 29.38it/s]"
     ]
    },
    {
     "name": "stdout",
     "output_type": "stream",
     "text": [
      "Step: 4, Train Loss Now: 1.1877677142620087\n",
      "Step: 5, Train Loss Now: 1.1296411991119384\n",
      "Step: 6, Train Loss Now: 1.1163919568061829\n",
      "Step: 7, Train Loss Now: 1.1239918640681676\n"
     ]
    },
    {
     "name": "stderr",
     "output_type": "stream",
     "text": [
      "100%|██████████| 9/9 [00:00<00:00, 31.06it/s]\n"
     ]
    },
    {
     "name": "stdout",
     "output_type": "stream",
     "text": [
      "Step: 8, Train Loss Now: 1.1157220005989075\n",
      "Step: 9, Train Loss Now: 1.1323625644048054\n"
     ]
    },
    {
     "name": "stderr",
     "output_type": "stream",
     "text": [
      "100%|██████████| 3/3 [00:00<00:00, 89.97it/s]\n",
      " 44%|████▍     | 4/9 [00:00<00:00, 33.35it/s]"
     ]
    },
    {
     "name": "stdout",
     "output_type": "stream",
     "text": [
      "Step: 1, Train Loss Now: 1.0638056993484497\n",
      "Step: 2, Train Loss Now: 1.1293277740478516\n",
      "Step: 3, Train Loss Now: 1.1946791013081868\n",
      "Step: 4, Train Loss Now: 1.1783187687397003\n",
      "Step: 5, Train Loss Now: 1.141031813621521\n",
      "Step: 6, Train Loss Now: 1.110750436782837\n",
      "Step: 7, Train Loss Now: 1.1261058023997716\n"
     ]
    },
    {
     "name": "stderr",
     "output_type": "stream",
     "text": [
      "100%|██████████| 9/9 [00:00<00:00, 31.93it/s]\n"
     ]
    },
    {
     "name": "stdout",
     "output_type": "stream",
     "text": [
      "Step: 8, Train Loss Now: 1.1208054423332214\n",
      "Step: 9, Train Loss Now: 1.119426555103726\n"
     ]
    },
    {
     "name": "stderr",
     "output_type": "stream",
     "text": [
      "100%|██████████| 3/3 [00:00<00:00, 89.59it/s]\n",
      "  0%|          | 0/9 [00:00<?, ?it/s]"
     ]
    },
    {
     "name": "stdout",
     "output_type": "stream",
     "text": [
      "Step: 1, Train Loss Now: 1.2023591995239258\n"
     ]
    },
    {
     "name": "stderr",
     "output_type": "stream",
     "text": [
      " 44%|████▍     | 4/9 [00:00<00:00, 34.34it/s]"
     ]
    },
    {
     "name": "stdout",
     "output_type": "stream",
     "text": [
      "Step: 2, Train Loss Now: 1.2351757884025574\n",
      "Step: 3, Train Loss Now: 1.1589960654576619\n",
      "Step: 4, Train Loss Now: 1.1525371670722961\n",
      "Step: 5, Train Loss Now: 1.1423437595367432\n",
      "Step: 6, Train Loss Now: 1.126099427541097\n",
      "Step: 7, Train Loss Now: 1.1056405305862427\n"
     ]
    },
    {
     "name": "stderr",
     "output_type": "stream",
     "text": [
      " 89%|████████▉ | 8/9 [00:00<00:00, 32.84it/s]"
     ]
    },
    {
     "name": "stdout",
     "output_type": "stream",
     "text": [
      "Step: 8, Train Loss Now: 1.1256045997142792\n"
     ]
    },
    {
     "name": "stderr",
     "output_type": "stream",
     "text": [
      "100%|██████████| 9/9 [00:00<00:00, 32.53it/s]\n"
     ]
    },
    {
     "name": "stdout",
     "output_type": "stream",
     "text": [
      "Step: 9, Train Loss Now: 1.127672208680047\n"
     ]
    },
    {
     "name": "stderr",
     "output_type": "stream",
     "text": [
      "100%|██████████| 3/3 [00:00<00:00, 83.58it/s]\n",
      " 44%|████▍     | 4/9 [00:00<00:00, 36.38it/s]"
     ]
    },
    {
     "name": "stdout",
     "output_type": "stream",
     "text": [
      "Step: 1, Train Loss Now: 1.1173397302627563\n",
      "Step: 2, Train Loss Now: 1.1071146726608276\n",
      "Step: 3, Train Loss Now: 1.0433771014213562\n",
      "Step: 4, Train Loss Now: 1.0618177503347397\n",
      "Step: 5, Train Loss Now: 1.0957491278648377\n"
     ]
    },
    {
     "name": "stderr",
     "output_type": "stream",
     "text": [
      "100%|██████████| 9/9 [00:00<00:00, 25.85it/s]\n"
     ]
    },
    {
     "name": "stdout",
     "output_type": "stream",
     "text": [
      "Step: 6, Train Loss Now: 1.1100145280361176\n",
      "Step: 7, Train Loss Now: 1.1121609977313451\n",
      "Step: 8, Train Loss Now: 1.0961375162005424\n",
      "Step: 9, Train Loss Now: 1.1014687948756747\n"
     ]
    },
    {
     "name": "stderr",
     "output_type": "stream",
     "text": [
      "100%|██████████| 3/3 [00:00<00:00, 70.94it/s]\n",
      " 33%|███▎      | 3/9 [00:00<00:00, 27.46it/s]"
     ]
    },
    {
     "name": "stdout",
     "output_type": "stream",
     "text": [
      "Step: 1, Train Loss Now: 0.8918932676315308\n",
      "Step: 2, Train Loss Now: 1.0516944527626038\n",
      "Step: 3, Train Loss Now: 1.0260692636171977\n",
      "Step: 4, Train Loss Now: 1.1018503457307816\n",
      "Step: 5, Train Loss Now: 1.104016625881195\n",
      "Step: 6, Train Loss Now: 1.14431698123614\n"
     ]
    },
    {
     "name": "stderr",
     "output_type": "stream",
     "text": [
      "100%|██████████| 9/9 [00:00<00:00, 28.62it/s]\n"
     ]
    },
    {
     "name": "stdout",
     "output_type": "stream",
     "text": [
      "Step: 7, Train Loss Now: 1.1271966440337045\n",
      "Step: 8, Train Loss Now: 1.130632571876049\n",
      "Step: 9, Train Loss Now: 1.1322422093815274\n"
     ]
    },
    {
     "name": "stderr",
     "output_type": "stream",
     "text": [
      "100%|██████████| 3/3 [00:00<00:00, 79.48it/s]\n",
      "  0%|          | 0/9 [00:00<?, ?it/s]"
     ]
    },
    {
     "name": "stdout",
     "output_type": "stream",
     "text": [
      "Step: 1, Train Loss Now: 0.9956722855567932\n"
     ]
    },
    {
     "name": "stderr",
     "output_type": "stream",
     "text": [
      " 33%|███▎      | 3/9 [00:00<00:00, 19.53it/s]"
     ]
    },
    {
     "name": "stdout",
     "output_type": "stream",
     "text": [
      "Step: 2, Train Loss Now: 1.1525693833827972\n",
      "Step: 3, Train Loss Now: 1.1164334813753765\n",
      "Step: 4, Train Loss Now: 1.0974643677473068\n",
      "Step: 5, Train Loss Now: 1.1565321564674378\n"
     ]
    },
    {
     "name": "stderr",
     "output_type": "stream",
     "text": [
      "100%|██████████| 9/9 [00:00<00:00, 24.74it/s]\n"
     ]
    },
    {
     "name": "stdout",
     "output_type": "stream",
     "text": [
      "Step: 6, Train Loss Now: 1.1554276843865712\n",
      "Step: 7, Train Loss Now: 1.1876714825630188\n",
      "Step: 8, Train Loss Now: 1.1496901884675026\n",
      "Step: 9, Train Loss Now: 1.1404437555207148\n"
     ]
    },
    {
     "name": "stderr",
     "output_type": "stream",
     "text": [
      "100%|██████████| 3/3 [00:00<00:00, 75.30it/s]\n",
      "  0%|          | 0/9 [00:00<?, ?it/s]"
     ]
    },
    {
     "name": "stdout",
     "output_type": "stream",
     "text": [
      "Step: 1, Train Loss Now: 1.1680129766464233\n"
     ]
    },
    {
     "name": "stderr",
     "output_type": "stream",
     "text": [
      " 33%|███▎      | 3/9 [00:00<00:00, 29.01it/s]"
     ]
    },
    {
     "name": "stdout",
     "output_type": "stream",
     "text": [
      "Step: 2, Train Loss Now: 1.2046892046928406\n",
      "Step: 3, Train Loss Now: 1.2120877504348755\n",
      "Step: 4, Train Loss Now: 1.213685005903244\n",
      "Step: 5, Train Loss Now: 1.1492963314056397\n",
      "Step: 6, Train Loss Now: 1.1241057912508647\n"
     ]
    },
    {
     "name": "stderr",
     "output_type": "stream",
     "text": [
      " 78%|███████▊  | 7/9 [00:00<00:00, 30.20it/s]"
     ]
    },
    {
     "name": "stdout",
     "output_type": "stream",
     "text": [
      "Step: 7, Train Loss Now: 1.1345216546739851\n",
      "Step: 8, Train Loss Now: 1.1261490136384964\n"
     ]
    },
    {
     "name": "stderr",
     "output_type": "stream",
     "text": [
      "100%|██████████| 9/9 [00:00<00:00, 30.67it/s]\n"
     ]
    },
    {
     "name": "stdout",
     "output_type": "stream",
     "text": [
      "Step: 9, Train Loss Now: 1.123082651032342\n"
     ]
    },
    {
     "name": "stderr",
     "output_type": "stream",
     "text": [
      "100%|██████████| 3/3 [00:00<00:00, 82.54it/s]\n",
      "  0%|          | 0/9 [00:00<?, ?it/s]"
     ]
    },
    {
     "name": "stdout",
     "output_type": "stream",
     "text": [
      "Step: 1, Train Loss Now: 1.105149269104004\n",
      "Step: 2, Train Loss Now: 1.1328349709510803\n",
      "Step: 3, Train Loss Now: 1.1532763640085857\n"
     ]
    },
    {
     "name": "stderr",
     "output_type": "stream",
     "text": [
      " 44%|████▍     | 4/9 [00:00<00:00, 36.38it/s]"
     ]
    },
    {
     "name": "stdout",
     "output_type": "stream",
     "text": [
      "Step: 4, Train Loss Now: 1.0981207340955734\n",
      "Step: 5, Train Loss Now: 1.1040685534477235\n",
      "Step: 6, Train Loss Now: 1.081400563319524\n",
      "Step: 7, Train Loss Now: 1.0893551026071822\n"
     ]
    },
    {
     "name": "stderr",
     "output_type": "stream",
     "text": [
      "100%|██████████| 9/9 [00:00<00:00, 33.72it/s]\n"
     ]
    },
    {
     "name": "stdout",
     "output_type": "stream",
     "text": [
      "Step: 8, Train Loss Now: 1.091423086822033\n",
      "Step: 9, Train Loss Now: 1.0957678225305345\n"
     ]
    },
    {
     "name": "stderr",
     "output_type": "stream",
     "text": [
      "100%|██████████| 3/3 [00:00<00:00, 90.32it/s]\n",
      "  0%|          | 0/9 [00:00<?, ?it/s]"
     ]
    },
    {
     "name": "stdout",
     "output_type": "stream",
     "text": [
      "Step: 1, Train Loss Now: 1.02609384059906\n"
     ]
    },
    {
     "name": "stderr",
     "output_type": "stream",
     "text": [
      " 33%|███▎      | 3/9 [00:00<00:00, 29.94it/s]"
     ]
    },
    {
     "name": "stdout",
     "output_type": "stream",
     "text": [
      "Step: 2, Train Loss Now: 1.0006801784038544\n",
      "Step: 3, Train Loss Now: 1.0250088969866435\n",
      "Step: 4, Train Loss Now: 1.0269060581922531\n"
     ]
    },
    {
     "name": "stderr",
     "output_type": "stream",
     "text": [
      " 67%|██████▋   | 6/9 [00:00<00:00, 29.43it/s]"
     ]
    },
    {
     "name": "stdout",
     "output_type": "stream",
     "text": [
      "Step: 5, Train Loss Now: 1.026816475391388\n",
      "Step: 6, Train Loss Now: 1.033496747414271\n",
      "Step: 7, Train Loss Now: 1.0655069947242737\n",
      "Step: 8, Train Loss Now: 1.079361341893673\n"
     ]
    },
    {
     "name": "stderr",
     "output_type": "stream",
     "text": [
      "100%|██████████| 9/9 [00:00<00:00, 30.34it/s]\n"
     ]
    },
    {
     "name": "stdout",
     "output_type": "stream",
     "text": [
      "Step: 9, Train Loss Now: 1.081053422556983\n"
     ]
    },
    {
     "name": "stderr",
     "output_type": "stream",
     "text": [
      "100%|██████████| 3/3 [00:00<00:00, 81.91it/s]\n",
      "  0%|          | 0/9 [00:00<?, ?it/s]"
     ]
    },
    {
     "name": "stdout",
     "output_type": "stream",
     "text": [
      "Step: 1, Train Loss Now: 1.139614224433899\n",
      "Step: 2, Train Loss Now: 1.1381489038467407\n"
     ]
    },
    {
     "name": "stderr",
     "output_type": "stream",
     "text": [
      " 33%|███▎      | 3/9 [00:00<00:00, 29.95it/s]"
     ]
    },
    {
     "name": "stdout",
     "output_type": "stream",
     "text": [
      "Step: 3, Train Loss Now: 1.160223086675008\n",
      "Step: 4, Train Loss Now: 1.1462908685207367\n"
     ]
    },
    {
     "name": "stderr",
     "output_type": "stream",
     "text": [
      " 78%|███████▊  | 7/9 [00:00<00:00, 30.51it/s]"
     ]
    },
    {
     "name": "stdout",
     "output_type": "stream",
     "text": [
      "Step: 5, Train Loss Now: 1.122568964958191\n",
      "Step: 6, Train Loss Now: 1.1027791500091553\n",
      "Step: 7, Train Loss Now: 1.0863910913467407\n",
      "Step: 8, Train Loss Now: 1.0868954062461853\n",
      "Step: 9, Train Loss Now: 1.0663925210634868\n"
     ]
    },
    {
     "name": "stderr",
     "output_type": "stream",
     "text": [
      "100%|██████████| 9/9 [00:00<00:00, 30.34it/s]\n",
      "100%|██████████| 3/3 [00:00<00:00, 114.08it/s]\n",
      " 44%|████▍     | 4/9 [00:00<00:00, 33.35it/s]"
     ]
    },
    {
     "name": "stdout",
     "output_type": "stream",
     "text": [
      "Step: 1, Train Loss Now: 1.200486183166504\n",
      "Step: 2, Train Loss Now: 1.1223120093345642\n",
      "Step: 3, Train Loss Now: 1.0877630710601807\n",
      "Step: 4, Train Loss Now: 1.0827758312225342\n",
      "Step: 5, Train Loss Now: 1.0614624261856078\n",
      "Step: 6, Train Loss Now: 1.0614336133003235\n",
      "Step: 7, Train Loss Now: 1.076959184237889\n"
     ]
    },
    {
     "name": "stderr",
     "output_type": "stream",
     "text": [
      "100%|██████████| 9/9 [00:00<00:00, 32.76it/s]\n"
     ]
    },
    {
     "name": "stdout",
     "output_type": "stream",
     "text": [
      "Step: 8, Train Loss Now: 1.0573332384228706\n",
      "Step: 9, Train Loss Now: 1.0452690985467699\n"
     ]
    },
    {
     "name": "stderr",
     "output_type": "stream",
     "text": [
      "100%|██████████| 3/3 [00:00<00:00, 93.04it/s]\n",
      "  0%|          | 0/9 [00:00<?, ?it/s]"
     ]
    },
    {
     "name": "stdout",
     "output_type": "stream",
     "text": [
      "Step: 1, Train Loss Now: 1.1035586595535278\n"
     ]
    },
    {
     "name": "stderr",
     "output_type": "stream",
     "text": [
      " 44%|████▍     | 4/9 [00:00<00:00, 34.60it/s]"
     ]
    },
    {
     "name": "stdout",
     "output_type": "stream",
     "text": [
      "Step: 2, Train Loss Now: 1.1874589920043945\n",
      "Step: 3, Train Loss Now: 1.0868809819221497\n",
      "Step: 4, Train Loss Now: 1.0587384551763535\n",
      "Step: 5, Train Loss Now: 1.0277215242385864\n",
      "Step: 6, Train Loss Now: 1.0152746737003326\n",
      "Step: 7, Train Loss Now: 1.0398066810199194\n"
     ]
    },
    {
     "name": "stderr",
     "output_type": "stream",
     "text": [
      " 89%|████████▉ | 8/9 [00:00<00:00, 32.51it/s]"
     ]
    },
    {
     "name": "stdout",
     "output_type": "stream",
     "text": [
      "Step: 8, Train Loss Now: 1.0480780079960823\n"
     ]
    },
    {
     "name": "stderr",
     "output_type": "stream",
     "text": [
      "100%|██████████| 9/9 [00:00<00:00, 29.09it/s]\n"
     ]
    },
    {
     "name": "stdout",
     "output_type": "stream",
     "text": [
      "Step: 9, Train Loss Now: 1.025070031483968\n"
     ]
    },
    {
     "name": "stderr",
     "output_type": "stream",
     "text": [
      "100%|██████████| 3/3 [00:00<00:00, 79.59it/s]\n",
      "  0%|          | 0/9 [00:00<?, ?it/s]"
     ]
    },
    {
     "name": "stdout",
     "output_type": "stream",
     "text": [
      "Step: 1, Train Loss Now: 1.228776216506958\n",
      "Step: 2, Train Loss Now: 1.1025543212890625\n"
     ]
    },
    {
     "name": "stderr",
     "output_type": "stream",
     "text": [
      " 44%|████▍     | 4/9 [00:00<00:00, 31.51it/s]"
     ]
    },
    {
     "name": "stdout",
     "output_type": "stream",
     "text": [
      "Step: 3, Train Loss Now: 1.1232976913452148\n",
      "Step: 4, Train Loss Now: 1.0925103425979614\n",
      "Step: 5, Train Loss Now: 1.101858639717102\n",
      "Step: 6, Train Loss Now: 1.089447061220805\n"
     ]
    },
    {
     "name": "stderr",
     "output_type": "stream",
     "text": [
      "100%|██████████| 9/9 [00:00<00:00, 31.33it/s]"
     ]
    },
    {
     "name": "stdout",
     "output_type": "stream",
     "text": [
      "Step: 7, Train Loss Now: 1.0921445403780257\n",
      "Step: 8, Train Loss Now: 1.0910884588956833\n",
      "Step: 9, Train Loss Now: 1.065833138095008\n"
     ]
    },
    {
     "name": "stderr",
     "output_type": "stream",
     "text": [
      "\n",
      "100%|██████████| 3/3 [00:00<00:00, 100.06it/s]\n",
      "  0%|          | 0/9 [00:00<?, ?it/s]"
     ]
    },
    {
     "name": "stdout",
     "output_type": "stream",
     "text": [
      "Step: 1, Train Loss Now: 1.0354362726211548\n",
      "Step: 2, Train Loss Now: 1.0480110049247742\n"
     ]
    },
    {
     "name": "stderr",
     "output_type": "stream",
     "text": [
      " 44%|████▍     | 4/9 [00:00<00:00, 31.30it/s]"
     ]
    },
    {
     "name": "stdout",
     "output_type": "stream",
     "text": [
      "Step: 3, Train Loss Now: 1.0885918537775676\n",
      "Step: 4, Train Loss Now: 1.1173757314682007\n",
      "Step: 5, Train Loss Now: 1.1126989603042603\n",
      "Step: 6, Train Loss Now: 1.09041033188502\n",
      "Step: 7, Train Loss Now: 1.089036464691162\n"
     ]
    },
    {
     "name": "stderr",
     "output_type": "stream",
     "text": [
      "100%|██████████| 9/9 [00:00<00:00, 32.41it/s]"
     ]
    },
    {
     "name": "stdout",
     "output_type": "stream",
     "text": [
      "Step: 8, Train Loss Now: 1.0688116699457169\n",
      "Step: 9, Train Loss Now: 1.0585733188523188\n"
     ]
    },
    {
     "name": "stderr",
     "output_type": "stream",
     "text": [
      "\n",
      "100%|██████████| 3/3 [00:00<00:00, 80.31it/s]\n",
      " 33%|███▎      | 3/9 [00:00<00:00, 28.03it/s]"
     ]
    },
    {
     "name": "stdout",
     "output_type": "stream",
     "text": [
      "Step: 1, Train Loss Now: 1.1858601570129395\n",
      "Step: 2, Train Loss Now: 1.0429233014583588\n",
      "Step: 3, Train Loss Now: 1.053142249584198\n",
      "Step: 4, Train Loss Now: 1.07073275744915\n",
      "Step: 5, Train Loss Now: 1.0585893273353577\n",
      "Step: 6, Train Loss Now: 1.0632011592388153\n"
     ]
    },
    {
     "name": "stderr",
     "output_type": "stream",
     "text": [
      "100%|██████████| 9/9 [00:00<00:00, 33.19it/s]\n"
     ]
    },
    {
     "name": "stdout",
     "output_type": "stream",
     "text": [
      "Step: 7, Train Loss Now: 1.080669036933354\n",
      "Step: 8, Train Loss Now: 1.054120846092701\n",
      "Step: 9, Train Loss Now: 1.0473632216453552\n"
     ]
    },
    {
     "name": "stderr",
     "output_type": "stream",
     "text": [
      "100%|██████████| 3/3 [00:00<00:00, 93.82it/s]\n",
      "  0%|          | 0/9 [00:00<?, ?it/s]"
     ]
    },
    {
     "name": "stdout",
     "output_type": "stream",
     "text": [
      "Step: 1, Train Loss Now: 0.9544876217842102\n",
      "Step: 2, Train Loss Now: 1.0055164992809296\n",
      "Step: 3, Train Loss Now: 0.9798468947410583\n"
     ]
    },
    {
     "name": "stderr",
     "output_type": "stream",
     "text": [
      " 44%|████▍     | 4/9 [00:00<00:00, 33.25it/s]"
     ]
    },
    {
     "name": "stdout",
     "output_type": "stream",
     "text": [
      "Step: 4, Train Loss Now: 0.9689849615097046\n",
      "Step: 5, Train Loss Now: 1.007089614868164\n",
      "Step: 6, Train Loss Now: 1.0058648983637493\n",
      "Step: 7, Train Loss Now: 0.9938304168837411\n"
     ]
    },
    {
     "name": "stderr",
     "output_type": "stream",
     "text": [
      "100%|██████████| 9/9 [00:00<00:00, 32.10it/s]\n"
     ]
    },
    {
     "name": "stdout",
     "output_type": "stream",
     "text": [
      "Step: 8, Train Loss Now: 1.0118106976151466\n",
      "Step: 9, Train Loss Now: 1.0067599614461262\n"
     ]
    },
    {
     "name": "stderr",
     "output_type": "stream",
     "text": [
      "100%|██████████| 3/3 [00:00<00:00, 165.30it/s]\n",
      " 44%|████▍     | 4/9 [00:00<00:00, 34.37it/s]"
     ]
    },
    {
     "name": "stdout",
     "output_type": "stream",
     "text": [
      "Step: 1, Train Loss Now: 0.9260596632957458\n",
      "Step: 2, Train Loss Now: 1.0317325294017792\n",
      "Step: 3, Train Loss Now: 0.9767217636108398\n",
      "Step: 4, Train Loss Now: 0.9948203563690186\n",
      "Step: 5, Train Loss Now: 0.9960792303085327\n",
      "Step: 6, Train Loss Now: 1.0361313819885254\n",
      "Step: 7, Train Loss Now: 1.0259810856410436\n"
     ]
    },
    {
     "name": "stderr",
     "output_type": "stream",
     "text": [
      "100%|██████████| 9/9 [00:00<00:00, 32.99it/s]\n"
     ]
    },
    {
     "name": "stdout",
     "output_type": "stream",
     "text": [
      "Step: 8, Train Loss Now: 1.0204766914248466\n",
      "Step: 9, Train Loss Now: 1.0266659061113994\n"
     ]
    },
    {
     "name": "stderr",
     "output_type": "stream",
     "text": [
      "100%|██████████| 3/3 [00:00<00:00, 96.34it/s]\n",
      "  0%|          | 0/9 [00:00<?, ?it/s]"
     ]
    },
    {
     "name": "stdout",
     "output_type": "stream",
     "text": [
      "Step: 1, Train Loss Now: 1.330876350402832\n",
      "Step: 2, Train Loss Now: 1.1657299995422363\n"
     ]
    },
    {
     "name": "stderr",
     "output_type": "stream",
     "text": [
      " 44%|████▍     | 4/9 [00:00<00:00, 34.02it/s]"
     ]
    },
    {
     "name": "stdout",
     "output_type": "stream",
     "text": [
      "Step: 3, Train Loss Now: 1.0917901198069255\n",
      "Step: 4, Train Loss Now: 1.060778647661209\n",
      "Step: 5, Train Loss Now: 1.0273643136024475\n",
      "Step: 6, Train Loss Now: 0.9914918839931488\n",
      "Step: 7, Train Loss Now: 0.9967697773660932\n"
     ]
    },
    {
     "name": "stderr",
     "output_type": "stream",
     "text": [
      "100%|██████████| 9/9 [00:00<00:00, 32.17it/s]"
     ]
    },
    {
     "name": "stdout",
     "output_type": "stream",
     "text": [
      "Step: 8, Train Loss Now: 1.008810706436634\n",
      "Step: 9, Train Loss Now: 0.9951896468798319\n"
     ]
    },
    {
     "name": "stderr",
     "output_type": "stream",
     "text": [
      "\n",
      "100%|██████████| 3/3 [00:00<00:00, 89.41it/s]\n",
      "  0%|          | 0/9 [00:00<?, ?it/s]"
     ]
    },
    {
     "name": "stdout",
     "output_type": "stream",
     "text": [
      "Step: 1, Train Loss Now: 0.970753014087677\n"
     ]
    },
    {
     "name": "stderr",
     "output_type": "stream",
     "text": [
      " 44%|████▍     | 4/9 [00:00<00:00, 31.53it/s]"
     ]
    },
    {
     "name": "stdout",
     "output_type": "stream",
     "text": [
      "Step: 2, Train Loss Now: 0.9196275174617767\n",
      "Step: 3, Train Loss Now: 0.8834765752156576\n",
      "Step: 4, Train Loss Now: 0.9398306012153625\n",
      "Step: 5, Train Loss Now: 0.9460626125335694\n",
      "Step: 6, Train Loss Now: 0.942562460899353\n"
     ]
    },
    {
     "name": "stderr",
     "output_type": "stream",
     "text": [
      " 89%|████████▉ | 8/9 [00:00<00:00, 31.50it/s]"
     ]
    },
    {
     "name": "stdout",
     "output_type": "stream",
     "text": [
      "Step: 7, Train Loss Now: 1.000597391809736\n",
      "Step: 8, Train Loss Now: 1.0150183886289597\n"
     ]
    },
    {
     "name": "stderr",
     "output_type": "stream",
     "text": [
      "100%|██████████| 9/9 [00:00<00:00, 29.98it/s]\n"
     ]
    },
    {
     "name": "stdout",
     "output_type": "stream",
     "text": [
      "Step: 9, Train Loss Now: 1.0253655248218112\n"
     ]
    },
    {
     "name": "stderr",
     "output_type": "stream",
     "text": [
      "100%|██████████| 3/3 [00:00<00:00, 30.02it/s]\n",
      "  0%|          | 0/9 [00:00<?, ?it/s]"
     ]
    },
    {
     "name": "stdout",
     "output_type": "stream",
     "text": [
      "Step: 1, Train Loss Now: 0.9436929821968079\n",
      "Step: 2, Train Loss Now: 1.0101108253002167\n"
     ]
    },
    {
     "name": "stderr",
     "output_type": "stream",
     "text": [
      " 78%|███████▊  | 7/9 [00:00<00:00, 28.93it/s]"
     ]
    },
    {
     "name": "stdout",
     "output_type": "stream",
     "text": [
      "Step: 3, Train Loss Now: 1.0281635721524556\n",
      "Step: 4, Train Loss Now: 1.0327006727457047\n",
      "Step: 5, Train Loss Now: 1.0182519674301147\n",
      "Step: 6, Train Loss Now: 1.0415738622347515\n",
      "Step: 7, Train Loss Now: 1.0736380134310042\n",
      "Step: 8, Train Loss Now: 1.1061933487653732\n"
     ]
    },
    {
     "name": "stderr",
     "output_type": "stream",
     "text": [
      "100%|██████████| 9/9 [00:00<00:00, 29.06it/s]\n"
     ]
    },
    {
     "name": "stdout",
     "output_type": "stream",
     "text": [
      "Step: 9, Train Loss Now: 1.1003137959374323\n"
     ]
    },
    {
     "name": "stderr",
     "output_type": "stream",
     "text": [
      "100%|██████████| 3/3 [00:00<00:00, 75.54it/s]\n",
      " 33%|███▎      | 3/9 [00:00<00:00, 29.56it/s]"
     ]
    },
    {
     "name": "stdout",
     "output_type": "stream",
     "text": [
      "Step: 1, Train Loss Now: 0.9359501600265503\n",
      "Step: 2, Train Loss Now: 1.0704308152198792\n",
      "Step: 3, Train Loss Now: 1.0133723020553589\n",
      "Step: 4, Train Loss Now: 1.0092580914497375\n",
      "Step: 5, Train Loss Now: 1.0109946727752686\n",
      "Step: 6, Train Loss Now: 1.0412629048029582\n"
     ]
    },
    {
     "name": "stderr",
     "output_type": "stream",
     "text": [
      "100%|██████████| 9/9 [00:00<00:00, 30.15it/s]\n"
     ]
    },
    {
     "name": "stdout",
     "output_type": "stream",
     "text": [
      "Step: 7, Train Loss Now: 1.0349215183939253\n",
      "Step: 8, Train Loss Now: 1.0389379933476448\n",
      "Step: 9, Train Loss Now: 1.0369032157791986\n"
     ]
    },
    {
     "name": "stderr",
     "output_type": "stream",
     "text": [
      "100%|██████████| 3/3 [00:00<00:00, 86.24it/s]\n",
      "  0%|          | 0/9 [00:00<?, ?it/s]"
     ]
    },
    {
     "name": "stdout",
     "output_type": "stream",
     "text": [
      "Step: 1, Train Loss Now: 0.9222272634506226\n",
      "Step: 2, Train Loss Now: 0.9784560799598694\n"
     ]
    },
    {
     "name": "stderr",
     "output_type": "stream",
     "text": [
      " 44%|████▍     | 4/9 [00:00<00:00, 28.40it/s]"
     ]
    },
    {
     "name": "stdout",
     "output_type": "stream",
     "text": [
      "Step: 3, Train Loss Now: 0.9057856202125549\n",
      "Step: 4, Train Loss Now: 0.9712152928113937\n",
      "Step: 5, Train Loss Now: 1.0385066151618958\n",
      "Step: 6, Train Loss Now: 1.033338616291682\n",
      "Step: 7, Train Loss Now: 1.0592894639287675\n"
     ]
    },
    {
     "name": "stderr",
     "output_type": "stream",
     "text": [
      "100%|██████████| 9/9 [00:00<00:00, 31.10it/s]"
     ]
    },
    {
     "name": "stdout",
     "output_type": "stream",
     "text": [
      "Step: 8, Train Loss Now: 1.0381973460316658\n",
      "Step: 9, Train Loss Now: 1.0215196477042303\n"
     ]
    },
    {
     "name": "stderr",
     "output_type": "stream",
     "text": [
      "\n",
      "100%|██████████| 3/3 [00:00<00:00, 89.28it/s]\n",
      " 44%|████▍     | 4/9 [00:00<00:00, 34.97it/s]"
     ]
    },
    {
     "name": "stdout",
     "output_type": "stream",
     "text": [
      "Step: 1, Train Loss Now: 0.9497562646865845\n",
      "Step: 2, Train Loss Now: 0.9428679943084717\n",
      "Step: 3, Train Loss Now: 0.9504349033037821\n",
      "Step: 4, Train Loss Now: 0.9680269509553909\n"
     ]
    },
    {
     "name": "stderr",
     "output_type": "stream",
     "text": [
      " 89%|████████▉ | 8/9 [00:00<00:00, 35.28it/s]"
     ]
    },
    {
     "name": "stdout",
     "output_type": "stream",
     "text": [
      "Step: 5, Train Loss Now: 0.9978392243385314\n",
      "Step: 6, Train Loss Now: 0.9950468639532725\n",
      "Step: 7, Train Loss Now: 1.0048263839312963\n",
      "Step: 8, Train Loss Now: 1.0058319792151451\n"
     ]
    },
    {
     "name": "stderr",
     "output_type": "stream",
     "text": [
      "100%|██████████| 9/9 [00:00<00:00, 35.10it/s]\n"
     ]
    },
    {
     "name": "stdout",
     "output_type": "stream",
     "text": [
      "Step: 9, Train Loss Now: 1.0227856437365215\n"
     ]
    },
    {
     "name": "stderr",
     "output_type": "stream",
     "text": [
      "100%|██████████| 3/3 [00:00<00:00, 89.33it/s]\n",
      "  0%|          | 0/9 [00:00<?, ?it/s]"
     ]
    },
    {
     "name": "stdout",
     "output_type": "stream",
     "text": [
      "Step: 1, Train Loss Now: 0.9266425371170044\n"
     ]
    },
    {
     "name": "stderr",
     "output_type": "stream",
     "text": [
      " 44%|████▍     | 4/9 [00:00<00:00, 30.30it/s]"
     ]
    },
    {
     "name": "stdout",
     "output_type": "stream",
     "text": [
      "Step: 2, Train Loss Now: 0.9604001045227051\n",
      "Step: 3, Train Loss Now: 1.0035510063171387\n",
      "Step: 4, Train Loss Now: 0.979495957493782\n",
      "Step: 5, Train Loss Now: 0.9831313848495483\n",
      "Step: 6, Train Loss Now: 0.9653895894686381\n",
      "Step: 7, Train Loss Now: 0.9558447429112026\n"
     ]
    },
    {
     "name": "stderr",
     "output_type": "stream",
     "text": [
      "100%|██████████| 9/9 [00:00<00:00, 31.99it/s]\n"
     ]
    },
    {
     "name": "stdout",
     "output_type": "stream",
     "text": [
      "Step: 8, Train Loss Now: 0.990909993648529\n",
      "Step: 9, Train Loss Now: 1.0010598765479193\n"
     ]
    },
    {
     "name": "stderr",
     "output_type": "stream",
     "text": [
      "100%|██████████| 3/3 [00:00<00:00, 76.89it/s]\n",
      "  0%|          | 0/9 [00:00<?, ?it/s]"
     ]
    },
    {
     "name": "stdout",
     "output_type": "stream",
     "text": [
      "Step: 1, Train Loss Now: 0.8341354131698608\n",
      "Step: 2, Train Loss Now: 0.8667344450950623\n"
     ]
    },
    {
     "name": "stderr",
     "output_type": "stream",
     "text": [
      " 44%|████▍     | 4/9 [00:00<00:00, 35.74it/s]"
     ]
    },
    {
     "name": "stdout",
     "output_type": "stream",
     "text": [
      "Step: 3, Train Loss Now: 0.8964048425356547\n",
      "Step: 4, Train Loss Now: 0.9049457758665085\n"
     ]
    },
    {
     "name": "stderr",
     "output_type": "stream",
     "text": [
      " 89%|████████▉ | 8/9 [00:00<00:00, 33.61it/s]"
     ]
    },
    {
     "name": "stdout",
     "output_type": "stream",
     "text": [
      "Step: 5, Train Loss Now: 0.9576152682304382\n",
      "Step: 6, Train Loss Now: 0.9505204558372498\n",
      "Step: 7, Train Loss Now: 0.9639032568250384\n",
      "Step: 8, Train Loss Now: 0.9747240990400314\n",
      "Step: 9, Train Loss Now: 0.999458392461141\n"
     ]
    },
    {
     "name": "stderr",
     "output_type": "stream",
     "text": [
      "100%|██████████| 9/9 [00:00<00:00, 33.35it/s]\n",
      "100%|██████████| 3/3 [00:00<00:00, 44.75it/s]\n",
      " 44%|████▍     | 4/9 [00:00<00:00, 36.34it/s]"
     ]
    },
    {
     "name": "stdout",
     "output_type": "stream",
     "text": [
      "Step: 1, Train Loss Now: 0.9031143188476562\n",
      "Step: 2, Train Loss Now: 0.8757103681564331\n",
      "Step: 3, Train Loss Now: 0.8642831643422445\n",
      "Step: 4, Train Loss Now: 0.8891274183988571\n"
     ]
    },
    {
     "name": "stderr",
     "output_type": "stream",
     "text": [
      " 89%|████████▉ | 8/9 [00:00<00:00, 35.09it/s]"
     ]
    },
    {
     "name": "stdout",
     "output_type": "stream",
     "text": [
      "Step: 5, Train Loss Now: 0.927306592464447\n",
      "Step: 6, Train Loss Now: 0.9340489407380422\n",
      "Step: 7, Train Loss Now: 0.9590203506605965\n",
      "Step: 8, Train Loss Now: 0.954217791557312\n"
     ]
    },
    {
     "name": "stderr",
     "output_type": "stream",
     "text": [
      "100%|██████████| 9/9 [00:00<00:00, 34.23it/s]\n"
     ]
    },
    {
     "name": "stdout",
     "output_type": "stream",
     "text": [
      "Step: 9, Train Loss Now: 0.9606202046076456\n"
     ]
    },
    {
     "name": "stderr",
     "output_type": "stream",
     "text": [
      "100%|██████████| 3/3 [00:00<00:00, 88.22it/s]\n",
      "  0%|          | 0/9 [00:00<?, ?it/s]"
     ]
    },
    {
     "name": "stdout",
     "output_type": "stream",
     "text": [
      "Step: 1, Train Loss Now: 0.7674036026000977\n"
     ]
    },
    {
     "name": "stderr",
     "output_type": "stream",
     "text": [
      " 44%|████▍     | 4/9 [00:00<00:00, 31.55it/s]"
     ]
    },
    {
     "name": "stdout",
     "output_type": "stream",
     "text": [
      "Step: 2, Train Loss Now: 0.8049543499946594\n",
      "Step: 3, Train Loss Now: 0.8883020480473837\n",
      "Step: 4, Train Loss Now: 0.9094687253236771\n",
      "Step: 5, Train Loss Now: 0.9082698106765748\n",
      "Step: 6, Train Loss Now: 0.9130183855692545\n",
      "Step: 7, Train Loss Now: 0.9467884131840297\n"
     ]
    },
    {
     "name": "stderr",
     "output_type": "stream",
     "text": [
      " 89%|████████▉ | 8/9 [00:00<00:00, 33.09it/s]"
     ]
    },
    {
     "name": "stdout",
     "output_type": "stream",
     "text": [
      "Step: 8, Train Loss Now: 0.9417861625552177\n"
     ]
    },
    {
     "name": "stderr",
     "output_type": "stream",
     "text": [
      "100%|██████████| 9/9 [00:00<00:00, 33.58it/s]\n"
     ]
    },
    {
     "name": "stdout",
     "output_type": "stream",
     "text": [
      "Step: 9, Train Loss Now: 0.9226940804057651\n"
     ]
    },
    {
     "name": "stderr",
     "output_type": "stream",
     "text": [
      "100%|██████████| 3/3 [00:00<00:00, 70.42it/s]\n",
      "  0%|          | 0/9 [00:00<?, ?it/s]"
     ]
    },
    {
     "name": "stdout",
     "output_type": "stream",
     "text": [
      "Step: 1, Train Loss Now: 0.6714438796043396\n",
      "Step: 2, Train Loss Now: 0.7251051962375641\n"
     ]
    },
    {
     "name": "stderr",
     "output_type": "stream",
     "text": [
      " 44%|████▍     | 4/9 [00:00<00:00, 32.60it/s]"
     ]
    },
    {
     "name": "stdout",
     "output_type": "stream",
     "text": [
      "Step: 3, Train Loss Now: 0.8422058622042338\n",
      "Step: 4, Train Loss Now: 0.8652047514915466\n",
      "Step: 5, Train Loss Now: 0.8701030254364014\n",
      "Step: 6, Train Loss Now: 0.8781149387359619\n",
      "Step: 7, Train Loss Now: 0.9178388799939837\n"
     ]
    },
    {
     "name": "stderr",
     "output_type": "stream",
     "text": [
      "100%|██████████| 9/9 [00:00<00:00, 31.72it/s]"
     ]
    },
    {
     "name": "stdout",
     "output_type": "stream",
     "text": [
      "Step: 8, Train Loss Now: 0.9422659426927567\n",
      "Step: 9, Train Loss Now: 0.9314672152201334\n"
     ]
    },
    {
     "name": "stderr",
     "output_type": "stream",
     "text": [
      "\n",
      "100%|██████████| 3/3 [00:00<00:00, 86.92it/s]\n",
      "  0%|          | 0/9 [00:00<?, ?it/s]"
     ]
    },
    {
     "name": "stdout",
     "output_type": "stream",
     "text": [
      "Step: 1, Train Loss Now: 0.7961293458938599\n",
      "Step: 2, Train Loss Now: 0.8661145865917206\n"
     ]
    },
    {
     "name": "stderr",
     "output_type": "stream",
     "text": [
      " 44%|████▍     | 4/9 [00:00<00:00, 32.40it/s]"
     ]
    },
    {
     "name": "stdout",
     "output_type": "stream",
     "text": [
      "Step: 3, Train Loss Now: 0.8690134088198344\n",
      "Step: 4, Train Loss Now: 0.8603892475366592\n"
     ]
    },
    {
     "name": "stderr",
     "output_type": "stream",
     "text": [
      " 89%|████████▉ | 8/9 [00:00<00:00, 34.74it/s]"
     ]
    },
    {
     "name": "stdout",
     "output_type": "stream",
     "text": [
      "Step: 5, Train Loss Now: 0.8521652221679688\n",
      "Step: 6, Train Loss Now: 0.8600243628025055\n",
      "Step: 7, Train Loss Now: 0.8981451562472752\n",
      "Step: 8, Train Loss Now: 0.9136215373873711\n",
      "Step: 9, Train Loss Now: 0.9164609445465935\n"
     ]
    },
    {
     "name": "stderr",
     "output_type": "stream",
     "text": [
      "100%|██████████| 9/9 [00:00<00:00, 33.69it/s]\n",
      "100%|██████████| 3/3 [00:00<00:00, 90.04it/s]\n",
      "  0%|          | 0/9 [00:00<?, ?it/s]"
     ]
    },
    {
     "name": "stdout",
     "output_type": "stream",
     "text": [
      "Step: 1, Train Loss Now: 1.11626136302948\n"
     ]
    },
    {
     "name": "stderr",
     "output_type": "stream",
     "text": [
      " 44%|████▍     | 4/9 [00:00<00:00, 34.79it/s]"
     ]
    },
    {
     "name": "stdout",
     "output_type": "stream",
     "text": [
      "Step: 2, Train Loss Now: 0.9875159859657288\n",
      "Step: 3, Train Loss Now: 0.9754613439242045\n",
      "Step: 4, Train Loss Now: 0.9815610945224762\n",
      "Step: 5, Train Loss Now: 0.9684462070465087\n",
      "Step: 6, Train Loss Now: 0.9723487397034963\n",
      "Step: 7, Train Loss Now: 0.9578823362077985\n"
     ]
    },
    {
     "name": "stderr",
     "output_type": "stream",
     "text": [
      " 89%|████████▉ | 8/9 [00:00<00:00, 34.38it/s]"
     ]
    },
    {
     "name": "stdout",
     "output_type": "stream",
     "text": [
      "Step: 8, Train Loss Now: 0.9453024566173553\n"
     ]
    },
    {
     "name": "stderr",
     "output_type": "stream",
     "text": [
      "100%|██████████| 9/9 [00:00<00:00, 33.75it/s]\n"
     ]
    },
    {
     "name": "stdout",
     "output_type": "stream",
     "text": [
      "Step: 9, Train Loss Now: 0.9484502010875278\n"
     ]
    },
    {
     "name": "stderr",
     "output_type": "stream",
     "text": [
      "100%|██████████| 3/3 [00:00<00:00, 76.33it/s]\n",
      "  0%|          | 0/9 [00:00<?, ?it/s]"
     ]
    },
    {
     "name": "stdout",
     "output_type": "stream",
     "text": [
      "Step: 1, Train Loss Now: 1.067996621131897\n",
      "Step: 2, Train Loss Now: 1.0535359978675842\n"
     ]
    },
    {
     "name": "stderr",
     "output_type": "stream",
     "text": [
      " 33%|███▎      | 3/9 [00:00<00:00, 23.02it/s]"
     ]
    },
    {
     "name": "stdout",
     "output_type": "stream",
     "text": [
      "Step: 3, Train Loss Now: 0.9653967221577963\n",
      "Step: 4, Train Loss Now: 0.9939274489879608\n",
      "Step: 5, Train Loss Now: 1.0119739770889282\n",
      "Step: 6, Train Loss Now: 0.9893602232138315\n"
     ]
    },
    {
     "name": "stderr",
     "output_type": "stream",
     "text": [
      "100%|██████████| 9/9 [00:00<00:00, 28.71it/s]\n"
     ]
    },
    {
     "name": "stdout",
     "output_type": "stream",
     "text": [
      "Step: 7, Train Loss Now: 0.9598015546798706\n",
      "Step: 8, Train Loss Now: 0.9773385673761368\n",
      "Step: 9, Train Loss Now: 0.9691432515780131\n"
     ]
    },
    {
     "name": "stderr",
     "output_type": "stream",
     "text": [
      "100%|██████████| 3/3 [00:00<00:00, 72.88it/s]\n",
      "  0%|          | 0/9 [00:00<?, ?it/s]"
     ]
    },
    {
     "name": "stdout",
     "output_type": "stream",
     "text": [
      "Step: 1, Train Loss Now: 1.1035733222961426\n",
      "Step: 2, Train Loss Now: 0.9427938461303711\n",
      "Step: 3, Train Loss Now: 0.9496948917706808\n"
     ]
    },
    {
     "name": "stderr",
     "output_type": "stream",
     "text": [
      " 89%|████████▉ | 8/9 [00:00<00:00, 34.34it/s]"
     ]
    },
    {
     "name": "stdout",
     "output_type": "stream",
     "text": [
      "Step: 4, Train Loss Now: 0.9262699782848358\n",
      "Step: 5, Train Loss Now: 0.9123234629631043\n",
      "Step: 6, Train Loss Now: 0.9362415373325348\n",
      "Step: 7, Train Loss Now: 0.9191522002220154\n",
      "Step: 8, Train Loss Now: 0.9028631448745728\n"
     ]
    },
    {
     "name": "stderr",
     "output_type": "stream",
     "text": [
      "100%|██████████| 9/9 [00:00<00:00, 35.18it/s]\n"
     ]
    },
    {
     "name": "stdout",
     "output_type": "stream",
     "text": [
      "Step: 9, Train Loss Now: 0.8999848498238457\n"
     ]
    },
    {
     "name": "stderr",
     "output_type": "stream",
     "text": [
      "100%|██████████| 3/3 [00:00<00:00, 85.87it/s]\n",
      " 44%|████▍     | 4/9 [00:00<00:00, 31.54it/s]"
     ]
    },
    {
     "name": "stdout",
     "output_type": "stream",
     "text": [
      "Step: 1, Train Loss Now: 0.870851457118988\n",
      "Step: 2, Train Loss Now: 0.9891732633113861\n",
      "Step: 3, Train Loss Now: 0.9920483430226644\n",
      "Step: 4, Train Loss Now: 0.936271607875824\n",
      "Step: 5, Train Loss Now: 0.9571670532226563\n",
      "Step: 6, Train Loss Now: 0.954300194978714\n",
      "Step: 7, Train Loss Now: 0.9268757956368583\n"
     ]
    },
    {
     "name": "stderr",
     "output_type": "stream",
     "text": [
      "100%|██████████| 9/9 [00:00<00:00, 33.67it/s]\n"
     ]
    },
    {
     "name": "stdout",
     "output_type": "stream",
     "text": [
      "Step: 8, Train Loss Now: 0.924326978623867\n",
      "Step: 9, Train Loss Now: 0.916741304927402\n"
     ]
    },
    {
     "name": "stderr",
     "output_type": "stream",
     "text": [
      "100%|██████████| 3/3 [00:00<00:00, 90.01it/s]\n",
      "  0%|          | 0/9 [00:00<?, ?it/s]"
     ]
    },
    {
     "name": "stdout",
     "output_type": "stream",
     "text": [
      "Step: 1, Train Loss Now: 0.8780573010444641\n",
      "Step: 2, Train Loss Now: 0.8745836019515991\n"
     ]
    },
    {
     "name": "stderr",
     "output_type": "stream",
     "text": [
      " 44%|████▍     | 4/9 [00:00<00:00, 33.96it/s]"
     ]
    },
    {
     "name": "stdout",
     "output_type": "stream",
     "text": [
      "Step: 3, Train Loss Now: 0.8592873414357504\n",
      "Step: 4, Train Loss Now: 0.8688688427209854\n"
     ]
    },
    {
     "name": "stderr",
     "output_type": "stream",
     "text": [
      " 89%|████████▉ | 8/9 [00:00<00:00, 33.84it/s]"
     ]
    },
    {
     "name": "stdout",
     "output_type": "stream",
     "text": [
      "Step: 5, Train Loss Now: 0.8814127922058106\n",
      "Step: 6, Train Loss Now: 0.891260971625646\n",
      "Step: 7, Train Loss Now: 0.9053398370742798\n",
      "Step: 8, Train Loss Now: 0.9095175489783287\n",
      "Step: 9, Train Loss Now: 0.9032012422879537\n"
     ]
    },
    {
     "name": "stderr",
     "output_type": "stream",
     "text": [
      "100%|██████████| 9/9 [00:00<00:00, 32.39it/s]\n",
      "100%|██████████| 3/3 [00:00<00:00, 75.85it/s]\n",
      "  0%|          | 0/9 [00:00<?, ?it/s]"
     ]
    },
    {
     "name": "stdout",
     "output_type": "stream",
     "text": [
      "Step: 1, Train Loss Now: 0.9190059304237366\n"
     ]
    },
    {
     "name": "stderr",
     "output_type": "stream",
     "text": [
      " 44%|████▍     | 4/9 [00:00<00:00, 35.56it/s]"
     ]
    },
    {
     "name": "stdout",
     "output_type": "stream",
     "text": [
      "Step: 2, Train Loss Now: 0.9259976446628571\n",
      "Step: 3, Train Loss Now: 0.903470496336619\n",
      "Step: 4, Train Loss Now: 0.857410192489624\n",
      "Step: 5, Train Loss Now: 0.8776737689971924\n",
      "Step: 6, Train Loss Now: 0.9137269457181295\n"
     ]
    },
    {
     "name": "stderr",
     "output_type": "stream",
     "text": [
      "100%|██████████| 9/9 [00:00<00:00, 34.27it/s]"
     ]
    },
    {
     "name": "stdout",
     "output_type": "stream",
     "text": [
      "Step: 7, Train Loss Now: 0.9248623847961426\n",
      "Step: 8, Train Loss Now: 0.9131147488951683\n",
      "Step: 9, Train Loss Now: 0.8890299068556892\n"
     ]
    },
    {
     "name": "stderr",
     "output_type": "stream",
     "text": [
      "\n",
      "100%|██████████| 3/3 [00:00<00:00, 79.41it/s]\n",
      "  0%|          | 0/9 [00:00<?, ?it/s]"
     ]
    },
    {
     "name": "stdout",
     "output_type": "stream",
     "text": [
      "Step: 1, Train Loss Now: 0.7185935974121094\n",
      "Step: 2, Train Loss Now: 0.865792989730835\n",
      "Step: 3, Train Loss Now: 0.8505196571350098\n"
     ]
    },
    {
     "name": "stderr",
     "output_type": "stream",
     "text": [
      " 89%|████████▉ | 8/9 [00:00<00:00, 35.43it/s]"
     ]
    },
    {
     "name": "stdout",
     "output_type": "stream",
     "text": [
      "Step: 4, Train Loss Now: 0.8941490650177002\n",
      "Step: 5, Train Loss Now: 0.8781438708305359\n",
      "Step: 6, Train Loss Now: 0.8895954489707947\n",
      "Step: 7, Train Loss Now: 0.8819246292114258\n",
      "Step: 8, Train Loss Now: 0.9000665843486786\n",
      "Step: 9, Train Loss Now: 0.9047531419330173\n"
     ]
    },
    {
     "name": "stderr",
     "output_type": "stream",
     "text": [
      "100%|██████████| 9/9 [00:00<00:00, 34.32it/s]\n",
      "100%|██████████| 3/3 [00:00<00:00, 80.92it/s]\n",
      " 22%|██▏       | 2/9 [00:00<00:00, 19.95it/s]"
     ]
    },
    {
     "name": "stdout",
     "output_type": "stream",
     "text": [
      "Step: 1, Train Loss Now: 0.725043773651123\n",
      "Step: 2, Train Loss Now: 0.8288153409957886\n",
      "Step: 3, Train Loss Now: 0.8907476663589478\n"
     ]
    },
    {
     "name": "stderr",
     "output_type": "stream",
     "text": [
      " 67%|██████▋   | 6/9 [00:00<00:00, 28.86it/s]"
     ]
    },
    {
     "name": "stdout",
     "output_type": "stream",
     "text": [
      "Step: 4, Train Loss Now: 0.8478268980979919\n",
      "Step: 5, Train Loss Now: 0.84041907787323\n",
      "Step: 6, Train Loss Now: 0.8127879401048025\n",
      "Step: 7, Train Loss Now: 0.8403613482202802\n"
     ]
    },
    {
     "name": "stderr",
     "output_type": "stream",
     "text": [
      "100%|██████████| 9/9 [00:00<00:00, 29.49it/s]\n"
     ]
    },
    {
     "name": "stdout",
     "output_type": "stream",
     "text": [
      "Step: 8, Train Loss Now: 0.8372908607125282\n",
      "Step: 9, Train Loss Now: 0.850838667816586\n"
     ]
    },
    {
     "name": "stderr",
     "output_type": "stream",
     "text": [
      "100%|██████████| 3/3 [00:00<00:00, 75.62it/s]\n",
      " 44%|████▍     | 4/9 [00:00<00:00, 33.99it/s]"
     ]
    },
    {
     "name": "stdout",
     "output_type": "stream",
     "text": [
      "Step: 1, Train Loss Now: 0.832584798336029\n",
      "Step: 2, Train Loss Now: 0.8446094691753387\n",
      "Step: 3, Train Loss Now: 0.888740082581838\n",
      "Step: 4, Train Loss Now: 0.9336365014314651\n",
      "Step: 5, Train Loss Now: 0.8923652291297912\n",
      "Step: 6, Train Loss Now: 0.9173624813556671\n",
      "Step: 7, Train Loss Now: 0.8666307330131531\n"
     ]
    },
    {
     "name": "stderr",
     "output_type": "stream",
     "text": [
      "100%|██████████| 9/9 [00:00<00:00, 34.51it/s]\n"
     ]
    },
    {
     "name": "stdout",
     "output_type": "stream",
     "text": [
      "Step: 8, Train Loss Now: 0.8525819852948189\n",
      "Step: 9, Train Loss Now: 0.8717762298054166\n"
     ]
    },
    {
     "name": "stderr",
     "output_type": "stream",
     "text": [
      "100%|██████████| 3/3 [00:00<00:00, 93.83it/s]\n",
      "  0%|          | 0/9 [00:00<?, ?it/s]"
     ]
    },
    {
     "name": "stdout",
     "output_type": "stream",
     "text": [
      "Step: 1, Train Loss Now: 0.8492297530174255\n"
     ]
    },
    {
     "name": "stderr",
     "output_type": "stream",
     "text": [
      " 44%|████▍     | 4/9 [00:00<00:00, 34.18it/s]"
     ]
    },
    {
     "name": "stdout",
     "output_type": "stream",
     "text": [
      "Step: 2, Train Loss Now: 0.8565356731414795\n",
      "Step: 3, Train Loss Now: 0.8544789552688599\n",
      "Step: 4, Train Loss Now: 0.852210208773613\n"
     ]
    },
    {
     "name": "stderr",
     "output_type": "stream",
     "text": [
      " 89%|████████▉ | 8/9 [00:00<00:00, 32.26it/s]"
     ]
    },
    {
     "name": "stdout",
     "output_type": "stream",
     "text": [
      "Step: 5, Train Loss Now: 0.8389784336090088\n",
      "Step: 6, Train Loss Now: 0.8583529988924662\n",
      "Step: 7, Train Loss Now: 0.8823503766741071\n",
      "Step: 8, Train Loss Now: 0.8978267908096313\n"
     ]
    },
    {
     "name": "stderr",
     "output_type": "stream",
     "text": [
      "100%|██████████| 9/9 [00:00<00:00, 33.57it/s]\n"
     ]
    },
    {
     "name": "stdout",
     "output_type": "stream",
     "text": [
      "Step: 9, Train Loss Now: 0.887596329053243\n"
     ]
    },
    {
     "name": "stderr",
     "output_type": "stream",
     "text": [
      "100%|██████████| 3/3 [00:00<00:00, 90.89it/s]\n",
      "  0%|          | 0/9 [00:00<?, ?it/s]"
     ]
    },
    {
     "name": "stdout",
     "output_type": "stream",
     "text": [
      "Step: 1, Train Loss Now: 0.9464204907417297\n"
     ]
    },
    {
     "name": "stderr",
     "output_type": "stream",
     "text": [
      " 44%|████▍     | 4/9 [00:00<00:00, 30.88it/s]"
     ]
    },
    {
     "name": "stdout",
     "output_type": "stream",
     "text": [
      "Step: 2, Train Loss Now: 0.970032811164856\n",
      "Step: 3, Train Loss Now: 0.9081902901331583\n",
      "Step: 4, Train Loss Now: 0.8495876640081406\n",
      "Step: 5, Train Loss Now: 0.8210869312286377\n",
      "Step: 6, Train Loss Now: 0.8439328869183859\n",
      "Step: 7, Train Loss Now: 0.860113833631788\n"
     ]
    },
    {
     "name": "stderr",
     "output_type": "stream",
     "text": [
      "100%|██████████| 9/9 [00:00<00:00, 31.77it/s]\n"
     ]
    },
    {
     "name": "stdout",
     "output_type": "stream",
     "text": [
      "Step: 8, Train Loss Now: 0.8472843393683434\n",
      "Step: 9, Train Loss Now: 0.8519469433360629\n"
     ]
    },
    {
     "name": "stderr",
     "output_type": "stream",
     "text": [
      "100%|██████████| 3/3 [00:00<00:00, 75.60it/s]\n",
      "  0%|          | 0/9 [00:00<?, ?it/s]"
     ]
    },
    {
     "name": "stdout",
     "output_type": "stream",
     "text": [
      "Step: 1, Train Loss Now: 0.7954711318016052\n",
      "Step: 2, Train Loss Now: 0.8243004679679871\n"
     ]
    },
    {
     "name": "stderr",
     "output_type": "stream",
     "text": [
      " 44%|████▍     | 4/9 [00:00<00:00, 32.02it/s]"
     ]
    },
    {
     "name": "stdout",
     "output_type": "stream",
     "text": [
      "Step: 3, Train Loss Now: 0.8474922180175781\n",
      "Step: 4, Train Loss Now: 0.8882773816585541\n",
      "Step: 5, Train Loss Now: 0.891154658794403\n",
      "Step: 6, Train Loss Now: 0.867199699083964\n"
     ]
    },
    {
     "name": "stderr",
     "output_type": "stream",
     "text": [
      "100%|██████████| 9/9 [00:00<00:00, 32.55it/s]"
     ]
    },
    {
     "name": "stdout",
     "output_type": "stream",
     "text": [
      "Step: 7, Train Loss Now: 0.8808316162654332\n",
      "Step: 8, Train Loss Now: 0.8646391779184341\n",
      "Step: 9, Train Loss Now: 0.8909530374738905\n"
     ]
    },
    {
     "name": "stderr",
     "output_type": "stream",
     "text": [
      "\n",
      "100%|██████████| 3/3 [00:00<00:00, 90.54it/s]\n",
      "  0%|          | 0/9 [00:00<?, ?it/s]"
     ]
    },
    {
     "name": "stdout",
     "output_type": "stream",
     "text": [
      "Step: 1, Train Loss Now: 0.7648389935493469\n",
      "Step: 2, Train Loss Now: 0.8152230381965637\n",
      "Step: 3, Train Loss Now: 0.7778143882751465\n"
     ]
    },
    {
     "name": "stderr",
     "output_type": "stream",
     "text": [
      " 44%|████▍     | 4/9 [00:00<00:00, 31.68it/s]"
     ]
    },
    {
     "name": "stdout",
     "output_type": "stream",
     "text": [
      "Step: 4, Train Loss Now: 0.7465626746416092\n",
      "Step: 5, Train Loss Now: 0.8596508860588074\n",
      "Step: 6, Train Loss Now: 0.8175815443197886\n"
     ]
    },
    {
     "name": "stderr",
     "output_type": "stream",
     "text": [
      "100%|██████████| 9/9 [00:00<00:00, 28.17it/s]"
     ]
    },
    {
     "name": "stdout",
     "output_type": "stream",
     "text": [
      "Step: 7, Train Loss Now: 0.8649874159267971\n",
      "Step: 8, Train Loss Now: 0.8797257840633392\n",
      "Step: 9, Train Loss Now: 0.8890289399358962\n"
     ]
    },
    {
     "name": "stderr",
     "output_type": "stream",
     "text": [
      "\n",
      "100%|██████████| 3/3 [00:00<00:00, 95.90it/s]\n",
      "  0%|          | 0/9 [00:00<?, ?it/s]"
     ]
    },
    {
     "name": "stdout",
     "output_type": "stream",
     "text": [
      "Step: 1, Train Loss Now: 0.652215838432312\n",
      "Step: 2, Train Loss Now: 0.7754407823085785\n",
      "Step: 3, Train Loss Now: 0.8201821645100912\n"
     ]
    },
    {
     "name": "stderr",
     "output_type": "stream",
     "text": [
      " 44%|████▍     | 4/9 [00:00<00:00, 31.74it/s]"
     ]
    },
    {
     "name": "stdout",
     "output_type": "stream",
     "text": [
      "Step: 4, Train Loss Now: 0.863422617316246\n",
      "Step: 5, Train Loss Now: 0.865740954875946\n",
      "Step: 6, Train Loss Now: 0.9019610186417898\n",
      "Step: 7, Train Loss Now: 0.8681490080697196\n"
     ]
    },
    {
     "name": "stderr",
     "output_type": "stream",
     "text": [
      "100%|██████████| 9/9 [00:00<00:00, 31.78it/s]\n"
     ]
    },
    {
     "name": "stdout",
     "output_type": "stream",
     "text": [
      "Step: 8, Train Loss Now: 0.882006824016571\n",
      "Step: 9, Train Loss Now: 0.8868672053019205\n"
     ]
    },
    {
     "name": "stderr",
     "output_type": "stream",
     "text": [
      "100%|██████████| 3/3 [00:00<00:00, 103.77it/s]\n",
      " 44%|████▍     | 4/9 [00:00<00:00, 34.63it/s]"
     ]
    },
    {
     "name": "stdout",
     "output_type": "stream",
     "text": [
      "Step: 1, Train Loss Now: 0.9419975280761719\n",
      "Step: 2, Train Loss Now: 0.8648170828819275\n",
      "Step: 3, Train Loss Now: 0.8666195869445801\n",
      "Step: 4, Train Loss Now: 0.8625079989433289\n",
      "Step: 5, Train Loss Now: 0.8887296438217163\n",
      "Step: 6, Train Loss Now: 0.8732545773188273\n",
      "Step: 7, Train Loss Now: 0.863342821598053\n"
     ]
    },
    {
     "name": "stderr",
     "output_type": "stream",
     "text": [
      "100%|██████████| 9/9 [00:00<00:00, 35.95it/s]\n"
     ]
    },
    {
     "name": "stdout",
     "output_type": "stream",
     "text": [
      "Step: 8, Train Loss Now: 0.8623542785644531\n",
      "Step: 9, Train Loss Now: 0.8872367143630981\n"
     ]
    },
    {
     "name": "stderr",
     "output_type": "stream",
     "text": [
      "100%|██████████| 3/3 [00:00<00:00, 69.89it/s]\n",
      "  0%|          | 0/9 [00:00<?, ?it/s]"
     ]
    },
    {
     "name": "stdout",
     "output_type": "stream",
     "text": [
      "Step: 1, Train Loss Now: 0.7644678354263306\n"
     ]
    },
    {
     "name": "stderr",
     "output_type": "stream",
     "text": [
      " 44%|████▍     | 4/9 [00:00<00:00, 35.18it/s]"
     ]
    },
    {
     "name": "stdout",
     "output_type": "stream",
     "text": [
      "Step: 2, Train Loss Now: 0.9138963222503662\n",
      "Step: 3, Train Loss Now: 0.8878983656565348\n",
      "Step: 4, Train Loss Now: 0.8732125908136368\n"
     ]
    },
    {
     "name": "stderr",
     "output_type": "stream",
     "text": [
      " 89%|████████▉ | 8/9 [00:00<00:00, 35.54it/s]"
     ]
    },
    {
     "name": "stdout",
     "output_type": "stream",
     "text": [
      "Step: 5, Train Loss Now: 0.861955440044403\n",
      "Step: 6, Train Loss Now: 0.8404929538567861\n",
      "Step: 7, Train Loss Now: 0.8337210501943316\n",
      "Step: 8, Train Loss Now: 0.8379683718085289\n"
     ]
    },
    {
     "name": "stderr",
     "output_type": "stream",
     "text": [
      "100%|██████████| 9/9 [00:00<00:00, 35.06it/s]\n"
     ]
    },
    {
     "name": "stdout",
     "output_type": "stream",
     "text": [
      "Step: 9, Train Loss Now: 0.8612995876206292\n"
     ]
    },
    {
     "name": "stderr",
     "output_type": "stream",
     "text": [
      "100%|██████████| 3/3 [00:00<00:00, 89.92it/s]\n",
      "  0%|          | 0/9 [00:00<?, ?it/s]"
     ]
    },
    {
     "name": "stdout",
     "output_type": "stream",
     "text": [
      "Step: 1, Train Loss Now: 0.7733645439147949\n"
     ]
    },
    {
     "name": "stderr",
     "output_type": "stream",
     "text": [
      " 44%|████▍     | 4/9 [00:00<00:00, 34.03it/s]"
     ]
    },
    {
     "name": "stdout",
     "output_type": "stream",
     "text": [
      "Step: 2, Train Loss Now: 0.7529270648956299\n",
      "Step: 3, Train Loss Now: 0.7629387776056925\n",
      "Step: 4, Train Loss Now: 0.7678840607404709\n",
      "Step: 5, Train Loss Now: 0.8091900110244751\n",
      "Step: 6, Train Loss Now: 0.8347841401894888\n"
     ]
    },
    {
     "name": "stderr",
     "output_type": "stream",
     "text": [
      " 89%|████████▉ | 8/9 [00:00<00:00, 34.54it/s]"
     ]
    },
    {
     "name": "stdout",
     "output_type": "stream",
     "text": [
      "Step: 7, Train Loss Now: 0.8330560071127755\n",
      "Step: 8, Train Loss Now: 0.8235725089907646\n"
     ]
    },
    {
     "name": "stderr",
     "output_type": "stream",
     "text": [
      "100%|██████████| 9/9 [00:00<00:00, 35.03it/s]\n"
     ]
    },
    {
     "name": "stdout",
     "output_type": "stream",
     "text": [
      "Step: 9, Train Loss Now: 0.8379865553643968\n"
     ]
    },
    {
     "name": "stderr",
     "output_type": "stream",
     "text": [
      "100%|██████████| 3/3 [00:00<00:00, 90.68it/s]\n",
      "  0%|          | 0/9 [00:00<?, ?it/s]"
     ]
    },
    {
     "name": "stdout",
     "output_type": "stream",
     "text": [
      "Step: 1, Train Loss Now: 1.0018941164016724\n",
      "Step: 2, Train Loss Now: 0.9845095872879028\n",
      "Step: 3, Train Loss Now: 1.0221632321675618\n"
     ]
    },
    {
     "name": "stderr",
     "output_type": "stream",
     "text": [
      " 44%|████▍     | 4/9 [00:00<00:00, 34.93it/s]"
     ]
    },
    {
     "name": "stdout",
     "output_type": "stream",
     "text": [
      "Step: 4, Train Loss Now: 0.8954789638519287\n",
      "Step: 5, Train Loss Now: 0.8859805464744568\n",
      "Step: 6, Train Loss Now: 0.8781434496243795\n",
      "Step: 7, Train Loss Now: 0.8689869557108197\n"
     ]
    },
    {
     "name": "stderr",
     "output_type": "stream",
     "text": [
      "100%|██████████| 9/9 [00:00<00:00, 35.06it/s]"
     ]
    },
    {
     "name": "stdout",
     "output_type": "stream",
     "text": [
      "Step: 8, Train Loss Now: 0.8598764166235924\n",
      "Step: 9, Train Loss Now: 0.8586761951446533\n"
     ]
    },
    {
     "name": "stderr",
     "output_type": "stream",
     "text": [
      "\n",
      "100%|██████████| 3/3 [00:00<00:00, 90.00it/s]\n",
      "  0%|          | 0/9 [00:00<?, ?it/s]"
     ]
    },
    {
     "name": "stdout",
     "output_type": "stream",
     "text": [
      "Step: 1, Train Loss Now: 0.7932367920875549\n"
     ]
    },
    {
     "name": "stderr",
     "output_type": "stream",
     "text": [
      " 22%|██▏       | 2/9 [00:00<00:00, 19.96it/s]"
     ]
    },
    {
     "name": "stdout",
     "output_type": "stream",
     "text": [
      "Step: 2, Train Loss Now: 0.7893268465995789\n",
      "Step: 3, Train Loss Now: 0.8280109365781149\n"
     ]
    },
    {
     "name": "stderr",
     "output_type": "stream",
     "text": [
      " 67%|██████▋   | 6/9 [00:00<00:00, 28.36it/s]"
     ]
    },
    {
     "name": "stdout",
     "output_type": "stream",
     "text": [
      "Step: 4, Train Loss Now: 0.8179652243852615\n",
      "Step: 5, Train Loss Now: 0.8192056059837342\n",
      "Step: 6, Train Loss Now: 0.8254329661528269\n",
      "Step: 7, Train Loss Now: 0.8230907831873212\n"
     ]
    },
    {
     "name": "stderr",
     "output_type": "stream",
     "text": [
      "100%|██████████| 9/9 [00:00<00:00, 28.99it/s]"
     ]
    },
    {
     "name": "stdout",
     "output_type": "stream",
     "text": [
      "Step: 8, Train Loss Now: 0.820227600634098\n",
      "Step: 9, Train Loss Now: 0.8500242034594218\n"
     ]
    },
    {
     "name": "stderr",
     "output_type": "stream",
     "text": [
      "\n",
      "100%|██████████| 3/3 [00:00<00:00, 111.11it/s]\n",
      " 44%|████▍     | 4/9 [00:00<00:00, 34.39it/s]"
     ]
    },
    {
     "name": "stdout",
     "output_type": "stream",
     "text": [
      "Step: 1, Train Loss Now: 0.8747169375419617\n",
      "Step: 2, Train Loss Now: 0.8419449925422668\n",
      "Step: 3, Train Loss Now: 0.8441732128461202\n",
      "Step: 4, Train Loss Now: 0.8626395016908646\n"
     ]
    },
    {
     "name": "stderr",
     "output_type": "stream",
     "text": [
      " 89%|████████▉ | 8/9 [00:00<00:00, 35.56it/s]"
     ]
    },
    {
     "name": "stdout",
     "output_type": "stream",
     "text": [
      "Step: 5, Train Loss Now: 0.8836319088935852\n",
      "Step: 6, Train Loss Now: 0.8425886233647665\n",
      "Step: 7, Train Loss Now: 0.8594071183885846\n",
      "Step: 8, Train Loss Now: 0.8326734602451324\n"
     ]
    },
    {
     "name": "stderr",
     "output_type": "stream",
     "text": [
      "100%|██████████| 9/9 [00:00<00:00, 34.68it/s]\n"
     ]
    },
    {
     "name": "stdout",
     "output_type": "stream",
     "text": [
      "Step: 9, Train Loss Now: 0.835930758052402\n"
     ]
    },
    {
     "name": "stderr",
     "output_type": "stream",
     "text": [
      "100%|██████████| 3/3 [00:00<00:00, 88.12it/s]\n",
      "  0%|          | 0/9 [00:00<?, ?it/s]"
     ]
    },
    {
     "name": "stdout",
     "output_type": "stream",
     "text": [
      "Step: 1, Train Loss Now: 0.8015238046646118\n"
     ]
    },
    {
     "name": "stderr",
     "output_type": "stream",
     "text": [
      " 44%|████▍     | 4/9 [00:00<00:00, 35.97it/s]"
     ]
    },
    {
     "name": "stdout",
     "output_type": "stream",
     "text": [
      "Step: 2, Train Loss Now: 0.7391768991947174\n",
      "Step: 3, Train Loss Now: 0.8226906259854635\n",
      "Step: 4, Train Loss Now: 0.8243449628353119\n",
      "Step: 5, Train Loss Now: 0.8020949721336365\n",
      "Step: 6, Train Loss Now: 0.8305614988009135\n",
      "Step: 7, Train Loss Now: 0.8242837616375515\n"
     ]
    },
    {
     "name": "stderr",
     "output_type": "stream",
     "text": [
      "100%|██████████| 9/9 [00:00<00:00, 33.38it/s]"
     ]
    },
    {
     "name": "stdout",
     "output_type": "stream",
     "text": [
      "Step: 8, Train Loss Now: 0.8411147445440292\n",
      "Step: 9, Train Loss Now: 0.8360608286327786\n"
     ]
    },
    {
     "name": "stderr",
     "output_type": "stream",
     "text": [
      "\n",
      "100%|██████████| 3/3 [00:00<00:00, 100.08it/s]\n",
      "  0%|          | 0/9 [00:00<?, ?it/s]"
     ]
    },
    {
     "name": "stdout",
     "output_type": "stream",
     "text": [
      "Step: 1, Train Loss Now: 0.8548926115036011\n",
      "Step: 2, Train Loss Now: 0.7535174787044525\n"
     ]
    },
    {
     "name": "stderr",
     "output_type": "stream",
     "text": [
      " 44%|████▍     | 4/9 [00:00<00:00, 34.13it/s]"
     ]
    },
    {
     "name": "stdout",
     "output_type": "stream",
     "text": [
      "Step: 3, Train Loss Now: 0.7779101133346558\n",
      "Step: 4, Train Loss Now: 0.7561420947313309\n",
      "Step: 5, Train Loss Now: 0.7546033740043641\n",
      "Step: 6, Train Loss Now: 0.7521412273248037\n"
     ]
    },
    {
     "name": "stderr",
     "output_type": "stream",
     "text": [
      "100%|██████████| 9/9 [00:00<00:00, 32.72it/s]"
     ]
    },
    {
     "name": "stdout",
     "output_type": "stream",
     "text": [
      "Step: 7, Train Loss Now: 0.7785388657024929\n",
      "Step: 8, Train Loss Now: 0.7869075909256935\n",
      "Step: 9, Train Loss Now: 0.7790409260325961\n"
     ]
    },
    {
     "name": "stderr",
     "output_type": "stream",
     "text": [
      "\n",
      "100%|██████████| 3/3 [00:00<00:00, 128.42it/s]\n",
      "  0%|          | 0/9 [00:00<?, ?it/s]"
     ]
    },
    {
     "name": "stdout",
     "output_type": "stream",
     "text": [
      "Step: 1, Train Loss Now: 0.7506608366966248\n"
     ]
    },
    {
     "name": "stderr",
     "output_type": "stream",
     "text": [
      " 44%|████▍     | 4/9 [00:00<00:00, 34.55it/s]"
     ]
    },
    {
     "name": "stdout",
     "output_type": "stream",
     "text": [
      "Step: 2, Train Loss Now: 0.7604489922523499\n",
      "Step: 3, Train Loss Now: 0.7485514481862386\n",
      "Step: 4, Train Loss Now: 0.7163133025169373\n",
      "Step: 5, Train Loss Now: 0.7743588209152221\n",
      "Step: 6, Train Loss Now: 0.7881827354431152\n",
      "Step: 7, Train Loss Now: 0.7859840137617928\n"
     ]
    },
    {
     "name": "stderr",
     "output_type": "stream",
     "text": [
      "100%|██████████| 9/9 [00:00<00:00, 36.02it/s]"
     ]
    },
    {
     "name": "stdout",
     "output_type": "stream",
     "text": [
      "Step: 8, Train Loss Now: 0.7807831540703773\n",
      "Step: 9, Train Loss Now: 0.813407387998369\n"
     ]
    },
    {
     "name": "stderr",
     "output_type": "stream",
     "text": [
      "\n",
      "100%|██████████| 3/3 [00:00<00:00, 92.39it/s]\n",
      "  0%|          | 0/9 [00:00<?, ?it/s]"
     ]
    },
    {
     "name": "stdout",
     "output_type": "stream",
     "text": [
      "Step: 1, Train Loss Now: 0.5800056457519531\n",
      "Step: 2, Train Loss Now: 0.6600585877895355\n"
     ]
    },
    {
     "name": "stderr",
     "output_type": "stream",
     "text": [
      " 44%|████▍     | 4/9 [00:00<00:00, 31.48it/s]"
     ]
    },
    {
     "name": "stdout",
     "output_type": "stream",
     "text": [
      "Step: 3, Train Loss Now: 0.6647584637006124\n",
      "Step: 4, Train Loss Now: 0.7234821915626526\n",
      "Step: 5, Train Loss Now: 0.7952910900115967\n",
      "Step: 6, Train Loss Now: 0.7799565593401591\n",
      "Step: 7, Train Loss Now: 0.7820905702454704\n"
     ]
    },
    {
     "name": "stderr",
     "output_type": "stream",
     "text": [
      "100%|██████████| 9/9 [00:00<00:00, 32.39it/s]"
     ]
    },
    {
     "name": "stdout",
     "output_type": "stream",
     "text": [
      "Step: 8, Train Loss Now: 0.8035189062356949\n",
      "Step: 9, Train Loss Now: 0.8104125989807976\n"
     ]
    },
    {
     "name": "stderr",
     "output_type": "stream",
     "text": [
      "\n",
      "100%|██████████| 3/3 [00:00<00:00, 41.72it/s]\n",
      "  0%|          | 0/9 [00:00<?, ?it/s]"
     ]
    },
    {
     "name": "stdout",
     "output_type": "stream",
     "text": [
      "Step: 1, Train Loss Now: 0.7491634488105774\n",
      "Step: 2, Train Loss Now: 0.8492744863033295\n",
      "Step: 3, Train Loss Now: 0.834594746430715\n"
     ]
    },
    {
     "name": "stderr",
     "output_type": "stream",
     "text": [
      " 89%|████████▉ | 8/9 [00:00<00:00, 34.90it/s]"
     ]
    },
    {
     "name": "stdout",
     "output_type": "stream",
     "text": [
      "Step: 4, Train Loss Now: 0.8330808281898499\n",
      "Step: 5, Train Loss Now: 0.8147299528121948\n",
      "Step: 6, Train Loss Now: 0.8103389938672384\n",
      "Step: 7, Train Loss Now: 0.8240939463887896\n",
      "Step: 8, Train Loss Now: 0.8265239372849464\n"
     ]
    },
    {
     "name": "stderr",
     "output_type": "stream",
     "text": [
      "100%|██████████| 9/9 [00:00<00:00, 35.85it/s]\n"
     ]
    },
    {
     "name": "stdout",
     "output_type": "stream",
     "text": [
      "Step: 9, Train Loss Now: 0.8135676251517402\n"
     ]
    },
    {
     "name": "stderr",
     "output_type": "stream",
     "text": [
      "100%|██████████| 3/3 [00:00<00:00, 83.17it/s]\n",
      " 44%|████▍     | 4/9 [00:00<00:00, 38.15it/s]"
     ]
    },
    {
     "name": "stdout",
     "output_type": "stream",
     "text": [
      "Step: 1, Train Loss Now: 0.723686933517456\n",
      "Step: 2, Train Loss Now: 0.7783962190151215\n",
      "Step: 3, Train Loss Now: 0.8140925963719686\n",
      "Step: 4, Train Loss Now: 0.786103218793869\n",
      "Step: 5, Train Loss Now: 0.8207991003990174\n",
      "Step: 6, Train Loss Now: 0.7953061064084371\n"
     ]
    },
    {
     "name": "stderr",
     "output_type": "stream",
     "text": [
      " 89%|████████▉ | 8/9 [00:00<00:00, 36.81it/s]"
     ]
    },
    {
     "name": "stdout",
     "output_type": "stream",
     "text": [
      "Step: 7, Train Loss Now: 0.7718308568000793\n",
      "Step: 8, Train Loss Now: 0.7817107513546944\n"
     ]
    },
    {
     "name": "stderr",
     "output_type": "stream",
     "text": [
      "100%|██████████| 9/9 [00:00<00:00, 36.36it/s]\n"
     ]
    },
    {
     "name": "stdout",
     "output_type": "stream",
     "text": [
      "Step: 9, Train Loss Now: 0.7937268813451132\n"
     ]
    },
    {
     "name": "stderr",
     "output_type": "stream",
     "text": [
      "100%|██████████| 3/3 [00:00<00:00, 84.25it/s]\n",
      " 44%|████▍     | 4/9 [00:00<00:00, 35.79it/s]"
     ]
    },
    {
     "name": "stdout",
     "output_type": "stream",
     "text": [
      "Step: 1, Train Loss Now: 0.7251830101013184\n",
      "Step: 2, Train Loss Now: 0.7763729989528656\n",
      "Step: 3, Train Loss Now: 0.7942955096562704\n",
      "Step: 4, Train Loss Now: 0.8004029840230942\n",
      "Step: 5, Train Loss Now: 0.7769519805908203\n"
     ]
    },
    {
     "name": "stderr",
     "output_type": "stream",
     "text": [
      " 89%|████████▉ | 8/9 [00:00<00:00, 33.15it/s]"
     ]
    },
    {
     "name": "stdout",
     "output_type": "stream",
     "text": [
      "Step: 6, Train Loss Now: 0.7550013760725657\n",
      "Step: 7, Train Loss Now: 0.7976310167993818\n",
      "Step: 8, Train Loss Now: 0.8090065941214561\n"
     ]
    },
    {
     "name": "stderr",
     "output_type": "stream",
     "text": [
      "100%|██████████| 9/9 [00:00<00:00, 34.32it/s]\n"
     ]
    },
    {
     "name": "stdout",
     "output_type": "stream",
     "text": [
      "Step: 9, Train Loss Now: 0.7921998235914443\n"
     ]
    },
    {
     "name": "stderr",
     "output_type": "stream",
     "text": [
      "100%|██████████| 3/3 [00:00<00:00, 87.58it/s]\n",
      "  0%|          | 0/9 [00:00<?, ?it/s]"
     ]
    },
    {
     "name": "stdout",
     "output_type": "stream",
     "text": [
      "Step: 1, Train Loss Now: 0.7400050163269043\n",
      "Step: 2, Train Loss Now: 0.7245342433452606\n"
     ]
    },
    {
     "name": "stderr",
     "output_type": "stream",
     "text": [
      " 44%|████▍     | 4/9 [00:00<00:00, 32.72it/s]"
     ]
    },
    {
     "name": "stdout",
     "output_type": "stream",
     "text": [
      "Step: 3, Train Loss Now: 0.8347403009732565\n",
      "Step: 4, Train Loss Now: 0.8068037629127502\n",
      "Step: 5, Train Loss Now: 0.7974342823028564\n",
      "Step: 6, Train Loss Now: 0.7763216495513916\n"
     ]
    },
    {
     "name": "stderr",
     "output_type": "stream",
     "text": [
      "100%|██████████| 9/9 [00:00<00:00, 33.05it/s]"
     ]
    },
    {
     "name": "stdout",
     "output_type": "stream",
     "text": [
      "Step: 7, Train Loss Now: 0.8082488434655326\n",
      "Step: 8, Train Loss Now: 0.8043019324541092\n",
      "Step: 9, Train Loss Now: 0.7795868251058791\n"
     ]
    },
    {
     "name": "stderr",
     "output_type": "stream",
     "text": [
      "\n",
      "100%|██████████| 3/3 [00:00<00:00, 112.45it/s]\n",
      "  0%|          | 0/9 [00:00<?, ?it/s]"
     ]
    },
    {
     "name": "stdout",
     "output_type": "stream",
     "text": [
      "Step: 1, Train Loss Now: 0.7925751209259033\n",
      "Step: 2, Train Loss Now: 0.7135486006736755\n",
      "Step: 3, Train Loss Now: 0.74298228820165\n"
     ]
    },
    {
     "name": "stderr",
     "output_type": "stream",
     "text": [
      " 89%|████████▉ | 8/9 [00:00<00:00, 33.66it/s]"
     ]
    },
    {
     "name": "stdout",
     "output_type": "stream",
     "text": [
      "Step: 4, Train Loss Now: 0.7224448770284653\n",
      "Step: 5, Train Loss Now: 0.7351628065109252\n",
      "Step: 6, Train Loss Now: 0.7575746675332388\n",
      "Step: 7, Train Loss Now: 0.7739166447094509\n",
      "Step: 8, Train Loss Now: 0.7971246168017387\n"
     ]
    },
    {
     "name": "stderr",
     "output_type": "stream",
     "text": [
      "100%|██████████| 9/9 [00:00<00:00, 34.58it/s]\n"
     ]
    },
    {
     "name": "stdout",
     "output_type": "stream",
     "text": [
      "Step: 9, Train Loss Now: 0.7968637082311842\n"
     ]
    },
    {
     "name": "stderr",
     "output_type": "stream",
     "text": [
      "100%|██████████| 3/3 [00:00<00:00, 79.79it/s]\n",
      " 44%|████▍     | 4/9 [00:00<00:00, 36.25it/s]"
     ]
    },
    {
     "name": "stdout",
     "output_type": "stream",
     "text": [
      "Step: 1, Train Loss Now: 0.8107657432556152\n",
      "Step: 2, Train Loss Now: 0.6829447746276855\n",
      "Step: 3, Train Loss Now: 0.7437842488288879\n",
      "Step: 4, Train Loss Now: 0.7562382519245148\n",
      "Step: 5, Train Loss Now: 0.7666630029678345\n"
     ]
    },
    {
     "name": "stderr",
     "output_type": "stream",
     "text": [
      " 89%|████████▉ | 8/9 [00:00<00:00, 34.72it/s]"
     ]
    },
    {
     "name": "stdout",
     "output_type": "stream",
     "text": [
      "Step: 6, Train Loss Now: 0.7529563009738922\n",
      "Step: 7, Train Loss Now: 0.7800365005220685\n",
      "Step: 8, Train Loss Now: 0.779501847922802\n"
     ]
    },
    {
     "name": "stderr",
     "output_type": "stream",
     "text": [
      "100%|██████████| 9/9 [00:00<00:00, 35.88it/s]\n"
     ]
    },
    {
     "name": "stdout",
     "output_type": "stream",
     "text": [
      "Step: 9, Train Loss Now: 0.8190703988075256\n"
     ]
    },
    {
     "name": "stderr",
     "output_type": "stream",
     "text": [
      "100%|██████████| 3/3 [00:00<00:00, 74.98it/s]\n",
      "  0%|          | 0/9 [00:00<?, ?it/s]"
     ]
    },
    {
     "name": "stdout",
     "output_type": "stream",
     "text": [
      "Step: 1, Train Loss Now: 0.6368452310562134\n"
     ]
    },
    {
     "name": "stderr",
     "output_type": "stream",
     "text": [
      " 33%|███▎      | 3/9 [00:00<00:00, 22.70it/s]"
     ]
    },
    {
     "name": "stdout",
     "output_type": "stream",
     "text": [
      "Step: 2, Train Loss Now: 0.7898544669151306\n",
      "Step: 3, Train Loss Now: 0.8117256164550781\n",
      "Step: 4, Train Loss Now: 0.7670892179012299\n"
     ]
    },
    {
     "name": "stderr",
     "output_type": "stream",
     "text": [
      " 78%|███████▊  | 7/9 [00:00<00:00, 28.71it/s]"
     ]
    },
    {
     "name": "stdout",
     "output_type": "stream",
     "text": [
      "Step: 5, Train Loss Now: 0.7430646419525146\n",
      "Step: 6, Train Loss Now: 0.7725796600182852\n",
      "Step: 7, Train Loss Now: 0.749804675579071\n"
     ]
    },
    {
     "name": "stderr",
     "output_type": "stream",
     "text": [
      "100%|██████████| 9/9 [00:00<00:00, 29.77it/s]"
     ]
    },
    {
     "name": "stdout",
     "output_type": "stream",
     "text": [
      "Step: 8, Train Loss Now: 0.7745067179203033\n",
      "Step: 9, Train Loss Now: 0.7751943998866611\n"
     ]
    },
    {
     "name": "stderr",
     "output_type": "stream",
     "text": [
      "\n",
      "100%|██████████| 3/3 [00:00<00:00, 75.75it/s]\n",
      "  0%|          | 0/9 [00:00<?, ?it/s]"
     ]
    },
    {
     "name": "stdout",
     "output_type": "stream",
     "text": [
      "Step: 1, Train Loss Now: 0.7751888036727905\n"
     ]
    },
    {
     "name": "stderr",
     "output_type": "stream",
     "text": [
      " 44%|████▍     | 4/9 [00:00<00:00, 34.15it/s]"
     ]
    },
    {
     "name": "stdout",
     "output_type": "stream",
     "text": [
      "Step: 2, Train Loss Now: 0.7339085936546326\n",
      "Step: 3, Train Loss Now: 0.7860528031984965\n",
      "Step: 4, Train Loss Now: 0.7913393080234528\n",
      "Step: 5, Train Loss Now: 0.7863508582115173\n",
      "Step: 6, Train Loss Now: 0.7604405383268992\n",
      "Step: 7, Train Loss Now: 0.7837179132870266\n"
     ]
    },
    {
     "name": "stderr",
     "output_type": "stream",
     "text": [
      " 89%|████████▉ | 8/9 [00:00<00:00, 35.42it/s]"
     ]
    },
    {
     "name": "stdout",
     "output_type": "stream",
     "text": [
      "Step: 8, Train Loss Now: 0.7712903395295143\n"
     ]
    },
    {
     "name": "stderr",
     "output_type": "stream",
     "text": [
      "100%|██████████| 9/9 [00:00<00:00, 34.42it/s]\n"
     ]
    },
    {
     "name": "stdout",
     "output_type": "stream",
     "text": [
      "Step: 9, Train Loss Now: 0.8027355207337273\n"
     ]
    },
    {
     "name": "stderr",
     "output_type": "stream",
     "text": [
      "100%|██████████| 3/3 [00:00<00:00, 73.49it/s]\n",
      "  0%|          | 0/9 [00:00<?, ?it/s]"
     ]
    },
    {
     "name": "stdout",
     "output_type": "stream",
     "text": [
      "Step: 1, Train Loss Now: 0.835221529006958\n"
     ]
    },
    {
     "name": "stderr",
     "output_type": "stream",
     "text": [
      " 44%|████▍     | 4/9 [00:00<00:00, 35.70it/s]"
     ]
    },
    {
     "name": "stdout",
     "output_type": "stream",
     "text": [
      "Step: 2, Train Loss Now: 0.8956310451030731\n",
      "Step: 3, Train Loss Now: 0.8528028130531311\n",
      "Step: 4, Train Loss Now: 0.8211081922054291\n",
      "Step: 5, Train Loss Now: 0.785873532295227\n"
     ]
    },
    {
     "name": "stderr",
     "output_type": "stream",
     "text": [
      " 89%|████████▉ | 8/9 [00:00<00:00, 34.90it/s]"
     ]
    },
    {
     "name": "stdout",
     "output_type": "stream",
     "text": [
      "Step: 6, Train Loss Now: 0.7767760356267294\n",
      "Step: 7, Train Loss Now: 0.7706279924937657\n",
      "Step: 8, Train Loss Now: 0.785846970975399\n",
      "Step: 9, Train Loss Now: 0.7938476734691196\n"
     ]
    },
    {
     "name": "stderr",
     "output_type": "stream",
     "text": [
      "100%|██████████| 9/9 [00:00<00:00, 35.27it/s]\n",
      "100%|██████████| 3/3 [00:00<00:00, 84.78it/s]\n",
      "  0%|          | 0/9 [00:00<?, ?it/s]"
     ]
    },
    {
     "name": "stdout",
     "output_type": "stream",
     "text": [
      "Step: 1, Train Loss Now: 0.5456879734992981\n",
      "Step: 2, Train Loss Now: 0.6984979510307312\n"
     ]
    },
    {
     "name": "stderr",
     "output_type": "stream",
     "text": [
      " 44%|████▍     | 4/9 [00:00<00:00, 30.39it/s]"
     ]
    },
    {
     "name": "stdout",
     "output_type": "stream",
     "text": [
      "Step: 3, Train Loss Now: 0.736080547173818\n",
      "Step: 4, Train Loss Now: 0.7374662458896637\n",
      "Step: 5, Train Loss Now: 0.7340303778648376\n",
      "Step: 6, Train Loss Now: 0.7492545346419016\n",
      "Step: 7, Train Loss Now: 0.7481458187103271\n"
     ]
    },
    {
     "name": "stderr",
     "output_type": "stream",
     "text": [
      " 89%|████████▉ | 8/9 [00:00<00:00, 30.97it/s]"
     ]
    },
    {
     "name": "stdout",
     "output_type": "stream",
     "text": [
      "Step: 8, Train Loss Now: 0.7308854982256889\n"
     ]
    },
    {
     "name": "stderr",
     "output_type": "stream",
     "text": [
      "100%|██████████| 9/9 [00:00<00:00, 31.01it/s]\n"
     ]
    },
    {
     "name": "stdout",
     "output_type": "stream",
     "text": [
      "Step: 9, Train Loss Now: 0.7457102868292067\n"
     ]
    },
    {
     "name": "stderr",
     "output_type": "stream",
     "text": [
      "100%|██████████| 3/3 [00:00<00:00, 78.87it/s]\n",
      "  0%|          | 0/9 [00:00<?, ?it/s]"
     ]
    },
    {
     "name": "stdout",
     "output_type": "stream",
     "text": [
      "Step: 1, Train Loss Now: 1.0049364566802979\n"
     ]
    },
    {
     "name": "stderr",
     "output_type": "stream",
     "text": [
      " 44%|████▍     | 4/9 [00:00<00:00, 34.12it/s]"
     ]
    },
    {
     "name": "stdout",
     "output_type": "stream",
     "text": [
      "Step: 2, Train Loss Now: 0.9226972460746765\n",
      "Step: 3, Train Loss Now: 0.9050747354825338\n",
      "Step: 4, Train Loss Now: 0.8842156827449799\n",
      "Step: 5, Train Loss Now: 0.8388356685638427\n",
      "Step: 6, Train Loss Now: 0.8101132214069366\n",
      "Step: 7, Train Loss Now: 0.7739627276148114\n"
     ]
    },
    {
     "name": "stderr",
     "output_type": "stream",
     "text": [
      " 89%|████████▉ | 8/9 [00:00<00:00, 32.69it/s]"
     ]
    },
    {
     "name": "stdout",
     "output_type": "stream",
     "text": [
      "Step: 8, Train Loss Now: 0.7849256992340088\n"
     ]
    },
    {
     "name": "stderr",
     "output_type": "stream",
     "text": [
      "100%|██████████| 9/9 [00:00<00:00, 33.74it/s]\n"
     ]
    },
    {
     "name": "stdout",
     "output_type": "stream",
     "text": [
      "Step: 9, Train Loss Now: 0.7906443807813857\n"
     ]
    },
    {
     "name": "stderr",
     "output_type": "stream",
     "text": [
      "100%|██████████| 3/3 [00:00<00:00, 104.71it/s]\n",
      "  0%|          | 0/9 [00:00<?, ?it/s]"
     ]
    },
    {
     "name": "stdout",
     "output_type": "stream",
     "text": [
      "Step: 1, Train Loss Now: 0.5185778141021729\n",
      "Step: 2, Train Loss Now: 0.6994127929210663\n"
     ]
    },
    {
     "name": "stderr",
     "output_type": "stream",
     "text": [
      " 44%|████▍     | 4/9 [00:00<00:00, 34.34it/s]"
     ]
    },
    {
     "name": "stdout",
     "output_type": "stream",
     "text": [
      "Step: 3, Train Loss Now: 0.7963540156682333\n",
      "Step: 4, Train Loss Now: 0.8223858177661896\n",
      "Step: 5, Train Loss Now: 0.8219954371452332\n",
      "Step: 6, Train Loss Now: 0.7832146187623342\n",
      "Step: 7, Train Loss Now: 0.7674091373171125\n"
     ]
    },
    {
     "name": "stderr",
     "output_type": "stream",
     "text": [
      "100%|██████████| 9/9 [00:00<00:00, 28.41it/s]\n"
     ]
    },
    {
     "name": "stdout",
     "output_type": "stream",
     "text": [
      "Step: 8, Train Loss Now: 0.7667276933789253\n",
      "Step: 9, Train Loss Now: 0.7786477737956576\n"
     ]
    },
    {
     "name": "stderr",
     "output_type": "stream",
     "text": [
      "100%|██████████| 3/3 [00:00<00:00, 87.16it/s]\n",
      "  0%|          | 0/9 [00:00<?, ?it/s]"
     ]
    },
    {
     "name": "stdout",
     "output_type": "stream",
     "text": [
      "Step: 1, Train Loss Now: 0.6336020231246948\n",
      "Step: 2, Train Loss Now: 0.8929546475410461\n",
      "Step: 3, Train Loss Now: 0.8819076617558798\n"
     ]
    },
    {
     "name": "stderr",
     "output_type": "stream",
     "text": [
      " 44%|████▍     | 4/9 [00:00<00:00, 34.65it/s]"
     ]
    },
    {
     "name": "stdout",
     "output_type": "stream",
     "text": [
      "Step: 4, Train Loss Now: 0.8216598629951477\n",
      "Step: 5, Train Loss Now: 0.7867240190505982\n",
      "Step: 6, Train Loss Now: 0.812267909447352\n",
      "Step: 7, Train Loss Now: 0.7748836619513375\n"
     ]
    },
    {
     "name": "stderr",
     "output_type": "stream",
     "text": [
      " 89%|████████▉ | 8/9 [00:00<00:00, 33.34it/s]"
     ]
    },
    {
     "name": "stdout",
     "output_type": "stream",
     "text": [
      "Step: 8, Train Loss Now: 0.7451075538992882\n"
     ]
    },
    {
     "name": "stderr",
     "output_type": "stream",
     "text": [
      "100%|██████████| 9/9 [00:00<00:00, 32.98it/s]"
     ]
    },
    {
     "name": "stdout",
     "output_type": "stream",
     "text": [
      "Step: 9, Train Loss Now: 0.7310265037748549\n"
     ]
    },
    {
     "name": "stderr",
     "output_type": "stream",
     "text": [
      "\n",
      "100%|██████████| 3/3 [00:00<00:00, 89.15it/s]\n",
      "  0%|          | 0/9 [00:00<?, ?it/s]"
     ]
    },
    {
     "name": "stdout",
     "output_type": "stream",
     "text": [
      "Step: 1, Train Loss Now: 0.655975878238678\n"
     ]
    },
    {
     "name": "stderr",
     "output_type": "stream",
     "text": [
      " 44%|████▍     | 4/9 [00:00<00:00, 34.70it/s]"
     ]
    },
    {
     "name": "stdout",
     "output_type": "stream",
     "text": [
      "Step: 2, Train Loss Now: 0.620145320892334\n",
      "Step: 3, Train Loss Now: 0.671227753162384\n",
      "Step: 4, Train Loss Now: 0.7050726562738419\n",
      "Step: 5, Train Loss Now: 0.7013816595077514\n",
      "Step: 6, Train Loss Now: 0.7604840795199076\n",
      "Step: 7, Train Loss Now: 0.7352371982165745\n"
     ]
    },
    {
     "name": "stderr",
     "output_type": "stream",
     "text": [
      "100%|██████████| 9/9 [00:00<00:00, 33.94it/s]"
     ]
    },
    {
     "name": "stdout",
     "output_type": "stream",
     "text": [
      "Step: 8, Train Loss Now: 0.7419797107577324\n",
      "Step: 9, Train Loss Now: 0.7661281294292874\n"
     ]
    },
    {
     "name": "stderr",
     "output_type": "stream",
     "text": [
      "\n",
      "100%|██████████| 3/3 [00:00<00:00, 89.78it/s]\n",
      "  0%|          | 0/9 [00:00<?, ?it/s]"
     ]
    },
    {
     "name": "stdout",
     "output_type": "stream",
     "text": [
      "Step: 1, Train Loss Now: 0.6226755976676941\n",
      "Step: 2, Train Loss Now: 0.7999897301197052\n"
     ]
    },
    {
     "name": "stderr",
     "output_type": "stream",
     "text": [
      " 44%|████▍     | 4/9 [00:00<00:00, 31.75it/s]"
     ]
    },
    {
     "name": "stdout",
     "output_type": "stream",
     "text": [
      "Step: 3, Train Loss Now: 0.7747585773468018\n",
      "Step: 4, Train Loss Now: 0.825295016169548\n",
      "Step: 5, Train Loss Now: 0.7756700873374939\n",
      "Step: 6, Train Loss Now: 0.745086133480072\n",
      "Step: 7, Train Loss Now: 0.7661521179335458\n"
     ]
    },
    {
     "name": "stderr",
     "output_type": "stream",
     "text": [
      "100%|██████████| 9/9 [00:00<00:00, 31.84it/s]"
     ]
    },
    {
     "name": "stdout",
     "output_type": "stream",
     "text": [
      "Step: 8, Train Loss Now: 0.7678044810891151\n",
      "Step: 9, Train Loss Now: 0.7576261361440023\n"
     ]
    },
    {
     "name": "stderr",
     "output_type": "stream",
     "text": [
      "\n",
      "100%|██████████| 3/3 [00:00<00:00, 87.67it/s]\n",
      "  0%|          | 0/9 [00:00<?, ?it/s]"
     ]
    },
    {
     "name": "stdout",
     "output_type": "stream",
     "text": [
      "Step: 1, Train Loss Now: 0.917762279510498\n"
     ]
    },
    {
     "name": "stderr",
     "output_type": "stream",
     "text": [
      " 44%|████▍     | 4/9 [00:00<00:00, 34.58it/s]"
     ]
    },
    {
     "name": "stdout",
     "output_type": "stream",
     "text": [
      "Step: 2, Train Loss Now: 0.9005537927150726\n",
      "Step: 3, Train Loss Now: 0.8103184700012207\n",
      "Step: 4, Train Loss Now: 0.7312538176774979\n",
      "Step: 5, Train Loss Now: 0.687822687625885\n",
      "Step: 6, Train Loss Now: 0.7143417398134867\n",
      "Step: 7, Train Loss Now: 0.7513523783002581\n"
     ]
    },
    {
     "name": "stderr",
     "output_type": "stream",
     "text": [
      " 89%|████████▉ | 8/9 [00:00<00:00, 32.74it/s]"
     ]
    },
    {
     "name": "stdout",
     "output_type": "stream",
     "text": [
      "Step: 8, Train Loss Now: 0.7575074881315231\n"
     ]
    },
    {
     "name": "stderr",
     "output_type": "stream",
     "text": [
      "100%|██████████| 9/9 [00:00<00:00, 27.62it/s]\n"
     ]
    },
    {
     "name": "stdout",
     "output_type": "stream",
     "text": [
      "Step: 9, Train Loss Now: 0.739423930644989\n"
     ]
    },
    {
     "name": "stderr",
     "output_type": "stream",
     "text": [
      "100%|██████████| 3/3 [00:00<00:00, 75.09it/s]\n",
      "  0%|          | 0/9 [00:00<?, ?it/s]"
     ]
    },
    {
     "name": "stdout",
     "output_type": "stream",
     "text": [
      "Step: 1, Train Loss Now: 0.6950640678405762\n",
      "Step: 2, Train Loss Now: 0.7718648612499237\n",
      "Step: 3, Train Loss Now: 0.7640560865402222\n"
     ]
    },
    {
     "name": "stderr",
     "output_type": "stream",
     "text": [
      " 44%|████▍     | 4/9 [00:00<00:00, 33.48it/s]"
     ]
    },
    {
     "name": "stdout",
     "output_type": "stream",
     "text": [
      "Step: 4, Train Loss Now: 0.7914450168609619\n",
      "Step: 5, Train Loss Now: 0.8222078680992126\n",
      "Step: 6, Train Loss Now: 0.8012491166591644\n",
      "Step: 7, Train Loss Now: 0.7786429950169155\n"
     ]
    },
    {
     "name": "stderr",
     "output_type": "stream",
     "text": [
      "100%|██████████| 9/9 [00:00<00:00, 33.66it/s]\n"
     ]
    },
    {
     "name": "stdout",
     "output_type": "stream",
     "text": [
      "Step: 8, Train Loss Now: 0.7604799568653107\n",
      "Step: 9, Train Loss Now: 0.7765074570973715\n"
     ]
    },
    {
     "name": "stderr",
     "output_type": "stream",
     "text": [
      "100%|██████████| 3/3 [00:00<00:00, 90.00it/s]\n",
      "  0%|          | 0/9 [00:00<?, ?it/s]"
     ]
    },
    {
     "name": "stdout",
     "output_type": "stream",
     "text": [
      "Step: 1, Train Loss Now: 0.9859523773193359\n",
      "Step: 2, Train Loss Now: 0.9635635912418365\n"
     ]
    },
    {
     "name": "stderr",
     "output_type": "stream",
     "text": [
      " 44%|████▍     | 4/9 [00:00<00:00, 31.80it/s]"
     ]
    },
    {
     "name": "stdout",
     "output_type": "stream",
     "text": [
      "Step: 3, Train Loss Now: 0.8549617528915405\n",
      "Step: 4, Train Loss Now: 0.8594801276922226\n",
      "Step: 5, Train Loss Now: 0.7740778625011444\n",
      "Step: 6, Train Loss Now: 0.7364746083815893\n"
     ]
    },
    {
     "name": "stderr",
     "output_type": "stream",
     "text": [
      "100%|██████████| 9/9 [00:00<00:00, 31.61it/s]"
     ]
    },
    {
     "name": "stdout",
     "output_type": "stream",
     "text": [
      "Step: 7, Train Loss Now: 0.7482854085309165\n",
      "Step: 8, Train Loss Now: 0.7686575092375278\n",
      "Step: 9, Train Loss Now: 0.7842649850580428\n"
     ]
    },
    {
     "name": "stderr",
     "output_type": "stream",
     "text": [
      "\n",
      "100%|██████████| 3/3 [00:00<00:00, 92.97it/s]\n",
      "  0%|          | 0/9 [00:00<?, ?it/s]"
     ]
    },
    {
     "name": "stdout",
     "output_type": "stream",
     "text": [
      "Step: 1, Train Loss Now: 0.5613783001899719\n"
     ]
    },
    {
     "name": "stderr",
     "output_type": "stream",
     "text": [
      " 44%|████▍     | 4/9 [00:00<00:00, 34.56it/s]"
     ]
    },
    {
     "name": "stdout",
     "output_type": "stream",
     "text": [
      "Step: 2, Train Loss Now: 0.7503043711185455\n",
      "Step: 3, Train Loss Now: 0.7113634347915649\n",
      "Step: 4, Train Loss Now: 0.7401307970285416\n"
     ]
    },
    {
     "name": "stderr",
     "output_type": "stream",
     "text": [
      " 89%|████████▉ | 8/9 [00:00<00:00, 34.44it/s]"
     ]
    },
    {
     "name": "stdout",
     "output_type": "stream",
     "text": [
      "Step: 5, Train Loss Now: 0.7456499695777893\n",
      "Step: 6, Train Loss Now: 0.7616726656754812\n",
      "Step: 7, Train Loss Now: 0.7851592472621373\n",
      "Step: 8, Train Loss Now: 0.7709967344999313\n",
      "Step: 9, Train Loss Now: 0.7759866250885857\n"
     ]
    },
    {
     "name": "stderr",
     "output_type": "stream",
     "text": [
      "100%|██████████| 9/9 [00:00<00:00, 33.79it/s]\n",
      "100%|██████████| 3/3 [00:00<00:00, 89.96it/s]\n",
      "  0%|          | 0/9 [00:00<?, ?it/s]"
     ]
    },
    {
     "name": "stdout",
     "output_type": "stream",
     "text": [
      "Step: 1, Train Loss Now: 0.7846129536628723\n"
     ]
    },
    {
     "name": "stderr",
     "output_type": "stream",
     "text": [
      " 33%|███▎      | 3/9 [00:00<00:00, 27.77it/s]"
     ]
    },
    {
     "name": "stdout",
     "output_type": "stream",
     "text": [
      "Step: 2, Train Loss Now: 0.6736692786216736\n",
      "Step: 3, Train Loss Now: 0.6353844801584879\n",
      "Step: 4, Train Loss Now: 0.6400694102048874\n",
      "Step: 5, Train Loss Now: 0.7049489498138428\n"
     ]
    },
    {
     "name": "stderr",
     "output_type": "stream",
     "text": [
      " 78%|███████▊  | 7/9 [00:00<00:00, 33.47it/s]"
     ]
    },
    {
     "name": "stdout",
     "output_type": "stream",
     "text": [
      "Step: 6, Train Loss Now: 0.7933144768079122\n",
      "Step: 7, Train Loss Now: 0.7962164793695722\n",
      "Step: 8, Train Loss Now: 0.7606828436255455\n"
     ]
    },
    {
     "name": "stderr",
     "output_type": "stream",
     "text": [
      "100%|██████████| 9/9 [00:00<00:00, 32.76it/s]\n"
     ]
    },
    {
     "name": "stdout",
     "output_type": "stream",
     "text": [
      "Step: 9, Train Loss Now: 0.7723178201251559\n"
     ]
    },
    {
     "name": "stderr",
     "output_type": "stream",
     "text": [
      "100%|██████████| 3/3 [00:00<00:00, 38.60it/s]\n",
      "  0%|          | 0/9 [00:00<?, ?it/s]"
     ]
    },
    {
     "name": "stdout",
     "output_type": "stream",
     "text": [
      "Step: 1, Train Loss Now: 0.707747220993042\n"
     ]
    },
    {
     "name": "stderr",
     "output_type": "stream",
     "text": [
      " 44%|████▍     | 4/9 [00:00<00:00, 33.21it/s]"
     ]
    },
    {
     "name": "stdout",
     "output_type": "stream",
     "text": [
      "Step: 2, Train Loss Now: 0.6756340265274048\n",
      "Step: 3, Train Loss Now: 0.7359900871912638\n",
      "Step: 4, Train Loss Now: 0.734562948346138\n",
      "Step: 5, Train Loss Now: 0.7317046046257019\n",
      "Step: 6, Train Loss Now: 0.7144094804922739\n",
      "Step: 7, Train Loss Now: 0.7236664635794503\n"
     ]
    },
    {
     "name": "stderr",
     "output_type": "stream",
     "text": [
      "100%|██████████| 9/9 [00:00<00:00, 33.85it/s]"
     ]
    },
    {
     "name": "stdout",
     "output_type": "stream",
     "text": [
      "Step: 8, Train Loss Now: 0.7141114845871925\n",
      "Step: 9, Train Loss Now: 0.755694740348392\n"
     ]
    },
    {
     "name": "stderr",
     "output_type": "stream",
     "text": [
      "\n",
      "100%|██████████| 3/3 [00:00<00:00, 90.01it/s]\n",
      "  0%|          | 0/9 [00:00<?, ?it/s]"
     ]
    },
    {
     "name": "stdout",
     "output_type": "stream",
     "text": [
      "Step: 1, Train Loss Now: 0.633332371711731\n"
     ]
    },
    {
     "name": "stderr",
     "output_type": "stream",
     "text": [
      " 44%|████▍     | 4/9 [00:00<00:00, 34.41it/s]"
     ]
    },
    {
     "name": "stdout",
     "output_type": "stream",
     "text": [
      "Step: 2, Train Loss Now: 0.5923172831535339\n",
      "Step: 3, Train Loss Now: 0.6185448169708252\n",
      "Step: 4, Train Loss Now: 0.6699712425470352\n",
      "Step: 5, Train Loss Now: 0.650538170337677\n",
      "Step: 6, Train Loss Now: 0.6685762703418732\n",
      "Step: 7, Train Loss Now: 0.6877019916261945\n"
     ]
    },
    {
     "name": "stderr",
     "output_type": "stream",
     "text": [
      "100%|██████████| 9/9 [00:00<00:00, 33.75it/s]"
     ]
    },
    {
     "name": "stdout",
     "output_type": "stream",
     "text": [
      "Step: 8, Train Loss Now: 0.7177448719739914\n",
      "Step: 9, Train Loss Now: 0.7087357441584269\n"
     ]
    },
    {
     "name": "stderr",
     "output_type": "stream",
     "text": [
      "\n",
      "100%|██████████| 3/3 [00:00<00:00, 90.21it/s]\n",
      "  0%|          | 0/9 [00:00<?, ?it/s]"
     ]
    },
    {
     "name": "stdout",
     "output_type": "stream",
     "text": [
      "Step: 1, Train Loss Now: 0.921129584312439\n",
      "Step: 2, Train Loss Now: 0.836797833442688\n",
      "Step: 3, Train Loss Now: 0.8058971166610718\n"
     ]
    },
    {
     "name": "stderr",
     "output_type": "stream",
     "text": [
      " 44%|████▍     | 4/9 [00:00<00:00, 30.07it/s]"
     ]
    },
    {
     "name": "stdout",
     "output_type": "stream",
     "text": [
      "Step: 4, Train Loss Now: 0.8025685399770737\n",
      "Step: 5, Train Loss Now: 0.7695127367973328\n",
      "Step: 6, Train Loss Now: 0.7595552702744802\n",
      "Step: 7, Train Loss Now: 0.745549133845738\n"
     ]
    },
    {
     "name": "stderr",
     "output_type": "stream",
     "text": [
      " 89%|████████▉ | 8/9 [00:00<00:00, 30.98it/s]"
     ]
    },
    {
     "name": "stdout",
     "output_type": "stream",
     "text": [
      "Step: 8, Train Loss Now: 0.7420671358704567\n"
     ]
    },
    {
     "name": "stderr",
     "output_type": "stream",
     "text": [
      "100%|██████████| 9/9 [00:00<00:00, 30.75it/s]\n"
     ]
    },
    {
     "name": "stdout",
     "output_type": "stream",
     "text": [
      "Step: 9, Train Loss Now: 0.7529252237743802\n"
     ]
    },
    {
     "name": "stderr",
     "output_type": "stream",
     "text": [
      "100%|██████████| 3/3 [00:00<00:00, 86.98it/s]\n",
      " 44%|████▍     | 4/9 [00:00<00:00, 34.30it/s]"
     ]
    },
    {
     "name": "stdout",
     "output_type": "stream",
     "text": [
      "Step: 1, Train Loss Now: 0.6039606332778931\n",
      "Step: 2, Train Loss Now: 0.6475195288658142\n",
      "Step: 3, Train Loss Now: 0.6822816928227743\n",
      "Step: 4, Train Loss Now: 0.679669052362442\n",
      "Step: 5, Train Loss Now: 0.6843215584754944\n"
     ]
    },
    {
     "name": "stderr",
     "output_type": "stream",
     "text": [
      " 89%|████████▉ | 8/9 [00:00<00:00, 34.32it/s]"
     ]
    },
    {
     "name": "stdout",
     "output_type": "stream",
     "text": [
      "Step: 6, Train Loss Now: 0.6846677362918854\n",
      "Step: 7, Train Loss Now: 0.6896172165870667\n",
      "Step: 8, Train Loss Now: 0.7177610397338867\n"
     ]
    },
    {
     "name": "stderr",
     "output_type": "stream",
     "text": [
      "100%|██████████| 9/9 [00:00<00:00, 34.62it/s]\n"
     ]
    },
    {
     "name": "stdout",
     "output_type": "stream",
     "text": [
      "Step: 9, Train Loss Now: 0.7233113514052497\n"
     ]
    },
    {
     "name": "stderr",
     "output_type": "stream",
     "text": [
      "100%|██████████| 3/3 [00:00<00:00, 81.50it/s]\n",
      "  0%|          | 0/9 [00:00<?, ?it/s]"
     ]
    },
    {
     "name": "stdout",
     "output_type": "stream",
     "text": [
      "Step: 1, Train Loss Now: 0.7051603198051453\n",
      "Step: 2, Train Loss Now: 0.8382242918014526\n"
     ]
    },
    {
     "name": "stderr",
     "output_type": "stream",
     "text": [
      " 33%|███▎      | 3/9 [00:00<00:00, 21.56it/s]"
     ]
    },
    {
     "name": "stdout",
     "output_type": "stream",
     "text": [
      "Step: 3, Train Loss Now: 0.7758854428927103\n",
      "Step: 4, Train Loss Now: 0.787232518196106\n",
      "Step: 5, Train Loss Now: 0.8045338869094849\n"
     ]
    },
    {
     "name": "stderr",
     "output_type": "stream",
     "text": [
      " 67%|██████▋   | 6/9 [00:00<00:00, 25.04it/s]"
     ]
    },
    {
     "name": "stdout",
     "output_type": "stream",
     "text": [
      "Step: 6, Train Loss Now: 0.7825942635536194\n",
      "Step: 7, Train Loss Now: 0.7596697296415057\n",
      "Step: 8, Train Loss Now: 0.748324915766716\n"
     ]
    },
    {
     "name": "stderr",
     "output_type": "stream",
     "text": [
      "100%|██████████| 9/9 [00:00<00:00, 26.54it/s]\n"
     ]
    },
    {
     "name": "stdout",
     "output_type": "stream",
     "text": [
      "Step: 9, Train Loss Now: 0.7478798826535543\n"
     ]
    },
    {
     "name": "stderr",
     "output_type": "stream",
     "text": [
      "100%|██████████| 3/3 [00:00<00:00, 75.55it/s]\n",
      "  0%|          | 0/9 [00:00<?, ?it/s]"
     ]
    },
    {
     "name": "stdout",
     "output_type": "stream",
     "text": [
      "Step: 1, Train Loss Now: 0.6649638414382935\n",
      "Step: 2, Train Loss Now: 0.7764163315296173\n"
     ]
    },
    {
     "name": "stderr",
     "output_type": "stream",
     "text": [
      " 44%|████▍     | 4/9 [00:00<00:00, 35.39it/s]"
     ]
    },
    {
     "name": "stdout",
     "output_type": "stream",
     "text": [
      "Step: 3, Train Loss Now: 0.691348115603129\n",
      "Step: 4, Train Loss Now: 0.7502557337284088\n",
      "Step: 5, Train Loss Now: 0.7778683185577393\n",
      "Step: 6, Train Loss Now: 0.7846131424109141\n",
      "Step: 7, Train Loss Now: 0.7819672226905823\n"
     ]
    },
    {
     "name": "stderr",
     "output_type": "stream",
     "text": [
      "100%|██████████| 9/9 [00:00<00:00, 32.22it/s]"
     ]
    },
    {
     "name": "stdout",
     "output_type": "stream",
     "text": [
      "Step: 8, Train Loss Now: 0.768627367913723\n",
      "Step: 9, Train Loss Now: 0.7830011712180244\n"
     ]
    },
    {
     "name": "stderr",
     "output_type": "stream",
     "text": [
      "\n",
      "100%|██████████| 3/3 [00:00<00:00, 87.49it/s]\n",
      "  0%|          | 0/9 [00:00<?, ?it/s]"
     ]
    },
    {
     "name": "stdout",
     "output_type": "stream",
     "text": [
      "Step: 1, Train Loss Now: 0.5861180424690247\n",
      "Step: 2, Train Loss Now: 0.6402907073497772\n"
     ]
    },
    {
     "name": "stderr",
     "output_type": "stream",
     "text": [
      " 44%|████▍     | 4/9 [00:00<00:00, 30.74it/s]"
     ]
    },
    {
     "name": "stdout",
     "output_type": "stream",
     "text": [
      "Step: 3, Train Loss Now: 0.7093559106191\n",
      "Step: 4, Train Loss Now: 0.7409835457801819\n",
      "Step: 5, Train Loss Now: 0.7975377559661865\n",
      "Step: 6, Train Loss Now: 0.7565137644608816\n"
     ]
    },
    {
     "name": "stderr",
     "output_type": "stream",
     "text": [
      "100%|██████████| 9/9 [00:00<00:00, 32.64it/s]"
     ]
    },
    {
     "name": "stdout",
     "output_type": "stream",
     "text": [
      "Step: 7, Train Loss Now: 0.7342811908040728\n",
      "Step: 8, Train Loss Now: 0.7531943097710609\n",
      "Step: 9, Train Loss Now: 0.761418984995948\n"
     ]
    },
    {
     "name": "stderr",
     "output_type": "stream",
     "text": [
      "\n",
      "100%|██████████| 3/3 [00:00<00:00, 78.06it/s]\n",
      "  0%|          | 0/9 [00:00<?, ?it/s]"
     ]
    },
    {
     "name": "stdout",
     "output_type": "stream",
     "text": [
      "Step: 1, Train Loss Now: 0.4659506678581238\n",
      "Step: 2, Train Loss Now: 0.5172024369239807\n",
      "Step: 3, Train Loss Now: 0.5415354371070862\n"
     ]
    },
    {
     "name": "stderr",
     "output_type": "stream",
     "text": [
      " 44%|████▍     | 4/9 [00:00<00:00, 32.59it/s]"
     ]
    },
    {
     "name": "stdout",
     "output_type": "stream",
     "text": [
      "Step: 4, Train Loss Now: 0.61509570479393\n",
      "Step: 5, Train Loss Now: 0.6472295641899108\n",
      "Step: 6, Train Loss Now: 0.6801353593667349\n"
     ]
    },
    {
     "name": "stderr",
     "output_type": "stream",
     "text": [
      "100%|██████████| 9/9 [00:00<00:00, 31.93it/s]\n"
     ]
    },
    {
     "name": "stdout",
     "output_type": "stream",
     "text": [
      "Step: 7, Train Loss Now: 0.7056548595428467\n",
      "Step: 8, Train Loss Now: 0.7035758420825005\n",
      "Step: 9, Train Loss Now: 0.7304798894458346\n"
     ]
    },
    {
     "name": "stderr",
     "output_type": "stream",
     "text": [
      "100%|██████████| 3/3 [00:00<00:00, 91.31it/s]\n",
      "  0%|          | 0/9 [00:00<?, ?it/s]"
     ]
    },
    {
     "name": "stdout",
     "output_type": "stream",
     "text": [
      "Step: 1, Train Loss Now: 0.8521931171417236\n",
      "Step: 2, Train Loss Now: 0.7488884925842285\n"
     ]
    },
    {
     "name": "stderr",
     "output_type": "stream",
     "text": [
      " 44%|████▍     | 4/9 [00:00<00:00, 32.99it/s]"
     ]
    },
    {
     "name": "stdout",
     "output_type": "stream",
     "text": [
      "Step: 3, Train Loss Now: 0.7805909911791483\n",
      "Step: 4, Train Loss Now: 0.7550549358129501\n",
      "Step: 5, Train Loss Now: 0.7850375175476074\n"
     ]
    },
    {
     "name": "stderr",
     "output_type": "stream",
     "text": [
      " 89%|████████▉ | 8/9 [00:00<00:00, 27.05it/s]"
     ]
    },
    {
     "name": "stdout",
     "output_type": "stream",
     "text": [
      "Step: 6, Train Loss Now: 0.7819468975067139\n",
      "Step: 7, Train Loss Now: 0.8283333097185407\n",
      "Step: 8, Train Loss Now: 0.808017909526825\n"
     ]
    },
    {
     "name": "stderr",
     "output_type": "stream",
     "text": [
      "100%|██████████| 9/9 [00:00<00:00, 28.60it/s]\n"
     ]
    },
    {
     "name": "stdout",
     "output_type": "stream",
     "text": [
      "Step: 9, Train Loss Now: 0.8169756730397543\n"
     ]
    },
    {
     "name": "stderr",
     "output_type": "stream",
     "text": [
      "100%|██████████| 3/3 [00:00<00:00, 75.16it/s]\n",
      "  0%|          | 0/9 [00:00<?, ?it/s]"
     ]
    },
    {
     "name": "stdout",
     "output_type": "stream",
     "text": [
      "Step: 1, Train Loss Now: 0.6153661608695984\n",
      "Step: 2, Train Loss Now: 0.7235010862350464\n"
     ]
    },
    {
     "name": "stderr",
     "output_type": "stream",
     "text": [
      " 44%|████▍     | 4/9 [00:00<00:00, 34.21it/s]"
     ]
    },
    {
     "name": "stdout",
     "output_type": "stream",
     "text": [
      "Step: 3, Train Loss Now: 0.6939988931020101\n",
      "Step: 4, Train Loss Now: 0.7225364446640015\n",
      "Step: 5, Train Loss Now: 0.7536491513252258\n",
      "Step: 6, Train Loss Now: 0.7486378947893778\n",
      "Step: 7, Train Loss Now: 0.7669389929090228\n"
     ]
    },
    {
     "name": "stderr",
     "output_type": "stream",
     "text": [
      "100%|██████████| 9/9 [00:00<00:00, 33.15it/s]"
     ]
    },
    {
     "name": "stdout",
     "output_type": "stream",
     "text": [
      "Step: 8, Train Loss Now: 0.7717559263110161\n",
      "Step: 9, Train Loss Now: 0.7441638310750326\n"
     ]
    },
    {
     "name": "stderr",
     "output_type": "stream",
     "text": [
      "\n",
      "100%|██████████| 3/3 [00:00<00:00, 94.99it/s]\n",
      "  0%|          | 0/9 [00:00<?, ?it/s]"
     ]
    },
    {
     "name": "stdout",
     "output_type": "stream",
     "text": [
      "Step: 1, Train Loss Now: 0.7494192123413086\n",
      "Step: 2, Train Loss Now: 0.6925900876522064\n"
     ]
    },
    {
     "name": "stderr",
     "output_type": "stream",
     "text": [
      " 44%|████▍     | 4/9 [00:00<00:00, 35.45it/s]"
     ]
    },
    {
     "name": "stdout",
     "output_type": "stream",
     "text": [
      "Step: 3, Train Loss Now: 0.755243202050527\n",
      "Step: 4, Train Loss Now: 0.7605706602334976\n",
      "Step: 5, Train Loss Now: 0.7722074747085571\n",
      "Step: 6, Train Loss Now: 0.7675951421260834\n",
      "Step: 7, Train Loss Now: 0.7340589676584516\n"
     ]
    },
    {
     "name": "stderr",
     "output_type": "stream",
     "text": [
      "100%|██████████| 9/9 [00:00<00:00, 32.15it/s]"
     ]
    },
    {
     "name": "stdout",
     "output_type": "stream",
     "text": [
      "Step: 8, Train Loss Now: 0.7341054454445839\n",
      "Step: 9, Train Loss Now: 0.7281951904296875\n"
     ]
    },
    {
     "name": "stderr",
     "output_type": "stream",
     "text": [
      "\n",
      "100%|██████████| 3/3 [00:00<00:00, 89.98it/s]\n",
      " 44%|████▍     | 4/9 [00:00<00:00, 34.42it/s]"
     ]
    },
    {
     "name": "stdout",
     "output_type": "stream",
     "text": [
      "Step: 1, Train Loss Now: 0.8221583366394043\n",
      "Step: 2, Train Loss Now: 0.7452207505702972\n",
      "Step: 3, Train Loss Now: 0.737086017926534\n",
      "Step: 4, Train Loss Now: 0.7618332654237747\n",
      "Step: 5, Train Loss Now: 0.734983491897583\n",
      "Step: 6, Train Loss Now: 0.7367762625217438\n",
      "Step: 7, Train Loss Now: 0.7246471387999398\n"
     ]
    },
    {
     "name": "stderr",
     "output_type": "stream",
     "text": [
      "100%|██████████| 9/9 [00:00<00:00, 33.51it/s]\n"
     ]
    },
    {
     "name": "stdout",
     "output_type": "stream",
     "text": [
      "Step: 8, Train Loss Now: 0.7050543949007988\n",
      "Step: 9, Train Loss Now: 0.7201352450582716\n"
     ]
    },
    {
     "name": "stderr",
     "output_type": "stream",
     "text": [
      "100%|██████████| 3/3 [00:00<00:00, 77.92it/s]\n",
      "  0%|          | 0/9 [00:00<?, ?it/s]"
     ]
    },
    {
     "name": "stdout",
     "output_type": "stream",
     "text": [
      "Step: 1, Train Loss Now: 0.8882650136947632\n"
     ]
    },
    {
     "name": "stderr",
     "output_type": "stream",
     "text": [
      " 44%|████▍     | 4/9 [00:00<00:00, 31.84it/s]"
     ]
    },
    {
     "name": "stdout",
     "output_type": "stream",
     "text": [
      "Step: 2, Train Loss Now: 0.7996370494365692\n",
      "Step: 3, Train Loss Now: 0.730318566163381\n",
      "Step: 4, Train Loss Now: 0.7488701045513153\n",
      "Step: 5, Train Loss Now: 0.7494144201278686\n",
      "Step: 6, Train Loss Now: 0.7318075895309448\n",
      "Step: 7, Train Loss Now: 0.7392645393099103\n"
     ]
    },
    {
     "name": "stderr",
     "output_type": "stream",
     "text": [
      "100%|██████████| 9/9 [00:00<00:00, 27.39it/s]\n"
     ]
    },
    {
     "name": "stdout",
     "output_type": "stream",
     "text": [
      "Step: 8, Train Loss Now: 0.7207086980342865\n",
      "Step: 9, Train Loss Now: 0.6952848997380998\n"
     ]
    },
    {
     "name": "stderr",
     "output_type": "stream",
     "text": [
      "100%|██████████| 3/3 [00:00<00:00, 95.08it/s]\n",
      "  0%|          | 0/9 [00:00<?, ?it/s]"
     ]
    },
    {
     "name": "stdout",
     "output_type": "stream",
     "text": [
      "Step: 1, Train Loss Now: 0.5033217668533325\n"
     ]
    },
    {
     "name": "stderr",
     "output_type": "stream",
     "text": [
      " 44%|████▍     | 4/9 [00:00<00:00, 32.74it/s]"
     ]
    },
    {
     "name": "stdout",
     "output_type": "stream",
     "text": [
      "Step: 2, Train Loss Now: 0.42639002203941345\n",
      "Step: 3, Train Loss Now: 0.518341859181722\n",
      "Step: 4, Train Loss Now: 0.582536906003952\n",
      "Step: 5, Train Loss Now: 0.5911923050880432\n",
      "Step: 6, Train Loss Now: 0.6273678243160248\n"
     ]
    },
    {
     "name": "stderr",
     "output_type": "stream",
     "text": [
      " 89%|████████▉ | 8/9 [00:00<00:00, 33.61it/s]"
     ]
    },
    {
     "name": "stdout",
     "output_type": "stream",
     "text": [
      "Step: 7, Train Loss Now: 0.6263566868645805\n",
      "Step: 8, Train Loss Now: 0.6967407763004303\n"
     ]
    },
    {
     "name": "stderr",
     "output_type": "stream",
     "text": [
      "100%|██████████| 9/9 [00:00<00:00, 33.20it/s]\n"
     ]
    },
    {
     "name": "stdout",
     "output_type": "stream",
     "text": [
      "Step: 9, Train Loss Now: 0.685000929567549\n"
     ]
    },
    {
     "name": "stderr",
     "output_type": "stream",
     "text": [
      "100%|██████████| 3/3 [00:00<00:00, 80.46it/s]\n",
      "  0%|          | 0/9 [00:00<?, ?it/s]"
     ]
    },
    {
     "name": "stdout",
     "output_type": "stream",
     "text": [
      "Step: 1, Train Loss Now: 0.7748429775238037\n",
      "Step: 2, Train Loss Now: 0.7285680770874023\n",
      "Step: 3, Train Loss Now: 0.7383931676546732\n"
     ]
    },
    {
     "name": "stderr",
     "output_type": "stream",
     "text": [
      " 44%|████▍     | 4/9 [00:00<00:00, 33.23it/s]"
     ]
    },
    {
     "name": "stdout",
     "output_type": "stream",
     "text": [
      "Step: 4, Train Loss Now: 0.7122115194797516\n",
      "Step: 5, Train Loss Now: 0.6958661317825318\n",
      "Step: 6, Train Loss Now: 0.6568222294251124\n",
      "Step: 7, Train Loss Now: 0.6759641468524933\n"
     ]
    },
    {
     "name": "stderr",
     "output_type": "stream",
     "text": [
      " 89%|████████▉ | 8/9 [00:00<00:00, 31.73it/s]"
     ]
    },
    {
     "name": "stdout",
     "output_type": "stream",
     "text": [
      "Step: 8, Train Loss Now: 0.6612665913999081\n"
     ]
    },
    {
     "name": "stderr",
     "output_type": "stream",
     "text": [
      "100%|██████████| 9/9 [00:00<00:00, 32.22it/s]\n"
     ]
    },
    {
     "name": "stdout",
     "output_type": "stream",
     "text": [
      "Step: 9, Train Loss Now: 0.6737265090147654\n"
     ]
    },
    {
     "name": "stderr",
     "output_type": "stream",
     "text": [
      "100%|██████████| 3/3 [00:00<00:00, 78.19it/s]\n",
      "  0%|          | 0/9 [00:00<?, ?it/s]"
     ]
    },
    {
     "name": "stdout",
     "output_type": "stream",
     "text": [
      "Step: 1, Train Loss Now: 0.756469190120697\n"
     ]
    },
    {
     "name": "stderr",
     "output_type": "stream",
     "text": [
      " 44%|████▍     | 4/9 [00:00<00:00, 36.75it/s]"
     ]
    },
    {
     "name": "stdout",
     "output_type": "stream",
     "text": [
      "Step: 2, Train Loss Now: 0.6512480080127716\n",
      "Step: 3, Train Loss Now: 0.6610711812973022\n",
      "Step: 4, Train Loss Now: 0.624682754278183\n",
      "Step: 5, Train Loss Now: 0.5957757890224457\n",
      "Step: 6, Train Loss Now: 0.620310420791308\n",
      "Step: 7, Train Loss Now: 0.6522657232625144\n"
     ]
    },
    {
     "name": "stderr",
     "output_type": "stream",
     "text": [
      " 89%|████████▉ | 8/9 [00:00<00:00, 28.99it/s]"
     ]
    },
    {
     "name": "stdout",
     "output_type": "stream",
     "text": [
      "Step: 8, Train Loss Now: 0.6536885611712933\n"
     ]
    },
    {
     "name": "stderr",
     "output_type": "stream",
     "text": [
      "100%|██████████| 9/9 [00:00<00:00, 29.15it/s]\n"
     ]
    },
    {
     "name": "stdout",
     "output_type": "stream",
     "text": [
      "Step: 9, Train Loss Now: 0.6849159631464217\n"
     ]
    },
    {
     "name": "stderr",
     "output_type": "stream",
     "text": [
      "100%|██████████| 3/3 [00:00<00:00, 87.25it/s]\n",
      " 44%|████▍     | 4/9 [00:00<00:00, 35.49it/s]"
     ]
    },
    {
     "name": "stdout",
     "output_type": "stream",
     "text": [
      "Step: 1, Train Loss Now: 0.5129050016403198\n",
      "Step: 2, Train Loss Now: 0.6192371845245361\n",
      "Step: 3, Train Loss Now: 0.6354660391807556\n",
      "Step: 4, Train Loss Now: 0.6238390356302261\n",
      "Step: 5, Train Loss Now: 0.6975394248962402\n",
      "Step: 6, Train Loss Now: 0.7128058969974518\n",
      "Step: 7, Train Loss Now: 0.7067598615373883\n"
     ]
    },
    {
     "name": "stderr",
     "output_type": "stream",
     "text": [
      "100%|██████████| 9/9 [00:00<00:00, 33.56it/s]\n"
     ]
    },
    {
     "name": "stdout",
     "output_type": "stream",
     "text": [
      "Step: 8, Train Loss Now: 0.7086035907268524\n",
      "Step: 9, Train Loss Now: 0.7210081815719604\n"
     ]
    },
    {
     "name": "stderr",
     "output_type": "stream",
     "text": [
      "100%|██████████| 3/3 [00:00<00:00, 89.75it/s]\n",
      "  0%|          | 0/9 [00:00<?, ?it/s]"
     ]
    },
    {
     "name": "stdout",
     "output_type": "stream",
     "text": [
      "Step: 1, Train Loss Now: 0.5037335753440857\n",
      "Step: 2, Train Loss Now: 0.5595890581607819\n"
     ]
    },
    {
     "name": "stderr",
     "output_type": "stream",
     "text": [
      " 44%|████▍     | 4/9 [00:00<00:00, 31.56it/s]"
     ]
    },
    {
     "name": "stdout",
     "output_type": "stream",
     "text": [
      "Step: 3, Train Loss Now: 0.6155970295270284\n",
      "Step: 4, Train Loss Now: 0.6498870700597763\n",
      "Step: 5, Train Loss Now: 0.6671244978904725\n",
      "Step: 6, Train Loss Now: 0.6606938044230143\n"
     ]
    },
    {
     "name": "stderr",
     "output_type": "stream",
     "text": [
      "100%|██████████| 9/9 [00:00<00:00, 31.56it/s]"
     ]
    },
    {
     "name": "stdout",
     "output_type": "stream",
     "text": [
      "Step: 7, Train Loss Now: 0.6602672253336225\n",
      "Step: 8, Train Loss Now: 0.6804589629173279\n",
      "Step: 9, Train Loss Now: 0.692860033777025\n"
     ]
    },
    {
     "name": "stderr",
     "output_type": "stream",
     "text": [
      "\n",
      "100%|██████████| 3/3 [00:00<00:00, 86.44it/s]\n",
      "  0%|          | 0/9 [00:00<?, ?it/s]"
     ]
    },
    {
     "name": "stdout",
     "output_type": "stream",
     "text": [
      "Step: 1, Train Loss Now: 0.7323490977287292\n",
      "Step: 2, Train Loss Now: 0.7911933958530426\n"
     ]
    },
    {
     "name": "stderr",
     "output_type": "stream",
     "text": [
      " 44%|████▍     | 4/9 [00:00<00:00, 32.79it/s]"
     ]
    },
    {
     "name": "stdout",
     "output_type": "stream",
     "text": [
      "Step: 3, Train Loss Now: 0.7869666616121928\n",
      "Step: 4, Train Loss Now: 0.7637158930301666\n",
      "Step: 5, Train Loss Now: 0.7037682116031647\n",
      "Step: 6, Train Loss Now: 0.7215266674757004\n",
      "Step: 7, Train Loss Now: 0.6866182727473122\n"
     ]
    },
    {
     "name": "stderr",
     "output_type": "stream",
     "text": [
      " 89%|████████▉ | 8/9 [00:00<00:00, 33.69it/s]"
     ]
    },
    {
     "name": "stdout",
     "output_type": "stream",
     "text": [
      "Step: 8, Train Loss Now: 0.6984160803258419\n"
     ]
    },
    {
     "name": "stderr",
     "output_type": "stream",
     "text": [
      "100%|██████████| 9/9 [00:00<00:00, 33.98it/s]\n"
     ]
    },
    {
     "name": "stdout",
     "output_type": "stream",
     "text": [
      "Step: 9, Train Loss Now: 0.6976928545369042\n"
     ]
    },
    {
     "name": "stderr",
     "output_type": "stream",
     "text": [
      "100%|██████████| 3/3 [00:00<00:00, 77.42it/s]\n",
      " 44%|████▍     | 4/9 [00:00<00:00, 36.99it/s]"
     ]
    },
    {
     "name": "stdout",
     "output_type": "stream",
     "text": [
      "Step: 1, Train Loss Now: 0.7862767577171326\n",
      "Step: 2, Train Loss Now: 0.755918949842453\n",
      "Step: 3, Train Loss Now: 0.6906272570292155\n",
      "Step: 4, Train Loss Now: 0.6886274516582489\n",
      "Step: 5, Train Loss Now: 0.6751226663589478\n",
      "Step: 6, Train Loss Now: 0.6741489867369334\n"
     ]
    },
    {
     "name": "stderr",
     "output_type": "stream",
     "text": [
      "100%|██████████| 9/9 [00:00<00:00, 29.21it/s]\n"
     ]
    },
    {
     "name": "stdout",
     "output_type": "stream",
     "text": [
      "Step: 7, Train Loss Now: 0.7155342612947736\n",
      "Step: 8, Train Loss Now: 0.7055420204997063\n",
      "Step: 9, Train Loss Now: 0.7218236923217773\n"
     ]
    },
    {
     "name": "stderr",
     "output_type": "stream",
     "text": [
      "100%|██████████| 3/3 [00:00<00:00, 72.83it/s]\n",
      "  0%|          | 0/9 [00:00<?, ?it/s]"
     ]
    },
    {
     "name": "stdout",
     "output_type": "stream",
     "text": [
      "Step: 1, Train Loss Now: 0.6261441111564636\n",
      "Step: 2, Train Loss Now: 0.6309953331947327\n",
      "Step: 3, Train Loss Now: 0.6180457274119059\n"
     ]
    },
    {
     "name": "stderr",
     "output_type": "stream",
     "text": [
      " 44%|████▍     | 4/9 [00:00<00:00, 33.05it/s]"
     ]
    },
    {
     "name": "stdout",
     "output_type": "stream",
     "text": [
      "Step: 4, Train Loss Now: 0.6246038973331451\n",
      "Step: 5, Train Loss Now: 0.6130540490150451\n",
      "Step: 6, Train Loss Now: 0.6413659056027731\n"
     ]
    },
    {
     "name": "stderr",
     "output_type": "stream",
     "text": [
      " 89%|████████▉ | 8/9 [00:00<00:00, 31.81it/s]"
     ]
    },
    {
     "name": "stdout",
     "output_type": "stream",
     "text": [
      "Step: 7, Train Loss Now: 0.7059434141431536\n",
      "Step: 8, Train Loss Now: 0.7195734679698944\n"
     ]
    },
    {
     "name": "stderr",
     "output_type": "stream",
     "text": [
      "100%|██████████| 9/9 [00:00<00:00, 31.12it/s]\n"
     ]
    },
    {
     "name": "stdout",
     "output_type": "stream",
     "text": [
      "Step: 9, Train Loss Now: 0.6903537644280328\n"
     ]
    },
    {
     "name": "stderr",
     "output_type": "stream",
     "text": [
      "100%|██████████| 3/3 [00:00<00:00, 71.89it/s]\n",
      "  0%|          | 0/9 [00:00<?, ?it/s]"
     ]
    },
    {
     "name": "stdout",
     "output_type": "stream",
     "text": [
      "Step: 1, Train Loss Now: 0.6751187443733215\n",
      "Step: 2, Train Loss Now: 0.6953750252723694\n",
      "Step: 3, Train Loss Now: 0.6800867517789205\n"
     ]
    },
    {
     "name": "stderr",
     "output_type": "stream",
     "text": [
      " 44%|████▍     | 4/9 [00:00<00:00, 34.17it/s]"
     ]
    },
    {
     "name": "stdout",
     "output_type": "stream",
     "text": [
      "Step: 4, Train Loss Now: 0.7159643769264221\n",
      "Step: 5, Train Loss Now: 0.6935735583305359\n",
      "Step: 6, Train Loss Now: 0.6789980332056681\n",
      "Step: 7, Train Loss Now: 0.6884868570736477\n"
     ]
    },
    {
     "name": "stderr",
     "output_type": "stream",
     "text": [
      "100%|██████████| 9/9 [00:00<00:00, 31.66it/s]\n"
     ]
    },
    {
     "name": "stdout",
     "output_type": "stream",
     "text": [
      "Step: 8, Train Loss Now: 0.7090733423829079\n",
      "Step: 9, Train Loss Now: 0.7200590570767721\n"
     ]
    },
    {
     "name": "stderr",
     "output_type": "stream",
     "text": [
      "100%|██████████| 3/3 [00:00<00:00, 104.59it/s]\n",
      "  0%|          | 0/9 [00:00<?, ?it/s]"
     ]
    },
    {
     "name": "stdout",
     "output_type": "stream",
     "text": [
      "Step: 1, Train Loss Now: 0.5914949774742126\n",
      "Step: 2, Train Loss Now: 0.6660540103912354\n",
      "Step: 3, Train Loss Now: 0.827255924542745\n"
     ]
    },
    {
     "name": "stderr",
     "output_type": "stream",
     "text": [
      " 44%|████▍     | 4/9 [00:00<00:00, 25.74it/s]"
     ]
    },
    {
     "name": "stdout",
     "output_type": "stream",
     "text": [
      "Step: 4, Train Loss Now: 0.7820431292057037\n",
      "Step: 5, Train Loss Now: 0.7856398344039917\n",
      "Step: 6, Train Loss Now: 0.7302868515253067\n",
      "Step: 7, Train Loss Now: 0.7267958564417702\n"
     ]
    },
    {
     "name": "stderr",
     "output_type": "stream",
     "text": [
      "100%|██████████| 9/9 [00:00<00:00, 28.53it/s]\n"
     ]
    },
    {
     "name": "stdout",
     "output_type": "stream",
     "text": [
      "Step: 8, Train Loss Now: 0.7065360583364964\n",
      "Step: 9, Train Loss Now: 0.7021698322561052\n"
     ]
    },
    {
     "name": "stderr",
     "output_type": "stream",
     "text": [
      "100%|██████████| 3/3 [00:00<00:00, 85.78it/s]\n",
      "  0%|          | 0/9 [00:00<?, ?it/s]"
     ]
    },
    {
     "name": "stdout",
     "output_type": "stream",
     "text": [
      "Step: 1, Train Loss Now: 0.5985050201416016\n",
      "Step: 2, Train Loss Now: 0.630367785692215\n"
     ]
    },
    {
     "name": "stderr",
     "output_type": "stream",
     "text": [
      " 44%|████▍     | 4/9 [00:00<00:00, 34.13it/s]"
     ]
    },
    {
     "name": "stdout",
     "output_type": "stream",
     "text": [
      "Step: 3, Train Loss Now: 0.6223003268241882\n",
      "Step: 4, Train Loss Now: 0.608641043305397\n",
      "Step: 5, Train Loss Now: 0.6239471673965454\n",
      "Step: 6, Train Loss Now: 0.6463062365849813\n",
      "Step: 7, Train Loss Now: 0.6259953805378505\n",
      "Step: 8, Train Loss Now: 0.6379249319434166\n"
     ]
    },
    {
     "name": "stderr",
     "output_type": "stream",
     "text": [
      " 89%|████████▉ | 8/9 [00:00<00:00, 34.38it/s]"
     ]
    },
    {
     "name": "stdout",
     "output_type": "stream",
     "text": [
      "Step: 9, Train Loss Now: 0.6919199956787957\n"
     ]
    },
    {
     "name": "stderr",
     "output_type": "stream",
     "text": [
      "100%|██████████| 9/9 [00:00<00:00, 32.98it/s]\n",
      "100%|██████████| 3/3 [00:00<00:00, 104.54it/s]\n",
      "  0%|          | 0/9 [00:00<?, ?it/s]"
     ]
    },
    {
     "name": "stdout",
     "output_type": "stream",
     "text": [
      "Step: 1, Train Loss Now: 0.6293095350265503\n"
     ]
    },
    {
     "name": "stderr",
     "output_type": "stream",
     "text": [
      " 44%|████▍     | 4/9 [00:00<00:00, 38.19it/s]"
     ]
    },
    {
     "name": "stdout",
     "output_type": "stream",
     "text": [
      "Step: 2, Train Loss Now: 0.6610958278179169\n",
      "Step: 3, Train Loss Now: 0.6223488251368204\n",
      "Step: 4, Train Loss Now: 0.6197768598794937\n",
      "Step: 5, Train Loss Now: 0.6400111556053162\n"
     ]
    },
    {
     "name": "stderr",
     "output_type": "stream",
     "text": [
      " 89%|████████▉ | 8/9 [00:00<00:00, 35.82it/s]"
     ]
    },
    {
     "name": "stdout",
     "output_type": "stream",
     "text": [
      "Step: 6, Train Loss Now: 0.6699206034342448\n",
      "Step: 7, Train Loss Now: 0.6753062691007342\n",
      "Step: 8, Train Loss Now: 0.663263626396656\n",
      "Step: 9, Train Loss Now: 0.6775461898909675\n"
     ]
    },
    {
     "name": "stderr",
     "output_type": "stream",
     "text": [
      "100%|██████████| 9/9 [00:00<00:00, 34.97it/s]\n",
      "100%|██████████| 3/3 [00:00<00:00, 98.84it/s]\n",
      "  0%|          | 0/9 [00:00<?, ?it/s]"
     ]
    },
    {
     "name": "stdout",
     "output_type": "stream",
     "text": [
      "Step: 1, Train Loss Now: 0.7615026831626892\n",
      "Step: 2, Train Loss Now: 0.6439080536365509\n",
      "Step: 3, Train Loss Now: 0.6677712599436442\n"
     ]
    },
    {
     "name": "stderr",
     "output_type": "stream",
     "text": [
      " 44%|████▍     | 4/9 [00:00<00:00, 35.19it/s]"
     ]
    },
    {
     "name": "stdout",
     "output_type": "stream",
     "text": [
      "Step: 4, Train Loss Now: 0.7065170854330063\n"
     ]
    },
    {
     "name": "stderr",
     "output_type": "stream",
     "text": [
      " 89%|████████▉ | 8/9 [00:00<00:00, 33.61it/s]"
     ]
    },
    {
     "name": "stdout",
     "output_type": "stream",
     "text": [
      "Step: 5, Train Loss Now: 0.6949389457702637\n",
      "Step: 6, Train Loss Now: 0.6762620309988657\n",
      "Step: 7, Train Loss Now: 0.6682174801826477\n",
      "Step: 8, Train Loss Now: 0.7190738543868065\n"
     ]
    },
    {
     "name": "stderr",
     "output_type": "stream",
     "text": [
      "100%|██████████| 9/9 [00:00<00:00, 33.36it/s]\n"
     ]
    },
    {
     "name": "stdout",
     "output_type": "stream",
     "text": [
      "Step: 9, Train Loss Now: 0.6926306883494059\n"
     ]
    },
    {
     "name": "stderr",
     "output_type": "stream",
     "text": [
      "100%|██████████| 3/3 [00:00<00:00, 86.33it/s]\n",
      "  0%|          | 0/9 [00:00<?, ?it/s]"
     ]
    },
    {
     "name": "stdout",
     "output_type": "stream",
     "text": [
      "Step: 1, Train Loss Now: 0.751331090927124\n"
     ]
    },
    {
     "name": "stderr",
     "output_type": "stream",
     "text": [
      " 44%|████▍     | 4/9 [00:00<00:00, 34.32it/s]"
     ]
    },
    {
     "name": "stdout",
     "output_type": "stream",
     "text": [
      "Step: 2, Train Loss Now: 0.6832124590873718\n",
      "Step: 3, Train Loss Now: 0.6550501982371012\n",
      "Step: 4, Train Loss Now: 0.6353010982275009\n",
      "Step: 5, Train Loss Now: 0.6704044461250305\n",
      "Step: 6, Train Loss Now: 0.6772074699401855\n"
     ]
    },
    {
     "name": "stderr",
     "output_type": "stream",
     "text": [
      "100%|██████████| 9/9 [00:00<00:00, 27.57it/s]\n"
     ]
    },
    {
     "name": "stdout",
     "output_type": "stream",
     "text": [
      "Step: 7, Train Loss Now: 0.6743693096297128\n",
      "Step: 8, Train Loss Now: 0.6663434505462646\n",
      "Step: 9, Train Loss Now: 0.6740290323893229\n"
     ]
    },
    {
     "name": "stderr",
     "output_type": "stream",
     "text": [
      "100%|██████████| 3/3 [00:00<00:00, 92.24it/s]\n",
      "  0%|          | 0/9 [00:00<?, ?it/s]"
     ]
    },
    {
     "name": "stdout",
     "output_type": "stream",
     "text": [
      "Step: 1, Train Loss Now: 0.8292086124420166\n",
      "Step: 2, Train Loss Now: 0.6903573572635651\n",
      "Step: 3, Train Loss Now: 0.6758081714312235\n"
     ]
    },
    {
     "name": "stderr",
     "output_type": "stream",
     "text": [
      " 89%|████████▉ | 8/9 [00:00<00:00, 35.56it/s]"
     ]
    },
    {
     "name": "stdout",
     "output_type": "stream",
     "text": [
      "Step: 4, Train Loss Now: 0.6528651118278503\n",
      "Step: 5, Train Loss Now: 0.6586550354957581\n",
      "Step: 6, Train Loss Now: 0.6463791728019714\n",
      "Step: 7, Train Loss Now: 0.6717491064752851\n",
      "Step: 8, Train Loss Now: 0.6974293515086174\n"
     ]
    },
    {
     "name": "stderr",
     "output_type": "stream",
     "text": [
      "100%|██████████| 9/9 [00:00<00:00, 34.85it/s]\n"
     ]
    },
    {
     "name": "stdout",
     "output_type": "stream",
     "text": [
      "Step: 9, Train Loss Now: 0.6835183633698357\n"
     ]
    },
    {
     "name": "stderr",
     "output_type": "stream",
     "text": [
      "100%|██████████| 3/3 [00:00<00:00, 71.91it/s]\n",
      " 44%|████▍     | 4/9 [00:00<00:00, 36.35it/s]"
     ]
    },
    {
     "name": "stdout",
     "output_type": "stream",
     "text": [
      "Step: 1, Train Loss Now: 0.6674860119819641\n",
      "Step: 2, Train Loss Now: 0.6008661985397339\n",
      "Step: 3, Train Loss Now: 0.6473123033841451\n",
      "Step: 4, Train Loss Now: 0.6389109641313553\n",
      "Step: 5, Train Loss Now: 0.6178492784500123\n",
      "Step: 6, Train Loss Now: 0.6478574375311533\n",
      "Step: 7, Train Loss Now: 0.6917692763464791\n"
     ]
    },
    {
     "name": "stderr",
     "output_type": "stream",
     "text": [
      "100%|██████████| 9/9 [00:00<00:00, 33.24it/s]\n"
     ]
    },
    {
     "name": "stdout",
     "output_type": "stream",
     "text": [
      "Step: 8, Train Loss Now: 0.6637913063168526\n",
      "Step: 9, Train Loss Now: 0.6777661773893568\n"
     ]
    },
    {
     "name": "stderr",
     "output_type": "stream",
     "text": [
      "100%|██████████| 3/3 [00:00<00:00, 97.80it/s]\n",
      "  0%|          | 0/9 [00:00<?, ?it/s]"
     ]
    },
    {
     "name": "stdout",
     "output_type": "stream",
     "text": [
      "Step: 1, Train Loss Now: 0.701318621635437\n",
      "Step: 2, Train Loss Now: 0.63559889793396\n"
     ]
    },
    {
     "name": "stderr",
     "output_type": "stream",
     "text": [
      " 44%|████▍     | 4/9 [00:00<00:00, 34.66it/s]"
     ]
    },
    {
     "name": "stdout",
     "output_type": "stream",
     "text": [
      "Step: 3, Train Loss Now: 0.5748253762722015\n",
      "Step: 4, Train Loss Now: 0.6110423281788826\n"
     ]
    },
    {
     "name": "stderr",
     "output_type": "stream",
     "text": [
      " 89%|████████▉ | 8/9 [00:00<00:00, 34.37it/s]"
     ]
    },
    {
     "name": "stdout",
     "output_type": "stream",
     "text": [
      "Step: 5, Train Loss Now: 0.6741764962673187\n",
      "Step: 6, Train Loss Now: 0.6838304251432419\n",
      "Step: 7, Train Loss Now: 0.6886584631034306\n",
      "Step: 8, Train Loss Now: 0.6713064201176167\n"
     ]
    },
    {
     "name": "stderr",
     "output_type": "stream",
     "text": [
      "100%|██████████| 9/9 [00:00<00:00, 34.45it/s]"
     ]
    },
    {
     "name": "stdout",
     "output_type": "stream",
     "text": [
      "Step: 9, Train Loss Now: 0.6804992655913035\n"
     ]
    },
    {
     "name": "stderr",
     "output_type": "stream",
     "text": [
      "\n",
      "100%|██████████| 3/3 [00:00<00:00, 90.71it/s]\n",
      "  0%|          | 0/9 [00:00<?, ?it/s]"
     ]
    },
    {
     "name": "stdout",
     "output_type": "stream",
     "text": [
      "Step: 1, Train Loss Now: 0.5804203748703003\n"
     ]
    },
    {
     "name": "stderr",
     "output_type": "stream",
     "text": [
      " 44%|████▍     | 4/9 [00:00<00:00, 31.63it/s]"
     ]
    },
    {
     "name": "stdout",
     "output_type": "stream",
     "text": [
      "Step: 2, Train Loss Now: 0.5864396691322327\n",
      "Step: 3, Train Loss Now: 0.6134975353876749\n",
      "Step: 4, Train Loss Now: 0.5933607965707779\n",
      "Step: 5, Train Loss Now: 0.6065609693527222\n",
      "Step: 6, Train Loss Now: 0.6301596760749817\n",
      "Step: 7, Train Loss Now: 0.6738142711775643\n"
     ]
    },
    {
     "name": "stderr",
     "output_type": "stream",
     "text": [
      "100%|██████████| 9/9 [00:00<00:00, 33.38it/s]\n"
     ]
    },
    {
     "name": "stdout",
     "output_type": "stream",
     "text": [
      "Step: 8, Train Loss Now: 0.6732187494635582\n",
      "Step: 9, Train Loss Now: 0.6839961210886637\n"
     ]
    },
    {
     "name": "stderr",
     "output_type": "stream",
     "text": [
      "100%|██████████| 3/3 [00:00<00:00, 68.01it/s]\n",
      "  0%|          | 0/9 [00:00<?, ?it/s]"
     ]
    },
    {
     "name": "stdout",
     "output_type": "stream",
     "text": [
      "Step: 1, Train Loss Now: 0.6013274788856506\n",
      "Step: 2, Train Loss Now: 0.7292147576808929\n"
     ]
    },
    {
     "name": "stderr",
     "output_type": "stream",
     "text": [
      " 44%|████▍     | 4/9 [00:00<00:00, 31.20it/s]"
     ]
    },
    {
     "name": "stdout",
     "output_type": "stream",
     "text": [
      "Step: 3, Train Loss Now: 0.6922877629597982\n",
      "Step: 4, Train Loss Now: 0.6660756319761276\n",
      "Step: 5, Train Loss Now: 0.6650799751281739\n",
      "Step: 6, Train Loss Now: 0.6895699600378672\n",
      "Step: 7, Train Loss Now: 0.7093481591769627\n"
     ]
    },
    {
     "name": "stderr",
     "output_type": "stream",
     "text": [
      "100%|██████████| 9/9 [00:00<00:00, 27.92it/s]\n"
     ]
    },
    {
     "name": "stdout",
     "output_type": "stream",
     "text": [
      "Step: 8, Train Loss Now: 0.669296707957983\n",
      "Step: 9, Train Loss Now: 0.6567709214157529\n"
     ]
    },
    {
     "name": "stderr",
     "output_type": "stream",
     "text": [
      "100%|██████████| 3/3 [00:00<00:00, 85.68it/s]\n",
      " 44%|████▍     | 4/9 [00:00<00:00, 36.78it/s]"
     ]
    },
    {
     "name": "stdout",
     "output_type": "stream",
     "text": [
      "Step: 1, Train Loss Now: 0.5864728093147278\n",
      "Step: 2, Train Loss Now: 0.6151341199874878\n",
      "Step: 3, Train Loss Now: 0.6335156758626302\n",
      "Step: 4, Train Loss Now: 0.5939865112304688\n",
      "Step: 5, Train Loss Now: 0.6403581142425537\n",
      "Step: 6, Train Loss Now: 0.6420087416966757\n",
      "Step: 7, Train Loss Now: 0.6515906708581107\n"
     ]
    },
    {
     "name": "stderr",
     "output_type": "stream",
     "text": [
      "100%|██████████| 9/9 [00:00<00:00, 34.25it/s]\n"
     ]
    },
    {
     "name": "stdout",
     "output_type": "stream",
     "text": [
      "Step: 8, Train Loss Now: 0.6576659381389618\n",
      "Step: 9, Train Loss Now: 0.6867697503831651\n"
     ]
    },
    {
     "name": "stderr",
     "output_type": "stream",
     "text": [
      "100%|██████████| 3/3 [00:00<00:00, 78.39it/s]\n",
      "  0%|          | 0/9 [00:00<?, ?it/s]"
     ]
    },
    {
     "name": "stdout",
     "output_type": "stream",
     "text": [
      "Step: 1, Train Loss Now: 0.618742823600769"
     ]
    },
    {
     "name": "stderr",
     "output_type": "stream",
     "text": [
      " 44%|████▍     | 4/9 [00:00<00:00, 34.24it/s]"
     ]
    },
    {
     "name": "stdout",
     "output_type": "stream",
     "text": [
      "\n",
      "Step: 2, Train Loss Now: 0.6757206618785858\n",
      "Step: 3, Train Loss Now: 0.7185745437939962\n",
      "Step: 4, Train Loss Now: 0.7197493463754654\n",
      "Step: 5, Train Loss Now: 0.7021970748901367\n",
      "Step: 6, Train Loss Now: 0.6682847887277603\n",
      "Step: 7, Train Loss Now: 0.6376433074474335\n"
     ]
    },
    {
     "name": "stderr",
     "output_type": "stream",
     "text": [
      "100%|██████████| 9/9 [00:00<00:00, 31.83it/s]\n"
     ]
    },
    {
     "name": "stdout",
     "output_type": "stream",
     "text": [
      "Step: 8, Train Loss Now: 0.6519745625555515\n",
      "Step: 9, Train Loss Now: 0.6504909694194794\n"
     ]
    },
    {
     "name": "stderr",
     "output_type": "stream",
     "text": [
      "100%|██████████| 3/3 [00:00<00:00, 87.75it/s]\n",
      "  0%|          | 0/9 [00:00<?, ?it/s]"
     ]
    },
    {
     "name": "stdout",
     "output_type": "stream",
     "text": [
      "Step: 1, Train Loss Now: 0.8215724229812622\n"
     ]
    },
    {
     "name": "stderr",
     "output_type": "stream",
     "text": [
      " 33%|███▎      | 3/9 [00:00<00:00, 29.99it/s]"
     ]
    },
    {
     "name": "stdout",
     "output_type": "stream",
     "text": [
      "Step: 2, Train Loss Now: 0.6894974112510681\n",
      "Step: 3, Train Loss Now: 0.7836930553118387\n",
      "Step: 4, Train Loss Now: 0.7085560411214828\n",
      "Step: 5, Train Loss Now: 0.6658967316150666\n",
      "Step: 6, Train Loss Now: 0.6525296022494634\n"
     ]
    },
    {
     "name": "stderr",
     "output_type": "stream",
     "text": [
      " 78%|███████▊  | 7/9 [00:00<00:00, 32.80it/s]"
     ]
    },
    {
     "name": "stdout",
     "output_type": "stream",
     "text": [
      "Step: 7, Train Loss Now: 0.6902157536574772\n",
      "Step: 8, Train Loss Now: 0.6798160262405872\n"
     ]
    },
    {
     "name": "stderr",
     "output_type": "stream",
     "text": [
      "100%|██████████| 9/9 [00:00<00:00, 31.86it/s]\n"
     ]
    },
    {
     "name": "stdout",
     "output_type": "stream",
     "text": [
      "Step: 9, Train Loss Now: 0.6921075483163198\n"
     ]
    },
    {
     "name": "stderr",
     "output_type": "stream",
     "text": [
      "100%|██████████| 3/3 [00:00<00:00, 77.52it/s]\n",
      "  0%|          | 0/9 [00:00<?, ?it/s]"
     ]
    },
    {
     "name": "stdout",
     "output_type": "stream",
     "text": [
      "Step: 1, Train Loss Now: 0.7585892677307129\n",
      "Step: 2, Train Loss Now: 0.7178227007389069\n"
     ]
    },
    {
     "name": "stderr",
     "output_type": "stream",
     "text": [
      " 33%|███▎      | 3/9 [00:00<00:00, 29.71it/s]"
     ]
    },
    {
     "name": "stdout",
     "output_type": "stream",
     "text": [
      "Step: 3, Train Loss Now: 0.746444821357727\n",
      "Step: 4, Train Loss Now: 0.6908555626869202\n",
      "Step: 5, Train Loss Now: 0.6766655325889588\n"
     ]
    },
    {
     "name": "stderr",
     "output_type": "stream",
     "text": [
      " 78%|███████▊  | 7/9 [00:00<00:00, 30.88it/s]"
     ]
    },
    {
     "name": "stdout",
     "output_type": "stream",
     "text": [
      "Step: 6, Train Loss Now: 0.6887060801188151\n",
      "Step: 7, Train Loss Now: 0.6803226385797773\n",
      "Step: 8, Train Loss Now: 0.6668492332100868\n"
     ]
    },
    {
     "name": "stderr",
     "output_type": "stream",
     "text": [
      "100%|██████████| 9/9 [00:00<00:00, 30.57it/s]\n"
     ]
    },
    {
     "name": "stdout",
     "output_type": "stream",
     "text": [
      "Step: 9, Train Loss Now: 0.6480462981594933\n"
     ]
    },
    {
     "name": "stderr",
     "output_type": "stream",
     "text": [
      "100%|██████████| 3/3 [00:00<00:00, 38.25it/s]\n",
      " 33%|███▎      | 3/9 [00:00<00:00, 27.29it/s]"
     ]
    },
    {
     "name": "stdout",
     "output_type": "stream",
     "text": [
      "Step: 1, Train Loss Now: 0.5462032556533813\n",
      "Step: 2, Train Loss Now: 0.5010107904672623\n",
      "Step: 3, Train Loss Now: 0.5942788223425547\n",
      "Step: 4, Train Loss Now: 0.5919114872813225\n",
      "Step: 5, Train Loss Now: 0.6453524887561798\n",
      "Step: 6, Train Loss Now: 0.6758242597182592\n"
     ]
    },
    {
     "name": "stderr",
     "output_type": "stream",
     "text": [
      "100%|██████████| 9/9 [00:00<00:00, 31.18it/s]\n"
     ]
    },
    {
     "name": "stdout",
     "output_type": "stream",
     "text": [
      "Step: 7, Train Loss Now: 0.6822921420846667\n",
      "Step: 8, Train Loss Now: 0.6764272712171078\n",
      "Step: 9, Train Loss Now: 0.6562565863132477\n"
     ]
    },
    {
     "name": "stderr",
     "output_type": "stream",
     "text": [
      "100%|██████████| 3/3 [00:00<00:00, 88.66it/s]\n",
      "  0%|          | 0/9 [00:00<?, ?it/s]"
     ]
    },
    {
     "name": "stdout",
     "output_type": "stream",
     "text": [
      "Step: 1, Train Loss Now: 0.8701170682907104\n",
      "Step: 2, Train Loss Now: 0.76215660572052\n",
      "Step: 3, Train Loss Now: 0.7057672739028931\n"
     ]
    },
    {
     "name": "stderr",
     "output_type": "stream",
     "text": [
      " 44%|████▍     | 4/9 [00:00<00:00, 33.61it/s]"
     ]
    },
    {
     "name": "stdout",
     "output_type": "stream",
     "text": [
      "Step: 4, Train Loss Now: 0.696795791387558\n",
      "Step: 5, Train Loss Now: 0.6824481368064881\n",
      "Step: 6, Train Loss Now: 0.6411799242099127\n",
      "Step: 7, Train Loss Now: 0.6652458097253527\n"
     ]
    },
    {
     "name": "stderr",
     "output_type": "stream",
     "text": [
      "100%|██████████| 9/9 [00:00<00:00, 31.97it/s]\n"
     ]
    },
    {
     "name": "stdout",
     "output_type": "stream",
     "text": [
      "Step: 8, Train Loss Now: 0.6810894124209881\n",
      "Step: 9, Train Loss Now: 0.676627453830507\n"
     ]
    },
    {
     "name": "stderr",
     "output_type": "stream",
     "text": [
      "100%|██████████| 3/3 [00:00<00:00, 88.42it/s]\n",
      " 44%|████▍     | 4/9 [00:00<00:00, 36.38it/s]"
     ]
    },
    {
     "name": "stdout",
     "output_type": "stream",
     "text": [
      "Step: 1, Train Loss Now: 0.9471843242645264\n",
      "Step: 2, Train Loss Now: 0.8156895935535431\n",
      "Step: 3, Train Loss Now: 0.7997588117917379\n",
      "Step: 4, Train Loss Now: 0.7379214316606522\n"
     ]
    },
    {
     "name": "stderr",
     "output_type": "stream",
     "text": [
      " 89%|████████▉ | 8/9 [00:00<00:00, 35.77it/s]"
     ]
    },
    {
     "name": "stdout",
     "output_type": "stream",
     "text": [
      "Step: 5, Train Loss Now: 0.6831405580043792\n",
      "Step: 6, Train Loss Now: 0.6639169206221899\n",
      "Step: 7, Train Loss Now: 0.6843576218400683\n",
      "Step: 8, Train Loss Now: 0.6887278072535992\n"
     ]
    },
    {
     "name": "stderr",
     "output_type": "stream",
     "text": [
      "100%|██████████| 9/9 [00:00<00:00, 33.79it/s]\n"
     ]
    },
    {
     "name": "stdout",
     "output_type": "stream",
     "text": [
      "Step: 9, Train Loss Now: 0.6764118373394012\n"
     ]
    },
    {
     "name": "stderr",
     "output_type": "stream",
     "text": [
      "100%|██████████| 3/3 [00:00<00:00, 97.55it/s]\n",
      " 33%|███▎      | 3/9 [00:00<00:00, 28.63it/s]"
     ]
    },
    {
     "name": "stdout",
     "output_type": "stream",
     "text": [
      "Step: 1, Train Loss Now: 0.8115720748901367\n",
      "Step: 2, Train Loss Now: 0.7199693918228149\n",
      "Step: 3, Train Loss Now: 0.6577921708424886\n",
      "Step: 4, Train Loss Now: 0.6470563113689423\n"
     ]
    },
    {
     "name": "stderr",
     "output_type": "stream",
     "text": [
      " 78%|███████▊  | 7/9 [00:00<00:00, 30.99it/s]"
     ]
    },
    {
     "name": "stdout",
     "output_type": "stream",
     "text": [
      "Step: 5, Train Loss Now: 0.6068613827228546\n",
      "Step: 6, Train Loss Now: 0.5868415335814158\n",
      "Step: 7, Train Loss Now: 0.6211011324610028\n"
     ]
    },
    {
     "name": "stderr",
     "output_type": "stream",
     "text": [
      "100%|██████████| 9/9 [00:00<00:00, 30.81it/s]\n"
     ]
    },
    {
     "name": "stdout",
     "output_type": "stream",
     "text": [
      "Step: 8, Train Loss Now: 0.6201483309268951\n",
      "Step: 9, Train Loss Now: 0.6378445161713494\n"
     ]
    },
    {
     "name": "stderr",
     "output_type": "stream",
     "text": [
      "100%|██████████| 3/3 [00:00<00:00, 39.84it/s]\n",
      "  0%|          | 0/9 [00:00<?, ?it/s]"
     ]
    },
    {
     "name": "stdout",
     "output_type": "stream",
     "text": [
      "Step: 1, Train Loss Now: 0.607475221157074\n",
      "Step: 2, Train Loss Now: 0.6224472224712372\n"
     ]
    },
    {
     "name": "stderr",
     "output_type": "stream",
     "text": [
      " 44%|████▍     | 4/9 [00:00<00:00, 33.86it/s]"
     ]
    },
    {
     "name": "stdout",
     "output_type": "stream",
     "text": [
      "Step: 3, Train Loss Now: 0.674123227596283\n",
      "Step: 4, Train Loss Now: 0.6359561085700989\n",
      "Step: 5, Train Loss Now: 0.6139821648597718\n",
      "Step: 6, Train Loss Now: 0.6049775977929434\n",
      "Step: 7, Train Loss Now: 0.6669507963316781\n"
     ]
    },
    {
     "name": "stderr",
     "output_type": "stream",
     "text": [
      "100%|██████████| 9/9 [00:00<00:00, 32.42it/s]"
     ]
    },
    {
     "name": "stdout",
     "output_type": "stream",
     "text": [
      "Step: 8, Train Loss Now: 0.6436705812811852\n",
      "Step: 9, Train Loss Now: 0.6510811183187697\n"
     ]
    },
    {
     "name": "stderr",
     "output_type": "stream",
     "text": [
      "\n",
      "100%|██████████| 3/3 [00:00<00:00, 81.69it/s]\n",
      " 44%|████▍     | 4/9 [00:00<00:00, 33.35it/s]"
     ]
    },
    {
     "name": "stdout",
     "output_type": "stream",
     "text": [
      "Step: 1, Train Loss Now: 0.7211056351661682\n",
      "Step: 2, Train Loss Now: 0.7029531896114349\n",
      "Step: 3, Train Loss Now: 0.6914519468943278\n",
      "Step: 4, Train Loss Now: 0.6983269155025482\n",
      "Step: 5, Train Loss Now: 0.6660405397415161\n",
      "Step: 6, Train Loss Now: 0.6570471624533335\n",
      "Step: 7, Train Loss Now: 0.647773095539638\n"
     ]
    },
    {
     "name": "stderr",
     "output_type": "stream",
     "text": [
      "100%|██████████| 9/9 [00:00<00:00, 33.20it/s]\n"
     ]
    },
    {
     "name": "stdout",
     "output_type": "stream",
     "text": [
      "Step: 8, Train Loss Now: 0.6861165016889572\n",
      "Step: 9, Train Loss Now: 0.67527750465605\n"
     ]
    },
    {
     "name": "stderr",
     "output_type": "stream",
     "text": [
      "100%|██████████| 3/3 [00:00<00:00, 68.67it/s]\n",
      "  0%|          | 0/9 [00:00<?, ?it/s]"
     ]
    },
    {
     "name": "stdout",
     "output_type": "stream",
     "text": [
      "Step: 1, Train Loss Now: 0.5043255090713501\n"
     ]
    },
    {
     "name": "stderr",
     "output_type": "stream",
     "text": [
      " 33%|███▎      | 3/9 [00:00<00:00, 28.51it/s]"
     ]
    },
    {
     "name": "stdout",
     "output_type": "stream",
     "text": [
      "Step: 2, Train Loss Now: 0.5905789732933044\n",
      "Step: 3, Train Loss Now: 0.5438737571239471\n",
      "Step: 4, Train Loss Now: 0.5841633751988411\n",
      "Step: 5, Train Loss Now: 0.6303880035877227\n",
      "Step: 6, Train Loss Now: 0.6427406519651413\n"
     ]
    },
    {
     "name": "stderr",
     "output_type": "stream",
     "text": [
      " 78%|███████▊  | 7/9 [00:00<00:00, 30.49it/s]"
     ]
    },
    {
     "name": "stdout",
     "output_type": "stream",
     "text": [
      "Step: 7, Train Loss Now: 0.646966563803809\n"
     ]
    },
    {
     "name": "stderr",
     "output_type": "stream",
     "text": [
      "100%|██████████| 9/9 [00:00<00:00, 30.19it/s]\n"
     ]
    },
    {
     "name": "stdout",
     "output_type": "stream",
     "text": [
      "Step: 8, Train Loss Now: 0.6475143171846867\n",
      "Step: 9, Train Loss Now: 0.6280775235758888\n"
     ]
    },
    {
     "name": "stderr",
     "output_type": "stream",
     "text": [
      "100%|██████████| 3/3 [00:00<00:00, 79.62it/s]\n",
      "  0%|          | 0/9 [00:00<?, ?it/s]"
     ]
    },
    {
     "name": "stdout",
     "output_type": "stream",
     "text": [
      "Step: 1, Train Loss Now: 0.6583714485168457\n",
      "Step: 2, Train Loss Now: 0.6204271614551544\n",
      "Step: 3, Train Loss Now: 0.6262909571329752\n"
     ]
    },
    {
     "name": "stderr",
     "output_type": "stream",
     "text": [
      " 44%|████▍     | 4/9 [00:00<00:00, 33.69it/s]"
     ]
    },
    {
     "name": "stdout",
     "output_type": "stream",
     "text": [
      "Step: 4, Train Loss Now: 0.6398141235113144\n",
      "Step: 5, Train Loss Now: 0.6612215995788574\n",
      "Step: 6, Train Loss Now: 0.6836008230845133\n"
     ]
    },
    {
     "name": "stderr",
     "output_type": "stream",
     "text": [
      "100%|██████████| 9/9 [00:00<00:00, 31.33it/s]\n"
     ]
    },
    {
     "name": "stdout",
     "output_type": "stream",
     "text": [
      "Step: 7, Train Loss Now: 0.6803193603243146\n",
      "Step: 8, Train Loss Now: 0.6622825935482979\n",
      "Step: 9, Train Loss Now: 0.6614783340030246\n"
     ]
    },
    {
     "name": "stderr",
     "output_type": "stream",
     "text": [
      "100%|██████████| 3/3 [00:00<00:00, 46.52it/s]\n",
      "  0%|          | 0/9 [00:00<?, ?it/s]"
     ]
    },
    {
     "name": "stdout",
     "output_type": "stream",
     "text": [
      "Step: 1, Train Loss Now: 0.5572547316551208\n"
     ]
    },
    {
     "name": "stderr",
     "output_type": "stream",
     "text": [
      " 78%|███████▊  | 7/9 [00:00<00:00, 30.46it/s]"
     ]
    },
    {
     "name": "stdout",
     "output_type": "stream",
     "text": [
      "Step: 2, Train Loss Now: 0.5589689910411835\n",
      "Step: 3, Train Loss Now: 0.6620613733927408\n",
      "Step: 4, Train Loss Now: 0.6030655279755592\n",
      "Step: 5, Train Loss Now: 0.5936485469341278\n",
      "Step: 6, Train Loss Now: 0.6354745874802271\n",
      "Step: 7, Train Loss Now: 0.6171307521206992\n",
      "Step: 8, Train Loss Now: 0.643908616155386\n"
     ]
    },
    {
     "name": "stderr",
     "output_type": "stream",
     "text": [
      "100%|██████████| 9/9 [00:00<00:00, 31.07it/s]\n"
     ]
    },
    {
     "name": "stdout",
     "output_type": "stream",
     "text": [
      "Step: 9, Train Loss Now: 0.6472478873199887\n"
     ]
    },
    {
     "name": "stderr",
     "output_type": "stream",
     "text": [
      "100%|██████████| 3/3 [00:00<00:00, 73.46it/s]\n",
      " 44%|████▍     | 4/9 [00:00<00:00, 33.35it/s]"
     ]
    },
    {
     "name": "stdout",
     "output_type": "stream",
     "text": [
      "Step: 1, Train Loss Now: 0.7293901443481445\n",
      "Step: 2, Train Loss Now: 0.5904744118452072\n",
      "Step: 3, Train Loss Now: 0.5999029179414114\n",
      "Step: 4, Train Loss Now: 0.6151795908808708\n",
      "Step: 5, Train Loss Now: 0.6092651903629303\n",
      "Step: 6, Train Loss Now: 0.5699171324570974\n"
     ]
    },
    {
     "name": "stderr",
     "output_type": "stream",
     "text": [
      "100%|██████████| 9/9 [00:00<00:00, 32.30it/s]\n"
     ]
    },
    {
     "name": "stdout",
     "output_type": "stream",
     "text": [
      "Step: 7, Train Loss Now: 0.599119280065809\n",
      "Step: 8, Train Loss Now: 0.6215294599533081\n",
      "Step: 9, Train Loss Now: 0.626012941201528\n"
     ]
    },
    {
     "name": "stderr",
     "output_type": "stream",
     "text": [
      "100%|██████████| 3/3 [00:00<00:00, 55.31it/s]\n",
      "  0%|          | 0/9 [00:00<?, ?it/s]"
     ]
    },
    {
     "name": "stdout",
     "output_type": "stream",
     "text": [
      "Step: 1, Train Loss Now: 0.7481227517127991\n",
      "Step: 2, Train Loss Now: 0.7574746012687683\n"
     ]
    },
    {
     "name": "stderr",
     "output_type": "stream",
     "text": [
      " 44%|████▍     | 4/9 [00:00<00:00, 34.50it/s]"
     ]
    },
    {
     "name": "stdout",
     "output_type": "stream",
     "text": [
      "Step: 3, Train Loss Now: 0.6709390779336294\n",
      "Step: 4, Train Loss Now: 0.6468799039721489\n",
      "Step: 5, Train Loss Now: 0.6109867930412293\n",
      "Step: 6, Train Loss Now: 0.6274886230627695\n"
     ]
    },
    {
     "name": "stderr",
     "output_type": "stream",
     "text": [
      "100%|██████████| 9/9 [00:00<00:00, 32.64it/s]"
     ]
    },
    {
     "name": "stdout",
     "output_type": "stream",
     "text": [
      "Step: 7, Train Loss Now: 0.6352982095309666\n",
      "Step: 8, Train Loss Now: 0.6235853955149651\n",
      "Step: 9, Train Loss Now: 0.6169657111167908\n"
     ]
    },
    {
     "name": "stderr",
     "output_type": "stream",
     "text": [
      "\n",
      "100%|██████████| 3/3 [00:00<00:00, 87.57it/s]\n",
      "  0%|          | 0/9 [00:00<?, ?it/s]"
     ]
    },
    {
     "name": "stdout",
     "output_type": "stream",
     "text": [
      "Step: 1, Train Loss Now: 0.632622480392456\n",
      "Step: 2, Train Loss Now: 0.5458419471979141\n",
      "Step: 3, Train Loss Now: 0.5855154891808828\n"
     ]
    },
    {
     "name": "stderr",
     "output_type": "stream",
     "text": [
      " 44%|████▍     | 4/9 [00:00<00:00, 32.36it/s]"
     ]
    },
    {
     "name": "stdout",
     "output_type": "stream",
     "text": [
      "Step: 4, Train Loss Now: 0.5580186396837234\n",
      "Step: 5, Train Loss Now: 0.5945196747779846\n",
      "Step: 6, Train Loss Now: 0.5988243222236633\n"
     ]
    },
    {
     "name": "stderr",
     "output_type": "stream",
     "text": [
      "100%|██████████| 9/9 [00:00<00:00, 31.49it/s]\n"
     ]
    },
    {
     "name": "stdout",
     "output_type": "stream",
     "text": [
      "Step: 7, Train Loss Now: 0.6152505023138863\n",
      "Step: 8, Train Loss Now: 0.6423732787370682\n",
      "Step: 9, Train Loss Now: 0.6528074145317078\n"
     ]
    },
    {
     "name": "stderr",
     "output_type": "stream",
     "text": [
      "100%|██████████| 3/3 [00:00<00:00, 45.01it/s]\n",
      "  0%|          | 0/9 [00:00<?, ?it/s]"
     ]
    },
    {
     "name": "stdout",
     "output_type": "stream",
     "text": [
      "Step: 1, Train Loss Now: 0.7487356662750244\n"
     ]
    },
    {
     "name": "stderr",
     "output_type": "stream",
     "text": [
      " 78%|███████▊  | 7/9 [00:00<00:00, 31.29it/s]"
     ]
    },
    {
     "name": "stdout",
     "output_type": "stream",
     "text": [
      "Step: 2, Train Loss Now: 0.8198603391647339\n",
      "Step: 3, Train Loss Now: 0.6885955433050791\n",
      "Step: 4, Train Loss Now: 0.6486859545111656\n",
      "Step: 5, Train Loss Now: 0.6533839762210846\n",
      "Step: 6, Train Loss Now: 0.6386849929889044\n",
      "Step: 7, Train Loss Now: 0.6151122535978045\n",
      "Step: 8, Train Loss Now: 0.6300341039896011\n"
     ]
    },
    {
     "name": "stderr",
     "output_type": "stream",
     "text": [
      "100%|██████████| 9/9 [00:00<00:00, 31.18it/s]\n"
     ]
    },
    {
     "name": "stdout",
     "output_type": "stream",
     "text": [
      "Step: 9, Train Loss Now: 0.6288676328129239\n"
     ]
    },
    {
     "name": "stderr",
     "output_type": "stream",
     "text": [
      "100%|██████████| 3/3 [00:00<00:00, 77.26it/s]\n",
      " 44%|████▍     | 4/9 [00:00<00:00, 34.21it/s]"
     ]
    },
    {
     "name": "stdout",
     "output_type": "stream",
     "text": [
      "Step: 1, Train Loss Now: 0.7180637121200562\n",
      "Step: 2, Train Loss Now: 0.6327926218509674\n",
      "Step: 3, Train Loss Now: 0.6723506053288778\n",
      "Step: 4, Train Loss Now: 0.6576541066169739\n",
      "Step: 5, Train Loss Now: 0.6443850636482239\n"
     ]
    },
    {
     "name": "stderr",
     "output_type": "stream",
     "text": [
      " 89%|████████▉ | 8/9 [00:00<00:00, 34.87it/s]"
     ]
    },
    {
     "name": "stdout",
     "output_type": "stream",
     "text": [
      "Step: 6, Train Loss Now: 0.6866622467835745\n",
      "Step: 7, Train Loss Now: 0.6730664457593646\n",
      "Step: 8, Train Loss Now: 0.6754874214529991\n"
     ]
    },
    {
     "name": "stderr",
     "output_type": "stream",
     "text": [
      "100%|██████████| 9/9 [00:00<00:00, 34.22it/s]\n"
     ]
    },
    {
     "name": "stdout",
     "output_type": "stream",
     "text": [
      "Step: 9, Train Loss Now: 0.6625999344719781\n"
     ]
    },
    {
     "name": "stderr",
     "output_type": "stream",
     "text": [
      "100%|██████████| 3/3 [00:00<00:00, 83.10it/s]\n",
      "  0%|          | 0/9 [00:00<?, ?it/s]"
     ]
    },
    {
     "name": "stdout",
     "output_type": "stream",
     "text": [
      "Step: 1, Train Loss Now: 0.5189040899276733\n",
      "Step: 2, Train Loss Now: 0.5371974110603333\n"
     ]
    },
    {
     "name": "stderr",
     "output_type": "stream",
     "text": [
      " 44%|████▍     | 4/9 [00:00<00:00, 33.09it/s]"
     ]
    },
    {
     "name": "stdout",
     "output_type": "stream",
     "text": [
      "Step: 3, Train Loss Now: 0.5297950506210327\n",
      "Step: 4, Train Loss Now: 0.5809060037136078\n",
      "Step: 5, Train Loss Now: 0.6732246398925781\n",
      "Step: 6, Train Loss Now: 0.6590872804323832\n",
      "Step: 7, Train Loss Now: 0.6505411522729057\n"
     ]
    },
    {
     "name": "stderr",
     "output_type": "stream",
     "text": [
      " 89%|████████▉ | 8/9 [00:00<00:00, 32.95it/s]"
     ]
    },
    {
     "name": "stdout",
     "output_type": "stream",
     "text": [
      "Step: 8, Train Loss Now: 0.6691469848155975\n",
      "Step: 9, Train Loss Now: 0.6432959338029226\n"
     ]
    },
    {
     "name": "stderr",
     "output_type": "stream",
     "text": [
      "100%|██████████| 9/9 [00:00<00:00, 31.67it/s]\n",
      "100%|██████████| 3/3 [00:00<00:00, 96.21it/s]\n",
      "  0%|          | 0/9 [00:00<?, ?it/s]"
     ]
    },
    {
     "name": "stdout",
     "output_type": "stream",
     "text": [
      "Step: 1, Train Loss Now: 1.0159319639205933\n",
      "Step: 2, Train Loss Now: 0.7034509778022766\n",
      "Step: 3, Train Loss Now: 0.6548545757929484\n"
     ]
    },
    {
     "name": "stderr",
     "output_type": "stream",
     "text": [
      " 33%|███▎      | 3/9 [00:00<00:00, 27.89it/s]"
     ]
    },
    {
     "name": "stdout",
     "output_type": "stream",
     "text": [
      "Step: 4, Train Loss Now: 0.6444591134786606\n",
      "Step: 5, Train Loss Now: 0.6620444774627685\n",
      "Step: 6, Train Loss Now: 0.6793963412443796\n"
     ]
    },
    {
     "name": "stderr",
     "output_type": "stream",
     "text": [
      " 78%|███████▊  | 7/9 [00:00<00:00, 30.26it/s]"
     ]
    },
    {
     "name": "stdout",
     "output_type": "stream",
     "text": [
      "Step: 7, Train Loss Now: 0.6631203634398324\n",
      "Step: 8, Train Loss Now: 0.6249910965561867\n"
     ]
    },
    {
     "name": "stderr",
     "output_type": "stream",
     "text": [
      "100%|██████████| 9/9 [00:00<00:00, 31.61it/s]\n"
     ]
    },
    {
     "name": "stdout",
     "output_type": "stream",
     "text": [
      "Step: 9, Train Loss Now: 0.6178935368855795\n"
     ]
    },
    {
     "name": "stderr",
     "output_type": "stream",
     "text": [
      "100%|██████████| 3/3 [00:00<00:00, 34.58it/s]\n",
      "  0%|          | 0/9 [00:00<?, ?it/s]"
     ]
    },
    {
     "name": "stdout",
     "output_type": "stream",
     "text": [
      "Step: 1, Train Loss Now: 0.49602392315864563\n",
      "Step: 2, Train Loss Now: 0.6232302337884903\n",
      "Step: 3, Train Loss Now: 0.5247716208299001\n"
     ]
    },
    {
     "name": "stderr",
     "output_type": "stream",
     "text": [
      " 44%|████▍     | 4/9 [00:00<00:00, 30.95it/s]"
     ]
    },
    {
     "name": "stdout",
     "output_type": "stream",
     "text": [
      "Step: 4, Train Loss Now: 0.5325029417872429\n",
      "Step: 5, Train Loss Now: 0.5909659326076507\n",
      "Step: 6, Train Loss Now: 0.6184733559687933\n",
      "Step: 7, Train Loss Now: 0.637396399463926\n"
     ]
    },
    {
     "name": "stderr",
     "output_type": "stream",
     "text": [
      " 89%|████████▉ | 8/9 [00:00<00:00, 32.72it/s]"
     ]
    },
    {
     "name": "stdout",
     "output_type": "stream",
     "text": [
      "Step: 8, Train Loss Now: 0.6331487409770489\n"
     ]
    },
    {
     "name": "stderr",
     "output_type": "stream",
     "text": [
      "100%|██████████| 9/9 [00:00<00:00, 32.54it/s]\n"
     ]
    },
    {
     "name": "stdout",
     "output_type": "stream",
     "text": [
      "Step: 9, Train Loss Now: 0.6199043823613061\n"
     ]
    },
    {
     "name": "stderr",
     "output_type": "stream",
     "text": [
      "100%|██████████| 3/3 [00:00<00:00, 84.79it/s]\n",
      " 44%|████▍     | 4/9 [00:00<00:00, 36.38it/s]"
     ]
    },
    {
     "name": "stdout",
     "output_type": "stream",
     "text": [
      "Step: 1, Train Loss Now: 0.7065480351448059\n",
      "Step: 2, Train Loss Now: 0.6628728210926056\n",
      "Step: 3, Train Loss Now: 0.5867406825224558\n",
      "Step: 4, Train Loss Now: 0.5927174463868141\n",
      "Step: 5, Train Loss Now: 0.5843762934207917\n",
      "Step: 6, Train Loss Now: 0.602488840619723\n",
      "Step: 7, Train Loss Now: 0.6276812510831016\n"
     ]
    },
    {
     "name": "stderr",
     "output_type": "stream",
     "text": [
      "100%|██████████| 9/9 [00:00<00:00, 33.20it/s]\n"
     ]
    },
    {
     "name": "stdout",
     "output_type": "stream",
     "text": [
      "Step: 8, Train Loss Now: 0.6307623274624348\n",
      "Step: 9, Train Loss Now: 0.6477532751030393\n"
     ]
    },
    {
     "name": "stderr",
     "output_type": "stream",
     "text": [
      "100%|██████████| 3/3 [00:00<00:00, 84.17it/s]\n",
      "  0%|          | 0/9 [00:00<?, ?it/s]"
     ]
    },
    {
     "name": "stdout",
     "output_type": "stream",
     "text": [
      "Step: 1, Train Loss Now: 0.6173846125602722\n"
     ]
    },
    {
     "name": "stderr",
     "output_type": "stream",
     "text": [
      " 33%|███▎      | 3/9 [00:00<00:00, 29.25it/s]"
     ]
    },
    {
     "name": "stdout",
     "output_type": "stream",
     "text": [
      "Step: 2, Train Loss Now: 0.6395423412322998\n",
      "Step: 3, Train Loss Now: 0.6019222338994344\n"
     ]
    },
    {
     "name": "stderr",
     "output_type": "stream",
     "text": [
      " 67%|██████▋   | 6/9 [00:00<00:00, 29.18it/s]"
     ]
    },
    {
     "name": "stdout",
     "output_type": "stream",
     "text": [
      "Step: 4, Train Loss Now: 0.5780320912599564\n",
      "Step: 5, Train Loss Now: 0.6193450570106507\n",
      "Step: 6, Train Loss Now: 0.6269005139668783\n",
      "Step: 7, Train Loss Now: 0.6083627087729317\n"
     ]
    },
    {
     "name": "stderr",
     "output_type": "stream",
     "text": [
      "100%|██████████| 9/9 [00:00<00:00, 31.09it/s]\n"
     ]
    },
    {
     "name": "stdout",
     "output_type": "stream",
     "text": [
      "Step: 8, Train Loss Now: 0.608072929084301\n",
      "Step: 9, Train Loss Now: 0.6273122959666781\n"
     ]
    },
    {
     "name": "stderr",
     "output_type": "stream",
     "text": [
      "100%|██████████| 3/3 [00:00<00:00, 37.87it/s]\n",
      "  0%|          | 0/9 [00:00<?, ?it/s]"
     ]
    },
    {
     "name": "stdout",
     "output_type": "stream",
     "text": [
      "Step: 1, Train Loss Now: 0.49699288606643677\n",
      "Step: 2, Train Loss Now: 0.7302905917167664\n",
      "Step: 3, Train Loss Now: 0.6642122268676758\n"
     ]
    },
    {
     "name": "stderr",
     "output_type": "stream",
     "text": [
      " 44%|████▍     | 4/9 [00:00<00:00, 36.31it/s]"
     ]
    },
    {
     "name": "stdout",
     "output_type": "stream",
     "text": [
      "Step: 4, Train Loss Now: 0.6692575365304947\n",
      "Step: 5, Train Loss Now: 0.6627719163894653\n",
      "Step: 6, Train Loss Now: 0.6573894917964935\n",
      "Step: 7, Train Loss Now: 0.656897349017007\n"
     ]
    },
    {
     "name": "stderr",
     "output_type": "stream",
     "text": [
      "100%|██████████| 9/9 [00:00<00:00, 33.71it/s]\n"
     ]
    },
    {
     "name": "stdout",
     "output_type": "stream",
     "text": [
      "Step: 8, Train Loss Now: 0.67402633279562\n",
      "Step: 9, Train Loss Now: 0.6565234727329678\n"
     ]
    },
    {
     "name": "stderr",
     "output_type": "stream",
     "text": [
      "100%|██████████| 3/3 [00:00<00:00, 85.43it/s]\n",
      " 44%|████▍     | 4/9 [00:00<00:00, 33.35it/s]"
     ]
    },
    {
     "name": "stdout",
     "output_type": "stream",
     "text": [
      "Step: 1, Train Loss Now: 0.6092471480369568\n",
      "Step: 2, Train Loss Now: 0.6761294603347778\n",
      "Step: 3, Train Loss Now: 0.589421143134435\n",
      "Step: 4, Train Loss Now: 0.6122682020068169\n"
     ]
    },
    {
     "name": "stderr",
     "output_type": "stream",
     "text": [
      " 89%|████████▉ | 8/9 [00:00<00:00, 34.56it/s]"
     ]
    },
    {
     "name": "stdout",
     "output_type": "stream",
     "text": [
      "Step: 5, Train Loss Now: 0.6250576555728913\n",
      "Step: 6, Train Loss Now: 0.6414525558551153\n",
      "Step: 7, Train Loss Now: 0.6254904823643821\n",
      "Step: 8, Train Loss Now: 0.6482668854296207\n"
     ]
    },
    {
     "name": "stderr",
     "output_type": "stream",
     "text": [
      "100%|██████████| 9/9 [00:00<00:00, 34.25it/s]\n"
     ]
    },
    {
     "name": "stdout",
     "output_type": "stream",
     "text": [
      "Step: 9, Train Loss Now: 0.6366491218407949\n"
     ]
    },
    {
     "name": "stderr",
     "output_type": "stream",
     "text": [
      "100%|██████████| 3/3 [00:00<00:00, 75.62it/s]\n",
      "  0%|          | 0/9 [00:00<?, ?it/s]"
     ]
    },
    {
     "name": "stdout",
     "output_type": "stream",
     "text": [
      "Step: 1, Train Loss Now: 0.6598764657974243\n"
     ]
    },
    {
     "name": "stderr",
     "output_type": "stream",
     "text": [
      " 44%|████▍     | 4/9 [00:00<00:00, 29.30it/s]"
     ]
    },
    {
     "name": "stdout",
     "output_type": "stream",
     "text": [
      "Step: 2, Train Loss Now: 0.6884616315364838\n",
      "Step: 3, Train Loss Now: 0.6585367123285929\n",
      "Step: 4, Train Loss Now: 0.6317756026983261\n",
      "Step: 5, Train Loss Now: 0.6089769601821899\n",
      "Step: 6, Train Loss Now: 0.5904395480950674\n"
     ]
    },
    {
     "name": "stderr",
     "output_type": "stream",
     "text": [
      " 89%|████████▉ | 8/9 [00:00<00:00, 31.61it/s]"
     ]
    },
    {
     "name": "stdout",
     "output_type": "stream",
     "text": [
      "Step: 7, Train Loss Now: 0.5914681553840637\n",
      "Step: 8, Train Loss Now: 0.5873610228300095\n"
     ]
    },
    {
     "name": "stderr",
     "output_type": "stream",
     "text": [
      "100%|██████████| 9/9 [00:00<00:00, 30.90it/s]\n"
     ]
    },
    {
     "name": "stdout",
     "output_type": "stream",
     "text": [
      "Step: 9, Train Loss Now: 0.6006999479399787\n"
     ]
    },
    {
     "name": "stderr",
     "output_type": "stream",
     "text": [
      "100%|██████████| 3/3 [00:00<00:00, 89.11it/s]\n",
      "  0%|          | 0/9 [00:00<?, ?it/s]"
     ]
    },
    {
     "name": "stdout",
     "output_type": "stream",
     "text": [
      "Step: 1, Train Loss Now: 0.5331562757492065\n",
      "Step: 2, Train Loss Now: 0.6032730340957642\n",
      "Step: 3, Train Loss Now: 0.6232527097066244\n"
     ]
    },
    {
     "name": "stderr",
     "output_type": "stream",
     "text": [
      " 44%|████▍     | 4/9 [00:00<00:00, 32.56it/s]"
     ]
    },
    {
     "name": "stdout",
     "output_type": "stream",
     "text": [
      "Step: 4, Train Loss Now: 0.6274610757827759\n",
      "Step: 5, Train Loss Now: 0.6009677529335022\n",
      "Step: 6, Train Loss Now: 0.5792917410532633\n",
      "Step: 7, Train Loss Now: 0.5963308726038251\n"
     ]
    },
    {
     "name": "stderr",
     "output_type": "stream",
     "text": [
      "100%|██████████| 9/9 [00:00<00:00, 31.33it/s]"
     ]
    },
    {
     "name": "stdout",
     "output_type": "stream",
     "text": [
      "Step: 8, Train Loss Now: 0.6007676422595978\n",
      "Step: 9, Train Loss Now: 0.6329719755384657\n"
     ]
    },
    {
     "name": "stderr",
     "output_type": "stream",
     "text": [
      "\n",
      "100%|██████████| 3/3 [00:00<00:00, 89.45it/s]\n",
      "  0%|          | 0/9 [00:00<?, ?it/s]"
     ]
    },
    {
     "name": "stdout",
     "output_type": "stream",
     "text": [
      "Step: 1, Train Loss Now: 0.5842128992080688\n",
      "Step: 2, Train Loss Now: 0.4639374017715454\n"
     ]
    },
    {
     "name": "stderr",
     "output_type": "stream",
     "text": [
      " 33%|███▎      | 3/9 [00:00<00:00, 29.83it/s]"
     ]
    },
    {
     "name": "stdout",
     "output_type": "stream",
     "text": [
      "Step: 3, Train Loss Now: 0.541539470354716\n",
      "Step: 4, Train Loss Now: 0.5343869924545288\n",
      "Step: 5, Train Loss Now: 0.5321009039878846\n"
     ]
    },
    {
     "name": "stderr",
     "output_type": "stream",
     "text": [
      " 67%|██████▋   | 6/9 [00:00<00:00, 23.90it/s]"
     ]
    },
    {
     "name": "stdout",
     "output_type": "stream",
     "text": [
      "Step: 6, Train Loss Now: 0.5608001152674357\n",
      "Step: 7, Train Loss Now: 0.5813671180180141\n",
      "Step: 8, Train Loss Now: 0.5867371708154678\n",
      "Step: 9, Train Loss Now: 0.6124285923110114\n"
     ]
    },
    {
     "name": "stderr",
     "output_type": "stream",
     "text": [
      "100%|██████████| 9/9 [00:00<00:00, 27.15it/s]\n",
      "100%|██████████| 3/3 [00:00<00:00, 60.03it/s]\n",
      "  0%|          | 0/9 [00:00<?, ?it/s]"
     ]
    },
    {
     "name": "stdout",
     "output_type": "stream",
     "text": [
      "Step: 1, Train Loss Now: 0.47782787680625916\n"
     ]
    },
    {
     "name": "stderr",
     "output_type": "stream",
     "text": [
      " 44%|████▍     | 4/9 [00:00<00:00, 30.63it/s]"
     ]
    },
    {
     "name": "stdout",
     "output_type": "stream",
     "text": [
      "Step: 2, Train Loss Now: 0.6391067653894424\n",
      "Step: 3, Train Loss Now: 0.6641442676385244\n",
      "Step: 4, Train Loss Now: 0.7238615527749062\n",
      "Step: 5, Train Loss Now: 0.7078902661800385\n",
      "Step: 6, Train Loss Now: 0.690642719467481\n",
      "Step: 7, Train Loss Now: 0.6832608538014548\n"
     ]
    },
    {
     "name": "stderr",
     "output_type": "stream",
     "text": [
      "100%|██████████| 9/9 [00:00<00:00, 32.06it/s]\n"
     ]
    },
    {
     "name": "stdout",
     "output_type": "stream",
     "text": [
      "Step: 8, Train Loss Now: 0.6533868126571178\n",
      "Step: 9, Train Loss Now: 0.6353079875310262\n"
     ]
    },
    {
     "name": "stderr",
     "output_type": "stream",
     "text": [
      "100%|██████████| 3/3 [00:00<00:00, 80.18it/s]\n",
      "  0%|          | 0/9 [00:00<?, ?it/s]"
     ]
    },
    {
     "name": "stdout",
     "output_type": "stream",
     "text": [
      "Step: 1, Train Loss Now: 0.407804012298584\n"
     ]
    },
    {
     "name": "stderr",
     "output_type": "stream",
     "text": [
      " 44%|████▍     | 4/9 [00:00<00:00, 34.83it/s]"
     ]
    },
    {
     "name": "stdout",
     "output_type": "stream",
     "text": [
      "Step: 2, Train Loss Now: 0.4743547737598419\n",
      "Step: 3, Train Loss Now: 0.5232188502947489\n",
      "Step: 4, Train Loss Now: 0.5318343490362167\n",
      "Step: 5, Train Loss Now: 0.5302996158599853\n",
      "Step: 6, Train Loss Now: 0.5828958551088969\n",
      "Step: 7, Train Loss Now: 0.5854519179889134\n"
     ]
    },
    {
     "name": "stderr",
     "output_type": "stream",
     "text": [
      " 89%|████████▉ | 8/9 [00:00<00:00, 31.37it/s]"
     ]
    },
    {
     "name": "stdout",
     "output_type": "stream",
     "text": [
      "Step: 8, Train Loss Now: 0.6172487884759903\n"
     ]
    },
    {
     "name": "stderr",
     "output_type": "stream",
     "text": [
      "100%|██████████| 9/9 [00:00<00:00, 32.28it/s]\n"
     ]
    },
    {
     "name": "stdout",
     "output_type": "stream",
     "text": [
      "Step: 9, Train Loss Now: 0.6229650047090318\n"
     ]
    },
    {
     "name": "stderr",
     "output_type": "stream",
     "text": [
      "100%|██████████| 3/3 [00:00<00:00, 81.25it/s]\n",
      " 44%|████▍     | 4/9 [00:00<00:00, 33.35it/s]"
     ]
    },
    {
     "name": "stdout",
     "output_type": "stream",
     "text": [
      "Step: 1, Train Loss Now: 0.41485270857810974\n",
      "Step: 2, Train Loss Now: 0.5036499351263046\n",
      "Step: 3, Train Loss Now: 0.5104243258635203\n",
      "Step: 4, Train Loss Now: 0.587445966899395\n",
      "Step: 5, Train Loss Now: 0.5934652268886567\n",
      "Step: 6, Train Loss Now: 0.5986871769030889\n",
      "Step: 7, Train Loss Now: 0.6070351558072227\n"
     ]
    },
    {
     "name": "stderr",
     "output_type": "stream",
     "text": [
      "100%|██████████| 9/9 [00:00<00:00, 32.47it/s]\n"
     ]
    },
    {
     "name": "stdout",
     "output_type": "stream",
     "text": [
      "Step: 8, Train Loss Now: 0.6055408157408237\n",
      "Step: 9, Train Loss Now: 0.622050447596444\n"
     ]
    },
    {
     "name": "stderr",
     "output_type": "stream",
     "text": [
      "100%|██████████| 3/3 [00:00<00:00, 105.81it/s]\n",
      "  0%|          | 0/9 [00:00<?, ?it/s]"
     ]
    },
    {
     "name": "stdout",
     "output_type": "stream",
     "text": [
      "Step: 1, Train Loss Now: 0.6429291367530823\n",
      "Step: 2, Train Loss Now: 0.674470067024231\n"
     ]
    },
    {
     "name": "stderr",
     "output_type": "stream",
     "text": [
      " 33%|███▎      | 3/9 [00:00<00:00, 21.52it/s]"
     ]
    },
    {
     "name": "stdout",
     "output_type": "stream",
     "text": [
      "Step: 3, Train Loss Now: 0.6369875272115072\n",
      "Step: 4, Train Loss Now: 0.6210784912109375\n",
      "Step: 5, Train Loss Now: 0.6165362358093261\n"
     ]
    },
    {
     "name": "stderr",
     "output_type": "stream",
     "text": [
      " 67%|██████▋   | 6/9 [00:00<00:00, 24.88it/s]"
     ]
    },
    {
     "name": "stdout",
     "output_type": "stream",
     "text": [
      "Step: 6, Train Loss Now: 0.5970799575249354\n"
     ]
    },
    {
     "name": "stderr",
     "output_type": "stream",
     "text": [
      "100%|██████████| 9/9 [00:00<00:00, 26.68it/s]"
     ]
    },
    {
     "name": "stdout",
     "output_type": "stream",
     "text": [
      "Step: 7, Train Loss Now: 0.6228603678090232\n",
      "Step: 8, Train Loss Now: 0.6411851607263088\n",
      "Step: 9, Train Loss Now: 0.5977668464183807\n"
     ]
    },
    {
     "name": "stderr",
     "output_type": "stream",
     "text": [
      "\n",
      "100%|██████████| 3/3 [00:00<00:00, 87.08it/s]\n",
      "  0%|          | 0/9 [00:00<?, ?it/s]"
     ]
    },
    {
     "name": "stdout",
     "output_type": "stream",
     "text": [
      "Step: 1, Train Loss Now: 0.7329438328742981\n",
      "Step: 2, Train Loss Now: 0.5680132657289505\n",
      "Step: 3, Train Loss Now: 0.5196437835693359\n"
     ]
    },
    {
     "name": "stderr",
     "output_type": "stream",
     "text": [
      " 44%|████▍     | 4/9 [00:00<00:00, 31.15it/s]"
     ]
    },
    {
     "name": "stdout",
     "output_type": "stream",
     "text": [
      "Step: 4, Train Loss Now: 0.5317806303501129\n",
      "Step: 5, Train Loss Now: 0.5860813140869141\n",
      "Step: 6, Train Loss Now: 0.630946546792984\n",
      "Step: 7, Train Loss Now: 0.6186243465968541\n"
     ]
    },
    {
     "name": "stderr",
     "output_type": "stream",
     "text": [
      "100%|██████████| 9/9 [00:00<00:00, 31.53it/s]\n"
     ]
    },
    {
     "name": "stdout",
     "output_type": "stream",
     "text": [
      "Step: 8, Train Loss Now: 0.6299636289477348\n",
      "Step: 9, Train Loss Now: 0.6070999470021989\n"
     ]
    },
    {
     "name": "stderr",
     "output_type": "stream",
     "text": [
      "100%|██████████| 3/3 [00:00<00:00, 89.58it/s]\n",
      " 44%|████▍     | 4/9 [00:00<00:00, 33.35it/s]"
     ]
    },
    {
     "name": "stdout",
     "output_type": "stream",
     "text": [
      "Step: 1, Train Loss Now: 0.7781539559364319\n",
      "Step: 2, Train Loss Now: 0.635001465678215\n",
      "Step: 3, Train Loss Now: 0.6373257537682852\n",
      "Step: 4, Train Loss Now: 0.6301167532801628\n",
      "Step: 5, Train Loss Now: 0.6437116801738739\n",
      "Step: 6, Train Loss Now: 0.6252882530291876\n",
      "Step: 7, Train Loss Now: 0.6421012495245252\n"
     ]
    },
    {
     "name": "stderr",
     "output_type": "stream",
     "text": [
      "100%|██████████| 9/9 [00:00<00:00, 32.51it/s]\n"
     ]
    },
    {
     "name": "stdout",
     "output_type": "stream",
     "text": [
      "Step: 8, Train Loss Now: 0.6257630996406078\n",
      "Step: 9, Train Loss Now: 0.6070665352874332\n"
     ]
    },
    {
     "name": "stderr",
     "output_type": "stream",
     "text": [
      "100%|██████████| 3/3 [00:00<00:00, 83.12it/s]\n",
      " 44%|████▍     | 4/9 [00:00<00:00, 32.60it/s]"
     ]
    },
    {
     "name": "stdout",
     "output_type": "stream",
     "text": [
      "Step: 1, Train Loss Now: 0.5565162897109985\n",
      "Step: 2, Train Loss Now: 0.4828086793422699\n",
      "Step: 3, Train Loss Now: 0.587437371412913\n",
      "Step: 4, Train Loss Now: 0.5709041059017181\n",
      "Step: 5, Train Loss Now: 0.5922836661338806\n",
      "Step: 6, Train Loss Now: 0.5829312801361084\n",
      "Step: 7, Train Loss Now: 0.5668491465704781\n"
     ]
    },
    {
     "name": "stderr",
     "output_type": "stream",
     "text": [
      "100%|██████████| 9/9 [00:00<00:00, 33.77it/s]\n"
     ]
    },
    {
     "name": "stdout",
     "output_type": "stream",
     "text": [
      "Step: 8, Train Loss Now: 0.5895589143037796\n",
      "Step: 9, Train Loss Now: 0.6061123808224996\n"
     ]
    },
    {
     "name": "stderr",
     "output_type": "stream",
     "text": [
      "100%|██████████| 3/3 [00:00<00:00, 36.20it/s]\n",
      "  0%|          | 0/9 [00:00<?, ?it/s]"
     ]
    },
    {
     "name": "stdout",
     "output_type": "stream",
     "text": [
      "Step: 1, Train Loss Now: 0.46545618772506714\n",
      "Step: 2, Train Loss Now: 0.5709120035171509\n",
      "Step: 3, Train Loss Now: 0.5416027903556824\n"
     ]
    },
    {
     "name": "stderr",
     "output_type": "stream",
     "text": [
      " 44%|████▍     | 4/9 [00:00<00:00, 34.63it/s]"
     ]
    },
    {
     "name": "stdout",
     "output_type": "stream",
     "text": [
      "Step: 4, Train Loss Now: 0.5870250761508942\n",
      "Step: 5, Train Loss Now: 0.5845328450202942\n",
      "Step: 6, Train Loss Now: 0.590589294830958\n",
      "Step: 7, Train Loss Now: 0.6467681271689278\n"
     ]
    },
    {
     "name": "stderr",
     "output_type": "stream",
     "text": [
      "100%|██████████| 9/9 [00:00<00:00, 34.38it/s]\n"
     ]
    },
    {
     "name": "stdout",
     "output_type": "stream",
     "text": [
      "Step: 8, Train Loss Now: 0.6239236295223236\n",
      "Step: 9, Train Loss Now: 0.6292630102899339\n"
     ]
    },
    {
     "name": "stderr",
     "output_type": "stream",
     "text": [
      "100%|██████████| 3/3 [00:00<00:00, 101.87it/s]\n",
      "  0%|          | 0/9 [00:00<?, ?it/s]"
     ]
    },
    {
     "name": "stdout",
     "output_type": "stream",
     "text": [
      "Step: 1, Train Loss Now: 0.5881983041763306\n",
      "Step: 2, Train Loss Now: 0.5088028311729431\n",
      "Step: 3, Train Loss Now: 0.6207507451375326\n"
     ]
    },
    {
     "name": "stderr",
     "output_type": "stream",
     "text": [
      " 44%|████▍     | 4/9 [00:00<00:00, 31.48it/s]"
     ]
    },
    {
     "name": "stdout",
     "output_type": "stream",
     "text": [
      "Step: 4, Train Loss Now: 0.600570872426033\n",
      "Step: 5, Train Loss Now: 0.5773278057575226\n",
      "Step: 6, Train Loss Now: 0.5443295041720072\n",
      "Step: 7, Train Loss Now: 0.549601137638092\n"
     ]
    },
    {
     "name": "stderr",
     "output_type": "stream",
     "text": [
      "100%|██████████| 9/9 [00:00<00:00, 33.32it/s]"
     ]
    },
    {
     "name": "stdout",
     "output_type": "stream",
     "text": [
      "Step: 8, Train Loss Now: 0.5784429237246513\n",
      "Step: 9, Train Loss Now: 0.5922297769122653\n"
     ]
    },
    {
     "name": "stderr",
     "output_type": "stream",
     "text": [
      "\n",
      "100%|██████████| 3/3 [00:00<00:00, 70.39it/s]\n",
      " 44%|████▍     | 4/9 [00:00<00:00, 33.20it/s]"
     ]
    },
    {
     "name": "stdout",
     "output_type": "stream",
     "text": [
      "Step: 1, Train Loss Now: 0.41795963048934937\n",
      "Step: 2, Train Loss Now: 0.4910014867782593\n",
      "Step: 3, Train Loss Now: 0.6128252744674683\n",
      "Step: 4, Train Loss Now: 0.636907696723938\n"
     ]
    },
    {
     "name": "stderr",
     "output_type": "stream",
     "text": [
      " 89%|████████▉ | 8/9 [00:00<00:00, 33.16it/s]"
     ]
    },
    {
     "name": "stdout",
     "output_type": "stream",
     "text": [
      "Step: 5, Train Loss Now: 0.6028425216674804\n",
      "Step: 6, Train Loss Now: 0.5983541111151377\n",
      "Step: 7, Train Loss Now: 0.6111513205936977\n",
      "Step: 8, Train Loss Now: 0.6166579201817513\n"
     ]
    },
    {
     "name": "stderr",
     "output_type": "stream",
     "text": [
      "100%|██████████| 9/9 [00:00<00:00, 34.14it/s]\n"
     ]
    },
    {
     "name": "stdout",
     "output_type": "stream",
     "text": [
      "Step: 9, Train Loss Now: 0.6259751319885254\n"
     ]
    },
    {
     "name": "stderr",
     "output_type": "stream",
     "text": [
      "100%|██████████| 3/3 [00:00<00:00, 82.89it/s]\n",
      "  0%|          | 0/9 [00:00<?, ?it/s]"
     ]
    },
    {
     "name": "stdout",
     "output_type": "stream",
     "text": [
      "Step: 1, Train Loss Now: 0.42957961559295654\n"
     ]
    },
    {
     "name": "stderr",
     "output_type": "stream",
     "text": [
      " 44%|████▍     | 4/9 [00:00<00:00, 36.38it/s]"
     ]
    },
    {
     "name": "stdout",
     "output_type": "stream",
     "text": [
      "Step: 2, Train Loss Now: 0.5366610884666443\n",
      "Step: 3, Train Loss Now: 0.5452472368876139\n",
      "Step: 4, Train Loss Now: 0.5683081448078156\n"
     ]
    },
    {
     "name": "stderr",
     "output_type": "stream",
     "text": [
      " 89%|████████▉ | 8/9 [00:00<00:00, 33.74it/s]"
     ]
    },
    {
     "name": "stdout",
     "output_type": "stream",
     "text": [
      "Step: 5, Train Loss Now: 0.601113760471344\n",
      "Step: 6, Train Loss Now: 0.5885080993175507\n",
      "Step: 7, Train Loss Now: 0.5896380969456264\n",
      "Step: 8, Train Loss Now: 0.5929514095187187\n"
     ]
    },
    {
     "name": "stderr",
     "output_type": "stream",
     "text": [
      "100%|██████████| 9/9 [00:00<00:00, 33.73it/s]\n"
     ]
    },
    {
     "name": "stdout",
     "output_type": "stream",
     "text": [
      "Step: 9, Train Loss Now: 0.6283126274744669\n"
     ]
    },
    {
     "name": "stderr",
     "output_type": "stream",
     "text": [
      "100%|██████████| 3/3 [00:00<00:00, 39.64it/s]\n",
      "  0%|          | 0/9 [00:00<?, ?it/s]"
     ]
    },
    {
     "name": "stdout",
     "output_type": "stream",
     "text": [
      "Step: 1, Train Loss Now: 0.6830231547355652\n",
      "Step: 2, Train Loss Now: 0.6179918944835663\n",
      "Step: 3, Train Loss Now: 0.7093504269917806\n"
     ]
    },
    {
     "name": "stderr",
     "output_type": "stream",
     "text": [
      " 44%|████▍     | 4/9 [00:00<00:00, 32.82it/s]"
     ]
    },
    {
     "name": "stdout",
     "output_type": "stream",
     "text": [
      "Step: 4, Train Loss Now: 0.6688927412033081\n",
      "Step: 5, Train Loss Now: 0.6345963060855866\n",
      "Step: 6, Train Loss Now: 0.6194068441788355\n",
      "Step: 7, Train Loss Now: 0.6101362236908504\n"
     ]
    },
    {
     "name": "stderr",
     "output_type": "stream",
     "text": [
      "100%|██████████| 9/9 [00:00<00:00, 31.92it/s]\n"
     ]
    },
    {
     "name": "stdout",
     "output_type": "stream",
     "text": [
      "Step: 8, Train Loss Now: 0.6166786663234234\n",
      "Step: 9, Train Loss Now: 0.6067556705739763\n"
     ]
    },
    {
     "name": "stderr",
     "output_type": "stream",
     "text": [
      "100%|██████████| 3/3 [00:00<00:00, 85.97it/s]\n",
      " 44%|████▍     | 4/9 [00:00<00:00, 32.01it/s]"
     ]
    },
    {
     "name": "stdout",
     "output_type": "stream",
     "text": [
      "Step: 1, Train Loss Now: 0.8204033970832825\n",
      "Step: 2, Train Loss Now: 0.6943234503269196\n",
      "Step: 3, Train Loss Now: 0.6562544306119283\n",
      "Step: 4, Train Loss Now: 0.620681032538414\n"
     ]
    },
    {
     "name": "stderr",
     "output_type": "stream",
     "text": [
      " 89%|████████▉ | 8/9 [00:00<00:00, 33.39it/s]"
     ]
    },
    {
     "name": "stdout",
     "output_type": "stream",
     "text": [
      "Step: 5, Train Loss Now: 0.6338553071022034\n",
      "Step: 6, Train Loss Now: 0.6180224319299062\n",
      "Step: 7, Train Loss Now: 0.5864589299474444\n",
      "Step: 8, Train Loss Now: 0.5974729359149933\n"
     ]
    },
    {
     "name": "stderr",
     "output_type": "stream",
     "text": [
      "100%|██████████| 9/9 [00:00<00:00, 33.87it/s]\n"
     ]
    },
    {
     "name": "stdout",
     "output_type": "stream",
     "text": [
      "Step: 9, Train Loss Now: 0.6101506882243686\n"
     ]
    },
    {
     "name": "stderr",
     "output_type": "stream",
     "text": [
      "100%|██████████| 3/3 [00:00<00:00, 95.66it/s]\n",
      "  0%|          | 0/9 [00:00<?, ?it/s]"
     ]
    },
    {
     "name": "stdout",
     "output_type": "stream",
     "text": [
      "Step: 1, Train Loss Now: 0.4998210072517395\n"
     ]
    },
    {
     "name": "stderr",
     "output_type": "stream",
     "text": [
      " 44%|████▍     | 4/9 [00:00<00:00, 34.83it/s]"
     ]
    },
    {
     "name": "stdout",
     "output_type": "stream",
     "text": [
      "Step: 2, Train Loss Now: 0.4998934268951416\n",
      "Step: 3, Train Loss Now: 0.5314236879348755\n",
      "Step: 4, Train Loss Now: 0.5822802633047104\n",
      "Step: 5, Train Loss Now: 0.6003305673599243\n",
      "Step: 6, Train Loss Now: 0.5810154378414154\n",
      "Step: 7, Train Loss Now: 0.5941721286092486\n"
     ]
    },
    {
     "name": "stderr",
     "output_type": "stream",
     "text": [
      "100%|██████████| 9/9 [00:00<00:00, 33.68it/s]"
     ]
    },
    {
     "name": "stdout",
     "output_type": "stream",
     "text": [
      "Step: 8, Train Loss Now: 0.5721168778836727\n",
      "Step: 9, Train Loss Now: 0.589536319176356\n"
     ]
    },
    {
     "name": "stderr",
     "output_type": "stream",
     "text": [
      "\n",
      "100%|██████████| 3/3 [00:00<00:00, 44.47it/s]\n",
      "  0%|          | 0/9 [00:00<?, ?it/s]"
     ]
    },
    {
     "name": "stdout",
     "output_type": "stream",
     "text": [
      "Step: 1, Train Loss Now: 0.6092708110809326\n",
      "Step: 2, Train Loss Now: 0.6467700898647308\n",
      "Step: 3, Train Loss Now: 0.5747304459412893\n"
     ]
    },
    {
     "name": "stderr",
     "output_type": "stream",
     "text": [
      " 89%|████████▉ | 8/9 [00:00<00:00, 32.74it/s]"
     ]
    },
    {
     "name": "stdout",
     "output_type": "stream",
     "text": [
      "Step: 4, Train Loss Now: 0.5849827900528908\n",
      "Step: 5, Train Loss Now: 0.5879479467868804\n",
      "Step: 6, Train Loss Now: 0.6018673231204351\n",
      "Step: 7, Train Loss Now: 0.5829654463699886\n",
      "Step: 8, Train Loss Now: 0.6028042919933796\n",
      "Step: 9, Train Loss Now: 0.5992726650502946\n"
     ]
    },
    {
     "name": "stderr",
     "output_type": "stream",
     "text": [
      "100%|██████████| 9/9 [00:00<00:00, 32.03it/s]\n",
      "100%|██████████| 3/3 [00:00<00:00, 78.50it/s]\n",
      " 44%|████▍     | 4/9 [00:00<00:00, 33.76it/s]"
     ]
    },
    {
     "name": "stdout",
     "output_type": "stream",
     "text": [
      "Step: 1, Train Loss Now: 0.5783236026763916\n",
      "Step: 2, Train Loss Now: 0.4895349144935608\n",
      "Step: 3, Train Loss Now: 0.47324923674265545\n",
      "Step: 4, Train Loss Now: 0.5176177024841309\n",
      "Step: 5, Train Loss Now: 0.5202605962753296\n",
      "Step: 6, Train Loss Now: 0.5775643885135651\n"
     ]
    },
    {
     "name": "stderr",
     "output_type": "stream",
     "text": [
      "100%|██████████| 9/9 [00:00<00:00, 33.48it/s]\n"
     ]
    },
    {
     "name": "stdout",
     "output_type": "stream",
     "text": [
      "Step: 7, Train Loss Now: 0.592150798865727\n",
      "Step: 8, Train Loss Now: 0.5970288962125778\n",
      "Step: 9, Train Loss Now: 0.5928924282391866\n"
     ]
    },
    {
     "name": "stderr",
     "output_type": "stream",
     "text": [
      "100%|██████████| 3/3 [00:00<00:00, 85.21it/s]\n",
      "  0%|          | 0/9 [00:00<?, ?it/s]"
     ]
    },
    {
     "name": "stdout",
     "output_type": "stream",
     "text": [
      "Step: 1, Train Loss Now: 0.6653714776039124\n",
      "Step: 2, Train Loss Now: 0.5840029716491699\n"
     ]
    },
    {
     "name": "stderr",
     "output_type": "stream",
     "text": [
      " 44%|████▍     | 4/9 [00:00<00:00, 35.77it/s]"
     ]
    },
    {
     "name": "stdout",
     "output_type": "stream",
     "text": [
      "Step: 3, Train Loss Now: 0.5723154544830322\n",
      "Step: 4, Train Loss Now: 0.5696204453706741\n",
      "Step: 5, Train Loss Now: 0.5526133239269256\n",
      "Step: 6, Train Loss Now: 0.5624964982271194\n",
      "Step: 7, Train Loss Now: 0.5515559187957219\n"
     ]
    },
    {
     "name": "stderr",
     "output_type": "stream",
     "text": [
      "100%|██████████| 9/9 [00:00<00:00, 33.36it/s]\n"
     ]
    },
    {
     "name": "stdout",
     "output_type": "stream",
     "text": [
      "Step: 8, Train Loss Now: 0.5880011655390263\n",
      "Step: 9, Train Loss Now: 0.5914319720533159\n"
     ]
    },
    {
     "name": "stderr",
     "output_type": "stream",
     "text": [
      "100%|██████████| 3/3 [00:00<00:00, 86.51it/s]\n",
      " 44%|████▍     | 4/9 [00:00<00:00, 34.20it/s]"
     ]
    },
    {
     "name": "stdout",
     "output_type": "stream",
     "text": [
      "Step: 1, Train Loss Now: 0.771476149559021\n",
      "Step: 2, Train Loss Now: 0.7372284829616547\n",
      "Step: 3, Train Loss Now: 0.6273206075032552\n",
      "Step: 4, Train Loss Now: 0.6051899790763855\n"
     ]
    },
    {
     "name": "stderr",
     "output_type": "stream",
     "text": [
      " 89%|████████▉ | 8/9 [00:00<00:00, 34.27it/s]"
     ]
    },
    {
     "name": "stdout",
     "output_type": "stream",
     "text": [
      "Step: 5, Train Loss Now: 0.6084592580795288\n",
      "Step: 6, Train Loss Now: 0.6127335727214813\n",
      "Step: 7, Train Loss Now: 0.6456572157996041\n",
      "Step: 8, Train Loss Now: 0.6196812056005001\n"
     ]
    },
    {
     "name": "stderr",
     "output_type": "stream",
     "text": [
      "100%|██████████| 9/9 [00:00<00:00, 33.81it/s]\n"
     ]
    },
    {
     "name": "stdout",
     "output_type": "stream",
     "text": [
      "Step: 9, Train Loss Now: 0.6215216484334734\n"
     ]
    },
    {
     "name": "stderr",
     "output_type": "stream",
     "text": [
      "100%|██████████| 3/3 [00:00<00:00, 84.85it/s]\n",
      "  0%|          | 0/9 [00:00<?, ?it/s]"
     ]
    },
    {
     "name": "stdout",
     "output_type": "stream",
     "text": [
      "Step: 1, Train Loss Now: 0.6091410517692566\n"
     ]
    },
    {
     "name": "stderr",
     "output_type": "stream",
     "text": [
      " 44%|████▍     | 4/9 [00:00<00:00, 33.68it/s]"
     ]
    },
    {
     "name": "stdout",
     "output_type": "stream",
     "text": [
      "Step: 2, Train Loss Now: 0.5815960466861725\n",
      "Step: 3, Train Loss Now: 0.5490263303120931\n",
      "Step: 4, Train Loss Now: 0.5516750365495682\n",
      "Step: 5, Train Loss Now: 0.5653841733932495\n",
      "Step: 6, Train Loss Now: 0.6362664699554443\n",
      "Step: 7, Train Loss Now: 0.6242966396468026\n"
     ]
    },
    {
     "name": "stderr",
     "output_type": "stream",
     "text": [
      "100%|██████████| 9/9 [00:00<00:00, 27.50it/s]"
     ]
    },
    {
     "name": "stdout",
     "output_type": "stream",
     "text": [
      "Step: 8, Train Loss Now: 0.6167358383536339\n",
      "Step: 9, Train Loss Now: 0.6012458966837989\n"
     ]
    },
    {
     "name": "stderr",
     "output_type": "stream",
     "text": [
      "\n",
      "100%|██████████| 3/3 [00:00<00:00, 70.10it/s]\n",
      "  0%|          | 0/9 [00:00<?, ?it/s]"
     ]
    },
    {
     "name": "stdout",
     "output_type": "stream",
     "text": [
      "Step: 1, Train Loss Now: 0.6937143206596375\n",
      "Step: 2, Train Loss Now: 0.6674241125583649\n",
      "Step: 3, Train Loss Now: 0.6152217984199524\n"
     ]
    },
    {
     "name": "stderr",
     "output_type": "stream",
     "text": [
      " 44%|████▍     | 4/9 [00:00<00:00, 35.02it/s]"
     ]
    },
    {
     "name": "stdout",
     "output_type": "stream",
     "text": [
      "Step: 4, Train Loss Now: 0.5776620879769325\n",
      "Step: 5, Train Loss Now: 0.5341584324836731\n",
      "Step: 6, Train Loss Now: 0.5761648019154867\n",
      "Step: 7, Train Loss Now: 0.5466807314327785\n"
     ]
    },
    {
     "name": "stderr",
     "output_type": "stream",
     "text": [
      "100%|██████████| 9/9 [00:00<00:00, 33.41it/s]\n"
     ]
    },
    {
     "name": "stdout",
     "output_type": "stream",
     "text": [
      "Step: 8, Train Loss Now: 0.5631072074174881\n",
      "Step: 9, Train Loss Now: 0.5674681663513184\n"
     ]
    },
    {
     "name": "stderr",
     "output_type": "stream",
     "text": [
      "100%|██████████| 3/3 [00:00<00:00, 104.88it/s]\n",
      "  0%|          | 0/9 [00:00<?, ?it/s]"
     ]
    },
    {
     "name": "stdout",
     "output_type": "stream",
     "text": [
      "Step: 1, Train Loss Now: 0.308820903301239\n"
     ]
    },
    {
     "name": "stderr",
     "output_type": "stream",
     "text": [
      " 44%|████▍     | 4/9 [00:00<00:00, 34.21it/s]"
     ]
    },
    {
     "name": "stdout",
     "output_type": "stream",
     "text": [
      "Step: 2, Train Loss Now: 0.4553844630718231\n",
      "Step: 3, Train Loss Now: 0.425342192252477\n",
      "Step: 4, Train Loss Now: 0.5109918490052223\n",
      "Step: 5, Train Loss Now: 0.5166077673435211\n",
      "Step: 6, Train Loss Now: 0.5160969644784927\n",
      "Step: 7, Train Loss Now: 0.5494079547269004\n"
     ]
    },
    {
     "name": "stderr",
     "output_type": "stream",
     "text": [
      " 89%|████████▉ | 8/9 [00:00<00:00, 32.61it/s]"
     ]
    },
    {
     "name": "stdout",
     "output_type": "stream",
     "text": [
      "Step: 8, Train Loss Now: 0.5545094795525074\n"
     ]
    },
    {
     "name": "stderr",
     "output_type": "stream",
     "text": [
      "100%|██████████| 9/9 [00:00<00:00, 32.48it/s]\n"
     ]
    },
    {
     "name": "stdout",
     "output_type": "stream",
     "text": [
      "Step: 9, Train Loss Now: 0.5804123514228396\n"
     ]
    },
    {
     "name": "stderr",
     "output_type": "stream",
     "text": [
      "100%|██████████| 3/3 [00:00<00:00, 91.39it/s]\n",
      "  0%|          | 0/9 [00:00<?, ?it/s]"
     ]
    },
    {
     "name": "stdout",
     "output_type": "stream",
     "text": [
      "Step: 1, Train Loss Now: 0.6684126257896423\n"
     ]
    },
    {
     "name": "stderr",
     "output_type": "stream",
     "text": [
      " 22%|██▏       | 2/9 [00:00<00:00, 19.81it/s]"
     ]
    },
    {
     "name": "stdout",
     "output_type": "stream",
     "text": [
      "Step: 2, Train Loss Now: 0.6118848621845245\n",
      "Step: 3, Train Loss Now: 0.6269570787747701\n",
      "Step: 4, Train Loss Now: 0.5993442982435226\n"
     ]
    },
    {
     "name": "stderr",
     "output_type": "stream",
     "text": [
      " 67%|██████▋   | 6/9 [00:00<00:00, 26.72it/s]"
     ]
    },
    {
     "name": "stdout",
     "output_type": "stream",
     "text": [
      "Step: 5, Train Loss Now: 0.5857665657997131\n",
      "Step: 6, Train Loss Now: 0.5693253626426061\n",
      "Step: 7, Train Loss Now: 0.5601764959948403\n",
      "Step: 8, Train Loss Now: 0.5660103969275951\n",
      "Step: 9, Train Loss Now: 0.5769472221533457\n"
     ]
    },
    {
     "name": "stderr",
     "output_type": "stream",
     "text": [
      "100%|██████████| 9/9 [00:00<00:00, 27.08it/s]\n",
      "100%|██████████| 3/3 [00:00<00:00, 76.49it/s]\n",
      " 44%|████▍     | 4/9 [00:00<00:00, 39.23it/s]"
     ]
    },
    {
     "name": "stdout",
     "output_type": "stream",
     "text": [
      "Step: 1, Train Loss Now: 0.34177783131599426\n",
      "Step: 2, Train Loss Now: 0.5699275583028793\n",
      "Step: 3, Train Loss Now: 0.6173412700494131\n",
      "Step: 4, Train Loss Now: 0.5836884453892708\n",
      "Step: 5, Train Loss Now: 0.6234346449375152\n"
     ]
    },
    {
     "name": "stderr",
     "output_type": "stream",
     "text": [
      " 89%|████████▉ | 8/9 [00:00<00:00, 38.45it/s]"
     ]
    },
    {
     "name": "stdout",
     "output_type": "stream",
     "text": [
      "Step: 6, Train Loss Now: 0.5679708073536555\n",
      "Step: 7, Train Loss Now: 0.5969439191477639\n",
      "Step: 8, Train Loss Now: 0.605145800858736\n"
     ]
    },
    {
     "name": "stderr",
     "output_type": "stream",
     "text": [
      "100%|██████████| 9/9 [00:00<00:00, 36.27it/s]\n"
     ]
    },
    {
     "name": "stdout",
     "output_type": "stream",
     "text": [
      "Step: 9, Train Loss Now: 0.6024827261765798\n"
     ]
    },
    {
     "name": "stderr",
     "output_type": "stream",
     "text": [
      "100%|██████████| 3/3 [00:00<00:00, 73.22it/s]\n",
      "  0%|          | 0/9 [00:00<?, ?it/s]"
     ]
    },
    {
     "name": "stdout",
     "output_type": "stream",
     "text": [
      "Step: 1, Train Loss Now: 0.6896753311157227\n",
      "Step: 2, Train Loss Now: 0.6555816829204559\n"
     ]
    },
    {
     "name": "stderr",
     "output_type": "stream",
     "text": [
      " 44%|████▍     | 4/9 [00:00<00:00, 35.54it/s]"
     ]
    },
    {
     "name": "stdout",
     "output_type": "stream",
     "text": [
      "Step: 3, Train Loss Now: 0.5704754889011383\n",
      "Step: 4, Train Loss Now: 0.5763290151953697\n",
      "Step: 5, Train Loss Now: 0.6136209189891815\n",
      "Step: 6, Train Loss Now: 0.6010179469982783\n",
      "Step: 7, Train Loss Now: 0.5934868667806897\n"
     ]
    },
    {
     "name": "stderr",
     "output_type": "stream",
     "text": [
      " 89%|████████▉ | 8/9 [00:00<00:00, 33.06it/s]"
     ]
    },
    {
     "name": "stdout",
     "output_type": "stream",
     "text": [
      "Step: 8, Train Loss Now: 0.6247105933725834\n"
     ]
    },
    {
     "name": "stderr",
     "output_type": "stream",
     "text": [
      "100%|██████████| 9/9 [00:00<00:00, 33.11it/s]\n"
     ]
    },
    {
     "name": "stdout",
     "output_type": "stream",
     "text": [
      "Step: 9, Train Loss Now: 0.6071144640445709\n"
     ]
    },
    {
     "name": "stderr",
     "output_type": "stream",
     "text": [
      "100%|██████████| 3/3 [00:00<00:00, 74.26it/s]\n",
      "  0%|          | 0/9 [00:00<?, ?it/s]"
     ]
    },
    {
     "name": "stdout",
     "output_type": "stream",
     "text": [
      "Step: 1, Train Loss Now: 0.41851022839546204\n",
      "Step: 2, Train Loss Now: 0.4818021208047867\n"
     ]
    },
    {
     "name": "stderr",
     "output_type": "stream",
     "text": [
      " 44%|████▍     | 4/9 [00:00<00:00, 34.15it/s]"
     ]
    },
    {
     "name": "stdout",
     "output_type": "stream",
     "text": [
      "Step: 3, Train Loss Now: 0.4726387858390808\n",
      "Step: 4, Train Loss Now: 0.5173669755458832\n",
      "Step: 5, Train Loss Now: 0.543455445766449\n",
      "Step: 6, Train Loss Now: 0.5596339404582977\n",
      "Step: 7, Train Loss Now: 0.5553327883992877\n"
     ]
    },
    {
     "name": "stderr",
     "output_type": "stream",
     "text": [
      "100%|██████████| 9/9 [00:00<00:00, 32.97it/s]"
     ]
    },
    {
     "name": "stdout",
     "output_type": "stream",
     "text": [
      "Step: 8, Train Loss Now: 0.6046171337366104\n",
      "Step: 9, Train Loss Now: 0.5974482496579488\n"
     ]
    },
    {
     "name": "stderr",
     "output_type": "stream",
     "text": [
      "\n",
      "100%|██████████| 3/3 [00:00<00:00, 84.86it/s]\n",
      "  0%|          | 0/9 [00:00<?, ?it/s]"
     ]
    },
    {
     "name": "stdout",
     "output_type": "stream",
     "text": [
      "Step: 1, Train Loss Now: 0.49953731894493103\n",
      "Step: 2, Train Loss Now: 0.5323784202337265\n"
     ]
    },
    {
     "name": "stderr",
     "output_type": "stream",
     "text": [
      " 44%|████▍     | 4/9 [00:00<00:00, 34.19it/s]"
     ]
    },
    {
     "name": "stdout",
     "output_type": "stream",
     "text": [
      "Step: 3, Train Loss Now: 0.5128331979115804\n",
      "Step: 4, Train Loss Now: 0.49024105072021484\n",
      "Step: 5, Train Loss Now: 0.5282015442848206\n",
      "Step: 6, Train Loss Now: 0.5406915644804636\n",
      "Step: 7, Train Loss Now: 0.5804265567234584\n"
     ]
    },
    {
     "name": "stderr",
     "output_type": "stream",
     "text": [
      " 89%|████████▉ | 8/9 [00:00<00:00, 27.22it/s]"
     ]
    },
    {
     "name": "stdout",
     "output_type": "stream",
     "text": [
      "Step: 8, Train Loss Now: 0.5781722590327263\n"
     ]
    },
    {
     "name": "stderr",
     "output_type": "stream",
     "text": [
      "100%|██████████| 9/9 [00:00<00:00, 29.04it/s]\n"
     ]
    },
    {
     "name": "stdout",
     "output_type": "stream",
     "text": [
      "Step: 9, Train Loss Now: 0.5850073364045885\n"
     ]
    },
    {
     "name": "stderr",
     "output_type": "stream",
     "text": [
      "100%|██████████| 3/3 [00:00<00:00, 85.77it/s]\n",
      "  0%|          | 0/9 [00:00<?, ?it/s]"
     ]
    },
    {
     "name": "stdout",
     "output_type": "stream",
     "text": [
      "Step: 1, Train Loss Now: 0.6403294801712036\n"
     ]
    },
    {
     "name": "stderr",
     "output_type": "stream",
     "text": [
      " 33%|███▎      | 3/9 [00:00<00:00, 29.25it/s]"
     ]
    },
    {
     "name": "stdout",
     "output_type": "stream",
     "text": [
      "Step: 2, Train Loss Now: 0.6444852352142334\n",
      "Step: 3, Train Loss Now: 0.5942307809988657\n",
      "Step: 4, Train Loss Now: 0.5556819066405296\n",
      "Step: 5, Train Loss Now: 0.5492571294307709\n"
     ]
    },
    {
     "name": "stderr",
     "output_type": "stream",
     "text": [
      " 78%|███████▊  | 7/9 [00:00<00:00, 30.73it/s]"
     ]
    },
    {
     "name": "stdout",
     "output_type": "stream",
     "text": [
      "Step: 6, Train Loss Now: 0.5440129389365514\n",
      "Step: 7, Train Loss Now: 0.5519954434462956\n",
      "Step: 8, Train Loss Now: 0.6036157421767712\n"
     ]
    },
    {
     "name": "stderr",
     "output_type": "stream",
     "text": [
      "100%|██████████| 9/9 [00:00<00:00, 31.44it/s]\n"
     ]
    },
    {
     "name": "stdout",
     "output_type": "stream",
     "text": [
      "Step: 9, Train Loss Now: 0.5929764409859976\n"
     ]
    },
    {
     "name": "stderr",
     "output_type": "stream",
     "text": [
      "100%|██████████| 3/3 [00:00<00:00, 80.80it/s]\n",
      "  0%|          | 0/9 [00:00<?, ?it/s]"
     ]
    },
    {
     "name": "stdout",
     "output_type": "stream",
     "text": [
      "Step: 1, Train Loss Now: 0.7953720688819885\n",
      "Step: 2, Train Loss Now: 0.8234667181968689\n",
      "Step: 3, Train Loss Now: 0.7421667377154032\n"
     ]
    },
    {
     "name": "stderr",
     "output_type": "stream",
     "text": [
      " 44%|████▍     | 4/9 [00:00<00:00, 36.24it/s]"
     ]
    },
    {
     "name": "stdout",
     "output_type": "stream",
     "text": [
      "Step: 4, Train Loss Now: 0.7142837047576904\n",
      "Step: 5, Train Loss Now: 0.6734511375427246\n",
      "Step: 6, Train Loss Now: 0.62774591644605\n",
      "Step: 7, Train Loss Now: 0.6388395939554486\n"
     ]
    },
    {
     "name": "stderr",
     "output_type": "stream",
     "text": [
      "100%|██████████| 9/9 [00:00<00:00, 32.51it/s]\n"
     ]
    },
    {
     "name": "stdout",
     "output_type": "stream",
     "text": [
      "Step: 8, Train Loss Now: 0.6472493261098862\n",
      "Step: 9, Train Loss Now: 0.6360219915707906\n"
     ]
    },
    {
     "name": "stderr",
     "output_type": "stream",
     "text": [
      "100%|██████████| 3/3 [00:00<00:00, 84.10it/s]\n",
      "  0%|          | 0/9 [00:00<?, ?it/s]"
     ]
    },
    {
     "name": "stdout",
     "output_type": "stream",
     "text": [
      "Step: 1, Train Loss Now: 0.4117474853992462\n",
      "Step: 2, Train Loss Now: 0.5723323076963425\n"
     ]
    },
    {
     "name": "stderr",
     "output_type": "stream",
     "text": [
      " 44%|████▍     | 4/9 [00:00<00:00, 35.39it/s]"
     ]
    },
    {
     "name": "stdout",
     "output_type": "stream",
     "text": [
      "Step: 3, Train Loss Now: 0.49670735001564026\n",
      "Step: 4, Train Loss Now: 0.5075128301978111\n",
      "Step: 5, Train Loss Now: 0.497738254070282\n"
     ]
    },
    {
     "name": "stderr",
     "output_type": "stream",
     "text": [
      " 89%|████████▉ | 8/9 [00:00<00:00, 27.41it/s]"
     ]
    },
    {
     "name": "stdout",
     "output_type": "stream",
     "text": [
      "Step: 6, Train Loss Now: 0.5263717969258627\n",
      "Step: 7, Train Loss Now: 0.5527162211281913\n",
      "Step: 8, Train Loss Now: 0.5588299334049225\n"
     ]
    },
    {
     "name": "stderr",
     "output_type": "stream",
     "text": [
      "100%|██████████| 9/9 [00:00<00:00, 29.42it/s]\n"
     ]
    },
    {
     "name": "stdout",
     "output_type": "stream",
     "text": [
      "Step: 9, Train Loss Now: 0.5700971550411649\n"
     ]
    },
    {
     "name": "stderr",
     "output_type": "stream",
     "text": [
      "100%|██████████| 3/3 [00:00<00:00, 78.26it/s]\n",
      "  0%|          | 0/9 [00:00<?, ?it/s]"
     ]
    },
    {
     "name": "stdout",
     "output_type": "stream",
     "text": [
      "Step: 1, Train Loss Now: 0.7154508233070374\n",
      "Step: 2, Train Loss Now: 0.5898973196744919\n"
     ]
    },
    {
     "name": "stderr",
     "output_type": "stream",
     "text": [
      " 44%|████▍     | 4/9 [00:00<00:00, 31.67it/s]"
     ]
    },
    {
     "name": "stdout",
     "output_type": "stream",
     "text": [
      "Step: 3, Train Loss Now: 0.6339644889036814\n",
      "Step: 4, Train Loss Now: 0.6108073368668556\n",
      "Step: 5, Train Loss Now: 0.6125007450580597\n",
      "Step: 6, Train Loss Now: 0.6228098422288895\n",
      "Step: 7, Train Loss Now: 0.5726327002048492\n"
     ]
    },
    {
     "name": "stderr",
     "output_type": "stream",
     "text": [
      "100%|██████████| 9/9 [00:00<00:00, 33.48it/s]"
     ]
    },
    {
     "name": "stdout",
     "output_type": "stream",
     "text": [
      "Step: 8, Train Loss Now: 0.6253995336592197\n",
      "Step: 9, Train Loss Now: 0.6125369038846757\n"
     ]
    },
    {
     "name": "stderr",
     "output_type": "stream",
     "text": [
      "\n",
      "100%|██████████| 3/3 [00:00<00:00, 82.56it/s]\n",
      "  0%|          | 0/9 [00:00<?, ?it/s]"
     ]
    },
    {
     "name": "stdout",
     "output_type": "stream",
     "text": [
      "Step: 1, Train Loss Now: 0.7386547327041626\n",
      "Step: 2, Train Loss Now: 0.6016102135181427\n"
     ]
    },
    {
     "name": "stderr",
     "output_type": "stream",
     "text": [
      " 44%|████▍     | 4/9 [00:00<00:00, 33.44it/s]"
     ]
    },
    {
     "name": "stdout",
     "output_type": "stream",
     "text": [
      "Step: 3, Train Loss Now: 0.6425392627716064\n",
      "Step: 4, Train Loss Now: 0.5935298502445221\n",
      "Step: 5, Train Loss Now: 0.5979427695274353\n",
      "Step: 6, Train Loss Now: 0.5764279762903849\n",
      "Step: 7, Train Loss Now: 0.5679601686341422\n"
     ]
    },
    {
     "name": "stderr",
     "output_type": "stream",
     "text": [
      "100%|██████████| 9/9 [00:00<00:00, 32.34it/s]"
     ]
    },
    {
     "name": "stdout",
     "output_type": "stream",
     "text": [
      "Step: 8, Train Loss Now: 0.5438077971339226\n",
      "Step: 9, Train Loss Now: 0.5774329900741577\n"
     ]
    },
    {
     "name": "stderr",
     "output_type": "stream",
     "text": [
      "\n",
      "100%|██████████| 3/3 [00:00<00:00, 38.13it/s]\n",
      "  0%|          | 0/9 [00:00<?, ?it/s]"
     ]
    },
    {
     "name": "stdout",
     "output_type": "stream",
     "text": [
      "Step: 1, Train Loss Now: 0.6751613020896912\n",
      "Step: 2, Train Loss Now: 0.6186589598655701\n",
      "Step: 3, Train Loss Now: 0.6085341374079386\n"
     ]
    },
    {
     "name": "stderr",
     "output_type": "stream",
     "text": [
      " 44%|████▍     | 4/9 [00:00<00:00, 36.44it/s]"
     ]
    },
    {
     "name": "stdout",
     "output_type": "stream",
     "text": [
      "Step: 4, Train Loss Now: 0.5951561778783798\n",
      "Step: 5, Train Loss Now: 0.6505317211151123\n",
      "Step: 6, Train Loss Now: 0.6211065699656805\n",
      "Step: 7, Train Loss Now: 0.5901436848299844\n"
     ]
    },
    {
     "name": "stderr",
     "output_type": "stream",
     "text": [
      "100%|██████████| 9/9 [00:00<00:00, 35.20it/s]\n"
     ]
    },
    {
     "name": "stdout",
     "output_type": "stream",
     "text": [
      "Step: 8, Train Loss Now: 0.5784260742366314\n",
      "Step: 9, Train Loss Now: 0.5613241361247169\n"
     ]
    },
    {
     "name": "stderr",
     "output_type": "stream",
     "text": [
      "100%|██████████| 3/3 [00:00<00:00, 90.47it/s]\n",
      " 44%|████▍     | 4/9 [00:00<00:00, 33.64it/s]"
     ]
    },
    {
     "name": "stdout",
     "output_type": "stream",
     "text": [
      "Step: 1, Train Loss Now: 1.064003586769104\n",
      "Step: 2, Train Loss Now: 0.707809716463089\n",
      "Step: 3, Train Loss Now: 0.6865292390187582\n",
      "Step: 4, Train Loss Now: 0.6332545131444931\n",
      "Step: 5, Train Loss Now: 0.6085182785987854\n",
      "Step: 6, Train Loss Now: 0.5806576361258825\n",
      "Step: 7, Train Loss Now: 0.5447133736951011\n"
     ]
    },
    {
     "name": "stderr",
     "output_type": "stream",
     "text": [
      "100%|██████████| 9/9 [00:00<00:00, 32.40it/s]\n"
     ]
    },
    {
     "name": "stdout",
     "output_type": "stream",
     "text": [
      "Step: 8, Train Loss Now: 0.5549365468323231\n",
      "Step: 9, Train Loss Now: 0.5698865089151595\n"
     ]
    },
    {
     "name": "stderr",
     "output_type": "stream",
     "text": [
      "100%|██████████| 3/3 [00:00<00:00, 88.23it/s]\n",
      "  0%|          | 0/9 [00:00<?, ?it/s]"
     ]
    },
    {
     "name": "stdout",
     "output_type": "stream",
     "text": [
      "Step: 1, Train Loss Now: 0.7010225057601929\n"
     ]
    },
    {
     "name": "stderr",
     "output_type": "stream",
     "text": [
      " 44%|████▍     | 4/9 [00:00<00:00, 33.64it/s]"
     ]
    },
    {
     "name": "stdout",
     "output_type": "stream",
     "text": [
      "Step: 2, Train Loss Now: 0.5852562338113785\n",
      "Step: 3, Train Loss Now: 0.6029035945733389\n",
      "Step: 4, Train Loss Now: 0.6307355538010597\n",
      "Step: 5, Train Loss Now: 0.6108976304531097\n",
      "Step: 6, Train Loss Now: 0.5933391203482946\n",
      "Step: 7, Train Loss Now: 0.5752537548542023\n"
     ]
    },
    {
     "name": "stderr",
     "output_type": "stream",
     "text": [
      " 89%|████████▉ | 8/9 [00:00<00:00, 32.97it/s]"
     ]
    },
    {
     "name": "stdout",
     "output_type": "stream",
     "text": [
      "Step: 8, Train Loss Now: 0.5685836486518383\n"
     ]
    },
    {
     "name": "stderr",
     "output_type": "stream",
     "text": [
      "100%|██████████| 9/9 [00:00<00:00, 33.86it/s]\n"
     ]
    },
    {
     "name": "stdout",
     "output_type": "stream",
     "text": [
      "Step: 9, Train Loss Now: 0.5673897961775461\n"
     ]
    },
    {
     "name": "stderr",
     "output_type": "stream",
     "text": [
      "100%|██████████| 3/3 [00:00<00:00, 69.89it/s]\n",
      "  0%|          | 0/9 [00:00<?, ?it/s]"
     ]
    },
    {
     "name": "stdout",
     "output_type": "stream",
     "text": [
      "Step: 1, Train Loss Now: 0.7180131673812866\n"
     ]
    },
    {
     "name": "stderr",
     "output_type": "stream",
     "text": [
      " 33%|███▎      | 3/9 [00:00<00:00, 29.96it/s]"
     ]
    },
    {
     "name": "stdout",
     "output_type": "stream",
     "text": [
      "Step: 2, Train Loss Now: 0.5750962793827057\n",
      "Step: 3, Train Loss Now: 0.6082426508267721\n",
      "Step: 4, Train Loss Now: 0.6140280663967133\n"
     ]
    },
    {
     "name": "stderr",
     "output_type": "stream",
     "text": [
      " 78%|███████▊  | 7/9 [00:00<00:00, 32.70it/s]"
     ]
    },
    {
     "name": "stdout",
     "output_type": "stream",
     "text": [
      "Step: 5, Train Loss Now: 0.5801489472389221\n",
      "Step: 6, Train Loss Now: 0.5523933172225952\n",
      "Step: 7, Train Loss Now: 0.5787804211888995\n"
     ]
    },
    {
     "name": "stderr",
     "output_type": "stream",
     "text": [
      "100%|██████████| 9/9 [00:00<00:00, 28.42it/s]\n"
     ]
    },
    {
     "name": "stdout",
     "output_type": "stream",
     "text": [
      "Step: 8, Train Loss Now: 0.5659362897276878\n",
      "Step: 9, Train Loss Now: 0.5982890791363187\n"
     ]
    },
    {
     "name": "stderr",
     "output_type": "stream",
     "text": [
      "100%|██████████| 3/3 [00:00<00:00, 71.77it/s]\n",
      " 44%|████▍     | 4/9 [00:00<00:00, 38.08it/s]"
     ]
    },
    {
     "name": "stdout",
     "output_type": "stream",
     "text": [
      "Step: 1, Train Loss Now: 0.660291314125061\n",
      "Step: 2, Train Loss Now: 0.5928432047367096\n",
      "Step: 3, Train Loss Now: 0.6290417909622192\n",
      "Step: 4, Train Loss Now: 0.6308576017618179\n"
     ]
    },
    {
     "name": "stderr",
     "output_type": "stream",
     "text": [
      " 89%|████████▉ | 8/9 [00:00<00:00, 35.77it/s]"
     ]
    },
    {
     "name": "stdout",
     "output_type": "stream",
     "text": [
      "Step: 5, Train Loss Now: 0.643074917793274\n",
      "Step: 6, Train Loss Now: 0.6265058716138204\n",
      "Step: 7, Train Loss Now: 0.6357317311423165\n",
      "Step: 8, Train Loss Now: 0.6170209757983685\n"
     ]
    },
    {
     "name": "stderr",
     "output_type": "stream",
     "text": [
      "100%|██████████| 9/9 [00:00<00:00, 35.29it/s]\n"
     ]
    },
    {
     "name": "stdout",
     "output_type": "stream",
     "text": [
      "Step: 9, Train Loss Now: 0.6046648323535919\n"
     ]
    },
    {
     "name": "stderr",
     "output_type": "stream",
     "text": [
      "100%|██████████| 3/3 [00:00<00:00, 99.83it/s]\n",
      "  0%|          | 0/9 [00:00<?, ?it/s]"
     ]
    },
    {
     "name": "stdout",
     "output_type": "stream",
     "text": [
      "Step: 1, Train Loss Now: 0.6564544439315796\n"
     ]
    },
    {
     "name": "stderr",
     "output_type": "stream",
     "text": [
      " 44%|████▍     | 4/9 [00:00<00:00, 31.48it/s]"
     ]
    },
    {
     "name": "stdout",
     "output_type": "stream",
     "text": [
      "Step: 2, Train Loss Now: 0.5545520633459091\n",
      "Step: 3, Train Loss Now: 0.5201111336549123\n",
      "Step: 4, Train Loss Now: 0.6090482845902443\n",
      "Step: 5, Train Loss Now: 0.615934556722641\n",
      "Step: 6, Train Loss Now: 0.5932136277357737\n",
      "Step: 7, Train Loss Now: 0.5655472491468702\n"
     ]
    },
    {
     "name": "stderr",
     "output_type": "stream",
     "text": [
      " 89%|████████▉ | 8/9 [00:00<00:00, 32.05it/s]"
     ]
    },
    {
     "name": "stdout",
     "output_type": "stream",
     "text": [
      "Step: 8, Train Loss Now: 0.5756997056305408\n"
     ]
    },
    {
     "name": "stderr",
     "output_type": "stream",
     "text": [
      "100%|██████████| 9/9 [00:00<00:00, 31.68it/s]\n"
     ]
    },
    {
     "name": "stdout",
     "output_type": "stream",
     "text": [
      "Step: 9, Train Loss Now: 0.570933418141471\n"
     ]
    },
    {
     "name": "stderr",
     "output_type": "stream",
     "text": [
      "100%|██████████| 3/3 [00:00<00:00, 91.47it/s]\n",
      "  0%|          | 0/9 [00:00<?, ?it/s]"
     ]
    },
    {
     "name": "stdout",
     "output_type": "stream",
     "text": [
      "Step: 1, Train Loss Now: 0.53961181640625\n",
      "Step: 2, Train Loss Now: 0.5593152344226837\n",
      "Step: 3, Train Loss Now: 0.5992201765378317\n",
      "Step: 4, Train Loss Now: 0.5995160341262817"
     ]
    },
    {
     "name": "stderr",
     "output_type": "stream",
     "text": [
      " 44%|████▍     | 4/9 [00:00<00:00, 24.00it/s]"
     ]
    },
    {
     "name": "stdout",
     "output_type": "stream",
     "text": [
      "\n",
      "Step: 5, Train Loss Now: 0.5946411848068237\n",
      "Step: 6, Train Loss Now: 0.5887159804503123\n"
     ]
    },
    {
     "name": "stderr",
     "output_type": "stream",
     "text": [
      " 89%|████████▉ | 8/9 [00:00<00:00, 28.81it/s]"
     ]
    },
    {
     "name": "stdout",
     "output_type": "stream",
     "text": [
      "Step: 7, Train Loss Now: 0.5879277076039996\n",
      "Step: 8, Train Loss Now: 0.590142048895359\n"
     ]
    },
    {
     "name": "stderr",
     "output_type": "stream",
     "text": [
      "100%|██████████| 9/9 [00:00<00:00, 28.33it/s]\n"
     ]
    },
    {
     "name": "stdout",
     "output_type": "stream",
     "text": [
      "Step: 9, Train Loss Now: 0.5819713208410475\n"
     ]
    },
    {
     "name": "stderr",
     "output_type": "stream",
     "text": [
      "100%|██████████| 3/3 [00:00<00:00, 73.29it/s]\n",
      "  0%|          | 0/9 [00:00<?, ?it/s]"
     ]
    },
    {
     "name": "stdout",
     "output_type": "stream",
     "text": [
      "Step: 1, Train Loss Now: 0.7883367538452148\n",
      "Step: 2, Train Loss Now: 0.7542361617088318\n"
     ]
    },
    {
     "name": "stderr",
     "output_type": "stream",
     "text": [
      " 44%|████▍     | 4/9 [00:00<00:00, 33.64it/s]"
     ]
    },
    {
     "name": "stdout",
     "output_type": "stream",
     "text": [
      "Step: 3, Train Loss Now: 0.7152004837989807\n",
      "Step: 4, Train Loss Now: 0.6603315696120262\n",
      "Step: 5, Train Loss Now: 0.6299454629421234\n"
     ]
    },
    {
     "name": "stderr",
     "output_type": "stream",
     "text": [
      " 89%|████████▉ | 8/9 [00:00<00:00, 34.74it/s]"
     ]
    },
    {
     "name": "stdout",
     "output_type": "stream",
     "text": [
      "Step: 6, Train Loss Now: 0.6234570294618607\n",
      "Step: 7, Train Loss Now: 0.6196998570646558\n",
      "Step: 8, Train Loss Now: 0.5985989905893803\n"
     ]
    },
    {
     "name": "stderr",
     "output_type": "stream",
     "text": [
      "100%|██████████| 9/9 [00:00<00:00, 33.75it/s]"
     ]
    },
    {
     "name": "stdout",
     "output_type": "stream",
     "text": [
      "Step: 9, Train Loss Now: 0.5831800997257233\n"
     ]
    },
    {
     "name": "stderr",
     "output_type": "stream",
     "text": [
      "\n",
      "100%|██████████| 3/3 [00:00<00:00, 80.49it/s]\n",
      "  0%|          | 0/9 [00:00<?, ?it/s]"
     ]
    },
    {
     "name": "stdout",
     "output_type": "stream",
     "text": [
      "Step: 1, Train Loss Now: 0.4877561926841736\n",
      "Step: 2, Train Loss Now: 0.4228128641843796\n"
     ]
    },
    {
     "name": "stderr",
     "output_type": "stream",
     "text": [
      " 44%|████▍     | 4/9 [00:00<00:00, 35.72it/s]"
     ]
    },
    {
     "name": "stdout",
     "output_type": "stream",
     "text": [
      "Step: 3, Train Loss Now: 0.44282470146814984\n",
      "Step: 4, Train Loss Now: 0.5091379284858704\n",
      "Step: 5, Train Loss Now: 0.4894898056983948\n",
      "Step: 6, Train Loss Now: 0.5695904393990835\n",
      "Step: 7, Train Loss Now: 0.579744679587228\n"
     ]
    },
    {
     "name": "stderr",
     "output_type": "stream",
     "text": [
      "100%|██████████| 9/9 [00:00<00:00, 28.63it/s]\n"
     ]
    },
    {
     "name": "stdout",
     "output_type": "stream",
     "text": [
      "Step: 8, Train Loss Now: 0.578245498239994\n",
      "Step: 9, Train Loss Now: 0.5608298381169637\n"
     ]
    },
    {
     "name": "stderr",
     "output_type": "stream",
     "text": [
      "100%|██████████| 3/3 [00:00<00:00, 74.23it/s]\n",
      "  0%|          | 0/9 [00:00<?, ?it/s]"
     ]
    },
    {
     "name": "stdout",
     "output_type": "stream",
     "text": [
      "Step: 1, Train Loss Now: 0.5664951205253601\n",
      "Step: 2, Train Loss Now: 0.4690841883420944\n",
      "Step: 3, Train Loss Now: 0.5374485949675242\n"
     ]
    },
    {
     "name": "stderr",
     "output_type": "stream",
     "text": [
      " 44%|████▍     | 4/9 [00:00<00:00, 31.55it/s]"
     ]
    },
    {
     "name": "stdout",
     "output_type": "stream",
     "text": [
      "Step: 4, Train Loss Now: 0.5505299493670464\n",
      "Step: 5, Train Loss Now: 0.5550136864185333\n",
      "Step: 6, Train Loss Now: 0.5620037962992986\n",
      "Step: 7, Train Loss Now: 0.5413425479616437\n"
     ]
    },
    {
     "name": "stderr",
     "output_type": "stream",
     "text": [
      " 89%|████████▉ | 8/9 [00:00<00:00, 32.14it/s]"
     ]
    },
    {
     "name": "stdout",
     "output_type": "stream",
     "text": [
      "Step: 8, Train Loss Now: 0.5511485263705254\n"
     ]
    },
    {
     "name": "stderr",
     "output_type": "stream",
     "text": [
      "100%|██████████| 9/9 [00:00<00:00, 31.67it/s]\n"
     ]
    },
    {
     "name": "stdout",
     "output_type": "stream",
     "text": [
      "Step: 9, Train Loss Now: 0.5643796589639452\n"
     ]
    },
    {
     "name": "stderr",
     "output_type": "stream",
     "text": [
      "100%|██████████| 3/3 [00:00<00:00, 105.17it/s]\n",
      " 44%|████▍     | 4/9 [00:00<00:00, 30.08it/s]"
     ]
    },
    {
     "name": "stdout",
     "output_type": "stream",
     "text": [
      "Step: 1, Train Loss Now: 0.5681927800178528\n",
      "Step: 2, Train Loss Now: 0.740064412355423\n",
      "Step: 3, Train Loss Now: 0.6751599311828613\n",
      "Step: 4, Train Loss Now: 0.6459934264421463\n",
      "Step: 5, Train Loss Now: 0.5869279265403747\n",
      "Step: 6, Train Loss Now: 0.6016752024491628\n",
      "Step: 7, Train Loss Now: 0.5867707899638585\n"
     ]
    },
    {
     "name": "stderr",
     "output_type": "stream",
     "text": [
      "100%|██████████| 9/9 [00:00<00:00, 31.68it/s]\n"
     ]
    },
    {
     "name": "stdout",
     "output_type": "stream",
     "text": [
      "Step: 8, Train Loss Now: 0.5449262112379074\n",
      "Step: 9, Train Loss Now: 0.5706239011552598\n"
     ]
    },
    {
     "name": "stderr",
     "output_type": "stream",
     "text": [
      "100%|██████████| 3/3 [00:00<00:00, 82.55it/s]\n",
      "  0%|          | 0/9 [00:00<?, ?it/s]"
     ]
    },
    {
     "name": "stdout",
     "output_type": "stream",
     "text": [
      "Step: 1, Train Loss Now: 0.8484029769897461\n",
      "Step: 2, Train Loss Now: 0.6748463809490204\n"
     ]
    },
    {
     "name": "stderr",
     "output_type": "stream",
     "text": [
      " 44%|████▍     | 4/9 [00:00<00:00, 34.36it/s]"
     ]
    },
    {
     "name": "stdout",
     "output_type": "stream",
     "text": [
      "Step: 3, Train Loss Now: 0.6435861984888712\n",
      "Step: 4, Train Loss Now: 0.652725413441658\n",
      "Step: 5, Train Loss Now: 0.6102257490158081\n",
      "Step: 6, Train Loss Now: 0.5828623473644257\n",
      "Step: 7, Train Loss Now: 0.5651893275124686\n"
     ]
    },
    {
     "name": "stderr",
     "output_type": "stream",
     "text": [
      " 89%|████████▉ | 8/9 [00:00<00:00, 32.69it/s]"
     ]
    },
    {
     "name": "stdout",
     "output_type": "stream",
     "text": [
      "Step: 8, Train Loss Now: 0.5853337198495865\n",
      "Step: 9, Train Loss Now: 0.5834310121006436\n"
     ]
    },
    {
     "name": "stderr",
     "output_type": "stream",
     "text": [
      "100%|██████████| 9/9 [00:00<00:00, 32.93it/s]\n",
      "100%|██████████| 3/3 [00:00<00:00, 80.32it/s]\n",
      " 22%|██▏       | 2/9 [00:00<00:00, 18.27it/s]"
     ]
    },
    {
     "name": "stdout",
     "output_type": "stream",
     "text": [
      "Step: 1, Train Loss Now: 0.28019148111343384\n",
      "Step: 2, Train Loss Now: 0.39616307616233826\n",
      "Step: 3, Train Loss Now: 0.45203036069869995\n"
     ]
    },
    {
     "name": "stderr",
     "output_type": "stream",
     "text": [
      " 67%|██████▋   | 6/9 [00:00<00:00, 27.91it/s]"
     ]
    },
    {
     "name": "stdout",
     "output_type": "stream",
     "text": [
      "Step: 4, Train Loss Now: 0.47767429053783417\n",
      "Step: 5, Train Loss Now: 0.4990128993988037\n",
      "Step: 6, Train Loss Now: 0.5125225484371185\n",
      "Step: 7, Train Loss Now: 0.5347494312695095\n"
     ]
    },
    {
     "name": "stderr",
     "output_type": "stream",
     "text": [
      "100%|██████████| 9/9 [00:00<00:00, 28.83it/s]\n"
     ]
    },
    {
     "name": "stdout",
     "output_type": "stream",
     "text": [
      "Step: 8, Train Loss Now: 0.5670114606618881\n",
      "Step: 9, Train Loss Now: 0.5755814843707614\n"
     ]
    },
    {
     "name": "stderr",
     "output_type": "stream",
     "text": [
      "100%|██████████| 3/3 [00:00<00:00, 105.69it/s]\n",
      " 44%|████▍     | 4/9 [00:00<00:00, 34.26it/s]"
     ]
    },
    {
     "name": "stdout",
     "output_type": "stream",
     "text": [
      "Step: 1, Train Loss Now: 0.6936865448951721\n",
      "Step: 2, Train Loss Now: 0.5489858686923981\n",
      "Step: 3, Train Loss Now: 0.5344577034314474\n",
      "Step: 4, Train Loss Now: 0.5591802895069122\n"
     ]
    },
    {
     "name": "stderr",
     "output_type": "stream",
     "text": [
      " 89%|████████▉ | 8/9 [00:00<00:00, 33.37it/s]"
     ]
    },
    {
     "name": "stdout",
     "output_type": "stream",
     "text": [
      "Step: 5, Train Loss Now: 0.5381489098072052\n",
      "Step: 6, Train Loss Now: 0.5486702173948288\n",
      "Step: 7, Train Loss Now: 0.5310614321913038\n",
      "Step: 8, Train Loss Now: 0.5530544482171535\n"
     ]
    },
    {
     "name": "stderr",
     "output_type": "stream",
     "text": [
      "100%|██████████| 9/9 [00:00<00:00, 33.44it/s]\n"
     ]
    },
    {
     "name": "stdout",
     "output_type": "stream",
     "text": [
      "Step: 9, Train Loss Now: 0.5769644346502092\n"
     ]
    },
    {
     "name": "stderr",
     "output_type": "stream",
     "text": [
      "100%|██████████| 3/3 [00:00<00:00, 77.25it/s]\n",
      "  0%|          | 0/9 [00:00<?, ?it/s]"
     ]
    },
    {
     "name": "stdout",
     "output_type": "stream",
     "text": [
      "Step: 1, Train Loss Now: 0.6881842017173767\n"
     ]
    },
    {
     "name": "stderr",
     "output_type": "stream",
     "text": [
      " 33%|███▎      | 3/9 [00:00<00:00, 28.93it/s]"
     ]
    },
    {
     "name": "stdout",
     "output_type": "stream",
     "text": [
      "Step: 2, Train Loss Now: 0.6222948431968689\n",
      "Step: 3, Train Loss Now: 0.5815746188163757\n",
      "Step: 4, Train Loss Now: 0.5512099489569664\n"
     ]
    },
    {
     "name": "stderr",
     "output_type": "stream",
     "text": [
      " 67%|██████▋   | 6/9 [00:00<00:00, 24.68it/s]"
     ]
    },
    {
     "name": "stdout",
     "output_type": "stream",
     "text": [
      "Step: 5, Train Loss Now: 0.5485454976558686\n",
      "Step: 6, Train Loss Now: 0.5700249622265497\n",
      "Step: 7, Train Loss Now: 0.5803844204970768\n"
     ]
    },
    {
     "name": "stderr",
     "output_type": "stream",
     "text": [
      "100%|██████████| 9/9 [00:00<00:00, 26.95it/s]\n"
     ]
    },
    {
     "name": "stdout",
     "output_type": "stream",
     "text": [
      "Step: 8, Train Loss Now: 0.5592087730765343\n",
      "Step: 9, Train Loss Now: 0.5684754186206393\n"
     ]
    },
    {
     "name": "stderr",
     "output_type": "stream",
     "text": [
      "100%|██████████| 3/3 [00:00<00:00, 81.77it/s]\n",
      "  0%|          | 0/9 [00:00<?, ?it/s]"
     ]
    },
    {
     "name": "stdout",
     "output_type": "stream",
     "text": [
      "Step: 1, Train Loss Now: 0.35108548402786255\n"
     ]
    },
    {
     "name": "stderr",
     "output_type": "stream",
     "text": [
      " 44%|████▍     | 4/9 [00:00<00:00, 32.23it/s]"
     ]
    },
    {
     "name": "stdout",
     "output_type": "stream",
     "text": [
      "Step: 2, Train Loss Now: 0.5942678451538086\n",
      "Step: 3, Train Loss Now: 0.55434783299764\n",
      "Step: 4, Train Loss Now: 0.5635075718164444\n",
      "Step: 5, Train Loss Now: 0.5759269833564759\n",
      "Step: 6, Train Loss Now: 0.5490110814571381\n",
      "Step: 7, Train Loss Now: 0.5418295562267303\n"
     ]
    },
    {
     "name": "stderr",
     "output_type": "stream",
     "text": [
      " 89%|████████▉ | 8/9 [00:00<00:00, 31.77it/s]"
     ]
    },
    {
     "name": "stdout",
     "output_type": "stream",
     "text": [
      "Step: 8, Train Loss Now: 0.5763567872345448\n"
     ]
    },
    {
     "name": "stderr",
     "output_type": "stream",
     "text": [
      "100%|██████████| 9/9 [00:00<00:00, 32.87it/s]\n"
     ]
    },
    {
     "name": "stdout",
     "output_type": "stream",
     "text": [
      "Step: 9, Train Loss Now: 0.5675196945667267\n"
     ]
    },
    {
     "name": "stderr",
     "output_type": "stream",
     "text": [
      "100%|██████████| 3/3 [00:00<00:00, 86.11it/s]\n",
      "  0%|          | 0/9 [00:00<?, ?it/s]"
     ]
    },
    {
     "name": "stdout",
     "output_type": "stream",
     "text": [
      "Step: 1, Train Loss Now: 0.7879645824432373\n"
     ]
    },
    {
     "name": "stderr",
     "output_type": "stream",
     "text": [
      " 44%|████▍     | 4/9 [00:00<00:00, 31.93it/s]"
     ]
    },
    {
     "name": "stdout",
     "output_type": "stream",
     "text": [
      "Step: 2, Train Loss Now: 0.631814032793045\n",
      "Step: 3, Train Loss Now: 0.665361742178599\n",
      "Step: 4, Train Loss Now: 0.6376450210809708\n",
      "Step: 5, Train Loss Now: 0.5869695663452148\n",
      "Step: 6, Train Loss Now: 0.572523683309555\n",
      "Step: 7, Train Loss Now: 0.5398445640291486\n"
     ]
    },
    {
     "name": "stderr",
     "output_type": "stream",
     "text": [
      "100%|██████████| 9/9 [00:00<00:00, 29.26it/s]\n"
     ]
    },
    {
     "name": "stdout",
     "output_type": "stream",
     "text": [
      "Step: 8, Train Loss Now: 0.5367264449596405\n",
      "Step: 9, Train Loss Now: 0.5567938288052877\n"
     ]
    },
    {
     "name": "stderr",
     "output_type": "stream",
     "text": [
      "100%|██████████| 3/3 [00:00<00:00, 87.63it/s]\n",
      "  0%|          | 0/9 [00:00<?, ?it/s]"
     ]
    },
    {
     "name": "stdout",
     "output_type": "stream",
     "text": [
      "Step: 1, Train Loss Now: 0.43962937593460083\n"
     ]
    },
    {
     "name": "stderr",
     "output_type": "stream",
     "text": [
      " 44%|████▍     | 4/9 [00:00<00:00, 34.33it/s]"
     ]
    },
    {
     "name": "stdout",
     "output_type": "stream",
     "text": [
      "Step: 2, Train Loss Now: 0.6183710396289825\n",
      "Step: 3, Train Loss Now: 0.5850098530451456\n",
      "Step: 4, Train Loss Now: 0.5537429302930832\n",
      "Step: 5, Train Loss Now: 0.554100501537323\n",
      "Step: 6, Train Loss Now: 0.5359735240538915\n",
      "Step: 7, Train Loss Now: 0.5437082776001522\n"
     ]
    },
    {
     "name": "stderr",
     "output_type": "stream",
     "text": [
      " 89%|████████▉ | 8/9 [00:00<00:00, 33.09it/s]"
     ]
    },
    {
     "name": "stdout",
     "output_type": "stream",
     "text": [
      "Step: 8, Train Loss Now: 0.5519347153604031\n"
     ]
    },
    {
     "name": "stderr",
     "output_type": "stream",
     "text": [
      "100%|██████████| 9/9 [00:00<00:00, 32.93it/s]\n"
     ]
    },
    {
     "name": "stdout",
     "output_type": "stream",
     "text": [
      "Step: 9, Train Loss Now: 0.575120187467999\n"
     ]
    },
    {
     "name": "stderr",
     "output_type": "stream",
     "text": [
      "100%|██████████| 3/3 [00:00<00:00, 86.60it/s]\n",
      "  0%|          | 0/9 [00:00<?, ?it/s]"
     ]
    },
    {
     "name": "stdout",
     "output_type": "stream",
     "text": [
      "Step: 1, Train Loss Now: 0.6205823421478271\n"
     ]
    },
    {
     "name": "stderr",
     "output_type": "stream",
     "text": [
      " 33%|███▎      | 3/9 [00:00<00:00, 29.96it/s]"
     ]
    },
    {
     "name": "stdout",
     "output_type": "stream",
     "text": [
      "Step: 2, Train Loss Now: 0.4496759921312332\n",
      "Step: 3, Train Loss Now: 0.5299307008584341\n",
      "Step: 4, Train Loss Now: 0.5568023845553398\n",
      "Step: 5, Train Loss Now: 0.5687681615352631\n"
     ]
    },
    {
     "name": "stderr",
     "output_type": "stream",
     "text": [
      " 67%|██████▋   | 6/9 [00:00<00:00, 28.87it/s]"
     ]
    },
    {
     "name": "stdout",
     "output_type": "stream",
     "text": [
      "Step: 6, Train Loss Now: 0.5643369009097418\n",
      "Step: 7, Train Loss Now: 0.570309898683003\n",
      "Step: 8, Train Loss Now: 0.5740426443517208"
     ]
    },
    {
     "name": "stderr",
     "output_type": "stream",
     "text": [
      "100%|██████████| 9/9 [00:00<00:00, 29.99it/s]\n"
     ]
    },
    {
     "name": "stdout",
     "output_type": "stream",
     "text": [
      "\n",
      "Step: 9, Train Loss Now: 0.5832787586583031\n"
     ]
    },
    {
     "name": "stderr",
     "output_type": "stream",
     "text": [
      "100%|██████████| 3/3 [00:00<00:00, 36.19it/s]\n",
      "  0%|          | 0/9 [00:00<?, ?it/s]"
     ]
    },
    {
     "name": "stdout",
     "output_type": "stream",
     "text": [
      "Step: 1, Train Loss Now: 0.46341484785079956\n",
      "Step: 2, Train Loss Now: 0.4836842715740204\n"
     ]
    },
    {
     "name": "stderr",
     "output_type": "stream",
     "text": [
      " 44%|████▍     | 4/9 [00:00<00:00, 34.15it/s]"
     ]
    },
    {
     "name": "stdout",
     "output_type": "stream",
     "text": [
      "Step: 3, Train Loss Now: 0.5650648077329\n",
      "Step: 4, Train Loss Now: 0.5965950340032578\n",
      "Step: 5, Train Loss Now: 0.6149533867835999\n",
      "Step: 6, Train Loss Now: 0.6076674064000448\n",
      "Step: 7, Train Loss Now: 0.60334860427039\n"
     ]
    },
    {
     "name": "stderr",
     "output_type": "stream",
     "text": [
      "100%|██████████| 9/9 [00:00<00:00, 33.35it/s]"
     ]
    },
    {
     "name": "stdout",
     "output_type": "stream",
     "text": [
      "Step: 8, Train Loss Now: 0.5985501483082771\n",
      "Step: 9, Train Loss Now: 0.6026992996533712\n"
     ]
    },
    {
     "name": "stderr",
     "output_type": "stream",
     "text": [
      "\n",
      "100%|██████████| 3/3 [00:00<00:00, 110.84it/s]\n",
      " 44%|████▍     | 4/9 [00:00<00:00, 37.36it/s]"
     ]
    },
    {
     "name": "stdout",
     "output_type": "stream",
     "text": [
      "Step: 1, Train Loss Now: 0.36606475710868835\n",
      "Step: 2, Train Loss Now: 0.39729590713977814\n",
      "Step: 3, Train Loss Now: 0.4647313058376312\n",
      "Step: 4, Train Loss Now: 0.5115619227290154\n",
      "Step: 5, Train Loss Now: 0.5294967830181122\n",
      "Step: 6, Train Loss Now: 0.5533712357282639\n",
      "Step: 7, Train Loss Now: 0.5751207172870636\n"
     ]
    },
    {
     "name": "stderr",
     "output_type": "stream",
     "text": [
      "100%|██████████| 9/9 [00:00<00:00, 32.78it/s]\n"
     ]
    },
    {
     "name": "stdout",
     "output_type": "stream",
     "text": [
      "Step: 8, Train Loss Now: 0.5550544038414955\n",
      "Step: 9, Train Loss Now: 0.5655937525961134\n"
     ]
    },
    {
     "name": "stderr",
     "output_type": "stream",
     "text": [
      "100%|██████████| 3/3 [00:00<00:00, 94.76it/s]\n",
      "  0%|          | 0/9 [00:00<?, ?it/s]"
     ]
    },
    {
     "name": "stdout",
     "output_type": "stream",
     "text": [
      "Step: 1, Train Loss Now: 0.6823811531066895\n"
     ]
    },
    {
     "name": "stderr",
     "output_type": "stream",
     "text": [
      " 44%|████▍     | 4/9 [00:00<00:00, 31.87it/s]"
     ]
    },
    {
     "name": "stdout",
     "output_type": "stream",
     "text": [
      "Step: 2, Train Loss Now: 0.7667393088340759\n",
      "Step: 3, Train Loss Now: 0.7175660530726115\n",
      "Step: 4, Train Loss Now: 0.6229672506451607\n",
      "Step: 5, Train Loss Now: 0.6308366477489471\n",
      "Step: 6, Train Loss Now: 0.6060478091239929\n",
      "Step: 7, Train Loss Now: 0.5883056223392487\n"
     ]
    },
    {
     "name": "stderr",
     "output_type": "stream",
     "text": [
      " 89%|████████▉ | 8/9 [00:00<00:00, 33.25it/s]"
     ]
    },
    {
     "name": "stdout",
     "output_type": "stream",
     "text": [
      "Step: 8, Train Loss Now: 0.5939027704298496\n"
     ]
    },
    {
     "name": "stderr",
     "output_type": "stream",
     "text": [
      "100%|██████████| 9/9 [00:00<00:00, 32.45it/s]\n"
     ]
    },
    {
     "name": "stdout",
     "output_type": "stream",
     "text": [
      "Step: 9, Train Loss Now: 0.590943737162484\n"
     ]
    },
    {
     "name": "stderr",
     "output_type": "stream",
     "text": [
      "100%|██████████| 3/3 [00:00<00:00, 37.67it/s]\n",
      "  0%|          | 0/9 [00:00<?, ?it/s]"
     ]
    },
    {
     "name": "stdout",
     "output_type": "stream",
     "text": [
      "Step: 1, Train Loss Now: 0.6319870948791504\n",
      "Step: 2, Train Loss Now: 0.5287109464406967\n",
      "Step: 3, Train Loss Now: 0.5059432586034139\n"
     ]
    },
    {
     "name": "stderr",
     "output_type": "stream",
     "text": [
      " 44%|████▍     | 4/9 [00:00<00:00, 34.04it/s]"
     ]
    },
    {
     "name": "stdout",
     "output_type": "stream",
     "text": [
      "Step: 4, Train Loss Now: 0.5589700490236282\n",
      "Step: 5, Train Loss Now: 0.5472185492515564\n",
      "Step: 6, Train Loss Now: 0.5720546046892802\n"
     ]
    },
    {
     "name": "stderr",
     "output_type": "stream",
     "text": [
      "100%|██████████| 9/9 [00:00<00:00, 33.13it/s]"
     ]
    },
    {
     "name": "stdout",
     "output_type": "stream",
     "text": [
      "Step: 7, Train Loss Now: 0.5626270856176104\n",
      "Step: 8, Train Loss Now: 0.5554791614413261\n",
      "Step: 9, Train Loss Now: 0.5544457568062676\n"
     ]
    },
    {
     "name": "stderr",
     "output_type": "stream",
     "text": [
      "\n",
      "100%|██████████| 3/3 [00:00<00:00, 87.51it/s]\n",
      "  0%|          | 0/9 [00:00<?, ?it/s]"
     ]
    },
    {
     "name": "stdout",
     "output_type": "stream",
     "text": [
      "Step: 1, Train Loss Now: 0.6030585765838623\n",
      "Step: 2, Train Loss Now: 0.5832289457321167\n",
      "Step: 3, Train Loss Now: 0.6341917117436727\n"
     ]
    },
    {
     "name": "stderr",
     "output_type": "stream",
     "text": [
      " 44%|████▍     | 4/9 [00:00<00:00, 34.34it/s]"
     ]
    },
    {
     "name": "stdout",
     "output_type": "stream",
     "text": [
      "Step: 4, Train Loss Now: 0.6555257439613342\n",
      "Step: 5, Train Loss Now: 0.6408908724784851\n",
      "Step: 6, Train Loss Now: 0.6349012951056162\n",
      "Step: 7, Train Loss Now: 0.6127669087478093\n"
     ]
    },
    {
     "name": "stderr",
     "output_type": "stream",
     "text": [
      "100%|██████████| 9/9 [00:00<00:00, 34.14it/s]\n"
     ]
    },
    {
     "name": "stdout",
     "output_type": "stream",
     "text": [
      "Step: 8, Train Loss Now: 0.5943561233580112\n",
      "Step: 9, Train Loss Now: 0.5622855159971449\n"
     ]
    },
    {
     "name": "stderr",
     "output_type": "stream",
     "text": [
      "100%|██████████| 3/3 [00:00<00:00, 69.99it/s]\n",
      "  0%|          | 0/9 [00:00<?, ?it/s]"
     ]
    },
    {
     "name": "stdout",
     "output_type": "stream",
     "text": [
      "Step: 1, Train Loss Now: 0.5016669034957886\n",
      "Step: 2, Train Loss Now: 0.47746601700782776\n",
      "Step: 3, Train Loss Now: 0.6193128824234009\n"
     ]
    },
    {
     "name": "stderr",
     "output_type": "stream",
     "text": [
      " 44%|████▍     | 4/9 [00:00<00:00, 31.50it/s]"
     ]
    },
    {
     "name": "stdout",
     "output_type": "stream",
     "text": [
      "Step: 4, Train Loss Now: 0.6018944531679153\n",
      "Step: 5, Train Loss Now: 0.5938969135284424\n",
      "Step: 6, Train Loss Now: 0.5684685756762823\n",
      "Step: 7, Train Loss Now: 0.5746882004397256\n"
     ]
    },
    {
     "name": "stderr",
     "output_type": "stream",
     "text": [
      "100%|██████████| 9/9 [00:00<00:00, 31.52it/s]\n"
     ]
    },
    {
     "name": "stdout",
     "output_type": "stream",
     "text": [
      "Step: 8, Train Loss Now: 0.5843929015100002\n",
      "Step: 9, Train Loss Now: 0.5628521906005012\n"
     ]
    },
    {
     "name": "stderr",
     "output_type": "stream",
     "text": [
      "100%|██████████| 3/3 [00:00<00:00, 104.51it/s]\n",
      " 22%|██▏       | 2/9 [00:00<00:00, 18.22it/s]"
     ]
    },
    {
     "name": "stdout",
     "output_type": "stream",
     "text": [
      "Step: 1, Train Loss Now: 0.402275025844574\n",
      "Step: 2, Train Loss Now: 0.5231644213199615\n",
      "Step: 3, Train Loss Now: 0.46044066548347473\n"
     ]
    },
    {
     "name": "stderr",
     "output_type": "stream",
     "text": [
      " 67%|██████▋   | 6/9 [00:00<00:00, 27.92it/s]"
     ]
    },
    {
     "name": "stdout",
     "output_type": "stream",
     "text": [
      "Step: 4, Train Loss Now: 0.47937876731157303\n",
      "Step: 5, Train Loss Now: 0.5365219056606293\n",
      "Step: 6, Train Loss Now: 0.5285423745711645\n"
     ]
    },
    {
     "name": "stderr",
     "output_type": "stream",
     "text": [
      "100%|██████████| 9/9 [00:00<00:00, 28.45it/s]\n"
     ]
    },
    {
     "name": "stdout",
     "output_type": "stream",
     "text": [
      "Step: 7, Train Loss Now: 0.5809624237673623\n",
      "Step: 8, Train Loss Now: 0.5779673717916012\n",
      "Step: 9, Train Loss Now: 0.5602713028589884\n"
     ]
    },
    {
     "name": "stderr",
     "output_type": "stream",
     "text": [
      "100%|██████████| 3/3 [00:00<00:00, 75.62it/s]\n",
      "  0%|          | 0/9 [00:00<?, ?it/s]"
     ]
    },
    {
     "name": "stdout",
     "output_type": "stream",
     "text": [
      "Step: 1, Train Loss Now: 0.673981249332428\n",
      "Step: 2, Train Loss Now: 0.6140154302120209\n",
      "Step: 3, Train Loss Now: 0.5564618607362112\n"
     ]
    },
    {
     "name": "stderr",
     "output_type": "stream",
     "text": [
      " 44%|████▍     | 4/9 [00:00<00:00, 31.62it/s]"
     ]
    },
    {
     "name": "stdout",
     "output_type": "stream",
     "text": [
      "Step: 4, Train Loss Now: 0.5576966181397438\n",
      "Step: 5, Train Loss Now: 0.5591991126537323\n",
      "Step: 6, Train Loss Now: 0.5753138611714045\n",
      "Step: 7, Train Loss Now: 0.5819741785526276\n"
     ]
    },
    {
     "name": "stderr",
     "output_type": "stream",
     "text": [
      "100%|██████████| 9/9 [00:00<00:00, 33.19it/s]\n"
     ]
    },
    {
     "name": "stdout",
     "output_type": "stream",
     "text": [
      "Step: 8, Train Loss Now: 0.5835086144506931\n",
      "Step: 9, Train Loss Now: 0.5989615354273055\n"
     ]
    },
    {
     "name": "stderr",
     "output_type": "stream",
     "text": [
      "100%|██████████| 3/3 [00:00<00:00, 65.35it/s]\n",
      " 44%|████▍     | 4/9 [00:00<00:00, 32.70it/s]"
     ]
    },
    {
     "name": "stdout",
     "output_type": "stream",
     "text": [
      "Step: 1, Train Loss Now: 0.5148078799247742\n",
      "Step: 2, Train Loss Now: 0.4714306890964508\n",
      "Step: 3, Train Loss Now: 0.5360387961069742\n",
      "Step: 4, Train Loss Now: 0.5136072859168053\n",
      "Step: 5, Train Loss Now: 0.5440981090068817\n",
      "Step: 6, Train Loss Now: 0.5381050457557043\n",
      "Step: 7, Train Loss Now: 0.5860715125288282\n"
     ]
    },
    {
     "name": "stderr",
     "output_type": "stream",
     "text": [
      "100%|██████████| 9/9 [00:00<00:00, 33.04it/s]\n"
     ]
    },
    {
     "name": "stdout",
     "output_type": "stream",
     "text": [
      "Step: 8, Train Loss Now: 0.5890151225030422\n",
      "Step: 9, Train Loss Now: 0.5726548631985983\n"
     ]
    },
    {
     "name": "stderr",
     "output_type": "stream",
     "text": [
      "100%|██████████| 3/3 [00:00<00:00, 99.51it/s]\n",
      " 33%|███▎      | 3/9 [00:00<00:00, 22.14it/s]"
     ]
    },
    {
     "name": "stdout",
     "output_type": "stream",
     "text": [
      "Step: 1, Train Loss Now: 0.5202990174293518\n",
      "Step: 2, Train Loss Now: 0.6072094440460205\n",
      "Step: 3, Train Loss Now: 0.5368954837322235\n"
     ]
    },
    {
     "name": "stderr",
     "output_type": "stream",
     "text": [
      " 78%|███████▊  | 7/9 [00:00<00:00, 27.77it/s]"
     ]
    },
    {
     "name": "stdout",
     "output_type": "stream",
     "text": [
      "Step: 4, Train Loss Now: 0.585982970893383\n",
      "Step: 5, Train Loss Now: 0.5799071371555329\n",
      "Step: 6, Train Loss Now: 0.5818998863299688\n",
      "Step: 7, Train Loss Now: 0.5868060631411416\n"
     ]
    },
    {
     "name": "stderr",
     "output_type": "stream",
     "text": [
      "100%|██████████| 9/9 [00:00<00:00, 29.03it/s]\n"
     ]
    },
    {
     "name": "stdout",
     "output_type": "stream",
     "text": [
      "Step: 8, Train Loss Now: 0.5806103907525539\n",
      "Step: 9, Train Loss Now: 0.5684167577160729\n"
     ]
    },
    {
     "name": "stderr",
     "output_type": "stream",
     "text": [
      "100%|██████████| 3/3 [00:00<00:00, 74.45it/s]\n",
      " 44%|████▍     | 4/9 [00:00<00:00, 33.64it/s]"
     ]
    },
    {
     "name": "stdout",
     "output_type": "stream",
     "text": [
      "Step: 1, Train Loss Now: 0.5970219969749451\n",
      "Step: 2, Train Loss Now: 0.6416703760623932\n",
      "Step: 3, Train Loss Now: 0.5620998243490855\n",
      "Step: 4, Train Loss Now: 0.5541863963007927\n",
      "Step: 5, Train Loss Now: 0.5856143891811371\n",
      "Step: 6, Train Loss Now: 0.6039179414510727\n",
      "Step: 7, Train Loss Now: 0.592444338968822\n"
     ]
    },
    {
     "name": "stderr",
     "output_type": "stream",
     "text": [
      "100%|██████████| 9/9 [00:00<00:00, 34.18it/s]\n"
     ]
    },
    {
     "name": "stdout",
     "output_type": "stream",
     "text": [
      "Step: 8, Train Loss Now: 0.5985387302935123\n",
      "Step: 9, Train Loss Now: 0.5767253703541226\n"
     ]
    },
    {
     "name": "stderr",
     "output_type": "stream",
     "text": [
      "100%|██████████| 3/3 [00:00<00:00, 83.44it/s]\n",
      "  0%|          | 0/9 [00:00<?, ?it/s]"
     ]
    },
    {
     "name": "stdout",
     "output_type": "stream",
     "text": [
      "Step: 1, Train Loss Now: 0.8345074653625488\n"
     ]
    },
    {
     "name": "stderr",
     "output_type": "stream",
     "text": [
      " 33%|███▎      | 3/9 [00:00<00:00, 28.22it/s]"
     ]
    },
    {
     "name": "stdout",
     "output_type": "stream",
     "text": [
      "Step: 2, Train Loss Now: 0.6167208403348923\n",
      "Step: 3, Train Loss Now: 0.5789777934551239\n",
      "Step: 4, Train Loss Now: 0.5626272037625313\n"
     ]
    },
    {
     "name": "stderr",
     "output_type": "stream",
     "text": [
      " 78%|███████▊  | 7/9 [00:00<00:00, 29.95it/s]"
     ]
    },
    {
     "name": "stdout",
     "output_type": "stream",
     "text": [
      "Step: 5, Train Loss Now: 0.5670293867588043\n",
      "Step: 6, Train Loss Now: 0.5604801326990128\n",
      "Step: 7, Train Loss Now: 0.5927738419600895\n",
      "Step: 8, Train Loss Now: 0.5949489288032055\n"
     ]
    },
    {
     "name": "stderr",
     "output_type": "stream",
     "text": [
      "100%|██████████| 9/9 [00:00<00:00, 31.04it/s]\n"
     ]
    },
    {
     "name": "stdout",
     "output_type": "stream",
     "text": [
      "Step: 9, Train Loss Now: 0.5824677712387509\n"
     ]
    },
    {
     "name": "stderr",
     "output_type": "stream",
     "text": [
      "100%|██████████| 3/3 [00:00<00:00, 72.84it/s]\n",
      " 22%|██▏       | 2/9 [00:00<00:00, 18.80it/s]"
     ]
    },
    {
     "name": "stdout",
     "output_type": "stream",
     "text": [
      "Step: 1, Train Loss Now: 0.5734930038452148\n",
      "Step: 2, Train Loss Now: 0.5292294472455978\n",
      "Step: 3, Train Loss Now: 0.5248350401719412\n"
     ]
    },
    {
     "name": "stderr",
     "output_type": "stream",
     "text": [
      " 67%|██████▋   | 6/9 [00:00<00:00, 28.21it/s]"
     ]
    },
    {
     "name": "stdout",
     "output_type": "stream",
     "text": [
      "Step: 4, Train Loss Now: 0.5166740417480469\n",
      "Step: 5, Train Loss Now: 0.5159141778945923\n",
      "Step: 6, Train Loss Now: 0.5129018872976303\n"
     ]
    },
    {
     "name": "stderr",
     "output_type": "stream",
     "text": [
      "100%|██████████| 9/9 [00:00<00:00, 29.36it/s]\n"
     ]
    },
    {
     "name": "stdout",
     "output_type": "stream",
     "text": [
      "Step: 7, Train Loss Now: 0.5515454879828862\n",
      "Step: 8, Train Loss Now: 0.5469360165297985\n",
      "Step: 9, Train Loss Now: 0.5619750122229258\n"
     ]
    },
    {
     "name": "stderr",
     "output_type": "stream",
     "text": [
      "100%|██████████| 3/3 [00:00<00:00, 66.99it/s]\n",
      "  0%|          | 0/9 [00:00<?, ?it/s]"
     ]
    },
    {
     "name": "stdout",
     "output_type": "stream",
     "text": [
      "Step: 1, Train Loss Now: 0.42011141777038574\n",
      "Step: 2, Train Loss Now: 0.4716062843799591\n",
      "Step: 3, Train Loss Now: 0.5273104707400004\n"
     ]
    },
    {
     "name": "stderr",
     "output_type": "stream",
     "text": [
      " 44%|████▍     | 4/9 [00:00<00:00, 34.64it/s]"
     ]
    },
    {
     "name": "stdout",
     "output_type": "stream",
     "text": [
      "Step: 4, Train Loss Now: 0.509080171585083\n",
      "Step: 5, Train Loss Now: 0.5252870202064515\n",
      "Step: 6, Train Loss Now: 0.5268229146798452\n",
      "Step: 7, Train Loss Now: 0.5495885951178414\n"
     ]
    },
    {
     "name": "stderr",
     "output_type": "stream",
     "text": [
      "100%|██████████| 9/9 [00:00<00:00, 34.22it/s]\n"
     ]
    },
    {
     "name": "stdout",
     "output_type": "stream",
     "text": [
      "Step: 8, Train Loss Now: 0.5364206731319427\n",
      "Step: 9, Train Loss Now: 0.561521053314209\n"
     ]
    },
    {
     "name": "stderr",
     "output_type": "stream",
     "text": [
      "100%|██████████| 3/3 [00:00<00:00, 70.74it/s]\n",
      "  0%|          | 0/9 [00:00<?, ?it/s]"
     ]
    },
    {
     "name": "stdout",
     "output_type": "stream",
     "text": [
      "Step: 1, Train Loss Now: 0.6597146987915039\n",
      "Step: 2, Train Loss Now: 0.495138943195343\n",
      "Step: 3, Train Loss Now: 0.5297819574673971\n"
     ]
    },
    {
     "name": "stderr",
     "output_type": "stream",
     "text": [
      " 89%|████████▉ | 8/9 [00:00<00:00, 32.76it/s]"
     ]
    },
    {
     "name": "stdout",
     "output_type": "stream",
     "text": [
      "Step: 4, Train Loss Now: 0.4955075681209564\n",
      "Step: 5, Train Loss Now: 0.5215661525726318\n",
      "Step: 6, Train Loss Now: 0.5391912360986074\n",
      "Step: 7, Train Loss Now: 0.5299919375351497\n",
      "Step: 8, Train Loss Now: 0.5536667071282864\n"
     ]
    },
    {
     "name": "stderr",
     "output_type": "stream",
     "text": [
      "100%|██████████| 9/9 [00:00<00:00, 33.15it/s]\n"
     ]
    },
    {
     "name": "stdout",
     "output_type": "stream",
     "text": [
      "Step: 9, Train Loss Now: 0.5475708312458463\n"
     ]
    },
    {
     "name": "stderr",
     "output_type": "stream",
     "text": [
      "100%|██████████| 3/3 [00:00<00:00, 82.54it/s]\n",
      " 44%|████▍     | 4/9 [00:00<00:00, 32.88it/s]"
     ]
    },
    {
     "name": "stdout",
     "output_type": "stream",
     "text": [
      "Step: 1, Train Loss Now: 0.544197678565979\n",
      "Step: 2, Train Loss Now: 0.4536832869052887\n",
      "Step: 3, Train Loss Now: 0.5372411807378134\n",
      "Step: 4, Train Loss Now: 0.564519613981247\n",
      "Step: 5, Train Loss Now: 0.5861096382141113\n",
      "Step: 6, Train Loss Now: 0.5886741181214651\n"
     ]
    },
    {
     "name": "stderr",
     "output_type": "stream",
     "text": [
      "100%|██████████| 9/9 [00:00<00:00, 29.32it/s]\n"
     ]
    },
    {
     "name": "stdout",
     "output_type": "stream",
     "text": [
      "Step: 7, Train Loss Now: 0.5723327951771873\n",
      "Step: 8, Train Loss Now: 0.5586254931986332\n",
      "Step: 9, Train Loss Now: 0.5575902760028839\n"
     ]
    },
    {
     "name": "stderr",
     "output_type": "stream",
     "text": [
      "100%|██████████| 3/3 [00:00<00:00, 84.65it/s]\n",
      "  0%|          | 0/9 [00:00<?, ?it/s]"
     ]
    },
    {
     "name": "stdout",
     "output_type": "stream",
     "text": [
      "Step: 1, Train Loss Now: 0.39654266834259033\n",
      "Step: 2, Train Loss Now: 0.404174268245697\n",
      "Step: 3, Train Loss Now: 0.43173954884211224\n"
     ]
    },
    {
     "name": "stderr",
     "output_type": "stream",
     "text": [
      " 44%|████▍     | 4/9 [00:00<00:00, 34.26it/s]"
     ]
    },
    {
     "name": "stdout",
     "output_type": "stream",
     "text": [
      "Step: 4, Train Loss Now: 0.4581393450498581\n",
      "Step: 5, Train Loss Now: 0.45960041880607605\n",
      "Step: 6, Train Loss Now: 0.5027360767126083\n",
      "Step: 7, Train Loss Now: 0.5281701641423362\n"
     ]
    },
    {
     "name": "stderr",
     "output_type": "stream",
     "text": [
      "100%|██████████| 9/9 [00:00<00:00, 35.04it/s]\n"
     ]
    },
    {
     "name": "stdout",
     "output_type": "stream",
     "text": [
      "Step: 8, Train Loss Now: 0.5266747586429119\n",
      "Step: 9, Train Loss Now: 0.5413629114627838\n"
     ]
    },
    {
     "name": "stderr",
     "output_type": "stream",
     "text": [
      "100%|██████████| 3/3 [00:00<00:00, 77.56it/s]\n",
      " 44%|████▍     | 4/9 [00:00<00:00, 34.89it/s]"
     ]
    },
    {
     "name": "stdout",
     "output_type": "stream",
     "text": [
      "Step: 1, Train Loss Now: 0.37034618854522705\n",
      "Step: 2, Train Loss Now: 0.3916073441505432\n",
      "Step: 3, Train Loss Now: 0.42486799756685895\n",
      "Step: 4, Train Loss Now: 0.4564024731516838\n",
      "Step: 5, Train Loss Now: 0.47506746649742126\n",
      "Step: 6, Train Loss Now: 0.5280734250942866\n",
      "Step: 7, Train Loss Now: 0.5427463863577161\n"
     ]
    },
    {
     "name": "stderr",
     "output_type": "stream",
     "text": [
      "100%|██████████| 9/9 [00:00<00:00, 32.94it/s]\n"
     ]
    },
    {
     "name": "stdout",
     "output_type": "stream",
     "text": [
      "Step: 8, Train Loss Now: 0.552053052932024\n",
      "Step: 9, Train Loss Now: 0.5890155202812619\n"
     ]
    },
    {
     "name": "stderr",
     "output_type": "stream",
     "text": [
      "100%|██████████| 3/3 [00:00<00:00, 85.67it/s]\n",
      "  0%|          | 0/9 [00:00<?, ?it/s]"
     ]
    },
    {
     "name": "stdout",
     "output_type": "stream",
     "text": [
      "Step: 1, Train Loss Now: 0.7523998022079468\n"
     ]
    },
    {
     "name": "stderr",
     "output_type": "stream",
     "text": [
      " 44%|████▍     | 4/9 [00:00<00:00, 34.20it/s]"
     ]
    },
    {
     "name": "stdout",
     "output_type": "stream",
     "text": [
      "Step: 2, Train Loss Now: 0.6016928553581238\n",
      "Step: 3, Train Loss Now: 0.5705158710479736\n",
      "Step: 4, Train Loss Now: 0.5329566672444344\n",
      "Step: 5, Train Loss Now: 0.5566550314426422\n",
      "Step: 6, Train Loss Now: 0.557270959019661\n",
      "Step: 7, Train Loss Now: 0.5360216455800193\n"
     ]
    },
    {
     "name": "stderr",
     "output_type": "stream",
     "text": [
      "100%|██████████| 9/9 [00:00<00:00, 28.99it/s]\n"
     ]
    },
    {
     "name": "stdout",
     "output_type": "stream",
     "text": [
      "Step: 8, Train Loss Now: 0.5519800297915936\n",
      "Step: 9, Train Loss Now: 0.5497500797112783\n"
     ]
    },
    {
     "name": "stderr",
     "output_type": "stream",
     "text": [
      "100%|██████████| 3/3 [00:00<00:00, 74.17it/s]\n",
      "  0%|          | 0/9 [00:00<?, ?it/s]"
     ]
    },
    {
     "name": "stdout",
     "output_type": "stream",
     "text": [
      "Step: 1, Train Loss Now: 0.4163289964199066\n",
      "Step: 2, Train Loss Now: 0.439533993601799\n",
      "Step: 3, Train Loss Now: 0.5582782725493113\n"
     ]
    },
    {
     "name": "stderr",
     "output_type": "stream",
     "text": [
      " 44%|████▍     | 4/9 [00:00<00:00, 35.61it/s]"
     ]
    },
    {
     "name": "stdout",
     "output_type": "stream",
     "text": [
      "Step: 4, Train Loss Now: 0.5313181653618813\n",
      "Step: 5, Train Loss Now: 0.5296864449977875\n",
      "Step: 6, Train Loss Now: 0.5334752847750982\n",
      "Step: 7, Train Loss Now: 0.544901545558657\n"
     ]
    },
    {
     "name": "stderr",
     "output_type": "stream",
     "text": [
      "100%|██████████| 9/9 [00:00<00:00, 32.20it/s]\n"
     ]
    },
    {
     "name": "stdout",
     "output_type": "stream",
     "text": [
      "Step: 8, Train Loss Now: 0.5335372164845467\n",
      "Step: 9, Train Loss Now: 0.5507105588912964\n"
     ]
    },
    {
     "name": "stderr",
     "output_type": "stream",
     "text": [
      "100%|██████████| 3/3 [00:00<00:00, 78.09it/s]\n",
      " 44%|████▍     | 4/9 [00:00<00:00, 36.06it/s]"
     ]
    },
    {
     "name": "stdout",
     "output_type": "stream",
     "text": [
      "Step: 1, Train Loss Now: 0.6735035181045532\n",
      "Step: 2, Train Loss Now: 0.5571337789297104\n",
      "Step: 3, Train Loss Now: 0.5518454809983572\n",
      "Step: 4, Train Loss Now: 0.538428008556366\n",
      "Step: 5, Train Loss Now: 0.5664466381072998\n",
      "Step: 6, Train Loss Now: 0.5422477771838506\n",
      "Step: 7, Train Loss Now: 0.5606844808374133\n"
     ]
    },
    {
     "name": "stderr",
     "output_type": "stream",
     "text": [
      "100%|██████████| 9/9 [00:00<00:00, 34.00it/s]\n"
     ]
    },
    {
     "name": "stdout",
     "output_type": "stream",
     "text": [
      "Step: 8, Train Loss Now: 0.5308326259255409\n",
      "Step: 9, Train Loss Now: 0.5203364723258548\n"
     ]
    },
    {
     "name": "stderr",
     "output_type": "stream",
     "text": [
      "100%|██████████| 3/3 [00:00<00:00, 115.24it/s]\n",
      "  0%|          | 0/9 [00:00<?, ?it/s]"
     ]
    },
    {
     "name": "stdout",
     "output_type": "stream",
     "text": [
      "Step: 1, Train Loss Now: 0.43998411297798157\n"
     ]
    },
    {
     "name": "stderr",
     "output_type": "stream",
     "text": [
      " 44%|████▍     | 4/9 [00:00<00:00, 34.12it/s]"
     ]
    },
    {
     "name": "stdout",
     "output_type": "stream",
     "text": [
      "Step: 2, Train Loss Now: 0.393146812915802\n",
      "Step: 3, Train Loss Now: 0.36670492092768353\n",
      "Step: 4, Train Loss Now: 0.44755950570106506\n",
      "Step: 5, Train Loss Now: 0.4302628457546234\n",
      "Step: 6, Train Loss Now: 0.4531408101320267\n",
      "Step: 7, Train Loss Now: 0.48947020513670786\n"
     ]
    },
    {
     "name": "stderr",
     "output_type": "stream",
     "text": [
      " 89%|████████▉ | 8/9 [00:00<00:00, 33.06it/s]"
     ]
    },
    {
     "name": "stdout",
     "output_type": "stream",
     "text": [
      "Step: 8, Train Loss Now: 0.506094004958868\n"
     ]
    },
    {
     "name": "stderr",
     "output_type": "stream",
     "text": [
      "100%|██████████| 9/9 [00:00<00:00, 28.49it/s]\n"
     ]
    },
    {
     "name": "stdout",
     "output_type": "stream",
     "text": [
      "Step: 9, Train Loss Now: 0.5564517941739824\n"
     ]
    },
    {
     "name": "stderr",
     "output_type": "stream",
     "text": [
      "100%|██████████| 3/3 [00:00<00:00, 84.95it/s]\n",
      "  0%|          | 0/9 [00:00<?, ?it/s]"
     ]
    },
    {
     "name": "stdout",
     "output_type": "stream",
     "text": [
      "Step: 1, Train Loss Now: 0.7914182543754578\n",
      "Step: 2, Train Loss Now: 0.6048198938369751\n",
      "Step: 3, Train Loss Now: 0.5812353690465292\n"
     ]
    },
    {
     "name": "stderr",
     "output_type": "stream",
     "text": [
      " 44%|████▍     | 4/9 [00:00<00:00, 32.17it/s]"
     ]
    },
    {
     "name": "stdout",
     "output_type": "stream",
     "text": [
      "Step: 4, Train Loss Now: 0.5871011912822723\n",
      "Step: 5, Train Loss Now: 0.5540531039237976\n",
      "Step: 6, Train Loss Now: 0.5279150058825811\n",
      "Step: 7, Train Loss Now: 0.5331856480666569\n"
     ]
    },
    {
     "name": "stderr",
     "output_type": "stream",
     "text": [
      "100%|██████████| 9/9 [00:00<00:00, 31.66it/s]\n"
     ]
    },
    {
     "name": "stdout",
     "output_type": "stream",
     "text": [
      "Step: 8, Train Loss Now: 0.5343768112361431\n",
      "Step: 9, Train Loss Now: 0.5404592586888207\n"
     ]
    },
    {
     "name": "stderr",
     "output_type": "stream",
     "text": [
      "100%|██████████| 3/3 [00:00<00:00, 88.71it/s]\n",
      "  0%|          | 0/9 [00:00<?, ?it/s]"
     ]
    },
    {
     "name": "stdout",
     "output_type": "stream",
     "text": [
      "Step: 1, Train Loss Now: 0.5427276492118835\n",
      "Step: 2, Train Loss Now: 0.5229131877422333\n"
     ]
    },
    {
     "name": "stderr",
     "output_type": "stream",
     "text": [
      " 44%|████▍     | 4/9 [00:00<00:00, 32.44it/s]"
     ]
    },
    {
     "name": "stdout",
     "output_type": "stream",
     "text": [
      "Step: 3, Train Loss Now: 0.5741237998008728\n",
      "Step: 4, Train Loss Now: 0.5522947534918785\n",
      "Step: 5, Train Loss Now: 0.5610418140888214\n",
      "Step: 6, Train Loss Now: 0.5606393069028854\n"
     ]
    },
    {
     "name": "stderr",
     "output_type": "stream",
     "text": [
      "100%|██████████| 9/9 [00:00<00:00, 31.75it/s]"
     ]
    },
    {
     "name": "stdout",
     "output_type": "stream",
     "text": [
      "Step: 7, Train Loss Now: 0.5339176867689405\n",
      "Step: 8, Train Loss Now: 0.5386521853506565\n",
      "Step: 9, Train Loss Now: 0.5298103855715858\n"
     ]
    },
    {
     "name": "stderr",
     "output_type": "stream",
     "text": [
      "\n",
      "100%|██████████| 3/3 [00:00<00:00, 67.80it/s]\n",
      "  0%|          | 0/9 [00:00<?, ?it/s]"
     ]
    },
    {
     "name": "stdout",
     "output_type": "stream",
     "text": [
      "Step: 1, Train Loss Now: 0.6748899221420288\n",
      "Step: 2, Train Loss Now: 0.7358499467372894\n"
     ]
    },
    {
     "name": "stderr",
     "output_type": "stream",
     "text": [
      " 44%|████▍     | 4/9 [00:00<00:00, 36.13it/s]"
     ]
    },
    {
     "name": "stdout",
     "output_type": "stream",
     "text": [
      "Step: 3, Train Loss Now: 0.6305700242519379\n",
      "Step: 4, Train Loss Now: 0.566704273223877\n",
      "Step: 5, Train Loss Now: 0.6115383744239807\n",
      "Step: 6, Train Loss Now: 0.5928511073191961\n",
      "Step: 7, Train Loss Now: 0.6030113228729793\n"
     ]
    },
    {
     "name": "stderr",
     "output_type": "stream",
     "text": [
      "100%|██████████| 9/9 [00:00<00:00, 33.50it/s]"
     ]
    },
    {
     "name": "stdout",
     "output_type": "stream",
     "text": [
      "Step: 8, Train Loss Now: 0.568377148360014\n",
      "Step: 9, Train Loss Now: 0.5693314439720578\n"
     ]
    },
    {
     "name": "stderr",
     "output_type": "stream",
     "text": [
      "\n",
      "100%|██████████| 3/3 [00:00<00:00, 78.23it/s]\n",
      " 44%|████▍     | 4/9 [00:00<00:00, 34.31it/s]"
     ]
    },
    {
     "name": "stdout",
     "output_type": "stream",
     "text": [
      "Step: 1, Train Loss Now: 0.7977576851844788\n",
      "Step: 2, Train Loss Now: 0.6426711082458496\n",
      "Step: 3, Train Loss Now: 0.5981925129890442\n",
      "Step: 4, Train Loss Now: 0.5263915061950684\n"
     ]
    },
    {
     "name": "stderr",
     "output_type": "stream",
     "text": [
      " 89%|████████▉ | 8/9 [00:00<00:00, 33.22it/s]"
     ]
    },
    {
     "name": "stdout",
     "output_type": "stream",
     "text": [
      "Step: 5, Train Loss Now: 0.5481476783752441\n",
      "Step: 6, Train Loss Now: 0.5677013695240021\n",
      "Step: 7, Train Loss Now: 0.5547883893762316\n",
      "Step: 8, Train Loss Now: 0.5424860902130604\n"
     ]
    },
    {
     "name": "stderr",
     "output_type": "stream",
     "text": [
      "100%|██████████| 9/9 [00:00<00:00, 33.73it/s]\n"
     ]
    },
    {
     "name": "stdout",
     "output_type": "stream",
     "text": [
      "Step: 9, Train Loss Now: 0.5618192321724362\n"
     ]
    },
    {
     "name": "stderr",
     "output_type": "stream",
     "text": [
      "100%|██████████| 3/3 [00:00<00:00, 69.23it/s]\n",
      "  0%|          | 0/9 [00:00<?, ?it/s]"
     ]
    },
    {
     "name": "stdout",
     "output_type": "stream",
     "text": [
      "Step: 1, Train Loss Now: 0.6357777118682861\n"
     ]
    },
    {
     "name": "stderr",
     "output_type": "stream",
     "text": [
      " 44%|████▍     | 4/9 [00:00<00:00, 31.51it/s]"
     ]
    },
    {
     "name": "stdout",
     "output_type": "stream",
     "text": [
      "Step: 2, Train Loss Now: 0.6317061185836792\n",
      "Step: 3, Train Loss Now: 0.6281934976577759\n",
      "Step: 4, Train Loss Now: 0.5970969945192337\n",
      "Step: 5, Train Loss Now: 0.5968360662460327\n",
      "Step: 6, Train Loss Now: 0.5690306127071381\n"
     ]
    },
    {
     "name": "stderr",
     "output_type": "stream",
     "text": [
      "100%|██████████| 9/9 [00:00<00:00, 27.14it/s]\n"
     ]
    },
    {
     "name": "stdout",
     "output_type": "stream",
     "text": [
      "Step: 7, Train Loss Now: 0.5756761346544538\n",
      "Step: 8, Train Loss Now: 0.5658713616430759\n",
      "Step: 9, Train Loss Now: 0.5464779304133521\n"
     ]
    },
    {
     "name": "stderr",
     "output_type": "stream",
     "text": [
      "100%|██████████| 3/3 [00:00<00:00, 66.36it/s]\n",
      "  0%|          | 0/9 [00:00<?, ?it/s]"
     ]
    },
    {
     "name": "stdout",
     "output_type": "stream",
     "text": [
      "Step: 1, Train Loss Now: 0.38537362217903137\n",
      "Step: 2, Train Loss Now: 0.42775796353816986\n",
      "Step: 3, Train Loss Now: 0.4531560242176056\n"
     ]
    },
    {
     "name": "stderr",
     "output_type": "stream",
     "text": [
      " 44%|████▍     | 4/9 [00:00<00:00, 34.31it/s]"
     ]
    },
    {
     "name": "stdout",
     "output_type": "stream",
     "text": [
      "Step: 4, Train Loss Now: 0.4956204369664192\n",
      "Step: 5, Train Loss Now: 0.5189081490039825\n",
      "Step: 6, Train Loss Now: 0.5049696117639542\n",
      "Step: 7, Train Loss Now: 0.5167579012257713\n"
     ]
    },
    {
     "name": "stderr",
     "output_type": "stream",
     "text": [
      "100%|██████████| 9/9 [00:00<00:00, 33.65it/s]"
     ]
    },
    {
     "name": "stdout",
     "output_type": "stream",
     "text": [
      "Step: 8, Train Loss Now: 0.5107154026627541\n",
      "Step: 9, Train Loss Now: 0.5142356488439772\n"
     ]
    },
    {
     "name": "stderr",
     "output_type": "stream",
     "text": [
      "\n",
      "100%|██████████| 3/3 [00:00<00:00, 105.29it/s]\n",
      " 44%|████▍     | 4/9 [00:00<00:00, 34.27it/s]"
     ]
    },
    {
     "name": "stdout",
     "output_type": "stream",
     "text": [
      "Step: 1, Train Loss Now: 0.5753825902938843\n",
      "Step: 2, Train Loss Now: 0.48649270832538605\n",
      "Step: 3, Train Loss Now: 0.48215291897455853\n",
      "Step: 4, Train Loss Now: 0.5694735795259476\n",
      "Step: 5, Train Loss Now: 0.5389107465744019\n",
      "Step: 6, Train Loss Now: 0.5306995411713918\n",
      "Step: 7, Train Loss Now: 0.5475137404033116\n"
     ]
    },
    {
     "name": "stderr",
     "output_type": "stream",
     "text": [
      "100%|██████████| 9/9 [00:00<00:00, 32.91it/s]\n"
     ]
    },
    {
     "name": "stdout",
     "output_type": "stream",
     "text": [
      "Step: 8, Train Loss Now: 0.5566539317369461\n",
      "Step: 9, Train Loss Now: 0.5530740221341451\n"
     ]
    },
    {
     "name": "stderr",
     "output_type": "stream",
     "text": [
      "100%|██████████| 3/3 [00:00<00:00, 71.55it/s]\n",
      "  0%|          | 0/9 [00:00<?, ?it/s]"
     ]
    },
    {
     "name": "stdout",
     "output_type": "stream",
     "text": [
      "Step: 1, Train Loss Now: 0.5838738679885864\n",
      "Step: 2, Train Loss Now: 0.5247305780649185\n"
     ]
    },
    {
     "name": "stderr",
     "output_type": "stream",
     "text": [
      " 33%|███▎      | 3/9 [00:00<00:00, 20.93it/s]"
     ]
    },
    {
     "name": "stdout",
     "output_type": "stream",
     "text": [
      "Step: 3, Train Loss Now: 0.528528759876887\n",
      "Step: 4, Train Loss Now: 0.4970734342932701\n"
     ]
    },
    {
     "name": "stderr",
     "output_type": "stream",
     "text": [
      " 67%|██████▋   | 6/9 [00:00<00:00, 24.66it/s]"
     ]
    },
    {
     "name": "stdout",
     "output_type": "stream",
     "text": [
      "Step: 5, Train Loss Now: 0.5837533175945282\n",
      "Step: 6, Train Loss Now: 0.5805971672137579\n"
     ]
    },
    {
     "name": "stderr",
     "output_type": "stream",
     "text": [
      "100%|██████████| 9/9 [00:00<00:00, 27.04it/s]"
     ]
    },
    {
     "name": "stdout",
     "output_type": "stream",
     "text": [
      "Step: 7, Train Loss Now: 0.5651201222624097\n",
      "Step: 8, Train Loss Now: 0.5732416994869709\n",
      "Step: 9, Train Loss Now: 0.5439068807495965\n"
     ]
    },
    {
     "name": "stderr",
     "output_type": "stream",
     "text": [
      "\n",
      "100%|██████████| 3/3 [00:00<00:00, 94.92it/s]\n",
      "  0%|          | 0/9 [00:00<?, ?it/s]"
     ]
    },
    {
     "name": "stdout",
     "output_type": "stream",
     "text": [
      "Step: 1, Train Loss Now: 0.41863778233528137\n"
     ]
    },
    {
     "name": "stderr",
     "output_type": "stream",
     "text": [
      " 33%|███▎      | 3/9 [00:00<00:00, 29.90it/s]"
     ]
    },
    {
     "name": "stdout",
     "output_type": "stream",
     "text": [
      "Step: 2, Train Loss Now: 0.39356862008571625\n",
      "Step: 3, Train Loss Now: 0.47253411014874774\n"
     ]
    },
    {
     "name": "stderr",
     "output_type": "stream",
     "text": [
      " 78%|███████▊  | 7/9 [00:00<00:00, 31.55it/s]"
     ]
    },
    {
     "name": "stdout",
     "output_type": "stream",
     "text": [
      "Step: 4, Train Loss Now: 0.49112043529748917\n",
      "Step: 5, Train Loss Now: 0.5161572873592377\n",
      "Step: 6, Train Loss Now: 0.5407153715689977\n",
      "Step: 7, Train Loss Now: 0.5484080186911992\n",
      "Step: 8, Train Loss Now: 0.5533666796982288\n"
     ]
    },
    {
     "name": "stderr",
     "output_type": "stream",
     "text": [
      "100%|██████████| 9/9 [00:00<00:00, 31.74it/s]\n"
     ]
    },
    {
     "name": "stdout",
     "output_type": "stream",
     "text": [
      "Step: 9, Train Loss Now: 0.555140862862269\n"
     ]
    },
    {
     "name": "stderr",
     "output_type": "stream",
     "text": [
      "100%|██████████| 3/3 [00:00<00:00, 78.82it/s]\n",
      " 44%|████▍     | 4/9 [00:00<00:00, 33.39it/s]"
     ]
    },
    {
     "name": "stdout",
     "output_type": "stream",
     "text": [
      "Step: 1, Train Loss Now: 0.6589995622634888\n",
      "Step: 2, Train Loss Now: 0.7441909909248352\n",
      "Step: 3, Train Loss Now: 0.6814449826876322\n",
      "Step: 4, Train Loss Now: 0.6498842835426331\n",
      "Step: 5, Train Loss Now: 0.6052047967910766\n",
      "Step: 6, Train Loss Now: 0.5644330233335495\n",
      "Step: 7, Train Loss Now: 0.5724435235772815\n"
     ]
    },
    {
     "name": "stderr",
     "output_type": "stream",
     "text": [
      "100%|██████████| 9/9 [00:00<00:00, 33.62it/s]\n"
     ]
    },
    {
     "name": "stdout",
     "output_type": "stream",
     "text": [
      "Step: 8, Train Loss Now: 0.544289730489254\n",
      "Step: 9, Train Loss Now: 0.5420912570423551\n"
     ]
    },
    {
     "name": "stderr",
     "output_type": "stream",
     "text": [
      "100%|██████████| 3/3 [00:00<00:00, 36.60it/s]\n",
      "  0%|          | 0/9 [00:00<?, ?it/s]"
     ]
    },
    {
     "name": "stdout",
     "output_type": "stream",
     "text": [
      "Step: 1, Train Loss Now: 0.6200214624404907\n",
      "Step: 2, Train Loss Now: 0.5857118368148804\n"
     ]
    },
    {
     "name": "stderr",
     "output_type": "stream",
     "text": [
      " 33%|███▎      | 3/9 [00:00<00:00, 27.16it/s]"
     ]
    },
    {
     "name": "stdout",
     "output_type": "stream",
     "text": [
      "Step: 3, Train Loss Now: 0.5772558450698853\n",
      "Step: 4, Train Loss Now: 0.5591641515493393\n",
      "Step: 5, Train Loss Now: 0.5045682072639466\n",
      "Step: 6, Train Loss Now: 0.5357435345649719\n"
     ]
    },
    {
     "name": "stderr",
     "output_type": "stream",
     "text": [
      " 78%|███████▊  | 7/9 [00:00<00:00, 30.48it/s]"
     ]
    },
    {
     "name": "stdout",
     "output_type": "stream",
     "text": [
      "Step: 7, Train Loss Now: 0.5680288927895683\n",
      "Step: 8, Train Loss Now: 0.5714639648795128\n"
     ]
    },
    {
     "name": "stderr",
     "output_type": "stream",
     "text": [
      "100%|██████████| 9/9 [00:00<00:00, 30.71it/s]\n"
     ]
    },
    {
     "name": "stdout",
     "output_type": "stream",
     "text": [
      "Step: 9, Train Loss Now: 0.5504469904634688\n"
     ]
    },
    {
     "name": "stderr",
     "output_type": "stream",
     "text": [
      "100%|██████████| 3/3 [00:00<00:00, 65.39it/s]\n",
      "  0%|          | 0/9 [00:00<?, ?it/s]"
     ]
    },
    {
     "name": "stdout",
     "output_type": "stream",
     "text": [
      "Step: 1, Train Loss Now: 0.47617048025131226\n",
      "Step: 2, Train Loss Now: 0.5268367528915405\n",
      "Step: 3, Train Loss Now: 0.5035480260848999\n"
     ]
    },
    {
     "name": "stderr",
     "output_type": "stream",
     "text": [
      " 44%|████▍     | 4/9 [00:00<00:00, 36.82it/s]"
     ]
    },
    {
     "name": "stdout",
     "output_type": "stream",
     "text": [
      "Step: 4, Train Loss Now: 0.49389882385730743\n",
      "Step: 5, Train Loss Now: 0.5198885202407837\n",
      "Step: 6, Train Loss Now: 0.5234951873620352\n",
      "Step: 7, Train Loss Now: 0.5043017481054578\n"
     ]
    },
    {
     "name": "stderr",
     "output_type": "stream",
     "text": [
      "100%|██████████| 9/9 [00:00<00:00, 31.96it/s]\n"
     ]
    },
    {
     "name": "stdout",
     "output_type": "stream",
     "text": [
      "Step: 8, Train Loss Now: 0.5256636328995228\n",
      "Step: 9, Train Loss Now: 0.5525890555646684\n"
     ]
    },
    {
     "name": "stderr",
     "output_type": "stream",
     "text": [
      "100%|██████████| 3/3 [00:00<00:00, 84.98it/s]\n",
      "  0%|          | 0/9 [00:00<?, ?it/s]"
     ]
    },
    {
     "name": "stdout",
     "output_type": "stream",
     "text": [
      "Step: 1, Train Loss Now: 0.7472468614578247\n",
      "Step: 2, Train Loss Now: 0.5501543879508972\n"
     ]
    },
    {
     "name": "stderr",
     "output_type": "stream",
     "text": [
      " 44%|████▍     | 4/9 [00:00<00:00, 33.20it/s]"
     ]
    },
    {
     "name": "stdout",
     "output_type": "stream",
     "text": [
      "Step: 3, Train Loss Now: 0.5366080602010092\n",
      "Step: 4, Train Loss Now: 0.5426470041275024\n",
      "Step: 5, Train Loss Now: 0.5724727869033813\n",
      "Step: 6, Train Loss Now: 0.5298222452402115\n",
      "Step: 7, Train Loss Now: 0.5265345445701054\n"
     ]
    },
    {
     "name": "stderr",
     "output_type": "stream",
     "text": [
      " 89%|████████▉ | 8/9 [00:00<00:00, 29.01it/s]"
     ]
    },
    {
     "name": "stdout",
     "output_type": "stream",
     "text": [
      "Step: 8, Train Loss Now: 0.5297356210649014\n"
     ]
    },
    {
     "name": "stderr",
     "output_type": "stream",
     "text": [
      "100%|██████████| 9/9 [00:00<00:00, 28.81it/s]\n"
     ]
    },
    {
     "name": "stdout",
     "output_type": "stream",
     "text": [
      "Step: 9, Train Loss Now: 0.5416998167832693\n"
     ]
    },
    {
     "name": "stderr",
     "output_type": "stream",
     "text": [
      "100%|██████████| 3/3 [00:00<00:00, 72.64it/s]\n",
      "  0%|          | 0/9 [00:00<?, ?it/s]"
     ]
    },
    {
     "name": "stdout",
     "output_type": "stream",
     "text": [
      "Step: 1, Train Loss Now: 0.4436759352684021\n",
      "Step: 2, Train Loss Now: 0.5208156704902649\n",
      "Step: 3, Train Loss Now: 0.5668923656145731\n"
     ]
    },
    {
     "name": "stderr",
     "output_type": "stream",
     "text": [
      " 44%|████▍     | 4/9 [00:00<00:00, 32.59it/s]"
     ]
    },
    {
     "name": "stdout",
     "output_type": "stream",
     "text": [
      "Step: 4, Train Loss Now: 0.6070279330015182\n",
      "Step: 5, Train Loss Now: 0.5567141473293304\n",
      "Step: 6, Train Loss Now: 0.5242486844460169\n",
      "Step: 7, Train Loss Now: 0.5331102226461683\n",
      "Step: 8, Train Loss Now: 0.5436431653797626\n"
     ]
    },
    {
     "name": "stderr",
     "output_type": "stream",
     "text": [
      "100%|██████████| 9/9 [00:00<00:00, 32.99it/s]\n"
     ]
    },
    {
     "name": "stdout",
     "output_type": "stream",
     "text": [
      "Step: 9, Train Loss Now: 0.5378204948372312\n"
     ]
    },
    {
     "name": "stderr",
     "output_type": "stream",
     "text": [
      "100%|██████████| 3/3 [00:00<00:00, 74.39it/s]\n",
      "  0%|          | 0/9 [00:00<?, ?it/s]"
     ]
    },
    {
     "name": "stdout",
     "output_type": "stream",
     "text": [
      "Step: 1, Train Loss Now: 0.7332047820091248\n"
     ]
    },
    {
     "name": "stderr",
     "output_type": "stream",
     "text": [
      " 44%|████▍     | 4/9 [00:00<00:00, 32.27it/s]"
     ]
    },
    {
     "name": "stdout",
     "output_type": "stream",
     "text": [
      "Step: 2, Train Loss Now: 0.5973514467477798\n",
      "Step: 3, Train Loss Now: 0.5427398582299551\n",
      "Step: 4, Train Loss Now: 0.5596273466944695\n",
      "Step: 5, Train Loss Now: 0.5446305215358734\n",
      "Step: 6, Train Loss Now: 0.552917684117953\n",
      "Step: 7, Train Loss Now: 0.5570250621863774\n"
     ]
    },
    {
     "name": "stderr",
     "output_type": "stream",
     "text": [
      " 89%|████████▉ | 8/9 [00:00<00:00, 33.31it/s]"
     ]
    },
    {
     "name": "stdout",
     "output_type": "stream",
     "text": [
      "Step: 8, Train Loss Now: 0.5484177395701408\n"
     ]
    },
    {
     "name": "stderr",
     "output_type": "stream",
     "text": [
      "100%|██████████| 9/9 [00:00<00:00, 32.33it/s]\n"
     ]
    },
    {
     "name": "stdout",
     "output_type": "stream",
     "text": [
      "Step: 9, Train Loss Now: 0.5287991000546349\n"
     ]
    },
    {
     "name": "stderr",
     "output_type": "stream",
     "text": [
      "100%|██████████| 3/3 [00:00<00:00, 88.89it/s]\n",
      "  0%|          | 0/9 [00:00<?, ?it/s]"
     ]
    },
    {
     "name": "stdout",
     "output_type": "stream",
     "text": [
      "Step: 1, Train Loss Now: 0.7570846676826477\n"
     ]
    },
    {
     "name": "stderr",
     "output_type": "stream",
     "text": [
      " 33%|███▎      | 3/9 [00:00<00:00, 29.42it/s]"
     ]
    },
    {
     "name": "stdout",
     "output_type": "stream",
     "text": [
      "Step: 2, Train Loss Now: 0.7390544414520264\n",
      "Step: 3, Train Loss Now: 0.6561703085899353\n",
      "Step: 4, Train Loss Now: 0.5613634213805199\n"
     ]
    },
    {
     "name": "stderr",
     "output_type": "stream",
     "text": [
      " 67%|██████▋   | 6/9 [00:00<00:00, 29.00it/s]"
     ]
    },
    {
     "name": "stdout",
     "output_type": "stream",
     "text": [
      "Step: 5, Train Loss Now: 0.5470780014991761\n",
      "Step: 6, Train Loss Now: 0.5694577097892761\n",
      "Step: 7, Train Loss Now: 0.5459166552339282\n",
      "Step: 8, Train Loss Now: 0.5500183664262295\n",
      "Step: 9, Train Loss Now: 0.5464163455698225\n"
     ]
    },
    {
     "name": "stderr",
     "output_type": "stream",
     "text": [
      "100%|██████████| 9/9 [00:00<00:00, 25.50it/s]\n",
      "100%|██████████| 3/3 [00:00<00:00, 73.98it/s]\n",
      "  0%|          | 0/9 [00:00<?, ?it/s]"
     ]
    },
    {
     "name": "stdout",
     "output_type": "stream",
     "text": [
      "Step: 1, Train Loss Now: 0.42848822474479675\n",
      "Step: 2, Train Loss Now: 0.5057861357927322\n"
     ]
    },
    {
     "name": "stderr",
     "output_type": "stream",
     "text": [
      " 44%|████▍     | 4/9 [00:00<00:00, 35.84it/s]"
     ]
    },
    {
     "name": "stdout",
     "output_type": "stream",
     "text": [
      "Step: 3, Train Loss Now: 0.6378181874752045\n",
      "Step: 4, Train Loss Now: 0.6443087682127953\n",
      "Step: 5, Train Loss Now: 0.6621804058551788\n"
     ]
    },
    {
     "name": "stderr",
     "output_type": "stream",
     "text": [
      " 89%|████████▉ | 8/9 [00:00<00:00, 34.87it/s]"
     ]
    },
    {
     "name": "stdout",
     "output_type": "stream",
     "text": [
      "Step: 6, Train Loss Now: 0.6587215413649877\n",
      "Step: 7, Train Loss Now: 0.6200558202607291\n",
      "Step: 8, Train Loss Now: 0.6119382977485657\n"
     ]
    },
    {
     "name": "stderr",
     "output_type": "stream",
     "text": [
      "100%|██████████| 9/9 [00:00<00:00, 35.27it/s]\n"
     ]
    },
    {
     "name": "stdout",
     "output_type": "stream",
     "text": [
      "Step: 9, Train Loss Now: 0.5871783296267191\n"
     ]
    },
    {
     "name": "stderr",
     "output_type": "stream",
     "text": [
      "100%|██████████| 3/3 [00:00<00:00, 74.48it/s]\n",
      "  0%|          | 0/9 [00:00<?, ?it/s]"
     ]
    },
    {
     "name": "stdout",
     "output_type": "stream",
     "text": [
      "Step: 1, Train Loss Now: 0.8553645610809326\n",
      "Step: 2, Train Loss Now: 0.6404238194227219\n"
     ]
    },
    {
     "name": "stderr",
     "output_type": "stream",
     "text": [
      " 44%|████▍     | 4/9 [00:00<00:00, 34.32it/s]"
     ]
    },
    {
     "name": "stdout",
     "output_type": "stream",
     "text": [
      "Step: 3, Train Loss Now: 0.6006978452205658\n",
      "Step: 4, Train Loss Now: 0.5777730271220207\n",
      "Step: 5, Train Loss Now: 0.5557233393192291\n",
      "Step: 6, Train Loss Now: 0.5973168561855952\n",
      "Step: 7, Train Loss Now: 0.5948958013738904\n"
     ]
    },
    {
     "name": "stderr",
     "output_type": "stream",
     "text": [
      " 89%|████████▉ | 8/9 [00:00<00:00, 27.35it/s]"
     ]
    },
    {
     "name": "stdout",
     "output_type": "stream",
     "text": [
      "Step: 8, Train Loss Now: 0.5655234158039093\n"
     ]
    },
    {
     "name": "stderr",
     "output_type": "stream",
     "text": [
      "100%|██████████| 9/9 [00:00<00:00, 29.34it/s]\n"
     ]
    },
    {
     "name": "stdout",
     "output_type": "stream",
     "text": [
      "Step: 9, Train Loss Now: 0.5748876333236694\n"
     ]
    },
    {
     "name": "stderr",
     "output_type": "stream",
     "text": [
      "100%|██████████| 3/3 [00:00<00:00, 89.93it/s]\n",
      "  0%|          | 0/9 [00:00<?, ?it/s]"
     ]
    },
    {
     "name": "stdout",
     "output_type": "stream",
     "text": [
      "Step: 1, Train Loss Now: 0.5552368760108948\n",
      "Step: 2, Train Loss Now: 0.6450952887535095\n"
     ]
    },
    {
     "name": "stderr",
     "output_type": "stream",
     "text": [
      " 33%|███▎      | 3/9 [00:00<00:00, 29.99it/s]"
     ]
    },
    {
     "name": "stdout",
     "output_type": "stream",
     "text": [
      "Step: 3, Train Loss Now: 0.6440526445706686\n",
      "Step: 4, Train Loss Now: 0.607140339910984\n"
     ]
    },
    {
     "name": "stderr",
     "output_type": "stream",
     "text": [
      " 78%|███████▊  | 7/9 [00:00<00:00, 30.99it/s]"
     ]
    },
    {
     "name": "stdout",
     "output_type": "stream",
     "text": [
      "Step: 5, Train Loss Now: 0.6136249959468841\n",
      "Step: 6, Train Loss Now: 0.5852480133374532\n",
      "Step: 7, Train Loss Now: 0.5660498653139386\n"
     ]
    },
    {
     "name": "stderr",
     "output_type": "stream",
     "text": [
      "100%|██████████| 9/9 [00:00<00:00, 31.77it/s]\n"
     ]
    },
    {
     "name": "stdout",
     "output_type": "stream",
     "text": [
      "Step: 8, Train Loss Now: 0.5810983553528786\n",
      "Step: 9, Train Loss Now: 0.5725759135352241\n"
     ]
    },
    {
     "name": "stderr",
     "output_type": "stream",
     "text": [
      "100%|██████████| 3/3 [00:00<00:00, 76.31it/s]\n",
      "  0%|          | 0/9 [00:00<?, ?it/s]"
     ]
    },
    {
     "name": "stdout",
     "output_type": "stream",
     "text": [
      "Step: 1, Train Loss Now: 0.7767296433448792\n"
     ]
    },
    {
     "name": "stderr",
     "output_type": "stream",
     "text": [
      " 33%|███▎      | 3/9 [00:00<00:00, 29.31it/s]"
     ]
    },
    {
     "name": "stdout",
     "output_type": "stream",
     "text": [
      "Step: 2, Train Loss Now: 0.6746417582035065\n",
      "Step: 3, Train Loss Now: 0.6766707897186279\n",
      "Step: 4, Train Loss Now: 0.5896981135010719\n",
      "Step: 5, Train Loss Now: 0.5767930328845978\n",
      "Step: 6, Train Loss Now: 0.593393936753273\n",
      "Step: 7, Train Loss Now: 0.5665932127407619\n"
     ]
    },
    {
     "name": "stderr",
     "output_type": "stream",
     "text": [
      "100%|██████████| 9/9 [00:00<00:00, 30.79it/s]\n"
     ]
    },
    {
     "name": "stdout",
     "output_type": "stream",
     "text": [
      "Step: 8, Train Loss Now: 0.5614589676260948\n",
      "Step: 9, Train Loss Now: 0.5497408741050296\n"
     ]
    },
    {
     "name": "stderr",
     "output_type": "stream",
     "text": [
      "100%|██████████| 3/3 [00:00<00:00, 72.81it/s]\n",
      "  0%|          | 0/9 [00:00<?, ?it/s]"
     ]
    },
    {
     "name": "stdout",
     "output_type": "stream",
     "text": [
      "Step: 1, Train Loss Now: 0.7442532181739807\n",
      "Step: 2, Train Loss Now: 0.5656553506851196\n"
     ]
    },
    {
     "name": "stderr",
     "output_type": "stream",
     "text": [
      " 78%|███████▊  | 7/9 [00:00<00:00, 28.64it/s]"
     ]
    },
    {
     "name": "stdout",
     "output_type": "stream",
     "text": [
      "Step: 3, Train Loss Now: 0.5725294550259908\n",
      "Step: 4, Train Loss Now: 0.5754552185535431\n",
      "Step: 5, Train Loss Now: 0.5465471148490906\n",
      "Step: 6, Train Loss Now: 0.6049883365631104\n",
      "Step: 7, Train Loss Now: 0.5896357042448861\n",
      "Step: 8, Train Loss Now: 0.5520308651030064\n",
      "Step: 9, Train Loss Now: 0.566698991590076\n"
     ]
    },
    {
     "name": "stderr",
     "output_type": "stream",
     "text": [
      "100%|██████████| 9/9 [00:00<00:00, 30.06it/s]\n",
      "100%|██████████| 3/3 [00:00<00:00, 73.88it/s]\n",
      " 44%|████▍     | 4/9 [00:00<00:00, 34.30it/s]"
     ]
    },
    {
     "name": "stdout",
     "output_type": "stream",
     "text": [
      "Step: 1, Train Loss Now: 0.5717679262161255\n",
      "Step: 2, Train Loss Now: 0.5829591453075409\n",
      "Step: 3, Train Loss Now: 0.5383128921190897\n",
      "Step: 4, Train Loss Now: 0.5286128371953964\n",
      "Step: 5, Train Loss Now: 0.5232355237007141\n",
      "Step: 6, Train Loss Now: 0.5599760711193085\n",
      "Step: 7, Train Loss Now: 0.5554442490850177\n"
     ]
    },
    {
     "name": "stderr",
     "output_type": "stream",
     "text": [
      "100%|██████████| 9/9 [00:00<00:00, 34.44it/s]\n"
     ]
    },
    {
     "name": "stdout",
     "output_type": "stream",
     "text": [
      "Step: 8, Train Loss Now: 0.5540529265999794\n",
      "Step: 9, Train Loss Now: 0.5446287194887797\n"
     ]
    },
    {
     "name": "stderr",
     "output_type": "stream",
     "text": [
      "100%|██████████| 3/3 [00:00<00:00, 76.85it/s]\n",
      "  0%|          | 0/9 [00:00<?, ?it/s]"
     ]
    },
    {
     "name": "stdout",
     "output_type": "stream",
     "text": [
      "Step: 1, Train Loss Now: 0.4192933440208435\n"
     ]
    },
    {
     "name": "stderr",
     "output_type": "stream",
     "text": [
      " 33%|███▎      | 3/9 [00:00<00:00, 29.24it/s]"
     ]
    },
    {
     "name": "stdout",
     "output_type": "stream",
     "text": [
      "Step: 2, Train Loss Now: 0.5579670667648315\n",
      "Step: 3, Train Loss Now: 0.5588210622469584\n"
     ]
    },
    {
     "name": "stderr",
     "output_type": "stream",
     "text": [
      " 67%|██████▋   | 6/9 [00:00<00:00, 28.74it/s]"
     ]
    },
    {
     "name": "stdout",
     "output_type": "stream",
     "text": [
      "Step: 4, Train Loss Now: 0.5541795939207077\n",
      "Step: 5, Train Loss Now: 0.5430541872978211\n",
      "Step: 6, Train Loss Now: 0.5405369102954865\n",
      "Step: 7, Train Loss Now: 0.5682954617909023\n"
     ]
    },
    {
     "name": "stderr",
     "output_type": "stream",
     "text": [
      "100%|██████████| 9/9 [00:00<00:00, 30.19it/s]\n"
     ]
    },
    {
     "name": "stdout",
     "output_type": "stream",
     "text": [
      "Step: 8, Train Loss Now: 0.5746516287326813\n",
      "Step: 9, Train Loss Now: 0.5479752752516005\n"
     ]
    },
    {
     "name": "stderr",
     "output_type": "stream",
     "text": [
      "100%|██████████| 3/3 [00:00<00:00, 35.09it/s]\n",
      "  0%|          | 0/9 [00:00<?, ?it/s]"
     ]
    },
    {
     "name": "stdout",
     "output_type": "stream",
     "text": [
      "Step: 1, Train Loss Now: 0.799884557723999\n",
      "Step: 2, Train Loss Now: 0.6059878021478653\n"
     ]
    },
    {
     "name": "stderr",
     "output_type": "stream",
     "text": [
      " 44%|████▍     | 4/9 [00:00<00:00, 34.63it/s]"
     ]
    },
    {
     "name": "stdout",
     "output_type": "stream",
     "text": [
      "Step: 3, Train Loss Now: 0.6093683739503225\n",
      "Step: 4, Train Loss Now: 0.5925965085625648\n",
      "Step: 5, Train Loss Now: 0.5930526435375214\n",
      "Step: 6, Train Loss Now: 0.5594199846188227\n",
      "Step: 7, Train Loss Now: 0.5166027333055224\n"
     ]
    },
    {
     "name": "stderr",
     "output_type": "stream",
     "text": [
      "100%|██████████| 9/9 [00:00<00:00, 33.99it/s]\n"
     ]
    },
    {
     "name": "stdout",
     "output_type": "stream",
     "text": [
      "Step: 8, Train Loss Now: 0.5324972681701183\n",
      "Step: 9, Train Loss Now: 0.5315737624963125\n"
     ]
    },
    {
     "name": "stderr",
     "output_type": "stream",
     "text": [
      "100%|██████████| 3/3 [00:00<00:00, 78.30it/s]\n",
      " 44%|████▍     | 4/9 [00:00<00:00, 37.63it/s]"
     ]
    },
    {
     "name": "stdout",
     "output_type": "stream",
     "text": [
      "Step: 1, Train Loss Now: 0.5229455232620239\n",
      "Step: 2, Train Loss Now: 0.5399332940578461\n",
      "Step: 3, Train Loss Now: 0.4806944231192271\n",
      "Step: 4, Train Loss Now: 0.551805280148983\n",
      "Step: 5, Train Loss Now: 0.5362384557723999\n",
      "Step: 6, Train Loss Now: 0.5261050909757614\n",
      "Step: 7, Train Loss Now: 0.5513284589563098\n"
     ]
    },
    {
     "name": "stderr",
     "output_type": "stream",
     "text": [
      "100%|██████████| 9/9 [00:00<00:00, 34.32it/s]\n"
     ]
    },
    {
     "name": "stdout",
     "output_type": "stream",
     "text": [
      "Step: 8, Train Loss Now: 0.564446497708559\n",
      "Step: 9, Train Loss Now: 0.544279416402181\n"
     ]
    },
    {
     "name": "stderr",
     "output_type": "stream",
     "text": [
      "100%|██████████| 3/3 [00:00<00:00, 110.49it/s]\n",
      "  0%|          | 0/9 [00:00<?, ?it/s]"
     ]
    },
    {
     "name": "stdout",
     "output_type": "stream",
     "text": [
      "Step: 1, Train Loss Now: 0.555198609828949\n"
     ]
    },
    {
     "name": "stderr",
     "output_type": "stream",
     "text": [
      " 33%|███▎      | 3/9 [00:00<00:00, 29.67it/s]"
     ]
    },
    {
     "name": "stdout",
     "output_type": "stream",
     "text": [
      "Step: 2, Train Loss Now: 0.5710814297199249\n",
      "Step: 3, Train Loss Now: 0.5328771074612936\n",
      "Step: 4, Train Loss Now: 0.5408850163221359\n"
     ]
    },
    {
     "name": "stderr",
     "output_type": "stream",
     "text": [
      " 78%|███████▊  | 7/9 [00:00<00:00, 30.53it/s]"
     ]
    },
    {
     "name": "stdout",
     "output_type": "stream",
     "text": [
      "Step: 5, Train Loss Now: 0.5359091639518738\n",
      "Step: 6, Train Loss Now: 0.54975958665212\n",
      "Step: 7, Train Loss Now: 0.5358618114675794\n"
     ]
    },
    {
     "name": "stderr",
     "output_type": "stream",
     "text": [
      "100%|██████████| 9/9 [00:00<00:00, 26.56it/s]\n"
     ]
    },
    {
     "name": "stdout",
     "output_type": "stream",
     "text": [
      "Step: 8, Train Loss Now: 0.5265165828168392\n",
      "Step: 9, Train Loss Now: 0.5707150333457522\n"
     ]
    },
    {
     "name": "stderr",
     "output_type": "stream",
     "text": [
      "100%|██████████| 3/3 [00:00<00:00, 73.72it/s]\n",
      " 44%|████▍     | 4/9 [00:00<00:00, 33.90it/s]"
     ]
    },
    {
     "name": "stdout",
     "output_type": "stream",
     "text": [
      "Step: 1, Train Loss Now: 0.5269340872764587\n",
      "Step: 2, Train Loss Now: 0.4268134981393814\n",
      "Step: 3, Train Loss Now: 0.4872124493122101\n",
      "Step: 4, Train Loss Now: 0.5106631144881248\n",
      "Step: 5, Train Loss Now: 0.48514566421508787\n",
      "Step: 6, Train Loss Now: 0.49219995737075806\n",
      "Step: 7, Train Loss Now: 0.5272836600031171\n"
     ]
    },
    {
     "name": "stderr",
     "output_type": "stream",
     "text": [
      "100%|██████████| 9/9 [00:00<00:00, 33.23it/s]\n"
     ]
    },
    {
     "name": "stdout",
     "output_type": "stream",
     "text": [
      "Step: 8, Train Loss Now: 0.5346546247601509\n",
      "Step: 9, Train Loss Now: 0.5374522805213928\n"
     ]
    },
    {
     "name": "stderr",
     "output_type": "stream",
     "text": [
      "100%|██████████| 3/3 [00:00<00:00, 79.33it/s]\n",
      "  0%|          | 0/9 [00:00<?, ?it/s]"
     ]
    },
    {
     "name": "stdout",
     "output_type": "stream",
     "text": [
      "Step: 1, Train Loss Now: 0.6001843810081482\n"
     ]
    },
    {
     "name": "stderr",
     "output_type": "stream",
     "text": [
      " 44%|████▍     | 4/9 [00:00<00:00, 33.71it/s]"
     ]
    },
    {
     "name": "stdout",
     "output_type": "stream",
     "text": [
      "Step: 2, Train Loss Now: 0.5657599866390228\n",
      "Step: 3, Train Loss Now: 0.5233458379904429\n",
      "Step: 4, Train Loss Now: 0.47560208290815353\n",
      "Step: 5, Train Loss Now: 0.4769332051277161\n",
      "Step: 6, Train Loss Now: 0.4797455668449402\n"
     ]
    },
    {
     "name": "stderr",
     "output_type": "stream",
     "text": [
      "100%|██████████| 9/9 [00:00<00:00, 33.76it/s]"
     ]
    },
    {
     "name": "stdout",
     "output_type": "stream",
     "text": [
      "Step: 7, Train Loss Now: 0.4758076454911913\n",
      "Step: 8, Train Loss Now: 0.523521188646555\n",
      "Step: 9, Train Loss Now: 0.5457790924443139\n"
     ]
    },
    {
     "name": "stderr",
     "output_type": "stream",
     "text": [
      "\n",
      "100%|██████████| 3/3 [00:00<00:00, 98.23it/s]\n",
      " 33%|███▎      | 3/9 [00:00<00:00, 29.89it/s]"
     ]
    },
    {
     "name": "stdout",
     "output_type": "stream",
     "text": [
      "Step: 1, Train Loss Now: 0.811241090297699\n",
      "Step: 2, Train Loss Now: 0.6984994411468506\n",
      "Step: 3, Train Loss Now: 0.6004329125086466\n"
     ]
    },
    {
     "name": "stderr",
     "output_type": "stream",
     "text": [
      " 78%|███████▊  | 7/9 [00:00<00:00, 32.74it/s]"
     ]
    },
    {
     "name": "stdout",
     "output_type": "stream",
     "text": [
      "Step: 4, Train Loss Now: 0.5729340985417366\n",
      "Step: 5, Train Loss Now: 0.5481484889984131\n",
      "Step: 6, Train Loss Now: 0.5754177272319794\n",
      "Step: 7, Train Loss Now: 0.6200442484446934\n"
     ]
    },
    {
     "name": "stderr",
     "output_type": "stream",
     "text": [
      "100%|██████████| 9/9 [00:00<00:00, 32.96it/s]\n"
     ]
    },
    {
     "name": "stdout",
     "output_type": "stream",
     "text": [
      "Step: 8, Train Loss Now: 0.6056279093027115\n",
      "Step: 9, Train Loss Now: 0.5700815717379252\n"
     ]
    },
    {
     "name": "stderr",
     "output_type": "stream",
     "text": [
      "100%|██████████| 3/3 [00:00<00:00, 82.59it/s]\n",
      " 22%|██▏       | 2/9 [00:00<00:00, 15.68it/s]"
     ]
    },
    {
     "name": "stdout",
     "output_type": "stream",
     "text": [
      "Step: 1, Train Loss Now: 0.4892594814300537\n",
      "Step: 2, Train Loss Now: 0.46290363371372223\n"
     ]
    },
    {
     "name": "stderr",
     "output_type": "stream",
     "text": [
      " 67%|██████▋   | 6/9 [00:00<00:00, 25.03it/s]"
     ]
    },
    {
     "name": "stdout",
     "output_type": "stream",
     "text": [
      "Step: 3, Train Loss Now: 0.5281811058521271\n",
      "Step: 4, Train Loss Now: 0.47491391748189926\n",
      "Step: 5, Train Loss Now: 0.4947421014308929\n",
      "Step: 6, Train Loss Now: 0.5169684439897537\n",
      "Step: 7, Train Loss Now: 0.5343568623065948\n"
     ]
    },
    {
     "name": "stderr",
     "output_type": "stream",
     "text": [
      "100%|██████████| 9/9 [00:00<00:00, 26.60it/s]\n"
     ]
    },
    {
     "name": "stdout",
     "output_type": "stream",
     "text": [
      "Step: 8, Train Loss Now: 0.5106323733925819\n",
      "Step: 9, Train Loss Now: 0.5179811782307095\n"
     ]
    },
    {
     "name": "stderr",
     "output_type": "stream",
     "text": [
      "100%|██████████| 3/3 [00:00<00:00, 78.94it/s]\n",
      " 44%|████▍     | 4/9 [00:00<00:00, 31.59it/s]"
     ]
    },
    {
     "name": "stdout",
     "output_type": "stream",
     "text": [
      "Step: 1, Train Loss Now: 0.638841450214386\n",
      "Step: 2, Train Loss Now: 0.5678108781576157\n",
      "Step: 3, Train Loss Now: 0.6445533732573191\n",
      "Step: 4, Train Loss Now: 0.6289490535855293\n",
      "Step: 5, Train Loss Now: 0.603446763753891\n",
      "Step: 6, Train Loss Now: 0.5655744175116221\n"
     ]
    },
    {
     "name": "stderr",
     "output_type": "stream",
     "text": [
      "100%|██████████| 9/9 [00:00<00:00, 32.93it/s]\n"
     ]
    },
    {
     "name": "stdout",
     "output_type": "stream",
     "text": [
      "Step: 7, Train Loss Now: 0.5843724863869804\n",
      "Step: 8, Train Loss Now: 0.59908876568079\n",
      "Step: 9, Train Loss Now: 0.5500311139557097\n"
     ]
    },
    {
     "name": "stderr",
     "output_type": "stream",
     "text": [
      "100%|██████████| 3/3 [00:00<00:00, 115.78it/s]\n",
      "  0%|          | 0/9 [00:00<?, ?it/s]"
     ]
    },
    {
     "name": "stdout",
     "output_type": "stream",
     "text": [
      "Step: 1, Train Loss Now: 0.47337865829467773\n",
      "Step: 2, Train Loss Now: 0.568762868642807\n"
     ]
    },
    {
     "name": "stderr",
     "output_type": "stream",
     "text": [
      " 78%|███████▊  | 7/9 [00:00<00:00, 32.77it/s]"
     ]
    },
    {
     "name": "stdout",
     "output_type": "stream",
     "text": [
      "Step: 3, Train Loss Now: 0.5847146511077881\n",
      "Step: 4, Train Loss Now: 0.5593640580773354\n",
      "Step: 5, Train Loss Now: 0.5726747930049896\n",
      "Step: 6, Train Loss Now: 0.5484425822893778\n",
      "Step: 7, Train Loss Now: 0.5457300799233573\n"
     ]
    },
    {
     "name": "stderr",
     "output_type": "stream",
     "text": [
      "100%|██████████| 9/9 [00:00<00:00, 33.62it/s]\n"
     ]
    },
    {
     "name": "stdout",
     "output_type": "stream",
     "text": [
      "Step: 8, Train Loss Now: 0.5252343006432056\n",
      "Step: 9, Train Loss Now: 0.5395856863922543\n"
     ]
    },
    {
     "name": "stderr",
     "output_type": "stream",
     "text": [
      "100%|██████████| 3/3 [00:00<00:00, 90.23it/s]\n",
      " 22%|██▏       | 2/9 [00:00<00:00, 18.13it/s]"
     ]
    },
    {
     "name": "stdout",
     "output_type": "stream",
     "text": [
      "Step: 1, Train Loss Now: 0.4576506018638611\n",
      "Step: 2, Train Loss Now: 0.4649161994457245\n"
     ]
    },
    {
     "name": "stderr",
     "output_type": "stream",
     "text": [
      " 67%|██████▋   | 6/9 [00:00<00:00, 26.93it/s]"
     ]
    },
    {
     "name": "stdout",
     "output_type": "stream",
     "text": [
      "Step: 3, Train Loss Now: 0.5214834411938986\n",
      "Step: 4, Train Loss Now: 0.5546066015958786\n",
      "Step: 5, Train Loss Now: 0.5110249996185303\n",
      "Step: 6, Train Loss Now: 0.5121172765890757\n"
     ]
    },
    {
     "name": "stderr",
     "output_type": "stream",
     "text": [
      "100%|██████████| 9/9 [00:00<00:00, 27.56it/s]"
     ]
    },
    {
     "name": "stdout",
     "output_type": "stream",
     "text": [
      "Step: 7, Train Loss Now: 0.5245986836297172\n",
      "Step: 8, Train Loss Now: 0.5264834612607956\n",
      "Step: 9, Train Loss Now: 0.5231279697683122\n"
     ]
    },
    {
     "name": "stderr",
     "output_type": "stream",
     "text": [
      "\n",
      "100%|██████████| 3/3 [00:00<00:00, 78.17it/s]\n",
      "  0%|          | 0/9 [00:00<?, ?it/s]"
     ]
    },
    {
     "name": "stdout",
     "output_type": "stream",
     "text": [
      "Step: 1, Train Loss Now: 0.825536847114563\n",
      "Step: 2, Train Loss Now: 0.656653106212616\n",
      "Step: 3, Train Loss Now: 0.6659103433291117\n"
     ]
    },
    {
     "name": "stderr",
     "output_type": "stream",
     "text": [
      " 44%|████▍     | 4/9 [00:00<00:00, 32.96it/s]"
     ]
    },
    {
     "name": "stdout",
     "output_type": "stream",
     "text": [
      "Step: 4, Train Loss Now: 0.6053221225738525\n",
      "Step: 5, Train Loss Now: 0.5906128287315369\n",
      "Step: 6, Train Loss Now: 0.5461426874001821\n"
     ]
    },
    {
     "name": "stderr",
     "output_type": "stream",
     "text": [
      "100%|██████████| 9/9 [00:00<00:00, 33.65it/s]\n"
     ]
    },
    {
     "name": "stdout",
     "output_type": "stream",
     "text": [
      "Step: 7, Train Loss Now: 0.5063718472208295\n",
      "Step: 8, Train Loss Now: 0.5165158808231354\n",
      "Step: 9, Train Loss Now: 0.5401358803113302\n"
     ]
    },
    {
     "name": "stderr",
     "output_type": "stream",
     "text": [
      "100%|██████████| 3/3 [00:00<00:00, 78.75it/s]\n",
      " 33%|███▎      | 3/9 [00:00<00:00, 28.57it/s]"
     ]
    },
    {
     "name": "stdout",
     "output_type": "stream",
     "text": [
      "Step: 1, Train Loss Now: 0.4661228656768799\n",
      "Step: 2, Train Loss Now: 0.5014881789684296\n",
      "Step: 3, Train Loss Now: 0.5030795733133951\n"
     ]
    },
    {
     "name": "stderr",
     "output_type": "stream",
     "text": [
      " 78%|███████▊  | 7/9 [00:00<00:00, 33.17it/s]"
     ]
    },
    {
     "name": "stdout",
     "output_type": "stream",
     "text": [
      "Step: 4, Train Loss Now: 0.5163122117519379\n",
      "Step: 5, Train Loss Now: 0.5093931913375854\n",
      "Step: 6, Train Loss Now: 0.5329058070977529\n",
      "Step: 7, Train Loss Now: 0.5506233743258885\n"
     ]
    },
    {
     "name": "stderr",
     "output_type": "stream",
     "text": [
      "100%|██████████| 9/9 [00:00<00:00, 31.89it/s]\n"
     ]
    },
    {
     "name": "stdout",
     "output_type": "stream",
     "text": [
      "Step: 8, Train Loss Now: 0.5541599914431572\n",
      "Step: 9, Train Loss Now: 0.5369319915771484\n"
     ]
    },
    {
     "name": "stderr",
     "output_type": "stream",
     "text": [
      "100%|██████████| 3/3 [00:00<00:00, 84.13it/s]\n",
      " 22%|██▏       | 2/9 [00:00<00:00, 17.97it/s]"
     ]
    },
    {
     "name": "stdout",
     "output_type": "stream",
     "text": [
      "Step: 1, Train Loss Now: 0.5489915609359741\n",
      "Step: 2, Train Loss Now: 0.5843729376792908\n",
      "Step: 3, Train Loss Now: 0.4633209655682246\n"
     ]
    },
    {
     "name": "stderr",
     "output_type": "stream",
     "text": [
      " 67%|██████▋   | 6/9 [00:00<00:00, 26.34it/s]"
     ]
    },
    {
     "name": "stdout",
     "output_type": "stream",
     "text": [
      "Step: 4, Train Loss Now: 0.5113891325891018\n",
      "Step: 5, Train Loss Now: 0.5457329839468003\n",
      "Step: 6, Train Loss Now: 0.5352197314302126\n",
      "Step: 7, Train Loss Now: 0.52480391732284\n"
     ]
    },
    {
     "name": "stderr",
     "output_type": "stream",
     "text": [
      "100%|██████████| 9/9 [00:00<00:00, 27.44it/s]\n"
     ]
    },
    {
     "name": "stdout",
     "output_type": "stream",
     "text": [
      "Step: 8, Train Loss Now: 0.5197969507426023\n",
      "Step: 9, Train Loss Now: 0.5083415624168184\n"
     ]
    },
    {
     "name": "stderr",
     "output_type": "stream",
     "text": [
      "100%|██████████| 3/3 [00:00<00:00, 76.14it/s]\n",
      " 44%|████▍     | 4/9 [00:00<00:00, 32.25it/s]"
     ]
    },
    {
     "name": "stdout",
     "output_type": "stream",
     "text": [
      "Step: 1, Train Loss Now: 0.47336170077323914\n",
      "Step: 2, Train Loss Now: 0.4615307003259659\n",
      "Step: 3, Train Loss Now: 0.5340088506539663\n",
      "Step: 4, Train Loss Now: 0.5283677652478218\n",
      "Step: 5, Train Loss Now: 0.5307342231273651\n",
      "Step: 6, Train Loss Now: 0.5435258597135544\n",
      "Step: 7, Train Loss Now: 0.5342335743563515\n"
     ]
    },
    {
     "name": "stderr",
     "output_type": "stream",
     "text": [
      "100%|██████████| 9/9 [00:00<00:00, 33.63it/s]\n"
     ]
    },
    {
     "name": "stdout",
     "output_type": "stream",
     "text": [
      "Step: 8, Train Loss Now: 0.5314366780221462\n",
      "Step: 9, Train Loss Now: 0.5206490953763326\n"
     ]
    },
    {
     "name": "stderr",
     "output_type": "stream",
     "text": [
      "100%|██████████| 3/3 [00:00<00:00, 73.12it/s]\n",
      "  0%|          | 0/9 [00:00<?, ?it/s]"
     ]
    },
    {
     "name": "stdout",
     "output_type": "stream",
     "text": [
      "Step: 1, Train Loss Now: 0.5603755116462708\n"
     ]
    },
    {
     "name": "stderr",
     "output_type": "stream",
     "text": [
      " 33%|███▎      | 3/9 [00:00<00:00, 28.05it/s]"
     ]
    },
    {
     "name": "stdout",
     "output_type": "stream",
     "text": [
      "Step: 2, Train Loss Now: 0.5314103364944458\n",
      "Step: 3, Train Loss Now: 0.5710699955622355\n",
      "Step: 4, Train Loss Now: 0.5620277225971222\n",
      "Step: 5, Train Loss Now: 0.5176393151283264\n",
      "Step: 6, Train Loss Now: 0.5423391759395599\n"
     ]
    },
    {
     "name": "stderr",
     "output_type": "stream",
     "text": [
      " 78%|███████▊  | 7/9 [00:00<00:00, 29.67it/s]"
     ]
    },
    {
     "name": "stdout",
     "output_type": "stream",
     "text": [
      "Step: 7, Train Loss Now: 0.5490212270191738\n",
      "Step: 8, Train Loss Now: 0.553016185760498\n"
     ]
    },
    {
     "name": "stderr",
     "output_type": "stream",
     "text": [
      "100%|██████████| 9/9 [00:00<00:00, 30.17it/s]\n"
     ]
    },
    {
     "name": "stdout",
     "output_type": "stream",
     "text": [
      "Step: 9, Train Loss Now: 0.5454370545016395\n"
     ]
    },
    {
     "name": "stderr",
     "output_type": "stream",
     "text": [
      "100%|██████████| 3/3 [00:00<00:00, 83.50it/s]\n",
      "  0%|          | 0/9 [00:00<?, ?it/s]"
     ]
    },
    {
     "name": "stdout",
     "output_type": "stream",
     "text": [
      "Step: 1, Train Loss Now: 0.37652307748794556\n",
      "Step: 2, Train Loss Now: 0.506646603345871\n",
      "Step: 3, Train Loss Now: 0.49110667904218036\n"
     ]
    },
    {
     "name": "stderr",
     "output_type": "stream",
     "text": [
      " 44%|████▍     | 4/9 [00:00<00:00, 31.41it/s]"
     ]
    },
    {
     "name": "stdout",
     "output_type": "stream",
     "text": [
      "Step: 4, Train Loss Now: 0.5484675690531731\n",
      "Step: 5, Train Loss Now: 0.5178884565830231\n",
      "Step: 6, Train Loss Now: 0.527662659684817\n",
      "Step: 7, Train Loss Now: 0.5306643715926579\n"
     ]
    },
    {
     "name": "stderr",
     "output_type": "stream",
     "text": [
      "100%|██████████| 9/9 [00:00<00:00, 31.91it/s]\n"
     ]
    },
    {
     "name": "stdout",
     "output_type": "stream",
     "text": [
      "Step: 8, Train Loss Now: 0.5318184830248356\n",
      "Step: 9, Train Loss Now: 0.5314628846115537\n"
     ]
    },
    {
     "name": "stderr",
     "output_type": "stream",
     "text": [
      "100%|██████████| 3/3 [00:00<00:00, 70.21it/s]\n",
      "  0%|          | 0/9 [00:00<?, ?it/s]"
     ]
    },
    {
     "name": "stdout",
     "output_type": "stream",
     "text": [
      "Step: 1, Train Loss Now: 0.5262976884841919\n"
     ]
    },
    {
     "name": "stderr",
     "output_type": "stream",
     "text": [
      " 22%|██▏       | 2/9 [00:00<00:00, 19.40it/s]"
     ]
    },
    {
     "name": "stdout",
     "output_type": "stream",
     "text": [
      "Step: 2, Train Loss Now: 0.588241457939148\n",
      "Step: 3, Train Loss Now: 0.5487437546253204\n"
     ]
    },
    {
     "name": "stderr",
     "output_type": "stream",
     "text": [
      " 56%|█████▌    | 5/9 [00:00<00:00, 25.08it/s]"
     ]
    },
    {
     "name": "stdout",
     "output_type": "stream",
     "text": [
      "Step: 4, Train Loss Now: 0.6160666570067406\n",
      "Step: 5, Train Loss Now: 0.5788991153240204\n",
      "Step: 6, Train Loss Now: 0.569528395930926\n",
      "Step: 7, Train Loss Now: 0.5555701724120549\n"
     ]
    },
    {
     "name": "stderr",
     "output_type": "stream",
     "text": [
      "100%|██████████| 9/9 [00:00<00:00, 26.91it/s]\n"
     ]
    },
    {
     "name": "stdout",
     "output_type": "stream",
     "text": [
      "Step: 8, Train Loss Now: 0.5413687154650688\n",
      "Step: 9, Train Loss Now: 0.565224740240309\n"
     ]
    },
    {
     "name": "stderr",
     "output_type": "stream",
     "text": [
      "100%|██████████| 3/3 [00:00<00:00, 81.74it/s]\n",
      "  0%|          | 0/9 [00:00<?, ?it/s]"
     ]
    },
    {
     "name": "stdout",
     "output_type": "stream",
     "text": [
      "Step: 1, Train Loss Now: 0.30115970969200134\n",
      "Step: 2, Train Loss Now: 0.4856325834989548\n",
      "Step: 3, Train Loss Now: 0.4661843478679657\n"
     ]
    },
    {
     "name": "stderr",
     "output_type": "stream",
     "text": [
      " 44%|████▍     | 4/9 [00:00<00:00, 29.11it/s]"
     ]
    },
    {
     "name": "stdout",
     "output_type": "stream",
     "text": [
      "Step: 4, Train Loss Now: 0.520468570291996\n",
      "Step: 5, Train Loss Now: 0.5211141884326935\n",
      "Step: 6, Train Loss Now: 0.4999813338120778\n",
      "Step: 7, Train Loss Now: 0.4940647653170994\n"
     ]
    },
    {
     "name": "stderr",
     "output_type": "stream",
     "text": [
      "100%|██████████| 9/9 [00:00<00:00, 31.00it/s]"
     ]
    },
    {
     "name": "stdout",
     "output_type": "stream",
     "text": [
      "Step: 8, Train Loss Now: 0.5302117541432381\n",
      "Step: 9, Train Loss Now: 0.5227393044365777\n"
     ]
    },
    {
     "name": "stderr",
     "output_type": "stream",
     "text": [
      "\n",
      "100%|██████████| 3/3 [00:00<00:00, 74.52it/s]\n",
      " 44%|████▍     | 4/9 [00:00<00:00, 32.35it/s]"
     ]
    },
    {
     "name": "stdout",
     "output_type": "stream",
     "text": [
      "Step: 1, Train Loss Now: 0.4991564452648163\n",
      "Step: 2, Train Loss Now: 0.43565796315670013\n",
      "Step: 3, Train Loss Now: 0.4844050904115041\n",
      "Step: 4, Train Loss Now: 0.48428670316934586\n",
      "Step: 5, Train Loss Now: 0.4848567247390747\n",
      "Step: 6, Train Loss Now: 0.45950515071551007\n"
     ]
    },
    {
     "name": "stderr",
     "output_type": "stream",
     "text": [
      "100%|██████████| 9/9 [00:00<00:00, 28.60it/s]\n"
     ]
    },
    {
     "name": "stdout",
     "output_type": "stream",
     "text": [
      "Step: 7, Train Loss Now: 0.49127367564610075\n",
      "Step: 8, Train Loss Now: 0.5275477468967438\n",
      "Step: 9, Train Loss Now: 0.5290919608540006\n"
     ]
    },
    {
     "name": "stderr",
     "output_type": "stream",
     "text": [
      "100%|██████████| 3/3 [00:00<00:00, 122.80it/s]\n",
      "  0%|          | 0/9 [00:00<?, ?it/s]"
     ]
    },
    {
     "name": "stdout",
     "output_type": "stream",
     "text": [
      "Step: 1, Train Loss Now: 0.3055528700351715\n",
      "Step: 2, Train Loss Now: 0.4650408774614334\n",
      "Step: 3, Train Loss Now: 0.5286956131458282\n"
     ]
    },
    {
     "name": "stderr",
     "output_type": "stream",
     "text": [
      " 44%|████▍     | 4/9 [00:00<00:00, 32.49it/s]"
     ]
    },
    {
     "name": "stdout",
     "output_type": "stream",
     "text": [
      "Step: 4, Train Loss Now: 0.6215598210692406\n",
      "Step: 5, Train Loss Now: 0.5476572573184967\n",
      "Step: 6, Train Loss Now: 0.4975435907642047\n",
      "Step: 7, Train Loss Now: 0.5121887730700629\n"
     ]
    },
    {
     "name": "stderr",
     "output_type": "stream",
     "text": [
      "100%|██████████| 9/9 [00:00<00:00, 32.95it/s]\n"
     ]
    },
    {
     "name": "stdout",
     "output_type": "stream",
     "text": [
      "Step: 8, Train Loss Now: 0.5507846530526876\n",
      "Step: 9, Train Loss Now: 0.556414814458953\n"
     ]
    },
    {
     "name": "stderr",
     "output_type": "stream",
     "text": [
      "100%|██████████| 3/3 [00:00<00:00, 69.69it/s]\n",
      "  0%|          | 0/9 [00:00<?, ?it/s]"
     ]
    },
    {
     "name": "stdout",
     "output_type": "stream",
     "text": [
      "Step: 1, Train Loss Now: 0.4652405381202698\n",
      "Step: 2, Train Loss Now: 0.5031967461109161\n"
     ]
    },
    {
     "name": "stderr",
     "output_type": "stream",
     "text": [
      " 78%|███████▊  | 7/9 [00:00<00:00, 32.20it/s]"
     ]
    },
    {
     "name": "stdout",
     "output_type": "stream",
     "text": [
      "Step: 3, Train Loss Now: 0.4713791410128276\n",
      "Step: 4, Train Loss Now: 0.4967166483402252\n",
      "Step: 5, Train Loss Now: 0.4851245701313019\n",
      "Step: 6, Train Loss Now: 0.5003263503313065\n",
      "Step: 7, Train Loss Now: 0.49240151047706604\n"
     ]
    },
    {
     "name": "stderr",
     "output_type": "stream",
     "text": [
      "100%|██████████| 9/9 [00:00<00:00, 31.55it/s]\n"
     ]
    },
    {
     "name": "stdout",
     "output_type": "stream",
     "text": [
      "Step: 8, Train Loss Now: 0.5095182470977306\n",
      "Step: 9, Train Loss Now: 0.5383582678106096\n"
     ]
    },
    {
     "name": "stderr",
     "output_type": "stream",
     "text": [
      "100%|██████████| 3/3 [00:00<00:00, 92.46it/s]\n",
      " 22%|██▏       | 2/9 [00:00<00:00, 17.78it/s]"
     ]
    },
    {
     "name": "stdout",
     "output_type": "stream",
     "text": [
      "Step: 1, Train Loss Now: 0.614944338798523\n",
      "Step: 2, Train Loss Now: 0.5387486070394516\n"
     ]
    },
    {
     "name": "stderr",
     "output_type": "stream",
     "text": [
      " 67%|██████▋   | 6/9 [00:00<00:00, 28.48it/s]"
     ]
    },
    {
     "name": "stdout",
     "output_type": "stream",
     "text": [
      "Step: 3, Train Loss Now: 0.5302358170350393\n",
      "Step: 4, Train Loss Now: 0.5848882272839546\n",
      "Step: 5, Train Loss Now: 0.5632948696613311\n",
      "Step: 6, Train Loss Now: 0.5753189474344254\n"
     ]
    },
    {
     "name": "stderr",
     "output_type": "stream",
     "text": [
      "100%|██████████| 9/9 [00:00<00:00, 28.17it/s]\n"
     ]
    },
    {
     "name": "stdout",
     "output_type": "stream",
     "text": [
      "Step: 7, Train Loss Now: 0.541217748607908\n",
      "Step: 8, Train Loss Now: 0.537447277456522\n",
      "Step: 9, Train Loss Now: 0.5442797508504655\n"
     ]
    },
    {
     "name": "stderr",
     "output_type": "stream",
     "text": [
      "100%|██████████| 3/3 [00:00<00:00, 92.26it/s]\n",
      "  0%|          | 0/9 [00:00<?, ?it/s]"
     ]
    },
    {
     "name": "stdout",
     "output_type": "stream",
     "text": [
      "Step: 1, Train Loss Now: 0.3690466582775116\n",
      "Step: 2, Train Loss Now: 0.42233964800834656\n",
      "Step: 3, Train Loss Now: 0.47699324289957684\n"
     ]
    },
    {
     "name": "stderr",
     "output_type": "stream",
     "text": [
      " 44%|████▍     | 4/9 [00:00<00:00, 31.84it/s]"
     ]
    },
    {
     "name": "stdout",
     "output_type": "stream",
     "text": [
      "Step: 4, Train Loss Now: 0.5327826738357544\n",
      "Step: 5, Train Loss Now: 0.5197355389595032\n",
      "Step: 6, Train Loss Now: 0.5491091807683309\n",
      "Step: 7, Train Loss Now: 0.5607901726450238\n"
     ]
    },
    {
     "name": "stderr",
     "output_type": "stream",
     "text": [
      "100%|██████████| 9/9 [00:00<00:00, 31.90it/s]\n"
     ]
    },
    {
     "name": "stdout",
     "output_type": "stream",
     "text": [
      "Step: 8, Train Loss Now: 0.5477794408798218\n",
      "Step: 9, Train Loss Now: 0.5446562700801425\n"
     ]
    },
    {
     "name": "stderr",
     "output_type": "stream",
     "text": [
      "100%|██████████| 3/3 [00:00<00:00, 58.37it/s]\n",
      " 33%|███▎      | 3/9 [00:00<00:00, 28.66it/s]"
     ]
    },
    {
     "name": "stdout",
     "output_type": "stream",
     "text": [
      "Step: 1, Train Loss Now: 0.48496684432029724\n",
      "Step: 2, Train Loss Now: 0.48812924325466156\n",
      "Step: 3, Train Loss Now: 0.5305571854114532\n"
     ]
    },
    {
     "name": "stderr",
     "output_type": "stream",
     "text": [
      " 78%|███████▊  | 7/9 [00:00<00:00, 31.65it/s]"
     ]
    },
    {
     "name": "stdout",
     "output_type": "stream",
     "text": [
      "Step: 4, Train Loss Now: 0.5493468716740608\n",
      "Step: 5, Train Loss Now: 0.5683030903339386\n",
      "Step: 6, Train Loss Now: 0.5441513359546661\n",
      "Step: 7, Train Loss Now: 0.546497106552124\n",
      "Step: 8, Train Loss Now: 0.5347381681203842\n"
     ]
    },
    {
     "name": "stderr",
     "output_type": "stream",
     "text": [
      "100%|██████████| 9/9 [00:00<00:00, 27.21it/s]\n"
     ]
    },
    {
     "name": "stdout",
     "output_type": "stream",
     "text": [
      "Step: 9, Train Loss Now: 0.5199322170681424\n"
     ]
    },
    {
     "name": "stderr",
     "output_type": "stream",
     "text": [
      "100%|██████████| 3/3 [00:00<00:00, 80.12it/s]\n",
      " 44%|████▍     | 4/9 [00:00<00:00, 34.25it/s]"
     ]
    },
    {
     "name": "stdout",
     "output_type": "stream",
     "text": [
      "Step: 1, Train Loss Now: 0.45643800497055054\n",
      "Step: 2, Train Loss Now: 0.5099310874938965\n",
      "Step: 3, Train Loss Now: 0.5188719232877096\n",
      "Step: 4, Train Loss Now: 0.4999210014939308\n",
      "Step: 5, Train Loss Now: 0.5173736870288849\n",
      "Step: 6, Train Loss Now: 0.5023114482561747\n",
      "Step: 7, Train Loss Now: 0.5258671045303345\n"
     ]
    },
    {
     "name": "stderr",
     "output_type": "stream",
     "text": [
      "100%|██████████| 9/9 [00:00<00:00, 33.75it/s]\n"
     ]
    },
    {
     "name": "stdout",
     "output_type": "stream",
     "text": [
      "Step: 8, Train Loss Now: 0.5271629169583321\n",
      "Step: 9, Train Loss Now: 0.5351284411218431\n"
     ]
    },
    {
     "name": "stderr",
     "output_type": "stream",
     "text": [
      "100%|██████████| 3/3 [00:00<00:00, 91.49it/s]\n",
      "  0%|          | 0/9 [00:00<?, ?it/s]"
     ]
    },
    {
     "name": "stdout",
     "output_type": "stream",
     "text": [
      "Step: 1, Train Loss Now: 0.5189614295959473\n",
      "Step: 2, Train Loss Now: 0.5053423345088959\n"
     ]
    },
    {
     "name": "stderr",
     "output_type": "stream",
     "text": [
      " 44%|████▍     | 4/9 [00:00<00:00, 31.70it/s]"
     ]
    },
    {
     "name": "stdout",
     "output_type": "stream",
     "text": [
      "Step: 3, Train Loss Now: 0.5403244892756144\n",
      "Step: 4, Train Loss Now: 0.5166773796081543\n",
      "Step: 5, Train Loss Now: 0.571628212928772\n",
      "Step: 6, Train Loss Now: 0.5408541063467661\n",
      "Step: 7, Train Loss Now: 0.5279178023338318\n"
     ]
    },
    {
     "name": "stderr",
     "output_type": "stream",
     "text": [
      "100%|██████████| 9/9 [00:00<00:00, 32.47it/s]"
     ]
    },
    {
     "name": "stdout",
     "output_type": "stream",
     "text": [
      "Step: 8, Train Loss Now: 0.5221485011279583\n",
      "Step: 9, Train Loss Now: 0.5414821803569794\n"
     ]
    },
    {
     "name": "stderr",
     "output_type": "stream",
     "text": [
      "\n",
      "100%|██████████| 3/3 [00:00<00:00, 74.00it/s]\n",
      "  0%|          | 0/9 [00:00<?, ?it/s]"
     ]
    },
    {
     "name": "stdout",
     "output_type": "stream",
     "text": [
      "Step: 1, Train Loss Now: 0.33235976099967957\n"
     ]
    },
    {
     "name": "stderr",
     "output_type": "stream",
     "text": [
      " 33%|███▎      | 3/9 [00:00<00:00, 28.91it/s]"
     ]
    },
    {
     "name": "stdout",
     "output_type": "stream",
     "text": [
      "Step: 2, Train Loss Now: 0.4722933918237686\n",
      "Step: 3, Train Loss Now: 0.4981197814146678\n"
     ]
    },
    {
     "name": "stderr",
     "output_type": "stream",
     "text": [
      " 78%|███████▊  | 7/9 [00:00<00:00, 32.56it/s]"
     ]
    },
    {
     "name": "stdout",
     "output_type": "stream",
     "text": [
      "Step: 4, Train Loss Now: 0.5056305602192879\n",
      "Step: 5, Train Loss Now: 0.48321853280067445\n",
      "Step: 6, Train Loss Now: 0.5001600136359533\n",
      "Step: 7, Train Loss Now: 0.5357494056224823\n",
      "Step: 8, Train Loss Now: 0.5363436602056026\n"
     ]
    },
    {
     "name": "stderr",
     "output_type": "stream",
     "text": [
      "100%|██████████| 9/9 [00:00<00:00, 27.77it/s]\n"
     ]
    },
    {
     "name": "stdout",
     "output_type": "stream",
     "text": [
      "Step: 9, Train Loss Now: 0.5483164290587107\n"
     ]
    },
    {
     "name": "stderr",
     "output_type": "stream",
     "text": [
      "100%|██████████| 3/3 [00:00<00:00, 94.27it/s]\n",
      "  0%|          | 0/9 [00:00<?, ?it/s]"
     ]
    },
    {
     "name": "stdout",
     "output_type": "stream",
     "text": [
      "Step: 1, Train Loss Now: 0.6116870045661926\n",
      "Step: 2, Train Loss Now: 0.49654221534729004\n"
     ]
    },
    {
     "name": "stderr",
     "output_type": "stream",
     "text": [
      " 44%|████▍     | 4/9 [00:00<00:00, 30.25it/s]"
     ]
    },
    {
     "name": "stdout",
     "output_type": "stream",
     "text": [
      "Step: 3, Train Loss Now: 0.5383749802907308\n",
      "Step: 4, Train Loss Now: 0.48948288708925247\n",
      "Step: 5, Train Loss Now: 0.47615585327148435\n",
      "Step: 6, Train Loss Now: 0.5449931919574738\n"
     ]
    },
    {
     "name": "stderr",
     "output_type": "stream",
     "text": [
      " 89%|████████▉ | 8/9 [00:00<00:00, 28.81it/s]"
     ]
    },
    {
     "name": "stdout",
     "output_type": "stream",
     "text": [
      "Step: 7, Train Loss Now: 0.5230366800512586\n",
      "Step: 8, Train Loss Now: 0.5053332932293415\n"
     ]
    },
    {
     "name": "stderr",
     "output_type": "stream",
     "text": [
      "100%|██████████| 9/9 [00:00<00:00, 29.44it/s]\n"
     ]
    },
    {
     "name": "stdout",
     "output_type": "stream",
     "text": [
      "Step: 9, Train Loss Now: 0.5275305807590485\n"
     ]
    },
    {
     "name": "stderr",
     "output_type": "stream",
     "text": [
      "100%|██████████| 3/3 [00:00<00:00, 86.81it/s]\n",
      "  0%|          | 0/9 [00:00<?, ?it/s]"
     ]
    },
    {
     "name": "stdout",
     "output_type": "stream",
     "text": [
      "Step: 1, Train Loss Now: 0.7169303297996521\n",
      "Step: 2, Train Loss Now: 0.5779903531074524\n",
      "Step: 3, Train Loss Now: 0.4958985547224681\n"
     ]
    },
    {
     "name": "stderr",
     "output_type": "stream",
     "text": [
      " 44%|████▍     | 4/9 [00:00<00:00, 31.37it/s]"
     ]
    },
    {
     "name": "stdout",
     "output_type": "stream",
     "text": [
      "Step: 4, Train Loss Now: 0.5127637162804604\n",
      "Step: 5, Train Loss Now: 0.5393680036067963\n",
      "Step: 6, Train Loss Now: 0.5563462426265081\n",
      "Step: 7, Train Loss Now: 0.5328329886708941\n"
     ]
    },
    {
     "name": "stderr",
     "output_type": "stream",
     "text": [
      "100%|██████████| 9/9 [00:00<00:00, 30.27it/s]\n"
     ]
    },
    {
     "name": "stdout",
     "output_type": "stream",
     "text": [
      "Step: 8, Train Loss Now: 0.5390236750245094\n",
      "Step: 9, Train Loss Now: 0.5310462150308821\n"
     ]
    },
    {
     "name": "stderr",
     "output_type": "stream",
     "text": [
      "100%|██████████| 3/3 [00:00<00:00, 38.14it/s]\n",
      "  0%|          | 0/9 [00:00<?, ?it/s]"
     ]
    },
    {
     "name": "stdout",
     "output_type": "stream",
     "text": [
      "Step: 1, Train Loss Now: 0.3133031129837036\n",
      "Step: 2, Train Loss Now: 0.3963374197483063\n"
     ]
    },
    {
     "name": "stderr",
     "output_type": "stream",
     "text": [
      " 44%|████▍     | 4/9 [00:00<00:00, 30.93it/s]"
     ]
    },
    {
     "name": "stdout",
     "output_type": "stream",
     "text": [
      "Step: 3, Train Loss Now: 0.4339783787727356\n",
      "Step: 4, Train Loss Now: 0.43059413880109787\n",
      "Step: 5, Train Loss Now: 0.44086472392082215\n",
      "Step: 6, Train Loss Now: 0.5040641377369562\n"
     ]
    },
    {
     "name": "stderr",
     "output_type": "stream",
     "text": [
      "100%|██████████| 9/9 [00:00<00:00, 31.47it/s]"
     ]
    },
    {
     "name": "stdout",
     "output_type": "stream",
     "text": [
      "Step: 7, Train Loss Now: 0.5019455552101135\n",
      "Step: 8, Train Loss Now: 0.5036629661917686\n",
      "Step: 9, Train Loss Now: 0.5141943295796713\n"
     ]
    },
    {
     "name": "stderr",
     "output_type": "stream",
     "text": [
      "\n",
      "100%|██████████| 3/3 [00:00<00:00, 80.48it/s]\n",
      " 44%|████▍     | 4/9 [00:00<00:00, 38.05it/s]"
     ]
    },
    {
     "name": "stdout",
     "output_type": "stream",
     "text": [
      "Step: 1, Train Loss Now: 0.4037703573703766\n",
      "Step: 2, Train Loss Now: 0.460309162735939\n",
      "Step: 3, Train Loss Now: 0.5179403523604075\n",
      "Step: 4, Train Loss Now: 0.5264887139201164\n"
     ]
    },
    {
     "name": "stderr",
     "output_type": "stream",
     "text": [
      " 89%|████████▉ | 8/9 [00:00<00:00, 35.79it/s]"
     ]
    },
    {
     "name": "stdout",
     "output_type": "stream",
     "text": [
      "Step: 5, Train Loss Now: 0.5692869603633881\n",
      "Step: 6, Train Loss Now: 0.5391552398602167\n",
      "Step: 7, Train Loss Now: 0.5282856098243168\n",
      "Step: 8, Train Loss Now: 0.5243102349340916\n"
     ]
    },
    {
     "name": "stderr",
     "output_type": "stream",
     "text": [
      "100%|██████████| 9/9 [00:00<00:00, 34.92it/s]\n"
     ]
    },
    {
     "name": "stdout",
     "output_type": "stream",
     "text": [
      "Step: 9, Train Loss Now: 0.5060339702500237\n"
     ]
    },
    {
     "name": "stderr",
     "output_type": "stream",
     "text": [
      "100%|██████████| 3/3 [00:00<00:00, 88.35it/s]\n",
      "  0%|          | 0/9 [00:00<?, ?it/s]"
     ]
    },
    {
     "name": "stdout",
     "output_type": "stream",
     "text": [
      "Step: 1, Train Loss Now: 0.5205438137054443\n"
     ]
    },
    {
     "name": "stderr",
     "output_type": "stream",
     "text": [
      " 44%|████▍     | 4/9 [00:00<00:00, 29.02it/s]"
     ]
    },
    {
     "name": "stdout",
     "output_type": "stream",
     "text": [
      "Step: 2, Train Loss Now: 0.5690555274486542\n",
      "Step: 3, Train Loss Now: 0.5949569741884867\n",
      "Step: 4, Train Loss Now: 0.5194617211818695\n",
      "Step: 5, Train Loss Now: 0.5269730567932129\n",
      "Step: 6, Train Loss Now: 0.5236201484998068\n"
     ]
    },
    {
     "name": "stderr",
     "output_type": "stream",
     "text": [
      "100%|██████████| 9/9 [00:00<00:00, 25.03it/s]"
     ]
    },
    {
     "name": "stdout",
     "output_type": "stream",
     "text": [
      "Step: 7, Train Loss Now: 0.5309100576809475\n",
      "Step: 8, Train Loss Now: 0.5401096269488335\n",
      "Step: 9, Train Loss Now: 0.53448776072926\n"
     ]
    },
    {
     "name": "stderr",
     "output_type": "stream",
     "text": [
      "\n",
      "100%|██████████| 3/3 [00:00<00:00, 80.21it/s]\n",
      "  0%|          | 0/9 [00:00<?, ?it/s]"
     ]
    },
    {
     "name": "stdout",
     "output_type": "stream",
     "text": [
      "Step: 1, Train Loss Now: 0.641022801399231\n",
      "Step: 2, Train Loss Now: 0.5431823581457138\n"
     ]
    },
    {
     "name": "stderr",
     "output_type": "stream",
     "text": [
      " 78%|███████▊  | 7/9 [00:00<00:00, 31.41it/s]"
     ]
    },
    {
     "name": "stdout",
     "output_type": "stream",
     "text": [
      "Step: 3, Train Loss Now: 0.5306203464667002\n",
      "Step: 4, Train Loss Now: 0.5192007198929787\n",
      "Step: 5, Train Loss Now: 0.5119213461875916\n",
      "Step: 6, Train Loss Now: 0.5241047044595083\n",
      "Step: 7, Train Loss Now: 0.5315769059317452\n",
      "Step: 8, Train Loss Now: 0.5291116908192635\n"
     ]
    },
    {
     "name": "stderr",
     "output_type": "stream",
     "text": [
      "100%|██████████| 9/9 [00:00<00:00, 30.74it/s]\n"
     ]
    },
    {
     "name": "stdout",
     "output_type": "stream",
     "text": [
      "Step: 9, Train Loss Now: 0.5467702150344849\n"
     ]
    },
    {
     "name": "stderr",
     "output_type": "stream",
     "text": [
      "100%|██████████| 3/3 [00:00<00:00, 70.40it/s]\n",
      " 44%|████▍     | 4/9 [00:00<00:00, 32.41it/s]"
     ]
    },
    {
     "name": "stdout",
     "output_type": "stream",
     "text": [
      "Step: 1, Train Loss Now: 0.5292226672172546\n",
      "Step: 2, Train Loss Now: 0.6045853197574615\n",
      "Step: 3, Train Loss Now: 0.6511139273643494\n",
      "Step: 4, Train Loss Now: 0.6237428486347198\n",
      "Step: 5, Train Loss Now: 0.5661805033683777\n",
      "Step: 6, Train Loss Now: 0.5591014623641968\n",
      "Step: 7, Train Loss Now: 0.5553025347845895\n"
     ]
    },
    {
     "name": "stderr",
     "output_type": "stream",
     "text": [
      "100%|██████████| 9/9 [00:00<00:00, 31.55it/s]\n"
     ]
    },
    {
     "name": "stdout",
     "output_type": "stream",
     "text": [
      "Step: 8, Train Loss Now: 0.5281167514622211\n",
      "Step: 9, Train Loss Now: 0.5144451061884562\n"
     ]
    },
    {
     "name": "stderr",
     "output_type": "stream",
     "text": [
      "100%|██████████| 3/3 [00:00<00:00, 36.03it/s]\n",
      "  0%|          | 0/9 [00:00<?, ?it/s]"
     ]
    },
    {
     "name": "stdout",
     "output_type": "stream",
     "text": [
      "Step: 1, Train Loss Now: 0.6038923263549805\n",
      "Step: 2, Train Loss Now: 0.5664956569671631\n"
     ]
    },
    {
     "name": "stderr",
     "output_type": "stream",
     "text": [
      " 44%|████▍     | 4/9 [00:00<00:00, 30.69it/s]"
     ]
    },
    {
     "name": "stdout",
     "output_type": "stream",
     "text": [
      "Step: 3, Train Loss Now: 0.5590186913808187\n",
      "Step: 4, Train Loss Now: 0.5156543478369713\n",
      "Step: 5, Train Loss Now: 0.48458253741264345\n",
      "Step: 6, Train Loss Now: 0.48766550918420154\n",
      "Step: 7, Train Loss Now: 0.4797294225011553\n"
     ]
    },
    {
     "name": "stderr",
     "output_type": "stream",
     "text": [
      "100%|██████████| 9/9 [00:00<00:00, 31.06it/s]"
     ]
    },
    {
     "name": "stdout",
     "output_type": "stream",
     "text": [
      "Step: 8, Train Loss Now: 0.5362396985292435\n",
      "Step: 9, Train Loss Now: 0.552062193552653\n"
     ]
    },
    {
     "name": "stderr",
     "output_type": "stream",
     "text": [
      "\n",
      "100%|██████████| 3/3 [00:00<00:00, 76.81it/s]\n",
      "  0%|          | 0/9 [00:00<?, ?it/s]"
     ]
    },
    {
     "name": "stdout",
     "output_type": "stream",
     "text": [
      "Step: 1, Train Loss Now: 0.4565773010253906\n",
      "Step: 2, Train Loss Now: 0.478434681892395\n",
      "Step: 3, Train Loss Now: 0.527272363503774\n"
     ]
    },
    {
     "name": "stderr",
     "output_type": "stream",
     "text": [
      " 44%|████▍     | 4/9 [00:00<00:00, 30.97it/s]"
     ]
    },
    {
     "name": "stdout",
     "output_type": "stream",
     "text": [
      "Step: 4, Train Loss Now: 0.5523681938648224\n",
      "Step: 5, Train Loss Now: 0.5417369842529297\n",
      "Step: 6, Train Loss Now: 0.5290681074062983\n",
      "Step: 7, Train Loss Now: 0.5214035936764309\n"
     ]
    },
    {
     "name": "stderr",
     "output_type": "stream",
     "text": [
      "100%|██████████| 9/9 [00:00<00:00, 29.62it/s]\n"
     ]
    },
    {
     "name": "stdout",
     "output_type": "stream",
     "text": [
      "Step: 8, Train Loss Now: 0.5341962203383446\n",
      "Step: 9, Train Loss Now: 0.5171094636122385\n"
     ]
    },
    {
     "name": "stderr",
     "output_type": "stream",
     "text": [
      "100%|██████████| 3/3 [00:00<00:00, 67.68it/s]\n",
      "  0%|          | 0/9 [00:00<?, ?it/s]"
     ]
    },
    {
     "name": "stdout",
     "output_type": "stream",
     "text": [
      "Step: 1, Train Loss Now: 0.3160121440887451\n",
      "Step: 2, Train Loss Now: 0.3363201767206192\n",
      "Step: 3, Train Loss Now: 0.3661017119884491\n"
     ]
    },
    {
     "name": "stderr",
     "output_type": "stream",
     "text": [
      " 44%|████▍     | 4/9 [00:00<00:00, 34.71it/s]"
     ]
    },
    {
     "name": "stdout",
     "output_type": "stream",
     "text": [
      "Step: 4, Train Loss Now: 0.4497654512524605\n",
      "Step: 5, Train Loss Now: 0.49785794615745543\n",
      "Step: 6, Train Loss Now: 0.5380547891060511\n"
     ]
    },
    {
     "name": "stderr",
     "output_type": "stream",
     "text": [
      " 89%|████████▉ | 8/9 [00:00<00:00, 26.14it/s]"
     ]
    },
    {
     "name": "stdout",
     "output_type": "stream",
     "text": [
      "Step: 7, Train Loss Now: 0.5365514627524784\n",
      "Step: 8, Train Loss Now: 0.5342012457549572\n"
     ]
    },
    {
     "name": "stderr",
     "output_type": "stream",
     "text": [
      "100%|██████████| 9/9 [00:00<00:00, 27.72it/s]\n"
     ]
    },
    {
     "name": "stdout",
     "output_type": "stream",
     "text": [
      "Step: 9, Train Loss Now: 0.5393985344303979\n"
     ]
    },
    {
     "name": "stderr",
     "output_type": "stream",
     "text": [
      "100%|██████████| 3/3 [00:00<00:00, 80.58it/s]\n",
      "  0%|          | 0/9 [00:00<?, ?it/s]"
     ]
    },
    {
     "name": "stdout",
     "output_type": "stream",
     "text": [
      "Step: 1, Train Loss Now: 0.4843813478946686\n",
      "Step: 2, Train Loss Now: 0.5419930070638657\n"
     ]
    },
    {
     "name": "stderr",
     "output_type": "stream",
     "text": [
      " 33%|███▎      | 3/9 [00:00<00:00, 25.44it/s]"
     ]
    },
    {
     "name": "stdout",
     "output_type": "stream",
     "text": [
      "Step: 3, Train Loss Now: 0.5070337156454722\n",
      "Step: 4, Train Loss Now: 0.5263068452477455\n"
     ]
    },
    {
     "name": "stderr",
     "output_type": "stream",
     "text": [
      " 67%|██████▋   | 6/9 [00:00<00:00, 26.24it/s]"
     ]
    },
    {
     "name": "stdout",
     "output_type": "stream",
     "text": [
      "Step: 5, Train Loss Now: 0.4846601724624634\n",
      "Step: 6, Train Loss Now: 0.494147668282191\n",
      "Step: 7, Train Loss Now: 0.5306072405406407\n",
      "Step: 8, Train Loss Now: 0.5244487300515175\n"
     ]
    },
    {
     "name": "stderr",
     "output_type": "stream",
     "text": [
      "100%|██████████| 9/9 [00:00<00:00, 28.52it/s]\n"
     ]
    },
    {
     "name": "stdout",
     "output_type": "stream",
     "text": [
      "Step: 9, Train Loss Now: 0.5196577144993676\n"
     ]
    },
    {
     "name": "stderr",
     "output_type": "stream",
     "text": [
      "100%|██████████| 3/3 [00:00<00:00, 65.04it/s]\n",
      "  0%|          | 0/9 [00:00<?, ?it/s]"
     ]
    },
    {
     "name": "stdout",
     "output_type": "stream",
     "text": [
      "Step: 1, Train Loss Now: 0.6169458031654358\n",
      "Step: 2, Train Loss Now: 0.5524005442857742\n",
      "Step: 3, Train Loss Now: 0.4963410000006358\n"
     ]
    },
    {
     "name": "stderr",
     "output_type": "stream",
     "text": [
      " 44%|████▍     | 4/9 [00:00<00:00, 33.70it/s]"
     ]
    },
    {
     "name": "stdout",
     "output_type": "stream",
     "text": [
      "Step: 4, Train Loss Now: 0.5418534949421883\n",
      "Step: 5, Train Loss Now: 0.5591586530208588\n",
      "Step: 6, Train Loss Now: 0.5354057351748148\n"
     ]
    },
    {
     "name": "stderr",
     "output_type": "stream",
     "text": [
      " 89%|████████▉ | 8/9 [00:00<00:00, 25.64it/s]"
     ]
    },
    {
     "name": "stdout",
     "output_type": "stream",
     "text": [
      "Step: 7, Train Loss Now: 0.5096690910203117\n",
      "Step: 8, Train Loss Now: 0.5231444910168648\n"
     ]
    },
    {
     "name": "stderr",
     "output_type": "stream",
     "text": [
      "100%|██████████| 9/9 [00:00<00:00, 26.37it/s]\n"
     ]
    },
    {
     "name": "stdout",
     "output_type": "stream",
     "text": [
      "Step: 9, Train Loss Now: 0.5309921039475335\n"
     ]
    },
    {
     "name": "stderr",
     "output_type": "stream",
     "text": [
      "100%|██████████| 3/3 [00:00<00:00, 73.09it/s]\n",
      "  0%|          | 0/9 [00:00<?, ?it/s]"
     ]
    },
    {
     "name": "stdout",
     "output_type": "stream",
     "text": [
      "Step: 1, Train Loss Now: 0.3298681378364563\n",
      "Step: 2, Train Loss Now: 0.4133037030696869\n",
      "Step: 3, Train Loss Now: 0.4672927260398865\n"
     ]
    },
    {
     "name": "stderr",
     "output_type": "stream",
     "text": [
      " 44%|████▍     | 4/9 [00:00<00:00, 29.98it/s]"
     ]
    },
    {
     "name": "stdout",
     "output_type": "stream",
     "text": [
      "Step: 4, Train Loss Now: 0.4500834345817566\n",
      "Step: 5, Train Loss Now: 0.4884091019630432\n",
      "Step: 6, Train Loss Now: 0.46087487041950226\n",
      "Step: 7, Train Loss Now: 0.4785571651799338\n"
     ]
    },
    {
     "name": "stderr",
     "output_type": "stream",
     "text": [
      "100%|██████████| 9/9 [00:00<00:00, 29.54it/s]\n"
     ]
    },
    {
     "name": "stdout",
     "output_type": "stream",
     "text": [
      "Step: 8, Train Loss Now: 0.50703901425004\n",
      "Step: 9, Train Loss Now: 0.5176048311922286\n"
     ]
    },
    {
     "name": "stderr",
     "output_type": "stream",
     "text": [
      "100%|██████████| 3/3 [00:00<00:00, 68.26it/s]\n",
      "  0%|          | 0/9 [00:00<?, ?it/s]"
     ]
    },
    {
     "name": "stdout",
     "output_type": "stream",
     "text": [
      "Step: 1, Train Loss Now: 0.37197569012641907\n",
      "Step: 2, Train Loss Now: 0.530228927731514\n"
     ]
    },
    {
     "name": "stderr",
     "output_type": "stream",
     "text": [
      " 33%|███▎      | 3/9 [00:00<00:00, 24.89it/s]"
     ]
    },
    {
     "name": "stdout",
     "output_type": "stream",
     "text": [
      "Step: 3, Train Loss Now: 0.4955624043941498\n",
      "Step: 4, Train Loss Now: 0.4585171863436699\n",
      "Step: 5, Train Loss Now: 0.49968143105506896\n",
      "Step: 6, Train Loss Now: 0.4634742538134257\n"
     ]
    },
    {
     "name": "stderr",
     "output_type": "stream",
     "text": [
      " 78%|███████▊  | 7/9 [00:00<00:00, 28.94it/s]"
     ]
    },
    {
     "name": "stdout",
     "output_type": "stream",
     "text": [
      "Step: 7, Train Loss Now: 0.45109199626105173\n",
      "Step: 8, Train Loss Now: 0.47627823054790497\n"
     ]
    },
    {
     "name": "stderr",
     "output_type": "stream",
     "text": [
      "100%|██████████| 9/9 [00:00<00:00, 24.39it/s]\n"
     ]
    },
    {
     "name": "stdout",
     "output_type": "stream",
     "text": [
      "Step: 9, Train Loss Now: 0.5070725679397583\n"
     ]
    },
    {
     "name": "stderr",
     "output_type": "stream",
     "text": [
      "100%|██████████| 3/3 [00:00<00:00, 88.50it/s]\n",
      "  0%|          | 0/9 [00:00<?, ?it/s]"
     ]
    },
    {
     "name": "stdout",
     "output_type": "stream",
     "text": [
      "Step: 1, Train Loss Now: 0.6491779088973999\n",
      "Step: 2, Train Loss Now: 0.6598687469959259\n"
     ]
    },
    {
     "name": "stderr",
     "output_type": "stream",
     "text": [
      " 33%|███▎      | 3/9 [00:00<00:00, 27.60it/s]"
     ]
    },
    {
     "name": "stdout",
     "output_type": "stream",
     "text": [
      "Step: 3, Train Loss Now: 0.6873220403989156\n"
     ]
    },
    {
     "name": "stderr",
     "output_type": "stream",
     "text": [
      " 67%|██████▋   | 6/9 [00:00<00:00, 25.74it/s]"
     ]
    },
    {
     "name": "stdout",
     "output_type": "stream",
     "text": [
      "Step: 4, Train Loss Now: 0.5773057863116264\n",
      "Step: 5, Train Loss Now: 0.5879301965236664\n",
      "Step: 6, Train Loss Now: 0.5604275017976761\n",
      "Step: 7, Train Loss Now: 0.5318430960178375\n",
      "Step: 8, Train Loss Now: 0.5223810374736786\n"
     ]
    },
    {
     "name": "stderr",
     "output_type": "stream",
     "text": [
      "100%|██████████| 9/9 [00:00<00:00, 27.84it/s]\n"
     ]
    },
    {
     "name": "stdout",
     "output_type": "stream",
     "text": [
      "Step: 9, Train Loss Now: 0.5363893508911133\n"
     ]
    },
    {
     "name": "stderr",
     "output_type": "stream",
     "text": [
      "100%|██████████| 3/3 [00:00<00:00, 66.00it/s]\n",
      "  0%|          | 0/9 [00:00<?, ?it/s]"
     ]
    },
    {
     "name": "stdout",
     "output_type": "stream",
     "text": [
      "Step: 1, Train Loss Now: 0.5564455986022949\n",
      "Step: 2, Train Loss Now: 0.532976895570755\n",
      "Step: 3, Train Loss Now: 0.5289695858955383\n"
     ]
    },
    {
     "name": "stderr",
     "output_type": "stream",
     "text": [
      " 44%|████▍     | 4/9 [00:00<00:00, 34.35it/s]"
     ]
    },
    {
     "name": "stdout",
     "output_type": "stream",
     "text": [
      "Step: 4, Train Loss Now: 0.4997498095035553\n",
      "Step: 5, Train Loss Now: 0.5107054710388184\n",
      "Step: 6, Train Loss Now: 0.5002374847730001\n"
     ]
    },
    {
     "name": "stderr",
     "output_type": "stream",
     "text": [
      " 89%|████████▉ | 8/9 [00:00<00:00, 24.38it/s]"
     ]
    },
    {
     "name": "stdout",
     "output_type": "stream",
     "text": [
      "Step: 7, Train Loss Now: 0.48846329961504253\n",
      "Step: 8, Train Loss Now: 0.4926188886165619\n",
      "Step: 9, Train Loss Now: 0.5356326831711663\n"
     ]
    },
    {
     "name": "stderr",
     "output_type": "stream",
     "text": [
      "100%|██████████| 9/9 [00:00<00:00, 25.44it/s]\n",
      "100%|██████████| 3/3 [00:00<00:00, 80.57it/s]\n",
      "  0%|          | 0/9 [00:00<?, ?it/s]"
     ]
    },
    {
     "name": "stdout",
     "output_type": "stream",
     "text": [
      "Step: 1, Train Loss Now: 0.4007143974304199\n",
      "Step: 2, Train Loss Now: 0.4032082259654999\n"
     ]
    },
    {
     "name": "stderr",
     "output_type": "stream",
     "text": [
      " 44%|████▍     | 4/9 [00:00<00:00, 29.87it/s]"
     ]
    },
    {
     "name": "stdout",
     "output_type": "stream",
     "text": [
      "Step: 3, Train Loss Now: 0.4633193016052246\n",
      "Step: 4, Train Loss Now: 0.49620766937732697\n",
      "Step: 5, Train Loss Now: 0.5514548420906067\n",
      "Step: 6, Train Loss Now: 0.5406922896703085\n"
     ]
    },
    {
     "name": "stderr",
     "output_type": "stream",
     "text": [
      " 78%|███████▊  | 7/9 [00:00<00:00, 27.80it/s]"
     ]
    },
    {
     "name": "stdout",
     "output_type": "stream",
     "text": [
      "Step: 7, Train Loss Now: 0.5312402120658329\n",
      "Step: 8, Train Loss Now: 0.5279883854091167\n"
     ]
    },
    {
     "name": "stderr",
     "output_type": "stream",
     "text": [
      "100%|██████████| 9/9 [00:00<00:00, 28.39it/s]\n"
     ]
    },
    {
     "name": "stdout",
     "output_type": "stream",
     "text": [
      "Step: 9, Train Loss Now: 0.5138962467511495\n"
     ]
    },
    {
     "name": "stderr",
     "output_type": "stream",
     "text": [
      "100%|██████████| 3/3 [00:00<00:00, 70.32it/s]\n",
      "  0%|          | 0/9 [00:00<?, ?it/s]"
     ]
    },
    {
     "name": "stdout",
     "output_type": "stream",
     "text": [
      "Step: 1, Train Loss Now: 0.4946116805076599\n",
      "Step: 2, Train Loss Now: 0.5544012784957886\n"
     ]
    },
    {
     "name": "stderr",
     "output_type": "stream",
     "text": [
      " 33%|███▎      | 3/9 [00:00<00:00, 27.39it/s]"
     ]
    },
    {
     "name": "stdout",
     "output_type": "stream",
     "text": [
      "Step: 3, Train Loss Now: 0.5765774846076965\n",
      "Step: 4, Train Loss Now: 0.5406583994626999\n"
     ]
    },
    {
     "name": "stderr",
     "output_type": "stream",
     "text": [
      " 67%|██████▋   | 6/9 [00:00<00:00, 28.38it/s]"
     ]
    },
    {
     "name": "stdout",
     "output_type": "stream",
     "text": [
      "Step: 5, Train Loss Now: 0.566594910621643\n",
      "Step: 6, Train Loss Now: 0.5753317375977834\n",
      "Step: 7, Train Loss Now: 0.5538131850106376\n"
     ]
    },
    {
     "name": "stderr",
     "output_type": "stream",
     "text": [
      "100%|██████████| 9/9 [00:00<00:00, 24.91it/s]"
     ]
    },
    {
     "name": "stdout",
     "output_type": "stream",
     "text": [
      "Step: 8, Train Loss Now: 0.5272941365838051\n",
      "Step: 9, Train Loss Now: 0.5258214871088663\n"
     ]
    },
    {
     "name": "stderr",
     "output_type": "stream",
     "text": [
      "100%|██████████| 9/9 [00:00<00:00, 25.67it/s]\n",
      "100%|██████████| 3/3 [00:00<00:00, 74.39it/s]\n",
      "  0%|          | 0/9 [00:00<?, ?it/s]"
     ]
    },
    {
     "name": "stdout",
     "output_type": "stream",
     "text": [
      "Step: 1, Train Loss Now: 0.44261613488197327\n",
      "Step: 2, Train Loss Now: 0.46216706931591034\n",
      "Step: 3, Train Loss Now: 0.4286435743172963\n"
     ]
    },
    {
     "name": "stderr",
     "output_type": "stream",
     "text": [
      " 44%|████▍     | 4/9 [00:00<00:00, 31.86it/s]"
     ]
    },
    {
     "name": "stdout",
     "output_type": "stream",
     "text": [
      "Step: 4, Train Loss Now: 0.4641818180680275\n",
      "Step: 5, Train Loss Now: 0.4640002191066742\n",
      "Step: 6, Train Loss Now: 0.5087568710247675\n"
     ]
    },
    {
     "name": "stderr",
     "output_type": "stream",
     "text": [
      "100%|██████████| 9/9 [00:00<00:00, 30.79it/s]\n"
     ]
    },
    {
     "name": "stdout",
     "output_type": "stream",
     "text": [
      "Step: 7, Train Loss Now: 0.5198642568928855\n",
      "Step: 8, Train Loss Now: 0.5197123624384403\n",
      "Step: 9, Train Loss Now: 0.5083946254518297\n"
     ]
    },
    {
     "name": "stderr",
     "output_type": "stream",
     "text": [
      "100%|██████████| 3/3 [00:00<00:00, 78.84it/s]\n",
      "  0%|          | 0/9 [00:00<?, ?it/s]"
     ]
    },
    {
     "name": "stdout",
     "output_type": "stream",
     "text": [
      "Step: 1, Train Loss Now: 0.35215961933135986\n",
      "Step: 2, Train Loss Now: 0.5399816036224365\n"
     ]
    },
    {
     "name": "stderr",
     "output_type": "stream",
     "text": [
      " 33%|███▎      | 3/9 [00:00<00:00, 28.18it/s]"
     ]
    },
    {
     "name": "stdout",
     "output_type": "stream",
     "text": [
      "Step: 3, Train Loss Now: 0.5275856455167135\n",
      "Step: 4, Train Loss Now: 0.5424842536449432\n",
      "Step: 5, Train Loss Now: 0.5401175379753113\n",
      "Step: 6, Train Loss Now: 0.5150097360213598\n"
     ]
    },
    {
     "name": "stderr",
     "output_type": "stream",
     "text": [
      "100%|██████████| 9/9 [00:00<00:00, 30.75it/s]"
     ]
    },
    {
     "name": "stdout",
     "output_type": "stream",
     "text": [
      "Step: 7, Train Loss Now: 0.5047150041375842\n",
      "Step: 8, Train Loss Now: 0.5103294588625431\n",
      "Step: 9, Train Loss Now: 0.5177128679222531\n"
     ]
    },
    {
     "name": "stderr",
     "output_type": "stream",
     "text": [
      "\n",
      "100%|██████████| 3/3 [00:00<00:00, 95.05it/s]\n",
      "  0%|          | 0/9 [00:00<?, ?it/s]"
     ]
    },
    {
     "name": "stdout",
     "output_type": "stream",
     "text": [
      "Step: 1, Train Loss Now: 0.6091411709785461\n",
      "Step: 2, Train Loss Now: 0.6337663233280182\n"
     ]
    },
    {
     "name": "stderr",
     "output_type": "stream",
     "text": [
      " 44%|████▍     | 4/9 [00:00<00:00, 32.75it/s]"
     ]
    },
    {
     "name": "stdout",
     "output_type": "stream",
     "text": [
      "Step: 3, Train Loss Now: 0.5736701190471649\n",
      "Step: 4, Train Loss Now: 0.5339249446988106\n",
      "Step: 5, Train Loss Now: 0.5072980582714081\n",
      "Step: 6, Train Loss Now: 0.5159221639235815\n",
      "Step: 7, Train Loss Now: 0.4920805735247476\n"
     ]
    },
    {
     "name": "stderr",
     "output_type": "stream",
     "text": [
      "100%|██████████| 9/9 [00:00<00:00, 25.94it/s]\n"
     ]
    },
    {
     "name": "stdout",
     "output_type": "stream",
     "text": [
      "Step: 8, Train Loss Now: 0.5063456706702709\n",
      "Step: 9, Train Loss Now: 0.536336749792099\n"
     ]
    },
    {
     "name": "stderr",
     "output_type": "stream",
     "text": [
      "100%|██████████| 3/3 [00:00<00:00, 80.86it/s]\n",
      "  0%|          | 0/9 [00:00<?, ?it/s]"
     ]
    },
    {
     "name": "stdout",
     "output_type": "stream",
     "text": [
      "Step: 1, Train Loss Now: 0.6311202645301819\n",
      "Step: 2, Train Loss Now: 0.6244380176067352\n"
     ]
    },
    {
     "name": "stderr",
     "output_type": "stream",
     "text": [
      " 78%|███████▊  | 7/9 [00:00<00:00, 29.21it/s]"
     ]
    },
    {
     "name": "stdout",
     "output_type": "stream",
     "text": [
      "Step: 3, Train Loss Now: 0.5599254469076792\n",
      "Step: 4, Train Loss Now: 0.5259679779410362\n",
      "Step: 5, Train Loss Now: 0.523065572977066\n",
      "Step: 6, Train Loss Now: 0.5416058053572973\n",
      "Step: 7, Train Loss Now: 0.5469824544021061\n",
      "Step: 8, Train Loss Now: 0.5431492291390896\n"
     ]
    },
    {
     "name": "stderr",
     "output_type": "stream",
     "text": [
      "100%|██████████| 9/9 [00:00<00:00, 28.09it/s]\n"
     ]
    },
    {
     "name": "stdout",
     "output_type": "stream",
     "text": [
      "Step: 9, Train Loss Now: 0.5248497890101539\n"
     ]
    },
    {
     "name": "stderr",
     "output_type": "stream",
     "text": [
      "100%|██████████| 3/3 [00:00<00:00, 76.02it/s]\n",
      " 44%|████▍     | 4/9 [00:00<00:00, 33.59it/s]"
     ]
    },
    {
     "name": "stdout",
     "output_type": "stream",
     "text": [
      "Step: 1, Train Loss Now: 0.5144848227500916\n",
      "Step: 2, Train Loss Now: 0.46655771136283875\n",
      "Step: 3, Train Loss Now: 0.4647080600261688\n",
      "Step: 4, Train Loss Now: 0.49873799830675125\n",
      "Step: 5, Train Loss Now: 0.45864240527153016\n"
     ]
    },
    {
     "name": "stderr",
     "output_type": "stream",
     "text": [
      "100%|██████████| 9/9 [00:00<00:00, 27.41it/s]\n"
     ]
    },
    {
     "name": "stdout",
     "output_type": "stream",
     "text": [
      "Step: 6, Train Loss Now: 0.4819936801989873\n",
      "Step: 7, Train Loss Now: 0.5232335371630532\n",
      "Step: 8, Train Loss Now: 0.520735751837492\n",
      "Step: 9, Train Loss Now: 0.5300556388166215\n"
     ]
    },
    {
     "name": "stderr",
     "output_type": "stream",
     "text": [
      "100%|██████████| 3/3 [00:00<00:00, 101.06it/s]\n",
      "  0%|          | 0/9 [00:00<?, ?it/s]"
     ]
    },
    {
     "name": "stdout",
     "output_type": "stream",
     "text": [
      "Step: 1, Train Loss Now: 0.5227536559104919\n",
      "Step: 2, Train Loss Now: 0.5852467119693756\n"
     ]
    },
    {
     "name": "stderr",
     "output_type": "stream",
     "text": [
      " 44%|████▍     | 4/9 [00:00<00:00, 32.55it/s]"
     ]
    },
    {
     "name": "stdout",
     "output_type": "stream",
     "text": [
      "Step: 3, Train Loss Now: 0.5551487902800242\n",
      "Step: 4, Train Loss Now: 0.5273803621530533\n",
      "Step: 5, Train Loss Now: 0.5396040081977844\n",
      "Step: 6, Train Loss Now: 0.5201506167650223\n"
     ]
    },
    {
     "name": "stderr",
     "output_type": "stream",
     "text": [
      " 89%|████████▉ | 8/9 [00:00<00:00, 29.88it/s]"
     ]
    },
    {
     "name": "stdout",
     "output_type": "stream",
     "text": [
      "Step: 7, Train Loss Now: 0.5084130338260106\n",
      "Step: 8, Train Loss Now: 0.5182674452662468\n"
     ]
    },
    {
     "name": "stderr",
     "output_type": "stream",
     "text": [
      "100%|██████████| 9/9 [00:00<00:00, 29.17it/s]\n"
     ]
    },
    {
     "name": "stdout",
     "output_type": "stream",
     "text": [
      "Step: 9, Train Loss Now: 0.5104431410630544\n"
     ]
    },
    {
     "name": "stderr",
     "output_type": "stream",
     "text": [
      "100%|██████████| 3/3 [00:00<00:00, 78.89it/s]\n",
      "  0%|          | 0/9 [00:00<?, ?it/s]"
     ]
    },
    {
     "name": "stdout",
     "output_type": "stream",
     "text": [
      "Step: 1, Train Loss Now: 0.2978733479976654\n",
      "Step: 2, Train Loss Now: 0.48708878457546234\n"
     ]
    },
    {
     "name": "stderr",
     "output_type": "stream",
     "text": [
      " 44%|████▍     | 4/9 [00:00<00:00, 31.90it/s]"
     ]
    },
    {
     "name": "stdout",
     "output_type": "stream",
     "text": [
      "Step: 3, Train Loss Now: 0.49359481533368427\n",
      "Step: 4, Train Loss Now: 0.5207705125212669\n",
      "Step: 5, Train Loss Now: 0.5004036784172058\n",
      "Step: 6, Train Loss Now: 0.48415787021319073\n",
      "Step: 7, Train Loss Now: 0.4747850511755262\n"
     ]
    },
    {
     "name": "stderr",
     "output_type": "stream",
     "text": [
      "100%|██████████| 9/9 [00:00<00:00, 26.23it/s]"
     ]
    },
    {
     "name": "stdout",
     "output_type": "stream",
     "text": [
      "Step: 8, Train Loss Now: 0.5131222195923328\n",
      "Step: 9, Train Loss Now: 0.5173488093747033\n"
     ]
    },
    {
     "name": "stderr",
     "output_type": "stream",
     "text": [
      "\n",
      "100%|██████████| 3/3 [00:00<00:00, 88.89it/s]\n",
      "  0%|          | 0/9 [00:00<?, ?it/s]"
     ]
    },
    {
     "name": "stdout",
     "output_type": "stream",
     "text": [
      "Step: 1, Train Loss Now: 0.564526379108429\n",
      "Step: 2, Train Loss Now: 0.64932781457901\n"
     ]
    },
    {
     "name": "stderr",
     "output_type": "stream",
     "text": [
      " 44%|████▍     | 4/9 [00:00<00:00, 29.49it/s]"
     ]
    },
    {
     "name": "stdout",
     "output_type": "stream",
     "text": [
      "Step: 3, Train Loss Now: 0.5721778273582458\n",
      "Step: 4, Train Loss Now: 0.5790481567382812\n",
      "Step: 5, Train Loss Now: 0.5572292029857635\n",
      "Step: 6, Train Loss Now: 0.5714845607678095\n"
     ]
    },
    {
     "name": "stderr",
     "output_type": "stream",
     "text": [
      "100%|██████████| 9/9 [00:00<00:00, 30.79it/s]"
     ]
    },
    {
     "name": "stdout",
     "output_type": "stream",
     "text": [
      "Step: 7, Train Loss Now: 0.5615313691752297\n",
      "Step: 8, Train Loss Now: 0.5558936111629009\n",
      "Step: 9, Train Loss Now: 0.5362982783052657\n"
     ]
    },
    {
     "name": "stderr",
     "output_type": "stream",
     "text": [
      "\n",
      "100%|██████████| 3/3 [00:00<00:00, 70.53it/s]\n",
      "  0%|          | 0/9 [00:00<?, ?it/s]"
     ]
    },
    {
     "name": "stdout",
     "output_type": "stream",
     "text": [
      "Step: 1, Train Loss Now: 0.38449275493621826\n",
      "Step: 2, Train Loss Now: 0.45229431986808777\n"
     ]
    },
    {
     "name": "stderr",
     "output_type": "stream",
     "text": [
      " 67%|██████▋   | 6/9 [00:00<00:00, 28.40it/s]"
     ]
    },
    {
     "name": "stdout",
     "output_type": "stream",
     "text": [
      "Step: 3, Train Loss Now: 0.4772557020187378\n",
      "Step: 4, Train Loss Now: 0.46185898780822754\n",
      "Step: 5, Train Loss Now: 0.4573468029499054\n",
      "Step: 6, Train Loss Now: 0.46972715357939404\n",
      "Step: 7, Train Loss Now: 0.5059377253055573\n",
      "Step: 8, Train Loss Now: 0.5017223507165909\n"
     ]
    },
    {
     "name": "stderr",
     "output_type": "stream",
     "text": [
      "100%|██████████| 9/9 [00:00<00:00, 29.58it/s]\n"
     ]
    },
    {
     "name": "stdout",
     "output_type": "stream",
     "text": [
      "Step: 9, Train Loss Now: 0.48838623695903355\n"
     ]
    },
    {
     "name": "stderr",
     "output_type": "stream",
     "text": [
      "100%|██████████| 3/3 [00:00<00:00, 30.30it/s]\n",
      "  0%|          | 0/9 [00:00<?, ?it/s]"
     ]
    },
    {
     "name": "stdout",
     "output_type": "stream",
     "text": [
      "Step: 1, Train Loss Now: 0.38954880833625793\n",
      "Step: 2, Train Loss Now: 0.4346713274717331\n"
     ]
    },
    {
     "name": "stderr",
     "output_type": "stream",
     "text": [
      " 33%|███▎      | 3/9 [00:00<00:00, 29.90it/s]"
     ]
    },
    {
     "name": "stdout",
     "output_type": "stream",
     "text": [
      "Step: 3, Train Loss Now: 0.43103697896003723\n"
     ]
    },
    {
     "name": "stderr",
     "output_type": "stream",
     "text": [
      " 78%|███████▊  | 7/9 [00:00<00:00, 31.15it/s]"
     ]
    },
    {
     "name": "stdout",
     "output_type": "stream",
     "text": [
      "Step: 4, Train Loss Now: 0.4717467203736305\n",
      "Step: 5, Train Loss Now: 0.5167340338230133\n",
      "Step: 6, Train Loss Now: 0.5041651129722595\n",
      "Step: 7, Train Loss Now: 0.5015349217823574\n",
      "Step: 8, Train Loss Now: 0.5368979424238205\n"
     ]
    },
    {
     "name": "stderr",
     "output_type": "stream",
     "text": [
      "100%|██████████| 9/9 [00:00<00:00, 30.56it/s]"
     ]
    },
    {
     "name": "stdout",
     "output_type": "stream",
     "text": [
      "Step: 9, Train Loss Now: 0.5325576563676199\n"
     ]
    },
    {
     "name": "stderr",
     "output_type": "stream",
     "text": [
      "\n",
      "100%|██████████| 3/3 [00:00<00:00, 76.16it/s]\n",
      "  0%|          | 0/9 [00:00<?, ?it/s]"
     ]
    },
    {
     "name": "stdout",
     "output_type": "stream",
     "text": [
      "Step: 1, Train Loss Now: 0.6143016815185547\n",
      "Step: 2, Train Loss Now: 0.5689513087272644\n",
      "Step: 3, Train Loss Now: 0.5554968516031901\n"
     ]
    },
    {
     "name": "stderr",
     "output_type": "stream",
     "text": [
      " 44%|████▍     | 4/9 [00:00<00:00, 32.17it/s]"
     ]
    },
    {
     "name": "stdout",
     "output_type": "stream",
     "text": [
      "Step: 4, Train Loss Now: 0.5109696313738823\n",
      "Step: 5, Train Loss Now: 0.48742932081222534\n",
      "Step: 6, Train Loss Now: 0.49624834458033246\n",
      "Step: 7, Train Loss Now: 0.472057968378067\n"
     ]
    },
    {
     "name": "stderr",
     "output_type": "stream",
     "text": [
      "100%|██████████| 9/9 [00:00<00:00, 31.07it/s]\n"
     ]
    },
    {
     "name": "stdout",
     "output_type": "stream",
     "text": [
      "Step: 8, Train Loss Now: 0.4924759529531002\n",
      "Step: 9, Train Loss Now: 0.4962223205301497\n"
     ]
    },
    {
     "name": "stderr",
     "output_type": "stream",
     "text": [
      "100%|██████████| 3/3 [00:00<00:00, 93.27it/s]\n"
     ]
    },
    {
     "name": "stdout",
     "output_type": "stream",
     "text": [
      "Fold 2\n",
      "Train indices: [1 2 3 4 6 7 8 9]\n",
      "Test indices: [0 5]\n",
      "309 64\n"
     ]
    },
    {
     "name": "stderr",
     "output_type": "stream",
     "text": [
      " 30%|███       | 3/10 [00:00<00:00, 29.50it/s]"
     ]
    },
    {
     "name": "stdout",
     "output_type": "stream",
     "text": [
      "Step: 1, Train Loss Now: 1.0417101383209229\n",
      "Step: 2, Train Loss Now: 1.1329732537269592\n",
      "Step: 3, Train Loss Now: 0.9829875628153483\n",
      "Step: 4, Train Loss Now: 1.0321526229381561\n",
      "Step: 5, Train Loss Now: 1.0214284658432007\n"
     ]
    },
    {
     "name": "stderr",
     "output_type": "stream",
     "text": [
      " 60%|██████    | 6/10 [00:00<00:00, 22.44it/s]"
     ]
    },
    {
     "name": "stdout",
     "output_type": "stream",
     "text": [
      "Step: 6, Train Loss Now: 1.04250830411911\n",
      "Step: 7, Train Loss Now: 1.0400149822235107\n",
      "Step: 8, Train Loss Now: 1.0193556770682335\n"
     ]
    },
    {
     "name": "stderr",
     "output_type": "stream",
     "text": [
      "100%|██████████| 10/10 [00:00<00:00, 26.64it/s]"
     ]
    },
    {
     "name": "stdout",
     "output_type": "stream",
     "text": [
      "Step: 9, Train Loss Now: 1.0523093475235834\n",
      "Step: 10, Train Loss Now: 1.0911135137081147\n"
     ]
    },
    {
     "name": "stderr",
     "output_type": "stream",
     "text": [
      "100%|██████████| 10/10 [00:00<00:00, 26.12it/s]\n",
      "100%|██████████| 2/2 [00:00<00:00, 55.94it/s]\n",
      "  0%|          | 0/10 [00:00<?, ?it/s]"
     ]
    },
    {
     "name": "stdout",
     "output_type": "stream",
     "text": [
      "Step: 1, Train Loss Now: 1.0343462228775024\n",
      "Step: 2, Train Loss Now: 1.1575809717178345\n",
      "Step: 3, Train Loss Now: 1.0456325213114421\n"
     ]
    },
    {
     "name": "stderr",
     "output_type": "stream",
     "text": [
      " 40%|████      | 4/10 [00:00<00:00, 32.81it/s]"
     ]
    },
    {
     "name": "stdout",
     "output_type": "stream",
     "text": [
      "Step: 4, Train Loss Now: 0.998576208949089\n",
      "Step: 5, Train Loss Now: 0.9397390723228455\n",
      "Step: 6, Train Loss Now: 0.9244857033093771\n",
      "Step: 7, Train Loss Now: 0.9448362418583461\n"
     ]
    },
    {
     "name": "stderr",
     "output_type": "stream",
     "text": [
      "100%|██████████| 10/10 [00:00<00:00, 32.53it/s]"
     ]
    },
    {
     "name": "stdout",
     "output_type": "stream",
     "text": [
      "Step: 8, Train Loss Now: 0.9725722521543503\n",
      "Step: 9, Train Loss Now: 0.9811666938993666\n",
      "Step: 10, Train Loss Now: 0.9711462974548339\n"
     ]
    },
    {
     "name": "stderr",
     "output_type": "stream",
     "text": [
      "\n",
      "100%|██████████| 2/2 [00:00<00:00, 100.03it/s]\n",
      "  0%|          | 0/10 [00:00<?, ?it/s]"
     ]
    },
    {
     "name": "stdout",
     "output_type": "stream",
     "text": [
      "Step: 1, Train Loss Now: 0.84975665807724\n",
      "Step: 2, Train Loss Now: 0.8659669160842896\n",
      "Step: 3, Train Loss Now: 0.8829029401143392\n"
     ]
    },
    {
     "name": "stderr",
     "output_type": "stream",
     "text": [
      " 40%|████      | 4/10 [00:00<00:00, 30.94it/s]"
     ]
    },
    {
     "name": "stdout",
     "output_type": "stream",
     "text": [
      "Step: 4, Train Loss Now: 0.9110570847988129\n",
      "Step: 5, Train Loss Now: 0.9277307271957398\n",
      "Step: 6, Train Loss Now: 0.9276973704497019\n",
      "Step: 7, Train Loss Now: 0.9278518046651568\n"
     ]
    },
    {
     "name": "stderr",
     "output_type": "stream",
     "text": [
      "100%|██████████| 10/10 [00:00<00:00, 30.28it/s]"
     ]
    },
    {
     "name": "stdout",
     "output_type": "stream",
     "text": [
      "Step: 8, Train Loss Now: 0.9648775085806847\n",
      "Step: 9, Train Loss Now: 0.972597168551551\n",
      "Step: 10, Train Loss Now: 0.9172311425209045\n"
     ]
    },
    {
     "name": "stderr",
     "output_type": "stream",
     "text": [
      "\n",
      "100%|██████████| 2/2 [00:00<00:00, 84.68it/s]\n",
      "  0%|          | 0/10 [00:00<?, ?it/s]"
     ]
    },
    {
     "name": "stdout",
     "output_type": "stream",
     "text": [
      "Step: 1, Train Loss Now: 0.7121674418449402\n",
      "Step: 2, Train Loss Now: 0.6800926327705383\n"
     ]
    },
    {
     "name": "stderr",
     "output_type": "stream",
     "text": [
      " 60%|██████    | 6/10 [00:00<00:00, 28.84it/s]"
     ]
    },
    {
     "name": "stdout",
     "output_type": "stream",
     "text": [
      "Step: 3, Train Loss Now: 0.7799544731775919\n",
      "Step: 4, Train Loss Now: 0.8151066452264786\n",
      "Step: 5, Train Loss Now: 0.8468766808509827\n",
      "Step: 6, Train Loss Now: 0.9028880099455515\n",
      "Step: 7, Train Loss Now: 0.8746301020894732\n",
      "Step: 8, Train Loss Now: 0.8500953689217567\n"
     ]
    },
    {
     "name": "stderr",
     "output_type": "stream",
     "text": [
      "100%|██████████| 10/10 [00:00<00:00, 30.95it/s]\n"
     ]
    },
    {
     "name": "stdout",
     "output_type": "stream",
     "text": [
      "Step: 9, Train Loss Now: 0.849120106961992\n",
      "Step: 10, Train Loss Now: 0.8382926225662232\n"
     ]
    },
    {
     "name": "stderr",
     "output_type": "stream",
     "text": [
      "100%|██████████| 2/2 [00:00<00:00, 79.31it/s]\n",
      " 20%|██        | 2/10 [00:00<00:00, 17.67it/s]"
     ]
    },
    {
     "name": "stdout",
     "output_type": "stream",
     "text": [
      "Step: 1, Train Loss Now: 0.770285427570343\n",
      "Step: 2, Train Loss Now: 0.8771408498287201\n"
     ]
    },
    {
     "name": "stderr",
     "output_type": "stream",
     "text": [
      " 60%|██████    | 6/10 [00:00<00:00, 26.41it/s]"
     ]
    },
    {
     "name": "stdout",
     "output_type": "stream",
     "text": [
      "Step: 3, Train Loss Now: 0.837031364440918\n",
      "Step: 4, Train Loss Now: 0.7994713336229324\n",
      "Step: 5, Train Loss Now: 0.7882909178733826\n",
      "Step: 6, Train Loss Now: 0.7898761928081512\n",
      "Step: 7, Train Loss Now: 0.7953157680375236\n"
     ]
    },
    {
     "name": "stderr",
     "output_type": "stream",
     "text": [
      " 90%|█████████ | 9/10 [00:00<00:00, 27.31it/s]"
     ]
    },
    {
     "name": "stdout",
     "output_type": "stream",
     "text": [
      "Step: 8, Train Loss Now: 0.8003856688737869\n",
      "Step: 9, Train Loss Now: 0.8012095027499728\n"
     ]
    },
    {
     "name": "stderr",
     "output_type": "stream",
     "text": [
      "100%|██████████| 10/10 [00:00<00:00, 26.78it/s]\n"
     ]
    },
    {
     "name": "stdout",
     "output_type": "stream",
     "text": [
      "Step: 10, Train Loss Now: 0.8069000482559204\n"
     ]
    },
    {
     "name": "stderr",
     "output_type": "stream",
     "text": [
      "100%|██████████| 2/2 [00:00<00:00, 98.55it/s]\n",
      "  0%|          | 0/10 [00:00<?, ?it/s]"
     ]
    },
    {
     "name": "stdout",
     "output_type": "stream",
     "text": [
      "Step: 1, Train Loss Now: 0.7302117943763733\n",
      "Step: 2, Train Loss Now: 0.788495808839798\n"
     ]
    },
    {
     "name": "stderr",
     "output_type": "stream",
     "text": [
      " 30%|███       | 3/10 [00:00<00:00, 27.92it/s]"
     ]
    },
    {
     "name": "stdout",
     "output_type": "stream",
     "text": [
      "Step: 3, Train Loss Now: 0.8252289692560831\n",
      "Step: 4, Train Loss Now: 0.8063352853059769\n"
     ]
    },
    {
     "name": "stderr",
     "output_type": "stream",
     "text": [
      " 60%|██████    | 6/10 [00:00<00:00, 29.02it/s]"
     ]
    },
    {
     "name": "stdout",
     "output_type": "stream",
     "text": [
      "Step: 5, Train Loss Now: 0.8384757757186889\n",
      "Step: 6, Train Loss Now: 0.8554907739162445\n",
      "Step: 7, Train Loss Now: 0.8481076104300362\n",
      "Step: 8, Train Loss Now: 0.8214031606912613\n"
     ]
    },
    {
     "name": "stderr",
     "output_type": "stream",
     "text": [
      " 90%|█████████ | 9/10 [00:00<00:00, 26.83it/s]"
     ]
    },
    {
     "name": "stdout",
     "output_type": "stream",
     "text": [
      "Step: 9, Train Loss Now: 0.8141540355152554\n"
     ]
    },
    {
     "name": "stderr",
     "output_type": "stream",
     "text": [
      "100%|██████████| 10/10 [00:00<00:00, 24.15it/s]\n"
     ]
    },
    {
     "name": "stdout",
     "output_type": "stream",
     "text": [
      "Step: 10, Train Loss Now: 0.8234105050563812\n"
     ]
    },
    {
     "name": "stderr",
     "output_type": "stream",
     "text": [
      "100%|██████████| 2/2 [00:00<00:00, 20.82it/s]\n",
      "  0%|          | 0/10 [00:00<?, ?it/s]"
     ]
    },
    {
     "name": "stdout",
     "output_type": "stream",
     "text": [
      "Step: 1, Train Loss Now: 0.5766896605491638\n",
      "Step: 2, Train Loss Now: 0.83009073138237\n"
     ]
    },
    {
     "name": "stderr",
     "output_type": "stream",
     "text": [
      " 30%|███       | 3/10 [00:00<00:00, 24.52it/s]"
     ]
    },
    {
     "name": "stdout",
     "output_type": "stream",
     "text": [
      "Step: 3, Train Loss Now: 0.8172959685325623\n",
      "Step: 4, Train Loss Now: 0.855571836233139\n",
      "Step: 5, Train Loss Now: 0.8343202948570252\n"
     ]
    },
    {
     "name": "stderr",
     "output_type": "stream",
     "text": [
      " 60%|██████    | 6/10 [00:00<00:00, 22.33it/s]"
     ]
    },
    {
     "name": "stdout",
     "output_type": "stream",
     "text": [
      "Step: 6, Train Loss Now: 0.8377484182516733\n",
      "Step: 7, Train Loss Now: 0.8260017122541156\n"
     ]
    },
    {
     "name": "stderr",
     "output_type": "stream",
     "text": [
      "100%|██████████| 10/10 [00:00<00:00, 24.26it/s]\n"
     ]
    },
    {
     "name": "stdout",
     "output_type": "stream",
     "text": [
      "Step: 8, Train Loss Now: 0.8128935992717743\n",
      "Step: 9, Train Loss Now: 0.7964377469486661\n",
      "Step: 10, Train Loss Now: 0.8410144150257111\n"
     ]
    },
    {
     "name": "stderr",
     "output_type": "stream",
     "text": [
      "100%|██████████| 2/2 [00:00<00:00, 59.34it/s]\n",
      "  0%|          | 0/10 [00:00<?, ?it/s]"
     ]
    },
    {
     "name": "stdout",
     "output_type": "stream",
     "text": [
      "Step: 1, Train Loss Now: 0.7952592372894287\n"
     ]
    },
    {
     "name": "stderr",
     "output_type": "stream",
     "text": [
      " 20%|██        | 2/10 [00:00<00:00, 15.80it/s]"
     ]
    },
    {
     "name": "stdout",
     "output_type": "stream",
     "text": [
      "Step: 2, Train Loss Now: 0.8846046328544617\n",
      "Step: 3, Train Loss Now: 0.7636093695958456\n",
      "Step: 4, Train Loss Now: 0.7571120113134384\n"
     ]
    },
    {
     "name": "stderr",
     "output_type": "stream",
     "text": [
      " 50%|█████     | 5/10 [00:00<00:00, 19.76it/s]"
     ]
    },
    {
     "name": "stdout",
     "output_type": "stream",
     "text": [
      "Step: 5, Train Loss Now: 0.764775013923645\n",
      "Step: 6, Train Loss Now: 0.7628166079521179\n"
     ]
    },
    {
     "name": "stderr",
     "output_type": "stream",
     "text": [
      "100%|██████████| 10/10 [00:00<00:00, 21.59it/s]"
     ]
    },
    {
     "name": "stdout",
     "output_type": "stream",
     "text": [
      "Step: 7, Train Loss Now: 0.7383671402931213\n",
      "Step: 8, Train Loss Now: 0.7447106093168259\n",
      "Step: 9, Train Loss Now: 0.7627838253974915\n",
      "Step: 10, Train Loss Now: 0.7863259434700012\n"
     ]
    },
    {
     "name": "stderr",
     "output_type": "stream",
     "text": [
      "\n",
      "100%|██████████| 2/2 [00:00<00:00, 72.01it/s]\n",
      "  0%|          | 0/10 [00:00<?, ?it/s]"
     ]
    },
    {
     "name": "stdout",
     "output_type": "stream",
     "text": [
      "Step: 1, Train Loss Now: 0.6457155346870422\n"
     ]
    },
    {
     "name": "stderr",
     "output_type": "stream",
     "text": [
      " 60%|██████    | 6/10 [00:00<00:00, 28.15it/s]"
     ]
    },
    {
     "name": "stdout",
     "output_type": "stream",
     "text": [
      "Step: 2, Train Loss Now: 0.6772844791412354\n",
      "Step: 3, Train Loss Now: 0.7196869254112244\n",
      "Step: 4, Train Loss Now: 0.7277773916721344\n",
      "Step: 5, Train Loss Now: 0.7430189371109008\n",
      "Step: 6, Train Loss Now: 0.7828626533349355\n",
      "Step: 7, Train Loss Now: 0.8159999591963631\n",
      "Step: 8, Train Loss Now: 0.8120898306369781\n"
     ]
    },
    {
     "name": "stderr",
     "output_type": "stream",
     "text": [
      "100%|██████████| 10/10 [00:00<00:00, 26.43it/s]\n"
     ]
    },
    {
     "name": "stdout",
     "output_type": "stream",
     "text": [
      "Step: 9, Train Loss Now: 0.8204401069217258\n",
      "Step: 10, Train Loss Now: 0.7876635879278183\n"
     ]
    },
    {
     "name": "stderr",
     "output_type": "stream",
     "text": [
      "100%|██████████| 2/2 [00:00<00:00, 71.31it/s]\n",
      "  0%|          | 0/10 [00:00<?, ?it/s]"
     ]
    },
    {
     "name": "stdout",
     "output_type": "stream",
     "text": [
      "Step: 1, Train Loss Now: 0.8584713339805603\n"
     ]
    },
    {
     "name": "stderr",
     "output_type": "stream",
     "text": [
      " 30%|███       | 3/10 [00:00<00:00, 28.53it/s]"
     ]
    },
    {
     "name": "stdout",
     "output_type": "stream",
     "text": [
      "Step: 2, Train Loss Now: 0.8356809318065643\n",
      "Step: 3, Train Loss Now: 0.8416349490483602\n",
      "Step: 4, Train Loss Now: 0.833604484796524\n",
      "Step: 5, Train Loss Now: 0.7938785195350647\n",
      "Step: 6, Train Loss Now: 0.8258189558982849\n"
     ]
    },
    {
     "name": "stderr",
     "output_type": "stream",
     "text": [
      " 70%|███████   | 7/10 [00:00<00:00, 30.63it/s]"
     ]
    },
    {
     "name": "stdout",
     "output_type": "stream",
     "text": [
      "Step: 7, Train Loss Now: 0.7813754166875567\n"
     ]
    },
    {
     "name": "stderr",
     "output_type": "stream",
     "text": [
      "100%|██████████| 10/10 [00:00<00:00, 30.74it/s]\n"
     ]
    },
    {
     "name": "stdout",
     "output_type": "stream",
     "text": [
      "Step: 8, Train Loss Now: 0.7794950306415558\n",
      "Step: 9, Train Loss Now: 0.7864578366279602\n",
      "Step: 10, Train Loss Now: 0.8062939047813416\n"
     ]
    },
    {
     "name": "stderr",
     "output_type": "stream",
     "text": [
      "100%|██████████| 2/2 [00:00<00:00, 76.33it/s]\n",
      " 60%|██████    | 6/10 [00:00<00:00, 28.50it/s]"
     ]
    },
    {
     "name": "stdout",
     "output_type": "stream",
     "text": [
      "Step: 1, Train Loss Now: 0.7484380602836609\n",
      "Step: 2, Train Loss Now: 0.6789836585521698\n",
      "Step: 3, Train Loss Now: 0.7262064417203268\n",
      "Step: 4, Train Loss Now: 0.7634304016828537\n",
      "Step: 5, Train Loss Now: 0.7337671875953674\n",
      "Step: 6, Train Loss Now: 0.724059134721756\n",
      "Step: 7, Train Loss Now: 0.7144561495099749\n",
      "Step: 8, Train Loss Now: 0.729523591697216\n"
     ]
    },
    {
     "name": "stderr",
     "output_type": "stream",
     "text": [
      "100%|██████████| 10/10 [00:00<00:00, 29.24it/s]\n"
     ]
    },
    {
     "name": "stdout",
     "output_type": "stream",
     "text": [
      "Step: 9, Train Loss Now: 0.753542337152693\n",
      "Step: 10, Train Loss Now: 0.7652427673339843\n"
     ]
    },
    {
     "name": "stderr",
     "output_type": "stream",
     "text": [
      "100%|██████████| 2/2 [00:00<00:00, 100.05it/s]\n",
      " 30%|███       | 3/10 [00:00<00:00, 29.42it/s]"
     ]
    },
    {
     "name": "stdout",
     "output_type": "stream",
     "text": [
      "Step: 1, Train Loss Now: 0.7092233300209045\n",
      "Step: 2, Train Loss Now: 0.6545715928077698\n",
      "Step: 3, Train Loss Now: 0.8192350467046102\n",
      "Step: 4, Train Loss Now: 0.8038089275360107\n"
     ]
    },
    {
     "name": "stderr",
     "output_type": "stream",
     "text": [
      " 70%|███████   | 7/10 [00:00<00:00, 32.28it/s]"
     ]
    },
    {
     "name": "stdout",
     "output_type": "stream",
     "text": [
      "Step: 5, Train Loss Now: 0.8178637146949768\n",
      "Step: 6, Train Loss Now: 0.8211683332920074\n",
      "Step: 7, Train Loss Now: 0.8191932014056614\n"
     ]
    },
    {
     "name": "stderr",
     "output_type": "stream",
     "text": [
      "100%|██████████| 10/10 [00:00<00:00, 32.47it/s]\n"
     ]
    },
    {
     "name": "stdout",
     "output_type": "stream",
     "text": [
      "Step: 8, Train Loss Now: 0.8199479207396507\n",
      "Step: 9, Train Loss Now: 0.8149479230244955\n",
      "Step: 10, Train Loss Now: 0.7880994081497192\n"
     ]
    },
    {
     "name": "stderr",
     "output_type": "stream",
     "text": [
      "100%|██████████| 2/2 [00:00<00:00, 211.42it/s]\n",
      "  0%|          | 0/10 [00:00<?, ?it/s]"
     ]
    },
    {
     "name": "stdout",
     "output_type": "stream",
     "text": [
      "Step: 1, Train Loss Now: 0.7806878089904785\n"
     ]
    },
    {
     "name": "stderr",
     "output_type": "stream",
     "text": [
      " 30%|███       | 3/10 [00:00<00:00, 28.14it/s]"
     ]
    },
    {
     "name": "stdout",
     "output_type": "stream",
     "text": [
      "Step: 2, Train Loss Now: 0.7181357741355896\n",
      "Step: 3, Train Loss Now: 0.7433700561523438\n"
     ]
    },
    {
     "name": "stderr",
     "output_type": "stream",
     "text": [
      " 70%|███████   | 7/10 [00:00<00:00, 30.25it/s]"
     ]
    },
    {
     "name": "stdout",
     "output_type": "stream",
     "text": [
      "Step: 4, Train Loss Now: 0.781773567199707\n",
      "Step: 5, Train Loss Now: 0.771085011959076\n",
      "Step: 6, Train Loss Now: 0.7485531369845072\n",
      "Step: 7, Train Loss Now: 0.7306871158736092\n",
      "Step: 8, Train Loss Now: 0.7345425710082054\n",
      "Step: 9, Train Loss Now: 0.7310272521442838\n"
     ]
    },
    {
     "name": "stderr",
     "output_type": "stream",
     "text": [
      "100%|██████████| 10/10 [00:00<00:00, 27.58it/s]\n"
     ]
    },
    {
     "name": "stdout",
     "output_type": "stream",
     "text": [
      "Step: 10, Train Loss Now: 0.7267052233219147\n"
     ]
    },
    {
     "name": "stderr",
     "output_type": "stream",
     "text": [
      "100%|██████████| 2/2 [00:00<00:00, 122.57it/s]\n",
      "  0%|          | 0/10 [00:00<?, ?it/s]"
     ]
    },
    {
     "name": "stdout",
     "output_type": "stream",
     "text": [
      "Step: 1, Train Loss Now: 0.7695024013519287\n",
      "Step: 2, Train Loss Now: 0.8805807530879974\n"
     ]
    },
    {
     "name": "stderr",
     "output_type": "stream",
     "text": [
      " 30%|███       | 3/10 [00:00<00:00, 29.90it/s]"
     ]
    },
    {
     "name": "stdout",
     "output_type": "stream",
     "text": [
      "Step: 3, Train Loss Now: 0.8419134616851807\n",
      "Step: 4, Train Loss Now: 0.8204269558191299\n"
     ]
    },
    {
     "name": "stderr",
     "output_type": "stream",
     "text": [
      " 60%|██████    | 6/10 [00:00<00:00, 28.73it/s]"
     ]
    },
    {
     "name": "stdout",
     "output_type": "stream",
     "text": [
      "Step: 5, Train Loss Now: 0.8166159510612487\n",
      "Step: 6, Train Loss Now: 0.8065822919209799\n",
      "Step: 7, Train Loss Now: 0.7934006197111947\n",
      "Step: 8, Train Loss Now: 0.7661968022584915\n"
     ]
    },
    {
     "name": "stderr",
     "output_type": "stream",
     "text": [
      "100%|██████████| 10/10 [00:00<00:00, 29.95it/s]\n"
     ]
    },
    {
     "name": "stdout",
     "output_type": "stream",
     "text": [
      "Step: 9, Train Loss Now: 0.7851875424385071\n",
      "Step: 10, Train Loss Now: 0.7696107923984528\n"
     ]
    },
    {
     "name": "stderr",
     "output_type": "stream",
     "text": [
      "100%|██████████| 2/2 [00:00<00:00, 85.86it/s]\n",
      "  0%|          | 0/10 [00:00<?, ?it/s]"
     ]
    },
    {
     "name": "stdout",
     "output_type": "stream",
     "text": [
      "Step: 1, Train Loss Now: 0.7169840335845947\n",
      "Step: 2, Train Loss Now: 0.840104728937149\n",
      "Step: 3, Train Loss Now: 0.782183031241099\n"
     ]
    },
    {
     "name": "stderr",
     "output_type": "stream",
     "text": [
      " 40%|████      | 4/10 [00:00<00:00, 34.34it/s]"
     ]
    },
    {
     "name": "stdout",
     "output_type": "stream",
     "text": [
      "Step: 4, Train Loss Now: 0.7644447535276413\n",
      "Step: 5, Train Loss Now: 0.7383348345756531\n"
     ]
    },
    {
     "name": "stderr",
     "output_type": "stream",
     "text": [
      " 80%|████████  | 8/10 [00:00<00:00, 26.05it/s]"
     ]
    },
    {
     "name": "stdout",
     "output_type": "stream",
     "text": [
      "Step: 6, Train Loss Now: 0.7696869671344757\n",
      "Step: 7, Train Loss Now: 0.780449458530971\n",
      "Step: 8, Train Loss Now: 0.7549514919519424\n",
      "Step: 9, Train Loss Now: 0.7337059511078728\n"
     ]
    },
    {
     "name": "stderr",
     "output_type": "stream",
     "text": [
      "100%|██████████| 10/10 [00:00<00:00, 29.32it/s]\n"
     ]
    },
    {
     "name": "stdout",
     "output_type": "stream",
     "text": [
      "Step: 10, Train Loss Now: 0.7303105533123017\n"
     ]
    },
    {
     "name": "stderr",
     "output_type": "stream",
     "text": [
      "100%|██████████| 2/2 [00:00<00:00, 60.33it/s]\n",
      "  0%|          | 0/10 [00:00<?, ?it/s]"
     ]
    },
    {
     "name": "stdout",
     "output_type": "stream",
     "text": [
      "Step: 1, Train Loss Now: 0.757757306098938\n"
     ]
    },
    {
     "name": "stderr",
     "output_type": "stream",
     "text": [
      " 30%|███       | 3/10 [00:00<00:00, 27.56it/s]"
     ]
    },
    {
     "name": "stdout",
     "output_type": "stream",
     "text": [
      "Step: 2, Train Loss Now: 0.7681739926338196\n",
      "Step: 3, Train Loss Now: 0.8113311926523844\n",
      "Step: 4, Train Loss Now: 0.7475777715444565\n"
     ]
    },
    {
     "name": "stderr",
     "output_type": "stream",
     "text": [
      " 60%|██████    | 6/10 [00:00<00:00, 27.86it/s]"
     ]
    },
    {
     "name": "stdout",
     "output_type": "stream",
     "text": [
      "Step: 5, Train Loss Now: 0.7834713220596313\n",
      "Step: 6, Train Loss Now: 0.7614840467770895\n",
      "Step: 7, Train Loss Now: 0.7567732759884426\n"
     ]
    },
    {
     "name": "stderr",
     "output_type": "stream",
     "text": [
      "100%|██████████| 10/10 [00:00<00:00, 29.57it/s]\n"
     ]
    },
    {
     "name": "stdout",
     "output_type": "stream",
     "text": [
      "Step: 8, Train Loss Now: 0.7475128471851349\n",
      "Step: 9, Train Loss Now: 0.7275360822677612\n",
      "Step: 10, Train Loss Now: 0.7138566315174103\n"
     ]
    },
    {
     "name": "stderr",
     "output_type": "stream",
     "text": [
      "100%|██████████| 2/2 [00:00<00:00, 93.66it/s]\n",
      "  0%|          | 0/10 [00:00<?, ?it/s]"
     ]
    },
    {
     "name": "stdout",
     "output_type": "stream",
     "text": [
      "Step: 1, Train Loss Now: 0.6307893395423889\n",
      "Step: 2, Train Loss Now: 0.7707674205303192\n",
      "Step: 3, Train Loss Now: 0.8158862193425497\n"
     ]
    },
    {
     "name": "stderr",
     "output_type": "stream",
     "text": [
      " 40%|████      | 4/10 [00:00<00:00, 30.62it/s]"
     ]
    },
    {
     "name": "stdout",
     "output_type": "stream",
     "text": [
      "Step: 4, Train Loss Now: 0.7593829184770584\n",
      "Step: 5, Train Loss Now: 0.7402960062026978\n",
      "Step: 6, Train Loss Now: 0.7054298420747122\n",
      "Step: 7, Train Loss Now: 0.7412853581564767\n"
     ]
    },
    {
     "name": "stderr",
     "output_type": "stream",
     "text": [
      " 80%|████████  | 8/10 [00:00<00:00, 24.83it/s]"
     ]
    },
    {
     "name": "stdout",
     "output_type": "stream",
     "text": [
      "Step: 8, Train Loss Now: 0.727408304810524\n"
     ]
    },
    {
     "name": "stderr",
     "output_type": "stream",
     "text": [
      "100%|██████████| 10/10 [00:00<00:00, 26.82it/s]\n"
     ]
    },
    {
     "name": "stdout",
     "output_type": "stream",
     "text": [
      "Step: 9, Train Loss Now: 0.7476448814074198\n",
      "Step: 10, Train Loss Now: 0.7352813065052033\n"
     ]
    },
    {
     "name": "stderr",
     "output_type": "stream",
     "text": [
      "100%|██████████| 2/2 [00:00<00:00, 86.83it/s]\n",
      "  0%|          | 0/10 [00:00<?, ?it/s]"
     ]
    },
    {
     "name": "stdout",
     "output_type": "stream",
     "text": [
      "Step: 1, Train Loss Now: 0.6049093008041382\n",
      "Step: 2, Train Loss Now: 0.5740602612495422\n",
      "Step: 3, Train Loss Now: 0.6365452806154887\n"
     ]
    },
    {
     "name": "stderr",
     "output_type": "stream",
     "text": [
      " 40%|████      | 4/10 [00:00<00:00, 31.18it/s]"
     ]
    },
    {
     "name": "stdout",
     "output_type": "stream",
     "text": [
      "Step: 4, Train Loss Now: 0.6166028529405594\n",
      "Step: 5, Train Loss Now: 0.6368210554122925\n",
      "Step: 6, Train Loss Now: 0.6605102916558584\n"
     ]
    },
    {
     "name": "stderr",
     "output_type": "stream",
     "text": [
      " 80%|████████  | 8/10 [00:00<00:00, 33.06it/s]"
     ]
    },
    {
     "name": "stdout",
     "output_type": "stream",
     "text": [
      "Step: 7, Train Loss Now: 0.6605781061308724\n",
      "Step: 8, Train Loss Now: 0.6603337228298187\n"
     ]
    },
    {
     "name": "stderr",
     "output_type": "stream",
     "text": [
      "100%|██████████| 10/10 [00:00<00:00, 32.62it/s]\n"
     ]
    },
    {
     "name": "stdout",
     "output_type": "stream",
     "text": [
      "Step: 9, Train Loss Now: 0.6855318016476102\n",
      "Step: 10, Train Loss Now: 0.6736598610877991\n"
     ]
    },
    {
     "name": "stderr",
     "output_type": "stream",
     "text": [
      "100%|██████████| 2/2 [00:00<00:00, 66.70it/s]\n",
      "  0%|          | 0/10 [00:00<?, ?it/s]"
     ]
    },
    {
     "name": "stdout",
     "output_type": "stream",
     "text": [
      "Step: 1, Train Loss Now: 0.47645047307014465\n"
     ]
    },
    {
     "name": "stderr",
     "output_type": "stream",
     "text": [
      " 20%|██        | 2/10 [00:00<00:00, 16.99it/s]"
     ]
    },
    {
     "name": "stdout",
     "output_type": "stream",
     "text": [
      "Step: 2, Train Loss Now: 0.5073547810316086\n",
      "Step: 3, Train Loss Now: 0.5588426490624746\n"
     ]
    },
    {
     "name": "stderr",
     "output_type": "stream",
     "text": [
      " 50%|█████     | 5/10 [00:00<00:00, 23.05it/s]"
     ]
    },
    {
     "name": "stdout",
     "output_type": "stream",
     "text": [
      "Step: 4, Train Loss Now: 0.6156381443142891\n",
      "Step: 5, Train Loss Now: 0.6389748394489289\n",
      "Step: 6, Train Loss Now: 0.6869489103555679\n",
      "Step: 7, Train Loss Now: 0.6949685003076281\n",
      "Step: 8, Train Loss Now: 0.6641841940581799\n"
     ]
    },
    {
     "name": "stderr",
     "output_type": "stream",
     "text": [
      "100%|██████████| 10/10 [00:00<00:00, 26.59it/s]"
     ]
    },
    {
     "name": "stdout",
     "output_type": "stream",
     "text": [
      "Step: 9, Train Loss Now: 0.7095366683271196\n",
      "Step: 10, Train Loss Now: 0.6899446398019791\n"
     ]
    },
    {
     "name": "stderr",
     "output_type": "stream",
     "text": [
      "\n",
      "100%|██████████| 2/2 [00:00<00:00, 131.38it/s]\n",
      "  0%|          | 0/10 [00:00<?, ?it/s]"
     ]
    },
    {
     "name": "stdout",
     "output_type": "stream",
     "text": [
      "Step: 1, Train Loss Now: 0.8032809495925903"
     ]
    },
    {
     "name": "stderr",
     "output_type": "stream",
     "text": [
      " 20%|██        | 2/10 [00:00<00:00, 14.65it/s]"
     ]
    },
    {
     "name": "stdout",
     "output_type": "stream",
     "text": [
      "\n",
      "Step: 2, Train Loss Now: 0.6824250221252441\n"
     ]
    },
    {
     "name": "stderr",
     "output_type": "stream",
     "text": [
      " 40%|████      | 4/10 [00:00<00:00, 14.44it/s]"
     ]
    },
    {
     "name": "stdout",
     "output_type": "stream",
     "text": [
      "Step: 3, Train Loss Now: 0.6303278605143229\n",
      "Step: 4, Train Loss Now: 0.6965105086565018\n"
     ]
    },
    {
     "name": "stderr",
     "output_type": "stream",
     "text": [
      " 70%|███████   | 7/10 [00:00<00:00, 19.98it/s]"
     ]
    },
    {
     "name": "stdout",
     "output_type": "stream",
     "text": [
      "Step: 5, Train Loss Now: 0.6493026554584503\n",
      "Step: 6, Train Loss Now: 0.6865384131669998\n",
      "Step: 7, Train Loss Now: 0.697026367698397\n"
     ]
    },
    {
     "name": "stderr",
     "output_type": "stream",
     "text": [
      "100%|██████████| 10/10 [00:00<00:00, 20.83it/s]\n"
     ]
    },
    {
     "name": "stdout",
     "output_type": "stream",
     "text": [
      "Step: 8, Train Loss Now: 0.7215379066765308\n",
      "Step: 9, Train Loss Now: 0.7363102535406748\n",
      "Step: 10, Train Loss Now: 0.7170508712530136\n"
     ]
    },
    {
     "name": "stderr",
     "output_type": "stream",
     "text": [
      "100%|██████████| 2/2 [00:00<00:00, 68.81it/s]\n",
      "  0%|          | 0/10 [00:00<?, ?it/s]"
     ]
    },
    {
     "name": "stdout",
     "output_type": "stream",
     "text": [
      "Step: 1, Train Loss Now: 1.1034761667251587\n",
      "Step: 2, Train Loss Now: 0.8840334117412567\n"
     ]
    },
    {
     "name": "stderr",
     "output_type": "stream",
     "text": [
      " 30%|███       | 3/10 [00:00<00:00, 24.13it/s]"
     ]
    },
    {
     "name": "stdout",
     "output_type": "stream",
     "text": [
      "Step: 3, Train Loss Now: 0.8399691184361776\n",
      "Step: 4, Train Loss Now: 0.7672856450080872\n",
      "Step: 5, Train Loss Now: 0.7358132243156433\n"
     ]
    },
    {
     "name": "stderr",
     "output_type": "stream",
     "text": [
      " 60%|██████    | 6/10 [00:00<00:00, 24.37it/s]"
     ]
    },
    {
     "name": "stdout",
     "output_type": "stream",
     "text": [
      "Step: 6, Train Loss Now: 0.7061159213383993\n",
      "Step: 7, Train Loss Now: 0.7043538774762835\n"
     ]
    },
    {
     "name": "stderr",
     "output_type": "stream",
     "text": [
      "100%|██████████| 10/10 [00:00<00:00, 25.17it/s]\n"
     ]
    },
    {
     "name": "stdout",
     "output_type": "stream",
     "text": [
      "Step: 8, Train Loss Now: 0.6818705499172211\n",
      "Step: 9, Train Loss Now: 0.6939584414164225\n",
      "Step: 10, Train Loss Now: 0.6731363862752915\n"
     ]
    },
    {
     "name": "stderr",
     "output_type": "stream",
     "text": [
      "100%|██████████| 2/2 [00:00<00:00, 50.79it/s]\n",
      " 60%|██████    | 6/10 [00:00<00:00, 24.24it/s]"
     ]
    },
    {
     "name": "stdout",
     "output_type": "stream",
     "text": [
      "Step: 1, Train Loss Now: 0.6728366017341614\n",
      "Step: 2, Train Loss Now: 0.6838615238666534\n",
      "Step: 3, Train Loss Now: 0.666020393371582\n",
      "Step: 4, Train Loss Now: 0.6969825774431229\n",
      "Step: 5, Train Loss Now: 0.6766321778297424\n",
      "Step: 6, Train Loss Now: 0.7181534469127655\n",
      "Step: 7, Train Loss Now: 0.7256995269230434\n"
     ]
    },
    {
     "name": "stderr",
     "output_type": "stream",
     "text": [
      "100%|██████████| 10/10 [00:00<00:00, 26.44it/s]\n"
     ]
    },
    {
     "name": "stdout",
     "output_type": "stream",
     "text": [
      "Step: 8, Train Loss Now: 0.7177855148911476\n",
      "Step: 9, Train Loss Now: 0.703164451652103\n",
      "Step: 10, Train Loss Now: 0.6890087008476258\n"
     ]
    },
    {
     "name": "stderr",
     "output_type": "stream",
     "text": [
      "100%|██████████| 2/2 [00:00<00:00, 91.97it/s]\n",
      "  0%|          | 0/10 [00:00<?, ?it/s]"
     ]
    },
    {
     "name": "stdout",
     "output_type": "stream",
     "text": [
      "Step: 1, Train Loss Now: 0.9347667694091797\n",
      "Step: 2, Train Loss Now: 0.7146133184432983\n",
      "Step: 3, Train Loss Now: 0.6308398544788361\n"
     ]
    },
    {
     "name": "stderr",
     "output_type": "stream",
     "text": [
      " 40%|████      | 4/10 [00:00<00:00, 32.56it/s]"
     ]
    },
    {
     "name": "stdout",
     "output_type": "stream",
     "text": [
      "Step: 4, Train Loss Now: 0.6844935640692711\n",
      "Step: 5, Train Loss Now: 0.7339448869228363\n",
      "Step: 6, Train Loss Now: 0.7039361149072647\n",
      "Step: 7, Train Loss Now: 0.6905554831027985\n"
     ]
    },
    {
     "name": "stderr",
     "output_type": "stream",
     "text": [
      " 80%|████████  | 8/10 [00:00<00:00, 30.25it/s]"
     ]
    },
    {
     "name": "stdout",
     "output_type": "stream",
     "text": [
      "Step: 8, Train Loss Now: 0.6712286956608295\n",
      "Step: 9, Train Loss Now: 0.7118335730499692\n"
     ]
    },
    {
     "name": "stderr",
     "output_type": "stream",
     "text": [
      "100%|██████████| 10/10 [00:00<00:00, 30.40it/s]\n"
     ]
    },
    {
     "name": "stdout",
     "output_type": "stream",
     "text": [
      "Step: 10, Train Loss Now: 0.6870785742998123\n"
     ]
    },
    {
     "name": "stderr",
     "output_type": "stream",
     "text": [
      "100%|██████████| 2/2 [00:00<00:00, 116.88it/s]\n",
      " 30%|███       | 3/10 [00:00<00:00, 28.97it/s]"
     ]
    },
    {
     "name": "stdout",
     "output_type": "stream",
     "text": [
      "Step: 1, Train Loss Now: 0.7567260265350342\n",
      "Step: 2, Train Loss Now: 0.6472817063331604\n",
      "Step: 3, Train Loss Now: 0.6760791540145874\n",
      "Step: 4, Train Loss Now: 0.6767444014549255\n",
      "Step: 5, Train Loss Now: 0.6310410499572754\n"
     ]
    },
    {
     "name": "stderr",
     "output_type": "stream",
     "text": [
      " 60%|██████    | 6/10 [00:00<00:00, 24.13it/s]"
     ]
    },
    {
     "name": "stdout",
     "output_type": "stream",
     "text": [
      "Step: 6, Train Loss Now: 0.6235966682434082\n",
      "Step: 7, Train Loss Now: 0.6209231189319065\n"
     ]
    },
    {
     "name": "stderr",
     "output_type": "stream",
     "text": [
      "100%|██████████| 10/10 [00:00<00:00, 27.38it/s]\n"
     ]
    },
    {
     "name": "stdout",
     "output_type": "stream",
     "text": [
      "Step: 8, Train Loss Now: 0.6539371833205223\n",
      "Step: 9, Train Loss Now: 0.6732277274131775\n",
      "Step: 10, Train Loss Now: 0.6844104707241059\n"
     ]
    },
    {
     "name": "stderr",
     "output_type": "stream",
     "text": [
      "100%|██████████| 2/2 [00:00<00:00, 119.18it/s]\n",
      "  0%|          | 0/10 [00:00<?, ?it/s]"
     ]
    },
    {
     "name": "stdout",
     "output_type": "stream",
     "text": [
      "Step: 1, Train Loss Now: 0.4072495400905609\n"
     ]
    },
    {
     "name": "stderr",
     "output_type": "stream",
     "text": [
      " 30%|███       | 3/10 [00:00<00:00, 28.16it/s]"
     ]
    },
    {
     "name": "stdout",
     "output_type": "stream",
     "text": [
      "Step: 2, Train Loss Now: 0.5565970093011856\n",
      "Step: 3, Train Loss Now: 0.6031604707241058\n"
     ]
    },
    {
     "name": "stderr",
     "output_type": "stream",
     "text": [
      " 70%|███████   | 7/10 [00:00<00:00, 31.95it/s]"
     ]
    },
    {
     "name": "stdout",
     "output_type": "stream",
     "text": [
      "Step: 4, Train Loss Now: 0.6790983602404594\n",
      "Step: 5, Train Loss Now: 0.6776229560375213\n",
      "Step: 6, Train Loss Now: 0.6419179141521454\n",
      "Step: 7, Train Loss Now: 0.6685139622007098\n",
      "Step: 8, Train Loss Now: 0.6452650167047977\n"
     ]
    },
    {
     "name": "stderr",
     "output_type": "stream",
     "text": [
      "100%|██████████| 10/10 [00:00<00:00, 31.85it/s]\n"
     ]
    },
    {
     "name": "stdout",
     "output_type": "stream",
     "text": [
      "Step: 9, Train Loss Now: 0.6488833592997657\n",
      "Step: 10, Train Loss Now: 0.679650416970253\n"
     ]
    },
    {
     "name": "stderr",
     "output_type": "stream",
     "text": [
      "100%|██████████| 2/2 [00:00<00:00, 84.61it/s]\n",
      "  0%|          | 0/10 [00:00<?, ?it/s]"
     ]
    },
    {
     "name": "stdout",
     "output_type": "stream",
     "text": [
      "Step: 1, Train Loss Now: 0.4274402856826782\n",
      "Step: 2, Train Loss Now: 0.557638019323349\n",
      "Step: 3, Train Loss Now: 0.5967206756273905\n"
     ]
    },
    {
     "name": "stderr",
     "output_type": "stream",
     "text": [
      " 40%|████      | 4/10 [00:00<00:00, 32.30it/s]"
     ]
    },
    {
     "name": "stdout",
     "output_type": "stream",
     "text": [
      "Step: 4, Train Loss Now: 0.5863353610038757\n",
      "Step: 5, Train Loss Now: 0.634691858291626\n",
      "Step: 6, Train Loss Now: 0.6898644864559174"
     ]
    },
    {
     "name": "stderr",
     "output_type": "stream",
     "text": [
      " 80%|████████  | 8/10 [00:00<00:00, 25.74it/s]"
     ]
    },
    {
     "name": "stdout",
     "output_type": "stream",
     "text": [
      "\n",
      "Step: 7, Train Loss Now: 0.7220300776617867\n",
      "Step: 8, Train Loss Now: 0.729649230837822\n"
     ]
    },
    {
     "name": "stderr",
     "output_type": "stream",
     "text": [
      "100%|██████████| 10/10 [00:00<00:00, 27.35it/s]\n"
     ]
    },
    {
     "name": "stdout",
     "output_type": "stream",
     "text": [
      "Step: 9, Train Loss Now: 0.7083605395423042\n",
      "Step: 10, Train Loss Now: 0.7120972216129303\n"
     ]
    },
    {
     "name": "stderr",
     "output_type": "stream",
     "text": [
      "100%|██████████| 2/2 [00:00<00:00, 122.09it/s]\n",
      "  0%|          | 0/10 [00:00<?, ?it/s]"
     ]
    },
    {
     "name": "stdout",
     "output_type": "stream",
     "text": [
      "Step: 1, Train Loss Now: 0.5657854676246643\n"
     ]
    },
    {
     "name": "stderr",
     "output_type": "stream",
     "text": [
      " 30%|███       | 3/10 [00:00<00:00, 25.45it/s]"
     ]
    },
    {
     "name": "stdout",
     "output_type": "stream",
     "text": [
      "Step: 2, Train Loss Now: 0.6192756295204163\n",
      "Step: 3, Train Loss Now: 0.738305409749349\n"
     ]
    },
    {
     "name": "stderr",
     "output_type": "stream",
     "text": [
      " 60%|██████    | 6/10 [00:00<00:00, 25.62it/s]"
     ]
    },
    {
     "name": "stdout",
     "output_type": "stream",
     "text": [
      "Step: 4, Train Loss Now: 0.7639524638652802\n",
      "Step: 5, Train Loss Now: 0.7203481316566467\n",
      "Step: 6, Train Loss Now: 0.7024601499239603\n",
      "Step: 7, Train Loss Now: 0.7364610178130013\n",
      "Step: 8, Train Loss Now: 0.7371882796287537\n",
      "Step: 9, Train Loss Now: 0.7082092563311259\n"
     ]
    },
    {
     "name": "stderr",
     "output_type": "stream",
     "text": [
      "100%|██████████| 10/10 [00:00<00:00, 27.68it/s]\n"
     ]
    },
    {
     "name": "stdout",
     "output_type": "stream",
     "text": [
      "Step: 10, Train Loss Now: 0.6906127333641052\n"
     ]
    },
    {
     "name": "stderr",
     "output_type": "stream",
     "text": [
      "100%|██████████| 2/2 [00:00<00:00, 31.55it/s]\n",
      "  0%|          | 0/10 [00:00<?, ?it/s]"
     ]
    },
    {
     "name": "stdout",
     "output_type": "stream",
     "text": [
      "Step: 1, Train Loss Now: 0.5141897201538086\n",
      "Step: 2, Train Loss Now: 0.6040340065956116\n"
     ]
    },
    {
     "name": "stderr",
     "output_type": "stream",
     "text": [
      " 30%|███       | 3/10 [00:00<00:00, 27.85it/s]"
     ]
    },
    {
     "name": "stdout",
     "output_type": "stream",
     "text": [
      "Step: 3, Train Loss Now: 0.6510104537010193\n",
      "Step: 4, Train Loss Now: 0.630410224199295\n",
      "Step: 5, Train Loss Now: 0.6324294328689575\n",
      "Step: 6, Train Loss Now: 0.6404709120591482\n"
     ]
    },
    {
     "name": "stderr",
     "output_type": "stream",
     "text": [
      " 70%|███████   | 7/10 [00:00<00:00, 30.61it/s]"
     ]
    },
    {
     "name": "stdout",
     "output_type": "stream",
     "text": [
      "Step: 7, Train Loss Now: 0.6621875848088946\n",
      "Step: 8, Train Loss Now: 0.6623556464910507\n",
      "Step: 9, Train Loss Now: 0.6569544672966003\n"
     ]
    },
    {
     "name": "stderr",
     "output_type": "stream",
     "text": [
      "100%|██████████| 10/10 [00:00<00:00, 29.77it/s]\n"
     ]
    },
    {
     "name": "stdout",
     "output_type": "stream",
     "text": [
      "Step: 10, Train Loss Now: 0.6841192305088043\n"
     ]
    },
    {
     "name": "stderr",
     "output_type": "stream",
     "text": [
      "100%|██████████| 2/2 [00:00<00:00, 66.64it/s]\n",
      "  0%|          | 0/10 [00:00<?, ?it/s]"
     ]
    },
    {
     "name": "stdout",
     "output_type": "stream",
     "text": [
      "Step: 1, Train Loss Now: 0.6720803380012512\n",
      "Step: 2, Train Loss Now: 0.5903491079807281\n"
     ]
    },
    {
     "name": "stderr",
     "output_type": "stream",
     "text": [
      " 30%|███       | 3/10 [00:00<00:00, 25.49it/s]"
     ]
    },
    {
     "name": "stdout",
     "output_type": "stream",
     "text": [
      "Step: 3, Train Loss Now: 0.5960299968719482\n",
      "Step: 4, Train Loss Now: 0.7034697532653809\n",
      "Step: 5, Train Loss Now: 0.6805759072303772\n",
      "Step: 6, Train Loss Now: 0.6941139002641042\n"
     ]
    },
    {
     "name": "stderr",
     "output_type": "stream",
     "text": [
      " 70%|███████   | 7/10 [00:00<00:00, 23.56it/s]"
     ]
    },
    {
     "name": "stdout",
     "output_type": "stream",
     "text": [
      "Step: 7, Train Loss Now: 0.6800519994327\n",
      "Step: 8, Train Loss Now: 0.6719389706850052\n",
      "Step: 9, Train Loss Now: 0.6528987752066718\n"
     ]
    },
    {
     "name": "stderr",
     "output_type": "stream",
     "text": [
      "100%|██████████| 10/10 [00:00<00:00, 25.29it/s]\n"
     ]
    },
    {
     "name": "stdout",
     "output_type": "stream",
     "text": [
      "Step: 10, Train Loss Now: 0.6562172651290894\n"
     ]
    },
    {
     "name": "stderr",
     "output_type": "stream",
     "text": [
      "100%|██████████| 2/2 [00:00<00:00, 86.11it/s]\n",
      "  0%|          | 0/10 [00:00<?, ?it/s]"
     ]
    },
    {
     "name": "stdout",
     "output_type": "stream",
     "text": [
      "Step: 1, Train Loss Now: 0.6306818723678589\n",
      "Step: 2, Train Loss Now: 0.642286479473114\n",
      "Step: 3, Train Loss Now: 0.6744047005971273\n"
     ]
    },
    {
     "name": "stderr",
     "output_type": "stream",
     "text": [
      " 40%|████      | 4/10 [00:00<00:00, 32.15it/s]"
     ]
    },
    {
     "name": "stdout",
     "output_type": "stream",
     "text": [
      "Step: 4, Train Loss Now: 0.6663423031568527\n",
      "Step: 5, Train Loss Now: 0.6334715247154236\n",
      "Step: 6, Train Loss Now: 0.6283419132232666\n",
      "Step: 7, Train Loss Now: 0.6086708733013698\n"
     ]
    },
    {
     "name": "stderr",
     "output_type": "stream",
     "text": [
      " 80%|████████  | 8/10 [00:00<00:00, 30.26it/s]"
     ]
    },
    {
     "name": "stdout",
     "output_type": "stream",
     "text": [
      "Step: 8, Train Loss Now: 0.618112213909626\n"
     ]
    },
    {
     "name": "stderr",
     "output_type": "stream",
     "text": [
      "100%|██████████| 10/10 [00:00<00:00, 31.38it/s]"
     ]
    },
    {
     "name": "stdout",
     "output_type": "stream",
     "text": [
      "Step: 9, Train Loss Now: 0.6496807535489401\n",
      "Step: 10, Train Loss Now: 0.6397167325019837\n"
     ]
    },
    {
     "name": "stderr",
     "output_type": "stream",
     "text": [
      "\n",
      "100%|██████████| 2/2 [00:00<00:00, 65.76it/s]\n",
      "  0%|          | 0/10 [00:00<?, ?it/s]"
     ]
    },
    {
     "name": "stdout",
     "output_type": "stream",
     "text": [
      "Step: 1, Train Loss Now: 0.6067322492599487\n",
      "Step: 2, Train Loss Now: 0.6437976062297821\n",
      "Step: 3, Train Loss Now: 0.5981017152468363\n"
     ]
    },
    {
     "name": "stderr",
     "output_type": "stream",
     "text": [
      " 40%|████      | 4/10 [00:00<00:00, 30.00it/s]"
     ]
    },
    {
     "name": "stdout",
     "output_type": "stream",
     "text": [
      "Step: 4, Train Loss Now: 0.5734978914260864\n",
      "Step: 5, Train Loss Now: 0.5576995849609375\n",
      "Step: 6, Train Loss Now: 0.5689326524734497\n"
     ]
    },
    {
     "name": "stderr",
     "output_type": "stream",
     "text": [
      " 70%|███████   | 7/10 [00:00<00:00, 29.96it/s]"
     ]
    },
    {
     "name": "stdout",
     "output_type": "stream",
     "text": [
      "Step: 7, Train Loss Now: 0.5894643153463092\n",
      "Step: 8, Train Loss Now: 0.6028494909405708\n"
     ]
    },
    {
     "name": "stderr",
     "output_type": "stream",
     "text": [
      "100%|██████████| 10/10 [00:00<00:00, 30.50it/s]"
     ]
    },
    {
     "name": "stdout",
     "output_type": "stream",
     "text": [
      "Step: 9, Train Loss Now: 0.612678779496087\n",
      "Step: 10, Train Loss Now: 0.6237677991390228\n"
     ]
    },
    {
     "name": "stderr",
     "output_type": "stream",
     "text": [
      "\n",
      "100%|██████████| 2/2 [00:00<00:00, 77.16it/s]\n",
      "  0%|          | 0/10 [00:00<?, ?it/s]"
     ]
    },
    {
     "name": "stdout",
     "output_type": "stream",
     "text": [
      "Step: 1, Train Loss Now: 0.6850660443305969\n",
      "Step: 2, Train Loss Now: 0.708720475435257\n"
     ]
    },
    {
     "name": "stderr",
     "output_type": "stream",
     "text": [
      " 40%|████      | 4/10 [00:00<00:00, 31.11it/s]"
     ]
    },
    {
     "name": "stdout",
     "output_type": "stream",
     "text": [
      "Step: 3, Train Loss Now: 0.6424082318941752\n",
      "Step: 4, Train Loss Now: 0.660068079829216\n",
      "Step: 5, Train Loss Now: 0.6788137078285217\n",
      "Step: 6, Train Loss Now: 0.6917369365692139\n",
      "Step: 7, Train Loss Now: 0.6914977175848824\n"
     ]
    },
    {
     "name": "stderr",
     "output_type": "stream",
     "text": [
      " 80%|████████  | 8/10 [00:00<00:00, 31.87it/s]"
     ]
    },
    {
     "name": "stdout",
     "output_type": "stream",
     "text": [
      "Step: 8, Train Loss Now: 0.6629011258482933\n",
      "Step: 9, Train Loss Now: 0.6866020692719353\n"
     ]
    },
    {
     "name": "stderr",
     "output_type": "stream",
     "text": [
      "100%|██████████| 10/10 [00:00<00:00, 32.23it/s]\n"
     ]
    },
    {
     "name": "stdout",
     "output_type": "stream",
     "text": [
      "Step: 10, Train Loss Now: 0.6912650048732758\n"
     ]
    },
    {
     "name": "stderr",
     "output_type": "stream",
     "text": [
      "100%|██████████| 2/2 [00:00<00:00, 65.44it/s]\n",
      "  0%|          | 0/10 [00:00<?, ?it/s]"
     ]
    },
    {
     "name": "stdout",
     "output_type": "stream",
     "text": [
      "Step: 1, Train Loss Now: 0.5252188444137573\n"
     ]
    },
    {
     "name": "stderr",
     "output_type": "stream",
     "text": [
      " 20%|██        | 2/10 [00:00<00:00, 16.05it/s]"
     ]
    },
    {
     "name": "stdout",
     "output_type": "stream",
     "text": [
      "Step: 2, Train Loss Now: 0.6907965838909149\n",
      "Step: 3, Train Loss Now: 0.7065574129422506\n"
     ]
    },
    {
     "name": "stderr",
     "output_type": "stream",
     "text": [
      " 60%|██████    | 6/10 [00:00<00:00, 25.62it/s]"
     ]
    },
    {
     "name": "stdout",
     "output_type": "stream",
     "text": [
      "Step: 4, Train Loss Now: 0.6516426503658295\n",
      "Step: 5, Train Loss Now: 0.6266655802726746\n",
      "Step: 6, Train Loss Now: 0.6492594182491302\n",
      "Step: 7, Train Loss Now: 0.6431729027203151\n",
      "Step: 8, Train Loss Now: 0.6465734466910362\n"
     ]
    },
    {
     "name": "stderr",
     "output_type": "stream",
     "text": [
      "100%|██████████| 10/10 [00:00<00:00, 26.98it/s]"
     ]
    },
    {
     "name": "stdout",
     "output_type": "stream",
     "text": [
      "Step: 9, Train Loss Now: 0.6304870910114713\n",
      "Step: 10, Train Loss Now: 0.6791546285152436\n"
     ]
    },
    {
     "name": "stderr",
     "output_type": "stream",
     "text": [
      "\n",
      "100%|██████████| 2/2 [00:00<00:00, 57.11it/s]\n",
      " 30%|███       | 3/10 [00:00<00:00, 27.58it/s]"
     ]
    },
    {
     "name": "stdout",
     "output_type": "stream",
     "text": [
      "Step: 1, Train Loss Now: 0.49215075373649597\n",
      "Step: 2, Train Loss Now: 0.5607872158288956\n",
      "Step: 3, Train Loss Now: 0.5851193964481354\n",
      "Step: 4, Train Loss Now: 0.6644461080431938\n"
     ]
    },
    {
     "name": "stderr",
     "output_type": "stream",
     "text": [
      " 60%|██████    | 6/10 [00:00<00:00, 28.93it/s]"
     ]
    },
    {
     "name": "stdout",
     "output_type": "stream",
     "text": [
      "Step: 5, Train Loss Now: 0.7130481898784637\n",
      "Step: 6, Train Loss Now: 0.7058265755573908\n",
      "Step: 7, Train Loss Now: 0.7256067863532475\n"
     ]
    },
    {
     "name": "stderr",
     "output_type": "stream",
     "text": [
      "100%|██████████| 10/10 [00:00<00:00, 31.48it/s]"
     ]
    },
    {
     "name": "stdout",
     "output_type": "stream",
     "text": [
      "Step: 8, Train Loss Now: 0.6851000413298607\n",
      "Step: 9, Train Loss Now: 0.660152233309216\n",
      "Step: 10, Train Loss Now: 0.6562482804059983\n"
     ]
    },
    {
     "name": "stderr",
     "output_type": "stream",
     "text": [
      "100%|██████████| 10/10 [00:00<00:00, 30.68it/s]\n",
      "100%|██████████| 2/2 [00:00<00:00, 62.83it/s]\n",
      "  0%|          | 0/10 [00:00<?, ?it/s]"
     ]
    },
    {
     "name": "stdout",
     "output_type": "stream",
     "text": [
      "Step: 1, Train Loss Now: 0.5139158368110657\n",
      "Step: 2, Train Loss Now: 0.45347534120082855\n",
      "Step: 3, Train Loss Now: 0.49298452337582904\n"
     ]
    },
    {
     "name": "stderr",
     "output_type": "stream",
     "text": [
      " 40%|████      | 4/10 [00:00<00:00, 33.42it/s]"
     ]
    },
    {
     "name": "stdout",
     "output_type": "stream",
     "text": [
      "Step: 4, Train Loss Now: 0.5667530670762062\n",
      "Step: 5, Train Loss Now: 0.6089973747730255\n",
      "Step: 6, Train Loss Now: 0.6256372382243475\n",
      "Step: 7, Train Loss Now: 0.644770439182009\n"
     ]
    },
    {
     "name": "stderr",
     "output_type": "stream",
     "text": [
      " 80%|████████  | 8/10 [00:00<00:00, 32.22it/s]"
     ]
    },
    {
     "name": "stdout",
     "output_type": "stream",
     "text": [
      "Step: 8, Train Loss Now: 0.6593861989676952\n",
      "Step: 9, Train Loss Now: 0.6648344496885935\n"
     ]
    },
    {
     "name": "stderr",
     "output_type": "stream",
     "text": [
      "100%|██████████| 10/10 [00:00<00:00, 30.04it/s]\n"
     ]
    },
    {
     "name": "stdout",
     "output_type": "stream",
     "text": [
      "Step: 10, Train Loss Now: 0.67043938934803\n"
     ]
    },
    {
     "name": "stderr",
     "output_type": "stream",
     "text": [
      "100%|██████████| 2/2 [00:00<00:00, 64.69it/s]\n",
      "  0%|          | 0/10 [00:00<?, ?it/s]"
     ]
    },
    {
     "name": "stdout",
     "output_type": "stream",
     "text": [
      "Step: 1, Train Loss Now: 0.4975985586643219\n",
      "Step: 2, Train Loss Now: 0.6177186220884323\n"
     ]
    },
    {
     "name": "stderr",
     "output_type": "stream",
     "text": [
      " 40%|████      | 4/10 [00:00<00:00, 31.36it/s]"
     ]
    },
    {
     "name": "stdout",
     "output_type": "stream",
     "text": [
      "Step: 3, Train Loss Now: 0.7056669493516287\n",
      "Step: 4, Train Loss Now: 0.6781092807650566\n",
      "Step: 5, Train Loss Now: 0.6899098813533783\n",
      "Step: 6, Train Loss Now: 0.6825489352146784\n",
      "Step: 7, Train Loss Now: 0.6967466771602631\n"
     ]
    },
    {
     "name": "stderr",
     "output_type": "stream",
     "text": [
      " 80%|████████  | 8/10 [00:00<00:00, 29.93it/s]"
     ]
    },
    {
     "name": "stdout",
     "output_type": "stream",
     "text": [
      "Step: 8, Train Loss Now: 0.7043915502727032\n",
      "Step: 9, Train Loss Now: 0.7032929890685611\n",
      "Step: 10, Train Loss Now: 0.7157946079969406\n"
     ]
    },
    {
     "name": "stderr",
     "output_type": "stream",
     "text": [
      "100%|██████████| 10/10 [00:00<00:00, 28.68it/s]\n",
      "100%|██████████| 2/2 [00:00<00:00, 48.76it/s]\n",
      "  0%|          | 0/10 [00:00<?, ?it/s]"
     ]
    },
    {
     "name": "stdout",
     "output_type": "stream",
     "text": [
      "Step: 1, Train Loss Now: 0.5100999474525452\n",
      "Step: 2, Train Loss Now: 0.6060686707496643\n"
     ]
    },
    {
     "name": "stderr",
     "output_type": "stream",
     "text": [
      " 30%|███       | 3/10 [00:00<00:00, 27.08it/s]"
     ]
    },
    {
     "name": "stdout",
     "output_type": "stream",
     "text": [
      "Step: 3, Train Loss Now: 0.6154876947402954\n",
      "Step: 4, Train Loss Now: 0.6144204884767532\n",
      "Step: 5, Train Loss Now: 0.6651803016662597\n",
      "Step: 6, Train Loss Now: 0.6658834914366404\n"
     ]
    },
    {
     "name": "stderr",
     "output_type": "stream",
     "text": [
      " 70%|███████   | 7/10 [00:00<00:00, 29.84it/s]"
     ]
    },
    {
     "name": "stdout",
     "output_type": "stream",
     "text": [
      "Step: 7, Train Loss Now: 0.6900947860309056\n",
      "Step: 8, Train Loss Now: 0.6707737594842911\n",
      "Step: 9, Train Loss Now: 0.6796332796414694\n"
     ]
    },
    {
     "name": "stderr",
     "output_type": "stream",
     "text": [
      "100%|██████████| 10/10 [00:00<00:00, 30.52it/s]\n"
     ]
    },
    {
     "name": "stdout",
     "output_type": "stream",
     "text": [
      "Step: 10, Train Loss Now: 0.685556834936142\n"
     ]
    },
    {
     "name": "stderr",
     "output_type": "stream",
     "text": [
      "100%|██████████| 2/2 [00:00<00:00, 69.43it/s]\n",
      "  0%|          | 0/10 [00:00<?, ?it/s]"
     ]
    },
    {
     "name": "stdout",
     "output_type": "stream",
     "text": [
      "Step: 1, Train Loss Now: 0.3970332741737366\n",
      "Step: 2, Train Loss Now: 0.5941688120365143\n"
     ]
    },
    {
     "name": "stderr",
     "output_type": "stream",
     "text": [
      " 30%|███       | 3/10 [00:00<00:00, 29.33it/s]"
     ]
    },
    {
     "name": "stdout",
     "output_type": "stream",
     "text": [
      "Step: 3, Train Loss Now: 0.562197764714559\n",
      "Step: 4, Train Loss Now: 0.6347692906856537\n",
      "Step: 5, Train Loss Now: 0.6586233496665954\n"
     ]
    },
    {
     "name": "stderr",
     "output_type": "stream",
     "text": [
      " 60%|██████    | 6/10 [00:00<00:00, 28.26it/s]"
     ]
    },
    {
     "name": "stdout",
     "output_type": "stream",
     "text": [
      "Step: 6, Train Loss Now: 0.6672282616297404\n",
      "Step: 7, Train Loss Now: 0.643379134791238\n",
      "Step: 8, Train Loss Now: 0.6677427813410759\n"
     ]
    },
    {
     "name": "stderr",
     "output_type": "stream",
     "text": [
      "100%|██████████| 10/10 [00:00<00:00, 29.81it/s]\n"
     ]
    },
    {
     "name": "stdout",
     "output_type": "stream",
     "text": [
      "Step: 9, Train Loss Now: 0.6695849564340379\n",
      "Step: 10, Train Loss Now: 0.6568885445594788\n"
     ]
    },
    {
     "name": "stderr",
     "output_type": "stream",
     "text": [
      "100%|██████████| 2/2 [00:00<00:00, 95.50it/s]\n",
      "  0%|          | 0/10 [00:00<?, ?it/s]"
     ]
    },
    {
     "name": "stdout",
     "output_type": "stream",
     "text": [
      "Step: 1, Train Loss Now: 0.5637439489364624\n"
     ]
    },
    {
     "name": "stderr",
     "output_type": "stream",
     "text": [
      " 20%|██        | 2/10 [00:00<00:00, 17.00it/s]"
     ]
    },
    {
     "name": "stdout",
     "output_type": "stream",
     "text": [
      "Step: 2, Train Loss Now: 0.5860562026500702\n"
     ]
    },
    {
     "name": "stderr",
     "output_type": "stream",
     "text": [
      " 50%|█████     | 5/10 [00:00<00:00, 22.37it/s]"
     ]
    },
    {
     "name": "stdout",
     "output_type": "stream",
     "text": [
      "Step: 3, Train Loss Now: 0.5892536838849386\n",
      "Step: 4, Train Loss Now: 0.6359099894762039\n",
      "Step: 5, Train Loss Now: 0.6152986764907837\n",
      "Step: 6, Train Loss Now: 0.6104093988736471\n",
      "Step: 7, Train Loss Now: 0.6213693448475429\n"
     ]
    },
    {
     "name": "stderr",
     "output_type": "stream",
     "text": [
      "100%|██████████| 10/10 [00:00<00:00, 25.27it/s]\n"
     ]
    },
    {
     "name": "stdout",
     "output_type": "stream",
     "text": [
      "Step: 8, Train Loss Now: 0.596515841782093\n",
      "Step: 9, Train Loss Now: 0.6320128440856934\n",
      "Step: 10, Train Loss Now: 0.6270487368106842\n"
     ]
    },
    {
     "name": "stderr",
     "output_type": "stream",
     "text": [
      "100%|██████████| 2/2 [00:00<00:00, 64.12it/s]\n",
      "  0%|          | 0/10 [00:00<?, ?it/s]"
     ]
    },
    {
     "name": "stdout",
     "output_type": "stream",
     "text": [
      "Step: 1, Train Loss Now: 0.5858729481697083\n",
      "Step: 2, Train Loss Now: 0.633726954460144\n",
      "Step: 3, Train Loss Now: 0.6363173524538676\n"
     ]
    },
    {
     "name": "stderr",
     "output_type": "stream",
     "text": [
      " 40%|████      | 4/10 [00:00<00:00, 33.21it/s]"
     ]
    },
    {
     "name": "stdout",
     "output_type": "stream",
     "text": [
      "Step: 4, Train Loss Now: 0.64864282310009\n",
      "Step: 5, Train Loss Now: 0.6275389432907105\n",
      "Step: 6, Train Loss Now: 0.6445588966210684\n"
     ]
    },
    {
     "name": "stderr",
     "output_type": "stream",
     "text": [
      " 80%|████████  | 8/10 [00:00<00:00, 31.22it/s]"
     ]
    },
    {
     "name": "stdout",
     "output_type": "stream",
     "text": [
      "Step: 7, Train Loss Now: 0.6386079107012067\n",
      "Step: 8, Train Loss Now: 0.6360860839486122\n"
     ]
    },
    {
     "name": "stderr",
     "output_type": "stream",
     "text": [
      "100%|██████████| 10/10 [00:00<00:00, 33.02it/s]"
     ]
    },
    {
     "name": "stdout",
     "output_type": "stream",
     "text": [
      "Step: 9, Train Loss Now: 0.6237709058655633\n",
      "Step: 10, Train Loss Now: 0.6627610743045806\n"
     ]
    },
    {
     "name": "stderr",
     "output_type": "stream",
     "text": [
      "\n",
      "100%|██████████| 2/2 [00:00<00:00, 61.56it/s]\n",
      "  0%|          | 0/10 [00:00<?, ?it/s]"
     ]
    },
    {
     "name": "stdout",
     "output_type": "stream",
     "text": [
      "Step: 1, Train Loss Now: 0.7162873148918152\n",
      "Step: 2, Train Loss Now: 0.7099641561508179\n"
     ]
    },
    {
     "name": "stderr",
     "output_type": "stream",
     "text": [
      " 30%|███       | 3/10 [00:00<00:00, 28.38it/s]"
     ]
    },
    {
     "name": "stdout",
     "output_type": "stream",
     "text": [
      "Step: 3, Train Loss Now: 0.6637658079465231\n",
      "Step: 4, Train Loss Now: 0.6573846489191055\n",
      "Step: 5, Train Loss Now: 0.6665512323379517\n",
      "Step: 6, Train Loss Now: 0.6272287021080653\n"
     ]
    },
    {
     "name": "stderr",
     "output_type": "stream",
     "text": [
      " 70%|███████   | 7/10 [00:00<00:00, 29.69it/s]"
     ]
    },
    {
     "name": "stdout",
     "output_type": "stream",
     "text": [
      "Step: 7, Train Loss Now: 0.6202754761491504\n",
      "Step: 8, Train Loss Now: 0.6158694066107273\n"
     ]
    },
    {
     "name": "stderr",
     "output_type": "stream",
     "text": [
      "100%|██████████| 10/10 [00:00<00:00, 30.19it/s]\n"
     ]
    },
    {
     "name": "stdout",
     "output_type": "stream",
     "text": [
      "Step: 9, Train Loss Now: 0.62368134326405\n",
      "Step: 10, Train Loss Now: 0.6295960456132889\n"
     ]
    },
    {
     "name": "stderr",
     "output_type": "stream",
     "text": [
      "100%|██████████| 2/2 [00:00<00:00, 30.01it/s]\n",
      "  0%|          | 0/10 [00:00<?, ?it/s]"
     ]
    },
    {
     "name": "stdout",
     "output_type": "stream",
     "text": [
      "Step: 1, Train Loss Now: 0.7302154898643494\n",
      "Step: 2, Train Loss Now: 0.6390931904315948"
     ]
    },
    {
     "name": "stderr",
     "output_type": "stream",
     "text": [
      " 30%|███       | 3/10 [00:00<00:00, 19.02it/s]"
     ]
    },
    {
     "name": "stdout",
     "output_type": "stream",
     "text": [
      "\n",
      "Step: 3, Train Loss Now: 0.6166585286458334\n",
      "Step: 4, Train Loss Now: 0.6207752972841263\n"
     ]
    },
    {
     "name": "stderr",
     "output_type": "stream",
     "text": [
      " 70%|███████   | 7/10 [00:00<00:00, 24.72it/s]"
     ]
    },
    {
     "name": "stdout",
     "output_type": "stream",
     "text": [
      "Step: 5, Train Loss Now: 0.6415959000587463\n",
      "Step: 6, Train Loss Now: 0.6127998779217402\n",
      "Step: 7, Train Loss Now: 0.6070923166615623\n"
     ]
    },
    {
     "name": "stderr",
     "output_type": "stream",
     "text": [
      "100%|██████████| 10/10 [00:00<00:00, 25.97it/s]\n"
     ]
    },
    {
     "name": "stdout",
     "output_type": "stream",
     "text": [
      "Step: 8, Train Loss Now: 0.6055551283061504\n",
      "Step: 9, Train Loss Now: 0.6083568102783627\n",
      "Step: 10, Train Loss Now: 0.6264206916093826\n"
     ]
    },
    {
     "name": "stderr",
     "output_type": "stream",
     "text": [
      "100%|██████████| 2/2 [00:00<00:00, 76.22it/s]\n",
      " 40%|████      | 4/10 [00:00<00:00, 33.10it/s]"
     ]
    },
    {
     "name": "stdout",
     "output_type": "stream",
     "text": [
      "Step: 1, Train Loss Now: 0.46763917803764343\n",
      "Step: 2, Train Loss Now: 0.6335384398698807\n",
      "Step: 3, Train Loss Now: 0.6177474558353424\n",
      "Step: 4, Train Loss Now: 0.6046557351946831\n",
      "Step: 5, Train Loss Now: 0.6084998190402985\n",
      "Step: 6, Train Loss Now: 0.6418177038431168\n",
      "Step: 7, Train Loss Now: 0.6526024980204446\n"
     ]
    },
    {
     "name": "stderr",
     "output_type": "stream",
     "text": [
      "100%|██████████| 10/10 [00:00<00:00, 33.36it/s]\n"
     ]
    },
    {
     "name": "stdout",
     "output_type": "stream",
     "text": [
      "Step: 8, Train Loss Now: 0.6582612134516239\n",
      "Step: 9, Train Loss Now: 0.6590184734927284\n",
      "Step: 10, Train Loss Now: 0.6286936283111573\n"
     ]
    },
    {
     "name": "stderr",
     "output_type": "stream",
     "text": [
      "100%|██████████| 2/2 [00:00<00:00, 74.79it/s]\n",
      "  0%|          | 0/10 [00:00<?, ?it/s]"
     ]
    },
    {
     "name": "stdout",
     "output_type": "stream",
     "text": [
      "Step: 1, Train Loss Now: 0.7391243577003479\n"
     ]
    },
    {
     "name": "stderr",
     "output_type": "stream",
     "text": [
      " 60%|██████    | 6/10 [00:00<00:00, 26.43it/s]"
     ]
    },
    {
     "name": "stdout",
     "output_type": "stream",
     "text": [
      "Step: 2, Train Loss Now: 0.6960693895816803\n",
      "Step: 3, Train Loss Now: 0.6697756250699362\n",
      "Step: 4, Train Loss Now: 0.5881271213293076\n",
      "Step: 5, Train Loss Now: 0.593085527420044\n",
      "Step: 6, Train Loss Now: 0.5958445072174072\n",
      "Step: 7, Train Loss Now: 0.5602858407156808\n",
      "Step: 8, Train Loss Now: 0.5621036142110825\n"
     ]
    },
    {
     "name": "stderr",
     "output_type": "stream",
     "text": [
      "100%|██████████| 10/10 [00:00<00:00, 28.13it/s]\n"
     ]
    },
    {
     "name": "stdout",
     "output_type": "stream",
     "text": [
      "Step: 9, Train Loss Now: 0.5803655982017517\n",
      "Step: 10, Train Loss Now: 0.5989660441875457\n"
     ]
    },
    {
     "name": "stderr",
     "output_type": "stream",
     "text": [
      "100%|██████████| 2/2 [00:00<00:00, 74.60it/s]\n",
      " 30%|███       | 3/10 [00:00<00:00, 29.96it/s]"
     ]
    },
    {
     "name": "stdout",
     "output_type": "stream",
     "text": [
      "Step: 1, Train Loss Now: 0.6789903044700623\n",
      "Step: 2, Train Loss Now: 0.5783226191997528\n",
      "Step: 3, Train Loss Now: 0.592557946840922\n",
      "Step: 4, Train Loss Now: 0.594086155295372\n"
     ]
    },
    {
     "name": "stderr",
     "output_type": "stream",
     "text": [
      " 70%|███████   | 7/10 [00:00<00:00, 32.56it/s]"
     ]
    },
    {
     "name": "stdout",
     "output_type": "stream",
     "text": [
      "Step: 5, Train Loss Now: 0.5645317554473877\n",
      "Step: 6, Train Loss Now: 0.5511414259672165\n",
      "Step: 7, Train Loss Now: 0.5591226858752114\n"
     ]
    },
    {
     "name": "stderr",
     "output_type": "stream",
     "text": [
      "100%|██████████| 10/10 [00:00<00:00, 31.60it/s]\n"
     ]
    },
    {
     "name": "stdout",
     "output_type": "stream",
     "text": [
      "Step: 8, Train Loss Now: 0.5447450205683708\n",
      "Step: 9, Train Loss Now: 0.5618318849139743\n",
      "Step: 10, Train Loss Now: 0.5872121930122376\n"
     ]
    },
    {
     "name": "stderr",
     "output_type": "stream",
     "text": [
      "100%|██████████| 2/2 [00:00<00:00, 93.44it/s]\n",
      "  0%|          | 0/10 [00:00<?, ?it/s]"
     ]
    },
    {
     "name": "stdout",
     "output_type": "stream",
     "text": [
      "Step: 1, Train Loss Now: 0.5333155393600464\n",
      "Step: 2, Train Loss Now: 0.45945021510124207\n"
     ]
    },
    {
     "name": "stderr",
     "output_type": "stream",
     "text": [
      " 70%|███████   | 7/10 [00:00<00:00, 31.58it/s]"
     ]
    },
    {
     "name": "stdout",
     "output_type": "stream",
     "text": [
      "Step: 3, Train Loss Now: 0.5517146587371826\n",
      "Step: 4, Train Loss Now: 0.5475529134273529\n",
      "Step: 5, Train Loss Now: 0.5719667673110962\n",
      "Step: 6, Train Loss Now: 0.5720105171203613\n",
      "Step: 7, Train Loss Now: 0.6152220708983285\n",
      "Step: 8, Train Loss Now: 0.6001502647995949\n",
      "Step: 9, Train Loss Now: 0.6076682938469781\n"
     ]
    },
    {
     "name": "stderr",
     "output_type": "stream",
     "text": [
      "100%|██████████| 10/10 [00:00<00:00, 32.62it/s]\n"
     ]
    },
    {
     "name": "stdout",
     "output_type": "stream",
     "text": [
      "Step: 10, Train Loss Now: 0.6060443937778472\n"
     ]
    },
    {
     "name": "stderr",
     "output_type": "stream",
     "text": [
      "100%|██████████| 2/2 [00:00<00:00, 74.62it/s]\n",
      " 20%|██        | 2/10 [00:00<00:00, 17.75it/s]"
     ]
    },
    {
     "name": "stdout",
     "output_type": "stream",
     "text": [
      "Step: 1, Train Loss Now: 0.7980986833572388\n",
      "Step: 2, Train Loss Now: 0.7864472270011902\n",
      "Step: 3, Train Loss Now: 0.7069558699925741\n"
     ]
    },
    {
     "name": "stderr",
     "output_type": "stream",
     "text": [
      " 60%|██████    | 6/10 [00:00<00:00, 26.56it/s]"
     ]
    },
    {
     "name": "stdout",
     "output_type": "stream",
     "text": [
      "Step: 4, Train Loss Now: 0.6574839502573013\n",
      "Step: 5, Train Loss Now: 0.602368825674057\n",
      "Step: 6, Train Loss Now: 0.6101367622613907\n"
     ]
    },
    {
     "name": "stderr",
     "output_type": "stream",
     "text": [
      " 90%|█████████ | 9/10 [00:00<00:00, 27.98it/s]"
     ]
    },
    {
     "name": "stdout",
     "output_type": "stream",
     "text": [
      "Step: 7, Train Loss Now: 0.6039155168192727\n",
      "Step: 8, Train Loss Now: 0.6325703226029873\n",
      "Step: 9, Train Loss Now: 0.6222883827156491\n",
      "Step: 10, Train Loss Now: 0.6131040006875992\n"
     ]
    },
    {
     "name": "stderr",
     "output_type": "stream",
     "text": [
      "100%|██████████| 10/10 [00:00<00:00, 27.71it/s]\n",
      "100%|██████████| 2/2 [00:00<00:00, 76.63it/s]\n",
      "  0%|          | 0/10 [00:00<?, ?it/s]"
     ]
    },
    {
     "name": "stdout",
     "output_type": "stream",
     "text": [
      "Step: 1, Train Loss Now: 0.5935014486312866\n",
      "Step: 2, Train Loss Now: 0.5945461094379425\n"
     ]
    },
    {
     "name": "stderr",
     "output_type": "stream",
     "text": [
      " 40%|████      | 4/10 [00:00<00:00, 29.87it/s]"
     ]
    },
    {
     "name": "stdout",
     "output_type": "stream",
     "text": [
      "Step: 3, Train Loss Now: 0.5594645341237386\n",
      "Step: 4, Train Loss Now: 0.5507622063159943\n",
      "Step: 5, Train Loss Now: 0.5882230758666992\n",
      "Step: 6, Train Loss Now: 0.6457238594690958\n"
     ]
    },
    {
     "name": "stderr",
     "output_type": "stream",
     "text": [
      " 70%|███████   | 7/10 [00:00<00:00, 28.94it/s]"
     ]
    },
    {
     "name": "stdout",
     "output_type": "stream",
     "text": [
      "Step: 7, Train Loss Now: 0.6365040114947728\n"
     ]
    },
    {
     "name": "stderr",
     "output_type": "stream",
     "text": [
      "100%|██████████| 10/10 [00:00<00:00, 24.62it/s]"
     ]
    },
    {
     "name": "stdout",
     "output_type": "stream",
     "text": [
      "Step: 8, Train Loss Now: 0.6327147409319878\n",
      "Step: 9, Train Loss Now: 0.6011996202998691\n",
      "Step: 10, Train Loss Now: 0.601042491197586\n"
     ]
    },
    {
     "name": "stderr",
     "output_type": "stream",
     "text": [
      "100%|██████████| 10/10 [00:00<00:00, 25.83it/s]\n",
      "100%|██████████| 2/2 [00:00<00:00, 63.20it/s]\n",
      "  0%|          | 0/10 [00:00<?, ?it/s]"
     ]
    },
    {
     "name": "stdout",
     "output_type": "stream",
     "text": [
      "Step: 1, Train Loss Now: 0.38021424412727356\n",
      "Step: 2, Train Loss Now: 0.5408840030431747\n"
     ]
    },
    {
     "name": "stderr",
     "output_type": "stream",
     "text": [
      " 40%|████      | 4/10 [00:00<00:00, 33.40it/s]"
     ]
    },
    {
     "name": "stdout",
     "output_type": "stream",
     "text": [
      "Step: 3, Train Loss Now: 0.5905491610368093\n",
      "Step: 4, Train Loss Now: 0.5597753077745438\n",
      "Step: 5, Train Loss Now: 0.6005117535591126\n",
      "Step: 6, Train Loss Now: 0.5740946233272552\n",
      "Step: 7, Train Loss Now: 0.5844688585826329\n"
     ]
    },
    {
     "name": "stderr",
     "output_type": "stream",
     "text": [
      " 80%|████████  | 8/10 [00:00<00:00, 32.72it/s]"
     ]
    },
    {
     "name": "stdout",
     "output_type": "stream",
     "text": [
      "Step: 8, Train Loss Now: 0.5679866038262844\n",
      "Step: 9, Train Loss Now: 0.583219008313285\n"
     ]
    },
    {
     "name": "stderr",
     "output_type": "stream",
     "text": [
      "100%|██████████| 10/10 [00:00<00:00, 34.00it/s]\n"
     ]
    },
    {
     "name": "stdout",
     "output_type": "stream",
     "text": [
      "Step: 10, Train Loss Now: 0.5940730541944503\n"
     ]
    },
    {
     "name": "stderr",
     "output_type": "stream",
     "text": [
      "100%|██████████| 2/2 [00:00<00:00, 61.90it/s]\n",
      "  0%|          | 0/10 [00:00<?, ?it/s]"
     ]
    },
    {
     "name": "stdout",
     "output_type": "stream",
     "text": [
      "Step: 1, Train Loss Now: 0.907208263874054\n",
      "Step: 2, Train Loss Now: 0.7150734066963196\n"
     ]
    },
    {
     "name": "stderr",
     "output_type": "stream",
     "text": [
      " 30%|███       | 3/10 [00:00<00:00, 25.91it/s]"
     ]
    },
    {
     "name": "stdout",
     "output_type": "stream",
     "text": [
      "Step: 3, Train Loss Now: 0.6561193863550822\n",
      "Step: 4, Train Loss Now: 0.6024447157979012\n"
     ]
    },
    {
     "name": "stderr",
     "output_type": "stream",
     "text": [
      " 60%|██████    | 6/10 [00:00<00:00, 27.29it/s]"
     ]
    },
    {
     "name": "stdout",
     "output_type": "stream",
     "text": [
      "Step: 5, Train Loss Now: 0.5708776950836182\n",
      "Step: 6, Train Loss Now: 0.6095804770787557\n",
      "Step: 7, Train Loss Now: 0.6508552006312779\n",
      "Step: 8, Train Loss Now: 0.6365963742136955\n"
     ]
    },
    {
     "name": "stderr",
     "output_type": "stream",
     "text": [
      "100%|██████████| 10/10 [00:00<00:00, 28.42it/s]\n"
     ]
    },
    {
     "name": "stdout",
     "output_type": "stream",
     "text": [
      "Step: 9, Train Loss Now: 0.6133693622218238\n",
      "Step: 10, Train Loss Now: 0.6420737415552139\n"
     ]
    },
    {
     "name": "stderr",
     "output_type": "stream",
     "text": [
      "100%|██████████| 2/2 [00:00<00:00, 62.27it/s]\n",
      "  0%|          | 0/10 [00:00<?, ?it/s]"
     ]
    },
    {
     "name": "stdout",
     "output_type": "stream",
     "text": [
      "Step: 1, Train Loss Now: 0.4989737570285797\n",
      "Step: 2, Train Loss Now: 0.605882003903389\n",
      "Step: 3, Train Loss Now: 0.6280166804790497\n"
     ]
    },
    {
     "name": "stderr",
     "output_type": "stream",
     "text": [
      " 40%|████      | 4/10 [00:00<00:00, 32.17it/s]"
     ]
    },
    {
     "name": "stdout",
     "output_type": "stream",
     "text": [
      "Step: 4, Train Loss Now: 0.5538360923528671\n",
      "Step: 5, Train Loss Now: 0.5514608383178711\n",
      "Step: 6, Train Loss Now: 0.5537210702896118\n",
      "Step: 7, Train Loss Now: 0.566645724432809\n"
     ]
    },
    {
     "name": "stderr",
     "output_type": "stream",
     "text": [
      "100%|██████████| 10/10 [00:00<00:00, 31.04it/s]"
     ]
    },
    {
     "name": "stdout",
     "output_type": "stream",
     "text": [
      "Step: 8, Train Loss Now: 0.5637259632349014\n",
      "Step: 9, Train Loss Now: 0.5592739052242703\n",
      "Step: 10, Train Loss Now: 0.546920222043991\n"
     ]
    },
    {
     "name": "stderr",
     "output_type": "stream",
     "text": [
      "\n",
      "100%|██████████| 2/2 [00:00<00:00, 61.87it/s]\n",
      "  0%|          | 0/10 [00:00<?, ?it/s]"
     ]
    },
    {
     "name": "stdout",
     "output_type": "stream",
     "text": [
      "Step: 1, Train Loss Now: 0.5337404608726501\n",
      "Step: 2, Train Loss Now: 0.5002314448356628\n"
     ]
    },
    {
     "name": "stderr",
     "output_type": "stream",
     "text": [
      " 40%|████      | 4/10 [00:00<00:00, 31.78it/s]"
     ]
    },
    {
     "name": "stdout",
     "output_type": "stream",
     "text": [
      "Step: 3, Train Loss Now: 0.490403284629186\n",
      "Step: 4, Train Loss Now: 0.5516031309962273\n",
      "Step: 5, Train Loss Now: 0.516484135389328\n",
      "Step: 6, Train Loss Now: 0.5193791737159094\n",
      "Step: 7, Train Loss Now: 0.5689300170966557\n"
     ]
    },
    {
     "name": "stderr",
     "output_type": "stream",
     "text": [
      "100%|██████████| 10/10 [00:00<00:00, 26.62it/s]\n"
     ]
    },
    {
     "name": "stdout",
     "output_type": "stream",
     "text": [
      "Step: 8, Train Loss Now: 0.581487376242876\n",
      "Step: 9, Train Loss Now: 0.5995892186959585\n",
      "Step: 10, Train Loss Now: 0.5930502206087113\n"
     ]
    },
    {
     "name": "stderr",
     "output_type": "stream",
     "text": [
      "100%|██████████| 2/2 [00:00<00:00, 54.97it/s]\n",
      " 30%|███       | 3/10 [00:00<00:00, 29.65it/s]"
     ]
    },
    {
     "name": "stdout",
     "output_type": "stream",
     "text": [
      "Step: 1, Train Loss Now: 0.6257885098457336\n",
      "Step: 2, Train Loss Now: 0.6886129975318909\n",
      "Step: 3, Train Loss Now: 0.6373732686042786\n"
     ]
    },
    {
     "name": "stderr",
     "output_type": "stream",
     "text": [
      " 60%|██████    | 6/10 [00:00<00:00, 28.91it/s]"
     ]
    },
    {
     "name": "stdout",
     "output_type": "stream",
     "text": [
      "Step: 4, Train Loss Now: 0.6265421658754349\n",
      "Step: 5, Train Loss Now: 0.6160308599472046\n",
      "Step: 6, Train Loss Now: 0.6342647870381674\n",
      "Step: 7, Train Loss Now: 0.6520213399614606\n",
      "Step: 8, Train Loss Now: 0.6438919678330421\n",
      "Step: 9, Train Loss Now: 0.6657219330469767\n"
     ]
    },
    {
     "name": "stderr",
     "output_type": "stream",
     "text": [
      "100%|██████████| 10/10 [00:00<00:00, 30.37it/s]\n"
     ]
    },
    {
     "name": "stdout",
     "output_type": "stream",
     "text": [
      "Step: 10, Train Loss Now: 0.6867811381816864\n"
     ]
    },
    {
     "name": "stderr",
     "output_type": "stream",
     "text": [
      "100%|██████████| 2/2 [00:00<00:00, 60.29it/s]\n",
      "  0%|          | 0/10 [00:00<?, ?it/s]"
     ]
    },
    {
     "name": "stdout",
     "output_type": "stream",
     "text": [
      "Step: 1, Train Loss Now: 0.4750698208808899\n",
      "Step: 2, Train Loss Now: 0.6227608025074005\n",
      "Step: 3, Train Loss Now: 0.5546371440092722\n"
     ]
    },
    {
     "name": "stderr",
     "output_type": "stream",
     "text": [
      " 40%|████      | 4/10 [00:00<00:00, 23.13it/s]"
     ]
    },
    {
     "name": "stdout",
     "output_type": "stream",
     "text": [
      "Step: 4, Train Loss Now: 0.5511368438601494\n",
      "Step: 5, Train Loss Now: 0.5525249898433685\n",
      "Step: 6, Train Loss Now: 0.5919279704491297\n",
      "Step: 7, Train Loss Now: 0.5894208678177425\n"
     ]
    },
    {
     "name": "stderr",
     "output_type": "stream",
     "text": [
      "100%|██████████| 10/10 [00:00<00:00, 27.55it/s]"
     ]
    },
    {
     "name": "stdout",
     "output_type": "stream",
     "text": [
      "Step: 8, Train Loss Now: 0.5789723880589008\n",
      "Step: 9, Train Loss Now: 0.5882066984971365\n",
      "Step: 10, Train Loss Now: 0.5845923691987991\n"
     ]
    },
    {
     "name": "stderr",
     "output_type": "stream",
     "text": [
      "\n",
      "100%|██████████| 2/2 [00:00<00:00, 75.72it/s]\n",
      "  0%|          | 0/10 [00:00<?, ?it/s]"
     ]
    },
    {
     "name": "stdout",
     "output_type": "stream",
     "text": [
      "Step: 1, Train Loss Now: 0.7984833121299744\n"
     ]
    },
    {
     "name": "stderr",
     "output_type": "stream",
     "text": [
      " 30%|███       | 3/10 [00:00<00:00, 29.65it/s]"
     ]
    },
    {
     "name": "stdout",
     "output_type": "stream",
     "text": [
      "Step: 2, Train Loss Now: 0.6348684132099152\n",
      "Step: 3, Train Loss Now: 0.6963710983594259\n"
     ]
    },
    {
     "name": "stderr",
     "output_type": "stream",
     "text": [
      " 60%|██████    | 6/10 [00:00<00:00, 29.85it/s]"
     ]
    },
    {
     "name": "stdout",
     "output_type": "stream",
     "text": [
      "Step: 4, Train Loss Now: 0.6354136019945145\n",
      "Step: 5, Train Loss Now: 0.5927883088588715\n",
      "Step: 6, Train Loss Now: 0.59659377237161\n",
      "Step: 7, Train Loss Now: 0.5979799841131482\n"
     ]
    },
    {
     "name": "stderr",
     "output_type": "stream",
     "text": [
      "100%|██████████| 10/10 [00:00<00:00, 29.56it/s]"
     ]
    },
    {
     "name": "stdout",
     "output_type": "stream",
     "text": [
      "Step: 8, Train Loss Now: 0.5947395153343678\n",
      "Step: 9, Train Loss Now: 0.6138891412152184\n",
      "Step: 10, Train Loss Now: 0.6377051264047623\n"
     ]
    },
    {
     "name": "stderr",
     "output_type": "stream",
     "text": [
      "\n",
      "100%|██████████| 2/2 [00:00<00:00, 86.68it/s]\n",
      "  0%|          | 0/10 [00:00<?, ?it/s]"
     ]
    },
    {
     "name": "stdout",
     "output_type": "stream",
     "text": [
      "Step: 1, Train Loss Now: 0.49279728531837463\n",
      "Step: 2, Train Loss Now: 0.5080599933862686\n",
      "Step: 3, Train Loss Now: 0.49435916543006897\n"
     ]
    },
    {
     "name": "stderr",
     "output_type": "stream",
     "text": [
      " 40%|████      | 4/10 [00:00<00:00, 30.71it/s]"
     ]
    },
    {
     "name": "stdout",
     "output_type": "stream",
     "text": [
      "Step: 4, Train Loss Now: 0.5354412421584129\n",
      "Step: 5, Train Loss Now: 0.5310828149318695\n",
      "Step: 6, Train Loss Now: 0.5471726506948471\n"
     ]
    },
    {
     "name": "stderr",
     "output_type": "stream",
     "text": [
      " 80%|████████  | 8/10 [00:00<00:00, 28.11it/s]"
     ]
    },
    {
     "name": "stdout",
     "output_type": "stream",
     "text": [
      "Step: 7, Train Loss Now: 0.5488782737936292\n",
      "Step: 8, Train Loss Now: 0.5576758347451687\n",
      "Step: 9, Train Loss Now: 0.5715202457374997\n"
     ]
    },
    {
     "name": "stderr",
     "output_type": "stream",
     "text": [
      "100%|██████████| 10/10 [00:00<00:00, 29.72it/s]\n"
     ]
    },
    {
     "name": "stdout",
     "output_type": "stream",
     "text": [
      "Step: 10, Train Loss Now: 0.5587041676044464\n"
     ]
    },
    {
     "name": "stderr",
     "output_type": "stream",
     "text": [
      "100%|██████████| 2/2 [00:00<00:00, 23.98it/s]\n",
      "  0%|          | 0/10 [00:00<?, ?it/s]"
     ]
    },
    {
     "name": "stdout",
     "output_type": "stream",
     "text": [
      "Step: 1, Train Loss Now: 0.43425071239471436\n",
      "Step: 2, Train Loss Now: 0.44007064402103424\n"
     ]
    },
    {
     "name": "stderr",
     "output_type": "stream",
     "text": [
      " 40%|████      | 4/10 [00:00<00:00, 30.79it/s]"
     ]
    },
    {
     "name": "stdout",
     "output_type": "stream",
     "text": [
      "Step: 3, Train Loss Now: 0.5553344190120697\n",
      "Step: 4, Train Loss Now: 0.505614697933197\n",
      "Step: 5, Train Loss Now: 0.517107629776001\n",
      "Step: 6, Train Loss Now: 0.5466082592805227\n"
     ]
    },
    {
     "name": "stderr",
     "output_type": "stream",
     "text": [
      " 80%|████████  | 8/10 [00:00<00:00, 29.39it/s]"
     ]
    },
    {
     "name": "stdout",
     "output_type": "stream",
     "text": [
      "Step: 7, Train Loss Now: 0.5821888872555324\n",
      "Step: 8, Train Loss Now: 0.5605540722608566\n",
      "Step: 9, Train Loss Now: 0.558025962776608\n"
     ]
    },
    {
     "name": "stderr",
     "output_type": "stream",
     "text": [
      "100%|██████████| 10/10 [00:00<00:00, 30.21it/s]\n"
     ]
    },
    {
     "name": "stdout",
     "output_type": "stream",
     "text": [
      "Step: 10, Train Loss Now: 0.5617341458797455\n"
     ]
    },
    {
     "name": "stderr",
     "output_type": "stream",
     "text": [
      "100%|██████████| 2/2 [00:00<00:00, 73.10it/s]\n",
      "  0%|          | 0/10 [00:00<?, ?it/s]"
     ]
    },
    {
     "name": "stdout",
     "output_type": "stream",
     "text": [
      "Step: 1, Train Loss Now: 0.6753172278404236\n",
      "Step: 2, Train Loss Now: 0.6478201150894165\n"
     ]
    },
    {
     "name": "stderr",
     "output_type": "stream",
     "text": [
      " 30%|███       | 3/10 [00:00<00:00, 25.78it/s]"
     ]
    },
    {
     "name": "stdout",
     "output_type": "stream",
     "text": [
      "Step: 3, Train Loss Now: 0.6744247078895569\n",
      "Step: 4, Train Loss Now: 0.6436954140663147\n"
     ]
    },
    {
     "name": "stderr",
     "output_type": "stream",
     "text": [
      " 60%|██████    | 6/10 [00:00<00:00, 26.92it/s]"
     ]
    },
    {
     "name": "stdout",
     "output_type": "stream",
     "text": [
      "Step: 5, Train Loss Now: 0.6216303825378418\n",
      "Step: 6, Train Loss Now: 0.6324732303619385\n",
      "Step: 7, Train Loss Now: 0.6049095009054456\n",
      "Step: 8, Train Loss Now: 0.6066082902252674\n",
      "Step: 9, Train Loss Now: 0.5767585138479868\n"
     ]
    },
    {
     "name": "stderr",
     "output_type": "stream",
     "text": [
      "100%|██████████| 10/10 [00:00<00:00, 28.63it/s]\n"
     ]
    },
    {
     "name": "stdout",
     "output_type": "stream",
     "text": [
      "Step: 10, Train Loss Now: 0.5777715295553207\n"
     ]
    },
    {
     "name": "stderr",
     "output_type": "stream",
     "text": [
      "100%|██████████| 2/2 [00:00<00:00, 76.67it/s]\n",
      "  0%|          | 0/10 [00:00<?, ?it/s]"
     ]
    },
    {
     "name": "stdout",
     "output_type": "stream",
     "text": [
      "Step: 1, Train Loss Now: 0.6432338356971741\n",
      "Step: 2, Train Loss Now: 0.6368922889232635\n"
     ]
    },
    {
     "name": "stderr",
     "output_type": "stream",
     "text": [
      " 40%|████      | 4/10 [00:00<00:00, 30.65it/s]"
     ]
    },
    {
     "name": "stdout",
     "output_type": "stream",
     "text": [
      "Step: 3, Train Loss Now: 0.6025423208872477\n",
      "Step: 4, Train Loss Now: 0.5749464631080627\n",
      "Step: 5, Train Loss Now: 0.561354112625122\n",
      "Step: 6, Train Loss Now: 0.559136966864268\n",
      "Step: 7, Train Loss Now: 0.5578853402818952\n"
     ]
    },
    {
     "name": "stderr",
     "output_type": "stream",
     "text": [
      " 80%|████████  | 8/10 [00:00<00:00, 30.79it/s]"
     ]
    },
    {
     "name": "stdout",
     "output_type": "stream",
     "text": [
      "Step: 8, Train Loss Now: 0.5848223268985748\n"
     ]
    },
    {
     "name": "stderr",
     "output_type": "stream",
     "text": [
      "100%|██████████| 10/10 [00:00<00:00, 27.08it/s]\n"
     ]
    },
    {
     "name": "stdout",
     "output_type": "stream",
     "text": [
      "Step: 9, Train Loss Now: 0.6255670785903931\n",
      "Step: 10, Train Loss Now: 0.5961367130279541\n"
     ]
    },
    {
     "name": "stderr",
     "output_type": "stream",
     "text": [
      "100%|██████████| 2/2 [00:00<00:00, 65.65it/s]\n",
      "  0%|          | 0/10 [00:00<?, ?it/s]"
     ]
    },
    {
     "name": "stdout",
     "output_type": "stream",
     "text": [
      "Step: 1, Train Loss Now: 0.5813111066818237\n",
      "Step: 2, Train Loss Now: 0.5923005938529968\n"
     ]
    },
    {
     "name": "stderr",
     "output_type": "stream",
     "text": [
      " 40%|████      | 4/10 [00:00<00:00, 29.12it/s]"
     ]
    },
    {
     "name": "stdout",
     "output_type": "stream",
     "text": [
      "Step: 3, Train Loss Now: 0.5492422680060068\n",
      "Step: 4, Train Loss Now: 0.5761150792241096\n",
      "Step: 5, Train Loss Now: 0.5942776024341583\n",
      "Step: 6, Train Loss Now: 0.5614122003316879\n"
     ]
    },
    {
     "name": "stderr",
     "output_type": "stream",
     "text": [
      " 70%|███████   | 7/10 [00:00<00:00, 28.67it/s]"
     ]
    },
    {
     "name": "stdout",
     "output_type": "stream",
     "text": [
      "Step: 7, Train Loss Now: 0.5624059225831713\n",
      "Step: 8, Train Loss Now: 0.555906381458044\n"
     ]
    },
    {
     "name": "stderr",
     "output_type": "stream",
     "text": [
      "100%|██████████| 10/10 [00:00<00:00, 29.59it/s]\n"
     ]
    },
    {
     "name": "stdout",
     "output_type": "stream",
     "text": [
      "Step: 9, Train Loss Now: 0.58245473768976\n",
      "Step: 10, Train Loss Now: 0.6016071647405624\n"
     ]
    },
    {
     "name": "stderr",
     "output_type": "stream",
     "text": [
      "100%|██████████| 2/2 [00:00<00:00, 74.67it/s]\n",
      "  0%|          | 0/10 [00:00<?, ?it/s]"
     ]
    },
    {
     "name": "stdout",
     "output_type": "stream",
     "text": [
      "Step: 1, Train Loss Now: 0.4753442406654358\n"
     ]
    },
    {
     "name": "stderr",
     "output_type": "stream",
     "text": [
      " 20%|██        | 2/10 [00:00<00:00, 18.20it/s]"
     ]
    },
    {
     "name": "stdout",
     "output_type": "stream",
     "text": [
      "Step: 2, Train Loss Now: 0.5813105702400208\n"
     ]
    },
    {
     "name": "stderr",
     "output_type": "stream",
     "text": [
      " 50%|█████     | 5/10 [00:00<00:00, 23.62it/s]"
     ]
    },
    {
     "name": "stdout",
     "output_type": "stream",
     "text": [
      "Step: 3, Train Loss Now: 0.6188557744026184\n",
      "Step: 4, Train Loss Now: 0.5934521555900574\n",
      "Step: 5, Train Loss Now: 0.6229071140289306\n",
      "Step: 6, Train Loss Now: 0.6318144003550211\n",
      "Step: 7, Train Loss Now: 0.6242602552686419\n",
      "Step: 8, Train Loss Now: 0.5930490978062153\n"
     ]
    },
    {
     "name": "stderr",
     "output_type": "stream",
     "text": [
      " 90%|█████████ | 9/10 [00:00<00:00, 27.84it/s]"
     ]
    },
    {
     "name": "stdout",
     "output_type": "stream",
     "text": [
      "Step: 9, Train Loss Now: 0.5936942663457658\n"
     ]
    },
    {
     "name": "stderr",
     "output_type": "stream",
     "text": [
      "100%|██████████| 10/10 [00:00<00:00, 26.45it/s]\n"
     ]
    },
    {
     "name": "stdout",
     "output_type": "stream",
     "text": [
      "Step: 10, Train Loss Now: 0.6108855217695236\n"
     ]
    },
    {
     "name": "stderr",
     "output_type": "stream",
     "text": [
      "100%|██████████| 2/2 [00:00<00:00, 111.65it/s]\n",
      "  0%|          | 0/10 [00:00<?, ?it/s]"
     ]
    },
    {
     "name": "stdout",
     "output_type": "stream",
     "text": [
      "Step: 1, Train Loss Now: 0.6974761486053467\n",
      "Step: 2, Train Loss Now: 0.7716605961322784\n"
     ]
    },
    {
     "name": "stderr",
     "output_type": "stream",
     "text": [
      " 30%|███       | 3/10 [00:00<00:00, 29.56it/s]"
     ]
    },
    {
     "name": "stdout",
     "output_type": "stream",
     "text": [
      "Step: 3, Train Loss Now: 0.6373374760150909\n",
      "Step: 4, Train Loss Now: 0.5955744609236717\n",
      "Step: 5, Train Loss Now: 0.5406540334224701\n"
     ]
    },
    {
     "name": "stderr",
     "output_type": "stream",
     "text": [
      " 60%|██████    | 6/10 [00:00<00:00, 21.53it/s]"
     ]
    },
    {
     "name": "stdout",
     "output_type": "stream",
     "text": [
      "Step: 6, Train Loss Now: 0.5548117607831955\n",
      "Step: 7, Train Loss Now: 0.552047997713089\n",
      "Step: 8, Train Loss Now: 0.5642479173839092\n"
     ]
    },
    {
     "name": "stderr",
     "output_type": "stream",
     "text": [
      " 90%|█████████ | 9/10 [00:00<00:00, 24.00it/s]"
     ]
    },
    {
     "name": "stdout",
     "output_type": "stream",
     "text": [
      "Step: 9, Train Loss Now: 0.5592857367462583\n"
     ]
    },
    {
     "name": "stderr",
     "output_type": "stream",
     "text": [
      "100%|██████████| 10/10 [00:00<00:00, 25.21it/s]\n"
     ]
    },
    {
     "name": "stdout",
     "output_type": "stream",
     "text": [
      "Step: 10, Train Loss Now: 0.569813671708107\n"
     ]
    },
    {
     "name": "stderr",
     "output_type": "stream",
     "text": [
      "100%|██████████| 2/2 [00:00<00:00, 66.59it/s]\n",
      "  0%|          | 0/10 [00:00<?, ?it/s]"
     ]
    },
    {
     "name": "stdout",
     "output_type": "stream",
     "text": [
      "Step: 1, Train Loss Now: 0.5321640968322754\n",
      "Step: 2, Train Loss Now: 0.5460860729217529\n"
     ]
    },
    {
     "name": "stderr",
     "output_type": "stream",
     "text": [
      " 30%|███       | 3/10 [00:00<00:00, 26.84it/s]"
     ]
    },
    {
     "name": "stdout",
     "output_type": "stream",
     "text": [
      "Step: 3, Train Loss Now: 0.5125632087389628\n",
      "Step: 4, Train Loss Now: 0.5367982238531113\n",
      "Step: 5, Train Loss Now: 0.5078921735286712\n",
      "Step: 6, Train Loss Now: 0.5366440961758295\n"
     ]
    },
    {
     "name": "stderr",
     "output_type": "stream",
     "text": [
      " 70%|███████   | 7/10 [00:00<00:00, 28.83it/s]"
     ]
    },
    {
     "name": "stdout",
     "output_type": "stream",
     "text": [
      "Step: 7, Train Loss Now: 0.5467032662459782\n",
      "Step: 8, Train Loss Now: 0.5694300346076488\n",
      "Step: 9, Train Loss Now: 0.5554296142525144\n"
     ]
    },
    {
     "name": "stderr",
     "output_type": "stream",
     "text": [
      "100%|██████████| 10/10 [00:00<00:00, 29.95it/s]\n"
     ]
    },
    {
     "name": "stdout",
     "output_type": "stream",
     "text": [
      "Step: 10, Train Loss Now: 0.5553976863622665\n"
     ]
    },
    {
     "name": "stderr",
     "output_type": "stream",
     "text": [
      "100%|██████████| 2/2 [00:00<00:00, 81.04it/s]\n",
      "  0%|          | 0/10 [00:00<?, ?it/s]"
     ]
    },
    {
     "name": "stdout",
     "output_type": "stream",
     "text": [
      "Step: 1, Train Loss Now: 0.7127730250358582\n",
      "Step: 2, Train Loss Now: 0.5812016278505325\n"
     ]
    },
    {
     "name": "stderr",
     "output_type": "stream",
     "text": [
      " 30%|███       | 3/10 [00:00<00:00, 28.24it/s]"
     ]
    },
    {
     "name": "stdout",
     "output_type": "stream",
     "text": [
      "Step: 3, Train Loss Now: 0.6517808139324188\n",
      "Step: 4, Train Loss Now: 0.6176900640130043\n",
      "Step: 5, Train Loss Now: 0.6079311192035675\n"
     ]
    },
    {
     "name": "stderr",
     "output_type": "stream",
     "text": [
      " 70%|███████   | 7/10 [00:00<00:00, 30.99it/s]"
     ]
    },
    {
     "name": "stdout",
     "output_type": "stream",
     "text": [
      "Step: 6, Train Loss Now: 0.6440673917531967\n",
      "Step: 7, Train Loss Now: 0.6316329027925219\n",
      "Step: 8, Train Loss Now: 0.6156554706394672\n"
     ]
    },
    {
     "name": "stderr",
     "output_type": "stream",
     "text": [
      "100%|██████████| 10/10 [00:00<00:00, 26.81it/s]"
     ]
    },
    {
     "name": "stdout",
     "output_type": "stream",
     "text": [
      "Step: 9, Train Loss Now: 0.6190075973669688\n",
      "Step: 10, Train Loss Now: 0.6105893462896347\n"
     ]
    },
    {
     "name": "stderr",
     "output_type": "stream",
     "text": [
      "\n",
      "100%|██████████| 2/2 [00:00<00:00, 75.23it/s]\n",
      "  0%|          | 0/10 [00:00<?, ?it/s]"
     ]
    },
    {
     "name": "stdout",
     "output_type": "stream",
     "text": [
      "Step: 1, Train Loss Now: 0.5254520773887634\n",
      "Step: 2, Train Loss Now: 0.627818763256073\n"
     ]
    },
    {
     "name": "stderr",
     "output_type": "stream",
     "text": [
      " 40%|████      | 4/10 [00:00<00:00, 31.87it/s]"
     ]
    },
    {
     "name": "stdout",
     "output_type": "stream",
     "text": [
      "Step: 3, Train Loss Now: 0.5756132304668427\n",
      "Step: 4, Train Loss Now: 0.6116585209965706\n",
      "Step: 5, Train Loss Now: 0.6110315024852753\n",
      "Step: 6, Train Loss Now: 0.6199426800012589\n",
      "Step: 7, Train Loss Now: 0.5962593512875694\n"
     ]
    },
    {
     "name": "stderr",
     "output_type": "stream",
     "text": [
      " 80%|████████  | 8/10 [00:00<00:00, 31.08it/s]"
     ]
    },
    {
     "name": "stdout",
     "output_type": "stream",
     "text": [
      "Step: 8, Train Loss Now: 0.5865089036524296\n",
      "Step: 9, Train Loss Now: 0.569881432586246\n"
     ]
    },
    {
     "name": "stderr",
     "output_type": "stream",
     "text": [
      "100%|██████████| 10/10 [00:00<00:00, 31.67it/s]\n"
     ]
    },
    {
     "name": "stdout",
     "output_type": "stream",
     "text": [
      "Step: 10, Train Loss Now: 0.5644622564315795\n"
     ]
    },
    {
     "name": "stderr",
     "output_type": "stream",
     "text": [
      "100%|██████████| 2/2 [00:00<00:00, 86.76it/s]\n",
      "  0%|          | 0/10 [00:00<?, ?it/s]"
     ]
    },
    {
     "name": "stdout",
     "output_type": "stream",
     "text": [
      "Step: 1, Train Loss Now: 0.6236374974250793\n"
     ]
    },
    {
     "name": "stderr",
     "output_type": "stream",
     "text": [
      " 30%|███       | 3/10 [00:00<00:00, 28.56it/s]"
     ]
    },
    {
     "name": "stdout",
     "output_type": "stream",
     "text": [
      "Step: 2, Train Loss Now: 0.5077084600925446\n",
      "Step: 3, Train Loss Now: 0.49286724130312604\n",
      "Step: 4, Train Loss Now: 0.530683808028698\n",
      "Step: 5, Train Loss Now: 0.5049542784690857\n"
     ]
    },
    {
     "name": "stderr",
     "output_type": "stream",
     "text": [
      " 60%|██████    | 6/10 [00:00<00:00, 24.64it/s]"
     ]
    },
    {
     "name": "stdout",
     "output_type": "stream",
     "text": [
      "Step: 6, Train Loss Now: 0.5096790492534637\n",
      "Step: 7, Train Loss Now: 0.5421206184795925\n"
     ]
    },
    {
     "name": "stderr",
     "output_type": "stream",
     "text": [
      " 90%|█████████ | 9/10 [00:00<00:00, 26.04it/s]"
     ]
    },
    {
     "name": "stdout",
     "output_type": "stream",
     "text": [
      "Step: 8, Train Loss Now: 0.5472928136587143\n",
      "Step: 9, Train Loss Now: 0.5536560548676385\n"
     ]
    },
    {
     "name": "stderr",
     "output_type": "stream",
     "text": [
      "100%|██████████| 10/10 [00:00<00:00, 26.70it/s]\n"
     ]
    },
    {
     "name": "stdout",
     "output_type": "stream",
     "text": [
      "Step: 10, Train Loss Now: 0.5548031806945801\n"
     ]
    },
    {
     "name": "stderr",
     "output_type": "stream",
     "text": [
      "100%|██████████| 2/2 [00:00<00:00, 111.50it/s]\n",
      "  0%|          | 0/10 [00:00<?, ?it/s]"
     ]
    },
    {
     "name": "stdout",
     "output_type": "stream",
     "text": [
      "Step: 1, Train Loss Now: 0.8702993988990784\n",
      "Step: 2, Train Loss Now: 0.6734936684370041\n"
     ]
    },
    {
     "name": "stderr",
     "output_type": "stream",
     "text": [
      " 30%|███       | 3/10 [00:00<00:00, 25.62it/s]"
     ]
    },
    {
     "name": "stdout",
     "output_type": "stream",
     "text": [
      "Step: 3, Train Loss Now: 0.5858471592267355\n",
      "Step: 4, Train Loss Now: 0.6115161031484604\n"
     ]
    },
    {
     "name": "stderr",
     "output_type": "stream",
     "text": [
      " 60%|██████    | 6/10 [00:00<00:00, 26.57it/s]"
     ]
    },
    {
     "name": "stdout",
     "output_type": "stream",
     "text": [
      "Step: 5, Train Loss Now: 0.5873794853687286\n",
      "Step: 6, Train Loss Now: 0.5313384880622228\n",
      "Step: 7, Train Loss Now: 0.5386138260364532\n"
     ]
    },
    {
     "name": "stderr",
     "output_type": "stream",
     "text": [
      "100%|██████████| 10/10 [00:00<00:00, 25.48it/s]"
     ]
    },
    {
     "name": "stdout",
     "output_type": "stream",
     "text": [
      "Step: 8, Train Loss Now: 0.5293916538357735\n",
      "Step: 9, Train Loss Now: 0.5502181649208069\n",
      "Step: 10, Train Loss Now: 0.5517825782299042\n"
     ]
    },
    {
     "name": "stderr",
     "output_type": "stream",
     "text": [
      "\n",
      "100%|██████████| 2/2 [00:00<00:00, 59.81it/s]\n",
      "  0%|          | 0/10 [00:00<?, ?it/s]"
     ]
    },
    {
     "name": "stdout",
     "output_type": "stream",
     "text": [
      "Step: 1, Train Loss Now: 0.44961750507354736\n",
      "Step: 2, Train Loss Now: 0.5021029710769653\n"
     ]
    },
    {
     "name": "stderr",
     "output_type": "stream",
     "text": [
      " 70%|███████   | 7/10 [00:00<00:00, 29.47it/s]"
     ]
    },
    {
     "name": "stdout",
     "output_type": "stream",
     "text": [
      "Step: 3, Train Loss Now: 0.5088777542114258\n",
      "Step: 4, Train Loss Now: 0.5203789919614792\n",
      "Step: 5, Train Loss Now: 0.5336553692817688\n",
      "Step: 6, Train Loss Now: 0.5559740761915842\n",
      "Step: 7, Train Loss Now: 0.5438178266797747\n",
      "Step: 8, Train Loss Now: 0.5579496696591377\n",
      "Step: 9, Train Loss Now: 0.5459321141242981\n"
     ]
    },
    {
     "name": "stderr",
     "output_type": "stream",
     "text": [
      "100%|██████████| 10/10 [00:00<00:00, 30.22it/s]\n"
     ]
    },
    {
     "name": "stdout",
     "output_type": "stream",
     "text": [
      "Step: 10, Train Loss Now: 0.5185563445091248\n"
     ]
    },
    {
     "name": "stderr",
     "output_type": "stream",
     "text": [
      "100%|██████████| 2/2 [00:00<00:00, 79.54it/s]\n",
      "  0%|          | 0/10 [00:00<?, ?it/s]"
     ]
    },
    {
     "name": "stdout",
     "output_type": "stream",
     "text": [
      "Step: 1, Train Loss Now: 0.5910778641700745\n",
      "Step: 2, Train Loss Now: 0.5388508439064026\n",
      "Step: 3, Train Loss Now: 0.5129810074965159\n"
     ]
    },
    {
     "name": "stderr",
     "output_type": "stream",
     "text": [
      " 40%|████      | 4/10 [00:00<00:00, 31.84it/s]"
     ]
    },
    {
     "name": "stdout",
     "output_type": "stream",
     "text": [
      "Step: 4, Train Loss Now: 0.502003513276577\n",
      "Step: 5, Train Loss Now: 0.4912450611591339\n",
      "Step: 6, Train Loss Now: 0.5267229725917181\n",
      "Step: 7, Train Loss Now: 0.5336497042860303\n"
     ]
    },
    {
     "name": "stderr",
     "output_type": "stream",
     "text": [
      "100%|██████████| 10/10 [00:00<00:00, 31.15it/s]"
     ]
    },
    {
     "name": "stdout",
     "output_type": "stream",
     "text": [
      "Step: 8, Train Loss Now: 0.5283228754997253\n",
      "Step: 9, Train Loss Now: 0.5445314910676744\n",
      "Step: 10, Train Loss Now: 0.529278787970543\n"
     ]
    },
    {
     "name": "stderr",
     "output_type": "stream",
     "text": [
      "\n",
      "100%|██████████| 2/2 [00:00<00:00, 26.24it/s]\n",
      "  0%|          | 0/10 [00:00<?, ?it/s]"
     ]
    },
    {
     "name": "stdout",
     "output_type": "stream",
     "text": [
      "Step: 1, Train Loss Now: 0.5723661184310913\n"
     ]
    },
    {
     "name": "stderr",
     "output_type": "stream",
     "text": [
      " 70%|███████   | 7/10 [00:00<00:00, 31.10it/s]"
     ]
    },
    {
     "name": "stdout",
     "output_type": "stream",
     "text": [
      "Step: 2, Train Loss Now: 0.5398953258991241\n",
      "Step: 3, Train Loss Now: 0.4946782390276591\n",
      "Step: 4, Train Loss Now: 0.510044664144516\n",
      "Step: 5, Train Loss Now: 0.5393749952316285\n",
      "Step: 6, Train Loss Now: 0.5334151188532511\n",
      "Step: 7, Train Loss Now: 0.5697650994573321\n",
      "Step: 8, Train Loss Now: 0.5415508523583412\n"
     ]
    },
    {
     "name": "stderr",
     "output_type": "stream",
     "text": [
      "100%|██████████| 10/10 [00:00<00:00, 30.59it/s]\n"
     ]
    },
    {
     "name": "stdout",
     "output_type": "stream",
     "text": [
      "Step: 9, Train Loss Now: 0.5305297142929501\n",
      "Step: 10, Train Loss Now: 0.5200258612632751\n"
     ]
    },
    {
     "name": "stderr",
     "output_type": "stream",
     "text": [
      "100%|██████████| 2/2 [00:00<00:00, 69.82it/s]\n",
      "  0%|          | 0/10 [00:00<?, ?it/s]"
     ]
    },
    {
     "name": "stdout",
     "output_type": "stream",
     "text": [
      "Step: 1, Train Loss Now: 0.5967271327972412\n",
      "Step: 2, Train Loss Now: 0.531749427318573\n",
      "Step: 3, Train Loss Now: 0.5381486415863037\n"
     ]
    },
    {
     "name": "stderr",
     "output_type": "stream",
     "text": [
      " 40%|████      | 4/10 [00:00<00:00, 33.60it/s]"
     ]
    },
    {
     "name": "stdout",
     "output_type": "stream",
     "text": [
      "Step: 4, Train Loss Now: 0.4955586940050125\n",
      "Step: 5, Train Loss Now: 0.5394421339035034\n",
      "Step: 6, Train Loss Now: 0.5465691387653351\n",
      "Step: 7, Train Loss Now: 0.5300473145076207\n"
     ]
    },
    {
     "name": "stderr",
     "output_type": "stream",
     "text": [
      " 80%|████████  | 8/10 [00:00<00:00, 29.19it/s]"
     ]
    },
    {
     "name": "stdout",
     "output_type": "stream",
     "text": [
      "Step: 8, Train Loss Now: 0.558483898639679\n",
      "Step: 9, Train Loss Now: 0.5649649235937331\n"
     ]
    },
    {
     "name": "stderr",
     "output_type": "stream",
     "text": [
      "100%|██████████| 10/10 [00:00<00:00, 26.50it/s]\n"
     ]
    },
    {
     "name": "stdout",
     "output_type": "stream",
     "text": [
      "Step: 10, Train Loss Now: 0.5616419613361359\n"
     ]
    },
    {
     "name": "stderr",
     "output_type": "stream",
     "text": [
      "100%|██████████| 2/2 [00:00<00:00, 75.93it/s]\n",
      "  0%|          | 0/10 [00:00<?, ?it/s]"
     ]
    },
    {
     "name": "stdout",
     "output_type": "stream",
     "text": [
      "Step: 1, Train Loss Now: 0.7137351036071777\n"
     ]
    },
    {
     "name": "stderr",
     "output_type": "stream",
     "text": [
      " 30%|███       | 3/10 [00:00<00:00, 27.23it/s]"
     ]
    },
    {
     "name": "stdout",
     "output_type": "stream",
     "text": [
      "Step: 2, Train Loss Now: 0.5966484397649765\n",
      "Step: 3, Train Loss Now: 0.5658940374851227\n",
      "Step: 4, Train Loss Now: 0.5426836460828781\n",
      "Step: 5, Train Loss Now: 0.5078056573867797\n",
      "Step: 6, Train Loss Now: 0.5498719910780588\n"
     ]
    },
    {
     "name": "stderr",
     "output_type": "stream",
     "text": [
      " 70%|███████   | 7/10 [00:00<00:00, 28.14it/s]"
     ]
    },
    {
     "name": "stdout",
     "output_type": "stream",
     "text": [
      "Step: 7, Train Loss Now: 0.5833174245698112\n",
      "Step: 8, Train Loss Now: 0.583273783326149\n"
     ]
    },
    {
     "name": "stderr",
     "output_type": "stream",
     "text": [
      "100%|██████████| 10/10 [00:00<00:00, 28.99it/s]\n"
     ]
    },
    {
     "name": "stdout",
     "output_type": "stream",
     "text": [
      "Step: 9, Train Loss Now: 0.5734144283665551\n",
      "Step: 10, Train Loss Now: 0.5671331197023392\n"
     ]
    },
    {
     "name": "stderr",
     "output_type": "stream",
     "text": [
      "100%|██████████| 2/2 [00:00<00:00, 29.19it/s]\n",
      "  0%|          | 0/10 [00:00<?, ?it/s]"
     ]
    },
    {
     "name": "stdout",
     "output_type": "stream",
     "text": [
      "Step: 1, Train Loss Now: 0.6926038265228271\n",
      "Step: 2, Train Loss Now: 0.7080810964107513\n"
     ]
    },
    {
     "name": "stderr",
     "output_type": "stream",
     "text": [
      " 60%|██████    | 6/10 [00:00<00:00, 28.78it/s]"
     ]
    },
    {
     "name": "stdout",
     "output_type": "stream",
     "text": [
      "Step: 3, Train Loss Now: 0.6420012911160787\n",
      "Step: 4, Train Loss Now: 0.5966578274965286\n",
      "Step: 5, Train Loss Now: 0.5928546667099\n",
      "Step: 6, Train Loss Now: 0.5533263583978018\n",
      "Step: 7, Train Loss Now: 0.5604269163949149\n",
      "Step: 8, Train Loss Now: 0.5696491524577141\n",
      "Step: 9, Train Loss Now: 0.5808896952205234\n"
     ]
    },
    {
     "name": "stderr",
     "output_type": "stream",
     "text": [
      "100%|██████████| 10/10 [00:00<00:00, 29.98it/s]\n"
     ]
    },
    {
     "name": "stdout",
     "output_type": "stream",
     "text": [
      "Step: 10, Train Loss Now: 0.5718804568052291\n"
     ]
    },
    {
     "name": "stderr",
     "output_type": "stream",
     "text": [
      "100%|██████████| 2/2 [00:00<00:00, 75.90it/s]\n",
      "  0%|          | 0/10 [00:00<?, ?it/s]"
     ]
    },
    {
     "name": "stdout",
     "output_type": "stream",
     "text": [
      "Step: 1, Train Loss Now: 0.5525325536727905\n",
      "Step: 2, Train Loss Now: 0.5483984649181366\n"
     ]
    },
    {
     "name": "stderr",
     "output_type": "stream",
     "text": [
      " 40%|████      | 4/10 [00:00<00:00, 31.67it/s]"
     ]
    },
    {
     "name": "stdout",
     "output_type": "stream",
     "text": [
      "Step: 3, Train Loss Now: 0.5288439393043518\n",
      "Step: 4, Train Loss Now: 0.5008855983614922\n",
      "Step: 5, Train Loss Now: 0.4747940242290497\n",
      "Step: 6, Train Loss Now: 0.5051526874303818\n",
      "Step: 7, Train Loss Now: 0.5394680287156787\n"
     ]
    },
    {
     "name": "stderr",
     "output_type": "stream",
     "text": [
      " 80%|████████  | 8/10 [00:00<00:00, 28.57it/s]"
     ]
    },
    {
     "name": "stdout",
     "output_type": "stream",
     "text": [
      "Step: 8, Train Loss Now: 0.5641847886145115\n"
     ]
    },
    {
     "name": "stderr",
     "output_type": "stream",
     "text": [
      "100%|██████████| 10/10 [00:00<00:00, 30.07it/s]\n"
     ]
    },
    {
     "name": "stdout",
     "output_type": "stream",
     "text": [
      "Step: 9, Train Loss Now: 0.5559106568495432\n",
      "Step: 10, Train Loss Now: 0.5518869787454606\n"
     ]
    },
    {
     "name": "stderr",
     "output_type": "stream",
     "text": [
      "100%|██████████| 2/2 [00:00<00:00, 73.06it/s]\n",
      "  0%|          | 0/10 [00:00<?, ?it/s]"
     ]
    },
    {
     "name": "stdout",
     "output_type": "stream",
     "text": [
      "Step: 1, Train Loss Now: 0.6986498236656189\n",
      "Step: 2, Train Loss Now: 0.5107865631580353\n"
     ]
    },
    {
     "name": "stderr",
     "output_type": "stream",
     "text": [
      " 30%|███       | 3/10 [00:00<00:00, 28.94it/s]"
     ]
    },
    {
     "name": "stdout",
     "output_type": "stream",
     "text": [
      "Step: 3, Train Loss Now: 0.502956748008728\n",
      "Step: 4, Train Loss Now: 0.570719838142395\n"
     ]
    },
    {
     "name": "stderr",
     "output_type": "stream",
     "text": [
      " 60%|██████    | 6/10 [00:00<00:00, 28.68it/s]"
     ]
    },
    {
     "name": "stdout",
     "output_type": "stream",
     "text": [
      "Step: 5, Train Loss Now: 0.5749081373214722\n",
      "Step: 6, Train Loss Now: 0.5341387987136841\n",
      "Step: 7, Train Loss Now: 0.5677065338407244\n"
     ]
    },
    {
     "name": "stderr",
     "output_type": "stream",
     "text": [
      " 90%|█████████ | 9/10 [00:00<00:00, 23.50it/s]"
     ]
    },
    {
     "name": "stdout",
     "output_type": "stream",
     "text": [
      "Step: 8, Train Loss Now: 0.5562135130167007\n",
      "Step: 9, Train Loss Now: 0.5666493641005622\n"
     ]
    },
    {
     "name": "stderr",
     "output_type": "stream",
     "text": [
      "100%|██████████| 10/10 [00:00<00:00, 25.42it/s]\n"
     ]
    },
    {
     "name": "stdout",
     "output_type": "stream",
     "text": [
      "Step: 10, Train Loss Now: 0.5617396354675293\n"
     ]
    },
    {
     "name": "stderr",
     "output_type": "stream",
     "text": [
      "100%|██████████| 2/2 [00:00<00:00, 60.16it/s]\n",
      "  0%|          | 0/10 [00:00<?, ?it/s]"
     ]
    },
    {
     "name": "stdout",
     "output_type": "stream",
     "text": [
      "Step: 1, Train Loss Now: 0.4289761483669281\n",
      "Step: 2, Train Loss Now: 0.5158552378416061\n"
     ]
    },
    {
     "name": "stderr",
     "output_type": "stream",
     "text": [
      " 30%|███       | 3/10 [00:00<00:00, 27.19it/s]"
     ]
    },
    {
     "name": "stdout",
     "output_type": "stream",
     "text": [
      "Step: 3, Train Loss Now: 0.5751595993836721\n",
      "Step: 4, Train Loss Now: 0.616924487054348\n"
     ]
    },
    {
     "name": "stderr",
     "output_type": "stream",
     "text": [
      " 60%|██████    | 6/10 [00:00<00:00, 28.51it/s]"
     ]
    },
    {
     "name": "stdout",
     "output_type": "stream",
     "text": [
      "Step: 5, Train Loss Now: 0.5639790058135986\n",
      "Step: 6, Train Loss Now: 0.5789717336495718\n",
      "Step: 7, Train Loss Now: 0.5574643782206944\n",
      "Step: 8, Train Loss Now: 0.5626074373722076\n"
     ]
    },
    {
     "name": "stderr",
     "output_type": "stream",
     "text": [
      "100%|██████████| 10/10 [00:00<00:00, 29.30it/s]\n"
     ]
    },
    {
     "name": "stdout",
     "output_type": "stream",
     "text": [
      "Step: 9, Train Loss Now: 0.5545275211334229\n",
      "Step: 10, Train Loss Now: 0.5634926795959473\n"
     ]
    },
    {
     "name": "stderr",
     "output_type": "stream",
     "text": [
      "100%|██████████| 2/2 [00:00<00:00, 75.79it/s]\n",
      "  0%|          | 0/10 [00:00<?, ?it/s]"
     ]
    },
    {
     "name": "stdout",
     "output_type": "stream",
     "text": [
      "Step: 1, Train Loss Now: 0.5828931927680969\n",
      "Step: 2, Train Loss Now: 0.6245876848697662\n"
     ]
    },
    {
     "name": "stderr",
     "output_type": "stream",
     "text": [
      " 40%|████      | 4/10 [00:00<00:00, 31.38it/s]"
     ]
    },
    {
     "name": "stdout",
     "output_type": "stream",
     "text": [
      "Step: 3, Train Loss Now: 0.5855560501416525\n",
      "Step: 4, Train Loss Now: 0.565994530916214\n",
      "Step: 5, Train Loss Now: 0.653311824798584\n",
      "Step: 6, Train Loss Now: 0.6033027569452921\n"
     ]
    },
    {
     "name": "stderr",
     "output_type": "stream",
     "text": [
      " 80%|████████  | 8/10 [00:00<00:00, 30.05it/s]"
     ]
    },
    {
     "name": "stdout",
     "output_type": "stream",
     "text": [
      "Step: 7, Train Loss Now: 0.593981214932033\n",
      "Step: 8, Train Loss Now: 0.5890631005167961\n"
     ]
    },
    {
     "name": "stderr",
     "output_type": "stream",
     "text": [
      "100%|██████████| 10/10 [00:00<00:00, 31.08it/s]\n"
     ]
    },
    {
     "name": "stdout",
     "output_type": "stream",
     "text": [
      "Step: 9, Train Loss Now: 0.5873074928919474\n",
      "Step: 10, Train Loss Now: 0.5480126708745956\n"
     ]
    },
    {
     "name": "stderr",
     "output_type": "stream",
     "text": [
      "100%|██████████| 2/2 [00:00<00:00, 62.31it/s]\n",
      "  0%|          | 0/10 [00:00<?, ?it/s]"
     ]
    },
    {
     "name": "stdout",
     "output_type": "stream",
     "text": [
      "Step: 1, Train Loss Now: 0.5747504830360413\n",
      "Step: 2, Train Loss Now: 0.5740002691745758\n"
     ]
    },
    {
     "name": "stderr",
     "output_type": "stream",
     "text": [
      " 40%|████      | 4/10 [00:00<00:00, 30.71it/s]"
     ]
    },
    {
     "name": "stdout",
     "output_type": "stream",
     "text": [
      "Step: 3, Train Loss Now: 0.5423770447572073\n",
      "Step: 4, Train Loss Now: 0.5533856078982353\n",
      "Step: 5, Train Loss Now: 0.5002791166305542\n",
      "Step: 6, Train Loss Now: 0.5100709895292918\n",
      "Step: 7, Train Loss Now: 0.4982978616441999\n"
     ]
    },
    {
     "name": "stderr",
     "output_type": "stream",
     "text": [
      " 80%|████████  | 8/10 [00:00<00:00, 23.90it/s]"
     ]
    },
    {
     "name": "stdout",
     "output_type": "stream",
     "text": [
      "Step: 8, Train Loss Now: 0.5155501067638397\n",
      "Step: 9, Train Loss Now: 0.5146900150511\n"
     ]
    },
    {
     "name": "stderr",
     "output_type": "stream",
     "text": [
      "100%|██████████| 10/10 [00:00<00:00, 25.97it/s]\n"
     ]
    },
    {
     "name": "stdout",
     "output_type": "stream",
     "text": [
      "Step: 10, Train Loss Now: 0.5183189153671265\n"
     ]
    },
    {
     "name": "stderr",
     "output_type": "stream",
     "text": [
      "100%|██████████| 2/2 [00:00<00:00, 87.19it/s]\n",
      "  0%|          | 0/10 [00:00<?, ?it/s]"
     ]
    },
    {
     "name": "stdout",
     "output_type": "stream",
     "text": [
      "Step: 1, Train Loss Now: 0.6469500064849854\n",
      "Step: 2, Train Loss Now: 0.5663484483957291\n",
      "Step: 3, Train Loss Now: 0.5281409323215485\n"
     ]
    },
    {
     "name": "stderr",
     "output_type": "stream",
     "text": [
      " 40%|████      | 4/10 [00:00<00:00, 31.44it/s]"
     ]
    },
    {
     "name": "stdout",
     "output_type": "stream",
     "text": [
      "Step: 4, Train Loss Now: 0.5372077152132988\n",
      "Step: 5, Train Loss Now: 0.5795172274112701\n",
      "Step: 6, Train Loss Now: 0.6009755978981653\n",
      "Step: 7, Train Loss Now: 0.6143184091363635\n"
     ]
    },
    {
     "name": "stderr",
     "output_type": "stream",
     "text": [
      " 80%|████████  | 8/10 [00:00<00:00, 29.12it/s]"
     ]
    },
    {
     "name": "stdout",
     "output_type": "stream",
     "text": [
      "Step: 8, Train Loss Now: 0.5892157442867756\n",
      "Step: 9, Train Loss Now: 0.5751644670963287\n"
     ]
    },
    {
     "name": "stderr",
     "output_type": "stream",
     "text": [
      "100%|██████████| 10/10 [00:00<00:00, 30.00it/s]\n"
     ]
    },
    {
     "name": "stdout",
     "output_type": "stream",
     "text": [
      "Step: 10, Train Loss Now: 0.5687476962804794\n"
     ]
    },
    {
     "name": "stderr",
     "output_type": "stream",
     "text": [
      "100%|██████████| 2/2 [00:00<00:00, 72.49it/s]\n",
      " 30%|███       | 3/10 [00:00<00:00, 28.50it/s]"
     ]
    },
    {
     "name": "stdout",
     "output_type": "stream",
     "text": [
      "Step: 1, Train Loss Now: 0.5600770115852356\n",
      "Step: 2, Train Loss Now: 0.43944719433784485\n",
      "Step: 3, Train Loss Now: 0.48296505212783813\n",
      "Step: 4, Train Loss Now: 0.5232280939817429\n",
      "Step: 5, Train Loss Now: 0.5372133493423462\n"
     ]
    },
    {
     "name": "stderr",
     "output_type": "stream",
     "text": [
      " 70%|███████   | 7/10 [00:00<00:00, 30.67it/s]"
     ]
    },
    {
     "name": "stdout",
     "output_type": "stream",
     "text": [
      "Step: 6, Train Loss Now: 0.5469536582628886\n",
      "Step: 7, Train Loss Now: 0.5860308919634137\n"
     ]
    },
    {
     "name": "stderr",
     "output_type": "stream",
     "text": [
      "100%|██████████| 10/10 [00:00<00:00, 32.61it/s]\n"
     ]
    },
    {
     "name": "stdout",
     "output_type": "stream",
     "text": [
      "Step: 8, Train Loss Now: 0.570111408829689\n",
      "Step: 9, Train Loss Now: 0.5719820459683737\n",
      "Step: 10, Train Loss Now: 0.5539408057928086\n"
     ]
    },
    {
     "name": "stderr",
     "output_type": "stream",
     "text": [
      "100%|██████████| 2/2 [00:00<00:00, 75.92it/s]\n",
      " 20%|██        | 2/10 [00:00<00:00, 15.95it/s]"
     ]
    },
    {
     "name": "stdout",
     "output_type": "stream",
     "text": [
      "Step: 1, Train Loss Now: 0.775058388710022\n",
      "Step: 2, Train Loss Now: 0.7508832216262817\n"
     ]
    },
    {
     "name": "stderr",
     "output_type": "stream",
     "text": [
      " 60%|██████    | 6/10 [00:00<00:00, 25.28it/s]"
     ]
    },
    {
     "name": "stdout",
     "output_type": "stream",
     "text": [
      "Step: 3, Train Loss Now: 0.6279768447081248\n",
      "Step: 4, Train Loss Now: 0.5702795684337616\n",
      "Step: 5, Train Loss Now: 0.5613075494766235\n",
      "Step: 6, Train Loss Now: 0.5610157549381256\n",
      "Step: 7, Train Loss Now: 0.5744263700076512\n",
      "Step: 8, Train Loss Now: 0.5573000237345695\n",
      "Step: 9, Train Loss Now: 0.5595506429672241\n"
     ]
    },
    {
     "name": "stderr",
     "output_type": "stream",
     "text": [
      "100%|██████████| 10/10 [00:00<00:00, 26.74it/s]\n"
     ]
    },
    {
     "name": "stdout",
     "output_type": "stream",
     "text": [
      "Step: 10, Train Loss Now: 0.5201838433742523\n"
     ]
    },
    {
     "name": "stderr",
     "output_type": "stream",
     "text": [
      "100%|██████████| 2/2 [00:00<00:00, 76.99it/s]\n",
      "  0%|          | 0/10 [00:00<?, ?it/s]"
     ]
    },
    {
     "name": "stdout",
     "output_type": "stream",
     "text": [
      "Step: 1, Train Loss Now: 0.44528958201408386\n"
     ]
    },
    {
     "name": "stderr",
     "output_type": "stream",
     "text": [
      " 30%|███       | 3/10 [00:00<00:00, 28.34it/s]"
     ]
    },
    {
     "name": "stdout",
     "output_type": "stream",
     "text": [
      "Step: 2, Train Loss Now: 0.5254694074392319\n",
      "Step: 3, Train Loss Now: 0.537036269903183\n",
      "Step: 4, Train Loss Now: 0.5323092415928841\n",
      "Step: 5, Train Loss Now: 0.5347400724887847\n"
     ]
    },
    {
     "name": "stderr",
     "output_type": "stream",
     "text": [
      " 60%|██████    | 6/10 [00:00<00:00, 26.18it/s]"
     ]
    },
    {
     "name": "stdout",
     "output_type": "stream",
     "text": [
      "Step: 6, Train Loss Now: 0.5407193154096603\n",
      "Step: 7, Train Loss Now: 0.5421977341175079\n"
     ]
    },
    {
     "name": "stderr",
     "output_type": "stream",
     "text": [
      "100%|██████████| 10/10 [00:00<00:00, 28.09it/s]\n"
     ]
    },
    {
     "name": "stdout",
     "output_type": "stream",
     "text": [
      "Step: 8, Train Loss Now: 0.5839940123260021\n",
      "Step: 9, Train Loss Now: 0.5654415455129411\n",
      "Step: 10, Train Loss Now: 0.554308545589447\n"
     ]
    },
    {
     "name": "stderr",
     "output_type": "stream",
     "text": [
      "100%|██████████| 2/2 [00:00<00:00, 24.10it/s]\n",
      "  0%|          | 0/10 [00:00<?, ?it/s]"
     ]
    },
    {
     "name": "stdout",
     "output_type": "stream",
     "text": [
      "Step: 1, Train Loss Now: 0.6749789714813232\n"
     ]
    },
    {
     "name": "stderr",
     "output_type": "stream",
     "text": [
      " 40%|████      | 4/10 [00:00<00:00, 31.58it/s]"
     ]
    },
    {
     "name": "stdout",
     "output_type": "stream",
     "text": [
      "Step: 2, Train Loss Now: 0.5203759074211121\n",
      "Step: 3, Train Loss Now: 0.5312284628550211\n",
      "Step: 4, Train Loss Now: 0.5610253810882568\n",
      "Step: 5, Train Loss Now: 0.5462096869945526\n",
      "Step: 6, Train Loss Now: 0.5243226637442907\n",
      "Step: 7, Train Loss Now: 0.5022193746907371\n"
     ]
    },
    {
     "name": "stderr",
     "output_type": "stream",
     "text": [
      " 80%|████████  | 8/10 [00:00<00:00, 31.59it/s]"
     ]
    },
    {
     "name": "stdout",
     "output_type": "stream",
     "text": [
      "Step: 8, Train Loss Now: 0.5017261318862438\n"
     ]
    },
    {
     "name": "stderr",
     "output_type": "stream",
     "text": [
      "100%|██████████| 10/10 [00:00<00:00, 30.88it/s]\n"
     ]
    },
    {
     "name": "stdout",
     "output_type": "stream",
     "text": [
      "Step: 9, Train Loss Now: 0.5025035838286082\n",
      "Step: 10, Train Loss Now: 0.49780367612838744\n"
     ]
    },
    {
     "name": "stderr",
     "output_type": "stream",
     "text": [
      "100%|██████████| 2/2 [00:00<00:00, 90.37it/s]\n",
      "  0%|          | 0/10 [00:00<?, ?it/s]"
     ]
    },
    {
     "name": "stdout",
     "output_type": "stream",
     "text": [
      "Step: 1, Train Loss Now: 0.42664963006973267\n",
      "Step: 2, Train Loss Now: 0.544408917427063\n"
     ]
    },
    {
     "name": "stderr",
     "output_type": "stream",
     "text": [
      " 40%|████      | 4/10 [00:00<00:00, 31.53it/s]"
     ]
    },
    {
     "name": "stdout",
     "output_type": "stream",
     "text": [
      "Step: 3, Train Loss Now: 0.5592650572458903\n",
      "Step: 4, Train Loss Now: 0.5560197681188583\n",
      "Step: 5, Train Loss Now: 0.522305166721344\n",
      "Step: 6, Train Loss Now: 0.5446066359678904\n"
     ]
    },
    {
     "name": "stderr",
     "output_type": "stream",
     "text": [
      " 80%|████████  | 8/10 [00:00<00:00, 26.48it/s]"
     ]
    },
    {
     "name": "stdout",
     "output_type": "stream",
     "text": [
      "Step: 7, Train Loss Now: 0.5361570630754743\n",
      "Step: 8, Train Loss Now: 0.5373324006795883\n"
     ]
    },
    {
     "name": "stderr",
     "output_type": "stream",
     "text": [
      "100%|██████████| 10/10 [00:00<00:00, 28.44it/s]\n"
     ]
    },
    {
     "name": "stdout",
     "output_type": "stream",
     "text": [
      "Step: 9, Train Loss Now: 0.5359843704435561\n",
      "Step: 10, Train Loss Now: 0.5192916959524154\n"
     ]
    },
    {
     "name": "stderr",
     "output_type": "stream",
     "text": [
      "100%|██████████| 2/2 [00:00<00:00, 75.92it/s]\n",
      "  0%|          | 0/10 [00:00<?, ?it/s]"
     ]
    },
    {
     "name": "stdout",
     "output_type": "stream",
     "text": [
      "Step: 1, Train Loss Now: 0.5092524290084839\n",
      "Step: 2, Train Loss Now: 0.5983667075634003\n"
     ]
    },
    {
     "name": "stderr",
     "output_type": "stream",
     "text": [
      " 30%|███       | 3/10 [00:00<00:00, 29.41it/s]"
     ]
    },
    {
     "name": "stdout",
     "output_type": "stream",
     "text": [
      "Step: 3, Train Loss Now: 0.49864359696706134\n",
      "Step: 4, Train Loss Now: 0.4567311257123947\n",
      "Step: 5, Train Loss Now: 0.5248551845550538\n"
     ]
    },
    {
     "name": "stderr",
     "output_type": "stream",
     "text": [
      " 60%|██████    | 6/10 [00:00<00:00, 28.12it/s]"
     ]
    },
    {
     "name": "stdout",
     "output_type": "stream",
     "text": [
      "Step: 6, Train Loss Now: 0.5422836343447367\n",
      "Step: 7, Train Loss Now: 0.5402854936463493\n",
      "Step: 8, Train Loss Now: 0.5612200126051903\n",
      "Step: 9, Train Loss Now: 0.5904551943143209\n"
     ]
    },
    {
     "name": "stderr",
     "output_type": "stream",
     "text": [
      "100%|██████████| 10/10 [00:00<00:00, 29.30it/s]\n"
     ]
    },
    {
     "name": "stdout",
     "output_type": "stream",
     "text": [
      "Step: 10, Train Loss Now: 0.5693656116724014\n"
     ]
    },
    {
     "name": "stderr",
     "output_type": "stream",
     "text": [
      "100%|██████████| 2/2 [00:00<00:00, 37.64it/s]\n",
      "  0%|          | 0/10 [00:00<?, ?it/s]"
     ]
    },
    {
     "name": "stdout",
     "output_type": "stream",
     "text": [
      "Step: 1, Train Loss Now: 0.39146900177001953\n",
      "Step: 2, Train Loss Now: 0.47550851106643677\n"
     ]
    },
    {
     "name": "stderr",
     "output_type": "stream",
     "text": [
      " 30%|███       | 3/10 [00:00<00:00, 25.70it/s]"
     ]
    },
    {
     "name": "stdout",
     "output_type": "stream",
     "text": [
      "Step: 3, Train Loss Now: 0.5379219055175781\n"
     ]
    },
    {
     "name": "stderr",
     "output_type": "stream",
     "text": [
      " 70%|███████   | 7/10 [00:00<00:00, 28.38it/s]"
     ]
    },
    {
     "name": "stdout",
     "output_type": "stream",
     "text": [
      "Step: 4, Train Loss Now: 0.5168020650744438\n",
      "Step: 5, Train Loss Now: 0.514735323190689\n",
      "Step: 6, Train Loss Now: 0.51758640507857\n",
      "Step: 7, Train Loss Now: 0.5271824300289154\n",
      "Step: 8, Train Loss Now: 0.5282765813171864\n"
     ]
    },
    {
     "name": "stderr",
     "output_type": "stream",
     "text": [
      "100%|██████████| 10/10 [00:00<00:00, 29.13it/s]"
     ]
    },
    {
     "name": "stdout",
     "output_type": "stream",
     "text": [
      "Step: 9, Train Loss Now: 0.5377025372452207\n",
      "Step: 10, Train Loss Now: 0.5482110470533371\n"
     ]
    },
    {
     "name": "stderr",
     "output_type": "stream",
     "text": [
      "\n",
      "100%|██████████| 2/2 [00:00<00:00, 81.67it/s]\n",
      " 40%|████      | 4/10 [00:00<00:00, 32.47it/s]"
     ]
    },
    {
     "name": "stdout",
     "output_type": "stream",
     "text": [
      "Step: 1, Train Loss Now: 0.5207518339157104\n",
      "Step: 2, Train Loss Now: 0.5278051495552063\n",
      "Step: 3, Train Loss Now: 0.48811041315396625\n",
      "Step: 4, Train Loss Now: 0.4932165965437889\n",
      "Step: 5, Train Loss Now: 0.4982290804386139\n",
      "Step: 6, Train Loss Now: 0.4862769991159439\n",
      "Step: 7, Train Loss Now: 0.4866781660488674\n"
     ]
    },
    {
     "name": "stderr",
     "output_type": "stream",
     "text": [
      "100%|██████████| 10/10 [00:00<00:00, 29.40it/s]"
     ]
    },
    {
     "name": "stdout",
     "output_type": "stream",
     "text": [
      "Step: 8, Train Loss Now: 0.5238955840468407\n",
      "Step: 9, Train Loss Now: 0.5199047029018402\n",
      "Step: 10, Train Loss Now: 0.5198394387960434\n"
     ]
    },
    {
     "name": "stderr",
     "output_type": "stream",
     "text": [
      "\n",
      "100%|██████████| 2/2 [00:00<00:00, 56.09it/s]\n",
      "  0%|          | 0/10 [00:00<?, ?it/s]"
     ]
    },
    {
     "name": "stdout",
     "output_type": "stream",
     "text": [
      "Step: 1, Train Loss Now: 0.4558703601360321\n"
     ]
    },
    {
     "name": "stderr",
     "output_type": "stream",
     "text": [
      " 40%|████      | 4/10 [00:00<00:00, 31.20it/s]"
     ]
    },
    {
     "name": "stdout",
     "output_type": "stream",
     "text": [
      "Step: 2, Train Loss Now: 0.4584891051054001\n",
      "Step: 3, Train Loss Now: 0.4408737321694692\n",
      "Step: 4, Train Loss Now: 0.42525846511125565\n",
      "Step: 5, Train Loss Now: 0.47886462807655333\n",
      "Step: 6, Train Loss Now: 0.4778663118680318\n",
      "Step: 7, Train Loss Now: 0.4836293714387076\n"
     ]
    },
    {
     "name": "stderr",
     "output_type": "stream",
     "text": [
      " 80%|████████  | 8/10 [00:00<00:00, 31.47it/s]"
     ]
    },
    {
     "name": "stdout",
     "output_type": "stream",
     "text": [
      "Step: 8, Train Loss Now: 0.5122250914573669\n"
     ]
    },
    {
     "name": "stderr",
     "output_type": "stream",
     "text": [
      "100%|██████████| 10/10 [00:00<00:00, 31.62it/s]\n"
     ]
    },
    {
     "name": "stdout",
     "output_type": "stream",
     "text": [
      "Step: 9, Train Loss Now: 0.5425820681783888\n",
      "Step: 10, Train Loss Now: 0.5596258401870727\n"
     ]
    },
    {
     "name": "stderr",
     "output_type": "stream",
     "text": [
      "100%|██████████| 2/2 [00:00<00:00, 78.79it/s]\n",
      " 30%|███       | 3/10 [00:00<00:00, 27.02it/s]"
     ]
    },
    {
     "name": "stdout",
     "output_type": "stream",
     "text": [
      "Step: 1, Train Loss Now: 0.46184805035591125\n",
      "Step: 2, Train Loss Now: 0.4638622999191284\n",
      "Step: 3, Train Loss Now: 0.5576622287432352\n",
      "Step: 4, Train Loss Now: 0.6112099885940552\n",
      "Step: 5, Train Loss Now: 0.5816332578659058\n",
      "Step: 6, Train Loss Now: 0.5526540031035742\n"
     ]
    },
    {
     "name": "stderr",
     "output_type": "stream",
     "text": [
      "100%|██████████| 10/10 [00:00<00:00, 30.01it/s]"
     ]
    },
    {
     "name": "stdout",
     "output_type": "stream",
     "text": [
      "Step: 7, Train Loss Now: 0.5577087615217481\n",
      "Step: 8, Train Loss Now: 0.5465891622006893\n",
      "Step: 9, Train Loss Now: 0.5552330513795217\n",
      "Step: 10, Train Loss Now: 0.540666189789772\n"
     ]
    },
    {
     "name": "stderr",
     "output_type": "stream",
     "text": [
      "\n",
      "100%|██████████| 2/2 [00:00<00:00, 75.01it/s]\n",
      "  0%|          | 0/10 [00:00<?, ?it/s]"
     ]
    },
    {
     "name": "stdout",
     "output_type": "stream",
     "text": [
      "Step: 1, Train Loss Now: 0.588191032409668\n",
      "Step: 2, Train Loss Now: 0.461458221077919\n"
     ]
    },
    {
     "name": "stderr",
     "output_type": "stream",
     "text": [
      " 30%|███       | 3/10 [00:00<00:00, 22.56it/s]"
     ]
    },
    {
     "name": "stdout",
     "output_type": "stream",
     "text": [
      "Step: 3, Train Loss Now: 0.4982241888840993\n",
      "Step: 4, Train Loss Now: 0.5404908135533333\n",
      "Step: 5, Train Loss Now: 0.5049926280975342\n"
     ]
    },
    {
     "name": "stderr",
     "output_type": "stream",
     "text": [
      " 60%|██████    | 6/10 [00:00<00:00, 24.27it/s]"
     ]
    },
    {
     "name": "stdout",
     "output_type": "stream",
     "text": [
      "Step: 6, Train Loss Now: 0.47857121129830676\n",
      "Step: 7, Train Loss Now: 0.4787275918892452\n",
      "Step: 8, Train Loss Now: 0.4989783503115177\n"
     ]
    },
    {
     "name": "stderr",
     "output_type": "stream",
     "text": [
      "100%|██████████| 10/10 [00:00<00:00, 25.96it/s]\n"
     ]
    },
    {
     "name": "stdout",
     "output_type": "stream",
     "text": [
      "Step: 9, Train Loss Now: 0.49194185932477313\n",
      "Step: 10, Train Loss Now: 0.5087489277124405\n"
     ]
    },
    {
     "name": "stderr",
     "output_type": "stream",
     "text": [
      "100%|██████████| 2/2 [00:00<00:00, 84.93it/s]\n",
      " 30%|███       | 3/10 [00:00<00:00, 28.51it/s]"
     ]
    },
    {
     "name": "stdout",
     "output_type": "stream",
     "text": [
      "Step: 1, Train Loss Now: 0.5950930118560791\n",
      "Step: 2, Train Loss Now: 0.5790369510650635\n",
      "Step: 3, Train Loss Now: 0.5141074657440186\n",
      "Step: 4, Train Loss Now: 0.5461998581886292\n",
      "Step: 5, Train Loss Now: 0.5815080046653748\n",
      "Step: 6, Train Loss Now: 0.5527961750825247\n"
     ]
    },
    {
     "name": "stderr",
     "output_type": "stream",
     "text": [
      "100%|██████████| 10/10 [00:00<00:00, 30.96it/s]\n"
     ]
    },
    {
     "name": "stdout",
     "output_type": "stream",
     "text": [
      "Step: 7, Train Loss Now: 0.5002818022455487\n",
      "Step: 8, Train Loss Now: 0.49609750509262085\n",
      "Step: 9, Train Loss Now: 0.5289604332711961\n",
      "Step: 10, Train Loss Now: 0.5050595939159394\n"
     ]
    },
    {
     "name": "stderr",
     "output_type": "stream",
     "text": [
      "100%|██████████| 2/2 [00:00<00:00, 67.25it/s]\n",
      " 60%|██████    | 6/10 [00:00<00:00, 29.11it/s]"
     ]
    },
    {
     "name": "stdout",
     "output_type": "stream",
     "text": [
      "Step: 1, Train Loss Now: 0.5557342767715454\n",
      "Step: 2, Train Loss Now: 0.5479260981082916\n",
      "Step: 3, Train Loss Now: 0.6060635646184286\n",
      "Step: 4, Train Loss Now: 0.5677120313048363\n",
      "Step: 5, Train Loss Now: 0.5580780923366546\n",
      "Step: 6, Train Loss Now: 0.5026830285787582\n",
      "Step: 7, Train Loss Now: 0.5028560970510755\n"
     ]
    },
    {
     "name": "stderr",
     "output_type": "stream",
     "text": [
      "100%|██████████| 10/10 [00:00<00:00, 29.24it/s]\n"
     ]
    },
    {
     "name": "stdout",
     "output_type": "stream",
     "text": [
      "Step: 8, Train Loss Now: 0.4900548905134201\n",
      "Step: 9, Train Loss Now: 0.5047512518035041\n",
      "Step: 10, Train Loss Now: 0.506497985124588\n"
     ]
    },
    {
     "name": "stderr",
     "output_type": "stream",
     "text": [
      "100%|██████████| 2/2 [00:00<00:00, 92.61it/s]\n",
      " 30%|███       | 3/10 [00:00<00:00, 29.83it/s]"
     ]
    },
    {
     "name": "stdout",
     "output_type": "stream",
     "text": [
      "Step: 1, Train Loss Now: 0.5122700929641724\n",
      "Step: 2, Train Loss Now: 0.47264355421066284\n",
      "Step: 3, Train Loss Now: 0.4507029155890147\n"
     ]
    },
    {
     "name": "stderr",
     "output_type": "stream",
     "text": [
      " 60%|██████    | 6/10 [00:00<00:00, 28.77it/s]"
     ]
    },
    {
     "name": "stdout",
     "output_type": "stream",
     "text": [
      "Step: 4, Train Loss Now: 0.5054726377129555\n",
      "Step: 5, Train Loss Now: 0.524700254201889\n",
      "Step: 6, Train Loss Now: 0.5155990670124689\n",
      "Step: 7, Train Loss Now: 0.5395997890404293\n"
     ]
    },
    {
     "name": "stderr",
     "output_type": "stream",
     "text": [
      "100%|██████████| 10/10 [00:00<00:00, 30.43it/s]"
     ]
    },
    {
     "name": "stdout",
     "output_type": "stream",
     "text": [
      "Step: 8, Train Loss Now: 0.5388184301555157\n",
      "Step: 9, Train Loss Now: 0.5397816134823693\n",
      "Step: 10, Train Loss Now: 0.5246562629938125\n"
     ]
    },
    {
     "name": "stderr",
     "output_type": "stream",
     "text": [
      "100%|██████████| 10/10 [00:00<00:00, 30.11it/s]\n",
      "100%|██████████| 2/2 [00:00<00:00, 72.37it/s]\n",
      "  0%|          | 0/10 [00:00<?, ?it/s]"
     ]
    },
    {
     "name": "stdout",
     "output_type": "stream",
     "text": [
      "Step: 1, Train Loss Now: 0.4338276982307434\n",
      "Step: 2, Train Loss Now: 0.4921540319919586\n",
      "Step: 3, Train Loss Now: 0.4798956314722697\n"
     ]
    },
    {
     "name": "stderr",
     "output_type": "stream",
     "text": [
      " 40%|████      | 4/10 [00:00<00:00, 31.44it/s]"
     ]
    },
    {
     "name": "stdout",
     "output_type": "stream",
     "text": [
      "Step: 4, Train Loss Now: 0.5315002202987671\n",
      "Step: 5, Train Loss Now: 0.5106150865554809\n"
     ]
    },
    {
     "name": "stderr",
     "output_type": "stream",
     "text": [
      " 80%|████████  | 8/10 [00:00<00:00, 24.59it/s]"
     ]
    },
    {
     "name": "stdout",
     "output_type": "stream",
     "text": [
      "Step: 6, Train Loss Now: 0.4874672094980876\n",
      "Step: 7, Train Loss Now: 0.47604298165866304\n",
      "Step: 8, Train Loss Now: 0.4747447706758976\n"
     ]
    },
    {
     "name": "stderr",
     "output_type": "stream",
     "text": [
      "100%|██████████| 10/10 [00:00<00:00, 26.97it/s]\n"
     ]
    },
    {
     "name": "stdout",
     "output_type": "stream",
     "text": [
      "Step: 9, Train Loss Now: 0.49926552838749355\n",
      "Step: 10, Train Loss Now: 0.5117390125989913\n"
     ]
    },
    {
     "name": "stderr",
     "output_type": "stream",
     "text": [
      "100%|██████████| 2/2 [00:00<00:00, 66.23it/s]\n",
      "  0%|          | 0/10 [00:00<?, ?it/s]"
     ]
    },
    {
     "name": "stdout",
     "output_type": "stream",
     "text": [
      "Step: 1, Train Loss Now: 0.552718997001648\n"
     ]
    },
    {
     "name": "stderr",
     "output_type": "stream",
     "text": [
      " 40%|████      | 4/10 [00:00<00:00, 30.69it/s]"
     ]
    },
    {
     "name": "stdout",
     "output_type": "stream",
     "text": [
      "Step: 2, Train Loss Now: 0.5411447584629059\n",
      "Step: 3, Train Loss Now: 0.5331054528554281\n",
      "Step: 4, Train Loss Now: 0.5423785895109177\n",
      "Step: 5, Train Loss Now: 0.5073423445224762\n",
      "Step: 6, Train Loss Now: 0.4833649943272273\n",
      "Step: 7, Train Loss Now: 0.5441777663571494\n"
     ]
    },
    {
     "name": "stderr",
     "output_type": "stream",
     "text": [
      " 80%|████████  | 8/10 [00:00<00:00, 32.05it/s]"
     ]
    },
    {
     "name": "stdout",
     "output_type": "stream",
     "text": [
      "Step: 8, Train Loss Now: 0.5592199005186558\n"
     ]
    },
    {
     "name": "stderr",
     "output_type": "stream",
     "text": [
      "100%|██████████| 10/10 [00:00<00:00, 33.46it/s]\n"
     ]
    },
    {
     "name": "stdout",
     "output_type": "stream",
     "text": [
      "Step: 9, Train Loss Now: 0.5491504073143005\n",
      "Step: 10, Train Loss Now: 0.5246342182159424\n"
     ]
    },
    {
     "name": "stderr",
     "output_type": "stream",
     "text": [
      "100%|██████████| 2/2 [00:00<00:00, 78.35it/s]\n",
      "  0%|          | 0/10 [00:00<?, ?it/s]"
     ]
    },
    {
     "name": "stdout",
     "output_type": "stream",
     "text": [
      "Step: 1, Train Loss Now: 0.4726512134075165\n",
      "Step: 2, Train Loss Now: 0.4996704012155533\n",
      "Step: 3, Train Loss Now: 0.5142632822195689\n"
     ]
    },
    {
     "name": "stderr",
     "output_type": "stream",
     "text": [
      " 40%|████      | 4/10 [00:00<00:00, 27.90it/s]"
     ]
    },
    {
     "name": "stdout",
     "output_type": "stream",
     "text": [
      "Step: 4, Train Loss Now: 0.5503287836909294\n",
      "Step: 5, Train Loss Now: 0.5693495213985443\n",
      "Step: 6, Train Loss Now: 0.5372155209382375\n"
     ]
    },
    {
     "name": "stderr",
     "output_type": "stream",
     "text": [
      " 70%|███████   | 7/10 [00:00<00:00, 27.17it/s]"
     ]
    },
    {
     "name": "stdout",
     "output_type": "stream",
     "text": [
      "Step: 7, Train Loss Now: 0.5053449996880123\n",
      "Step: 8, Train Loss Now: 0.5039488486945629\n",
      "Step: 9, Train Loss Now: 0.49460798170831466\n"
     ]
    },
    {
     "name": "stderr",
     "output_type": "stream",
     "text": [
      "100%|██████████| 10/10 [00:00<00:00, 24.61it/s]\n"
     ]
    },
    {
     "name": "stdout",
     "output_type": "stream",
     "text": [
      "Step: 10, Train Loss Now: 0.5201139658689499\n"
     ]
    },
    {
     "name": "stderr",
     "output_type": "stream",
     "text": [
      "100%|██████████| 2/2 [00:00<00:00, 69.58it/s]\n",
      "  0%|          | 0/10 [00:00<?, ?it/s]"
     ]
    },
    {
     "name": "stdout",
     "output_type": "stream",
     "text": [
      "Step: 1, Train Loss Now: 0.7863548398017883\n"
     ]
    },
    {
     "name": "stderr",
     "output_type": "stream",
     "text": [
      " 30%|███       | 3/10 [00:00<00:00, 25.35it/s]"
     ]
    },
    {
     "name": "stdout",
     "output_type": "stream",
     "text": [
      "Step: 2, Train Loss Now: 0.6267918646335602\n",
      "Step: 3, Train Loss Now: 0.5880407492319742\n",
      "Step: 4, Train Loss Now: 0.5372860431671143\n"
     ]
    },
    {
     "name": "stderr",
     "output_type": "stream",
     "text": [
      " 70%|███████   | 7/10 [00:00<00:00, 28.98it/s]"
     ]
    },
    {
     "name": "stdout",
     "output_type": "stream",
     "text": [
      "Step: 5, Train Loss Now: 0.5371943473815918\n",
      "Step: 6, Train Loss Now: 0.5369140207767487\n",
      "Step: 7, Train Loss Now: 0.5179563249860492\n",
      "Step: 8, Train Loss Now: 0.5309626832604408\n"
     ]
    },
    {
     "name": "stderr",
     "output_type": "stream",
     "text": [
      "100%|██████████| 10/10 [00:00<00:00, 30.31it/s]"
     ]
    },
    {
     "name": "stdout",
     "output_type": "stream",
     "text": [
      "Step: 9, Train Loss Now: 0.5158635940816667\n",
      "Step: 10, Train Loss Now: 0.51336889564991\n"
     ]
    },
    {
     "name": "stderr",
     "output_type": "stream",
     "text": [
      "\n",
      "100%|██████████| 2/2 [00:00<00:00, 65.15it/s]\n",
      "  0%|          | 0/10 [00:00<?, ?it/s]"
     ]
    },
    {
     "name": "stdout",
     "output_type": "stream",
     "text": [
      "Step: 1, Train Loss Now: 0.4298695921897888\n",
      "Step: 2, Train Loss Now: 0.5681392848491669\n",
      "Step: 3, Train Loss Now: 0.5081914067268372\n"
     ]
    },
    {
     "name": "stderr",
     "output_type": "stream",
     "text": [
      " 40%|████      | 4/10 [00:00<00:00, 30.55it/s]"
     ]
    },
    {
     "name": "stdout",
     "output_type": "stream",
     "text": [
      "Step: 4, Train Loss Now: 0.49727775156497955\n",
      "Step: 5, Train Loss Now: 0.5429048299789428\n"
     ]
    },
    {
     "name": "stderr",
     "output_type": "stream",
     "text": [
      " 80%|████████  | 8/10 [00:00<00:00, 27.20it/s]"
     ]
    },
    {
     "name": "stdout",
     "output_type": "stream",
     "text": [
      "Step: 6, Train Loss Now: 0.5318935215473175\n",
      "Step: 7, Train Loss Now: 0.5154043095452445\n",
      "Step: 8, Train Loss Now: 0.5289915651082993\n",
      "Step: 9, Train Loss Now: 0.499729229344262\n"
     ]
    },
    {
     "name": "stderr",
     "output_type": "stream",
     "text": [
      "100%|██████████| 10/10 [00:00<00:00, 28.84it/s]\n"
     ]
    },
    {
     "name": "stdout",
     "output_type": "stream",
     "text": [
      "Step: 10, Train Loss Now: 0.49556007981300354\n"
     ]
    },
    {
     "name": "stderr",
     "output_type": "stream",
     "text": [
      "100%|██████████| 2/2 [00:00<00:00, 81.11it/s]\n",
      "  0%|          | 0/10 [00:00<?, ?it/s]"
     ]
    },
    {
     "name": "stdout",
     "output_type": "stream",
     "text": [
      "Step: 1, Train Loss Now: 0.6455596089363098\n"
     ]
    },
    {
     "name": "stderr",
     "output_type": "stream",
     "text": [
      " 30%|███       | 3/10 [00:00<00:00, 28.30it/s]"
     ]
    },
    {
     "name": "stdout",
     "output_type": "stream",
     "text": [
      "Step: 2, Train Loss Now: 0.6527662575244904\n",
      "Step: 3, Train Loss Now: 0.6408108274141947\n",
      "Step: 4, Train Loss Now: 0.5808454602956772\n",
      "Step: 5, Train Loss Now: 0.6022691488265991\n"
     ]
    },
    {
     "name": "stderr",
     "output_type": "stream",
     "text": [
      " 60%|██████    | 6/10 [00:00<00:00, 28.82it/s]"
     ]
    },
    {
     "name": "stdout",
     "output_type": "stream",
     "text": [
      "Step: 6, Train Loss Now: 0.5792404611905416\n",
      "Step: 7, Train Loss Now: 0.5527995824813843\n",
      "Step: 8, Train Loss Now: 0.5411301776766777\n"
     ]
    },
    {
     "name": "stderr",
     "output_type": "stream",
     "text": [
      "100%|██████████| 10/10 [00:00<00:00, 28.99it/s]\n"
     ]
    },
    {
     "name": "stdout",
     "output_type": "stream",
     "text": [
      "Step: 9, Train Loss Now: 0.5295879542827606\n",
      "Step: 10, Train Loss Now: 0.5457620471715927\n"
     ]
    },
    {
     "name": "stderr",
     "output_type": "stream",
     "text": [
      "100%|██████████| 2/2 [00:00<00:00, 82.08it/s]\n",
      "  0%|          | 0/10 [00:00<?, ?it/s]"
     ]
    },
    {
     "name": "stdout",
     "output_type": "stream",
     "text": [
      "Step: 1, Train Loss Now: 0.4012959897518158\n",
      "Step: 2, Train Loss Now: 0.6041222363710403\n"
     ]
    },
    {
     "name": "stderr",
     "output_type": "stream",
     "text": [
      " 30%|███       | 3/10 [00:00<00:00, 29.97it/s]"
     ]
    },
    {
     "name": "stdout",
     "output_type": "stream",
     "text": [
      "Step: 3, Train Loss Now: 0.614066074291865\n",
      "Step: 4, Train Loss Now: 0.5418105944991112\n"
     ]
    },
    {
     "name": "stderr",
     "output_type": "stream",
     "text": [
      " 60%|██████    | 6/10 [00:00<00:00, 29.69it/s]"
     ]
    },
    {
     "name": "stdout",
     "output_type": "stream",
     "text": [
      "Step: 5, Train Loss Now: 0.5005495607852936\n",
      "Step: 6, Train Loss Now: 0.4862670650084813\n",
      "Step: 7, Train Loss Now: 0.4763255757944925\n"
     ]
    },
    {
     "name": "stderr",
     "output_type": "stream",
     "text": [
      "100%|██████████| 10/10 [00:00<00:00, 29.84it/s]\n"
     ]
    },
    {
     "name": "stdout",
     "output_type": "stream",
     "text": [
      "Step: 8, Train Loss Now: 0.4962683506309986\n",
      "Step: 9, Train Loss Now: 0.5265037781662412\n",
      "Step: 10, Train Loss Now: 0.5089370816946029\n"
     ]
    },
    {
     "name": "stderr",
     "output_type": "stream",
     "text": [
      "100%|██████████| 2/2 [00:00<00:00, 71.32it/s]\n",
      "  0%|          | 0/10 [00:00<?, ?it/s]"
     ]
    },
    {
     "name": "stdout",
     "output_type": "stream",
     "text": [
      "Step: 1, Train Loss Now: 0.8774383664131165\n",
      "Step: 2, Train Loss Now: 0.7916961014270782"
     ]
    },
    {
     "name": "stderr",
     "output_type": "stream",
     "text": [
      " 50%|█████     | 5/10 [00:00<00:00, 24.02it/s]"
     ]
    },
    {
     "name": "stdout",
     "output_type": "stream",
     "text": [
      "\n",
      "Step: 3, Train Loss Now: 0.6529957354068756\n",
      "Step: 4, Train Loss Now: 0.5648481473326683\n",
      "Step: 5, Train Loss Now: 0.5691009819507599\n",
      "Step: 6, Train Loss Now: 0.5489673018455505\n",
      "Step: 7, Train Loss Now: 0.5099928549357823\n",
      "Step: 8, Train Loss Now: 0.5133004188537598\n"
     ]
    },
    {
     "name": "stderr",
     "output_type": "stream",
     "text": [
      "100%|██████████| 10/10 [00:00<00:00, 27.73it/s]\n"
     ]
    },
    {
     "name": "stdout",
     "output_type": "stream",
     "text": [
      "Step: 9, Train Loss Now: 0.4928180244233873\n",
      "Step: 10, Train Loss Now: 0.5141391694545746\n"
     ]
    },
    {
     "name": "stderr",
     "output_type": "stream",
     "text": [
      "100%|██████████| 2/2 [00:00<00:00, 83.73it/s]\n",
      "  0%|          | 0/10 [00:00<?, ?it/s]"
     ]
    },
    {
     "name": "stdout",
     "output_type": "stream",
     "text": [
      "Step: 1, Train Loss Now: 0.4371125102043152\n",
      "Step: 2, Train Loss Now: 0.5643291771411896\n"
     ]
    },
    {
     "name": "stderr",
     "output_type": "stream",
     "text": [
      " 30%|███       | 3/10 [00:00<00:00, 25.71it/s]"
     ]
    },
    {
     "name": "stdout",
     "output_type": "stream",
     "text": [
      "Step: 3, Train Loss Now: 0.5744669238726298\n"
     ]
    },
    {
     "name": "stderr",
     "output_type": "stream",
     "text": [
      " 60%|██████    | 6/10 [00:00<00:00, 27.57it/s]"
     ]
    },
    {
     "name": "stdout",
     "output_type": "stream",
     "text": [
      "Step: 4, Train Loss Now: 0.5312257260084152\n",
      "Step: 5, Train Loss Now: 0.5488536596298218\n",
      "Step: 6, Train Loss Now: 0.5414137641588846\n",
      "Step: 7, Train Loss Now: 0.5092187012944903\n",
      "Step: 8, Train Loss Now: 0.5336515754461288\n"
     ]
    },
    {
     "name": "stderr",
     "output_type": "stream",
     "text": [
      "100%|██████████| 10/10 [00:00<00:00, 28.32it/s]"
     ]
    },
    {
     "name": "stdout",
     "output_type": "stream",
     "text": [
      "Step: 9, Train Loss Now: 0.5110906097624037\n",
      "Step: 10, Train Loss Now: 0.509009501338005\n"
     ]
    },
    {
     "name": "stderr",
     "output_type": "stream",
     "text": [
      "\n",
      "100%|██████████| 2/2 [00:00<00:00, 72.74it/s]\n",
      "  0%|          | 0/10 [00:00<?, ?it/s]"
     ]
    },
    {
     "name": "stdout",
     "output_type": "stream",
     "text": [
      "Step: 1, Train Loss Now: 0.4101581573486328\n",
      "Step: 2, Train Loss Now: 0.5441696345806122\n"
     ]
    },
    {
     "name": "stderr",
     "output_type": "stream",
     "text": [
      " 40%|████      | 4/10 [00:00<00:00, 32.30it/s]"
     ]
    },
    {
     "name": "stdout",
     "output_type": "stream",
     "text": [
      "Step: 3, Train Loss Now: 0.4754279851913452\n",
      "Step: 4, Train Loss Now: 0.46561917662620544\n",
      "Step: 5, Train Loss Now: 0.474784255027771\n",
      "Step: 6, Train Loss Now: 0.4710858265558879\n",
      "Step: 7, Train Loss Now: 0.5019349540982928\n"
     ]
    },
    {
     "name": "stderr",
     "output_type": "stream",
     "text": [
      " 80%|████████  | 8/10 [00:00<00:00, 31.43it/s]"
     ]
    },
    {
     "name": "stdout",
     "output_type": "stream",
     "text": [
      "Step: 8, Train Loss Now: 0.48806583136320114\n",
      "Step: 9, Train Loss Now: 0.48219506608115303\n"
     ]
    },
    {
     "name": "stderr",
     "output_type": "stream",
     "text": [
      "100%|██████████| 10/10 [00:00<00:00, 32.23it/s]\n"
     ]
    },
    {
     "name": "stdout",
     "output_type": "stream",
     "text": [
      "Step: 10, Train Loss Now: 0.4879898130893707\n"
     ]
    },
    {
     "name": "stderr",
     "output_type": "stream",
     "text": [
      "100%|██████████| 2/2 [00:00<00:00, 87.27it/s]\n",
      "  0%|          | 0/10 [00:00<?, ?it/s]"
     ]
    },
    {
     "name": "stdout",
     "output_type": "stream",
     "text": [
      "Step: 1, Train Loss Now: 0.4103100895881653\n",
      "Step: 2, Train Loss Now: 0.3627772629261017\n",
      "Step: 3, Train Loss Now: 0.40388671557108563\n"
     ]
    },
    {
     "name": "stderr",
     "output_type": "stream",
     "text": [
      " 40%|████      | 4/10 [00:00<00:00, 35.44it/s]"
     ]
    },
    {
     "name": "stdout",
     "output_type": "stream",
     "text": [
      "Step: 4, Train Loss Now: 0.42900873720645905\n",
      "Step: 5, Train Loss Now: 0.4500740170478821\n",
      "Step: 6, Train Loss Now: 0.4694588780403137\n",
      "Step: 7, Train Loss Now: 0.4646407834121159\n"
     ]
    },
    {
     "name": "stderr",
     "output_type": "stream",
     "text": [
      "100%|██████████| 10/10 [00:00<00:00, 27.35it/s]\n"
     ]
    },
    {
     "name": "stdout",
     "output_type": "stream",
     "text": [
      "Step: 8, Train Loss Now: 0.49732957407832146\n",
      "Step: 9, Train Loss Now: 0.5075905488597022\n",
      "Step: 10, Train Loss Now: 0.5020129233598709\n"
     ]
    },
    {
     "name": "stderr",
     "output_type": "stream",
     "text": [
      "100%|██████████| 2/2 [00:00<00:00, 97.20it/s]\n",
      "  0%|          | 0/10 [00:00<?, ?it/s]"
     ]
    },
    {
     "name": "stdout",
     "output_type": "stream",
     "text": [
      "Step: 1, Train Loss Now: 0.5491135716438293\n",
      "Step: 2, Train Loss Now: 0.5538175702095032\n",
      "Step: 3, Train Loss Now: 0.6089239915211996\n"
     ]
    },
    {
     "name": "stderr",
     "output_type": "stream",
     "text": [
      " 70%|███████   | 7/10 [00:00<00:00, 29.11it/s]"
     ]
    },
    {
     "name": "stdout",
     "output_type": "stream",
     "text": [
      "Step: 4, Train Loss Now: 0.5160004273056984\n",
      "Step: 5, Train Loss Now: 0.5023908376693725\n",
      "Step: 6, Train Loss Now: 0.4941588491201401\n",
      "Step: 7, Train Loss Now: 0.4979536831378937\n",
      "Step: 8, Train Loss Now: 0.5007935278117657\n"
     ]
    },
    {
     "name": "stderr",
     "output_type": "stream",
     "text": [
      "100%|██████████| 10/10 [00:00<00:00, 30.85it/s]"
     ]
    },
    {
     "name": "stdout",
     "output_type": "stream",
     "text": [
      "Step: 9, Train Loss Now: 0.5137908690505557\n",
      "Step: 10, Train Loss Now: 0.49358544647693636\n"
     ]
    },
    {
     "name": "stderr",
     "output_type": "stream",
     "text": [
      "\n",
      "100%|██████████| 2/2 [00:00<00:00, 88.63it/s]\n",
      "  0%|          | 0/10 [00:00<?, ?it/s]"
     ]
    },
    {
     "name": "stdout",
     "output_type": "stream",
     "text": [
      "Step: 1, Train Loss Now: 0.4066406190395355\n",
      "Step: 2, Train Loss Now: 0.4493817836046219\n",
      "Step: 3, Train Loss Now: 0.5497699479262034\n"
     ]
    },
    {
     "name": "stderr",
     "output_type": "stream",
     "text": [
      " 40%|████      | 4/10 [00:00<00:00, 31.93it/s]"
     ]
    },
    {
     "name": "stdout",
     "output_type": "stream",
     "text": [
      "Step: 4, Train Loss Now: 0.5523128435015678\n",
      "Step: 5, Train Loss Now: 0.5754210412502289\n"
     ]
    },
    {
     "name": "stderr",
     "output_type": "stream",
     "text": [
      " 80%|████████  | 8/10 [00:00<00:00, 26.06it/s]"
     ]
    },
    {
     "name": "stdout",
     "output_type": "stream",
     "text": [
      "Step: 6, Train Loss Now: 0.5793785899877548\n",
      "Step: 7, Train Loss Now: 0.5435421211378915\n",
      "Step: 8, Train Loss Now: 0.5278967805206776\n"
     ]
    },
    {
     "name": "stderr",
     "output_type": "stream",
     "text": [
      "100%|██████████| 10/10 [00:00<00:00, 27.83it/s]"
     ]
    },
    {
     "name": "stdout",
     "output_type": "stream",
     "text": [
      "Step: 9, Train Loss Now: 0.5026567843225267\n",
      "Step: 10, Train Loss Now: 0.4952031075954437\n"
     ]
    },
    {
     "name": "stderr",
     "output_type": "stream",
     "text": [
      "\n",
      "100%|██████████| 2/2 [00:00<00:00, 95.17it/s]\n",
      "  0%|          | 0/10 [00:00<?, ?it/s]"
     ]
    },
    {
     "name": "stdout",
     "output_type": "stream",
     "text": [
      "Step: 1, Train Loss Now: 0.4423457682132721\n"
     ]
    },
    {
     "name": "stderr",
     "output_type": "stream",
     "text": [
      " 30%|███       | 3/10 [00:00<00:00, 28.07it/s]"
     ]
    },
    {
     "name": "stdout",
     "output_type": "stream",
     "text": [
      "Step: 2, Train Loss Now: 0.42361295223236084\n",
      "Step: 3, Train Loss Now: 0.4518744150797526\n"
     ]
    },
    {
     "name": "stderr",
     "output_type": "stream",
     "text": [
      " 60%|██████    | 6/10 [00:00<00:00, 27.50it/s]"
     ]
    },
    {
     "name": "stdout",
     "output_type": "stream",
     "text": [
      "Step: 4, Train Loss Now: 0.45193127542734146\n",
      "Step: 5, Train Loss Now: 0.45248504281044005\n",
      "Step: 6, Train Loss Now: 0.4465972383817037\n",
      "Step: 7, Train Loss Now: 0.4480891227722168\n"
     ]
    },
    {
     "name": "stderr",
     "output_type": "stream",
     "text": [
      " 90%|█████████ | 9/10 [00:00<00:00, 27.33it/s]"
     ]
    },
    {
     "name": "stdout",
     "output_type": "stream",
     "text": [
      "Step: 8, Train Loss Now: 0.4748435392975807\n",
      "Step: 9, Train Loss Now: 0.4885857039027744\n"
     ]
    },
    {
     "name": "stderr",
     "output_type": "stream",
     "text": [
      "100%|██████████| 10/10 [00:00<00:00, 28.55it/s]\n"
     ]
    },
    {
     "name": "stdout",
     "output_type": "stream",
     "text": [
      "Step: 10, Train Loss Now: 0.5124007582664489\n"
     ]
    },
    {
     "name": "stderr",
     "output_type": "stream",
     "text": [
      "100%|██████████| 2/2 [00:00<00:00, 67.76it/s]\n",
      "  0%|          | 0/10 [00:00<?, ?it/s]"
     ]
    },
    {
     "name": "stdout",
     "output_type": "stream",
     "text": [
      "Step: 1, Train Loss Now: 0.35703346133232117\n"
     ]
    },
    {
     "name": "stderr",
     "output_type": "stream",
     "text": [
      " 30%|███       | 3/10 [00:00<00:00, 29.30it/s]"
     ]
    },
    {
     "name": "stdout",
     "output_type": "stream",
     "text": [
      "Step: 2, Train Loss Now: 0.5648103505373001\n",
      "Step: 3, Train Loss Now: 0.5273259480794271\n",
      "Step: 4, Train Loss Now: 0.4938182681798935\n",
      "Step: 5, Train Loss Now: 0.4878802478313446\n"
     ]
    },
    {
     "name": "stderr",
     "output_type": "stream",
     "text": [
      " 70%|███████   | 7/10 [00:00<00:00, 33.31it/s]"
     ]
    },
    {
     "name": "stdout",
     "output_type": "stream",
     "text": [
      "Step: 6, Train Loss Now: 0.4996857891480128\n",
      "Step: 7, Train Loss Now: 0.5117939412593842\n",
      "Step: 8, Train Loss Now: 0.5172416605055332\n"
     ]
    },
    {
     "name": "stderr",
     "output_type": "stream",
     "text": [
      "100%|██████████| 10/10 [00:00<00:00, 31.36it/s]"
     ]
    },
    {
     "name": "stdout",
     "output_type": "stream",
     "text": [
      "Step: 9, Train Loss Now: 0.4958621064821879\n",
      "Step: 10, Train Loss Now: 0.48015848994255067\n"
     ]
    },
    {
     "name": "stderr",
     "output_type": "stream",
     "text": [
      "\n",
      "100%|██████████| 2/2 [00:00<00:00, 80.42it/s]\n",
      "  0%|          | 0/10 [00:00<?, ?it/s]"
     ]
    },
    {
     "name": "stdout",
     "output_type": "stream",
     "text": [
      "Step: 1, Train Loss Now: 0.5156416296958923\n",
      "Step: 2, Train Loss Now: 0.4681578725576401\n",
      "Step: 3, Train Loss Now: 0.4877178966999054\n"
     ]
    },
    {
     "name": "stderr",
     "output_type": "stream",
     "text": [
      " 40%|████      | 4/10 [00:00<00:00, 31.12it/s]"
     ]
    },
    {
     "name": "stdout",
     "output_type": "stream",
     "text": [
      "Step: 4, Train Loss Now: 0.4616914466023445\n",
      "Step: 5, Train Loss Now: 0.4612483024597168\n",
      "Step: 6, Train Loss Now: 0.47475122412045795\n",
      "Step: 7, Train Loss Now: 0.44738479597227915\n"
     ]
    },
    {
     "name": "stderr",
     "output_type": "stream",
     "text": [
      " 80%|████████  | 8/10 [00:00<00:00, 30.72it/s]"
     ]
    },
    {
     "name": "stdout",
     "output_type": "stream",
     "text": [
      "Step: 8, Train Loss Now: 0.47125107422471046\n"
     ]
    },
    {
     "name": "stderr",
     "output_type": "stream",
     "text": [
      "100%|██████████| 10/10 [00:00<00:00, 26.67it/s]\n"
     ]
    },
    {
     "name": "stdout",
     "output_type": "stream",
     "text": [
      "Step: 9, Train Loss Now: 0.48407654298676384\n",
      "Step: 10, Train Loss Now: 0.4696971207857132\n"
     ]
    },
    {
     "name": "stderr",
     "output_type": "stream",
     "text": [
      "100%|██████████| 2/2 [00:00<00:00, 81.06it/s]\n",
      "  0%|          | 0/10 [00:00<?, ?it/s]"
     ]
    },
    {
     "name": "stdout",
     "output_type": "stream",
     "text": [
      "Step: 1, Train Loss Now: 0.2239396572113037\n"
     ]
    },
    {
     "name": "stderr",
     "output_type": "stream",
     "text": [
      " 30%|███       | 3/10 [00:00<00:00, 27.40it/s]"
     ]
    },
    {
     "name": "stdout",
     "output_type": "stream",
     "text": [
      "Step: 2, Train Loss Now: 0.3227658122777939\n",
      "Step: 3, Train Loss Now: 0.3355794350306193\n",
      "Step: 4, Train Loss Now: 0.41808760166168213\n",
      "Step: 5, Train Loss Now: 0.45604208707809446\n",
      "Step: 6, Train Loss Now: 0.48739273349444073\n"
     ]
    },
    {
     "name": "stderr",
     "output_type": "stream",
     "text": [
      " 70%|███████   | 7/10 [00:00<00:00, 29.97it/s]"
     ]
    },
    {
     "name": "stdout",
     "output_type": "stream",
     "text": [
      "Step: 7, Train Loss Now: 0.5022567851202828\n"
     ]
    },
    {
     "name": "stderr",
     "output_type": "stream",
     "text": [
      "100%|██████████| 10/10 [00:00<00:00, 29.67it/s]\n"
     ]
    },
    {
     "name": "stdout",
     "output_type": "stream",
     "text": [
      "Step: 8, Train Loss Now: 0.5046723783016205\n",
      "Step: 9, Train Loss Now: 0.49824825260374284\n",
      "Step: 10, Train Loss Now: 0.5057543575763702\n"
     ]
    },
    {
     "name": "stderr",
     "output_type": "stream",
     "text": [
      "100%|██████████| 2/2 [00:00<00:00, 65.23it/s]\n",
      "  0%|          | 0/10 [00:00<?, ?it/s]"
     ]
    },
    {
     "name": "stdout",
     "output_type": "stream",
     "text": [
      "Step: 1, Train Loss Now: 0.43974030017852783\n",
      "Step: 2, Train Loss Now: 0.4681764245033264\n",
      "Step: 3, Train Loss Now: 0.5778019030888876\n"
     ]
    },
    {
     "name": "stderr",
     "output_type": "stream",
     "text": [
      " 40%|████      | 4/10 [00:00<00:00, 28.59it/s]"
     ]
    },
    {
     "name": "stdout",
     "output_type": "stream",
     "text": [
      "Step: 4, Train Loss Now: 0.5191741287708282\n",
      "Step: 5, Train Loss Now: 0.5277027606964111\n",
      "Step: 6, Train Loss Now: 0.5042873372634252\n"
     ]
    },
    {
     "name": "stderr",
     "output_type": "stream",
     "text": [
      " 80%|████████  | 8/10 [00:00<00:00, 29.69it/s]"
     ]
    },
    {
     "name": "stdout",
     "output_type": "stream",
     "text": [
      "Step: 7, Train Loss Now: 0.4988479571683066\n",
      "Step: 8, Train Loss Now: 0.5011178068816662\n",
      "Step: 9, Train Loss Now: 0.5087810059388479\n",
      "Step: 10, Train Loss Now: 0.5022452384233475\n"
     ]
    },
    {
     "name": "stderr",
     "output_type": "stream",
     "text": [
      "100%|██████████| 10/10 [00:00<00:00, 30.48it/s]\n",
      "100%|██████████| 2/2 [00:00<00:00, 63.88it/s]\n",
      "  0%|          | 0/10 [00:00<?, ?it/s]"
     ]
    },
    {
     "name": "stdout",
     "output_type": "stream",
     "text": [
      "Step: 1, Train Loss Now: 0.6796396374702454\n"
     ]
    },
    {
     "name": "stderr",
     "output_type": "stream",
     "text": [
      " 20%|██        | 2/10 [00:00<00:00, 15.20it/s]"
     ]
    },
    {
     "name": "stdout",
     "output_type": "stream",
     "text": [
      "Step: 2, Train Loss Now: 0.5071830451488495\n"
     ]
    },
    {
     "name": "stderr",
     "output_type": "stream",
     "text": [
      " 50%|█████     | 5/10 [00:00<00:00, 21.63it/s]"
     ]
    },
    {
     "name": "stdout",
     "output_type": "stream",
     "text": [
      "Step: 3, Train Loss Now: 0.4932454029719035\n",
      "Step: 4, Train Loss Now: 0.5284807235002518\n",
      "Step: 5, Train Loss Now: 0.49879084825515746\n",
      "Step: 6, Train Loss Now: 0.4909241398175557\n",
      "Step: 7, Train Loss Now: 0.5149181825774056\n"
     ]
    },
    {
     "name": "stderr",
     "output_type": "stream",
     "text": [
      " 80%|████████  | 8/10 [00:00<00:00, 24.26it/s]"
     ]
    },
    {
     "name": "stdout",
     "output_type": "stream",
     "text": [
      "Step: 8, Train Loss Now: 0.5020139515399933\n"
     ]
    },
    {
     "name": "stderr",
     "output_type": "stream",
     "text": [
      "100%|██████████| 10/10 [00:00<00:00, 23.89it/s]\n"
     ]
    },
    {
     "name": "stdout",
     "output_type": "stream",
     "text": [
      "Step: 9, Train Loss Now: 0.497854620218277\n",
      "Step: 10, Train Loss Now: 0.5277702897787094\n"
     ]
    },
    {
     "name": "stderr",
     "output_type": "stream",
     "text": [
      "100%|██████████| 2/2 [00:00<00:00, 74.67it/s]\n",
      "  0%|          | 0/10 [00:00<?, ?it/s]"
     ]
    },
    {
     "name": "stdout",
     "output_type": "stream",
     "text": [
      "Step: 1, Train Loss Now: 0.5725114941596985\n"
     ]
    },
    {
     "name": "stderr",
     "output_type": "stream",
     "text": [
      " 30%|███       | 3/10 [00:00<00:00, 29.57it/s]"
     ]
    },
    {
     "name": "stdout",
     "output_type": "stream",
     "text": [
      "Step: 2, Train Loss Now: 0.5400360524654388\n",
      "Step: 3, Train Loss Now: 0.5594804883003235\n",
      "Step: 4, Train Loss Now: 0.5587999820709229\n"
     ]
    },
    {
     "name": "stderr",
     "output_type": "stream",
     "text": [
      " 60%|██████    | 6/10 [00:00<00:00, 28.85it/s]"
     ]
    },
    {
     "name": "stdout",
     "output_type": "stream",
     "text": [
      "Step: 5, Train Loss Now: 0.5616093277931213\n",
      "Step: 6, Train Loss Now: 0.5797960758209229\n",
      "Step: 7, Train Loss Now: 0.5804755858012608\n",
      "Step: 8, Train Loss Now: 0.5564277432858944\n"
     ]
    },
    {
     "name": "stderr",
     "output_type": "stream",
     "text": [
      "100%|██████████| 10/10 [00:00<00:00, 31.38it/s]"
     ]
    },
    {
     "name": "stdout",
     "output_type": "stream",
     "text": [
      "Step: 9, Train Loss Now: 0.5467004179954529\n",
      "Step: 10, Train Loss Now: 0.5257381588220597\n"
     ]
    },
    {
     "name": "stderr",
     "output_type": "stream",
     "text": [
      "100%|██████████| 10/10 [00:00<00:00, 30.79it/s]\n",
      "100%|██████████| 2/2 [00:00<00:00, 74.41it/s]\n",
      "  0%|          | 0/10 [00:00<?, ?it/s]"
     ]
    },
    {
     "name": "stdout",
     "output_type": "stream",
     "text": [
      "Step: 1, Train Loss Now: 0.3576864004135132\n",
      "Step: 2, Train Loss Now: 0.3889559954404831\n",
      "Step: 3, Train Loss Now: 0.4471248884995778\n"
     ]
    },
    {
     "name": "stderr",
     "output_type": "stream",
     "text": [
      " 40%|████      | 4/10 [00:00<00:00, 31.37it/s]"
     ]
    },
    {
     "name": "stdout",
     "output_type": "stream",
     "text": [
      "Step: 4, Train Loss Now: 0.41920191794633865\n",
      "Step: 5, Train Loss Now: 0.40610827803611754\n",
      "Step: 6, Train Loss Now: 0.45164547860622406\n",
      "Step: 7, Train Loss Now: 0.46491861769131254\n"
     ]
    },
    {
     "name": "stderr",
     "output_type": "stream",
     "text": [
      " 80%|████████  | 8/10 [00:00<00:00, 30.30it/s]"
     ]
    },
    {
     "name": "stdout",
     "output_type": "stream",
     "text": [
      "Step: 8, Train Loss Now: 0.49915508553385735\n",
      "Step: 9, Train Loss Now: 0.5024027592606015\n"
     ]
    },
    {
     "name": "stderr",
     "output_type": "stream",
     "text": [
      "100%|██████████| 10/10 [00:00<00:00, 30.59it/s]\n"
     ]
    },
    {
     "name": "stdout",
     "output_type": "stream",
     "text": [
      "Step: 10, Train Loss Now: 0.4834549158811569\n"
     ]
    },
    {
     "name": "stderr",
     "output_type": "stream",
     "text": [
      "100%|██████████| 2/2 [00:00<00:00, 68.61it/s]\n",
      "  0%|          | 0/10 [00:00<?, ?it/s]"
     ]
    },
    {
     "name": "stdout",
     "output_type": "stream",
     "text": [
      "Step: 1, Train Loss Now: 0.3898027539253235\n",
      "Step: 2, Train Loss Now: 0.41965529322624207\n",
      "Step: 3, Train Loss Now: 0.40469370285669964\n"
     ]
    },
    {
     "name": "stderr",
     "output_type": "stream",
     "text": [
      " 40%|████      | 4/10 [00:00<00:00, 30.29it/s]"
     ]
    },
    {
     "name": "stdout",
     "output_type": "stream",
     "text": [
      "Step: 4, Train Loss Now: 0.42100638151168823\n",
      "Step: 5, Train Loss Now: 0.4602483153343201\n",
      "Step: 6, Train Loss Now: 0.46697352329889935\n",
      "Step: 7, Train Loss Now: 0.4624926447868347\n"
     ]
    },
    {
     "name": "stderr",
     "output_type": "stream",
     "text": [
      " 80%|████████  | 8/10 [00:00<00:00, 28.82it/s]"
     ]
    },
    {
     "name": "stdout",
     "output_type": "stream",
     "text": [
      "Step: 8, Train Loss Now: 0.4672565832734108\n",
      "Step: 9, Train Loss Now: 0.4498002893394894\n"
     ]
    },
    {
     "name": "stderr",
     "output_type": "stream",
     "text": [
      "100%|██████████| 10/10 [00:00<00:00, 29.23it/s]\n"
     ]
    },
    {
     "name": "stdout",
     "output_type": "stream",
     "text": [
      "Step: 10, Train Loss Now: 0.467129722237587\n"
     ]
    },
    {
     "name": "stderr",
     "output_type": "stream",
     "text": [
      "100%|██████████| 2/2 [00:00<00:00, 74.29it/s]\n",
      "  0%|          | 0/10 [00:00<?, ?it/s]"
     ]
    },
    {
     "name": "stdout",
     "output_type": "stream",
     "text": [
      "Step: 1, Train Loss Now: 0.5414484143257141\n",
      "Step: 2, Train Loss Now: 0.4543040692806244\n"
     ]
    },
    {
     "name": "stderr",
     "output_type": "stream",
     "text": [
      " 30%|███       | 3/10 [00:00<00:00, 21.78it/s]"
     ]
    },
    {
     "name": "stdout",
     "output_type": "stream",
     "text": [
      "Step: 3, Train Loss Now: 0.5207122166951498\n",
      "Step: 4, Train Loss Now: 0.4911160469055176\n",
      "Step: 5, Train Loss Now: 0.49445178508758547\n"
     ]
    },
    {
     "name": "stderr",
     "output_type": "stream",
     "text": [
      " 60%|██████    | 6/10 [00:00<00:00, 25.06it/s]"
     ]
    },
    {
     "name": "stdout",
     "output_type": "stream",
     "text": [
      "Step: 6, Train Loss Now: 0.4738565981388092\n",
      "Step: 7, Train Loss Now: 0.45892680968557087\n",
      "Step: 8, Train Loss Now: 0.4899344928562641\n"
     ]
    },
    {
     "name": "stderr",
     "output_type": "stream",
     "text": [
      "100%|██████████| 10/10 [00:00<00:00, 26.41it/s]"
     ]
    },
    {
     "name": "stdout",
     "output_type": "stream",
     "text": [
      "Step: 9, Train Loss Now: 0.49307410253418815\n",
      "Step: 10, Train Loss Now: 0.46828392446041106\n"
     ]
    },
    {
     "name": "stderr",
     "output_type": "stream",
     "text": [
      "\n",
      "100%|██████████| 2/2 [00:00<00:00, 93.19it/s]\n",
      "  0%|          | 0/10 [00:00<?, ?it/s]"
     ]
    },
    {
     "name": "stdout",
     "output_type": "stream",
     "text": [
      "Step: 1, Train Loss Now: 0.4489125907421112\n"
     ]
    },
    {
     "name": "stderr",
     "output_type": "stream",
     "text": [
      " 30%|███       | 3/10 [00:00<00:00, 25.95it/s]"
     ]
    },
    {
     "name": "stdout",
     "output_type": "stream",
     "text": [
      "Step: 2, Train Loss Now: 0.43946418166160583\n",
      "Step: 3, Train Loss Now: 0.49963313341140747\n",
      "Step: 4, Train Loss Now: 0.4728662446141243\n"
     ]
    },
    {
     "name": "stderr",
     "output_type": "stream",
     "text": [
      " 60%|██████    | 6/10 [00:00<00:00, 27.48it/s]"
     ]
    },
    {
     "name": "stdout",
     "output_type": "stream",
     "text": [
      "Step: 5, Train Loss Now: 0.4705921173095703\n",
      "Step: 6, Train Loss Now: 0.4645377000172933\n",
      "Step: 7, Train Loss Now: 0.457962942974908\n",
      "Step: 8, Train Loss Now: 0.4593014307320118\n"
     ]
    },
    {
     "name": "stderr",
     "output_type": "stream",
     "text": [
      "100%|██████████| 10/10 [00:00<00:00, 28.42it/s]\n"
     ]
    },
    {
     "name": "stdout",
     "output_type": "stream",
     "text": [
      "Step: 9, Train Loss Now: 0.4767403503259023\n",
      "Step: 10, Train Loss Now: 0.4904997140169144\n"
     ]
    },
    {
     "name": "stderr",
     "output_type": "stream",
     "text": [
      "100%|██████████| 2/2 [00:00<00:00, 71.87it/s]\n",
      "  0%|          | 0/10 [00:00<?, ?it/s]"
     ]
    },
    {
     "name": "stdout",
     "output_type": "stream",
     "text": [
      "Step: 1, Train Loss Now: 0.5277435779571533\n"
     ]
    },
    {
     "name": "stderr",
     "output_type": "stream",
     "text": [
      " 20%|██        | 2/10 [00:00<00:00, 16.96it/s]"
     ]
    },
    {
     "name": "stdout",
     "output_type": "stream",
     "text": [
      "Step: 2, Train Loss Now: 0.5487232208251953\n"
     ]
    },
    {
     "name": "stderr",
     "output_type": "stream",
     "text": [
      " 50%|█████     | 5/10 [00:00<00:00, 22.85it/s]"
     ]
    },
    {
     "name": "stdout",
     "output_type": "stream",
     "text": [
      "Step: 3, Train Loss Now: 0.5350702802340189\n",
      "Step: 4, Train Loss Now: 0.5202719941735268\n",
      "Step: 5, Train Loss Now: 0.4956380069255829\n",
      "Step: 6, Train Loss Now: 0.47189100086688995\n",
      "Step: 7, Train Loss Now: 0.4570409996168954\n",
      "Step: 8, Train Loss Now: 0.4396694041788578\n"
     ]
    },
    {
     "name": "stderr",
     "output_type": "stream",
     "text": [
      "100%|██████████| 10/10 [00:00<00:00, 26.56it/s]\n"
     ]
    },
    {
     "name": "stdout",
     "output_type": "stream",
     "text": [
      "Step: 9, Train Loss Now: 0.4485483070214589\n",
      "Step: 10, Train Loss Now: 0.47584119737148284\n"
     ]
    },
    {
     "name": "stderr",
     "output_type": "stream",
     "text": [
      "100%|██████████| 2/2 [00:00<00:00, 75.92it/s]\n",
      "  0%|          | 0/10 [00:00<?, ?it/s]"
     ]
    },
    {
     "name": "stdout",
     "output_type": "stream",
     "text": [
      "Step: 1, Train Loss Now: 0.6016031503677368\n",
      "Step: 2, Train Loss Now: 0.6007455587387085\n"
     ]
    },
    {
     "name": "stderr",
     "output_type": "stream",
     "text": [
      " 30%|███       | 3/10 [00:00<00:00, 24.80it/s]"
     ]
    },
    {
     "name": "stdout",
     "output_type": "stream",
     "text": [
      "Step: 3, Train Loss Now: 0.4742361555496852\n",
      "Step: 4, Train Loss Now: 0.4813305325806141\n",
      "Step: 5, Train Loss Now: 0.45680701434612275\n",
      "Step: 6, Train Loss Now: 0.48965363452831906\n"
     ]
    },
    {
     "name": "stderr",
     "output_type": "stream",
     "text": [
      " 70%|███████   | 7/10 [00:00<00:00, 23.66it/s]"
     ]
    },
    {
     "name": "stdout",
     "output_type": "stream",
     "text": [
      "Step: 7, Train Loss Now: 0.4869836377246039\n",
      "Step: 8, Train Loss Now: 0.4879425298422575\n"
     ]
    },
    {
     "name": "stderr",
     "output_type": "stream",
     "text": [
      "100%|██████████| 10/10 [00:00<00:00, 26.50it/s]\n"
     ]
    },
    {
     "name": "stdout",
     "output_type": "stream",
     "text": [
      "Step: 9, Train Loss Now: 0.4756122910314136\n",
      "Step: 10, Train Loss Now: 0.48735167533159257\n"
     ]
    },
    {
     "name": "stderr",
     "output_type": "stream",
     "text": [
      "100%|██████████| 2/2 [00:00<00:00, 72.47it/s]\n",
      "  0%|          | 0/10 [00:00<?, ?it/s]"
     ]
    },
    {
     "name": "stdout",
     "output_type": "stream",
     "text": [
      "Step: 1, Train Loss Now: 0.5069800615310669\n",
      "Step: 2, Train Loss Now: 0.5231419801712036\n"
     ]
    },
    {
     "name": "stderr",
     "output_type": "stream",
     "text": [
      " 30%|███       | 3/10 [00:00<00:00, 27.86it/s]"
     ]
    },
    {
     "name": "stdout",
     "output_type": "stream",
     "text": [
      "Step: 3, Train Loss Now: 0.49482666452725727\n",
      "Step: 4, Train Loss Now: 0.45969057083129883\n"
     ]
    },
    {
     "name": "stderr",
     "output_type": "stream",
     "text": [
      " 60%|██████    | 6/10 [00:00<00:00, 28.90it/s]"
     ]
    },
    {
     "name": "stdout",
     "output_type": "stream",
     "text": [
      "Step: 5, Train Loss Now: 0.46431471705436705\n",
      "Step: 6, Train Loss Now: 0.5097558448712031\n",
      "Step: 7, Train Loss Now: 0.4949607806546347\n",
      "Step: 8, Train Loss Now: 0.523418840020895\n"
     ]
    },
    {
     "name": "stderr",
     "output_type": "stream",
     "text": [
      "100%|██████████| 10/10 [00:00<00:00, 28.01it/s]"
     ]
    },
    {
     "name": "stdout",
     "output_type": "stream",
     "text": [
      "Step: 9, Train Loss Now: 0.4945851531293657\n",
      "Step: 10, Train Loss Now: 0.48187738955020903\n"
     ]
    },
    {
     "name": "stderr",
     "output_type": "stream",
     "text": [
      "\n",
      "100%|██████████| 2/2 [00:00<00:00, 72.78it/s]\n",
      "  0%|          | 0/10 [00:00<?, ?it/s]"
     ]
    },
    {
     "name": "stdout",
     "output_type": "stream",
     "text": [
      "Step: 1, Train Loss Now: 0.39567551016807556\n",
      "Step: 2, Train Loss Now: 0.4267057031393051\n",
      "Step: 3, Train Loss Now: 0.4198794464270274\n"
     ]
    },
    {
     "name": "stderr",
     "output_type": "stream",
     "text": [
      " 40%|████      | 4/10 [00:00<00:00, 30.64it/s]"
     ]
    },
    {
     "name": "stdout",
     "output_type": "stream",
     "text": [
      "Step: 4, Train Loss Now: 0.4302067309617996\n",
      "Step: 5, Train Loss Now: 0.42912577986717226\n",
      "Step: 6, Train Loss Now: 0.41718428830305737\n"
     ]
    },
    {
     "name": "stderr",
     "output_type": "stream",
     "text": [
      " 80%|████████  | 8/10 [00:00<00:00, 25.69it/s]"
     ]
    },
    {
     "name": "stdout",
     "output_type": "stream",
     "text": [
      "Step: 7, Train Loss Now: 0.42584709184510366\n",
      "Step: 8, Train Loss Now: 0.42949873208999634\n",
      "Step: 9, Train Loss Now: 0.4543074568112691\n",
      "Step: 10, Train Loss Now: 0.4822614848613739\n"
     ]
    },
    {
     "name": "stderr",
     "output_type": "stream",
     "text": [
      "100%|██████████| 10/10 [00:00<00:00, 26.99it/s]\n",
      "100%|██████████| 2/2 [00:00<00:00, 65.72it/s]\n",
      "  0%|          | 0/10 [00:00<?, ?it/s]"
     ]
    },
    {
     "name": "stdout",
     "output_type": "stream",
     "text": [
      "Step: 1, Train Loss Now: 0.4605504870414734\n",
      "Step: 2, Train Loss Now: 0.41456402838230133\n"
     ]
    },
    {
     "name": "stderr",
     "output_type": "stream",
     "text": [
      " 30%|███       | 3/10 [00:00<00:00, 24.66it/s]"
     ]
    },
    {
     "name": "stdout",
     "output_type": "stream",
     "text": [
      "Step: 3, Train Loss Now: 0.462456872065862\n",
      "Step: 4, Train Loss Now: 0.4652797281742096\n"
     ]
    },
    {
     "name": "stderr",
     "output_type": "stream",
     "text": [
      " 60%|██████    | 6/10 [00:00<00:00, 26.80it/s]"
     ]
    },
    {
     "name": "stdout",
     "output_type": "stream",
     "text": [
      "Step: 5, Train Loss Now: 0.482882022857666\n",
      "Step: 6, Train Loss Now: 0.5086605151494344\n",
      "Step: 7, Train Loss Now: 0.5098902157374791\n",
      "Step: 8, Train Loss Now: 0.4994041845202446\n"
     ]
    },
    {
     "name": "stderr",
     "output_type": "stream",
     "text": [
      "100%|██████████| 10/10 [00:00<00:00, 27.27it/s]\n"
     ]
    },
    {
     "name": "stdout",
     "output_type": "stream",
     "text": [
      "Step: 9, Train Loss Now: 0.48226312465137905\n",
      "Step: 10, Train Loss Now: 0.5012839645147323\n"
     ]
    },
    {
     "name": "stderr",
     "output_type": "stream",
     "text": [
      "100%|██████████| 2/2 [00:00<00:00, 78.70it/s]\n",
      "  0%|          | 0/10 [00:00<?, ?it/s]"
     ]
    },
    {
     "name": "stdout",
     "output_type": "stream",
     "text": [
      "Step: 1, Train Loss Now: 0.6295363306999207\n"
     ]
    },
    {
     "name": "stderr",
     "output_type": "stream",
     "text": [
      " 30%|███       | 3/10 [00:00<00:00, 27.02it/s]"
     ]
    },
    {
     "name": "stdout",
     "output_type": "stream",
     "text": [
      "Step: 2, Train Loss Now: 0.5477176308631897\n",
      "Step: 3, Train Loss Now: 0.5141532818476359\n",
      "Step: 4, Train Loss Now: 0.5093464106321335\n",
      "Step: 5, Train Loss Now: 0.5114554047584534\n"
     ]
    },
    {
     "name": "stderr",
     "output_type": "stream",
     "text": [
      " 60%|██████    | 6/10 [00:00<00:00, 22.43it/s]"
     ]
    },
    {
     "name": "stdout",
     "output_type": "stream",
     "text": [
      "Step: 6, Train Loss Now: 0.48714513083299\n",
      "Step: 7, Train Loss Now: 0.4803324597222464\n",
      "Step: 8, Train Loss Now: 0.4941883459687233\n",
      "Step: 9, Train Loss Now: 0.5087067153718736\n"
     ]
    },
    {
     "name": "stderr",
     "output_type": "stream",
     "text": [
      "100%|██████████| 10/10 [00:00<00:00, 26.69it/s]\n"
     ]
    },
    {
     "name": "stdout",
     "output_type": "stream",
     "text": [
      "Step: 10, Train Loss Now: 0.48148431032896044\n"
     ]
    },
    {
     "name": "stderr",
     "output_type": "stream",
     "text": [
      "100%|██████████| 2/2 [00:00<00:00, 64.03it/s]\n",
      "  0%|          | 0/10 [00:00<?, ?it/s]"
     ]
    },
    {
     "name": "stdout",
     "output_type": "stream",
     "text": [
      "Step: 1, Train Loss Now: 0.6189946532249451\n",
      "Step: 2, Train Loss Now: 0.5621674060821533\n"
     ]
    },
    {
     "name": "stderr",
     "output_type": "stream",
     "text": [
      " 30%|███       | 3/10 [00:00<00:00, 29.13it/s]"
     ]
    },
    {
     "name": "stdout",
     "output_type": "stream",
     "text": [
      "Step: 3, Train Loss Now: 0.5532769560813904\n",
      "Step: 4, Train Loss Now: 0.4826791509985924\n",
      "Step: 5, Train Loss Now: 0.5145286977291107\n",
      "Step: 6, Train Loss Now: 0.48323685427506763\n"
     ]
    },
    {
     "name": "stderr",
     "output_type": "stream",
     "text": [
      " 70%|███████   | 7/10 [00:00<00:00, 30.09it/s]"
     ]
    },
    {
     "name": "stdout",
     "output_type": "stream",
     "text": [
      "Step: 7, Train Loss Now: 0.47259102548871723\n",
      "Step: 8, Train Loss Now: 0.46574634313583374\n"
     ]
    },
    {
     "name": "stderr",
     "output_type": "stream",
     "text": [
      "100%|██████████| 10/10 [00:00<00:00, 30.38it/s]\n"
     ]
    },
    {
     "name": "stdout",
     "output_type": "stream",
     "text": [
      "Step: 9, Train Loss Now: 0.46284671624501544\n",
      "Step: 10, Train Loss Now: 0.45140829086303713\n"
     ]
    },
    {
     "name": "stderr",
     "output_type": "stream",
     "text": [
      "100%|██████████| 2/2 [00:00<00:00, 74.38it/s]\n",
      "  0%|          | 0/10 [00:00<?, ?it/s]"
     ]
    },
    {
     "name": "stdout",
     "output_type": "stream",
     "text": [
      "Step: 1, Train Loss Now: 0.362968772649765\n",
      "Step: 2, Train Loss Now: 0.4514654725790024\n"
     ]
    },
    {
     "name": "stderr",
     "output_type": "stream",
     "text": [
      " 30%|███       | 3/10 [00:00<00:00, 29.41it/s]"
     ]
    },
    {
     "name": "stdout",
     "output_type": "stream",
     "text": [
      "Step: 3, Train Loss Now: 0.43186182777086896\n",
      "Step: 4, Train Loss Now: 0.43844135850667953\n"
     ]
    },
    {
     "name": "stderr",
     "output_type": "stream",
     "text": [
      " 60%|██████    | 6/10 [00:00<00:00, 27.56it/s]"
     ]
    },
    {
     "name": "stdout",
     "output_type": "stream",
     "text": [
      "Step: 5, Train Loss Now: 0.4399615883827209\n",
      "Step: 6, Train Loss Now: 0.405493160088857\n",
      "Step: 7, Train Loss Now: 0.43329244000571115\n",
      "Step: 8, Train Loss Now: 0.4837266132235527\n"
     ]
    },
    {
     "name": "stderr",
     "output_type": "stream",
     "text": [
      "100%|██████████| 10/10 [00:00<00:00, 27.63it/s]"
     ]
    },
    {
     "name": "stdout",
     "output_type": "stream",
     "text": [
      "Step: 9, Train Loss Now: 0.5049708551830716\n",
      "Step: 10, Train Loss Now: 0.49352931380271914\n"
     ]
    },
    {
     "name": "stderr",
     "output_type": "stream",
     "text": [
      "\n",
      "100%|██████████| 2/2 [00:00<00:00, 29.15it/s]\n",
      "  0%|          | 0/10 [00:00<?, ?it/s]"
     ]
    },
    {
     "name": "stdout",
     "output_type": "stream",
     "text": [
      "Step: 1, Train Loss Now: 0.5654889941215515\n",
      "Step: 2, Train Loss Now: 0.48801150918006897\n"
     ]
    },
    {
     "name": "stderr",
     "output_type": "stream",
     "text": [
      " 60%|██████    | 6/10 [00:00<00:00, 26.96it/s]"
     ]
    },
    {
     "name": "stdout",
     "output_type": "stream",
     "text": [
      "Step: 3, Train Loss Now: 0.43612422545750934\n",
      "Step: 4, Train Loss Now: 0.4602184146642685\n",
      "Step: 5, Train Loss Now: 0.48161332607269286\n",
      "Step: 6, Train Loss Now: 0.4996529817581177\n",
      "Step: 7, Train Loss Now: 0.48655262163707186\n",
      "Step: 8, Train Loss Now: 0.4995052069425583\n"
     ]
    },
    {
     "name": "stderr",
     "output_type": "stream",
     "text": [
      "100%|██████████| 10/10 [00:00<00:00, 28.85it/s]\n"
     ]
    },
    {
     "name": "stdout",
     "output_type": "stream",
     "text": [
      "Step: 9, Train Loss Now: 0.4974915815724267\n",
      "Step: 10, Train Loss Now: 0.4774624973535538\n"
     ]
    },
    {
     "name": "stderr",
     "output_type": "stream",
     "text": [
      "100%|██████████| 2/2 [00:00<00:00, 82.09it/s]\n",
      "  0%|          | 0/10 [00:00<?, ?it/s]"
     ]
    },
    {
     "name": "stdout",
     "output_type": "stream",
     "text": [
      "Step: 1, Train Loss Now: 0.4301898181438446\n"
     ]
    },
    {
     "name": "stderr",
     "output_type": "stream",
     "text": [
      " 20%|██        | 2/10 [00:00<00:00, 15.45it/s]"
     ]
    },
    {
     "name": "stdout",
     "output_type": "stream",
     "text": [
      "Step: 2, Train Loss Now: 0.38723263144493103\n",
      "Step: 3, Train Loss Now: 0.44851475954055786\n"
     ]
    },
    {
     "name": "stderr",
     "output_type": "stream",
     "text": [
      " 50%|█████     | 5/10 [00:00<00:00, 22.32it/s]"
     ]
    },
    {
     "name": "stdout",
     "output_type": "stream",
     "text": [
      "Step: 4, Train Loss Now: 0.456114687025547\n",
      "Step: 5, Train Loss Now: 0.4696363747119904\n",
      "Step: 6, Train Loss Now: 0.4774913340806961\n",
      "Step: 7, Train Loss Now: 0.4565646435533251\n"
     ]
    },
    {
     "name": "stderr",
     "output_type": "stream",
     "text": [
      "100%|██████████| 10/10 [00:00<00:00, 25.67it/s]"
     ]
    },
    {
     "name": "stdout",
     "output_type": "stream",
     "text": [
      "Step: 8, Train Loss Now: 0.4432063102722168\n",
      "Step: 9, Train Loss Now: 0.4391377303335402\n",
      "Step: 10, Train Loss Now: 0.45716028809547427\n"
     ]
    },
    {
     "name": "stderr",
     "output_type": "stream",
     "text": [
      "\n",
      "100%|██████████| 2/2 [00:00<00:00, 76.23it/s]\n",
      "  0%|          | 0/10 [00:00<?, ?it/s]"
     ]
    },
    {
     "name": "stdout",
     "output_type": "stream",
     "text": [
      "Step: 1, Train Loss Now: 0.4458458423614502\n",
      "Step: 2, Train Loss Now: 0.4243135005235672\n"
     ]
    },
    {
     "name": "stderr",
     "output_type": "stream",
     "text": [
      " 60%|██████    | 6/10 [00:00<00:00, 26.20it/s]"
     ]
    },
    {
     "name": "stdout",
     "output_type": "stream",
     "text": [
      "Step: 3, Train Loss Now: 0.44589026769002277\n",
      "Step: 4, Train Loss Now: 0.4627416282892227\n",
      "Step: 5, Train Loss Now: 0.4829520583152771\n",
      "Step: 6, Train Loss Now: 0.4764835884173711\n",
      "Step: 7, Train Loss Now: 0.4780030676296779\n",
      "Step: 8, Train Loss Now: 0.4698028042912483\n"
     ]
    },
    {
     "name": "stderr",
     "output_type": "stream",
     "text": [
      "100%|██████████| 10/10 [00:00<00:00, 24.57it/s]\n"
     ]
    },
    {
     "name": "stdout",
     "output_type": "stream",
     "text": [
      "Step: 9, Train Loss Now: 0.46615470780266655\n",
      "Step: 10, Train Loss Now: 0.4563341289758682\n"
     ]
    },
    {
     "name": "stderr",
     "output_type": "stream",
     "text": [
      "100%|██████████| 2/2 [00:00<00:00, 86.66it/s]\n",
      "  0%|          | 0/10 [00:00<?, ?it/s]"
     ]
    },
    {
     "name": "stdout",
     "output_type": "stream",
     "text": [
      "Step: 1, Train Loss Now: 0.389737069606781\n",
      "Step: 2, Train Loss Now: 0.4606190025806427\n"
     ]
    },
    {
     "name": "stderr",
     "output_type": "stream",
     "text": [
      " 40%|████      | 4/10 [00:00<00:00, 30.23it/s]"
     ]
    },
    {
     "name": "stdout",
     "output_type": "stream",
     "text": [
      "Step: 3, Train Loss Now: 0.502582331498464\n",
      "Step: 4, Train Loss Now: 0.4652548208832741\n",
      "Step: 5, Train Loss Now: 0.4582176864147186\n",
      "Step: 6, Train Loss Now: 0.4173433184623718\n",
      "Step: 7, Train Loss Now: 0.44797636781420025\n"
     ]
    },
    {
     "name": "stderr",
     "output_type": "stream",
     "text": [
      " 80%|████████  | 8/10 [00:00<00:00, 30.84it/s]"
     ]
    },
    {
     "name": "stdout",
     "output_type": "stream",
     "text": [
      "Step: 8, Train Loss Now: 0.44409963488578796\n",
      "Step: 9, Train Loss Now: 0.44362948338190716\n"
     ]
    },
    {
     "name": "stderr",
     "output_type": "stream",
     "text": [
      "100%|██████████| 10/10 [00:00<00:00, 31.36it/s]\n"
     ]
    },
    {
     "name": "stdout",
     "output_type": "stream",
     "text": [
      "Step: 10, Train Loss Now: 0.451362144947052\n"
     ]
    },
    {
     "name": "stderr",
     "output_type": "stream",
     "text": [
      "100%|██████████| 2/2 [00:00<00:00, 89.00it/s]\n",
      " 20%|██        | 2/10 [00:00<00:00, 18.69it/s]"
     ]
    },
    {
     "name": "stdout",
     "output_type": "stream",
     "text": [
      "Step: 1, Train Loss Now: 0.6840628385543823\n",
      "Step: 2, Train Loss Now: 0.5332373082637787\n",
      "Step: 3, Train Loss Now: 0.5242587725321451\n"
     ]
    },
    {
     "name": "stderr",
     "output_type": "stream",
     "text": [
      " 50%|█████     | 5/10 [00:00<00:00, 23.15it/s]"
     ]
    },
    {
     "name": "stdout",
     "output_type": "stream",
     "text": [
      "Step: 4, Train Loss Now: 0.4947376772761345\n",
      "Step: 5, Train Loss Now: 0.47039792537689207\n"
     ]
    },
    {
     "name": "stderr",
     "output_type": "stream",
     "text": [
      " 80%|████████  | 8/10 [00:00<00:00, 25.60it/s]"
     ]
    },
    {
     "name": "stdout",
     "output_type": "stream",
     "text": [
      "Step: 6, Train Loss Now: 0.4725375125805537\n",
      "Step: 7, Train Loss Now: 0.45566460490226746\n",
      "Step: 8, Train Loss Now: 0.45516877621412277\n",
      "Step: 9, Train Loss Now: 0.4487552013662126\n",
      "Step: 10, Train Loss Now: 0.4551874190568924\n"
     ]
    },
    {
     "name": "stderr",
     "output_type": "stream",
     "text": [
      "100%|██████████| 10/10 [00:00<00:00, 25.92it/s]\n",
      "100%|██████████| 2/2 [00:00<00:00, 74.70it/s]\n",
      "  0%|          | 0/10 [00:00<?, ?it/s]"
     ]
    },
    {
     "name": "stdout",
     "output_type": "stream",
     "text": [
      "Step: 1, Train Loss Now: 0.51092129945755\n"
     ]
    },
    {
     "name": "stderr",
     "output_type": "stream",
     "text": [
      " 30%|███       | 3/10 [00:00<00:00, 28.17it/s]"
     ]
    },
    {
     "name": "stdout",
     "output_type": "stream",
     "text": [
      "Step: 2, Train Loss Now: 0.4348171800374985\n",
      "Step: 3, Train Loss Now: 0.4983501136302948\n",
      "Step: 4, Train Loss Now: 0.46163439005613327\n",
      "Step: 5, Train Loss Now: 0.46718606948852537\n",
      "Step: 6, Train Loss Now: 0.4701779633760452\n"
     ]
    },
    {
     "name": "stderr",
     "output_type": "stream",
     "text": [
      " 70%|███████   | 7/10 [00:00<00:00, 30.43it/s]"
     ]
    },
    {
     "name": "stdout",
     "output_type": "stream",
     "text": [
      "Step: 7, Train Loss Now: 0.45344871282577515\n"
     ]
    },
    {
     "name": "stderr",
     "output_type": "stream",
     "text": [
      "100%|██████████| 10/10 [00:00<00:00, 26.78it/s]\n"
     ]
    },
    {
     "name": "stdout",
     "output_type": "stream",
     "text": [
      "Step: 8, Train Loss Now: 0.468537412583828\n",
      "Step: 9, Train Loss Now: 0.494219614399804\n",
      "Step: 10, Train Loss Now: 0.484908127784729\n"
     ]
    },
    {
     "name": "stderr",
     "output_type": "stream",
     "text": [
      "100%|██████████| 2/2 [00:00<00:00, 75.58it/s]\n",
      "  0%|          | 0/10 [00:00<?, ?it/s]"
     ]
    },
    {
     "name": "stdout",
     "output_type": "stream",
     "text": [
      "Step: 1, Train Loss Now: 0.6213061809539795\n",
      "Step: 2, Train Loss Now: 0.5231481045484543\n"
     ]
    },
    {
     "name": "stderr",
     "output_type": "stream",
     "text": [
      " 40%|████      | 4/10 [00:00<00:00, 30.85it/s]"
     ]
    },
    {
     "name": "stdout",
     "output_type": "stream",
     "text": [
      "Step: 3, Train Loss Now: 0.47110044956207275\n",
      "Step: 4, Train Loss Now: 0.4501800239086151\n",
      "Step: 5, Train Loss Now: 0.4390519499778748\n",
      "Step: 6, Train Loss Now: 0.4367998590071996\n",
      "Step: 7, Train Loss Now: 0.45606599961008343\n"
     ]
    },
    {
     "name": "stderr",
     "output_type": "stream",
     "text": [
      " 80%|████████  | 8/10 [00:00<00:00, 31.38it/s]"
     ]
    },
    {
     "name": "stdout",
     "output_type": "stream",
     "text": [
      "Step: 8, Train Loss Now: 0.44555873796343803\n",
      "Step: 9, Train Loss Now: 0.4423687292469872\n"
     ]
    },
    {
     "name": "stderr",
     "output_type": "stream",
     "text": [
      "100%|██████████| 10/10 [00:00<00:00, 29.96it/s]\n"
     ]
    },
    {
     "name": "stdout",
     "output_type": "stream",
     "text": [
      "Step: 10, Train Loss Now: 0.4529510349035263\n"
     ]
    },
    {
     "name": "stderr",
     "output_type": "stream",
     "text": [
      "100%|██████████| 2/2 [00:00<00:00, 71.09it/s]\n",
      "  0%|          | 0/10 [00:00<?, ?it/s]"
     ]
    },
    {
     "name": "stdout",
     "output_type": "stream",
     "text": [
      "Step: 1, Train Loss Now: 0.3812294602394104\n",
      "Step: 2, Train Loss Now: 0.37126532196998596\n"
     ]
    },
    {
     "name": "stderr",
     "output_type": "stream",
     "text": [
      " 30%|███       | 3/10 [00:00<00:00, 28.06it/s]"
     ]
    },
    {
     "name": "stdout",
     "output_type": "stream",
     "text": [
      "Step: 3, Train Loss Now: 0.41085217396418255\n",
      "Step: 4, Train Loss Now: 0.3972556069493294\n"
     ]
    },
    {
     "name": "stderr",
     "output_type": "stream",
     "text": [
      " 60%|██████    | 6/10 [00:00<00:00, 25.59it/s]"
     ]
    },
    {
     "name": "stdout",
     "output_type": "stream",
     "text": [
      "Step: 5, Train Loss Now: 0.4077151119709015\n",
      "Step: 6, Train Loss Now: 0.41513921817143756\n",
      "Step: 7, Train Loss Now: 0.43580351557050434\n"
     ]
    },
    {
     "name": "stderr",
     "output_type": "stream",
     "text": [
      "100%|██████████| 10/10 [00:00<00:00, 27.95it/s]\n"
     ]
    },
    {
     "name": "stdout",
     "output_type": "stream",
     "text": [
      "Step: 8, Train Loss Now: 0.44234297424554825\n",
      "Step: 9, Train Loss Now: 0.4607767131593492\n",
      "Step: 10, Train Loss Now: 0.4511706709861755\n"
     ]
    },
    {
     "name": "stderr",
     "output_type": "stream",
     "text": [
      "100%|██████████| 2/2 [00:00<00:00, 87.19it/s]\n",
      "  0%|          | 0/10 [00:00<?, ?it/s]"
     ]
    },
    {
     "name": "stdout",
     "output_type": "stream",
     "text": [
      "Step: 1, Train Loss Now: 0.44074615836143494\n",
      "Step: 2, Train Loss Now: 0.4465138763189316\n",
      "Step: 3, Train Loss Now: 0.43203789989153546\n"
     ]
    },
    {
     "name": "stderr",
     "output_type": "stream",
     "text": [
      " 40%|████      | 4/10 [00:00<00:00, 30.52it/s]"
     ]
    },
    {
     "name": "stdout",
     "output_type": "stream",
     "text": [
      "Step: 4, Train Loss Now: 0.41518042981624603\n",
      "Step: 5, Train Loss Now: 0.43171101808547974\n"
     ]
    },
    {
     "name": "stderr",
     "output_type": "stream",
     "text": [
      " 80%|████████  | 8/10 [00:00<00:00, 24.70it/s]"
     ]
    },
    {
     "name": "stdout",
     "output_type": "stream",
     "text": [
      "Step: 6, Train Loss Now: 0.4371643165747325\n",
      "Step: 7, Train Loss Now: 0.4527252997670855\n",
      "Step: 8, Train Loss Now: 0.4761507362127304\n"
     ]
    },
    {
     "name": "stderr",
     "output_type": "stream",
     "text": [
      "100%|██████████| 10/10 [00:00<00:00, 26.64it/s]\n"
     ]
    },
    {
     "name": "stdout",
     "output_type": "stream",
     "text": [
      "Step: 9, Train Loss Now: 0.4844977193408542\n",
      "Step: 10, Train Loss Now: 0.4711500108242035\n"
     ]
    },
    {
     "name": "stderr",
     "output_type": "stream",
     "text": [
      "100%|██████████| 2/2 [00:00<00:00, 74.11it/s]\n",
      "  0%|          | 0/10 [00:00<?, ?it/s]"
     ]
    },
    {
     "name": "stdout",
     "output_type": "stream",
     "text": [
      "Step: 1, Train Loss Now: 0.6259507536888123\n",
      "Step: 2, Train Loss Now: 0.5920533537864685\n",
      "Step: 3, Train Loss Now: 0.5200084348519644\n"
     ]
    },
    {
     "name": "stderr",
     "output_type": "stream",
     "text": [
      " 40%|████      | 4/10 [00:00<00:00, 30.12it/s]"
     ]
    },
    {
     "name": "stdout",
     "output_type": "stream",
     "text": [
      "Step: 4, Train Loss Now: 0.5351632609963417\n",
      "Step: 5, Train Loss Now: 0.49034398794174194\n",
      "Step: 6, Train Loss Now: 0.4900357971588771\n",
      "Step: 7, Train Loss Now: 0.48235461115837097\n"
     ]
    },
    {
     "name": "stderr",
     "output_type": "stream",
     "text": [
      " 80%|████████  | 8/10 [00:00<00:00, 28.42it/s]"
     ]
    },
    {
     "name": "stdout",
     "output_type": "stream",
     "text": [
      "Step: 8, Train Loss Now: 0.4997921399772167\n"
     ]
    },
    {
     "name": "stderr",
     "output_type": "stream",
     "text": [
      "100%|██████████| 10/10 [00:00<00:00, 25.51it/s]\n"
     ]
    },
    {
     "name": "stdout",
     "output_type": "stream",
     "text": [
      "Step: 9, Train Loss Now: 0.4902101688914829\n",
      "Step: 10, Train Loss Now: 0.4817998319864273\n"
     ]
    },
    {
     "name": "stderr",
     "output_type": "stream",
     "text": [
      "100%|██████████| 2/2 [00:00<00:00, 89.92it/s]\n",
      "  0%|          | 0/10 [00:00<?, ?it/s]"
     ]
    },
    {
     "name": "stdout",
     "output_type": "stream",
     "text": [
      "Step: 1, Train Loss Now: 0.40520480275154114\n"
     ]
    },
    {
     "name": "stderr",
     "output_type": "stream",
     "text": [
      " 30%|███       | 3/10 [00:00<00:00, 25.71it/s]"
     ]
    },
    {
     "name": "stdout",
     "output_type": "stream",
     "text": [
      "Step: 2, Train Loss Now: 0.44182054698467255\n",
      "Step: 3, Train Loss Now: 0.4335849682490031\n",
      "Step: 4, Train Loss Now: 0.4614967405796051\n"
     ]
    },
    {
     "name": "stderr",
     "output_type": "stream",
     "text": [
      " 60%|██████    | 6/10 [00:00<00:00, 28.05it/s]"
     ]
    },
    {
     "name": "stdout",
     "output_type": "stream",
     "text": [
      "Step: 5, Train Loss Now: 0.4621794641017914\n",
      "Step: 6, Train Loss Now: 0.4676709771156311\n",
      "Step: 7, Train Loss Now: 0.48511949607304167\n"
     ]
    },
    {
     "name": "stderr",
     "output_type": "stream",
     "text": [
      "100%|██████████| 10/10 [00:00<00:00, 29.57it/s]\n"
     ]
    },
    {
     "name": "stdout",
     "output_type": "stream",
     "text": [
      "Step: 8, Train Loss Now: 0.49224235862493515\n",
      "Step: 9, Train Loss Now: 0.49789783027436996\n",
      "Step: 10, Train Loss Now: 0.4855169475078583\n"
     ]
    },
    {
     "name": "stderr",
     "output_type": "stream",
     "text": [
      "100%|██████████| 2/2 [00:00<00:00, 69.42it/s]\n",
      "  0%|          | 0/10 [00:00<?, ?it/s]"
     ]
    },
    {
     "name": "stdout",
     "output_type": "stream",
     "text": [
      "Step: 1, Train Loss Now: 0.5664175152778625\n",
      "Step: 2, Train Loss Now: 0.5083674341440201\n",
      "Step: 3, Train Loss Now: 0.47323016325632733\n"
     ]
    },
    {
     "name": "stderr",
     "output_type": "stream",
     "text": [
      " 40%|████      | 4/10 [00:00<00:00, 32.50it/s]"
     ]
    },
    {
     "name": "stdout",
     "output_type": "stream",
     "text": [
      "Step: 4, Train Loss Now: 0.46952612698078156\n",
      "Step: 5, Train Loss Now: 0.48703826665878297\n",
      "Step: 6, Train Loss Now: 0.49489081899325055\n",
      "Step: 7, Train Loss Now: 0.5280025941984994\n"
     ]
    },
    {
     "name": "stderr",
     "output_type": "stream",
     "text": [
      "100%|██████████| 10/10 [00:00<00:00, 30.60it/s]"
     ]
    },
    {
     "name": "stdout",
     "output_type": "stream",
     "text": [
      "Step: 8, Train Loss Now: 0.5065600797533989\n",
      "Step: 9, Train Loss Now: 0.493565344148212\n",
      "Step: 10, Train Loss Now: 0.5103213399648666\n"
     ]
    },
    {
     "name": "stderr",
     "output_type": "stream",
     "text": [
      "\n",
      "100%|██████████| 2/2 [00:00<00:00, 78.18it/s]\n",
      "  0%|          | 0/10 [00:00<?, ?it/s]"
     ]
    },
    {
     "name": "stdout",
     "output_type": "stream",
     "text": [
      "Step: 1, Train Loss Now: 0.4294602870941162\n"
     ]
    },
    {
     "name": "stderr",
     "output_type": "stream",
     "text": [
      " 20%|██        | 2/10 [00:00<00:00, 13.27it/s]"
     ]
    },
    {
     "name": "stdout",
     "output_type": "stream",
     "text": [
      "Step: 2, Train Loss Now: 0.4958919882774353\n",
      "Step: 3, Train Loss Now: 0.4680103659629822\n",
      "Step: 4, Train Loss Now: 0.4653855040669441\n",
      "Step: 5, Train Loss Now: 0.46375406384468076\n"
     ]
    },
    {
     "name": "stderr",
     "output_type": "stream",
     "text": [
      " 60%|██████    | 6/10 [00:00<00:00, 21.96it/s]"
     ]
    },
    {
     "name": "stdout",
     "output_type": "stream",
     "text": [
      "Step: 6, Train Loss Now: 0.45261625945568085\n",
      "Step: 7, Train Loss Now: 0.4800569031919752\n"
     ]
    },
    {
     "name": "stderr",
     "output_type": "stream",
     "text": [
      "100%|██████████| 10/10 [00:00<00:00, 23.55it/s]\n"
     ]
    },
    {
     "name": "stdout",
     "output_type": "stream",
     "text": [
      "Step: 8, Train Loss Now: 0.47650957480072975\n",
      "Step: 9, Train Loss Now: 0.48860613836182487\n",
      "Step: 10, Train Loss Now: 0.48651002049446107\n"
     ]
    },
    {
     "name": "stderr",
     "output_type": "stream",
     "text": [
      "100%|██████████| 2/2 [00:00<00:00, 73.35it/s]\n",
      "  0%|          | 0/10 [00:00<?, ?it/s]"
     ]
    },
    {
     "name": "stdout",
     "output_type": "stream",
     "text": [
      "Step: 1, Train Loss Now: 0.3350047469139099\n"
     ]
    },
    {
     "name": "stderr",
     "output_type": "stream",
     "text": [
      " 30%|███       | 3/10 [00:00<00:00, 29.46it/s]"
     ]
    },
    {
     "name": "stdout",
     "output_type": "stream",
     "text": [
      "Step: 2, Train Loss Now: 0.3599340170621872\n",
      "Step: 3, Train Loss Now: 0.3692249059677124\n"
     ]
    },
    {
     "name": "stderr",
     "output_type": "stream",
     "text": [
      " 60%|██████    | 6/10 [00:00<00:00, 28.91it/s]"
     ]
    },
    {
     "name": "stdout",
     "output_type": "stream",
     "text": [
      "Step: 4, Train Loss Now: 0.45818185806274414\n",
      "Step: 5, Train Loss Now: 0.48091607093811034\n",
      "Step: 6, Train Loss Now: 0.43965106705824536\n",
      "Step: 7, Train Loss Now: 0.4265312935624804\n"
     ]
    },
    {
     "name": "stderr",
     "output_type": "stream",
     "text": [
      " 90%|█████████ | 9/10 [00:00<00:00, 29.00it/s]"
     ]
    },
    {
     "name": "stdout",
     "output_type": "stream",
     "text": [
      "Step: 8, Train Loss Now: 0.44268375262618065\n",
      "Step: 9, Train Loss Now: 0.4590823882155948\n"
     ]
    },
    {
     "name": "stderr",
     "output_type": "stream",
     "text": [
      "100%|██████████| 10/10 [00:00<00:00, 29.07it/s]\n"
     ]
    },
    {
     "name": "stdout",
     "output_type": "stream",
     "text": [
      "Step: 10, Train Loss Now: 0.45120478272438047\n"
     ]
    },
    {
     "name": "stderr",
     "output_type": "stream",
     "text": [
      "100%|██████████| 2/2 [00:00<00:00, 94.72it/s]\n",
      "  0%|          | 0/10 [00:00<?, ?it/s]"
     ]
    },
    {
     "name": "stdout",
     "output_type": "stream",
     "text": [
      "Step: 1, Train Loss Now: 0.5440590381622314\n"
     ]
    },
    {
     "name": "stderr",
     "output_type": "stream",
     "text": [
      " 20%|██        | 2/10 [00:00<00:00, 14.96it/s]"
     ]
    },
    {
     "name": "stdout",
     "output_type": "stream",
     "text": [
      "Step: 2, Train Loss Now: 0.5137625485658646\n"
     ]
    },
    {
     "name": "stderr",
     "output_type": "stream",
     "text": [
      " 50%|█████     | 5/10 [00:00<00:00, 22.63it/s]"
     ]
    },
    {
     "name": "stdout",
     "output_type": "stream",
     "text": [
      "Step: 3, Train Loss Now: 0.5456684331099192\n",
      "Step: 4, Train Loss Now: 0.5323796719312668\n",
      "Step: 5, Train Loss Now: 0.49566333293914794\n",
      "Step: 6, Train Loss Now: 0.5157942672570547\n",
      "Step: 7, Train Loss Now: 0.5494038122040885\n"
     ]
    },
    {
     "name": "stderr",
     "output_type": "stream",
     "text": [
      " 80%|████████  | 8/10 [00:00<00:00, 23.95it/s]"
     ]
    },
    {
     "name": "stdout",
     "output_type": "stream",
     "text": [
      "Step: 8, Train Loss Now: 0.5153549537062645\n"
     ]
    },
    {
     "name": "stderr",
     "output_type": "stream",
     "text": [
      "100%|██████████| 10/10 [00:00<00:00, 24.10it/s]\n"
     ]
    },
    {
     "name": "stdout",
     "output_type": "stream",
     "text": [
      "Step: 9, Train Loss Now: 0.5064820713467069\n",
      "Step: 10, Train Loss Now: 0.49306398928165435\n"
     ]
    },
    {
     "name": "stderr",
     "output_type": "stream",
     "text": [
      "100%|██████████| 2/2 [00:00<00:00, 87.42it/s]\n",
      "  0%|          | 0/10 [00:00<?, ?it/s]"
     ]
    },
    {
     "name": "stdout",
     "output_type": "stream",
     "text": [
      "Step: 1, Train Loss Now: 0.7668184638023376\n",
      "Step: 2, Train Loss Now: 0.6432481110095978\n"
     ]
    },
    {
     "name": "stderr",
     "output_type": "stream",
     "text": [
      " 30%|███       | 3/10 [00:00<00:00, 27.83it/s]"
     ]
    },
    {
     "name": "stdout",
     "output_type": "stream",
     "text": [
      "Step: 3, Train Loss Now: 0.5548933347066244\n"
     ]
    },
    {
     "name": "stderr",
     "output_type": "stream",
     "text": [
      " 60%|██████    | 6/10 [00:00<00:00, 27.68it/s]"
     ]
    },
    {
     "name": "stdout",
     "output_type": "stream",
     "text": [
      "Step: 4, Train Loss Now: 0.4758533053100109\n",
      "Step: 5, Train Loss Now: 0.4927656501531601\n",
      "Step: 6, Train Loss Now: 0.49736228336890537\n",
      "Step: 7, Train Loss Now: 0.47661823672907694\n",
      "Step: 8, Train Loss Now: 0.49146110378205776\n"
     ]
    },
    {
     "name": "stderr",
     "output_type": "stream",
     "text": [
      " 90%|█████████ | 9/10 [00:00<00:00, 26.77it/s]"
     ]
    },
    {
     "name": "stdout",
     "output_type": "stream",
     "text": [
      "Step: 9, Train Loss Now: 0.46759437024593353\n"
     ]
    },
    {
     "name": "stderr",
     "output_type": "stream",
     "text": [
      "100%|██████████| 10/10 [00:00<00:00, 28.32it/s]\n"
     ]
    },
    {
     "name": "stdout",
     "output_type": "stream",
     "text": [
      "Step: 10, Train Loss Now: 0.47473455518484114\n"
     ]
    },
    {
     "name": "stderr",
     "output_type": "stream",
     "text": [
      "100%|██████████| 2/2 [00:00<00:00, 56.36it/s]\n",
      "  0%|          | 0/10 [00:00<?, ?it/s]"
     ]
    },
    {
     "name": "stdout",
     "output_type": "stream",
     "text": [
      "Step: 1, Train Loss Now: 0.5091533064842224\n"
     ]
    },
    {
     "name": "stderr",
     "output_type": "stream",
     "text": [
      " 30%|███       | 3/10 [00:00<00:00, 29.26it/s]"
     ]
    },
    {
     "name": "stdout",
     "output_type": "stream",
     "text": [
      "Step: 2, Train Loss Now: 0.5352458357810974\n",
      "Step: 3, Train Loss Now: 0.45728494723637897\n",
      "Step: 4, Train Loss Now: 0.47444599866867065\n",
      "Step: 5, Train Loss Now: 0.5043136954307557\n"
     ]
    },
    {
     "name": "stderr",
     "output_type": "stream",
     "text": [
      " 60%|██████    | 6/10 [00:00<00:00, 22.57it/s]"
     ]
    },
    {
     "name": "stdout",
     "output_type": "stream",
     "text": [
      "Step: 6, Train Loss Now: 0.5146383245786031\n"
     ]
    },
    {
     "name": "stderr",
     "output_type": "stream",
     "text": [
      " 90%|█████████ | 9/10 [00:00<00:00, 24.39it/s]"
     ]
    },
    {
     "name": "stdout",
     "output_type": "stream",
     "text": [
      "Step: 7, Train Loss Now: 0.5267121280942645\n",
      "Step: 8, Train Loss Now: 0.5239154547452927\n",
      "Step: 9, Train Loss Now: 0.5127043525377909\n"
     ]
    },
    {
     "name": "stderr",
     "output_type": "stream",
     "text": [
      "100%|██████████| 10/10 [00:00<00:00, 25.13it/s]\n"
     ]
    },
    {
     "name": "stdout",
     "output_type": "stream",
     "text": [
      "Step: 10, Train Loss Now: 0.5065060824155807\n"
     ]
    },
    {
     "name": "stderr",
     "output_type": "stream",
     "text": [
      "100%|██████████| 2/2 [00:00<00:00, 53.24it/s]\n",
      " 30%|███       | 3/10 [00:00<00:00, 23.27it/s]"
     ]
    },
    {
     "name": "stdout",
     "output_type": "stream",
     "text": [
      "Step: 1, Train Loss Now: 0.792588472366333\n",
      "Step: 2, Train Loss Now: 0.6247835755348206\n",
      "Step: 3, Train Loss Now: 0.5271698832511902\n",
      "Step: 4, Train Loss Now: 0.5474111139774323\n",
      "Step: 5, Train Loss Now: 0.5262444734573364\n",
      "Step: 6, Train Loss Now: 0.4960032602151235\n"
     ]
    },
    {
     "name": "stderr",
     "output_type": "stream",
     "text": [
      "100%|██████████| 10/10 [00:00<00:00, 28.91it/s]\n"
     ]
    },
    {
     "name": "stdout",
     "output_type": "stream",
     "text": [
      "Step: 7, Train Loss Now: 0.5054773347718375\n",
      "Step: 8, Train Loss Now: 0.5242623686790466\n",
      "Step: 9, Train Loss Now: 0.5164782769150205\n",
      "Step: 10, Train Loss Now: 0.4864324852824211\n"
     ]
    },
    {
     "name": "stderr",
     "output_type": "stream",
     "text": [
      "100%|██████████| 2/2 [00:00<00:00, 77.88it/s]\n",
      "  0%|          | 0/10 [00:00<?, ?it/s]"
     ]
    },
    {
     "name": "stdout",
     "output_type": "stream",
     "text": [
      "Step: 1, Train Loss Now: 0.44559696316719055\n",
      "Step: 2, Train Loss Now: 0.5096822828054428\n"
     ]
    },
    {
     "name": "stderr",
     "output_type": "stream",
     "text": [
      " 40%|████      | 4/10 [00:00<00:00, 30.47it/s]"
     ]
    },
    {
     "name": "stdout",
     "output_type": "stream",
     "text": [
      "Step: 3, Train Loss Now: 0.4248092571894328\n",
      "Step: 4, Train Loss Now: 0.4270288422703743\n",
      "Step: 5, Train Loss Now: 0.4303025722503662\n",
      "Step: 6, Train Loss Now: 0.4008777489264806\n"
     ]
    },
    {
     "name": "stderr",
     "output_type": "stream",
     "text": [
      " 80%|████████  | 8/10 [00:00<00:00, 29.97it/s]"
     ]
    },
    {
     "name": "stdout",
     "output_type": "stream",
     "text": [
      "Step: 7, Train Loss Now: 0.43401286005973816\n",
      "Step: 8, Train Loss Now: 0.4592812843620777\n",
      "Step: 9, Train Loss Now: 0.4663594795597924\n"
     ]
    },
    {
     "name": "stderr",
     "output_type": "stream",
     "text": [
      "100%|██████████| 10/10 [00:00<00:00, 30.09it/s]\n"
     ]
    },
    {
     "name": "stdout",
     "output_type": "stream",
     "text": [
      "Step: 10, Train Loss Now: 0.4472713142633438\n"
     ]
    },
    {
     "name": "stderr",
     "output_type": "stream",
     "text": [
      "100%|██████████| 2/2 [00:00<00:00, 65.64it/s]\n",
      "  0%|          | 0/10 [00:00<?, ?it/s]"
     ]
    },
    {
     "name": "stdout",
     "output_type": "stream",
     "text": [
      "Step: 1, Train Loss Now: 0.6855626106262207\n"
     ]
    },
    {
     "name": "stderr",
     "output_type": "stream",
     "text": [
      " 20%|██        | 2/10 [00:00<00:00, 16.93it/s]"
     ]
    },
    {
     "name": "stdout",
     "output_type": "stream",
     "text": [
      "Step: 2, Train Loss Now: 0.6215192675590515\n",
      "Step: 3, Train Loss Now: 0.5717722574869791\n",
      "Step: 4, Train Loss Now: 0.5386340245604515\n"
     ]
    },
    {
     "name": "stderr",
     "output_type": "stream",
     "text": [
      " 50%|█████     | 5/10 [00:00<00:00, 19.74it/s]"
     ]
    },
    {
     "name": "stdout",
     "output_type": "stream",
     "text": [
      "Step: 5, Train Loss Now: 0.5277604639530182\n",
      "Step: 6, Train Loss Now: 0.5050449122985204\n"
     ]
    },
    {
     "name": "stderr",
     "output_type": "stream",
     "text": [
      " 70%|███████   | 7/10 [00:00<00:00, 19.75it/s]"
     ]
    },
    {
     "name": "stdout",
     "output_type": "stream",
     "text": [
      "Step: 7, Train Loss Now: 0.47492404920714243\n",
      "Step: 8, Train Loss Now: 0.4520081579685211\n",
      "Step: 9, Train Loss Now: 0.48272797134187484\n"
     ]
    },
    {
     "name": "stderr",
     "output_type": "stream",
     "text": [
      "100%|██████████| 10/10 [00:00<00:00, 20.63it/s]\n"
     ]
    },
    {
     "name": "stdout",
     "output_type": "stream",
     "text": [
      "Step: 10, Train Loss Now: 0.4737919956445694\n"
     ]
    },
    {
     "name": "stderr",
     "output_type": "stream",
     "text": [
      "100%|██████████| 2/2 [00:00<00:00, 58.02it/s]\n",
      "  0%|          | 0/10 [00:00<?, ?it/s]"
     ]
    },
    {
     "name": "stdout",
     "output_type": "stream",
     "text": [
      "Step: 1, Train Loss Now: 0.27762871980667114\n"
     ]
    },
    {
     "name": "stderr",
     "output_type": "stream",
     "text": [
      " 30%|███       | 3/10 [00:00<00:00, 27.73it/s]"
     ]
    },
    {
     "name": "stdout",
     "output_type": "stream",
     "text": [
      "Step: 2, Train Loss Now: 0.3581957370042801\n",
      "Step: 3, Train Loss Now: 0.3918523887793223\n",
      "Step: 4, Train Loss Now: 0.40028563886880875"
     ]
    },
    {
     "name": "stderr",
     "output_type": "stream",
     "text": [
      " 60%|██████    | 6/10 [00:00<00:00, 23.83it/s]"
     ]
    },
    {
     "name": "stdout",
     "output_type": "stream",
     "text": [
      "\n",
      "Step: 5, Train Loss Now: 0.4139085054397583\n",
      "Step: 6, Train Loss Now: 0.42833324273427326\n"
     ]
    },
    {
     "name": "stderr",
     "output_type": "stream",
     "text": [
      " 90%|█████████ | 9/10 [00:00<00:00, 25.82it/s]"
     ]
    },
    {
     "name": "stdout",
     "output_type": "stream",
     "text": [
      "Step: 7, Train Loss Now: 0.4261309334209987\n",
      "Step: 8, Train Loss Now: 0.4267192520201206\n",
      "Step: 9, Train Loss Now: 0.4560968776543935\n"
     ]
    },
    {
     "name": "stderr",
     "output_type": "stream",
     "text": [
      "100%|██████████| 10/10 [00:00<00:00, 26.31it/s]\n"
     ]
    },
    {
     "name": "stdout",
     "output_type": "stream",
     "text": [
      "Step: 10, Train Loss Now: 0.47506106793880465\n"
     ]
    },
    {
     "name": "stderr",
     "output_type": "stream",
     "text": [
      "100%|██████████| 2/2 [00:00<00:00, 68.35it/s]\n",
      "  0%|          | 0/10 [00:00<?, ?it/s]"
     ]
    },
    {
     "name": "stdout",
     "output_type": "stream",
     "text": [
      "Step: 1, Train Loss Now: 0.29834648966789246\n"
     ]
    },
    {
     "name": "stderr",
     "output_type": "stream",
     "text": [
      " 30%|███       | 3/10 [00:00<00:00, 28.55it/s]"
     ]
    },
    {
     "name": "stdout",
     "output_type": "stream",
     "text": [
      "Step: 2, Train Loss Now: 0.34895384311676025\n",
      "Step: 3, Train Loss Now: 0.3593995273113251\n"
     ]
    },
    {
     "name": "stderr",
     "output_type": "stream",
     "text": [
      " 60%|██████    | 6/10 [00:00<00:00, 26.17it/s]"
     ]
    },
    {
     "name": "stdout",
     "output_type": "stream",
     "text": [
      "Step: 4, Train Loss Now: 0.34862280637025833\n",
      "Step: 5, Train Loss Now: 0.41975809931755065\n",
      "Step: 6, Train Loss Now: 0.46628352502981824\n",
      "Step: 7, Train Loss Now: 0.47051723514284405\n"
     ]
    },
    {
     "name": "stderr",
     "output_type": "stream",
     "text": [
      " 90%|█████████ | 9/10 [00:00<00:00, 26.02it/s]"
     ]
    },
    {
     "name": "stdout",
     "output_type": "stream",
     "text": [
      "Step: 8, Train Loss Now: 0.4512805864214897\n",
      "Step: 9, Train Loss Now: 0.45027797751956516\n"
     ]
    },
    {
     "name": "stderr",
     "output_type": "stream",
     "text": [
      "100%|██████████| 10/10 [00:00<00:00, 26.42it/s]\n"
     ]
    },
    {
     "name": "stdout",
     "output_type": "stream",
     "text": [
      "Step: 10, Train Loss Now: 0.4382739245891571\n"
     ]
    },
    {
     "name": "stderr",
     "output_type": "stream",
     "text": [
      "100%|██████████| 2/2 [00:00<00:00, 69.79it/s]\n",
      "  0%|          | 0/10 [00:00<?, ?it/s]"
     ]
    },
    {
     "name": "stdout",
     "output_type": "stream",
     "text": [
      "Step: 1, Train Loss Now: 0.42110544443130493\n",
      "Step: 2, Train Loss Now: 0.42027752101421356\n"
     ]
    },
    {
     "name": "stderr",
     "output_type": "stream",
     "text": [
      " 30%|███       | 3/10 [00:00<00:00, 18.28it/s]"
     ]
    },
    {
     "name": "stdout",
     "output_type": "stream",
     "text": [
      "Step: 3, Train Loss Now: 0.4162084261576335\n",
      "Step: 4, Train Loss Now: 0.4836663156747818\n",
      "Step: 5, Train Loss Now: 0.5219983696937561\n"
     ]
    },
    {
     "name": "stderr",
     "output_type": "stream",
     "text": [
      " 60%|██████    | 6/10 [00:00<00:00, 21.32it/s]"
     ]
    },
    {
     "name": "stdout",
     "output_type": "stream",
     "text": [
      "Step: 6, Train Loss Now: 0.5551247994105021\n",
      "Step: 7, Train Loss Now: 0.5273129301411765\n",
      "Step: 8, Train Loss Now: 0.5131132490932941\n"
     ]
    },
    {
     "name": "stderr",
     "output_type": "stream",
     "text": [
      " 90%|█████████ | 9/10 [00:00<00:00, 23.83it/s]"
     ]
    },
    {
     "name": "stdout",
     "output_type": "stream",
     "text": [
      "Step: 9, Train Loss Now: 0.5046345293521881\n"
     ]
    },
    {
     "name": "stderr",
     "output_type": "stream",
     "text": [
      "100%|██████████| 10/10 [00:00<00:00, 23.62it/s]\n"
     ]
    },
    {
     "name": "stdout",
     "output_type": "stream",
     "text": [
      "Step: 10, Train Loss Now: 0.48027223646640776\n"
     ]
    },
    {
     "name": "stderr",
     "output_type": "stream",
     "text": [
      "100%|██████████| 2/2 [00:00<00:00, 74.98it/s]\n",
      "  0%|          | 0/10 [00:00<?, ?it/s]"
     ]
    },
    {
     "name": "stdout",
     "output_type": "stream",
     "text": [
      "Step: 1, Train Loss Now: 0.3442854583263397\n"
     ]
    },
    {
     "name": "stderr",
     "output_type": "stream",
     "text": [
      " 30%|███       | 3/10 [00:00<00:00, 25.04it/s]"
     ]
    },
    {
     "name": "stdout",
     "output_type": "stream",
     "text": [
      "Step: 2, Train Loss Now: 0.39357195794582367\n",
      "Step: 3, Train Loss Now: 0.4203312595685323\n",
      "Step: 4, Train Loss Now: 0.427607998251915\n"
     ]
    },
    {
     "name": "stderr",
     "output_type": "stream",
     "text": [
      " 60%|██████    | 6/10 [00:00<00:00, 26.84it/s]"
     ]
    },
    {
     "name": "stdout",
     "output_type": "stream",
     "text": [
      "Step: 5, Train Loss Now: 0.4233200132846832\n",
      "Step: 6, Train Loss Now: 0.3974273055791855\n",
      "Step: 7, Train Loss Now: 0.4436792177813394\n"
     ]
    },
    {
     "name": "stderr",
     "output_type": "stream",
     "text": [
      " 90%|█████████ | 9/10 [00:00<00:00, 25.05it/s]"
     ]
    },
    {
     "name": "stdout",
     "output_type": "stream",
     "text": [
      "Step: 8, Train Loss Now: 0.4701059125363827\n",
      "Step: 9, Train Loss Now: 0.4718409677346547\n"
     ]
    },
    {
     "name": "stderr",
     "output_type": "stream",
     "text": [
      "100%|██████████| 10/10 [00:00<00:00, 25.82it/s]\n"
     ]
    },
    {
     "name": "stdout",
     "output_type": "stream",
     "text": [
      "Step: 10, Train Loss Now: 0.4480230316519737\n"
     ]
    },
    {
     "name": "stderr",
     "output_type": "stream",
     "text": [
      "100%|██████████| 2/2 [00:00<00:00, 56.89it/s]\n",
      "  0%|          | 0/10 [00:00<?, ?it/s]"
     ]
    },
    {
     "name": "stdout",
     "output_type": "stream",
     "text": [
      "Step: 1, Train Loss Now: 0.42447108030319214\n"
     ]
    },
    {
     "name": "stderr",
     "output_type": "stream",
     "text": [
      " 30%|███       | 3/10 [00:00<00:00, 25.30it/s]"
     ]
    },
    {
     "name": "stdout",
     "output_type": "stream",
     "text": [
      "Step: 2, Train Loss Now: 0.44976721704006195\n",
      "Step: 3, Train Loss Now: 0.4838929275671641\n",
      "Step: 4, Train Loss Now: 0.491244412958622\n",
      "Step: 5, Train Loss Now: 0.49922537207603457\n"
     ]
    },
    {
     "name": "stderr",
     "output_type": "stream",
     "text": [
      " 60%|██████    | 6/10 [00:00<00:00, 22.76it/s]"
     ]
    },
    {
     "name": "stdout",
     "output_type": "stream",
     "text": [
      "Step: 6, Train Loss Now: 0.47915267447630566\n",
      "Step: 7, Train Loss Now: 0.463329689843314\n",
      "Step: 8, Train Loss Now: 0.46006419882178307\n"
     ]
    },
    {
     "name": "stderr",
     "output_type": "stream",
     "text": [
      "100%|██████████| 10/10 [00:00<00:00, 21.83it/s]"
     ]
    },
    {
     "name": "stdout",
     "output_type": "stream",
     "text": [
      "Step: 9, Train Loss Now: 0.4711894757217831\n",
      "Step: 10, Train Loss Now: 0.45150687396526334\n"
     ]
    },
    {
     "name": "stderr",
     "output_type": "stream",
     "text": [
      "\n",
      "100%|██████████| 2/2 [00:00<00:00, 59.65it/s]\n",
      "  0%|          | 0/10 [00:00<?, ?it/s]"
     ]
    },
    {
     "name": "stdout",
     "output_type": "stream",
     "text": [
      "Step: 1, Train Loss Now: 0.46544530987739563\n",
      "Step: 2, Train Loss Now: 0.37204255163669586\n",
      "Step: 3, Train Loss Now: 0.3938851555188497\n"
     ]
    },
    {
     "name": "stderr",
     "output_type": "stream",
     "text": [
      " 40%|████      | 4/10 [00:00<00:00, 28.98it/s]"
     ]
    },
    {
     "name": "stdout",
     "output_type": "stream",
     "text": [
      "Step: 4, Train Loss Now: 0.49725447595119476\n",
      "Step: 5, Train Loss Now: 0.4822684407234192\n",
      "Step: 6, Train Loss Now: 0.45831298828125\n"
     ]
    },
    {
     "name": "stderr",
     "output_type": "stream",
     "text": [
      "100%|██████████| 10/10 [00:00<00:00, 29.32it/s]"
     ]
    },
    {
     "name": "stdout",
     "output_type": "stream",
     "text": [
      "Step: 7, Train Loss Now: 0.4341237417289189\n",
      "Step: 8, Train Loss Now: 0.43672431260347366\n",
      "Step: 9, Train Loss Now: 0.44521499342388576\n",
      "Step: 10, Train Loss Now: 0.4290651321411133\n"
     ]
    },
    {
     "name": "stderr",
     "output_type": "stream",
     "text": [
      "\n",
      "100%|██████████| 2/2 [00:00<00:00, 88.68it/s]\n",
      "  0%|          | 0/10 [00:00<?, ?it/s]"
     ]
    },
    {
     "name": "stdout",
     "output_type": "stream",
     "text": [
      "Step: 1, Train Loss Now: 0.6792254447937012\n"
     ]
    },
    {
     "name": "stderr",
     "output_type": "stream",
     "text": [
      " 30%|███       | 3/10 [00:00<00:00, 27.40it/s]"
     ]
    },
    {
     "name": "stdout",
     "output_type": "stream",
     "text": [
      "Step: 2, Train Loss Now: 0.4969344735145569\n",
      "Step: 3, Train Loss Now: 0.4546389877796173\n",
      "Step: 4, Train Loss Now: 0.44159193336963654\n",
      "Step: 5, Train Loss Now: 0.5095388412475585\n"
     ]
    },
    {
     "name": "stderr",
     "output_type": "stream",
     "text": [
      "100%|██████████| 10/10 [00:00<00:00, 24.33it/s]"
     ]
    },
    {
     "name": "stdout",
     "output_type": "stream",
     "text": [
      "Step: 6, Train Loss Now: 0.4985278646151225\n",
      "Step: 7, Train Loss Now: 0.4865064024925232\n",
      "Step: 8, Train Loss Now: 0.498385451734066\n",
      "Step: 9, Train Loss Now: 0.4831255376338959\n",
      "Step: 10, Train Loss Now: 0.496538981795311\n"
     ]
    },
    {
     "name": "stderr",
     "output_type": "stream",
     "text": [
      "\n",
      "100%|██████████| 2/2 [00:00<00:00, 100.06it/s]\n",
      "  0%|          | 0/10 [00:00<?, ?it/s]"
     ]
    },
    {
     "name": "stdout",
     "output_type": "stream",
     "text": [
      "Step: 1, Train Loss Now: 0.2792360484600067\n"
     ]
    },
    {
     "name": "stderr",
     "output_type": "stream",
     "text": [
      " 30%|███       | 3/10 [00:00<00:00, 24.07it/s]"
     ]
    },
    {
     "name": "stdout",
     "output_type": "stream",
     "text": [
      "Step: 2, Train Loss Now: 0.38263341784477234\n",
      "Step: 3, Train Loss Now: 0.46123852332433063\n",
      "Step: 4, Train Loss Now: 0.47211605310440063\n",
      "Step: 5, Train Loss Now: 0.4989668965339661\n",
      "Step: 6, Train Loss Now: 0.4739634444316228\n"
     ]
    },
    {
     "name": "stderr",
     "output_type": "stream",
     "text": [
      " 70%|███████   | 7/10 [00:00<00:00, 28.10it/s]"
     ]
    },
    {
     "name": "stdout",
     "output_type": "stream",
     "text": [
      "Step: 7, Train Loss Now: 0.46473787086350576\n",
      "Step: 8, Train Loss Now: 0.4522050619125366\n"
     ]
    },
    {
     "name": "stderr",
     "output_type": "stream",
     "text": [
      "100%|██████████| 10/10 [00:00<00:00, 28.34it/s]\n"
     ]
    },
    {
     "name": "stdout",
     "output_type": "stream",
     "text": [
      "Step: 9, Train Loss Now: 0.46865793069203693\n",
      "Step: 10, Train Loss Now: 0.4546909898519516\n"
     ]
    },
    {
     "name": "stderr",
     "output_type": "stream",
     "text": [
      "100%|██████████| 2/2 [00:00<00:00, 74.28it/s]\n",
      "  0%|          | 0/10 [00:00<?, ?it/s]"
     ]
    },
    {
     "name": "stdout",
     "output_type": "stream",
     "text": [
      "Step: 1, Train Loss Now: 0.4190705120563507\n"
     ]
    },
    {
     "name": "stderr",
     "output_type": "stream",
     "text": [
      " 30%|███       | 3/10 [00:00<00:00, 26.78it/s]"
     ]
    },
    {
     "name": "stdout",
     "output_type": "stream",
     "text": [
      "Step: 2, Train Loss Now: 0.49960140883922577\n",
      "Step: 3, Train Loss Now: 0.5679477353890737\n"
     ]
    },
    {
     "name": "stderr",
     "output_type": "stream",
     "text": [
      " 60%|██████    | 6/10 [00:00<00:00, 26.49it/s]"
     ]
    },
    {
     "name": "stdout",
     "output_type": "stream",
     "text": [
      "Step: 4, Train Loss Now: 0.5275771543383598\n",
      "Step: 5, Train Loss Now: 0.5241391003131867\n",
      "Step: 6, Train Loss Now: 0.48659131427605945\n",
      "Step: 7, Train Loss Now: 0.4892611120428358\n"
     ]
    },
    {
     "name": "stderr",
     "output_type": "stream",
     "text": [
      "100%|██████████| 10/10 [00:00<00:00, 28.08it/s]"
     ]
    },
    {
     "name": "stdout",
     "output_type": "stream",
     "text": [
      "Step: 8, Train Loss Now: 0.4772561602294445\n",
      "Step: 9, Train Loss Now: 0.4883061680528853\n",
      "Step: 10, Train Loss Now: 0.49917747676372526\n"
     ]
    },
    {
     "name": "stderr",
     "output_type": "stream",
     "text": [
      "\n",
      "100%|██████████| 2/2 [00:00<00:00, 55.10it/s]\n",
      "  0%|          | 0/10 [00:00<?, ?it/s]"
     ]
    },
    {
     "name": "stdout",
     "output_type": "stream",
     "text": [
      "Step: 1, Train Loss Now: 0.38020995259284973\n"
     ]
    },
    {
     "name": "stderr",
     "output_type": "stream",
     "text": [
      " 20%|██        | 2/10 [00:00<00:00, 16.00it/s]"
     ]
    },
    {
     "name": "stdout",
     "output_type": "stream",
     "text": [
      "Step: 2, Train Loss Now: 0.40560856461524963\n",
      "Step: 3, Train Loss Now: 0.4337349037329356\n",
      "Step: 4, Train Loss Now: 0.4638005271553993\n"
     ]
    },
    {
     "name": "stderr",
     "output_type": "stream",
     "text": [
      " 50%|█████     | 5/10 [00:00<00:00, 21.17it/s]"
     ]
    },
    {
     "name": "stdout",
     "output_type": "stream",
     "text": [
      "Step: 5, Train Loss Now: 0.46797322034835814\n",
      "Step: 6, Train Loss Now: 0.4480756123860677\n",
      "Step: 7, Train Loss Now: 0.43064517208508085\n"
     ]
    },
    {
     "name": "stderr",
     "output_type": "stream",
     "text": [
      "100%|██████████| 10/10 [00:00<00:00, 24.91it/s]\n"
     ]
    },
    {
     "name": "stdout",
     "output_type": "stream",
     "text": [
      "Step: 8, Train Loss Now: 0.44353320822119713\n",
      "Step: 9, Train Loss Now: 0.43556783596674603\n",
      "Step: 10, Train Loss Now: 0.4553185045719147\n"
     ]
    },
    {
     "name": "stderr",
     "output_type": "stream",
     "text": [
      "100%|██████████| 2/2 [00:00<00:00, 73.11it/s]\n",
      "  0%|          | 0/10 [00:00<?, ?it/s]"
     ]
    },
    {
     "name": "stdout",
     "output_type": "stream",
     "text": [
      "Step: 1, Train Loss Now: 0.5441992878913879\n",
      "Step: 2, Train Loss Now: 0.4165867567062378\n"
     ]
    },
    {
     "name": "stderr",
     "output_type": "stream",
     "text": [
      " 40%|████      | 4/10 [00:00<00:00, 30.97it/s]"
     ]
    },
    {
     "name": "stdout",
     "output_type": "stream",
     "text": [
      "Step: 3, Train Loss Now: 0.43572444717089337\n",
      "Step: 4, Train Loss Now: 0.43697503209114075\n",
      "Step: 5, Train Loss Now: 0.44665385484695436\n",
      "Step: 6, Train Loss Now: 0.45841556787490845\n",
      "Step: 7, Train Loss Now: 0.43046475308282034\n"
     ]
    },
    {
     "name": "stderr",
     "output_type": "stream",
     "text": [
      " 80%|████████  | 8/10 [00:00<00:00, 29.39it/s]"
     ]
    },
    {
     "name": "stdout",
     "output_type": "stream",
     "text": [
      "Step: 8, Train Loss Now: 0.4342159405350685\n"
     ]
    },
    {
     "name": "stderr",
     "output_type": "stream",
     "text": [
      "100%|██████████| 10/10 [00:00<00:00, 29.60it/s]\n"
     ]
    },
    {
     "name": "stdout",
     "output_type": "stream",
     "text": [
      "Step: 9, Train Loss Now: 0.4381648401419322\n",
      "Step: 10, Train Loss Now: 0.4427893489599228\n"
     ]
    },
    {
     "name": "stderr",
     "output_type": "stream",
     "text": [
      "100%|██████████| 2/2 [00:00<00:00, 68.26it/s]\n",
      "  0%|          | 0/10 [00:00<?, ?it/s]"
     ]
    },
    {
     "name": "stdout",
     "output_type": "stream",
     "text": [
      "Step: 1, Train Loss Now: 0.2350860983133316\n",
      "Step: 2, Train Loss Now: 0.2290162444114685\n"
     ]
    },
    {
     "name": "stderr",
     "output_type": "stream",
     "text": [
      " 30%|███       | 3/10 [00:00<00:00, 23.88it/s]"
     ]
    },
    {
     "name": "stdout",
     "output_type": "stream",
     "text": [
      "Step: 3, Train Loss Now: 0.310506006081899\n"
     ]
    },
    {
     "name": "stderr",
     "output_type": "stream",
     "text": [
      " 60%|██████    | 6/10 [00:00<00:00, 24.68it/s]"
     ]
    },
    {
     "name": "stdout",
     "output_type": "stream",
     "text": [
      "Step: 4, Train Loss Now: 0.37668123841285706\n",
      "Step: 5, Train Loss Now: 0.3969695270061493\n",
      "Step: 6, Train Loss Now: 0.4000468800465266\n",
      "Step: 7, Train Loss Now: 0.4286620744637081\n",
      "Step: 8, Train Loss Now: 0.4264639914035797\n"
     ]
    },
    {
     "name": "stderr",
     "output_type": "stream",
     "text": [
      " 90%|█████████ | 9/10 [00:00<00:00, 26.47it/s]"
     ]
    },
    {
     "name": "stdout",
     "output_type": "stream",
     "text": [
      "Step: 9, Train Loss Now: 0.4287759264310201\n"
     ]
    },
    {
     "name": "stderr",
     "output_type": "stream",
     "text": [
      "100%|██████████| 10/10 [00:00<00:00, 27.14it/s]\n"
     ]
    },
    {
     "name": "stdout",
     "output_type": "stream",
     "text": [
      "Step: 10, Train Loss Now: 0.41476981341838837\n"
     ]
    },
    {
     "name": "stderr",
     "output_type": "stream",
     "text": [
      "100%|██████████| 2/2 [00:00<00:00, 75.10it/s]\n",
      "  0%|          | 0/10 [00:00<?, ?it/s]"
     ]
    },
    {
     "name": "stdout",
     "output_type": "stream",
     "text": [
      "Step: 1, Train Loss Now: 0.5102540254592896\n"
     ]
    },
    {
     "name": "stderr",
     "output_type": "stream",
     "text": [
      " 30%|███       | 3/10 [00:00<00:00, 26.76it/s]"
     ]
    },
    {
     "name": "stdout",
     "output_type": "stream",
     "text": [
      "Step: 2, Train Loss Now: 0.4652710407972336\n",
      "Step: 3, Train Loss Now: 0.4760526418685913\n"
     ]
    },
    {
     "name": "stderr",
     "output_type": "stream",
     "text": [
      " 60%|██████    | 6/10 [00:00<00:00, 26.87it/s]"
     ]
    },
    {
     "name": "stdout",
     "output_type": "stream",
     "text": [
      "Step: 4, Train Loss Now: 0.4545964226126671\n",
      "Step: 5, Train Loss Now: 0.5063144147396088\n",
      "Step: 6, Train Loss Now: 0.4881547838449478\n",
      "Step: 7, Train Loss Now: 0.4708039462566376\n",
      "Step: 8, Train Loss Now: 0.48644576594233513\n"
     ]
    },
    {
     "name": "stderr",
     "output_type": "stream",
     "text": [
      "100%|██████████| 10/10 [00:00<00:00, 24.94it/s]\n"
     ]
    },
    {
     "name": "stdout",
     "output_type": "stream",
     "text": [
      "Step: 9, Train Loss Now: 0.45423928399880725\n",
      "Step: 10, Train Loss Now: 0.44942810386419296\n"
     ]
    },
    {
     "name": "stderr",
     "output_type": "stream",
     "text": [
      "100%|██████████| 2/2 [00:00<00:00, 61.82it/s]\n",
      "  0%|          | 0/10 [00:00<?, ?it/s]"
     ]
    },
    {
     "name": "stdout",
     "output_type": "stream",
     "text": [
      "Step: 1, Train Loss Now: 0.3379589915275574\n"
     ]
    },
    {
     "name": "stderr",
     "output_type": "stream",
     "text": [
      " 30%|███       | 3/10 [00:00<00:00, 28.25it/s]"
     ]
    },
    {
     "name": "stdout",
     "output_type": "stream",
     "text": [
      "Step: 2, Train Loss Now: 0.48675477504730225\n",
      "Step: 3, Train Loss Now: 0.5398270487785339\n"
     ]
    },
    {
     "name": "stderr",
     "output_type": "stream",
     "text": [
      " 60%|██████    | 6/10 [00:00<00:00, 24.61it/s]"
     ]
    },
    {
     "name": "stdout",
     "output_type": "stream",
     "text": [
      "Step: 4, Train Loss Now: 0.48356449604034424\n",
      "Step: 5, Train Loss Now: 0.48961745500564574\n",
      "Step: 6, Train Loss Now: 0.4869540085395177\n",
      "Step: 7, Train Loss Now: 0.4793681672641209\n"
     ]
    },
    {
     "name": "stderr",
     "output_type": "stream",
     "text": [
      " 90%|█████████ | 9/10 [00:00<00:00, 24.81it/s]"
     ]
    },
    {
     "name": "stdout",
     "output_type": "stream",
     "text": [
      "Step: 8, Train Loss Now: 0.487324059009552\n",
      "Step: 9, Train Loss Now: 0.47141186396280926\n"
     ]
    },
    {
     "name": "stderr",
     "output_type": "stream",
     "text": [
      "100%|██████████| 10/10 [00:00<00:00, 25.53it/s]\n"
     ]
    },
    {
     "name": "stdout",
     "output_type": "stream",
     "text": [
      "Step: 10, Train Loss Now: 0.4744178354740143\n"
     ]
    },
    {
     "name": "stderr",
     "output_type": "stream",
     "text": [
      "100%|██████████| 2/2 [00:00<00:00, 81.18it/s]\n",
      "  0%|          | 0/10 [00:00<?, ?it/s]"
     ]
    },
    {
     "name": "stdout",
     "output_type": "stream",
     "text": [
      "Step: 1, Train Loss Now: 0.5382838249206543\n",
      "Step: 2, Train Loss Now: 0.40733739733695984\n"
     ]
    },
    {
     "name": "stderr",
     "output_type": "stream",
     "text": [
      " 30%|███       | 3/10 [00:00<00:00, 26.57it/s]"
     ]
    },
    {
     "name": "stdout",
     "output_type": "stream",
     "text": [
      "Step: 3, Train Loss Now: 0.4215148289998372\n",
      "Step: 4, Train Loss Now: 0.44288647174835205\n"
     ]
    },
    {
     "name": "stderr",
     "output_type": "stream",
     "text": [
      " 60%|██████    | 6/10 [00:00<00:00, 26.51it/s]"
     ]
    },
    {
     "name": "stdout",
     "output_type": "stream",
     "text": [
      "Step: 5, Train Loss Now: 0.4486690104007721\n",
      "Step: 6, Train Loss Now: 0.43567633132139844\n",
      "Step: 7, Train Loss Now: 0.4353464884417398\n"
     ]
    },
    {
     "name": "stderr",
     "output_type": "stream",
     "text": [
      "100%|██████████| 10/10 [00:00<00:00, 27.01it/s]"
     ]
    },
    {
     "name": "stdout",
     "output_type": "stream",
     "text": [
      "Step: 8, Train Loss Now: 0.4226991832256317\n",
      "Step: 9, Train Loss Now: 0.40871309902932906\n",
      "Step: 10, Train Loss Now: 0.44538104236125947\n"
     ]
    },
    {
     "name": "stderr",
     "output_type": "stream",
     "text": [
      "\n",
      "100%|██████████| 2/2 [00:00<00:00, 68.65it/s]\n",
      "  0%|          | 0/10 [00:00<?, ?it/s]"
     ]
    },
    {
     "name": "stdout",
     "output_type": "stream",
     "text": [
      "Step: 1, Train Loss Now: 0.2804107367992401\n"
     ]
    },
    {
     "name": "stderr",
     "output_type": "stream",
     "text": [
      " 50%|█████     | 5/10 [00:00<00:00, 23.29it/s]"
     ]
    },
    {
     "name": "stdout",
     "output_type": "stream",
     "text": [
      "Step: 2, Train Loss Now: 0.3620178699493408\n",
      "Step: 3, Train Loss Now: 0.3285847504933675\n",
      "Step: 4, Train Loss Now: 0.45098236203193665\n",
      "Step: 5, Train Loss Now: 0.4748534679412842\n",
      "Step: 6, Train Loss Now: 0.45361212889353436\n",
      "Step: 7, Train Loss Now: 0.4566847767148699\n",
      "Step: 8, Train Loss Now: 0.4521332234144211\n"
     ]
    },
    {
     "name": "stderr",
     "output_type": "stream",
     "text": [
      "100%|██████████| 10/10 [00:00<00:00, 25.96it/s]\n"
     ]
    },
    {
     "name": "stdout",
     "output_type": "stream",
     "text": [
      "Step: 9, Train Loss Now: 0.4749803278181288\n",
      "Step: 10, Train Loss Now: 0.4548212230205536\n"
     ]
    },
    {
     "name": "stderr",
     "output_type": "stream",
     "text": [
      "100%|██████████| 2/2 [00:00<00:00, 69.69it/s]\n",
      "  0%|          | 0/10 [00:00<?, ?it/s]"
     ]
    },
    {
     "name": "stdout",
     "output_type": "stream",
     "text": [
      "Step: 1, Train Loss Now: 0.4820932447910309\n"
     ]
    },
    {
     "name": "stderr",
     "output_type": "stream",
     "text": [
      " 30%|███       | 3/10 [00:00<00:00, 23.43it/s]"
     ]
    },
    {
     "name": "stdout",
     "output_type": "stream",
     "text": [
      "Step: 2, Train Loss Now: 0.5234829038381577\n",
      "Step: 3, Train Loss Now: 0.5451767146587372\n",
      "Step: 4, Train Loss Now: 0.5252789109945297\n",
      "Step: 5, Train Loss Now: 0.5089893937110901\n"
     ]
    },
    {
     "name": "stderr",
     "output_type": "stream",
     "text": [
      " 60%|██████    | 6/10 [00:00<00:00, 23.87it/s]"
     ]
    },
    {
     "name": "stdout",
     "output_type": "stream",
     "text": [
      "Step: 6, Train Loss Now: 0.4809699108203252\n",
      "Step: 7, Train Loss Now: 0.4749937525817326\n",
      "Step: 8, Train Loss Now: 0.4510497711598873\n"
     ]
    },
    {
     "name": "stderr",
     "output_type": "stream",
     "text": [
      "100%|██████████| 10/10 [00:00<00:00, 23.81it/s]\n"
     ]
    },
    {
     "name": "stdout",
     "output_type": "stream",
     "text": [
      "Step: 9, Train Loss Now: 0.4661595986949073\n",
      "Step: 10, Train Loss Now: 0.4385447591543198\n"
     ]
    },
    {
     "name": "stderr",
     "output_type": "stream",
     "text": [
      "100%|██████████| 2/2 [00:00<00:00, 84.42it/s]\n",
      "  0%|          | 0/10 [00:00<?, ?it/s]"
     ]
    },
    {
     "name": "stdout",
     "output_type": "stream",
     "text": [
      "Step: 1, Train Loss Now: 0.48483094573020935\n"
     ]
    },
    {
     "name": "stderr",
     "output_type": "stream",
     "text": [
      " 30%|███       | 3/10 [00:00<00:00, 25.70it/s]"
     ]
    },
    {
     "name": "stdout",
     "output_type": "stream",
     "text": [
      "Step: 2, Train Loss Now: 0.5010586231946945\n",
      "Step: 3, Train Loss Now: 0.5236382782459259\n"
     ]
    },
    {
     "name": "stderr",
     "output_type": "stream",
     "text": [
      " 60%|██████    | 6/10 [00:00<00:00, 26.95it/s]"
     ]
    },
    {
     "name": "stdout",
     "output_type": "stream",
     "text": [
      "Step: 4, Train Loss Now: 0.4618583098053932\n",
      "Step: 5, Train Loss Now: 0.4665175020694733\n",
      "Step: 6, Train Loss Now: 0.46257152160008747\n",
      "Step: 7, Train Loss Now: 0.45575270908219473\n"
     ]
    },
    {
     "name": "stderr",
     "output_type": "stream",
     "text": [
      "100%|██████████| 10/10 [00:00<00:00, 28.25it/s]"
     ]
    },
    {
     "name": "stdout",
     "output_type": "stream",
     "text": [
      "Step: 8, Train Loss Now: 0.4502458982169628\n",
      "Step: 9, Train Loss Now: 0.4390840099917518\n",
      "Step: 10, Train Loss Now: 0.47500968277454375\n"
     ]
    },
    {
     "name": "stderr",
     "output_type": "stream",
     "text": [
      "\n",
      "100%|██████████| 2/2 [00:00<00:00, 69.22it/s]\n",
      "  0%|          | 0/10 [00:00<?, ?it/s]"
     ]
    },
    {
     "name": "stdout",
     "output_type": "stream",
     "text": [
      "Step: 1, Train Loss Now: 0.4183866083621979\n",
      "Step: 2, Train Loss Now: 0.6424446254968643\n"
     ]
    },
    {
     "name": "stderr",
     "output_type": "stream",
     "text": [
      " 30%|███       | 3/10 [00:00<00:00, 21.82it/s]"
     ]
    },
    {
     "name": "stdout",
     "output_type": "stream",
     "text": [
      "Step: 3, Train Loss Now: 0.5833660562833151\n",
      "Step: 4, Train Loss Now: 0.5450042560696602\n",
      "Step: 5, Train Loss Now: 0.50188929438591\n"
     ]
    },
    {
     "name": "stderr",
     "output_type": "stream",
     "text": [
      " 60%|██████    | 6/10 [00:00<00:00, 19.88it/s]"
     ]
    },
    {
     "name": "stdout",
     "output_type": "stream",
     "text": [
      "Step: 6, Train Loss Now: 0.46017710864543915\n",
      "Step: 7, Train Loss Now: 0.4731860544000353\n"
     ]
    },
    {
     "name": "stderr",
     "output_type": "stream",
     "text": [
      " 90%|█████████ | 9/10 [00:00<00:00, 19.74it/s]"
     ]
    },
    {
     "name": "stdout",
     "output_type": "stream",
     "text": [
      "Step: 8, Train Loss Now: 0.45239799097180367\n",
      "Step: 9, Train Loss Now: 0.44211190607812667\n",
      "Step: 10, Train Loss Now: 0.44905114471912383\n"
     ]
    },
    {
     "name": "stderr",
     "output_type": "stream",
     "text": [
      "100%|██████████| 10/10 [00:00<00:00, 20.50it/s]\n",
      "100%|██████████| 2/2 [00:00<00:00, 66.85it/s]\n",
      "  0%|          | 0/10 [00:00<?, ?it/s]"
     ]
    },
    {
     "name": "stdout",
     "output_type": "stream",
     "text": [
      "Step: 1, Train Loss Now: 0.5143571496009827\n"
     ]
    },
    {
     "name": "stderr",
     "output_type": "stream",
     "text": [
      " 30%|███       | 3/10 [00:00<00:00, 24.58it/s]"
     ]
    },
    {
     "name": "stdout",
     "output_type": "stream",
     "text": [
      "Step: 2, Train Loss Now: 0.4596356302499771\n",
      "Step: 3, Train Loss Now: 0.39021960894266766\n",
      "Step: 4, Train Loss Now: 0.40146389603614807\n"
     ]
    },
    {
     "name": "stderr",
     "output_type": "stream",
     "text": [
      " 60%|██████    | 6/10 [00:00<00:00, 24.09it/s]"
     ]
    },
    {
     "name": "stdout",
     "output_type": "stream",
     "text": [
      "Step: 5, Train Loss Now: 0.4138021647930145\n",
      "Step: 6, Train Loss Now: 0.4245394120613734\n",
      "Step: 7, Train Loss Now: 0.4618062674999237\n"
     ]
    },
    {
     "name": "stderr",
     "output_type": "stream",
     "text": [
      "100%|██████████| 10/10 [00:00<00:00, 24.98it/s]"
     ]
    },
    {
     "name": "stdout",
     "output_type": "stream",
     "text": [
      "Step: 8, Train Loss Now: 0.4421981908380985\n",
      "Step: 9, Train Loss Now: 0.4482692778110504\n",
      "Step: 10, Train Loss Now: 0.42634761333465576\n"
     ]
    },
    {
     "name": "stderr",
     "output_type": "stream",
     "text": [
      "\n",
      "100%|██████████| 2/2 [00:00<00:00, 76.44it/s]\n",
      "  0%|          | 0/10 [00:00<?, ?it/s]"
     ]
    },
    {
     "name": "stdout",
     "output_type": "stream",
     "text": [
      "Step: 1, Train Loss Now: 0.4420181214809418\n",
      "Step: 2, Train Loss Now: 0.36158305406570435\n"
     ]
    },
    {
     "name": "stderr",
     "output_type": "stream",
     "text": [
      " 60%|██████    | 6/10 [00:00<00:00, 26.65it/s]"
     ]
    },
    {
     "name": "stdout",
     "output_type": "stream",
     "text": [
      "Step: 3, Train Loss Now: 0.3658709029356639\n",
      "Step: 4, Train Loss Now: 0.37940073758363724\n",
      "Step: 5, Train Loss Now: 0.42604275345802306\n",
      "Step: 6, Train Loss Now: 0.43089714149634045\n",
      "Step: 7, Train Loss Now: 0.4265943169593811\n",
      "Step: 8, Train Loss Now: 0.41992345452308655\n"
     ]
    },
    {
     "name": "stderr",
     "output_type": "stream",
     "text": [
      "100%|██████████| 10/10 [00:00<00:00, 28.48it/s]\n"
     ]
    },
    {
     "name": "stdout",
     "output_type": "stream",
     "text": [
      "Step: 9, Train Loss Now: 0.42710861894819474\n",
      "Step: 10, Train Loss Now: 0.4361394762992859\n"
     ]
    },
    {
     "name": "stderr",
     "output_type": "stream",
     "text": [
      "100%|██████████| 2/2 [00:00<00:00, 59.38it/s]\n",
      "  0%|          | 0/10 [00:00<?, ?it/s]"
     ]
    },
    {
     "name": "stdout",
     "output_type": "stream",
     "text": [
      "Step: 1, Train Loss Now: 0.24793629348278046\n"
     ]
    },
    {
     "name": "stderr",
     "output_type": "stream",
     "text": [
      " 20%|██        | 2/10 [00:00<00:00, 15.54it/s]"
     ]
    },
    {
     "name": "stdout",
     "output_type": "stream",
     "text": [
      "Step: 2, Train Loss Now: 0.47681253403425217\n"
     ]
    },
    {
     "name": "stderr",
     "output_type": "stream",
     "text": [
      " 50%|█████     | 5/10 [00:00<00:00, 21.39it/s]"
     ]
    },
    {
     "name": "stdout",
     "output_type": "stream",
     "text": [
      "Step: 3, Train Loss Now: 0.4585501104593277\n",
      "Step: 4, Train Loss Now: 0.46017226949334145\n",
      "Step: 5, Train Loss Now: 0.4276265352964401\n",
      "Step: 6, Train Loss Now: 0.42748137066761654\n",
      "Step: 7, Train Loss Now: 0.42192272416182924\n"
     ]
    },
    {
     "name": "stderr",
     "output_type": "stream",
     "text": [
      " 80%|████████  | 8/10 [00:00<00:00, 23.64it/s]"
     ]
    },
    {
     "name": "stdout",
     "output_type": "stream",
     "text": [
      "Step: 8, Train Loss Now: 0.4385723527520895\n"
     ]
    },
    {
     "name": "stderr",
     "output_type": "stream",
     "text": [
      "100%|██████████| 10/10 [00:00<00:00, 23.83it/s]\n"
     ]
    },
    {
     "name": "stdout",
     "output_type": "stream",
     "text": [
      "Step: 9, Train Loss Now: 0.4234690848324034\n",
      "Step: 10, Train Loss Now: 0.42342846244573595\n"
     ]
    },
    {
     "name": "stderr",
     "output_type": "stream",
     "text": [
      "100%|██████████| 2/2 [00:00<00:00, 69.28it/s]\n",
      "  0%|          | 0/10 [00:00<?, ?it/s]"
     ]
    },
    {
     "name": "stdout",
     "output_type": "stream",
     "text": [
      "Step: 1, Train Loss Now: 0.32717323303222656\n",
      "Step: 2, Train Loss Now: 0.4427490532398224\n"
     ]
    },
    {
     "name": "stderr",
     "output_type": "stream",
     "text": [
      " 30%|███       | 3/10 [00:00<00:00, 18.41it/s]"
     ]
    },
    {
     "name": "stdout",
     "output_type": "stream",
     "text": [
      "Step: 3, Train Loss Now: 0.45008957386016846\n",
      "Step: 4, Train Loss Now: 0.4313478246331215\n"
     ]
    },
    {
     "name": "stderr",
     "output_type": "stream",
     "text": [
      " 60%|██████    | 6/10 [00:00<00:00, 22.28it/s]"
     ]
    },
    {
     "name": "stdout",
     "output_type": "stream",
     "text": [
      "Step: 5, Train Loss Now: 0.4672820150852203\n",
      "Step: 6, Train Loss Now: 0.47745388249556225\n",
      "Step: 7, Train Loss Now: 0.4691040132726942\n",
      "Step: 8, Train Loss Now: 0.48360777273774147\n"
     ]
    },
    {
     "name": "stderr",
     "output_type": "stream",
     "text": [
      "100%|██████████| 10/10 [00:00<00:00, 23.39it/s]"
     ]
    },
    {
     "name": "stdout",
     "output_type": "stream",
     "text": [
      "Step: 9, Train Loss Now: 0.4713226060072581\n",
      "Step: 10, Train Loss Now: 0.477925506234169\n"
     ]
    },
    {
     "name": "stderr",
     "output_type": "stream",
     "text": [
      "\n",
      "100%|██████████| 2/2 [00:00<00:00, 52.83it/s]\n",
      " 30%|███       | 3/10 [00:00<00:00, 28.06it/s]"
     ]
    },
    {
     "name": "stdout",
     "output_type": "stream",
     "text": [
      "Step: 1, Train Loss Now: 0.47420090436935425\n",
      "Step: 2, Train Loss Now: 0.43814630806446075\n",
      "Step: 3, Train Loss Now: 0.38844635089238483\n"
     ]
    },
    {
     "name": "stderr",
     "output_type": "stream",
     "text": [
      " 60%|██████    | 6/10 [00:00<00:00, 28.21it/s]"
     ]
    },
    {
     "name": "stdout",
     "output_type": "stream",
     "text": [
      "Step: 4, Train Loss Now: 0.37685593217611313\n",
      "Step: 5, Train Loss Now: 0.42921791672706605\n",
      "Step: 6, Train Loss Now: 0.4410224308570226\n",
      "Step: 7, Train Loss Now: 0.42288082412311007\n",
      "Step: 8, Train Loss Now: 0.4182744771242142\n"
     ]
    },
    {
     "name": "stderr",
     "output_type": "stream",
     "text": [
      "100%|██████████| 10/10 [00:00<00:00, 29.17it/s]\n"
     ]
    },
    {
     "name": "stdout",
     "output_type": "stream",
     "text": [
      "Step: 9, Train Loss Now: 0.4189892179436154\n",
      "Step: 10, Train Loss Now: 0.423268324136734\n"
     ]
    },
    {
     "name": "stderr",
     "output_type": "stream",
     "text": [
      "100%|██████████| 2/2 [00:00<00:00, 99.73it/s]\n",
      "  0%|          | 0/10 [00:00<?, ?it/s]"
     ]
    },
    {
     "name": "stdout",
     "output_type": "stream",
     "text": [
      "Step: 1, Train Loss Now: 0.29450711607933044\n"
     ]
    },
    {
     "name": "stderr",
     "output_type": "stream",
     "text": [
      " 30%|███       | 3/10 [00:00<00:00, 25.78it/s]"
     ]
    },
    {
     "name": "stdout",
     "output_type": "stream",
     "text": [
      "Step: 2, Train Loss Now: 0.35729293525218964\n",
      "Step: 3, Train Loss Now: 0.42190660039583844\n"
     ]
    },
    {
     "name": "stderr",
     "output_type": "stream",
     "text": [
      " 60%|██████    | 6/10 [00:00<00:00, 27.42it/s]"
     ]
    },
    {
     "name": "stdout",
     "output_type": "stream",
     "text": [
      "Step: 4, Train Loss Now: 0.37508682534098625\n",
      "Step: 5, Train Loss Now: 0.36259184777736664\n",
      "Step: 6, Train Loss Now: 0.4195946827530861\n",
      "Step: 7, Train Loss Now: 0.4097683110407421\n",
      "Step: 8, Train Loss Now: 0.41650101728737354\n"
     ]
    },
    {
     "name": "stderr",
     "output_type": "stream",
     "text": [
      "100%|██████████| 10/10 [00:00<00:00, 24.17it/s]\n"
     ]
    },
    {
     "name": "stdout",
     "output_type": "stream",
     "text": [
      "Step: 9, Train Loss Now: 0.433802573217286\n",
      "Step: 10, Train Loss Now: 0.4361192867159843\n"
     ]
    },
    {
     "name": "stderr",
     "output_type": "stream",
     "text": [
      "100%|██████████| 2/2 [00:00<00:00, 71.63it/s]\n",
      "  0%|          | 0/10 [00:00<?, ?it/s]"
     ]
    },
    {
     "name": "stdout",
     "output_type": "stream",
     "text": [
      "Step: 1, Train Loss Now: 0.9186875224113464\n"
     ]
    },
    {
     "name": "stderr",
     "output_type": "stream",
     "text": [
      " 30%|███       | 3/10 [00:00<00:00, 24.64it/s]"
     ]
    },
    {
     "name": "stdout",
     "output_type": "stream",
     "text": [
      "Step: 2, Train Loss Now: 0.6079820990562439\n",
      "Step: 3, Train Loss Now: 0.5296566088994344\n"
     ]
    },
    {
     "name": "stderr",
     "output_type": "stream",
     "text": [
      " 60%|██████    | 6/10 [00:00<00:00, 26.29it/s]"
     ]
    },
    {
     "name": "stdout",
     "output_type": "stream",
     "text": [
      "Step: 4, Train Loss Now: 0.5411200076341629\n",
      "Step: 5, Train Loss Now: 0.5273069620132447\n",
      "Step: 6, Train Loss Now: 0.4884278078873952\n",
      "Step: 7, Train Loss Now: 0.4691966303757259\n"
     ]
    },
    {
     "name": "stderr",
     "output_type": "stream",
     "text": [
      "100%|██████████| 10/10 [00:00<00:00, 28.41it/s]"
     ]
    },
    {
     "name": "stdout",
     "output_type": "stream",
     "text": [
      "Step: 8, Train Loss Now: 0.47146572917699814\n",
      "Step: 9, Train Loss Now: 0.4510837627781762\n",
      "Step: 10, Train Loss Now: 0.44348821938037875\n"
     ]
    },
    {
     "name": "stderr",
     "output_type": "stream",
     "text": [
      "\n",
      "100%|██████████| 2/2 [00:00<00:00, 67.48it/s]\n",
      "  0%|          | 0/10 [00:00<?, ?it/s]"
     ]
    },
    {
     "name": "stdout",
     "output_type": "stream",
     "text": [
      "Step: 1, Train Loss Now: 0.508111298084259\n",
      "Step: 2, Train Loss Now: 0.35851673036813736\n"
     ]
    },
    {
     "name": "stderr",
     "output_type": "stream",
     "text": [
      " 60%|██████    | 6/10 [00:00<00:00, 27.67it/s]"
     ]
    },
    {
     "name": "stdout",
     "output_type": "stream",
     "text": [
      "Step: 3, Train Loss Now: 0.34214376906553906\n",
      "Step: 4, Train Loss Now: 0.34449027851223946\n",
      "Step: 5, Train Loss Now: 0.3632487028837204\n",
      "Step: 6, Train Loss Now: 0.37952550997336704\n",
      "Step: 7, Train Loss Now: 0.4071278380496161\n",
      "Step: 8, Train Loss Now: 0.409268194809556\n"
     ]
    },
    {
     "name": "stderr",
     "output_type": "stream",
     "text": [
      "100%|██████████| 10/10 [00:00<00:00, 27.83it/s]\n"
     ]
    },
    {
     "name": "stdout",
     "output_type": "stream",
     "text": [
      "Step: 9, Train Loss Now: 0.41781701478693223\n",
      "Step: 10, Train Loss Now: 0.43556519597768784\n"
     ]
    },
    {
     "name": "stderr",
     "output_type": "stream",
     "text": [
      "100%|██████████| 2/2 [00:00<00:00, 78.63it/s]\n",
      "  0%|          | 0/10 [00:00<?, ?it/s]"
     ]
    },
    {
     "name": "stdout",
     "output_type": "stream",
     "text": [
      "Step: 1, Train Loss Now: 0.498546302318573\n",
      "Step: 2, Train Loss Now: 0.5313757359981537\n"
     ]
    },
    {
     "name": "stderr",
     "output_type": "stream",
     "text": [
      " 30%|███       | 3/10 [00:00<00:00, 21.03it/s]"
     ]
    },
    {
     "name": "stdout",
     "output_type": "stream",
     "text": [
      "Step: 3, Train Loss Now: 0.5202664732933044\n",
      "Step: 4, Train Loss Now: 0.5004991218447685\n",
      "Step: 5, Train Loss Now: 0.514065283536911\n"
     ]
    },
    {
     "name": "stderr",
     "output_type": "stream",
     "text": [
      " 60%|██████    | 6/10 [00:00<00:00, 21.89it/s]"
     ]
    },
    {
     "name": "stdout",
     "output_type": "stream",
     "text": [
      "Step: 6, Train Loss Now: 0.5200934161742529\n",
      "Step: 7, Train Loss Now: 0.4825862390654428\n",
      "Step: 8, Train Loss Now: 0.46215828880667686\n"
     ]
    },
    {
     "name": "stderr",
     "output_type": "stream",
     "text": [
      "100%|██████████| 10/10 [00:00<00:00, 23.53it/s]\n"
     ]
    },
    {
     "name": "stdout",
     "output_type": "stream",
     "text": [
      "Step: 9, Train Loss Now: 0.4495175845093197\n",
      "Step: 10, Train Loss Now: 0.45258108377456663\n"
     ]
    },
    {
     "name": "stderr",
     "output_type": "stream",
     "text": [
      "100%|██████████| 2/2 [00:00<00:00, 60.55it/s]\n",
      "  0%|          | 0/10 [00:00<?, ?it/s]"
     ]
    },
    {
     "name": "stdout",
     "output_type": "stream",
     "text": [
      "Step: 1, Train Loss Now: 0.2699233591556549\n",
      "Step: 2, Train Loss Now: 0.3399171680212021\n"
     ]
    },
    {
     "name": "stderr",
     "output_type": "stream",
     "text": [
      " 30%|███       | 3/10 [00:00<00:00, 26.67it/s]"
     ]
    },
    {
     "name": "stdout",
     "output_type": "stream",
     "text": [
      "Step: 3, Train Loss Now: 0.3760622441768646\n"
     ]
    },
    {
     "name": "stderr",
     "output_type": "stream",
     "text": [
      " 60%|██████    | 6/10 [00:00<00:00, 28.28it/s]"
     ]
    },
    {
     "name": "stdout",
     "output_type": "stream",
     "text": [
      "Step: 4, Train Loss Now: 0.37405794113874435\n",
      "Step: 5, Train Loss Now: 0.4233501970767975\n",
      "Step: 6, Train Loss Now: 0.4398723592360814\n",
      "Step: 7, Train Loss Now: 0.4573357743876321\n",
      "Step: 8, Train Loss Now: 0.4505317807197571\n"
     ]
    },
    {
     "name": "stderr",
     "output_type": "stream",
     "text": [
      "100%|██████████| 10/10 [00:00<00:00, 29.69it/s]"
     ]
    },
    {
     "name": "stdout",
     "output_type": "stream",
     "text": [
      "Step: 9, Train Loss Now: 0.45030177632967633\n",
      "Step: 10, Train Loss Now: 0.451278954744339\n"
     ]
    },
    {
     "name": "stderr",
     "output_type": "stream",
     "text": [
      "\n",
      "100%|██████████| 2/2 [00:00<00:00, 65.34it/s]\n",
      "  0%|          | 0/10 [00:00<?, ?it/s]"
     ]
    },
    {
     "name": "stdout",
     "output_type": "stream",
     "text": [
      "Step: 1, Train Loss Now: 0.4052121043205261\n",
      "Step: 2, Train Loss Now: 0.42470261454582214\n"
     ]
    },
    {
     "name": "stderr",
     "output_type": "stream",
     "text": [
      " 30%|███       | 3/10 [00:00<00:00, 29.23it/s]"
     ]
    },
    {
     "name": "stdout",
     "output_type": "stream",
     "text": [
      "Step: 3, Train Loss Now: 0.4229544401168823\n"
     ]
    },
    {
     "name": "stderr",
     "output_type": "stream",
     "text": [
      " 60%|██████    | 6/10 [00:00<00:00, 26.82it/s]"
     ]
    },
    {
     "name": "stdout",
     "output_type": "stream",
     "text": [
      "Step: 4, Train Loss Now: 0.43259937316179276\n",
      "Step: 5, Train Loss Now: 0.4286864221096039\n",
      "Step: 6, Train Loss Now: 0.46002136170864105\n",
      "Step: 7, Train Loss Now: 0.463848603623254\n",
      "Step: 8, Train Loss Now: 0.46182309836149216\n"
     ]
    },
    {
     "name": "stderr",
     "output_type": "stream",
     "text": [
      " 90%|█████████ | 9/10 [00:00<00:00, 26.68it/s]"
     ]
    },
    {
     "name": "stdout",
     "output_type": "stream",
     "text": [
      "Step: 9, Train Loss Now: 0.4436487058798472\n"
     ]
    },
    {
     "name": "stderr",
     "output_type": "stream",
     "text": [
      "100%|██████████| 10/10 [00:00<00:00, 26.96it/s]\n"
     ]
    },
    {
     "name": "stdout",
     "output_type": "stream",
     "text": [
      "Step: 10, Train Loss Now: 0.45060024559497835\n"
     ]
    },
    {
     "name": "stderr",
     "output_type": "stream",
     "text": [
      "100%|██████████| 2/2 [00:00<00:00, 66.71it/s]\n",
      "  0%|          | 0/10 [00:00<?, ?it/s]"
     ]
    },
    {
     "name": "stdout",
     "output_type": "stream",
     "text": [
      "Step: 1, Train Loss Now: 0.4188598692417145\n"
     ]
    },
    {
     "name": "stderr",
     "output_type": "stream",
     "text": [
      " 30%|███       | 3/10 [00:00<00:00, 24.74it/s]"
     ]
    },
    {
     "name": "stdout",
     "output_type": "stream",
     "text": [
      "Step: 2, Train Loss Now: 0.4389100968837738\n",
      "Step: 3, Train Loss Now: 0.46581629912058514\n",
      "Step: 4, Train Loss Now: 0.5162156820297241\n"
     ]
    },
    {
     "name": "stderr",
     "output_type": "stream",
     "text": [
      " 60%|██████    | 6/10 [00:00<00:00, 26.32it/s]"
     ]
    },
    {
     "name": "stdout",
     "output_type": "stream",
     "text": [
      "Step: 5, Train Loss Now: 0.5003224730491638\n",
      "Step: 6, Train Loss Now: 0.4893920918305715\n",
      "Step: 7, Train Loss Now: 0.4806474319526127\n"
     ]
    },
    {
     "name": "stderr",
     "output_type": "stream",
     "text": [
      " 90%|█████████ | 9/10 [00:00<00:00, 26.85it/s]"
     ]
    },
    {
     "name": "stdout",
     "output_type": "stream",
     "text": [
      "Step: 8, Train Loss Now: 0.4691036641597748\n",
      "Step: 9, Train Loss Now: 0.4717025293244256\n",
      "Step: 10, Train Loss Now: 0.460240375995636\n"
     ]
    },
    {
     "name": "stderr",
     "output_type": "stream",
     "text": [
      "100%|██████████| 10/10 [00:00<00:00, 26.73it/s]\n",
      "100%|██████████| 2/2 [00:00<00:00, 58.17it/s]\n",
      "  0%|          | 0/10 [00:00<?, ?it/s]"
     ]
    },
    {
     "name": "stdout",
     "output_type": "stream",
     "text": [
      "Step: 1, Train Loss Now: 0.20909364521503448\n"
     ]
    },
    {
     "name": "stderr",
     "output_type": "stream",
     "text": [
      " 20%|██        | 2/10 [00:00<00:00, 16.19it/s]"
     ]
    },
    {
     "name": "stdout",
     "output_type": "stream",
     "text": [
      "Step: 2, Train Loss Now: 0.3258291557431221\n",
      "Step: 3, Train Loss Now: 0.35499711334705353\n"
     ]
    },
    {
     "name": "stderr",
     "output_type": "stream",
     "text": [
      " 50%|█████     | 5/10 [00:00<00:00, 22.90it/s]"
     ]
    },
    {
     "name": "stdout",
     "output_type": "stream",
     "text": [
      "Step: 4, Train Loss Now: 0.38110070303082466\n",
      "Step: 5, Train Loss Now: 0.3988072007894516\n",
      "Step: 6, Train Loss Now: 0.38612346599499386\n",
      "Step: 7, Train Loss Now: 0.4299763845545905\n"
     ]
    },
    {
     "name": "stderr",
     "output_type": "stream",
     "text": [
      " 80%|████████  | 8/10 [00:00<00:00, 24.63it/s]"
     ]
    },
    {
     "name": "stdout",
     "output_type": "stream",
     "text": [
      "Step: 8, Train Loss Now: 0.4323418829590082\n",
      "Step: 9, Train Loss Now: 0.4389868925015132\n"
     ]
    },
    {
     "name": "stderr",
     "output_type": "stream",
     "text": [
      "100%|██████████| 10/10 [00:00<00:00, 24.21it/s]\n"
     ]
    },
    {
     "name": "stdout",
     "output_type": "stream",
     "text": [
      "Step: 10, Train Loss Now: 0.42274864464998246\n"
     ]
    },
    {
     "name": "stderr",
     "output_type": "stream",
     "text": [
      "100%|██████████| 2/2 [00:00<00:00, 51.41it/s]\n",
      "  0%|          | 0/10 [00:00<?, ?it/s]"
     ]
    },
    {
     "name": "stdout",
     "output_type": "stream",
     "text": [
      "Step: 1, Train Loss Now: 0.4122051000595093\n",
      "Step: 2, Train Loss Now: 0.37792985141277313\n"
     ]
    },
    {
     "name": "stderr",
     "output_type": "stream",
     "text": [
      " 30%|███       | 3/10 [00:00<00:00, 22.23it/s]"
     ]
    },
    {
     "name": "stdout",
     "output_type": "stream",
     "text": [
      "Step: 3, Train Loss Now: 0.4430720309416453\n",
      "Step: 4, Train Loss Now: 0.444214291870594\n",
      "Step: 5, Train Loss Now: 0.5183977305889129\n"
     ]
    },
    {
     "name": "stderr",
     "output_type": "stream",
     "text": [
      " 60%|██████    | 6/10 [00:00<00:00, 21.19it/s]"
     ]
    },
    {
     "name": "stdout",
     "output_type": "stream",
     "text": [
      "Step: 6, Train Loss Now: 0.5231858938932419\n",
      "Step: 7, Train Loss Now: 0.5083052217960358\n",
      "Step: 8, Train Loss Now: 0.49243392795324326\n"
     ]
    },
    {
     "name": "stderr",
     "output_type": "stream",
     "text": [
      "100%|██████████| 10/10 [00:00<00:00, 21.19it/s]"
     ]
    },
    {
     "name": "stdout",
     "output_type": "stream",
     "text": [
      "Step: 9, Train Loss Now: 0.49535850021574235\n",
      "Step: 10, Train Loss Now: 0.4701110661029816\n"
     ]
    },
    {
     "name": "stderr",
     "output_type": "stream",
     "text": [
      "\n",
      "100%|██████████| 2/2 [00:00<00:00, 67.58it/s]\n",
      " 30%|███       | 3/10 [00:00<00:00, 25.58it/s]"
     ]
    },
    {
     "name": "stdout",
     "output_type": "stream",
     "text": [
      "Step: 1, Train Loss Now: 0.3640957474708557\n",
      "Step: 2, Train Loss Now: 0.463194340467453\n",
      "Step: 3, Train Loss Now: 0.4631230632464091\n"
     ]
    },
    {
     "name": "stderr",
     "output_type": "stream",
     "text": [
      " 60%|██████    | 6/10 [00:00<00:00, 27.32it/s]"
     ]
    },
    {
     "name": "stdout",
     "output_type": "stream",
     "text": [
      "Step: 4, Train Loss Now: 0.4456426650285721\n",
      "Step: 5, Train Loss Now: 0.49002876281738283\n",
      "Step: 6, Train Loss Now: 0.480468953649203\n"
     ]
    },
    {
     "name": "stderr",
     "output_type": "stream",
     "text": [
      "100%|██████████| 10/10 [00:00<00:00, 30.39it/s]"
     ]
    },
    {
     "name": "stdout",
     "output_type": "stream",
     "text": [
      "Step: 7, Train Loss Now: 0.48356254185949055\n",
      "Step: 8, Train Loss Now: 0.4654657877981663\n",
      "Step: 9, Train Loss Now: 0.4580080641640557\n",
      "Step: 10, Train Loss Now: 0.4681201457977295\n"
     ]
    },
    {
     "name": "stderr",
     "output_type": "stream",
     "text": [
      "100%|██████████| 10/10 [00:00<00:00, 29.39it/s]\n",
      "100%|██████████| 2/2 [00:00<00:00, 71.99it/s]\n",
      "  0%|          | 0/10 [00:00<?, ?it/s]"
     ]
    },
    {
     "name": "stdout",
     "output_type": "stream",
     "text": [
      "Step: 1, Train Loss Now: 0.5168466567993164\n",
      "Step: 2, Train Loss Now: 0.44042399525642395\n"
     ]
    },
    {
     "name": "stderr",
     "output_type": "stream",
     "text": [
      " 60%|██████    | 6/10 [00:00<00:00, 27.13it/s]"
     ]
    },
    {
     "name": "stdout",
     "output_type": "stream",
     "text": [
      "Step: 3, Train Loss Now: 0.4762777090072632\n",
      "Step: 4, Train Loss Now: 0.47754786908626556\n",
      "Step: 5, Train Loss Now: 0.47802215814590454\n",
      "Step: 6, Train Loss Now: 0.47531867027282715\n",
      "Step: 7, Train Loss Now: 0.43984446993895937\n",
      "Step: 8, Train Loss Now: 0.4711642172187567\n"
     ]
    },
    {
     "name": "stderr",
     "output_type": "stream",
     "text": [
      "100%|██████████| 10/10 [00:00<00:00, 28.62it/s]\n"
     ]
    },
    {
     "name": "stdout",
     "output_type": "stream",
     "text": [
      "Step: 9, Train Loss Now: 0.4569171915451686\n",
      "Step: 10, Train Loss Now: 0.4431894555687904\n"
     ]
    },
    {
     "name": "stderr",
     "output_type": "stream",
     "text": [
      "100%|██████████| 2/2 [00:00<00:00, 55.25it/s]\n",
      "  0%|          | 0/10 [00:00<?, ?it/s]"
     ]
    },
    {
     "name": "stdout",
     "output_type": "stream",
     "text": [
      "Step: 1, Train Loss Now: 0.4783411920070648\n"
     ]
    },
    {
     "name": "stderr",
     "output_type": "stream",
     "text": [
      " 30%|███       | 3/10 [00:00<00:00, 25.19it/s]"
     ]
    },
    {
     "name": "stdout",
     "output_type": "stream",
     "text": [
      "Step: 2, Train Loss Now: 0.46030086278915405\n",
      "Step: 3, Train Loss Now: 0.4009510080019633\n",
      "Step: 4, Train Loss Now: 0.37992773205041885\n",
      "Step: 5, Train Loss Now: 0.4172880589962006\n"
     ]
    },
    {
     "name": "stderr",
     "output_type": "stream",
     "text": [
      " 60%|██████    | 6/10 [00:00<00:00, 23.11it/s]"
     ]
    },
    {
     "name": "stdout",
     "output_type": "stream",
     "text": [
      "Step: 6, Train Loss Now: 0.43571726977825165\n",
      "Step: 7, Train Loss Now: 0.451581746339798\n"
     ]
    },
    {
     "name": "stderr",
     "output_type": "stream",
     "text": [
      " 90%|█████████ | 9/10 [00:00<00:00, 20.20it/s]"
     ]
    },
    {
     "name": "stdout",
     "output_type": "stream",
     "text": [
      "Step: 8, Train Loss Now: 0.4610155336558819\n",
      "Step: 9, Train Loss Now: 0.46894751985867816\n"
     ]
    },
    {
     "name": "stderr",
     "output_type": "stream",
     "text": [
      "100%|██████████| 10/10 [00:00<00:00, 21.40it/s]\n"
     ]
    },
    {
     "name": "stdout",
     "output_type": "stream",
     "text": [
      "Step: 10, Train Loss Now: 0.4611478477716446\n"
     ]
    },
    {
     "name": "stderr",
     "output_type": "stream",
     "text": [
      "100%|██████████| 2/2 [00:00<00:00, 100.06it/s]\n",
      "  0%|          | 0/10 [00:00<?, ?it/s]"
     ]
    },
    {
     "name": "stdout",
     "output_type": "stream",
     "text": [
      "Step: 1, Train Loss Now: 0.3184468150138855\n",
      "Step: 2, Train Loss Now: 0.29821500182151794\n"
     ]
    },
    {
     "name": "stderr",
     "output_type": "stream",
     "text": [
      " 30%|███       | 3/10 [00:00<00:00, 27.96it/s]"
     ]
    },
    {
     "name": "stdout",
     "output_type": "stream",
     "text": [
      "Step: 3, Train Loss Now: 0.42133424679438275\n"
     ]
    },
    {
     "name": "stderr",
     "output_type": "stream",
     "text": [
      " 60%|██████    | 6/10 [00:00<00:00, 26.74it/s]"
     ]
    },
    {
     "name": "stdout",
     "output_type": "stream",
     "text": [
      "Step: 4, Train Loss Now: 0.3927004486322403\n",
      "Step: 5, Train Loss Now: 0.38879998922348025\n",
      "Step: 6, Train Loss Now: 0.3943876624107361\n",
      "Step: 7, Train Loss Now: 0.4029927211148398\n"
     ]
    },
    {
     "name": "stderr",
     "output_type": "stream",
     "text": [
      " 90%|█████████ | 9/10 [00:00<00:00, 25.66it/s]"
     ]
    },
    {
     "name": "stdout",
     "output_type": "stream",
     "text": [
      "Step: 8, Train Loss Now: 0.40776724368333817\n",
      "Step: 9, Train Loss Now: 0.4198876486884223\n"
     ]
    },
    {
     "name": "stderr",
     "output_type": "stream",
     "text": [
      "100%|██████████| 10/10 [00:00<00:00, 27.02it/s]\n"
     ]
    },
    {
     "name": "stdout",
     "output_type": "stream",
     "text": [
      "Step: 10, Train Loss Now: 0.43269360065460205\n"
     ]
    },
    {
     "name": "stderr",
     "output_type": "stream",
     "text": [
      "100%|██████████| 2/2 [00:00<00:00, 66.70it/s]\n",
      "  0%|          | 0/10 [00:00<?, ?it/s]"
     ]
    },
    {
     "name": "stdout",
     "output_type": "stream",
     "text": [
      "Step: 1, Train Loss Now: 0.45974040031433105\n",
      "Step: 2, Train Loss Now: 0.49286705255508423\n"
     ]
    },
    {
     "name": "stderr",
     "output_type": "stream",
     "text": [
      " 30%|███       | 3/10 [00:00<00:00, 26.76it/s]"
     ]
    },
    {
     "name": "stdout",
     "output_type": "stream",
     "text": [
      "Step: 3, Train Loss Now: 0.4721726179122925\n"
     ]
    },
    {
     "name": "stderr",
     "output_type": "stream",
     "text": [
      " 60%|██████    | 6/10 [00:00<00:00, 26.06it/s]"
     ]
    },
    {
     "name": "stdout",
     "output_type": "stream",
     "text": [
      "Step: 4, Train Loss Now: 0.43314968794584274\n",
      "Step: 5, Train Loss Now: 0.44810778498649595\n",
      "Step: 6, Train Loss Now: 0.44965414702892303\n",
      "Step: 7, Train Loss Now: 0.4082892579691751\n",
      "Step: 8, Train Loss Now: 0.4405391700565815\n"
     ]
    },
    {
     "name": "stderr",
     "output_type": "stream",
     "text": [
      "100%|██████████| 10/10 [00:00<00:00, 24.17it/s]\n"
     ]
    },
    {
     "name": "stdout",
     "output_type": "stream",
     "text": [
      "Step: 9, Train Loss Now: 0.4325432909859551\n",
      "Step: 10, Train Loss Now: 0.4378220111131668\n"
     ]
    },
    {
     "name": "stderr",
     "output_type": "stream",
     "text": [
      "100%|██████████| 2/2 [00:00<00:00, 71.67it/s]\n",
      " 30%|███       | 3/10 [00:00<00:00, 26.24it/s]"
     ]
    },
    {
     "name": "stdout",
     "output_type": "stream",
     "text": [
      "Step: 1, Train Loss Now: 0.5359897613525391\n",
      "Step: 2, Train Loss Now: 0.6225451827049255\n",
      "Step: 3, Train Loss Now: 0.4995926817258199\n",
      "Step: 4, Train Loss Now: 0.4719883054494858\n",
      "Step: 5, Train Loss Now: 0.4420097291469574\n",
      "Step: 6, Train Loss Now: 0.46368978917598724\n"
     ]
    },
    {
     "name": "stderr",
     "output_type": "stream",
     "text": [
      "100%|██████████| 10/10 [00:00<00:00, 29.52it/s]"
     ]
    },
    {
     "name": "stdout",
     "output_type": "stream",
     "text": [
      "Step: 7, Train Loss Now: 0.43206847991262165\n",
      "Step: 8, Train Loss Now: 0.41059987992048264\n",
      "Step: 9, Train Loss Now: 0.4209844006432427\n",
      "Step: 10, Train Loss Now: 0.43882474303245544\n"
     ]
    },
    {
     "name": "stderr",
     "output_type": "stream",
     "text": [
      "\n",
      "100%|██████████| 2/2 [00:00<00:00, 62.65it/s]\n",
      "  0%|          | 0/10 [00:00<?, ?it/s]"
     ]
    },
    {
     "name": "stdout",
     "output_type": "stream",
     "text": [
      "Step: 1, Train Loss Now: 0.3927866220474243\n"
     ]
    },
    {
     "name": "stderr",
     "output_type": "stream",
     "text": [
      " 60%|██████    | 6/10 [00:00<00:00, 26.32it/s]"
     ]
    },
    {
     "name": "stdout",
     "output_type": "stream",
     "text": [
      "Step: 2, Train Loss Now: 0.33278581500053406\n",
      "Step: 3, Train Loss Now: 0.3785400191942851\n",
      "Step: 4, Train Loss Now: 0.3772844672203064\n",
      "Step: 5, Train Loss Now: 0.40902745723724365\n",
      "Step: 6, Train Loss Now: 0.437943955262502\n",
      "Step: 7, Train Loss Now: 0.41736053568976267\n"
     ]
    },
    {
     "name": "stderr",
     "output_type": "stream",
     "text": [
      "100%|██████████| 10/10 [00:00<00:00, 26.72it/s]\n"
     ]
    },
    {
     "name": "stdout",
     "output_type": "stream",
     "text": [
      "Step: 8, Train Loss Now: 0.431598536670208\n",
      "Step: 9, Train Loss Now: 0.42450418406062657\n",
      "Step: 10, Train Loss Now: 0.4262955218553543\n"
     ]
    },
    {
     "name": "stderr",
     "output_type": "stream",
     "text": [
      "100%|██████████| 2/2 [00:00<00:00, 80.96it/s]\n",
      "  0%|          | 0/10 [00:00<?, ?it/s]"
     ]
    },
    {
     "name": "stdout",
     "output_type": "stream",
     "text": [
      "Step: 1, Train Loss Now: 0.4809858500957489\n"
     ]
    },
    {
     "name": "stderr",
     "output_type": "stream",
     "text": [
      " 30%|███       | 3/10 [00:00<00:00, 26.26it/s]"
     ]
    },
    {
     "name": "stdout",
     "output_type": "stream",
     "text": [
      "Step: 2, Train Loss Now: 0.4526791572570801\n",
      "Step: 3, Train Loss Now: 0.45202623804410297\n",
      "Step: 4, Train Loss Now: 0.4878029003739357\n",
      "Step: 5, Train Loss Now: 0.44434607625007627\n"
     ]
    },
    {
     "name": "stderr",
     "output_type": "stream",
     "text": [
      " 90%|█████████ | 9/10 [00:00<00:00, 24.80it/s]"
     ]
    },
    {
     "name": "stdout",
     "output_type": "stream",
     "text": [
      "Step: 6, Train Loss Now: 0.43169061839580536\n",
      "Step: 7, Train Loss Now: 0.43505230120250155\n",
      "Step: 8, Train Loss Now: 0.4523259699344635\n",
      "Step: 9, Train Loss Now: 0.4458110100693173\n"
     ]
    },
    {
     "name": "stderr",
     "output_type": "stream",
     "text": [
      "100%|██████████| 10/10 [00:00<00:00, 25.85it/s]\n"
     ]
    },
    {
     "name": "stdout",
     "output_type": "stream",
     "text": [
      "Step: 10, Train Loss Now: 0.4553394764661789\n"
     ]
    },
    {
     "name": "stderr",
     "output_type": "stream",
     "text": [
      "100%|██████████| 2/2 [00:00<00:00, 66.11it/s]\n",
      " 30%|███       | 3/10 [00:00<00:00, 26.89it/s]"
     ]
    },
    {
     "name": "stdout",
     "output_type": "stream",
     "text": [
      "Step: 1, Train Loss Now: 0.2318170666694641\n",
      "Step: 2, Train Loss Now: 0.345431387424469\n",
      "Step: 3, Train Loss Now: 0.4378821849822998\n",
      "Step: 4, Train Loss Now: 0.4224713295698166\n",
      "Step: 5, Train Loss Now: 0.40817333459854127\n",
      "Step: 6, Train Loss Now: 0.40981067220369977\n"
     ]
    },
    {
     "name": "stderr",
     "output_type": "stream",
     "text": [
      " 70%|███████   | 7/10 [00:00<00:00, 27.48it/s]"
     ]
    },
    {
     "name": "stdout",
     "output_type": "stream",
     "text": [
      "Step: 7, Train Loss Now: 0.4270422543798174\n",
      "Step: 8, Train Loss Now: 0.4560127705335617\n"
     ]
    },
    {
     "name": "stderr",
     "output_type": "stream",
     "text": [
      "100%|██████████| 10/10 [00:00<00:00, 28.15it/s]\n"
     ]
    },
    {
     "name": "stdout",
     "output_type": "stream",
     "text": [
      "Step: 9, Train Loss Now: 0.4861646360821194\n",
      "Step: 10, Train Loss Now: 0.4514008849859238\n"
     ]
    },
    {
     "name": "stderr",
     "output_type": "stream",
     "text": [
      "100%|██████████| 2/2 [00:00<00:00, 50.34it/s]\n",
      "  0%|          | 0/10 [00:00<?, ?it/s]"
     ]
    },
    {
     "name": "stdout",
     "output_type": "stream",
     "text": [
      "Step: 1, Train Loss Now: 0.42661893367767334"
     ]
    },
    {
     "name": "stderr",
     "output_type": "stream",
     "text": [
      " 30%|███       | 3/10 [00:00<00:00, 27.84it/s]"
     ]
    },
    {
     "name": "stdout",
     "output_type": "stream",
     "text": [
      "\n",
      "Step: 2, Train Loss Now: 0.4578142315149307\n",
      "Step: 3, Train Loss Now: 0.46588321526845294\n"
     ]
    },
    {
     "name": "stderr",
     "output_type": "stream",
     "text": [
      " 60%|██████    | 6/10 [00:00<00:00, 26.02it/s]"
     ]
    },
    {
     "name": "stdout",
     "output_type": "stream",
     "text": [
      "Step: 4, Train Loss Now: 0.4721020683646202\n",
      "Step: 5, Train Loss Now: 0.4905300199985504\n",
      "Step: 6, Train Loss Now: 0.45394529898961383\n",
      "Step: 7, Train Loss Now: 0.47561552694865633\n",
      "Step: 8, Train Loss Now: 0.48962607234716415\n"
     ]
    },
    {
     "name": "stderr",
     "output_type": "stream",
     "text": [
      "100%|██████████| 10/10 [00:00<00:00, 24.02it/s]\n"
     ]
    },
    {
     "name": "stdout",
     "output_type": "stream",
     "text": [
      "Step: 9, Train Loss Now: 0.4732898440625932\n",
      "Step: 10, Train Loss Now: 0.45859927237033843\n"
     ]
    },
    {
     "name": "stderr",
     "output_type": "stream",
     "text": [
      "100%|██████████| 2/2 [00:00<00:00, 84.07it/s]\n",
      "  0%|          | 0/10 [00:00<?, ?it/s]"
     ]
    },
    {
     "name": "stdout",
     "output_type": "stream",
     "text": [
      "Step: 1, Train Loss Now: 0.5005386471748352\n"
     ]
    },
    {
     "name": "stderr",
     "output_type": "stream",
     "text": [
      " 30%|███       | 3/10 [00:00<00:00, 28.61it/s]"
     ]
    },
    {
     "name": "stdout",
     "output_type": "stream",
     "text": [
      "Step: 2, Train Loss Now: 0.5350967645645142\n",
      "Step: 3, Train Loss Now: 0.5009240607420603\n"
     ]
    },
    {
     "name": "stderr",
     "output_type": "stream",
     "text": [
      " 60%|██████    | 6/10 [00:00<00:00, 26.67it/s]"
     ]
    },
    {
     "name": "stdout",
     "output_type": "stream",
     "text": [
      "Step: 4, Train Loss Now: 0.4539814218878746\n",
      "Step: 5, Train Loss Now: 0.4941292226314545\n",
      "Step: 6, Train Loss Now: 0.47603925069173175\n",
      "Step: 7, Train Loss Now: 0.4590131342411041\n"
     ]
    },
    {
     "name": "stderr",
     "output_type": "stream",
     "text": [
      " 90%|█████████ | 9/10 [00:00<00:00, 25.71it/s]"
     ]
    },
    {
     "name": "stdout",
     "output_type": "stream",
     "text": [
      "Step: 8, Train Loss Now: 0.4252182524651289\n",
      "Step: 9, Train Loss Now: 0.43468457294834983\n"
     ]
    },
    {
     "name": "stderr",
     "output_type": "stream",
     "text": [
      "100%|██████████| 10/10 [00:00<00:00, 26.04it/s]\n"
     ]
    },
    {
     "name": "stdout",
     "output_type": "stream",
     "text": [
      "Step: 10, Train Loss Now: 0.4336283549666405\n"
     ]
    },
    {
     "name": "stderr",
     "output_type": "stream",
     "text": [
      "100%|██████████| 2/2 [00:00<00:00, 68.96it/s]\n",
      "  0%|          | 0/10 [00:00<?, ?it/s]"
     ]
    },
    {
     "name": "stdout",
     "output_type": "stream",
     "text": [
      "Step: 1, Train Loss Now: 0.3134048581123352\n"
     ]
    },
    {
     "name": "stderr",
     "output_type": "stream",
     "text": [
      " 30%|███       | 3/10 [00:00<00:00, 26.84it/s]"
     ]
    },
    {
     "name": "stdout",
     "output_type": "stream",
     "text": [
      "Step: 2, Train Loss Now: 0.39711038768291473\n",
      "Step: 3, Train Loss Now: 0.3586595455805461\n",
      "Step: 4, Train Loss Now: 0.3861999809741974\n"
     ]
    },
    {
     "name": "stderr",
     "output_type": "stream",
     "text": [
      " 60%|██████    | 6/10 [00:00<00:00, 26.64it/s]"
     ]
    },
    {
     "name": "stdout",
     "output_type": "stream",
     "text": [
      "Step: 5, Train Loss Now: 0.4237126111984253\n",
      "Step: 6, Train Loss Now: 0.4151579588651657\n"
     ]
    },
    {
     "name": "stderr",
     "output_type": "stream",
     "text": [
      " 90%|█████████ | 9/10 [00:00<00:00, 22.81it/s]"
     ]
    },
    {
     "name": "stdout",
     "output_type": "stream",
     "text": [
      "Step: 7, Train Loss Now: 0.440818007503237\n",
      "Step: 8, Train Loss Now: 0.44854940846562386\n",
      "Step: 9, Train Loss Now: 0.4375002980232239\n"
     ]
    },
    {
     "name": "stderr",
     "output_type": "stream",
     "text": [
      "100%|██████████| 10/10 [00:00<00:00, 24.37it/s]\n"
     ]
    },
    {
     "name": "stdout",
     "output_type": "stream",
     "text": [
      "Step: 10, Train Loss Now: 0.4375805497169495\n"
     ]
    },
    {
     "name": "stderr",
     "output_type": "stream",
     "text": [
      "100%|██████████| 2/2 [00:00<00:00, 80.22it/s]\n",
      "  0%|          | 0/10 [00:00<?, ?it/s]"
     ]
    },
    {
     "name": "stdout",
     "output_type": "stream",
     "text": [
      "Step: 1, Train Loss Now: 0.3425315022468567\n",
      "Step: 2, Train Loss Now: 0.45189186930656433\n"
     ]
    },
    {
     "name": "stderr",
     "output_type": "stream",
     "text": [
      " 30%|███       | 3/10 [00:00<00:00, 28.29it/s]"
     ]
    },
    {
     "name": "stdout",
     "output_type": "stream",
     "text": [
      "Step: 3, Train Loss Now: 0.43094387650489807\n",
      "Step: 4, Train Loss Now: 0.43781331926584244\n",
      "Step: 5, Train Loss Now: 0.4315574824810028\n"
     ]
    },
    {
     "name": "stderr",
     "output_type": "stream",
     "text": [
      " 60%|██████    | 6/10 [00:00<00:00, 28.28it/s]"
     ]
    },
    {
     "name": "stdout",
     "output_type": "stream",
     "text": [
      "Step: 6, Train Loss Now: 0.42832914491494495\n",
      "Step: 7, Train Loss Now: 0.4093684894698007\n"
     ]
    },
    {
     "name": "stderr",
     "output_type": "stream",
     "text": [
      "100%|██████████| 10/10 [00:00<00:00, 24.79it/s]"
     ]
    },
    {
     "name": "stdout",
     "output_type": "stream",
     "text": [
      "Step: 8, Train Loss Now: 0.4394059330224991\n",
      "Step: 9, Train Loss Now: 0.42950957351260716\n",
      "Step: 10, Train Loss Now: 0.3972986124455929\n"
     ]
    },
    {
     "name": "stderr",
     "output_type": "stream",
     "text": [
      "\n",
      "100%|██████████| 2/2 [00:00<00:00, 53.61it/s]\n",
      "  0%|          | 0/10 [00:00<?, ?it/s]"
     ]
    },
    {
     "name": "stdout",
     "output_type": "stream",
     "text": [
      "Step: 1, Train Loss Now: 0.32708922028541565\n",
      "Step: 2, Train Loss Now: 0.373630553483963\n"
     ]
    },
    {
     "name": "stderr",
     "output_type": "stream",
     "text": [
      " 40%|████      | 4/10 [00:00<00:00, 27.78it/s]"
     ]
    },
    {
     "name": "stdout",
     "output_type": "stream",
     "text": [
      "Step: 3, Train Loss Now: 0.3781083921591441\n",
      "Step: 4, Train Loss Now: 0.4604531601071358\n",
      "Step: 5, Train Loss Now: 0.4053976684808731\n"
     ]
    },
    {
     "name": "stderr",
     "output_type": "stream",
     "text": [
      " 70%|███████   | 7/10 [00:00<00:00, 26.22it/s]"
     ]
    },
    {
     "name": "stdout",
     "output_type": "stream",
     "text": [
      "Step: 6, Train Loss Now: 0.4223545715212822\n",
      "Step: 7, Train Loss Now: 0.4309937634638378\n"
     ]
    },
    {
     "name": "stderr",
     "output_type": "stream",
     "text": [
      "100%|██████████| 10/10 [00:00<00:00, 25.80it/s]\n"
     ]
    },
    {
     "name": "stdout",
     "output_type": "stream",
     "text": [
      "Step: 8, Train Loss Now: 0.41857594437897205\n",
      "Step: 9, Train Loss Now: 0.42683105833000606\n",
      "Step: 10, Train Loss Now: 0.454644201695919\n"
     ]
    },
    {
     "name": "stderr",
     "output_type": "stream",
     "text": [
      "100%|██████████| 2/2 [00:00<00:00, 60.41it/s]\n",
      "  0%|          | 0/10 [00:00<?, ?it/s]"
     ]
    },
    {
     "name": "stdout",
     "output_type": "stream",
     "text": [
      "Step: 1, Train Loss Now: 0.4996179938316345\n",
      "Step: 2, Train Loss Now: 0.43473826348781586\n"
     ]
    },
    {
     "name": "stderr",
     "output_type": "stream",
     "text": [
      " 60%|██████    | 6/10 [00:00<00:00, 28.01it/s]"
     ]
    },
    {
     "name": "stdout",
     "output_type": "stream",
     "text": [
      "Step: 3, Train Loss Now: 0.4363805154959361\n",
      "Step: 4, Train Loss Now: 0.42653926461935043\n",
      "Step: 5, Train Loss Now: 0.4463489711284637\n",
      "Step: 6, Train Loss Now: 0.4311471035083135\n",
      "Step: 7, Train Loss Now: 0.4352018748010908\n",
      "Step: 8, Train Loss Now: 0.4467124864459038\n"
     ]
    },
    {
     "name": "stderr",
     "output_type": "stream",
     "text": [
      "100%|██████████| 10/10 [00:00<00:00, 24.97it/s]\n"
     ]
    },
    {
     "name": "stdout",
     "output_type": "stream",
     "text": [
      "Step: 9, Train Loss Now: 0.41723673542340595\n",
      "Step: 10, Train Loss Now: 0.4494005173444748\n"
     ]
    },
    {
     "name": "stderr",
     "output_type": "stream",
     "text": [
      "100%|██████████| 2/2 [00:00<00:00, 74.27it/s]\n",
      " 40%|████      | 4/10 [00:00<00:00, 30.30it/s]"
     ]
    },
    {
     "name": "stdout",
     "output_type": "stream",
     "text": [
      "Step: 1, Train Loss Now: 0.3530678153038025\n",
      "Step: 2, Train Loss Now: 0.4000728279352188\n",
      "Step: 3, Train Loss Now: 0.4159139394760132\n",
      "Step: 4, Train Loss Now: 0.41336243599653244\n",
      "Step: 5, Train Loss Now: 0.42334782481193545\n"
     ]
    },
    {
     "name": "stderr",
     "output_type": "stream",
     "text": [
      " 80%|████████  | 8/10 [00:00<00:00, 25.22it/s]"
     ]
    },
    {
     "name": "stdout",
     "output_type": "stream",
     "text": [
      "Step: 6, Train Loss Now: 0.4124142974615097\n",
      "Step: 7, Train Loss Now: 0.4266264055456434\n",
      "Step: 8, Train Loss Now: 0.43592194095253944\n",
      "Step: 9, Train Loss Now: 0.4552968177530501\n"
     ]
    },
    {
     "name": "stderr",
     "output_type": "stream",
     "text": [
      "100%|██████████| 10/10 [00:00<00:00, 25.82it/s]\n"
     ]
    },
    {
     "name": "stdout",
     "output_type": "stream",
     "text": [
      "Step: 10, Train Loss Now: 0.43545515835285187\n"
     ]
    },
    {
     "name": "stderr",
     "output_type": "stream",
     "text": [
      "100%|██████████| 2/2 [00:00<00:00, 64.19it/s]\n",
      " 30%|███       | 3/10 [00:00<00:00, 27.61it/s]"
     ]
    },
    {
     "name": "stdout",
     "output_type": "stream",
     "text": [
      "Step: 1, Train Loss Now: 0.3651719391345978\n",
      "Step: 2, Train Loss Now: 0.3762303739786148\n",
      "Step: 3, Train Loss Now: 0.388839989900589\n",
      "Step: 4, Train Loss Now: 0.3834425061941147\n"
     ]
    },
    {
     "name": "stderr",
     "output_type": "stream",
     "text": [
      " 70%|███████   | 7/10 [00:00<00:00, 30.76it/s]"
     ]
    },
    {
     "name": "stdout",
     "output_type": "stream",
     "text": [
      "Step: 5, Train Loss Now: 0.36007230877876284\n",
      "Step: 6, Train Loss Now: 0.3603231559197108\n",
      "Step: 7, Train Loss Now: 0.396377227136067\n"
     ]
    },
    {
     "name": "stderr",
     "output_type": "stream",
     "text": [
      "100%|██████████| 10/10 [00:00<00:00, 28.81it/s]\n"
     ]
    },
    {
     "name": "stdout",
     "output_type": "stream",
     "text": [
      "Step: 8, Train Loss Now: 0.4122367538511753\n",
      "Step: 9, Train Loss Now: 0.41907595925860935\n",
      "Step: 10, Train Loss Now: 0.4164089739322662\n"
     ]
    },
    {
     "name": "stderr",
     "output_type": "stream",
     "text": [
      "100%|██████████| 2/2 [00:00<00:00, 95.50it/s]\n",
      "  0%|          | 0/10 [00:00<?, ?it/s]"
     ]
    },
    {
     "name": "stdout",
     "output_type": "stream",
     "text": [
      "Step: 1, Train Loss Now: 0.3710891008377075\n",
      "Step: 2, Train Loss Now: 0.39900869131088257\n"
     ]
    },
    {
     "name": "stderr",
     "output_type": "stream",
     "text": [
      " 60%|██████    | 6/10 [00:00<00:00, 29.04it/s]"
     ]
    },
    {
     "name": "stdout",
     "output_type": "stream",
     "text": [
      "Step: 3, Train Loss Now: 0.42445939779281616\n",
      "Step: 4, Train Loss Now: 0.4024593085050583\n",
      "Step: 5, Train Loss Now: 0.3905571162700653\n",
      "Step: 6, Train Loss Now: 0.3988194912672043\n",
      "Step: 7, Train Loss Now: 0.43331474491528105\n"
     ]
    },
    {
     "name": "stderr",
     "output_type": "stream",
     "text": [
      "100%|██████████| 10/10 [00:00<00:00, 26.23it/s]\n"
     ]
    },
    {
     "name": "stdout",
     "output_type": "stream",
     "text": [
      "Step: 8, Train Loss Now: 0.42986537143588066\n",
      "Step: 9, Train Loss Now: 0.45899947153197396\n",
      "Step: 10, Train Loss Now: 0.48865906298160555\n"
     ]
    },
    {
     "name": "stderr",
     "output_type": "stream",
     "text": [
      "100%|██████████| 2/2 [00:00<00:00, 57.79it/s]\n",
      "  0%|          | 0/10 [00:00<?, ?it/s]"
     ]
    },
    {
     "name": "stdout",
     "output_type": "stream",
     "text": [
      "Step: 1, Train Loss Now: 0.4195637106895447\n",
      "Step: 2, Train Loss Now: 0.3438388258218765\n"
     ]
    },
    {
     "name": "stderr",
     "output_type": "stream",
     "text": [
      " 60%|██████    | 6/10 [00:00<00:00, 25.85it/s]"
     ]
    },
    {
     "name": "stdout",
     "output_type": "stream",
     "text": [
      "Step: 3, Train Loss Now: 0.3528849383195241\n",
      "Step: 4, Train Loss Now: 0.33854328095912933\n",
      "Step: 5, Train Loss Now: 0.3416603744029999\n",
      "Step: 6, Train Loss Now: 0.3366254965464274\n",
      "Step: 7, Train Loss Now: 0.3794760022844587\n",
      "Step: 8, Train Loss Now: 0.3934078551828861\n"
     ]
    },
    {
     "name": "stderr",
     "output_type": "stream",
     "text": [
      "100%|██████████| 10/10 [00:00<00:00, 26.87it/s]\n"
     ]
    },
    {
     "name": "stdout",
     "output_type": "stream",
     "text": [
      "Step: 9, Train Loss Now: 0.4184650679429372\n",
      "Step: 10, Train Loss Now: 0.42400108873844145\n"
     ]
    },
    {
     "name": "stderr",
     "output_type": "stream",
     "text": [
      "100%|██████████| 2/2 [00:00<00:00, 80.21it/s]\n",
      " 20%|██        | 2/10 [00:00<00:00, 17.87it/s]"
     ]
    },
    {
     "name": "stdout",
     "output_type": "stream",
     "text": [
      "Step: 1, Train Loss Now: 0.28424397110939026\n",
      "Step: 2, Train Loss Now: 0.39073020219802856\n"
     ]
    },
    {
     "name": "stderr",
     "output_type": "stream",
     "text": [
      " 50%|█████     | 5/10 [00:00<00:00, 24.46it/s]"
     ]
    },
    {
     "name": "stdout",
     "output_type": "stream",
     "text": [
      "Step: 3, Train Loss Now: 0.45740703741709393\n",
      "Step: 4, Train Loss Now: 0.4214859902858734\n",
      "Step: 5, Train Loss Now: 0.42948645949363706\n",
      "Step: 6, Train Loss Now: 0.4249691267808278\n"
     ]
    },
    {
     "name": "stderr",
     "output_type": "stream",
     "text": [
      " 80%|████████  | 8/10 [00:00<00:00, 26.84it/s]"
     ]
    },
    {
     "name": "stdout",
     "output_type": "stream",
     "text": [
      "Step: 7, Train Loss Now: 0.4574172667094639\n",
      "Step: 8, Train Loss Now: 0.4485442489385605\n",
      "Step: 9, Train Loss Now: 0.44949496454662746\n"
     ]
    },
    {
     "name": "stderr",
     "output_type": "stream",
     "text": [
      "100%|██████████| 10/10 [00:00<00:00, 26.40it/s]\n"
     ]
    },
    {
     "name": "stdout",
     "output_type": "stream",
     "text": [
      "Step: 10, Train Loss Now: 0.46348410844802856\n"
     ]
    },
    {
     "name": "stderr",
     "output_type": "stream",
     "text": [
      "100%|██████████| 2/2 [00:00<00:00, 73.08it/s]\n",
      "  0%|          | 0/10 [00:00<?, ?it/s]"
     ]
    },
    {
     "name": "stdout",
     "output_type": "stream",
     "text": [
      "Step: 1, Train Loss Now: 0.22329449653625488\n"
     ]
    },
    {
     "name": "stderr",
     "output_type": "stream",
     "text": [
      " 30%|███       | 3/10 [00:00<00:00, 23.24it/s]"
     ]
    },
    {
     "name": "stdout",
     "output_type": "stream",
     "text": [
      "Step: 2, Train Loss Now: 0.4153846800327301\n",
      "Step: 3, Train Loss Now: 0.41017385323842365\n",
      "Step: 4, Train Loss Now: 0.4334130138158798\n",
      "Step: 5, Train Loss Now: 0.43649415373802186\n"
     ]
    },
    {
     "name": "stderr",
     "output_type": "stream",
     "text": [
      " 60%|██████    | 6/10 [00:00<00:00, 23.28it/s]"
     ]
    },
    {
     "name": "stdout",
     "output_type": "stream",
     "text": [
      "Step: 6, Train Loss Now: 0.4373040050268173\n"
     ]
    },
    {
     "name": "stderr",
     "output_type": "stream",
     "text": [
      " 90%|█████████ | 9/10 [00:00<00:00, 24.07it/s]"
     ]
    },
    {
     "name": "stdout",
     "output_type": "stream",
     "text": [
      "Step: 7, Train Loss Now: 0.45786669850349426\n",
      "Step: 8, Train Loss Now: 0.4574936479330063\n",
      "Step: 9, Train Loss Now: 0.4745829105377197\n"
     ]
    },
    {
     "name": "stderr",
     "output_type": "stream",
     "text": [
      "100%|██████████| 10/10 [00:00<00:00, 24.74it/s]\n"
     ]
    },
    {
     "name": "stdout",
     "output_type": "stream",
     "text": [
      "Step: 10, Train Loss Now: 0.4475656822323799\n"
     ]
    },
    {
     "name": "stderr",
     "output_type": "stream",
     "text": [
      "100%|██████████| 2/2 [00:00<00:00, 55.22it/s]\n",
      "  0%|          | 0/10 [00:00<?, ?it/s]"
     ]
    },
    {
     "name": "stdout",
     "output_type": "stream",
     "text": [
      "Step: 1, Train Loss Now: 0.34965717792510986\n"
     ]
    },
    {
     "name": "stderr",
     "output_type": "stream",
     "text": [
      " 30%|███       | 3/10 [00:00<00:00, 29.22it/s]"
     ]
    },
    {
     "name": "stdout",
     "output_type": "stream",
     "text": [
      "Step: 2, Train Loss Now: 0.4031917452812195\n",
      "Step: 3, Train Loss Now: 0.4085892339547475\n"
     ]
    },
    {
     "name": "stderr",
     "output_type": "stream",
     "text": [
      " 60%|██████    | 6/10 [00:00<00:00, 26.77it/s]"
     ]
    },
    {
     "name": "stdout",
     "output_type": "stream",
     "text": [
      "Step: 4, Train Loss Now: 0.3964906558394432\n",
      "Step: 5, Train Loss Now: 0.3899764120578766\n",
      "Step: 6, Train Loss Now: 0.38900161782900494\n",
      "Step: 7, Train Loss Now: 0.3974281592028482\n"
     ]
    },
    {
     "name": "stderr",
     "output_type": "stream",
     "text": [
      " 90%|█████████ | 9/10 [00:00<00:00, 24.58it/s]"
     ]
    },
    {
     "name": "stdout",
     "output_type": "stream",
     "text": [
      "Step: 8, Train Loss Now: 0.4052468128502369\n",
      "Step: 9, Train Loss Now: 0.4031806058353848\n"
     ]
    },
    {
     "name": "stderr",
     "output_type": "stream",
     "text": [
      "100%|██████████| 10/10 [00:00<00:00, 25.65it/s]\n"
     ]
    },
    {
     "name": "stdout",
     "output_type": "stream",
     "text": [
      "Step: 10, Train Loss Now: 0.4230493366718292\n"
     ]
    },
    {
     "name": "stderr",
     "output_type": "stream",
     "text": [
      "100%|██████████| 2/2 [00:00<00:00, 59.96it/s]\n",
      "  0%|          | 0/10 [00:00<?, ?it/s]"
     ]
    },
    {
     "name": "stdout",
     "output_type": "stream",
     "text": [
      "Step: 1, Train Loss Now: 0.4177356958389282\n"
     ]
    },
    {
     "name": "stderr",
     "output_type": "stream",
     "text": [
      " 30%|███       | 3/10 [00:00<00:00, 28.66it/s]"
     ]
    },
    {
     "name": "stdout",
     "output_type": "stream",
     "text": [
      "Step: 2, Train Loss Now: 0.5084875822067261\n",
      "Step: 3, Train Loss Now: 0.46399441361427307\n",
      "Step: 4, Train Loss Now: 0.4421864002943039\n",
      "Step: 5, Train Loss Now: 0.4472607433795929\n"
     ]
    },
    {
     "name": "stderr",
     "output_type": "stream",
     "text": [
      " 60%|██████    | 6/10 [00:00<00:00, 27.23it/s]"
     ]
    },
    {
     "name": "stdout",
     "output_type": "stream",
     "text": [
      "Step: 6, Train Loss Now: 0.4228333483139674\n",
      "Step: 7, Train Loss Now: 0.4341965104852404\n"
     ]
    },
    {
     "name": "stderr",
     "output_type": "stream",
     "text": [
      " 90%|█████████ | 9/10 [00:00<00:00, 27.98it/s]"
     ]
    },
    {
     "name": "stdout",
     "output_type": "stream",
     "text": [
      "Step: 8, Train Loss Now: 0.42557981610298157\n",
      "Step: 9, Train Loss Now: 0.40831586056285435\n"
     ]
    },
    {
     "name": "stderr",
     "output_type": "stream",
     "text": [
      "100%|██████████| 10/10 [00:00<00:00, 25.17it/s]\n"
     ]
    },
    {
     "name": "stdout",
     "output_type": "stream",
     "text": [
      "Step: 10, Train Loss Now: 0.43441820442676543\n"
     ]
    },
    {
     "name": "stderr",
     "output_type": "stream",
     "text": [
      "100%|██████████| 2/2 [00:00<00:00, 66.79it/s]\n",
      "  0%|          | 0/10 [00:00<?, ?it/s]"
     ]
    },
    {
     "name": "stdout",
     "output_type": "stream",
     "text": [
      "Step: 1, Train Loss Now: 0.3400331139564514\n"
     ]
    },
    {
     "name": "stderr",
     "output_type": "stream",
     "text": [
      " 30%|███       | 3/10 [00:00<00:00, 23.96it/s]"
     ]
    },
    {
     "name": "stdout",
     "output_type": "stream",
     "text": [
      "Step: 2, Train Loss Now: 0.33495205640792847\n",
      "Step: 3, Train Loss Now: 0.4187621871630351\n",
      "Step: 4, Train Loss Now: 0.3938974291086197\n"
     ]
    },
    {
     "name": "stderr",
     "output_type": "stream",
     "text": [
      " 60%|██████    | 6/10 [00:00<00:00, 26.17it/s]"
     ]
    },
    {
     "name": "stdout",
     "output_type": "stream",
     "text": [
      "Step: 5, Train Loss Now: 0.39369800090789797\n",
      "Step: 6, Train Loss Now: 0.39738498628139496\n",
      "Step: 7, Train Loss Now: 0.40432814615113394\n"
     ]
    },
    {
     "name": "stderr",
     "output_type": "stream",
     "text": [
      "100%|██████████| 10/10 [00:00<00:00, 27.27it/s]\n"
     ]
    },
    {
     "name": "stdout",
     "output_type": "stream",
     "text": [
      "Step: 8, Train Loss Now: 0.4249926917254925\n",
      "Step: 9, Train Loss Now: 0.4257525967227088\n",
      "Step: 10, Train Loss Now: 0.42742472887039185\n"
     ]
    },
    {
     "name": "stderr",
     "output_type": "stream",
     "text": [
      "100%|██████████| 2/2 [00:00<00:00, 61.12it/s]\n",
      "  0%|          | 0/10 [00:00<?, ?it/s]"
     ]
    },
    {
     "name": "stdout",
     "output_type": "stream",
     "text": [
      "Step: 1, Train Loss Now: 0.4405394494533539\n",
      "Step: 2, Train Loss Now: 0.46299824118614197\n"
     ]
    },
    {
     "name": "stderr",
     "output_type": "stream",
     "text": [
      " 30%|███       | 3/10 [00:00<00:00, 27.89it/s]"
     ]
    },
    {
     "name": "stdout",
     "output_type": "stream",
     "text": [
      "Step: 3, Train Loss Now: 0.4369203547636668\n"
     ]
    },
    {
     "name": "stderr",
     "output_type": "stream",
     "text": [
      " 60%|██████    | 6/10 [00:00<00:00, 28.52it/s]"
     ]
    },
    {
     "name": "stdout",
     "output_type": "stream",
     "text": [
      "Step: 4, Train Loss Now: 0.3978746384382248\n",
      "Step: 5, Train Loss Now: 0.4302614688873291\n",
      "Step: 6, Train Loss Now: 0.4784243901570638\n",
      "Step: 7, Train Loss Now: 0.44994754024914335\n",
      "Step: 8, Train Loss Now: 0.466568510979414\n"
     ]
    },
    {
     "name": "stderr",
     "output_type": "stream",
     "text": [
      " 90%|█████████ | 9/10 [00:00<00:00, 28.78it/s]"
     ]
    },
    {
     "name": "stdout",
     "output_type": "stream",
     "text": [
      "Step: 9, Train Loss Now: 0.4634709490670098\n"
     ]
    },
    {
     "name": "stderr",
     "output_type": "stream",
     "text": [
      "100%|██████████| 10/10 [00:00<00:00, 28.56it/s]\n"
     ]
    },
    {
     "name": "stdout",
     "output_type": "stream",
     "text": [
      "Step: 10, Train Loss Now: 0.45381022691726686\n"
     ]
    },
    {
     "name": "stderr",
     "output_type": "stream",
     "text": [
      "100%|██████████| 2/2 [00:00<00:00, 87.19it/s]\n",
      " 20%|██        | 2/10 [00:00<00:00, 17.54it/s]"
     ]
    },
    {
     "name": "stdout",
     "output_type": "stream",
     "text": [
      "Step: 1, Train Loss Now: 0.7686913013458252\n",
      "Step: 2, Train Loss Now: 0.5807410776615143\n"
     ]
    },
    {
     "name": "stderr",
     "output_type": "stream",
     "text": [
      " 50%|█████     | 5/10 [00:00<00:00, 22.70it/s]"
     ]
    },
    {
     "name": "stdout",
     "output_type": "stream",
     "text": [
      "Step: 3, Train Loss Now: 0.5584443211555481\n",
      "Step: 4, Train Loss Now: 0.5545855015516281\n",
      "Step: 5, Train Loss Now: 0.5012916326522827\n",
      "Step: 6, Train Loss Now: 0.47373267511526745\n"
     ]
    },
    {
     "name": "stderr",
     "output_type": "stream",
     "text": [
      " 80%|████████  | 8/10 [00:00<00:00, 24.39it/s]"
     ]
    },
    {
     "name": "stdout",
     "output_type": "stream",
     "text": [
      "Step: 7, Train Loss Now: 0.4615783095359802\n",
      "Step: 8, Train Loss Now: 0.45677823200821877\n",
      "Step: 9, Train Loss Now: 0.4408750534057617\n"
     ]
    },
    {
     "name": "stderr",
     "output_type": "stream",
     "text": [
      "100%|██████████| 10/10 [00:00<00:00, 25.18it/s]\n"
     ]
    },
    {
     "name": "stdout",
     "output_type": "stream",
     "text": [
      "Step: 10, Train Loss Now: 0.43212960064411166\n"
     ]
    },
    {
     "name": "stderr",
     "output_type": "stream",
     "text": [
      "100%|██████████| 2/2 [00:00<00:00, 80.21it/s]\n",
      "  0%|          | 0/10 [00:00<?, ?it/s]"
     ]
    },
    {
     "name": "stdout",
     "output_type": "stream",
     "text": [
      "Step: 1, Train Loss Now: 0.44174477458000183\n",
      "Step: 2, Train Loss Now: 0.5653377324342728\n"
     ]
    },
    {
     "name": "stderr",
     "output_type": "stream",
     "text": [
      " 30%|███       | 3/10 [00:00<00:00, 29.83it/s]"
     ]
    },
    {
     "name": "stdout",
     "output_type": "stream",
     "text": [
      "Step: 3, Train Loss Now: 0.5479274292786916\n",
      "Step: 4, Train Loss Now: 0.5020311400294304\n",
      "Step: 5, Train Loss Now: 0.4822345495223999\n"
     ]
    },
    {
     "name": "stderr",
     "output_type": "stream",
     "text": [
      " 60%|██████    | 6/10 [00:00<00:00, 29.20it/s]"
     ]
    },
    {
     "name": "stdout",
     "output_type": "stream",
     "text": [
      "Step: 6, Train Loss Now: 0.4751494228839874\n",
      "Step: 7, Train Loss Now: 0.4623275654656546\n",
      "Step: 8, Train Loss Now: 0.45853742212057114\n"
     ]
    },
    {
     "name": "stderr",
     "output_type": "stream",
     "text": [
      "100%|██████████| 10/10 [00:00<00:00, 29.68it/s]\n"
     ]
    },
    {
     "name": "stdout",
     "output_type": "stream",
     "text": [
      "Step: 9, Train Loss Now: 0.4632383916113112\n",
      "Step: 10, Train Loss Now: 0.4454972743988037\n"
     ]
    },
    {
     "name": "stderr",
     "output_type": "stream",
     "text": [
      "100%|██████████| 2/2 [00:00<00:00, 81.94it/s]\n",
      "  0%|          | 0/10 [00:00<?, ?it/s]"
     ]
    },
    {
     "name": "stdout",
     "output_type": "stream",
     "text": [
      "Step: 1, Train Loss Now: 0.409931480884552\n",
      "Step: 2, Train Loss Now: 0.4392213076353073\n"
     ]
    },
    {
     "name": "stderr",
     "output_type": "stream",
     "text": [
      " 30%|███       | 3/10 [00:00<00:00, 27.71it/s]"
     ]
    },
    {
     "name": "stdout",
     "output_type": "stream",
     "text": [
      "Step: 3, Train Loss Now: 0.39452693859736127\n"
     ]
    },
    {
     "name": "stderr",
     "output_type": "stream",
     "text": [
      " 60%|██████    | 6/10 [00:00<00:00, 27.25it/s]"
     ]
    },
    {
     "name": "stdout",
     "output_type": "stream",
     "text": [
      "Step: 4, Train Loss Now: 0.4043635353446007\n",
      "Step: 5, Train Loss Now: 0.4046225666999817\n",
      "Step: 6, Train Loss Now: 0.3871706823507945\n",
      "Step: 7, Train Loss Now: 0.3964407742023468\n"
     ]
    },
    {
     "name": "stderr",
     "output_type": "stream",
     "text": [
      "100%|██████████| 10/10 [00:00<00:00, 24.12it/s]\n"
     ]
    },
    {
     "name": "stdout",
     "output_type": "stream",
     "text": [
      "Step: 8, Train Loss Now: 0.38996588811278343\n",
      "Step: 9, Train Loss Now: 0.4090980390707652\n",
      "Step: 10, Train Loss Now: 0.4388554722070694\n"
     ]
    },
    {
     "name": "stderr",
     "output_type": "stream",
     "text": [
      "100%|██████████| 2/2 [00:00<00:00, 68.51it/s]\n",
      "  0%|          | 0/10 [00:00<?, ?it/s]"
     ]
    },
    {
     "name": "stdout",
     "output_type": "stream",
     "text": [
      "Step: 1, Train Loss Now: 0.6458376049995422\n",
      "Step: 2, Train Loss Now: 0.590276837348938\n"
     ]
    },
    {
     "name": "stderr",
     "output_type": "stream",
     "text": [
      " 30%|███       | 3/10 [00:00<00:00, 24.82it/s]"
     ]
    },
    {
     "name": "stdout",
     "output_type": "stream",
     "text": [
      "Step: 3, Train Loss Now: 0.4875440796216329\n",
      "Step: 4, Train Loss Now: 0.4925890266895294\n",
      "Step: 5, Train Loss Now: 0.45323785543441775\n",
      "Step: 6, Train Loss Now: 0.46797240773836773\n"
     ]
    },
    {
     "name": "stderr",
     "output_type": "stream",
     "text": [
      " 60%|██████    | 6/10 [00:00<00:00, 27.61it/s]"
     ]
    },
    {
     "name": "stdout",
     "output_type": "stream",
     "text": [
      "Step: 7, Train Loss Now: 0.4396166886602129\n",
      "Step: 8, Train Loss Now: 0.43041445687413216\n"
     ]
    },
    {
     "name": "stderr",
     "output_type": "stream",
     "text": [
      "100%|██████████| 10/10 [00:00<00:00, 27.50it/s]\n"
     ]
    },
    {
     "name": "stdout",
     "output_type": "stream",
     "text": [
      "Step: 9, Train Loss Now: 0.42120351394017536\n",
      "Step: 10, Train Loss Now: 0.4455542922019958\n"
     ]
    },
    {
     "name": "stderr",
     "output_type": "stream",
     "text": [
      "100%|██████████| 2/2 [00:00<00:00, 83.60it/s]\n",
      "  0%|          | 0/10 [00:00<?, ?it/s]"
     ]
    },
    {
     "name": "stdout",
     "output_type": "stream",
     "text": [
      "Step: 1, Train Loss Now: 0.43576595187187195\n",
      "Step: 2, Train Loss Now: 0.5426203459501266\n"
     ]
    },
    {
     "name": "stderr",
     "output_type": "stream",
     "text": [
      " 30%|███       | 3/10 [00:00<00:00, 25.75it/s]"
     ]
    },
    {
     "name": "stdout",
     "output_type": "stream",
     "text": [
      "Step: 3, Train Loss Now: 0.4669390221436818\n",
      "Step: 4, Train Loss Now: 0.5283734872937202\n"
     ]
    },
    {
     "name": "stderr",
     "output_type": "stream",
     "text": [
      " 60%|██████    | 6/10 [00:00<00:00, 27.12it/s]"
     ]
    },
    {
     "name": "stdout",
     "output_type": "stream",
     "text": [
      "Step: 5, Train Loss Now: 0.48063177466392515\n",
      "Step: 6, Train Loss Now: 0.4648739496866862\n",
      "Step: 7, Train Loss Now: 0.4589096350329263\n",
      "Step: 8, Train Loss Now: 0.4880240969359875\n"
     ]
    },
    {
     "name": "stderr",
     "output_type": "stream",
     "text": [
      "100%|██████████| 10/10 [00:00<00:00, 25.97it/s]"
     ]
    },
    {
     "name": "stdout",
     "output_type": "stream",
     "text": [
      "Step: 9, Train Loss Now: 0.44868673880894977\n",
      "Step: 10, Train Loss Now: 0.4505314528942108\n"
     ]
    },
    {
     "name": "stderr",
     "output_type": "stream",
     "text": [
      "\n",
      "100%|██████████| 2/2 [00:00<00:00, 26.27it/s]\n",
      "  0%|          | 0/10 [00:00<?, ?it/s]"
     ]
    },
    {
     "name": "stdout",
     "output_type": "stream",
     "text": [
      "Step: 1, Train Loss Now: 0.45073074102401733\n",
      "Step: 2, Train Loss Now: 0.3864598870277405\n"
     ]
    },
    {
     "name": "stderr",
     "output_type": "stream",
     "text": [
      " 30%|███       | 3/10 [00:00<00:00, 23.78it/s]"
     ]
    },
    {
     "name": "stdout",
     "output_type": "stream",
     "text": [
      "Step: 3, Train Loss Now: 0.3491516908009847\n",
      "Step: 4, Train Loss Now: 0.3626520186662674\n",
      "Step: 5, Train Loss Now: 0.38817464709281924\n"
     ]
    },
    {
     "name": "stderr",
     "output_type": "stream",
     "text": [
      " 60%|██████    | 6/10 [00:00<00:00, 23.15it/s]"
     ]
    },
    {
     "name": "stdout",
     "output_type": "stream",
     "text": [
      "Step: 6, Train Loss Now: 0.38363250096638996\n",
      "Step: 7, Train Loss Now: 0.38597229548863005\n",
      "Step: 8, Train Loss Now: 0.38788173347711563\n"
     ]
    },
    {
     "name": "stderr",
     "output_type": "stream",
     "text": [
      "100%|██████████| 10/10 [00:00<00:00, 25.22it/s]\n"
     ]
    },
    {
     "name": "stdout",
     "output_type": "stream",
     "text": [
      "Step: 9, Train Loss Now: 0.3996985223558214\n",
      "Step: 10, Train Loss Now: 0.4001710504293442\n"
     ]
    },
    {
     "name": "stderr",
     "output_type": "stream",
     "text": [
      "100%|██████████| 2/2 [00:00<00:00, 82.33it/s]\n",
      "  0%|          | 0/10 [00:00<?, ?it/s]"
     ]
    },
    {
     "name": "stdout",
     "output_type": "stream",
     "text": [
      "Step: 1, Train Loss Now: 0.4869495630264282\n",
      "Step: 2, Train Loss Now: 0.40483206510543823\n"
     ]
    },
    {
     "name": "stderr",
     "output_type": "stream",
     "text": [
      " 30%|███       | 3/10 [00:00<00:00, 25.92it/s]"
     ]
    },
    {
     "name": "stdout",
     "output_type": "stream",
     "text": [
      "Step: 3, Train Loss Now: 0.4212076465288798\n"
     ]
    },
    {
     "name": "stderr",
     "output_type": "stream",
     "text": [
      " 70%|███████   | 7/10 [00:00<00:00, 29.81it/s]"
     ]
    },
    {
     "name": "stdout",
     "output_type": "stream",
     "text": [
      "Step: 4, Train Loss Now: 0.4353480637073517\n",
      "Step: 5, Train Loss Now: 0.46204833984375\n",
      "Step: 6, Train Loss Now: 0.4641534785429637\n",
      "Step: 7, Train Loss Now: 0.44157459906169344\n",
      "Step: 8, Train Loss Now: 0.4336377866566181\n",
      "Step: 9, Train Loss Now: 0.4229114353656769\n"
     ]
    },
    {
     "name": "stderr",
     "output_type": "stream",
     "text": [
      "100%|██████████| 10/10 [00:00<00:00, 30.05it/s]\n"
     ]
    },
    {
     "name": "stdout",
     "output_type": "stream",
     "text": [
      "Step: 10, Train Loss Now: 0.43602450788021085\n"
     ]
    },
    {
     "name": "stderr",
     "output_type": "stream",
     "text": [
      "100%|██████████| 2/2 [00:00<00:00, 78.54it/s]\n",
      " 30%|███       | 3/10 [00:00<00:00, 28.58it/s]"
     ]
    },
    {
     "name": "stdout",
     "output_type": "stream",
     "text": [
      "Step: 1, Train Loss Now: 0.34769192337989807\n",
      "Step: 2, Train Loss Now: 0.36651013791561127\n",
      "Step: 3, Train Loss Now: 0.330830583969752\n",
      "Step: 4, Train Loss Now: 0.409445621073246\n",
      "Step: 5, Train Loss Now: 0.42903098464012146\n"
     ]
    },
    {
     "name": "stderr",
     "output_type": "stream",
     "text": [
      " 90%|█████████ | 9/10 [00:00<00:00, 26.70it/s]"
     ]
    },
    {
     "name": "stdout",
     "output_type": "stream",
     "text": [
      "Step: 6, Train Loss Now: 0.416736180583636\n",
      "Step: 7, Train Loss Now: 0.42538841707365854\n",
      "Step: 8, Train Loss Now: 0.43410443514585495\n",
      "Step: 9, Train Loss Now: 0.4119786024093628\n"
     ]
    },
    {
     "name": "stderr",
     "output_type": "stream",
     "text": [
      "100%|██████████| 10/10 [00:00<00:00, 27.32it/s]\n"
     ]
    },
    {
     "name": "stdout",
     "output_type": "stream",
     "text": [
      "Step: 10, Train Loss Now: 0.39814700186252594\n"
     ]
    },
    {
     "name": "stderr",
     "output_type": "stream",
     "text": [
      "100%|██████████| 2/2 [00:00<00:00, 66.25it/s]\n",
      "  0%|          | 0/10 [00:00<?, ?it/s]"
     ]
    },
    {
     "name": "stdout",
     "output_type": "stream",
     "text": [
      "Step: 1, Train Loss Now: 0.4087228775024414\n"
     ]
    },
    {
     "name": "stderr",
     "output_type": "stream",
     "text": [
      " 30%|███       | 3/10 [00:00<00:00, 27.17it/s]"
     ]
    },
    {
     "name": "stdout",
     "output_type": "stream",
     "text": [
      "Step: 2, Train Loss Now: 0.4426659047603607\n",
      "Step: 3, Train Loss Now: 0.41623590389887494\n",
      "Step: 4, Train Loss Now: 0.4601510167121887\n",
      "Step: 5, Train Loss Now: 0.45368754863739014\n"
     ]
    },
    {
     "name": "stderr",
     "output_type": "stream",
     "text": [
      " 60%|██████    | 6/10 [00:00<00:00, 21.85it/s]"
     ]
    },
    {
     "name": "stdout",
     "output_type": "stream",
     "text": [
      "Step: 6, Train Loss Now: 0.44656750559806824\n"
     ]
    },
    {
     "name": "stderr",
     "output_type": "stream",
     "text": [
      "100%|██████████| 10/10 [00:00<00:00, 24.61it/s]\n"
     ]
    },
    {
     "name": "stdout",
     "output_type": "stream",
     "text": [
      "Step: 7, Train Loss Now: 0.4296454574380602\n",
      "Step: 8, Train Loss Now: 0.40895166993141174\n",
      "Step: 9, Train Loss Now: 0.411908444431093\n",
      "Step: 10, Train Loss Now: 0.4135862737894058\n"
     ]
    },
    {
     "name": "stderr",
     "output_type": "stream",
     "text": [
      "100%|██████████| 2/2 [00:00<00:00, 71.21it/s]\n",
      "  0%|          | 0/10 [00:00<?, ?it/s]"
     ]
    },
    {
     "name": "stdout",
     "output_type": "stream",
     "text": [
      "Step: 1, Train Loss Now: 0.5705201625823975\n",
      "Step: 2, Train Loss Now: 0.5471082329750061\n"
     ]
    },
    {
     "name": "stderr",
     "output_type": "stream",
     "text": [
      " 30%|███       | 3/10 [00:00<00:00, 24.76it/s]"
     ]
    },
    {
     "name": "stdout",
     "output_type": "stream",
     "text": [
      "Step: 3, Train Loss Now: 0.45958925286928815\n",
      "Step: 4, Train Loss Now: 0.4515635147690773\n",
      "Step: 5, Train Loss Now: 0.47765193581581117\n"
     ]
    },
    {
     "name": "stderr",
     "output_type": "stream",
     "text": [
      " 60%|██████    | 6/10 [00:00<00:00, 25.32it/s]"
     ]
    },
    {
     "name": "stdout",
     "output_type": "stream",
     "text": [
      "Step: 6, Train Loss Now: 0.45867912967999774\n",
      "Step: 7, Train Loss Now: 0.43524642501558575\n",
      "Step: 8, Train Loss Now: 0.4357854761183262\n"
     ]
    },
    {
     "name": "stderr",
     "output_type": "stream",
     "text": [
      "100%|██████████| 10/10 [00:00<00:00, 25.45it/s]\n"
     ]
    },
    {
     "name": "stdout",
     "output_type": "stream",
     "text": [
      "Step: 9, Train Loss Now: 0.44422344035572475\n",
      "Step: 10, Train Loss Now: 0.42675027847290037\n"
     ]
    },
    {
     "name": "stderr",
     "output_type": "stream",
     "text": [
      "100%|██████████| 2/2 [00:00<00:00, 73.55it/s]\n",
      "  0%|          | 0/10 [00:00<?, ?it/s]"
     ]
    },
    {
     "name": "stdout",
     "output_type": "stream",
     "text": [
      "Step: 1, Train Loss Now: 0.48464906215667725\n",
      "Step: 2, Train Loss Now: 0.5099874436855316\n"
     ]
    },
    {
     "name": "stderr",
     "output_type": "stream",
     "text": [
      " 30%|███       | 3/10 [00:00<00:00, 25.19it/s]"
     ]
    },
    {
     "name": "stdout",
     "output_type": "stream",
     "text": [
      "Step: 3, Train Loss Now: 0.5138102372487386\n",
      "Step: 4, Train Loss Now: 0.4782327488064766\n",
      "Step: 5, Train Loss Now: 0.486252897977829\n"
     ]
    },
    {
     "name": "stderr",
     "output_type": "stream",
     "text": [
      " 60%|██████    | 6/10 [00:00<00:00, 19.87it/s]"
     ]
    },
    {
     "name": "stdout",
     "output_type": "stream",
     "text": [
      "Step: 6, Train Loss Now: 0.47919198373953503\n",
      "Step: 7, Train Loss Now: 0.4866961027894701\n"
     ]
    },
    {
     "name": "stderr",
     "output_type": "stream",
     "text": [
      "100%|██████████| 10/10 [00:00<00:00, 23.99it/s]\n"
     ]
    },
    {
     "name": "stdout",
     "output_type": "stream",
     "text": [
      "Step: 8, Train Loss Now: 0.4593493789434433\n",
      "Step: 9, Train Loss Now: 0.43591012557347614\n",
      "Step: 10, Train Loss Now: 0.42631243765354154\n"
     ]
    },
    {
     "name": "stderr",
     "output_type": "stream",
     "text": [
      "100%|██████████| 2/2 [00:00<00:00, 66.06it/s]\n",
      "  0%|          | 0/10 [00:00<?, ?it/s]"
     ]
    },
    {
     "name": "stdout",
     "output_type": "stream",
     "text": [
      "Step: 1, Train Loss Now: 0.3897567093372345\n",
      "Step: 2, Train Loss Now: 0.373249813914299\n"
     ]
    },
    {
     "name": "stderr",
     "output_type": "stream",
     "text": [
      " 30%|███       | 3/10 [00:00<00:00, 29.97it/s]"
     ]
    },
    {
     "name": "stdout",
     "output_type": "stream",
     "text": [
      "Step: 3, Train Loss Now: 0.426553080479304\n"
     ]
    },
    {
     "name": "stderr",
     "output_type": "stream",
     "text": [
      " 60%|██████    | 6/10 [00:00<00:00, 28.55it/s]"
     ]
    },
    {
     "name": "stdout",
     "output_type": "stream",
     "text": [
      "Step: 4, Train Loss Now: 0.5008053407073021\n",
      "Step: 5, Train Loss Now: 0.4737410664558411\n",
      "Step: 6, Train Loss Now: 0.4512845228115718\n",
      "Step: 7, Train Loss Now: 0.44032804455075947\n",
      "Step: 8, Train Loss Now: 0.4540463835000992\n"
     ]
    },
    {
     "name": "stderr",
     "output_type": "stream",
     "text": [
      " 90%|█████████ | 9/10 [00:00<00:00, 27.61it/s]"
     ]
    },
    {
     "name": "stdout",
     "output_type": "stream",
     "text": [
      "Step: 9, Train Loss Now: 0.45066432820426094\n"
     ]
    },
    {
     "name": "stderr",
     "output_type": "stream",
     "text": [
      "100%|██████████| 10/10 [00:00<00:00, 28.60it/s]\n"
     ]
    },
    {
     "name": "stdout",
     "output_type": "stream",
     "text": [
      "Step: 10, Train Loss Now: 0.4359540492296219\n"
     ]
    },
    {
     "name": "stderr",
     "output_type": "stream",
     "text": [
      "100%|██████████| 2/2 [00:00<00:00, 67.30it/s]\n",
      "  0%|          | 0/10 [00:00<?, ?it/s]"
     ]
    },
    {
     "name": "stdout",
     "output_type": "stream",
     "text": [
      "Step: 1, Train Loss Now: 0.44088098406791687\n",
      "Step: 2, Train Loss Now: 0.38875478506088257\n"
     ]
    },
    {
     "name": "stderr",
     "output_type": "stream",
     "text": [
      " 30%|███       | 3/10 [00:00<00:00, 27.59it/s]"
     ]
    },
    {
     "name": "stdout",
     "output_type": "stream",
     "text": [
      "Step: 3, Train Loss Now: 0.42461711168289185\n",
      "Step: 4, Train Loss Now: 0.43173520267009735\n",
      "Step: 5, Train Loss Now: 0.4668011784553528\n"
     ]
    },
    {
     "name": "stderr",
     "output_type": "stream",
     "text": [
      " 60%|██████    | 6/10 [00:00<00:00, 27.28it/s]"
     ]
    },
    {
     "name": "stdout",
     "output_type": "stream",
     "text": [
      "Step: 6, Train Loss Now: 0.45865075786908466\n",
      "Step: 7, Train Loss Now: 0.4536598580224173\n",
      "Step: 8, Train Loss Now: 0.4482036344707012\n",
      "Step: 9, Train Loss Now: 0.43537019358740914\n"
     ]
    },
    {
     "name": "stderr",
     "output_type": "stream",
     "text": [
      "100%|██████████| 10/10 [00:00<00:00, 24.01it/s]"
     ]
    },
    {
     "name": "stdout",
     "output_type": "stream",
     "text": [
      "Step: 10, Train Loss Now: 0.43261057138442993\n"
     ]
    },
    {
     "name": "stderr",
     "output_type": "stream",
     "text": [
      "100%|██████████| 10/10 [00:00<00:00, 24.63it/s]\n",
      "100%|██████████| 2/2 [00:00<00:00, 95.50it/s]\n",
      " 30%|███       | 3/10 [00:00<00:00, 28.80it/s]"
     ]
    },
    {
     "name": "stdout",
     "output_type": "stream",
     "text": [
      "Step: 1, Train Loss Now: 0.47473275661468506\n",
      "Step: 2, Train Loss Now: 0.508568674325943\n",
      "Step: 3, Train Loss Now: 0.4813857277234395\n",
      "Step: 4, Train Loss Now: 0.49343089759349823\n",
      "Step: 5, Train Loss Now: 0.5104287028312683\n"
     ]
    },
    {
     "name": "stderr",
     "output_type": "stream",
     "text": [
      " 70%|███████   | 7/10 [00:00<00:00, 31.54it/s]"
     ]
    },
    {
     "name": "stdout",
     "output_type": "stream",
     "text": [
      "Step: 6, Train Loss Now: 0.4713981548945109\n",
      "Step: 7, Train Loss Now: 0.441464113337653\n"
     ]
    },
    {
     "name": "stderr",
     "output_type": "stream",
     "text": [
      "100%|██████████| 10/10 [00:00<00:00, 32.13it/s]\n"
     ]
    },
    {
     "name": "stdout",
     "output_type": "stream",
     "text": [
      "Step: 8, Train Loss Now: 0.45111869648098946\n",
      "Step: 9, Train Loss Now: 0.44151050183508134\n",
      "Step: 10, Train Loss Now: 0.4097983531653881\n"
     ]
    },
    {
     "name": "stderr",
     "output_type": "stream",
     "text": [
      "100%|██████████| 2/2 [00:00<00:00, 71.56it/s]\n",
      "  0%|          | 0/10 [00:00<?, ?it/s]"
     ]
    },
    {
     "name": "stdout",
     "output_type": "stream",
     "text": [
      "Step: 1, Train Loss Now: 0.4926207661628723\n",
      "Step: 2, Train Loss Now: 0.5499181151390076\n",
      "Step: 3, Train Loss Now: 0.44846569498380023\n"
     ]
    },
    {
     "name": "stderr",
     "output_type": "stream",
     "text": [
      " 40%|████      | 4/10 [00:00<00:00, 28.87it/s]"
     ]
    },
    {
     "name": "stdout",
     "output_type": "stream",
     "text": [
      "Step: 4, Train Loss Now: 0.4819222614169121\n",
      "Step: 5, Train Loss Now: 0.4258031934499741\n",
      "Step: 6, Train Loss Now: 0.409030057489872\n",
      "Step: 7, Train Loss Now: 0.42324080424649374\n"
     ]
    },
    {
     "name": "stderr",
     "output_type": "stream",
     "text": [
      "100%|██████████| 10/10 [00:00<00:00, 30.01it/s]"
     ]
    },
    {
     "name": "stdout",
     "output_type": "stream",
     "text": [
      "Step: 8, Train Loss Now: 0.4268511403352022\n",
      "Step: 9, Train Loss Now: 0.4176117330789566\n",
      "Step: 10, Train Loss Now: 0.40168571323156355\n"
     ]
    },
    {
     "name": "stderr",
     "output_type": "stream",
     "text": [
      "\n",
      "100%|██████████| 2/2 [00:00<00:00, 71.36it/s]\n",
      "  0%|          | 0/10 [00:00<?, ?it/s]"
     ]
    },
    {
     "name": "stdout",
     "output_type": "stream",
     "text": [
      "Step: 1, Train Loss Now: 0.47896119952201843\n"
     ]
    },
    {
     "name": "stderr",
     "output_type": "stream",
     "text": [
      " 20%|██        | 2/10 [00:00<00:00, 16.95it/s]"
     ]
    },
    {
     "name": "stdout",
     "output_type": "stream",
     "text": [
      "Step: 2, Train Loss Now: 0.4560845196247101\n",
      "Step: 3, Train Loss Now: 0.4631936252117157\n",
      "Step: 4, Train Loss Now: 0.39075444638729095\n"
     ]
    },
    {
     "name": "stderr",
     "output_type": "stream",
     "text": [
      " 50%|█████     | 5/10 [00:00<00:00, 20.58it/s]"
     ]
    },
    {
     "name": "stdout",
     "output_type": "stream",
     "text": [
      "Step: 5, Train Loss Now: 0.3988265335559845\n",
      "Step: 6, Train Loss Now: 0.3839089473088582\n",
      "Step: 7, Train Loss Now: 0.3886243147509439\n"
     ]
    },
    {
     "name": "stderr",
     "output_type": "stream",
     "text": [
      "100%|██████████| 10/10 [00:00<00:00, 23.63it/s]"
     ]
    },
    {
     "name": "stdout",
     "output_type": "stream",
     "text": [
      "Step: 8, Train Loss Now: 0.4065365009009838\n",
      "Step: 9, Train Loss Now: 0.4060099356704288\n",
      "Step: 10, Train Loss Now: 0.42432603538036345\n"
     ]
    },
    {
     "name": "stderr",
     "output_type": "stream",
     "text": [
      "\n",
      "100%|██████████| 2/2 [00:00<00:00, 80.46it/s]\n",
      "  0%|          | 0/10 [00:00<?, ?it/s]"
     ]
    },
    {
     "name": "stdout",
     "output_type": "stream",
     "text": [
      "Step: 1, Train Loss Now: 0.7432234883308411\n",
      "Step: 2, Train Loss Now: 0.5341609567403793\n",
      "Step: 3, Train Loss Now: 0.5285112162431082\n"
     ]
    },
    {
     "name": "stderr",
     "output_type": "stream",
     "text": [
      " 40%|████      | 4/10 [00:00<00:00, 30.68it/s]"
     ]
    },
    {
     "name": "stdout",
     "output_type": "stream",
     "text": [
      "Step: 4, Train Loss Now: 0.5373817011713982\n",
      "Step: 5, Train Loss Now: 0.5024659156799316\n",
      "Step: 6, Train Loss Now: 0.4764564236005147\n",
      "Step: 7, Train Loss Now: 0.43871475969042095\n"
     ]
    },
    {
     "name": "stderr",
     "output_type": "stream",
     "text": [
      " 80%|████████  | 8/10 [00:00<00:00, 30.56it/s]"
     ]
    },
    {
     "name": "stdout",
     "output_type": "stream",
     "text": [
      "Step: 8, Train Loss Now: 0.43360157683491707\n",
      "Step: 9, Train Loss Now: 0.41840846008724636\n"
     ]
    },
    {
     "name": "stderr",
     "output_type": "stream",
     "text": [
      "100%|██████████| 10/10 [00:00<00:00, 27.58it/s]\n"
     ]
    },
    {
     "name": "stdout",
     "output_type": "stream",
     "text": [
      "Step: 10, Train Loss Now: 0.4061170846223831\n"
     ]
    },
    {
     "name": "stderr",
     "output_type": "stream",
     "text": [
      "100%|██████████| 2/2 [00:00<00:00, 95.49it/s]\n",
      "  0%|          | 0/10 [00:00<?, ?it/s]"
     ]
    },
    {
     "name": "stdout",
     "output_type": "stream",
     "text": [
      "Step: 1, Train Loss Now: 0.46810802817344666\n",
      "Step: 2, Train Loss Now: 0.5203776508569717\n"
     ]
    },
    {
     "name": "stderr",
     "output_type": "stream",
     "text": [
      " 30%|███       | 3/10 [00:00<00:00, 24.40it/s]"
     ]
    },
    {
     "name": "stdout",
     "output_type": "stream",
     "text": [
      "Step: 3, Train Loss Now: 0.4855005443096161\n",
      "Step: 4, Train Loss Now: 0.4291109964251518\n"
     ]
    },
    {
     "name": "stderr",
     "output_type": "stream",
     "text": [
      " 60%|██████    | 6/10 [00:00<00:00, 23.74it/s]"
     ]
    },
    {
     "name": "stdout",
     "output_type": "stream",
     "text": [
      "Step: 5, Train Loss Now: 0.4305345952510834\n",
      "Step: 6, Train Loss Now: 0.429511899749438\n"
     ]
    },
    {
     "name": "stderr",
     "output_type": "stream",
     "text": [
      " 90%|█████████ | 9/10 [00:00<00:00, 20.84it/s]"
     ]
    },
    {
     "name": "stdout",
     "output_type": "stream",
     "text": [
      "Step: 7, Train Loss Now: 0.4360371913228716\n",
      "Step: 8, Train Loss Now: 0.41981396079063416\n",
      "Step: 9, Train Loss Now: 0.4487329986360338\n"
     ]
    },
    {
     "name": "stderr",
     "output_type": "stream",
     "text": [
      "100%|██████████| 10/10 [00:00<00:00, 21.85it/s]\n"
     ]
    },
    {
     "name": "stdout",
     "output_type": "stream",
     "text": [
      "Step: 10, Train Loss Now: 0.4833668112754822\n"
     ]
    },
    {
     "name": "stderr",
     "output_type": "stream",
     "text": [
      "100%|██████████| 2/2 [00:00<00:00, 80.22it/s]\n",
      "  0%|          | 0/10 [00:00<?, ?it/s]"
     ]
    },
    {
     "name": "stdout",
     "output_type": "stream",
     "text": [
      "Step: 1, Train Loss Now: 0.332157701253891\n"
     ]
    },
    {
     "name": "stderr",
     "output_type": "stream",
     "text": [
      " 30%|███       | 3/10 [00:00<00:00, 28.43it/s]"
     ]
    },
    {
     "name": "stdout",
     "output_type": "stream",
     "text": [
      "Step: 2, Train Loss Now: 0.41690291464328766\n",
      "Step: 3, Train Loss Now: 0.35544465482234955\n",
      "Step: 4, Train Loss Now: 0.3942181058228016\n"
     ]
    },
    {
     "name": "stderr",
     "output_type": "stream",
     "text": [
      " 60%|██████    | 6/10 [00:00<00:00, 27.43it/s]"
     ]
    },
    {
     "name": "stdout",
     "output_type": "stream",
     "text": [
      "Step: 5, Train Loss Now: 0.4231879025697708\n",
      "Step: 6, Train Loss Now: 0.3998412663737933\n",
      "Step: 7, Train Loss Now: 0.41823676441396984\n"
     ]
    },
    {
     "name": "stderr",
     "output_type": "stream",
     "text": [
      "100%|██████████| 10/10 [00:00<00:00, 27.21it/s]\n"
     ]
    },
    {
     "name": "stdout",
     "output_type": "stream",
     "text": [
      "Step: 8, Train Loss Now: 0.4145029541105032\n",
      "Step: 9, Train Loss Now: 0.432599072655042\n",
      "Step: 10, Train Loss Now: 0.45727107375860215\n"
     ]
    },
    {
     "name": "stderr",
     "output_type": "stream",
     "text": [
      "100%|██████████| 2/2 [00:00<00:00, 65.87it/s]\n",
      "  0%|          | 0/10 [00:00<?, ?it/s]"
     ]
    },
    {
     "name": "stdout",
     "output_type": "stream",
     "text": [
      "Step: 1, Train Loss Now: 0.28258898854255676\n",
      "Step: 2, Train Loss Now: 0.37340228259563446"
     ]
    },
    {
     "name": "stderr",
     "output_type": "stream",
     "text": [
      " 30%|███       | 3/10 [00:00<00:00, 15.40it/s]"
     ]
    },
    {
     "name": "stdout",
     "output_type": "stream",
     "text": [
      "\n",
      "Step: 3, Train Loss Now: 0.3779313663641612\n",
      "Step: 4, Train Loss Now: 0.39277341961860657\n"
     ]
    },
    {
     "name": "stderr",
     "output_type": "stream",
     "text": [
      " 80%|████████  | 8/10 [00:00<00:00, 18.37it/s]"
     ]
    },
    {
     "name": "stdout",
     "output_type": "stream",
     "text": [
      "Step: 5, Train Loss Now: 0.36665967106819153\n",
      "Step: 6, Train Loss Now: 0.369196077187856\n",
      "Step: 7, Train Loss Now: 0.39487201826913015\n",
      "Step: 8, Train Loss Now: 0.4213576912879944\n",
      "Step: 9, Train Loss Now: 0.4021148019366794\n"
     ]
    },
    {
     "name": "stderr",
     "output_type": "stream",
     "text": [
      "100%|██████████| 10/10 [00:00<00:00, 18.19it/s]\n"
     ]
    },
    {
     "name": "stdout",
     "output_type": "stream",
     "text": [
      "Step: 10, Train Loss Now: 0.38823662996292113\n"
     ]
    },
    {
     "name": "stderr",
     "output_type": "stream",
     "text": [
      "100%|██████████| 2/2 [00:00<00:00, 62.67it/s]\n",
      " 30%|███       | 3/10 [00:00<00:00, 22.04it/s]"
     ]
    },
    {
     "name": "stdout",
     "output_type": "stream",
     "text": [
      "Step: 1, Train Loss Now: 0.5720239877700806\n",
      "Step: 2, Train Loss Now: 0.4136439710855484\n",
      "Step: 3, Train Loss Now: 0.40125041206677753\n",
      "Step: 4, Train Loss Now: 0.3864955008029938\n",
      "Step: 5, Train Loss Now: 0.41220794916152953\n"
     ]
    },
    {
     "name": "stderr",
     "output_type": "stream",
     "text": [
      " 60%|██████    | 6/10 [00:00<00:00, 23.70it/s]"
     ]
    },
    {
     "name": "stdout",
     "output_type": "stream",
     "text": [
      "Step: 6, Train Loss Now: 0.43491212526957196\n",
      "Step: 7, Train Loss Now: 0.4471744043486459\n"
     ]
    },
    {
     "name": "stderr",
     "output_type": "stream",
     "text": [
      " 90%|█████████ | 9/10 [00:00<00:00, 18.58it/s]"
     ]
    },
    {
     "name": "stdout",
     "output_type": "stream",
     "text": [
      "Step: 8, Train Loss Now: 0.4281522259116173\n",
      "Step: 9, Train Loss Now: 0.4383244978057014\n"
     ]
    },
    {
     "name": "stderr",
     "output_type": "stream",
     "text": [
      "100%|██████████| 10/10 [00:00<00:00, 20.39it/s]\n"
     ]
    },
    {
     "name": "stdout",
     "output_type": "stream",
     "text": [
      "Step: 10, Train Loss Now: 0.46906828284263613\n"
     ]
    },
    {
     "name": "stderr",
     "output_type": "stream",
     "text": [
      "100%|██████████| 2/2 [00:00<00:00, 84.72it/s]\n",
      "  0%|          | 0/10 [00:00<?, ?it/s]"
     ]
    },
    {
     "name": "stdout",
     "output_type": "stream",
     "text": [
      "Step: 1, Train Loss Now: 0.31472498178482056\n"
     ]
    },
    {
     "name": "stderr",
     "output_type": "stream",
     "text": [
      " 30%|███       | 3/10 [00:00<00:00, 22.36it/s]"
     ]
    },
    {
     "name": "stdout",
     "output_type": "stream",
     "text": [
      "Step: 2, Train Loss Now: 0.36398865282535553\n",
      "Step: 3, Train Loss Now: 0.3923877676328023\n",
      "Step: 4, Train Loss Now: 0.39648035913705826\n",
      "Step: 5, Train Loss Now: 0.4214112937450409\n"
     ]
    },
    {
     "name": "stderr",
     "output_type": "stream",
     "text": [
      " 60%|██████    | 6/10 [00:00<00:00, 22.04it/s]"
     ]
    },
    {
     "name": "stdout",
     "output_type": "stream",
     "text": [
      "Step: 6, Train Loss Now: 0.41715241471926373\n",
      "Step: 7, Train Loss Now: 0.4037864931992122\n",
      "Step: 8, Train Loss Now: 0.38500112295150757\n"
     ]
    },
    {
     "name": "stderr",
     "output_type": "stream",
     "text": [
      "100%|██████████| 10/10 [00:00<00:00, 22.50it/s]\n"
     ]
    },
    {
     "name": "stdout",
     "output_type": "stream",
     "text": [
      "Step: 9, Train Loss Now: 0.3982648253440857\n",
      "Step: 10, Train Loss Now: 0.4196748614311218\n"
     ]
    },
    {
     "name": "stderr",
     "output_type": "stream",
     "text": [
      "100%|██████████| 2/2 [00:00<00:00, 69.15it/s]\n",
      "  0%|          | 0/10 [00:00<?, ?it/s]"
     ]
    },
    {
     "name": "stdout",
     "output_type": "stream",
     "text": [
      "Step: 1, Train Loss Now: 0.2692074775695801\n",
      "Step: 2, Train Loss Now: 0.3504915088415146\n"
     ]
    },
    {
     "name": "stderr",
     "output_type": "stream",
     "text": [
      " 30%|███       | 3/10 [00:00<00:00, 22.22it/s]"
     ]
    },
    {
     "name": "stdout",
     "output_type": "stream",
     "text": [
      "Step: 3, Train Loss Now: 0.37355952461560565\n",
      "Step: 4, Train Loss Now: 0.3568359911441803\n",
      "Step: 5, Train Loss Now: 0.37276280522346494\n"
     ]
    },
    {
     "name": "stderr",
     "output_type": "stream",
     "text": [
      " 60%|██████    | 6/10 [00:00<00:00, 21.81it/s]"
     ]
    },
    {
     "name": "stdout",
     "output_type": "stream",
     "text": [
      "Step: 6, Train Loss Now: 0.40510396659374237\n"
     ]
    },
    {
     "name": "stderr",
     "output_type": "stream",
     "text": [
      " 90%|█████████ | 9/10 [00:00<00:00, 19.15it/s]"
     ]
    },
    {
     "name": "stdout",
     "output_type": "stream",
     "text": [
      "Step: 7, Train Loss Now: 0.4274116115910666\n",
      "Step: 8, Train Loss Now: 0.4352423772215843\n",
      "Step: 9, Train Loss Now: 0.4143085678418477\n"
     ]
    },
    {
     "name": "stderr",
     "output_type": "stream",
     "text": [
      "100%|██████████| 10/10 [00:00<00:00, 20.59it/s]\n"
     ]
    },
    {
     "name": "stdout",
     "output_type": "stream",
     "text": [
      "Step: 10, Train Loss Now: 0.40808088183403013\n"
     ]
    },
    {
     "name": "stderr",
     "output_type": "stream",
     "text": [
      "100%|██████████| 2/2 [00:00<00:00, 44.03it/s]\n",
      " 30%|███       | 3/10 [00:00<00:00, 25.07it/s]"
     ]
    },
    {
     "name": "stdout",
     "output_type": "stream",
     "text": [
      "Step: 1, Train Loss Now: 0.5061562657356262\n",
      "Step: 2, Train Loss Now: 0.4169277399778366\n",
      "Step: 3, Train Loss Now: 0.4153330723444621\n",
      "Step: 4, Train Loss Now: 0.4714360386133194\n",
      "Step: 5, Train Loss Now: 0.44391030073165894\n"
     ]
    },
    {
     "name": "stderr",
     "output_type": "stream",
     "text": [
      " 60%|██████    | 6/10 [00:00<00:00, 24.88it/s]"
     ]
    },
    {
     "name": "stdout",
     "output_type": "stream",
     "text": [
      "Step: 6, Train Loss Now: 0.41963810722033185\n",
      "Step: 7, Train Loss Now: 0.4154038301536015\n",
      "Step: 8, Train Loss Now: 0.4373021833598614\n"
     ]
    },
    {
     "name": "stderr",
     "output_type": "stream",
     "text": [
      "100%|██████████| 10/10 [00:00<00:00, 25.05it/s]\n"
     ]
    },
    {
     "name": "stdout",
     "output_type": "stream",
     "text": [
      "Step: 9, Train Loss Now: 0.4244679676161872\n",
      "Step: 10, Train Loss Now: 0.42729106545448303\n"
     ]
    },
    {
     "name": "stderr",
     "output_type": "stream",
     "text": [
      "100%|██████████| 2/2 [00:00<00:00, 75.42it/s]\n",
      " 20%|██        | 2/10 [00:00<00:00, 15.54it/s]"
     ]
    },
    {
     "name": "stdout",
     "output_type": "stream",
     "text": [
      "Step: 1, Train Loss Now: 0.22253988683223724\n",
      "Step: 2, Train Loss Now: 0.32763444632291794\n"
     ]
    },
    {
     "name": "stderr",
     "output_type": "stream",
     "text": [
      " 50%|█████     | 5/10 [00:00<00:00, 20.67it/s]"
     ]
    },
    {
     "name": "stdout",
     "output_type": "stream",
     "text": [
      "Step: 3, Train Loss Now: 0.3146110326051712\n",
      "Step: 4, Train Loss Now: 0.329213660210371\n",
      "Step: 5, Train Loss Now: 0.33423019349575045\n",
      "Step: 6, Train Loss Now: 0.3731268917520841\n",
      "Step: 7, Train Loss Now: 0.387829595378467\n"
     ]
    },
    {
     "name": "stderr",
     "output_type": "stream",
     "text": [
      "100%|██████████| 10/10 [00:00<00:00, 23.62it/s]\n"
     ]
    },
    {
     "name": "stdout",
     "output_type": "stream",
     "text": [
      "Step: 8, Train Loss Now: 0.4131812322884798\n",
      "Step: 9, Train Loss Now: 0.4288662291235394\n",
      "Step: 10, Train Loss Now: 0.4290669932961464\n"
     ]
    },
    {
     "name": "stderr",
     "output_type": "stream",
     "text": [
      "100%|██████████| 2/2 [00:00<00:00, 81.11it/s]\n",
      " 30%|███       | 3/10 [00:00<00:00, 25.50it/s]"
     ]
    },
    {
     "name": "stdout",
     "output_type": "stream",
     "text": [
      "Step: 1, Train Loss Now: 0.3563363552093506\n",
      "Step: 2, Train Loss Now: 0.38265906274318695\n",
      "Step: 3, Train Loss Now: 0.3949306905269623\n"
     ]
    },
    {
     "name": "stderr",
     "output_type": "stream",
     "text": [
      " 60%|██████    | 6/10 [00:00<00:00, 25.58it/s]"
     ]
    },
    {
     "name": "stdout",
     "output_type": "stream",
     "text": [
      "Step: 4, Train Loss Now: 0.4256131574511528\n",
      "Step: 5, Train Loss Now: 0.48168841004371643\n",
      "Step: 6, Train Loss Now: 0.4554280589024226\n",
      "Step: 7, Train Loss Now: 0.45560296944209505\n",
      "Step: 8, Train Loss Now: 0.4567501023411751\n"
     ]
    },
    {
     "name": "stderr",
     "output_type": "stream",
     "text": [
      "100%|██████████| 10/10 [00:00<00:00, 26.77it/s]\n"
     ]
    },
    {
     "name": "stdout",
     "output_type": "stream",
     "text": [
      "Step: 9, Train Loss Now: 0.44039889176686603\n",
      "Step: 10, Train Loss Now: 0.4303524672985077\n"
     ]
    },
    {
     "name": "stderr",
     "output_type": "stream",
     "text": [
      "100%|██████████| 2/2 [00:00<00:00, 75.30it/s]\n",
      "  0%|          | 0/10 [00:00<?, ?it/s]"
     ]
    },
    {
     "name": "stdout",
     "output_type": "stream",
     "text": [
      "Step: 1, Train Loss Now: 0.3684993386268616\n",
      "Step: 2, Train Loss Now: 0.3828752934932709\n"
     ]
    },
    {
     "name": "stderr",
     "output_type": "stream",
     "text": [
      " 30%|███       | 3/10 [00:00<00:00, 19.63it/s]"
     ]
    },
    {
     "name": "stdout",
     "output_type": "stream",
     "text": [
      "Step: 3, Train Loss Now: 0.34463903307914734\n",
      "Step: 4, Train Loss Now: 0.38353729993104935\n",
      "Step: 5, Train Loss Now: 0.429010409116745\n"
     ]
    },
    {
     "name": "stderr",
     "output_type": "stream",
     "text": [
      " 60%|██████    | 6/10 [00:00<00:00, 21.31it/s]"
     ]
    },
    {
     "name": "stdout",
     "output_type": "stream",
     "text": [
      "Step: 6, Train Loss Now: 0.43854578336079914\n",
      "Step: 7, Train Loss Now: 0.4614521435328892\n"
     ]
    },
    {
     "name": "stderr",
     "output_type": "stream",
     "text": [
      " 90%|█████████ | 9/10 [00:00<00:00, 22.94it/s]"
     ]
    },
    {
     "name": "stdout",
     "output_type": "stream",
     "text": [
      "Step: 8, Train Loss Now: 0.4551319070160389\n",
      "Step: 9, Train Loss Now: 0.4619443118572235\n",
      "Step: 10, Train Loss Now: 0.4372866913676262\n"
     ]
    },
    {
     "name": "stderr",
     "output_type": "stream",
     "text": [
      "100%|██████████| 10/10 [00:00<00:00, 23.00it/s]\n",
      "100%|██████████| 2/2 [00:00<00:00, 66.70it/s]\n",
      "  0%|          | 0/10 [00:00<?, ?it/s]"
     ]
    },
    {
     "name": "stdout",
     "output_type": "stream",
     "text": [
      "Step: 1, Train Loss Now: 0.5097036361694336\n",
      "Step: 2, Train Loss Now: 0.5229998826980591\n"
     ]
    },
    {
     "name": "stderr",
     "output_type": "stream",
     "text": [
      " 30%|███       | 3/10 [00:00<00:00, 23.48it/s]"
     ]
    },
    {
     "name": "stdout",
     "output_type": "stream",
     "text": [
      "Step: 3, Train Loss Now: 0.42632978161176044\n",
      "Step: 4, Train Loss Now: 0.41610073298215866\n",
      "Step: 5, Train Loss Now: 0.37791789174079893\n"
     ]
    },
    {
     "name": "stderr",
     "output_type": "stream",
     "text": [
      " 60%|██████    | 6/10 [00:00<00:00, 25.14it/s]"
     ]
    },
    {
     "name": "stdout",
     "output_type": "stream",
     "text": [
      "Step: 6, Train Loss Now: 0.36334096888701123\n",
      "Step: 7, Train Loss Now: 0.3775547274521419\n",
      "Step: 8, Train Loss Now: 0.3719264753162861\n"
     ]
    },
    {
     "name": "stderr",
     "output_type": "stream",
     "text": [
      "100%|██████████| 10/10 [00:00<00:00, 24.82it/s]\n"
     ]
    },
    {
     "name": "stdout",
     "output_type": "stream",
     "text": [
      "Step: 9, Train Loss Now: 0.40317176116837394\n",
      "Step: 10, Train Loss Now: 0.39950527548789977\n"
     ]
    },
    {
     "name": "stderr",
     "output_type": "stream",
     "text": [
      "100%|██████████| 2/2 [00:00<00:00, 54.52it/s]\n",
      " 30%|███       | 3/10 [00:00<00:00, 25.28it/s]"
     ]
    },
    {
     "name": "stdout",
     "output_type": "stream",
     "text": [
      "Step: 1, Train Loss Now: 0.816529393196106\n",
      "Step: 2, Train Loss Now: 0.5113572031259537\n",
      "Step: 3, Train Loss Now: 0.49475256601969403\n",
      "Step: 4, Train Loss Now: 0.5003746598958969\n",
      "Step: 5, Train Loss Now: 0.507599151134491\n"
     ]
    },
    {
     "name": "stderr",
     "output_type": "stream",
     "text": [
      " 60%|██████    | 6/10 [00:00<00:00, 23.99it/s]"
     ]
    },
    {
     "name": "stdout",
     "output_type": "stream",
     "text": [
      "Step: 6, Train Loss Now: 0.5006820857524872\n",
      "Step: 7, Train Loss Now: 0.5050181065286908\n",
      "Step: 8, Train Loss Now: 0.47622497007250786\n"
     ]
    },
    {
     "name": "stderr",
     "output_type": "stream",
     "text": [
      "100%|██████████| 10/10 [00:00<00:00, 25.50it/s]\n"
     ]
    },
    {
     "name": "stdout",
     "output_type": "stream",
     "text": [
      "Step: 9, Train Loss Now: 0.4565962453683217\n",
      "Step: 10, Train Loss Now: 0.43308907002210617\n"
     ]
    },
    {
     "name": "stderr",
     "output_type": "stream",
     "text": [
      "100%|██████████| 2/2 [00:00<00:00, 63.54it/s]\n",
      "  0%|          | 0/10 [00:00<?, ?it/s]"
     ]
    },
    {
     "name": "stdout",
     "output_type": "stream",
     "text": [
      "Step: 1, Train Loss Now: 0.3606431186199188\n",
      "Step: 2, Train Loss Now: 0.4690367132425308\n"
     ]
    },
    {
     "name": "stderr",
     "output_type": "stream",
     "text": [
      " 30%|███       | 3/10 [00:00<00:00, 19.31it/s]"
     ]
    },
    {
     "name": "stdout",
     "output_type": "stream",
     "text": [
      "Step: 3, Train Loss Now: 0.502071350812912\n"
     ]
    },
    {
     "name": "stderr",
     "output_type": "stream",
     "text": [
      " 50%|█████     | 5/10 [00:00<00:00, 16.68it/s]"
     ]
    },
    {
     "name": "stdout",
     "output_type": "stream",
     "text": [
      "Step: 4, Train Loss Now: 0.40650874376296997\n",
      "Step: 5, Train Loss Now: 0.41297764182090757\n",
      "Step: 6, Train Loss Now: 0.4201871305704117\n"
     ]
    },
    {
     "name": "stderr",
     "output_type": "stream",
     "text": [
      " 80%|████████  | 8/10 [00:00<00:00, 19.56it/s]"
     ]
    },
    {
     "name": "stdout",
     "output_type": "stream",
     "text": [
      "Step: 7, Train Loss Now: 0.4037540214402335\n",
      "Step: 8, Train Loss Now: 0.40349387377500534\n"
     ]
    },
    {
     "name": "stderr",
     "output_type": "stream",
     "text": [
      "100%|██████████| 10/10 [00:00<00:00, 19.44it/s]\n"
     ]
    },
    {
     "name": "stdout",
     "output_type": "stream",
     "text": [
      "Step: 9, Train Loss Now: 0.395382606320911\n",
      "Step: 10, Train Loss Now: 0.41569534242153167\n"
     ]
    },
    {
     "name": "stderr",
     "output_type": "stream",
     "text": [
      "100%|██████████| 2/2 [00:00<00:00, 91.15it/s]\n",
      "  0%|          | 0/10 [00:00<?, ?it/s]"
     ]
    },
    {
     "name": "stdout",
     "output_type": "stream",
     "text": [
      "Step: 1, Train Loss Now: 0.4484170973300934\n"
     ]
    },
    {
     "name": "stderr",
     "output_type": "stream",
     "text": [
      " 30%|███       | 3/10 [00:00<00:00, 22.58it/s]"
     ]
    },
    {
     "name": "stdout",
     "output_type": "stream",
     "text": [
      "Step: 2, Train Loss Now: 0.39747853577136993\n",
      "Step: 3, Train Loss Now: 0.41229740778605145\n",
      "Step: 4, Train Loss Now: 0.3961571305990219\n",
      "Step: 5, Train Loss Now: 0.37091678380966187\n"
     ]
    },
    {
     "name": "stderr",
     "output_type": "stream",
     "text": [
      " 60%|██████    | 6/10 [00:00<00:00, 21.36it/s]"
     ]
    },
    {
     "name": "stdout",
     "output_type": "stream",
     "text": [
      "Step: 6, Train Loss Now: 0.3880058228969574\n",
      "Step: 7, Train Loss Now: 0.3886478543281555\n",
      "Step: 8, Train Loss Now: 0.37904803454875946\n"
     ]
    },
    {
     "name": "stderr",
     "output_type": "stream",
     "text": [
      "100%|██████████| 10/10 [00:00<00:00, 21.96it/s]\n"
     ]
    },
    {
     "name": "stdout",
     "output_type": "stream",
     "text": [
      "Step: 9, Train Loss Now: 0.40527959664662677\n",
      "Step: 10, Train Loss Now: 0.4063510924577713\n"
     ]
    },
    {
     "name": "stderr",
     "output_type": "stream",
     "text": [
      "100%|██████████| 2/2 [00:00<00:00, 26.36it/s]\n",
      "  0%|          | 0/10 [00:00<?, ?it/s]"
     ]
    },
    {
     "name": "stdout",
     "output_type": "stream",
     "text": [
      "Step: 1, Train Loss Now: 0.21119454503059387\n"
     ]
    },
    {
     "name": "stderr",
     "output_type": "stream",
     "text": [
      " 30%|███       | 3/10 [00:00<00:00, 22.07it/s]"
     ]
    },
    {
     "name": "stdout",
     "output_type": "stream",
     "text": [
      "Step: 2, Train Loss Now: 0.3544641137123108\n",
      "Step: 3, Train Loss Now: 0.38984055320421857\n",
      "Step: 4, Train Loss Now: 0.391853004693985\n",
      "Step: 5, Train Loss Now: 0.4357208490371704\n"
     ]
    },
    {
     "name": "stderr",
     "output_type": "stream",
     "text": [
      " 60%|██████    | 6/10 [00:00<00:00, 23.57it/s]"
     ]
    },
    {
     "name": "stdout",
     "output_type": "stream",
     "text": [
      "Step: 6, Train Loss Now: 0.41901804506778717\n"
     ]
    },
    {
     "name": "stderr",
     "output_type": "stream",
     "text": [
      "100%|██████████| 10/10 [00:00<00:00, 24.82it/s]\n"
     ]
    },
    {
     "name": "stdout",
     "output_type": "stream",
     "text": [
      "Step: 7, Train Loss Now: 0.4397059551307133\n",
      "Step: 8, Train Loss Now: 0.43792396783828735\n",
      "Step: 9, Train Loss Now: 0.4227755433983273\n",
      "Step: 10, Train Loss Now: 0.4340396970510483\n"
     ]
    },
    {
     "name": "stderr",
     "output_type": "stream",
     "text": [
      "100%|██████████| 2/2 [00:00<00:00, 66.06it/s]\n",
      " 70%|███████   | 7/10 [00:00<00:00, 29.62it/s]"
     ]
    },
    {
     "name": "stdout",
     "output_type": "stream",
     "text": [
      "Step: 1, Train Loss Now: 0.5504383444786072\n",
      "Step: 2, Train Loss Now: 0.4279138743877411\n",
      "Step: 3, Train Loss Now: 0.4082376956939697\n",
      "Step: 4, Train Loss Now: 0.3841503635048866\n",
      "Step: 5, Train Loss Now: 0.3871553361415863\n",
      "Step: 6, Train Loss Now: 0.36269478499889374\n",
      "Step: 7, Train Loss Now: 0.3559832487787519\n"
     ]
    },
    {
     "name": "stderr",
     "output_type": "stream",
     "text": [
      "100%|██████████| 10/10 [00:00<00:00, 24.53it/s]\n"
     ]
    },
    {
     "name": "stdout",
     "output_type": "stream",
     "text": [
      "Step: 8, Train Loss Now: 0.3592141382396221\n",
      "Step: 9, Train Loss Now: 0.3824804060988956\n",
      "Step: 10, Train Loss Now: 0.41587797105312346\n"
     ]
    },
    {
     "name": "stderr",
     "output_type": "stream",
     "text": [
      "100%|██████████| 2/2 [00:00<00:00, 60.31it/s]\n",
      "  0%|          | 0/10 [00:00<?, ?it/s]"
     ]
    },
    {
     "name": "stdout",
     "output_type": "stream",
     "text": [
      "Step: 1, Train Loss Now: 0.32480305433273315\n"
     ]
    },
    {
     "name": "stderr",
     "output_type": "stream",
     "text": [
      " 30%|███       | 3/10 [00:00<00:00, 24.09it/s]"
     ]
    },
    {
     "name": "stdout",
     "output_type": "stream",
     "text": [
      "Step: 2, Train Loss Now: 0.3969298303127289\n",
      "Step: 3, Train Loss Now: 0.39452503124872845\n",
      "Step: 4, Train Loss Now: 0.41388268023729324\n",
      "Step: 5, Train Loss Now: 0.4018907308578491\n"
     ]
    },
    {
     "name": "stderr",
     "output_type": "stream",
     "text": [
      " 60%|██████    | 6/10 [00:00<00:00, 24.14it/s]"
     ]
    },
    {
     "name": "stdout",
     "output_type": "stream",
     "text": [
      "Step: 6, Train Loss Now: 0.4291668236255646\n"
     ]
    },
    {
     "name": "stderr",
     "output_type": "stream",
     "text": [
      "100%|██████████| 10/10 [00:00<00:00, 24.63it/s]\n"
     ]
    },
    {
     "name": "stdout",
     "output_type": "stream",
     "text": [
      "Step: 7, Train Loss Now: 0.42146325537136625\n",
      "Step: 8, Train Loss Now: 0.41395075991749763\n",
      "Step: 9, Train Loss Now: 0.40940343340237934\n",
      "Step: 10, Train Loss Now: 0.41578910648822787\n"
     ]
    },
    {
     "name": "stderr",
     "output_type": "stream",
     "text": [
      "100%|██████████| 2/2 [00:00<00:00, 46.16it/s]\n",
      "  0%|          | 0/10 [00:00<?, ?it/s]"
     ]
    },
    {
     "name": "stdout",
     "output_type": "stream",
     "text": [
      "Step: 1, Train Loss Now: 0.3076862394809723\n"
     ]
    },
    {
     "name": "stderr",
     "output_type": "stream",
     "text": [
      " 30%|███       | 3/10 [00:00<00:00, 22.45it/s]"
     ]
    },
    {
     "name": "stdout",
     "output_type": "stream",
     "text": [
      "Step: 2, Train Loss Now: 0.38064421713352203\n",
      "Step: 3, Train Loss Now: 0.43219919006029767\n",
      "Step: 4, Train Loss Now: 0.4121123254299164\n",
      "Step: 5, Train Loss Now: 0.4478360891342163\n"
     ]
    },
    {
     "name": "stderr",
     "output_type": "stream",
     "text": [
      " 60%|██████    | 6/10 [00:00<00:00, 21.51it/s]"
     ]
    },
    {
     "name": "stdout",
     "output_type": "stream",
     "text": [
      "Step: 6, Train Loss Now: 0.4359734157721202\n"
     ]
    },
    {
     "name": "stderr",
     "output_type": "stream",
     "text": [
      " 90%|█████████ | 9/10 [00:00<00:00, 19.75it/s]"
     ]
    },
    {
     "name": "stdout",
     "output_type": "stream",
     "text": [
      "Step: 7, Train Loss Now: 0.43759770904268536\n",
      "Step: 8, Train Loss Now: 0.41593552753329277\n",
      "Step: 9, Train Loss Now: 0.40653706590334576\n"
     ]
    },
    {
     "name": "stderr",
     "output_type": "stream",
     "text": [
      "100%|██████████| 10/10 [00:00<00:00, 20.54it/s]\n"
     ]
    },
    {
     "name": "stdout",
     "output_type": "stream",
     "text": [
      "Step: 10, Train Loss Now: 0.39400877356529235\n"
     ]
    },
    {
     "name": "stderr",
     "output_type": "stream",
     "text": [
      "100%|██████████| 2/2 [00:00<00:00, 74.27it/s]\n",
      " 20%|██        | 2/10 [00:00<00:00, 18.23it/s]"
     ]
    },
    {
     "name": "stdout",
     "output_type": "stream",
     "text": [
      "Step: 1, Train Loss Now: 0.39097344875335693\n",
      "Step: 2, Train Loss Now: 0.4766823351383209\n"
     ]
    },
    {
     "name": "stderr",
     "output_type": "stream",
     "text": [
      " 40%|████      | 4/10 [00:00<00:00, 15.67it/s]"
     ]
    },
    {
     "name": "stdout",
     "output_type": "stream",
     "text": [
      "Step: 3, Train Loss Now: 0.42523127794265747\n",
      "Step: 4, Train Loss Now: 0.41384387761354446\n",
      "Step: 5, Train Loss Now: 0.43319621682167053\n"
     ]
    },
    {
     "name": "stderr",
     "output_type": "stream",
     "text": [
      " 80%|████████  | 8/10 [00:00<00:00, 15.83it/s]"
     ]
    },
    {
     "name": "stdout",
     "output_type": "stream",
     "text": [
      "Step: 6, Train Loss Now: 0.4309430768092473\n",
      "Step: 7, Train Loss Now: 0.415910929441452\n",
      "Step: 8, Train Loss Now: 0.3865488264709711\n"
     ]
    },
    {
     "name": "stderr",
     "output_type": "stream",
     "text": [
      "100%|██████████| 10/10 [00:00<00:00, 16.96it/s]"
     ]
    },
    {
     "name": "stdout",
     "output_type": "stream",
     "text": [
      "Step: 9, Train Loss Now: 0.3969534983237584\n",
      "Step: 10, Train Loss Now: 0.3870552197098732\n"
     ]
    },
    {
     "name": "stderr",
     "output_type": "stream",
     "text": [
      "\n",
      "100%|██████████| 2/2 [00:00<00:00, 48.91it/s]\n",
      "  0%|          | 0/10 [00:00<?, ?it/s]"
     ]
    },
    {
     "name": "stdout",
     "output_type": "stream",
     "text": [
      "Step: 1, Train Loss Now: 0.29094839096069336\n",
      "Step: 2, Train Loss Now: 0.32900218665599823\n"
     ]
    },
    {
     "name": "stderr",
     "output_type": "stream",
     "text": [
      " 30%|███       | 3/10 [00:00<00:00, 21.28it/s]"
     ]
    },
    {
     "name": "stdout",
     "output_type": "stream",
     "text": [
      "Step: 3, Train Loss Now: 0.34452372789382935\n",
      "Step: 4, Train Loss Now: 0.3440888151526451\n",
      "Step: 5, Train Loss Now: 0.3684513807296753\n"
     ]
    },
    {
     "name": "stderr",
     "output_type": "stream",
     "text": [
      " 60%|██████    | 6/10 [00:00<00:00, 23.94it/s]"
     ]
    },
    {
     "name": "stdout",
     "output_type": "stream",
     "text": [
      "Step: 6, Train Loss Now: 0.379305159052213\n",
      "Step: 7, Train Loss Now: 0.3799049130507878\n"
     ]
    },
    {
     "name": "stderr",
     "output_type": "stream",
     "text": [
      "100%|██████████| 10/10 [00:00<00:00, 22.89it/s]\n"
     ]
    },
    {
     "name": "stdout",
     "output_type": "stream",
     "text": [
      "Step: 8, Train Loss Now: 0.37776292487978935\n",
      "Step: 9, Train Loss Now: 0.39388441046079\n",
      "Step: 10, Train Loss Now: 0.40885643661022186\n"
     ]
    },
    {
     "name": "stderr",
     "output_type": "stream",
     "text": [
      "100%|██████████| 2/2 [00:00<00:00, 37.84it/s]\n",
      "  0%|          | 0/10 [00:00<?, ?it/s]"
     ]
    },
    {
     "name": "stdout",
     "output_type": "stream",
     "text": [
      "Step: 1, Train Loss Now: 0.23831774294376373\n"
     ]
    },
    {
     "name": "stderr",
     "output_type": "stream",
     "text": [
      " 30%|███       | 3/10 [00:00<00:00, 20.89it/s]"
     ]
    },
    {
     "name": "stdout",
     "output_type": "stream",
     "text": [
      "Step: 2, Train Loss Now: 0.392557717859745\n",
      "Step: 3, Train Loss Now: 0.38729191323121387\n",
      "Step: 4, Train Loss Now: 0.38303210958838463\n"
     ]
    },
    {
     "name": "stderr",
     "output_type": "stream",
     "text": [
      " 60%|██████    | 6/10 [00:00<00:00, 13.86it/s]"
     ]
    },
    {
     "name": "stdout",
     "output_type": "stream",
     "text": [
      "Step: 5, Train Loss Now: 0.3605780631303787\n",
      "Step: 6, Train Loss Now: 0.3628789459665616\n",
      "Step: 7, Train Loss Now: 0.39799069293907713\n"
     ]
    },
    {
     "name": "stderr",
     "output_type": "stream",
     "text": [
      "100%|██████████| 10/10 [00:00<00:00, 13.56it/s]\n"
     ]
    },
    {
     "name": "stdout",
     "output_type": "stream",
     "text": [
      "Step: 8, Train Loss Now: 0.4113818984478712\n",
      "Step: 9, Train Loss Now: 0.4151851087808609\n",
      "Step: 10, Train Loss Now: 0.4107244715094566\n"
     ]
    },
    {
     "name": "stderr",
     "output_type": "stream",
     "text": [
      "100%|██████████| 2/2 [00:00<00:00, 40.06it/s]\n",
      " 40%|████      | 4/10 [00:00<00:00, 15.67it/s]"
     ]
    },
    {
     "name": "stdout",
     "output_type": "stream",
     "text": [
      "Step: 1, Train Loss Now: 0.513249933719635\n",
      "Step: 2, Train Loss Now: 0.47227634489536285\n",
      "Step: 3, Train Loss Now: 0.4442550837993622\n",
      "Step: 4, Train Loss Now: 0.4369290694594383\n"
     ]
    },
    {
     "name": "stderr",
     "output_type": "stream",
     "text": [
      " 80%|████████  | 8/10 [00:00<00:00, 16.42it/s]"
     ]
    },
    {
     "name": "stdout",
     "output_type": "stream",
     "text": [
      "Step: 5, Train Loss Now: 0.4081515192985535\n",
      "Step: 6, Train Loss Now: 0.4020731697479884\n",
      "Step: 7, Train Loss Now: 0.4104377457073757\n",
      "Step: 8, Train Loss Now: 0.4059980735182762\n"
     ]
    },
    {
     "name": "stderr",
     "output_type": "stream",
     "text": [
      "100%|██████████| 10/10 [00:00<00:00, 16.12it/s]\n"
     ]
    },
    {
     "name": "stdout",
     "output_type": "stream",
     "text": [
      "Step: 9, Train Loss Now: 0.4046833614508311\n",
      "Step: 10, Train Loss Now: 0.39457511603832246\n"
     ]
    },
    {
     "name": "stderr",
     "output_type": "stream",
     "text": [
      "100%|██████████| 2/2 [00:00<00:00, 41.78it/s]\n",
      "  0%|          | 0/10 [00:00<?, ?it/s]"
     ]
    },
    {
     "name": "stdout",
     "output_type": "stream",
     "text": [
      "Step: 1, Train Loss Now: 0.6205946803092957\n"
     ]
    },
    {
     "name": "stderr",
     "output_type": "stream",
     "text": [
      " 20%|██        | 2/10 [00:00<00:00, 14.10it/s]"
     ]
    },
    {
     "name": "stdout",
     "output_type": "stream",
     "text": [
      "Step: 2, Train Loss Now: 0.5665087699890137\n",
      "Step: 3, Train Loss Now: 0.4972151319185893\n"
     ]
    },
    {
     "name": "stderr",
     "output_type": "stream",
     "text": [
      " 40%|████      | 4/10 [00:00<00:00, 13.67it/s]"
     ]
    },
    {
     "name": "stdout",
     "output_type": "stream",
     "text": [
      "Step: 4, Train Loss Now: 0.4768335148692131\n"
     ]
    },
    {
     "name": "stderr",
     "output_type": "stream",
     "text": [
      " 60%|██████    | 6/10 [00:00<00:00, 14.56it/s]"
     ]
    },
    {
     "name": "stdout",
     "output_type": "stream",
     "text": [
      "Step: 5, Train Loss Now: 0.4632067382335663\n",
      "Step: 6, Train Loss Now: 0.45328478515148163\n",
      "Step: 7, Train Loss Now: 0.42328110337257385\n"
     ]
    },
    {
     "name": "stderr",
     "output_type": "stream",
     "text": [
      " 80%|████████  | 8/10 [00:00<00:00, 15.25it/s]"
     ]
    },
    {
     "name": "stdout",
     "output_type": "stream",
     "text": [
      "Step: 8, Train Loss Now: 0.427612017840147\n"
     ]
    },
    {
     "name": "stderr",
     "output_type": "stream",
     "text": [
      "100%|██████████| 10/10 [00:00<00:00, 16.30it/s]\n"
     ]
    },
    {
     "name": "stdout",
     "output_type": "stream",
     "text": [
      "Step: 9, Train Loss Now: 0.4068206316894955\n",
      "Step: 10, Train Loss Now: 0.400584876537323\n"
     ]
    },
    {
     "name": "stderr",
     "output_type": "stream",
     "text": [
      "100%|██████████| 2/2 [00:00<00:00, 46.69it/s]\n",
      "  0%|          | 0/10 [00:00<?, ?it/s]"
     ]
    },
    {
     "name": "stdout",
     "output_type": "stream",
     "text": [
      "Step: 1, Train Loss Now: 0.32501938939094543\n"
     ]
    },
    {
     "name": "stderr",
     "output_type": "stream",
     "text": [
      " 50%|█████     | 5/10 [00:00<00:00, 23.43it/s]"
     ]
    },
    {
     "name": "stdout",
     "output_type": "stream",
     "text": [
      "Step: 2, Train Loss Now: 0.325651153922081\n",
      "Step: 3, Train Loss Now: 0.34007121125857037\n",
      "Step: 4, Train Loss Now: 0.3884914740920067\n",
      "Step: 5, Train Loss Now: 0.42900105118751525\n",
      "Step: 6, Train Loss Now: 0.4268691490093867\n"
     ]
    },
    {
     "name": "stderr",
     "output_type": "stream",
     "text": [
      "100%|██████████| 10/10 [00:00<00:00, 22.01it/s]"
     ]
    },
    {
     "name": "stdout",
     "output_type": "stream",
     "text": [
      "Step: 7, Train Loss Now: 0.4287293979099819\n",
      "Step: 8, Train Loss Now: 0.42274100333452225\n",
      "Step: 9, Train Loss Now: 0.4413267837630378\n",
      "Step: 10, Train Loss Now: 0.4240228921175003\n"
     ]
    },
    {
     "name": "stderr",
     "output_type": "stream",
     "text": [
      "\n",
      "100%|██████████| 2/2 [00:00<00:00, 76.87it/s]\n",
      "  0%|          | 0/10 [00:00<?, ?it/s]"
     ]
    },
    {
     "name": "stdout",
     "output_type": "stream",
     "text": [
      "Step: 1, Train Loss Now: 0.4905686378479004\n"
     ]
    },
    {
     "name": "stderr",
     "output_type": "stream",
     "text": [
      " 30%|███       | 3/10 [00:00<00:00, 22.45it/s]"
     ]
    },
    {
     "name": "stdout",
     "output_type": "stream",
     "text": [
      "Step: 2, Train Loss Now: 0.41797567903995514\n",
      "Step: 3, Train Loss Now: 0.39505621790885925\n",
      "Step: 4, Train Loss Now: 0.42943648248910904\n",
      "Step: 5, Train Loss Now: 0.41249844431877136\n"
     ]
    },
    {
     "name": "stderr",
     "output_type": "stream",
     "text": [
      " 60%|██████    | 6/10 [00:00<00:00, 22.58it/s]"
     ]
    },
    {
     "name": "stdout",
     "output_type": "stream",
     "text": [
      "Step: 6, Train Loss Now: 0.3958055724700292\n"
     ]
    },
    {
     "name": "stderr",
     "output_type": "stream",
     "text": [
      "100%|██████████| 10/10 [00:00<00:00, 23.55it/s]\n"
     ]
    },
    {
     "name": "stdout",
     "output_type": "stream",
     "text": [
      "Step: 7, Train Loss Now: 0.3892690794808524\n",
      "Step: 8, Train Loss Now: 0.41523681581020355\n",
      "Step: 9, Train Loss Now: 0.4147641923692491\n",
      "Step: 10, Train Loss Now: 0.4066182732582092\n"
     ]
    },
    {
     "name": "stderr",
     "output_type": "stream",
     "text": [
      "100%|██████████| 2/2 [00:00<00:00, 30.62it/s]\n",
      " 30%|███       | 3/10 [00:00<00:00, 22.44it/s]"
     ]
    },
    {
     "name": "stdout",
     "output_type": "stream",
     "text": [
      "Step: 1, Train Loss Now: 0.5078752636909485\n",
      "Step: 2, Train Loss Now: 0.45077015459537506\n",
      "Step: 3, Train Loss Now: 0.413092037041982\n",
      "Step: 4, Train Loss Now: 0.3678962402045727\n",
      "Step: 5, Train Loss Now: 0.3583096593618393\n"
     ]
    },
    {
     "name": "stderr",
     "output_type": "stream",
     "text": [
      "100%|██████████| 10/10 [00:00<00:00, 23.60it/s]\n"
     ]
    },
    {
     "name": "stdout",
     "output_type": "stream",
     "text": [
      "Step: 6, Train Loss Now: 0.35159530490636826\n",
      "Step: 7, Train Loss Now: 0.4014277138880321\n",
      "Step: 8, Train Loss Now: 0.38321405090391636\n",
      "Step: 9, Train Loss Now: 0.4017222606473499\n",
      "Step: 10, Train Loss Now: 0.39056191593408585\n"
     ]
    },
    {
     "name": "stderr",
     "output_type": "stream",
     "text": [
      "100%|██████████| 2/2 [00:00<00:00, 63.23it/s]\n",
      " 60%|██████    | 6/10 [00:00<00:00, 28.57it/s]"
     ]
    },
    {
     "name": "stdout",
     "output_type": "stream",
     "text": [
      "Step: 1, Train Loss Now: 0.4509948492050171\n",
      "Step: 2, Train Loss Now: 0.42535300552845\n",
      "Step: 3, Train Loss Now: 0.45005255937576294\n",
      "Step: 4, Train Loss Now: 0.4709937572479248\n",
      "Step: 5, Train Loss Now: 0.45229830145835875\n",
      "Step: 6, Train Loss Now: 0.4289884368578593\n"
     ]
    },
    {
     "name": "stderr",
     "output_type": "stream",
     "text": [
      "100%|██████████| 10/10 [00:00<00:00, 29.15it/s]\n"
     ]
    },
    {
     "name": "stdout",
     "output_type": "stream",
     "text": [
      "Step: 7, Train Loss Now: 0.4204247125557491\n",
      "Step: 8, Train Loss Now: 0.42403675988316536\n",
      "Step: 9, Train Loss Now: 0.411309603187773\n",
      "Step: 10, Train Loss Now: 0.43541426956653595\n"
     ]
    },
    {
     "name": "stderr",
     "output_type": "stream",
     "text": [
      "100%|██████████| 2/2 [00:00<00:00, 86.23it/s]\n",
      "  0%|          | 0/10 [00:00<?, ?it/s]"
     ]
    },
    {
     "name": "stdout",
     "output_type": "stream",
     "text": [
      "Step: 1, Train Loss Now: 0.5629593133926392\n",
      "Step: 2, Train Loss Now: 0.48603785037994385\n"
     ]
    },
    {
     "name": "stderr",
     "output_type": "stream",
     "text": [
      " 60%|██████    | 6/10 [00:00<00:00, 27.69it/s]"
     ]
    },
    {
     "name": "stdout",
     "output_type": "stream",
     "text": [
      "Step: 3, Train Loss Now: 0.4763497511545817\n",
      "Step: 4, Train Loss Now: 0.44157903641462326\n",
      "Step: 5, Train Loss Now: 0.41162471771240233\n",
      "Step: 6, Train Loss Now: 0.4258627692858378\n",
      "Step: 7, Train Loss Now: 0.440056358064924\n",
      "Step: 8, Train Loss Now: 0.42159630358219147\n"
     ]
    },
    {
     "name": "stderr",
     "output_type": "stream",
     "text": [
      "100%|██████████| 10/10 [00:00<00:00, 25.55it/s]\n"
     ]
    },
    {
     "name": "stdout",
     "output_type": "stream",
     "text": [
      "Step: 9, Train Loss Now: 0.4283920294708676\n",
      "Step: 10, Train Loss Now: 0.4165639042854309\n"
     ]
    },
    {
     "name": "stderr",
     "output_type": "stream",
     "text": [
      "100%|██████████| 2/2 [00:00<00:00, 82.45it/s]\n",
      "  0%|          | 0/10 [00:00<?, ?it/s]"
     ]
    },
    {
     "name": "stdout",
     "output_type": "stream",
     "text": [
      "Step: 1, Train Loss Now: 0.19250798225402832\n"
     ]
    },
    {
     "name": "stderr",
     "output_type": "stream",
     "text": [
      " 20%|██        | 2/10 [00:00<00:00, 17.58it/s]"
     ]
    },
    {
     "name": "stdout",
     "output_type": "stream",
     "text": [
      "Step: 2, Train Loss Now: 0.25658945739269257\n"
     ]
    },
    {
     "name": "stderr",
     "output_type": "stream",
     "text": [
      " 50%|█████     | 5/10 [00:00<00:00, 23.09it/s]"
     ]
    },
    {
     "name": "stdout",
     "output_type": "stream",
     "text": [
      "Step: 3, Train Loss Now: 0.33972445130348206\n",
      "Step: 4, Train Loss Now: 0.33441049605607986\n",
      "Step: 5, Train Loss Now: 0.3545259118080139\n",
      "Step: 6, Train Loss Now: 0.3816736936569214\n",
      "Step: 7, Train Loss Now: 0.36978103859083994\n"
     ]
    },
    {
     "name": "stderr",
     "output_type": "stream",
     "text": [
      " 80%|████████  | 8/10 [00:00<00:00, 25.27it/s]"
     ]
    },
    {
     "name": "stdout",
     "output_type": "stream",
     "text": [
      "Step: 8, Train Loss Now: 0.3784226030111313\n"
     ]
    },
    {
     "name": "stderr",
     "output_type": "stream",
     "text": [
      "100%|██████████| 10/10 [00:00<00:00, 24.43it/s]\n"
     ]
    },
    {
     "name": "stdout",
     "output_type": "stream",
     "text": [
      "Step: 9, Train Loss Now: 0.38915040095647174\n",
      "Step: 10, Train Loss Now: 0.3956218659877777\n"
     ]
    },
    {
     "name": "stderr",
     "output_type": "stream",
     "text": [
      "100%|██████████| 2/2 [00:00<00:00, 64.69it/s]\n",
      "  0%|          | 0/10 [00:00<?, ?it/s]"
     ]
    },
    {
     "name": "stdout",
     "output_type": "stream",
     "text": [
      "Step: 1, Train Loss Now: 0.3927633464336395\n",
      "Step: 2, Train Loss Now: 0.3950543999671936\n"
     ]
    },
    {
     "name": "stderr",
     "output_type": "stream",
     "text": [
      " 30%|███       | 3/10 [00:00<00:00, 23.70it/s]"
     ]
    },
    {
     "name": "stdout",
     "output_type": "stream",
     "text": [
      "Step: 3, Train Loss Now: 0.4480474591255188\n",
      "Step: 4, Train Loss Now: 0.40754229575395584\n",
      "Step: 5, Train Loss Now: 0.44554980397224425\n"
     ]
    },
    {
     "name": "stderr",
     "output_type": "stream",
     "text": [
      " 60%|██████    | 6/10 [00:00<00:00, 23.29it/s]"
     ]
    },
    {
     "name": "stdout",
     "output_type": "stream",
     "text": [
      "Step: 6, Train Loss Now: 0.43377936879793805\n",
      "Step: 7, Train Loss Now: 0.44883436816079275\n",
      "Step: 8, Train Loss Now: 0.45042915642261505\n"
     ]
    },
    {
     "name": "stderr",
     "output_type": "stream",
     "text": [
      " 90%|█████████ | 9/10 [00:00<00:00, 22.61it/s]"
     ]
    },
    {
     "name": "stdout",
     "output_type": "stream",
     "text": [
      "Step: 9, Train Loss Now: 0.44012269377708435\n"
     ]
    },
    {
     "name": "stderr",
     "output_type": "stream",
     "text": [
      "100%|██████████| 10/10 [00:00<00:00, 20.73it/s]\n"
     ]
    },
    {
     "name": "stdout",
     "output_type": "stream",
     "text": [
      "Step: 10, Train Loss Now: 0.45049133002758024\n"
     ]
    },
    {
     "name": "stderr",
     "output_type": "stream",
     "text": [
      "100%|██████████| 2/2 [00:00<00:00, 71.60it/s]\n",
      "  0%|          | 0/10 [00:00<?, ?it/s]"
     ]
    },
    {
     "name": "stdout",
     "output_type": "stream",
     "text": [
      "Step: 1, Train Loss Now: 0.42567214369773865\n"
     ]
    },
    {
     "name": "stderr",
     "output_type": "stream",
     "text": [
      " 20%|██        | 2/10 [00:00<00:00, 18.63it/s]"
     ]
    },
    {
     "name": "stdout",
     "output_type": "stream",
     "text": [
      "Step: 2, Train Loss Now: 0.4461679756641388\n",
      "Step: 3, Train Loss Now: 0.3734405189752579\n"
     ]
    },
    {
     "name": "stderr",
     "output_type": "stream",
     "text": [
      " 50%|█████     | 5/10 [00:00<00:00, 21.21it/s]"
     ]
    },
    {
     "name": "stdout",
     "output_type": "stream",
     "text": [
      "Step: 4, Train Loss Now: 0.42059599980711937\n",
      "Step: 5, Train Loss Now: 0.4440628379583359\n",
      "Step: 6, Train Loss Now: 0.42797303944826126\n"
     ]
    },
    {
     "name": "stderr",
     "output_type": "stream",
     "text": [
      " 80%|████████  | 8/10 [00:00<00:00, 21.24it/s]"
     ]
    },
    {
     "name": "stdout",
     "output_type": "stream",
     "text": [
      "Step: 7, Train Loss Now: 0.41597866799150196\n",
      "Step: 8, Train Loss Now: 0.3979963269084692\n"
     ]
    },
    {
     "name": "stderr",
     "output_type": "stream",
     "text": [
      "100%|██████████| 10/10 [00:00<00:00, 22.59it/s]\n"
     ]
    },
    {
     "name": "stdout",
     "output_type": "stream",
     "text": [
      "Step: 9, Train Loss Now: 0.39225520855850643\n",
      "Step: 10, Train Loss Now: 0.4141601577401161\n"
     ]
    },
    {
     "name": "stderr",
     "output_type": "stream",
     "text": [
      "100%|██████████| 2/2 [00:00<00:00, 66.07it/s]\n",
      "  0%|          | 0/10 [00:00<?, ?it/s]"
     ]
    },
    {
     "name": "stdout",
     "output_type": "stream",
     "text": [
      "Step: 1, Train Loss Now: 0.33343490958213806\n",
      "Step: 2, Train Loss Now: 0.31127405166625977\n"
     ]
    },
    {
     "name": "stderr",
     "output_type": "stream",
     "text": [
      " 30%|███       | 3/10 [00:00<00:00, 20.91it/s]"
     ]
    },
    {
     "name": "stdout",
     "output_type": "stream",
     "text": [
      "Step: 3, Train Loss Now: 0.36045533418655396\n",
      "Step: 4, Train Loss Now: 0.3481197878718376\n",
      "Step: 5, Train Loss Now: 0.3894220292568207\n"
     ]
    },
    {
     "name": "stderr",
     "output_type": "stream",
     "text": [
      " 60%|██████    | 6/10 [00:00<00:00, 20.79it/s]"
     ]
    },
    {
     "name": "stdout",
     "output_type": "stream",
     "text": [
      "Step: 6, Train Loss Now: 0.40982021391391754\n",
      "Step: 7, Train Loss Now: 0.41784145150865826\n"
     ]
    },
    {
     "name": "stderr",
     "output_type": "stream",
     "text": [
      "100%|██████████| 10/10 [00:00<00:00, 21.12it/s]"
     ]
    },
    {
     "name": "stdout",
     "output_type": "stream",
     "text": [
      "Step: 8, Train Loss Now: 0.4060068577528\n",
      "Step: 9, Train Loss Now: 0.42294783724678886\n",
      "Step: 10, Train Loss Now: 0.42463437020778655\n"
     ]
    },
    {
     "name": "stderr",
     "output_type": "stream",
     "text": [
      "\n",
      "100%|██████████| 2/2 [00:00<00:00, 46.03it/s]\n",
      "  0%|          | 0/10 [00:00<?, ?it/s]"
     ]
    },
    {
     "name": "stdout",
     "output_type": "stream",
     "text": [
      "Step: 1, Train Loss Now: 0.4501139223575592\n"
     ]
    },
    {
     "name": "stderr",
     "output_type": "stream",
     "text": [
      " 50%|█████     | 5/10 [00:00<00:00, 21.25it/s]"
     ]
    },
    {
     "name": "stdout",
     "output_type": "stream",
     "text": [
      "Step: 2, Train Loss Now: 0.37497539818286896\n",
      "Step: 3, Train Loss Now: 0.45342637101809186\n",
      "Step: 4, Train Loss Now: 0.3940213583409786\n",
      "Step: 5, Train Loss Now: 0.43800216615200044\n",
      "Step: 6, Train Loss Now: 0.4260274941722552\n"
     ]
    },
    {
     "name": "stderr",
     "output_type": "stream",
     "text": [
      " 80%|████████  | 8/10 [00:00<00:00, 17.52it/s]"
     ]
    },
    {
     "name": "stdout",
     "output_type": "stream",
     "text": [
      "Step: 7, Train Loss Now: 0.3963559716939926\n",
      "Step: 8, Train Loss Now: 0.4263954106718302\n"
     ]
    },
    {
     "name": "stderr",
     "output_type": "stream",
     "text": [
      "100%|██████████| 10/10 [00:00<00:00, 19.33it/s]\n"
     ]
    },
    {
     "name": "stdout",
     "output_type": "stream",
     "text": [
      "Step: 9, Train Loss Now: 0.4345880233579212\n",
      "Step: 10, Train Loss Now: 0.44230749160051347\n"
     ]
    },
    {
     "name": "stderr",
     "output_type": "stream",
     "text": [
      "100%|██████████| 2/2 [00:00<00:00, 63.66it/s]\n",
      " 30%|███       | 3/10 [00:00<00:00, 23.58it/s]"
     ]
    },
    {
     "name": "stdout",
     "output_type": "stream",
     "text": [
      "Step: 1, Train Loss Now: 0.3217478394508362\n",
      "Step: 2, Train Loss Now: 0.5338718891143799\n",
      "Step: 3, Train Loss Now: 0.4573587973912557\n",
      "Step: 4, Train Loss Now: 0.4480183348059654\n",
      "Step: 5, Train Loss Now: 0.45757487416267395\n"
     ]
    },
    {
     "name": "stderr",
     "output_type": "stream",
     "text": [
      " 60%|██████    | 6/10 [00:00<00:00, 23.82it/s]"
     ]
    },
    {
     "name": "stdout",
     "output_type": "stream",
     "text": [
      "Step: 6, Train Loss Now: 0.42343175411224365\n",
      "Step: 7, Train Loss Now: 0.42058289476803373\n",
      "Step: 8, Train Loss Now: 0.4347655437886715\n"
     ]
    },
    {
     "name": "stderr",
     "output_type": "stream",
     "text": [
      "100%|██████████| 10/10 [00:00<00:00, 24.24it/s]\n"
     ]
    },
    {
     "name": "stdout",
     "output_type": "stream",
     "text": [
      "Step: 9, Train Loss Now: 0.4279499451319377\n",
      "Step: 10, Train Loss Now: 0.43442133963108065\n"
     ]
    },
    {
     "name": "stderr",
     "output_type": "stream",
     "text": [
      "100%|██████████| 2/2 [00:00<00:00, 75.52it/s]\n",
      " 30%|███       | 3/10 [00:00<00:00, 20.72it/s]"
     ]
    },
    {
     "name": "stdout",
     "output_type": "stream",
     "text": [
      "Step: 1, Train Loss Now: 0.5422960519790649\n",
      "Step: 2, Train Loss Now: 0.48392871022224426\n",
      "Step: 3, Train Loss Now: 0.4825763702392578\n",
      "Step: 4, Train Loss Now: 0.5188833028078079\n",
      "Step: 5, Train Loss Now: 0.45901219844818114\n"
     ]
    },
    {
     "name": "stderr",
     "output_type": "stream",
     "text": [
      " 60%|██████    | 6/10 [00:00<00:00, 21.55it/s]"
     ]
    },
    {
     "name": "stdout",
     "output_type": "stream",
     "text": [
      "Step: 6, Train Loss Now: 0.4399896214405696\n",
      "Step: 7, Train Loss Now: 0.4504189704145704\n",
      "Step: 8, Train Loss Now: 0.4366622380912304\n"
     ]
    },
    {
     "name": "stderr",
     "output_type": "stream",
     "text": [
      "100%|██████████| 10/10 [00:00<00:00, 22.53it/s]\n"
     ]
    },
    {
     "name": "stdout",
     "output_type": "stream",
     "text": [
      "Step: 9, Train Loss Now: 0.41666868329048157\n",
      "Step: 10, Train Loss Now: 0.43881631195545195\n"
     ]
    },
    {
     "name": "stderr",
     "output_type": "stream",
     "text": [
      "100%|██████████| 2/2 [00:00<00:00, 58.20it/s]\n",
      "  0%|          | 0/10 [00:00<?, ?it/s]"
     ]
    },
    {
     "name": "stdout",
     "output_type": "stream",
     "text": [
      "Step: 1, Train Loss Now: 0.31704628467559814\n"
     ]
    },
    {
     "name": "stderr",
     "output_type": "stream",
     "text": [
      " 50%|█████     | 5/10 [00:00<00:00, 20.89it/s]"
     ]
    },
    {
     "name": "stdout",
     "output_type": "stream",
     "text": [
      "Step: 2, Train Loss Now: 0.5498090386390686\n",
      "Step: 3, Train Loss Now: 0.5093376139799753\n",
      "Step: 4, Train Loss Now: 0.44102266803383827\n",
      "Step: 5, Train Loss Now: 0.44262889921665194\n",
      "Step: 6, Train Loss Now: 0.4585295046369235\n",
      "Step: 7, Train Loss Now: 0.43621901316302164\n"
     ]
    },
    {
     "name": "stderr",
     "output_type": "stream",
     "text": [
      "100%|██████████| 10/10 [00:00<00:00, 21.68it/s]\n"
     ]
    },
    {
     "name": "stdout",
     "output_type": "stream",
     "text": [
      "Step: 8, Train Loss Now: 0.4194833282381296\n",
      "Step: 9, Train Loss Now: 0.42901942630608875\n",
      "Step: 10, Train Loss Now: 0.4201739922165871\n"
     ]
    },
    {
     "name": "stderr",
     "output_type": "stream",
     "text": [
      "100%|██████████| 2/2 [00:00<00:00, 69.90it/s]\n",
      "  0%|          | 0/10 [00:00<?, ?it/s]"
     ]
    },
    {
     "name": "stdout",
     "output_type": "stream",
     "text": [
      "Step: 1, Train Loss Now: 0.6832958459854126\n"
     ]
    },
    {
     "name": "stderr",
     "output_type": "stream",
     "text": [
      " 40%|████      | 4/10 [00:00<00:00, 18.77it/s]"
     ]
    },
    {
     "name": "stdout",
     "output_type": "stream",
     "text": [
      "Step: 2, Train Loss Now: 0.5042596161365509\n",
      "Step: 3, Train Loss Now: 0.45754702885945636\n",
      "Step: 4, Train Loss Now: 0.4846642166376114\n",
      "Step: 5, Train Loss Now: 0.4738777458667755\n"
     ]
    },
    {
     "name": "stderr",
     "output_type": "stream",
     "text": [
      " 80%|████████  | 8/10 [00:00<00:00, 16.69it/s]"
     ]
    },
    {
     "name": "stdout",
     "output_type": "stream",
     "text": [
      "Step: 6, Train Loss Now: 0.43823883434136707\n",
      "Step: 7, Train Loss Now: 0.4287665912083217\n",
      "Step: 8, Train Loss Now: 0.3963208142668009\n",
      "Step: 9, Train Loss Now: 0.40718397001425427\n"
     ]
    },
    {
     "name": "stderr",
     "output_type": "stream",
     "text": [
      "100%|██████████| 10/10 [00:00<00:00, 18.23it/s]\n"
     ]
    },
    {
     "name": "stdout",
     "output_type": "stream",
     "text": [
      "Step: 10, Train Loss Now: 0.4121022865176201\n"
     ]
    },
    {
     "name": "stderr",
     "output_type": "stream",
     "text": [
      "100%|██████████| 2/2 [00:00<00:00, 74.27it/s]\n",
      " 30%|███       | 3/10 [00:00<00:00, 24.69it/s]"
     ]
    },
    {
     "name": "stdout",
     "output_type": "stream",
     "text": [
      "Step: 1, Train Loss Now: 0.6016733050346375\n",
      "Step: 2, Train Loss Now: 0.49594850838184357\n",
      "Step: 3, Train Loss Now: 0.49752067526181537\n",
      "Step: 4, Train Loss Now: 0.46547801047563553\n"
     ]
    },
    {
     "name": "stderr",
     "output_type": "stream",
     "text": [
      " 60%|██████    | 6/10 [00:00<00:00, 24.33it/s]"
     ]
    },
    {
     "name": "stdout",
     "output_type": "stream",
     "text": [
      "Step: 5, Train Loss Now: 0.4495703876018524\n",
      "Step: 6, Train Loss Now: 0.42032286524772644\n"
     ]
    },
    {
     "name": "stderr",
     "output_type": "stream",
     "text": [
      " 90%|█████████ | 9/10 [00:00<00:00, 25.52it/s]"
     ]
    },
    {
     "name": "stdout",
     "output_type": "stream",
     "text": [
      "Step: 7, Train Loss Now: 0.4273452801363809\n",
      "Step: 8, Train Loss Now: 0.42223838344216347\n",
      "Step: 9, Train Loss Now: 0.43422645661565995\n"
     ]
    },
    {
     "name": "stderr",
     "output_type": "stream",
     "text": [
      "100%|██████████| 10/10 [00:00<00:00, 25.36it/s]\n"
     ]
    },
    {
     "name": "stdout",
     "output_type": "stream",
     "text": [
      "Step: 10, Train Loss Now: 0.4066850334405899\n"
     ]
    },
    {
     "name": "stderr",
     "output_type": "stream",
     "text": [
      "100%|██████████| 2/2 [00:00<00:00, 77.14it/s]\n",
      "  0%|          | 0/10 [00:00<?, ?it/s]"
     ]
    },
    {
     "name": "stdout",
     "output_type": "stream",
     "text": [
      "Step: 1, Train Loss Now: 0.43560490012168884\n"
     ]
    },
    {
     "name": "stderr",
     "output_type": "stream",
     "text": [
      " 30%|███       | 3/10 [00:00<00:00, 24.98it/s]"
     ]
    },
    {
     "name": "stdout",
     "output_type": "stream",
     "text": [
      "Step: 2, Train Loss Now: 0.4051973223686218\n",
      "Step: 3, Train Loss Now: 0.4507344365119934\n",
      "Step: 4, Train Loss Now: 0.44067665934562683\n",
      "Step: 5, Train Loss Now: 0.4545494794845581\n"
     ]
    },
    {
     "name": "stderr",
     "output_type": "stream",
     "text": [
      " 60%|██████    | 6/10 [00:00<00:00, 23.86it/s]"
     ]
    },
    {
     "name": "stdout",
     "output_type": "stream",
     "text": [
      "Step: 6, Train Loss Now: 0.47587019205093384\n"
     ]
    },
    {
     "name": "stderr",
     "output_type": "stream",
     "text": [
      " 90%|█████████ | 9/10 [00:00<00:00, 23.10it/s]"
     ]
    },
    {
     "name": "stdout",
     "output_type": "stream",
     "text": [
      "Step: 7, Train Loss Now: 0.45602125780923025\n",
      "Step: 8, Train Loss Now: 0.43399951234459877\n",
      "Step: 9, Train Loss Now: 0.41745156049728394\n",
      "Step: 10, Train Loss Now: 0.40832204222679136\n"
     ]
    },
    {
     "name": "stderr",
     "output_type": "stream",
     "text": [
      "100%|██████████| 10/10 [00:00<00:00, 23.26it/s]\n",
      "100%|██████████| 2/2 [00:00<00:00, 66.84it/s]\n",
      " 30%|███       | 3/10 [00:00<00:00, 24.76it/s]"
     ]
    },
    {
     "name": "stdout",
     "output_type": "stream",
     "text": [
      "Step: 1, Train Loss Now: 0.3589354455471039\n",
      "Step: 2, Train Loss Now: 0.4211319833993912\n",
      "Step: 3, Train Loss Now: 0.38736791412035626\n",
      "Step: 4, Train Loss Now: 0.35075345635414124\n"
     ]
    },
    {
     "name": "stderr",
     "output_type": "stream",
     "text": [
      " 60%|██████    | 6/10 [00:00<00:00, 24.48it/s]"
     ]
    },
    {
     "name": "stdout",
     "output_type": "stream",
     "text": [
      "Step: 5, Train Loss Now: 0.3416941285133362\n",
      "Step: 6, Train Loss Now: 0.34390195707480115\n"
     ]
    },
    {
     "name": "stderr",
     "output_type": "stream",
     "text": [
      "100%|██████████| 10/10 [00:00<00:00, 25.33it/s]"
     ]
    },
    {
     "name": "stdout",
     "output_type": "stream",
     "text": [
      "Step: 7, Train Loss Now: 0.3575391854558672\n",
      "Step: 8, Train Loss Now: 0.4007650762796402\n",
      "Step: 9, Train Loss Now: 0.4148118893305461\n",
      "Step: 10, Train Loss Now: 0.40724238455295564\n"
     ]
    },
    {
     "name": "stderr",
     "output_type": "stream",
     "text": [
      "\n",
      "100%|██████████| 2/2 [00:00<00:00, 72.92it/s]\n",
      "  0%|          | 0/10 [00:00<?, ?it/s]"
     ]
    },
    {
     "name": "stdout",
     "output_type": "stream",
     "text": [
      "Step: 1, Train Loss Now: 0.33864498138427734\n"
     ]
    },
    {
     "name": "stderr",
     "output_type": "stream",
     "text": [
      " 60%|██████    | 6/10 [00:00<00:00, 23.80it/s]"
     ]
    },
    {
     "name": "stdout",
     "output_type": "stream",
     "text": [
      "Step: 2, Train Loss Now: 0.43146130442619324\n",
      "Step: 3, Train Loss Now: 0.42610610524813336\n",
      "Step: 4, Train Loss Now: 0.43460170179605484\n",
      "Step: 5, Train Loss Now: 0.420818966627121\n",
      "Step: 6, Train Loss Now: 0.4219609846671422\n"
     ]
    },
    {
     "name": "stderr",
     "output_type": "stream",
     "text": [
      "100%|██████████| 10/10 [00:00<00:00, 22.30it/s]\n"
     ]
    },
    {
     "name": "stdout",
     "output_type": "stream",
     "text": [
      "Step: 7, Train Loss Now: 0.426491950239454\n",
      "Step: 8, Train Loss Now: 0.423899307847023\n",
      "Step: 9, Train Loss Now: 0.4132796823978424\n",
      "Step: 10, Train Loss Now: 0.39819684624671936\n"
     ]
    },
    {
     "name": "stderr",
     "output_type": "stream",
     "text": [
      "100%|██████████| 2/2 [00:00<00:00, 69.64it/s]\n",
      "  0%|          | 0/10 [00:00<?, ?it/s]"
     ]
    },
    {
     "name": "stdout",
     "output_type": "stream",
     "text": [
      "Step: 1, Train Loss Now: 0.41795262694358826\n",
      "Step: 2, Train Loss Now: 0.4375288039445877\n"
     ]
    },
    {
     "name": "stderr",
     "output_type": "stream",
     "text": [
      " 60%|██████    | 6/10 [00:00<00:00, 27.37it/s]"
     ]
    },
    {
     "name": "stdout",
     "output_type": "stream",
     "text": [
      "Step: 3, Train Loss Now: 0.4555169443289439\n",
      "Step: 4, Train Loss Now: 0.43541572988033295\n",
      "Step: 5, Train Loss Now: 0.4297049045562744\n",
      "Step: 6, Train Loss Now: 0.4315800766150157\n",
      "Step: 7, Train Loss Now: 0.4133096763065883\n",
      "Step: 8, Train Loss Now: 0.4147287495434284\n"
     ]
    },
    {
     "name": "stderr",
     "output_type": "stream",
     "text": [
      "100%|██████████| 10/10 [00:00<00:00, 27.95it/s]\n"
     ]
    },
    {
     "name": "stdout",
     "output_type": "stream",
     "text": [
      "Step: 9, Train Loss Now: 0.43016185694270664\n",
      "Step: 10, Train Loss Now: 0.44067061841487887\n"
     ]
    },
    {
     "name": "stderr",
     "output_type": "stream",
     "text": [
      "100%|██████████| 2/2 [00:00<00:00, 75.08it/s]\n",
      "  0%|          | 0/10 [00:00<?, ?it/s]"
     ]
    },
    {
     "name": "stdout",
     "output_type": "stream",
     "text": [
      "Step: 1, Train Loss Now: 0.276380717754364\n",
      "Step: 2, Train Loss Now: 0.33574385941028595\n"
     ]
    },
    {
     "name": "stderr",
     "output_type": "stream",
     "text": [
      " 30%|███       | 3/10 [00:00<00:00, 19.49it/s]"
     ]
    },
    {
     "name": "stdout",
     "output_type": "stream",
     "text": [
      "Step: 3, Train Loss Now: 0.41483057538668316\n",
      "Step: 4, Train Loss Now: 0.42451363056898117\n",
      "Step: 5, Train Loss Now: 0.4281622052192688\n"
     ]
    },
    {
     "name": "stderr",
     "output_type": "stream",
     "text": [
      " 60%|██████    | 6/10 [00:00<00:00, 22.26it/s]"
     ]
    },
    {
     "name": "stdout",
     "output_type": "stream",
     "text": [
      "Step: 6, Train Loss Now: 0.4368622601032257\n",
      "Step: 7, Train Loss Now: 0.4143777957984379\n",
      "Step: 8, Train Loss Now: 0.39459090307354927\n"
     ]
    },
    {
     "name": "stderr",
     "output_type": "stream",
     "text": [
      "100%|██████████| 10/10 [00:00<00:00, 23.57it/s]\n"
     ]
    },
    {
     "name": "stdout",
     "output_type": "stream",
     "text": [
      "Step: 9, Train Loss Now: 0.40950825810432434\n",
      "Step: 10, Train Loss Now: 0.43508311212062833\n"
     ]
    },
    {
     "name": "stderr",
     "output_type": "stream",
     "text": [
      "100%|██████████| 2/2 [00:00<00:00, 63.88it/s]\n",
      "  0%|          | 0/10 [00:00<?, ?it/s]"
     ]
    },
    {
     "name": "stdout",
     "output_type": "stream",
     "text": [
      "Step: 1, Train Loss Now: 0.40882018208503723\n"
     ]
    },
    {
     "name": "stderr",
     "output_type": "stream",
     "text": [
      " 30%|███       | 3/10 [00:00<00:00, 25.43it/s]"
     ]
    },
    {
     "name": "stdout",
     "output_type": "stream",
     "text": [
      "Step: 2, Train Loss Now: 0.49530135095119476\n",
      "Step: 3, Train Loss Now: 0.4897474447886149\n",
      "Step: 4, Train Loss Now: 0.41976433992385864\n",
      "Step: 5, Train Loss Now: 0.39337886571884156\n"
     ]
    },
    {
     "name": "stderr",
     "output_type": "stream",
     "text": [
      " 60%|██████    | 6/10 [00:00<00:00, 21.16it/s]"
     ]
    },
    {
     "name": "stdout",
     "output_type": "stream",
     "text": [
      "Step: 6, Train Loss Now: 0.41104093690713245\n",
      "Step: 7, Train Loss Now: 0.44972530007362366\n",
      "Step: 8, Train Loss Now: 0.44247157499194145\n"
     ]
    },
    {
     "name": "stderr",
     "output_type": "stream",
     "text": [
      "100%|██████████| 10/10 [00:00<00:00, 23.09it/s]\n"
     ]
    },
    {
     "name": "stdout",
     "output_type": "stream",
     "text": [
      "Step: 9, Train Loss Now: 0.4363638195726607\n",
      "Step: 10, Train Loss Now: 0.41176176369190215\n"
     ]
    },
    {
     "name": "stderr",
     "output_type": "stream",
     "text": [
      "100%|██████████| 2/2 [00:00<00:00, 74.66it/s]\n",
      " 30%|███       | 3/10 [00:00<00:00, 26.63it/s]"
     ]
    },
    {
     "name": "stdout",
     "output_type": "stream",
     "text": [
      "Step: 1, Train Loss Now: 0.3867567777633667\n",
      "Step: 2, Train Loss Now: 0.32299965620040894\n",
      "Step: 3, Train Loss Now: 0.39404284954071045\n"
     ]
    },
    {
     "name": "stderr",
     "output_type": "stream",
     "text": [
      " 60%|██████    | 6/10 [00:00<00:00, 27.05it/s]"
     ]
    },
    {
     "name": "stdout",
     "output_type": "stream",
     "text": [
      "Step: 4, Train Loss Now: 0.3743029832839966\n",
      "Step: 5, Train Loss Now: 0.4329849123954773\n",
      "Step: 6, Train Loss Now: 0.4115395247936249\n"
     ]
    },
    {
     "name": "stderr",
     "output_type": "stream",
     "text": [
      " 90%|█████████ | 9/10 [00:00<00:00, 24.16it/s]"
     ]
    },
    {
     "name": "stdout",
     "output_type": "stream",
     "text": [
      "Step: 7, Train Loss Now: 0.39252212217875887\n",
      "Step: 8, Train Loss Now: 0.40334436297416687\n",
      "Step: 9, Train Loss Now: 0.40699074996842277\n"
     ]
    },
    {
     "name": "stderr",
     "output_type": "stream",
     "text": [
      "100%|██████████| 10/10 [00:00<00:00, 25.31it/s]\n"
     ]
    },
    {
     "name": "stdout",
     "output_type": "stream",
     "text": [
      "Step: 10, Train Loss Now: 0.39410729706287384\n"
     ]
    },
    {
     "name": "stderr",
     "output_type": "stream",
     "text": [
      "100%|██████████| 2/2 [00:00<00:00, 74.41it/s]\n",
      " 30%|███       | 3/10 [00:00<00:00, 24.55it/s]"
     ]
    },
    {
     "name": "stdout",
     "output_type": "stream",
     "text": [
      "Step: 1, Train Loss Now: 0.3511025011539459\n",
      "Step: 2, Train Loss Now: 0.31371377408504486\n",
      "Step: 3, Train Loss Now: 0.34945834676424664\n",
      "Step: 4, Train Loss Now: 0.38824183493852615\n",
      "Step: 5, Train Loss Now: 0.40956130623817444"
     ]
    },
    {
     "name": "stderr",
     "output_type": "stream",
     "text": [
      "100%|██████████| 10/10 [00:00<00:00, 22.71it/s]"
     ]
    },
    {
     "name": "stdout",
     "output_type": "stream",
     "text": [
      "\n",
      "Step: 6, Train Loss Now: 0.41796234250068665\n",
      "Step: 7, Train Loss Now: 0.4175389919962202\n",
      "Step: 8, Train Loss Now: 0.41276976838707924\n",
      "Step: 9, Train Loss Now: 0.4139423436588711\n",
      "Step: 10, Train Loss Now: 0.401163250207901\n"
     ]
    },
    {
     "name": "stderr",
     "output_type": "stream",
     "text": [
      "\n",
      "100%|██████████| 2/2 [00:00<00:00, 70.47it/s]\n",
      " 70%|███████   | 7/10 [00:00<00:00, 30.76it/s]"
     ]
    },
    {
     "name": "stdout",
     "output_type": "stream",
     "text": [
      "Step: 1, Train Loss Now: 0.3940330445766449\n",
      "Step: 2, Train Loss Now: 0.4205417037010193\n",
      "Step: 3, Train Loss Now: 0.38748469948768616\n",
      "Step: 4, Train Loss Now: 0.40398457646369934\n",
      "Step: 5, Train Loss Now: 0.417661190032959\n",
      "Step: 6, Train Loss Now: 0.4258355647325516\n",
      "Step: 7, Train Loss Now: 0.41190131647246225\n"
     ]
    },
    {
     "name": "stderr",
     "output_type": "stream",
     "text": [
      "100%|██████████| 10/10 [00:00<00:00, 29.82it/s]\n"
     ]
    },
    {
     "name": "stdout",
     "output_type": "stream",
     "text": [
      "Step: 8, Train Loss Now: 0.40314968302845955\n",
      "Step: 9, Train Loss Now: 0.43068421880404156\n",
      "Step: 10, Train Loss Now: 0.4538786381483078\n"
     ]
    },
    {
     "name": "stderr",
     "output_type": "stream",
     "text": [
      "100%|██████████| 2/2 [00:00<00:00, 100.05it/s]\n",
      "  0%|          | 0/10 [00:00<?, ?it/s]"
     ]
    },
    {
     "name": "stdout",
     "output_type": "stream",
     "text": [
      "Step: 1, Train Loss Now: 0.2868964970111847\n",
      "Step: 2, Train Loss Now: 0.4064777344465256\n"
     ]
    },
    {
     "name": "stderr",
     "output_type": "stream",
     "text": [
      " 30%|███       | 3/10 [00:00<00:00, 18.97it/s]"
     ]
    },
    {
     "name": "stdout",
     "output_type": "stream",
     "text": [
      "Step: 3, Train Loss Now: 0.37607497970263165\n",
      "Step: 4, Train Loss Now: 0.4211963787674904\n"
     ]
    },
    {
     "name": "stderr",
     "output_type": "stream",
     "text": [
      " 60%|██████    | 6/10 [00:00<00:00, 21.50it/s]"
     ]
    },
    {
     "name": "stdout",
     "output_type": "stream",
     "text": [
      "Step: 5, Train Loss Now: 0.40661160945892333\n",
      "Step: 6, Train Loss Now: 0.4151437332232793\n",
      "Step: 7, Train Loss Now: 0.40841551763670786\n",
      "Step: 8, Train Loss Now: 0.41341114416718483\n"
     ]
    },
    {
     "name": "stderr",
     "output_type": "stream",
     "text": [
      "100%|██████████| 10/10 [00:00<00:00, 22.46it/s]"
     ]
    },
    {
     "name": "stdout",
     "output_type": "stream",
     "text": [
      "Step: 9, Train Loss Now: 0.4025484025478363\n",
      "Step: 10, Train Loss Now: 0.4165777236223221\n"
     ]
    },
    {
     "name": "stderr",
     "output_type": "stream",
     "text": [
      "\n",
      "100%|██████████| 2/2 [00:00<00:00, 53.47it/s]\n",
      "  0%|          | 0/10 [00:00<?, ?it/s]"
     ]
    },
    {
     "name": "stdout",
     "output_type": "stream",
     "text": [
      "Step: 1, Train Loss Now: 0.48643288016319275\n",
      "Step: 2, Train Loss Now: 0.42384885251522064\n"
     ]
    },
    {
     "name": "stderr",
     "output_type": "stream",
     "text": [
      " 60%|██████    | 6/10 [00:00<00:00, 25.72it/s]"
     ]
    },
    {
     "name": "stdout",
     "output_type": "stream",
     "text": [
      "Step: 3, Train Loss Now: 0.4461057980855306\n",
      "Step: 4, Train Loss Now: 0.4313022643327713\n",
      "Step: 5, Train Loss Now: 0.4317272245883942\n",
      "Step: 6, Train Loss Now: 0.4119610736767451\n",
      "Step: 7, Train Loss Now: 0.41212169187409536\n",
      "Step: 8, Train Loss Now: 0.40033668279647827\n"
     ]
    },
    {
     "name": "stderr",
     "output_type": "stream",
     "text": [
      "100%|██████████| 10/10 [00:00<00:00, 26.71it/s]\n"
     ]
    },
    {
     "name": "stdout",
     "output_type": "stream",
     "text": [
      "Step: 9, Train Loss Now: 0.39984654055701363\n",
      "Step: 10, Train Loss Now: 0.41538378596305847\n"
     ]
    },
    {
     "name": "stderr",
     "output_type": "stream",
     "text": [
      "100%|██████████| 2/2 [00:00<00:00, 27.75it/s]\n",
      "  0%|          | 0/10 [00:00<?, ?it/s]"
     ]
    },
    {
     "name": "stdout",
     "output_type": "stream",
     "text": [
      "Step: 1, Train Loss Now: 0.46871063113212585\n",
      "Step: 2, Train Loss Now: 0.5257593840360641"
     ]
    },
    {
     "name": "stderr",
     "output_type": "stream",
     "text": [
      " 30%|███       | 3/10 [00:00<00:00, 25.45it/s]"
     ]
    },
    {
     "name": "stdout",
     "output_type": "stream",
     "text": [
      "\n",
      "Step: 3, Train Loss Now: 0.46821558475494385\n",
      "Step: 4, Train Loss Now: 0.49318942427635193\n",
      "Step: 5, Train Loss Now: 0.4623430252075195\n"
     ]
    },
    {
     "name": "stderr",
     "output_type": "stream",
     "text": [
      " 60%|██████    | 6/10 [00:00<00:00, 24.46it/s]"
     ]
    },
    {
     "name": "stdout",
     "output_type": "stream",
     "text": [
      "Step: 6, Train Loss Now: 0.4578792005777359\n"
     ]
    },
    {
     "name": "stderr",
     "output_type": "stream",
     "text": [
      "100%|██████████| 10/10 [00:00<00:00, 24.32it/s]\n"
     ]
    },
    {
     "name": "stdout",
     "output_type": "stream",
     "text": [
      "Step: 7, Train Loss Now: 0.4454008511134556\n",
      "Step: 8, Train Loss Now: 0.43074919283390045\n",
      "Step: 9, Train Loss Now: 0.4178368780348036\n",
      "Step: 10, Train Loss Now: 0.4193693697452545\n"
     ]
    },
    {
     "name": "stderr",
     "output_type": "stream",
     "text": [
      "100%|██████████| 2/2 [00:00<00:00, 65.67it/s]\n",
      "  0%|          | 0/10 [00:00<?, ?it/s]"
     ]
    },
    {
     "name": "stdout",
     "output_type": "stream",
     "text": [
      "Step: 1, Train Loss Now: 0.3993011713027954\n"
     ]
    },
    {
     "name": "stderr",
     "output_type": "stream",
     "text": [
      " 30%|███       | 3/10 [00:00<00:00, 25.99it/s]"
     ]
    },
    {
     "name": "stdout",
     "output_type": "stream",
     "text": [
      "Step: 2, Train Loss Now: 0.41900037229061127\n",
      "Step: 3, Train Loss Now: 0.4063857098420461\n",
      "Step: 4, Train Loss Now: 0.3951031342148781\n",
      "Step: 5, Train Loss Now: 0.3646040350198746\n",
      "Step: 6, Train Loss Now: 0.3678416634599368\n"
     ]
    },
    {
     "name": "stderr",
     "output_type": "stream",
     "text": [
      "100%|██████████| 10/10 [00:00<00:00, 21.47it/s]"
     ]
    },
    {
     "name": "stdout",
     "output_type": "stream",
     "text": [
      "Step: 7, Train Loss Now: 0.40362875163555145\n",
      "Step: 8, Train Loss Now: 0.44329062290489674\n",
      "Step: 9, Train Loss Now: 0.4170060290230645\n",
      "Step: 10, Train Loss Now: 0.4234539121389389\n"
     ]
    },
    {
     "name": "stderr",
     "output_type": "stream",
     "text": [
      "\n",
      "100%|██████████| 2/2 [00:00<00:00, 42.67it/s]\n",
      " 60%|██████    | 6/10 [00:00<00:00, 29.23it/s]"
     ]
    },
    {
     "name": "stdout",
     "output_type": "stream",
     "text": [
      "Step: 1, Train Loss Now: 0.5141139626502991\n",
      "Step: 2, Train Loss Now: 0.4268767237663269\n",
      "Step: 3, Train Loss Now: 0.4385221600532532\n",
      "Step: 4, Train Loss Now: 0.4343293458223343\n",
      "Step: 5, Train Loss Now: 0.4555219054222107\n",
      "Step: 6, Train Loss Now: 0.4332212060689926\n",
      "Step: 7, Train Loss Now: 0.44947971190725056\n"
     ]
    },
    {
     "name": "stderr",
     "output_type": "stream",
     "text": [
      "100%|██████████| 10/10 [00:00<00:00, 29.11it/s]\n"
     ]
    },
    {
     "name": "stdout",
     "output_type": "stream",
     "text": [
      "Step: 8, Train Loss Now: 0.450259692966938\n",
      "Step: 9, Train Loss Now: 0.44388216733932495\n",
      "Step: 10, Train Loss Now: 0.44264915883541106\n"
     ]
    },
    {
     "name": "stderr",
     "output_type": "stream",
     "text": [
      "100%|██████████| 2/2 [00:00<00:00, 78.73it/s]\n",
      "  0%|          | 0/10 [00:00<?, ?it/s]"
     ]
    },
    {
     "name": "stdout",
     "output_type": "stream",
     "text": [
      "Step: 1, Train Loss Now: 0.45272529125213623\n",
      "Step: 2, Train Loss Now: 0.3974520415067673\n"
     ]
    },
    {
     "name": "stderr",
     "output_type": "stream",
     "text": [
      " 30%|███       | 3/10 [00:00<00:00, 24.84it/s]"
     ]
    },
    {
     "name": "stdout",
     "output_type": "stream",
     "text": [
      "Step: 3, Train Loss Now: 0.43172459801038104\n",
      "Step: 4, Train Loss Now: 0.4484679773449898\n",
      "Step: 5, Train Loss Now: 0.46275846362113954\n"
     ]
    },
    {
     "name": "stderr",
     "output_type": "stream",
     "text": [
      " 60%|██████    | 6/10 [00:00<00:00, 21.82it/s]"
     ]
    },
    {
     "name": "stdout",
     "output_type": "stream",
     "text": [
      "Step: 6, Train Loss Now: 0.4676606406768163\n",
      "Step: 7, Train Loss Now: 0.47210454089300974\n"
     ]
    },
    {
     "name": "stderr",
     "output_type": "stream",
     "text": [
      "100%|██████████| 10/10 [00:00<00:00, 23.87it/s]\n"
     ]
    },
    {
     "name": "stdout",
     "output_type": "stream",
     "text": [
      "Step: 8, Train Loss Now: 0.4497643932700157\n",
      "Step: 9, Train Loss Now: 0.43520580728848773\n",
      "Step: 10, Train Loss Now: 0.41306732445955274\n"
     ]
    },
    {
     "name": "stderr",
     "output_type": "stream",
     "text": [
      "100%|██████████| 2/2 [00:00<00:00, 78.21it/s]\n",
      "  0%|          | 0/10 [00:00<?, ?it/s]"
     ]
    },
    {
     "name": "stdout",
     "output_type": "stream",
     "text": [
      "Step: 1, Train Loss Now: 0.6830329298973083\n",
      "Step: 2, Train Loss Now: 0.46205762028694153\n"
     ]
    },
    {
     "name": "stderr",
     "output_type": "stream",
     "text": [
      " 60%|██████    | 6/10 [00:00<00:00, 25.23it/s]"
     ]
    },
    {
     "name": "stdout",
     "output_type": "stream",
     "text": [
      "Step: 3, Train Loss Now: 0.45167243480682373\n",
      "Step: 4, Train Loss Now: 0.4082106649875641\n",
      "Step: 5, Train Loss Now: 0.41565277576446535\n",
      "Step: 6, Train Loss Now: 0.4117764284213384\n",
      "Step: 7, Train Loss Now: 0.40183472633361816\n",
      "Step: 8, Train Loss Now: 0.3947616219520569\n"
     ]
    },
    {
     "name": "stderr",
     "output_type": "stream",
     "text": [
      "100%|██████████| 10/10 [00:00<00:00, 24.95it/s]\n"
     ]
    },
    {
     "name": "stdout",
     "output_type": "stream",
     "text": [
      "Step: 9, Train Loss Now: 0.4149518807729085\n",
      "Step: 10, Train Loss Now: 0.41364299356937406\n"
     ]
    },
    {
     "name": "stderr",
     "output_type": "stream",
     "text": [
      "100%|██████████| 2/2 [00:00<00:00, 70.66it/s]\n",
      "  0%|          | 0/10 [00:00<?, ?it/s]"
     ]
    },
    {
     "name": "stdout",
     "output_type": "stream",
     "text": [
      "Step: 1, Train Loss Now: 0.39531034231185913\n"
     ]
    },
    {
     "name": "stderr",
     "output_type": "stream",
     "text": [
      " 30%|███       | 3/10 [00:00<00:00, 25.51it/s]"
     ]
    },
    {
     "name": "stdout",
     "output_type": "stream",
     "text": [
      "Step: 2, Train Loss Now: 0.3592436760663986\n",
      "Step: 3, Train Loss Now: 0.4143541355927785\n"
     ]
    },
    {
     "name": "stderr",
     "output_type": "stream",
     "text": [
      " 60%|██████    | 6/10 [00:00<00:00, 25.89it/s]"
     ]
    },
    {
     "name": "stdout",
     "output_type": "stream",
     "text": [
      "Step: 4, Train Loss Now: 0.40434281527996063\n",
      "Step: 5, Train Loss Now: 0.4482429504394531\n",
      "Step: 6, Train Loss Now: 0.4272400240103404\n",
      "Step: 7, Train Loss Now: 0.4169385050024305\n"
     ]
    },
    {
     "name": "stderr",
     "output_type": "stream",
     "text": [
      " 90%|█████████ | 9/10 [00:00<00:00, 26.83it/s]"
     ]
    },
    {
     "name": "stdout",
     "output_type": "stream",
     "text": [
      "Step: 8, Train Loss Now: 0.4218648560345173\n",
      "Step: 9, Train Loss Now: 0.41978937056329513\n"
     ]
    },
    {
     "name": "stderr",
     "output_type": "stream",
     "text": [
      "100%|██████████| 10/10 [00:00<00:00, 27.06it/s]\n"
     ]
    },
    {
     "name": "stdout",
     "output_type": "stream",
     "text": [
      "Step: 10, Train Loss Now: 0.42468604147434236\n"
     ]
    },
    {
     "name": "stderr",
     "output_type": "stream",
     "text": [
      "100%|██████████| 2/2 [00:00<00:00, 73.22it/s]\n",
      "  0%|          | 0/10 [00:00<?, ?it/s]"
     ]
    },
    {
     "name": "stdout",
     "output_type": "stream",
     "text": [
      "Step: 1, Train Loss Now: 0.4267379939556122\n"
     ]
    },
    {
     "name": "stderr",
     "output_type": "stream",
     "text": [
      " 30%|███       | 3/10 [00:00<00:00, 28.05it/s]"
     ]
    },
    {
     "name": "stdout",
     "output_type": "stream",
     "text": [
      "Step: 2, Train Loss Now: 0.4292013347148895\n",
      "Step: 3, Train Loss Now: 0.4710501233736674\n",
      "Step: 4, Train Loss Now: 0.4121784456074238\n",
      "Step: 5, Train Loss Now: 0.393443164229393\n"
     ]
    },
    {
     "name": "stderr",
     "output_type": "stream",
     "text": [
      " 60%|██████    | 6/10 [00:00<00:00, 26.66it/s]"
     ]
    },
    {
     "name": "stdout",
     "output_type": "stream",
     "text": [
      "Step: 6, Train Loss Now: 0.3722439880172412\n",
      "Step: 7, Train Loss Now: 0.3789218770606177\n",
      "Step: 8, Train Loss Now: 0.391476022079587\n"
     ]
    },
    {
     "name": "stderr",
     "output_type": "stream",
     "text": [
      " 90%|█████████ | 9/10 [00:00<00:00, 25.18it/s]"
     ]
    },
    {
     "name": "stdout",
     "output_type": "stream",
     "text": [
      "Step: 9, Train Loss Now: 0.39778250290287864\n"
     ]
    },
    {
     "name": "stderr",
     "output_type": "stream",
     "text": [
      "100%|██████████| 10/10 [00:00<00:00, 26.01it/s]\n"
     ]
    },
    {
     "name": "stdout",
     "output_type": "stream",
     "text": [
      "Step: 10, Train Loss Now: 0.39691035598516466\n"
     ]
    },
    {
     "name": "stderr",
     "output_type": "stream",
     "text": [
      "100%|██████████| 2/2 [00:00<00:00, 68.66it/s]\n",
      "  0%|          | 0/10 [00:00<?, ?it/s]"
     ]
    },
    {
     "name": "stdout",
     "output_type": "stream",
     "text": [
      "Step: 1, Train Loss Now: 0.2963133454322815\n"
     ]
    },
    {
     "name": "stderr",
     "output_type": "stream",
     "text": [
      " 30%|███       | 3/10 [00:00<00:00, 22.61it/s]"
     ]
    },
    {
     "name": "stdout",
     "output_type": "stream",
     "text": [
      "Step: 2, Train Loss Now: 0.3655248135328293\n",
      "Step: 3, Train Loss Now: 0.46320711572964984\n",
      "Step: 4, Train Loss Now: 0.4133910909295082\n",
      "Step: 5, Train Loss Now: 0.41919374465942383\n"
     ]
    },
    {
     "name": "stderr",
     "output_type": "stream",
     "text": [
      " 60%|██████    | 6/10 [00:00<00:00, 23.82it/s]"
     ]
    },
    {
     "name": "stdout",
     "output_type": "stream",
     "text": [
      "Step: 6, Train Loss Now: 0.39945077896118164\n"
     ]
    },
    {
     "name": "stderr",
     "output_type": "stream",
     "text": [
      " 90%|█████████ | 9/10 [00:00<00:00, 23.78it/s]"
     ]
    },
    {
     "name": "stdout",
     "output_type": "stream",
     "text": [
      "Step: 7, Train Loss Now: 0.3861994062151228\n",
      "Step: 8, Train Loss Now: 0.38755107298493385\n",
      "Step: 9, Train Loss Now: 0.37828906377156574\n"
     ]
    },
    {
     "name": "stderr",
     "output_type": "stream",
     "text": [
      "100%|██████████| 10/10 [00:00<00:00, 24.21it/s]\n"
     ]
    },
    {
     "name": "stdout",
     "output_type": "stream",
     "text": [
      "Step: 10, Train Loss Now: 0.39135368466377257\n"
     ]
    },
    {
     "name": "stderr",
     "output_type": "stream",
     "text": [
      "100%|██████████| 2/2 [00:00<00:00, 66.38it/s]\n",
      "  0%|          | 0/10 [00:00<?, ?it/s]"
     ]
    },
    {
     "name": "stdout",
     "output_type": "stream",
     "text": [
      "Step: 1, Train Loss Now: 0.5535121560096741\n",
      "Step: 2, Train Loss Now: 0.4184318333864212\n"
     ]
    },
    {
     "name": "stderr",
     "output_type": "stream",
     "text": [
      " 30%|███       | 3/10 [00:00<00:00, 27.42it/s]"
     ]
    },
    {
     "name": "stdout",
     "output_type": "stream",
     "text": [
      "Step: 3, Train Loss Now: 0.41653943061828613\n",
      "Step: 4, Train Loss Now: 0.3910435438156128\n"
     ]
    },
    {
     "name": "stderr",
     "output_type": "stream",
     "text": [
      " 60%|██████    | 6/10 [00:00<00:00, 20.88it/s]"
     ]
    },
    {
     "name": "stdout",
     "output_type": "stream",
     "text": [
      "Step: 5, Train Loss Now: 0.43241546154022215\n",
      "Step: 6, Train Loss Now: 0.4232994616031647\n",
      "Step: 7, Train Loss Now: 0.42569839102881296\n"
     ]
    },
    {
     "name": "stderr",
     "output_type": "stream",
     "text": [
      "100%|██████████| 10/10 [00:00<00:00, 23.74it/s]\n"
     ]
    },
    {
     "name": "stdout",
     "output_type": "stream",
     "text": [
      "Step: 8, Train Loss Now: 0.41437044367194176\n",
      "Step: 9, Train Loss Now: 0.4046321113904317\n",
      "Step: 10, Train Loss Now: 0.41940435767173767\n"
     ]
    },
    {
     "name": "stderr",
     "output_type": "stream",
     "text": [
      "100%|██████████| 2/2 [00:00<00:00, 63.66it/s]\n",
      "  0%|          | 0/10 [00:00<?, ?it/s]"
     ]
    },
    {
     "name": "stdout",
     "output_type": "stream",
     "text": [
      "Step: 1, Train Loss Now: 0.5963672995567322\n",
      "Step: 2, Train Loss Now: 0.553189754486084\n"
     ]
    },
    {
     "name": "stderr",
     "output_type": "stream",
     "text": [
      " 60%|██████    | 6/10 [00:00<00:00, 25.19it/s]"
     ]
    },
    {
     "name": "stdout",
     "output_type": "stream",
     "text": [
      "Step: 3, Train Loss Now: 0.47567808628082275\n",
      "Step: 4, Train Loss Now: 0.44576529413461685\n",
      "Step: 5, Train Loss Now: 0.45275639891624453\n",
      "Step: 6, Train Loss Now: 0.4270712782939275\n",
      "Step: 7, Train Loss Now: 0.39996781732354847\n"
     ]
    },
    {
     "name": "stderr",
     "output_type": "stream",
     "text": [
      "100%|██████████| 10/10 [00:00<00:00, 25.58it/s]\n"
     ]
    },
    {
     "name": "stdout",
     "output_type": "stream",
     "text": [
      "Step: 8, Train Loss Now: 0.39762956090271473\n",
      "Step: 9, Train Loss Now: 0.39852070973979103\n",
      "Step: 10, Train Loss Now: 0.39860943108797076\n"
     ]
    },
    {
     "name": "stderr",
     "output_type": "stream",
     "text": [
      "100%|██████████| 2/2 [00:00<00:00, 73.69it/s]\n",
      "  0%|          | 0/10 [00:00<?, ?it/s]"
     ]
    },
    {
     "name": "stdout",
     "output_type": "stream",
     "text": [
      "Step: 1, Train Loss Now: 0.4213896095752716\n",
      "Step: 2, Train Loss Now: 0.43229880928993225\n"
     ]
    },
    {
     "name": "stderr",
     "output_type": "stream",
     "text": [
      " 30%|███       | 3/10 [00:00<00:00, 24.44it/s]"
     ]
    },
    {
     "name": "stdout",
     "output_type": "stream",
     "text": [
      "Step: 3, Train Loss Now: 0.4277390440305074\n",
      "Step: 4, Train Loss Now: 0.39834610372781754\n",
      "Step: 5, Train Loss Now: 0.38408384919166566\n"
     ]
    },
    {
     "name": "stderr",
     "output_type": "stream",
     "text": [
      " 60%|██████    | 6/10 [00:00<00:00, 24.80it/s]"
     ]
    },
    {
     "name": "stdout",
     "output_type": "stream",
     "text": [
      "Step: 6, Train Loss Now: 0.4016611377398173\n",
      "Step: 7, Train Loss Now: 0.4159608313015529\n"
     ]
    },
    {
     "name": "stderr",
     "output_type": "stream",
     "text": [
      "100%|██████████| 10/10 [00:00<00:00, 25.42it/s]\n"
     ]
    },
    {
     "name": "stdout",
     "output_type": "stream",
     "text": [
      "Step: 8, Train Loss Now: 0.42906899005174637\n",
      "Step: 9, Train Loss Now: 0.42084668080012005\n",
      "Step: 10, Train Loss Now: 0.4200009614229202\n"
     ]
    },
    {
     "name": "stderr",
     "output_type": "stream",
     "text": [
      "100%|██████████| 2/2 [00:00<00:00, 57.99it/s]\n",
      "  0%|          | 0/10 [00:00<?, ?it/s]"
     ]
    },
    {
     "name": "stdout",
     "output_type": "stream",
     "text": [
      "Step: 1, Train Loss Now: 0.2774326503276825\n",
      "Step: 2, Train Loss Now: 0.39270688593387604\n"
     ]
    },
    {
     "name": "stderr",
     "output_type": "stream",
     "text": [
      " 60%|██████    | 6/10 [00:00<00:00, 27.91it/s]"
     ]
    },
    {
     "name": "stdout",
     "output_type": "stream",
     "text": [
      "Step: 3, Train Loss Now: 0.37763334314028424\n",
      "Step: 4, Train Loss Now: 0.37012725323438644\n",
      "Step: 5, Train Loss Now: 0.42886807322502135\n",
      "Step: 6, Train Loss Now: 0.39620985587437946\n",
      "Step: 7, Train Loss Now: 0.40524965950420927\n"
     ]
    },
    {
     "name": "stderr",
     "output_type": "stream",
     "text": [
      "100%|██████████| 10/10 [00:00<00:00, 24.08it/s]\n"
     ]
    },
    {
     "name": "stdout",
     "output_type": "stream",
     "text": [
      "Step: 8, Train Loss Now: 0.4101156108081341\n",
      "Step: 9, Train Loss Now: 0.3971306284268697\n",
      "Step: 10, Train Loss Now: 0.40605915188789365\n"
     ]
    },
    {
     "name": "stderr",
     "output_type": "stream",
     "text": [
      "100%|██████████| 2/2 [00:00<00:00, 67.25it/s]\n",
      "  0%|          | 0/10 [00:00<?, ?it/s]"
     ]
    },
    {
     "name": "stdout",
     "output_type": "stream",
     "text": [
      "Step: 1, Train Loss Now: 0.3984631299972534\n"
     ]
    },
    {
     "name": "stderr",
     "output_type": "stream",
     "text": [
      " 30%|███       | 3/10 [00:00<00:00, 24.10it/s]"
     ]
    },
    {
     "name": "stdout",
     "output_type": "stream",
     "text": [
      "Step: 2, Train Loss Now: 0.40710288286209106\n",
      "Step: 3, Train Loss Now: 0.3757307330767314\n",
      "Step: 4, Train Loss Now: 0.37096448242664337\n",
      "Step: 5, Train Loss Now: 0.37989385724067687\n"
     ]
    },
    {
     "name": "stderr",
     "output_type": "stream",
     "text": [
      " 60%|██████    | 6/10 [00:00<00:00, 24.80it/s]"
     ]
    },
    {
     "name": "stdout",
     "output_type": "stream",
     "text": [
      "Step: 6, Train Loss Now: 0.38555769622325897\n",
      "Step: 7, Train Loss Now: 0.40150940843990873\n"
     ]
    },
    {
     "name": "stderr",
     "output_type": "stream",
     "text": [
      "100%|██████████| 10/10 [00:00<00:00, 25.44it/s]\n"
     ]
    },
    {
     "name": "stdout",
     "output_type": "stream",
     "text": [
      "Step: 8, Train Loss Now: 0.41109756007790565\n",
      "Step: 9, Train Loss Now: 0.41581347584724426\n",
      "Step: 10, Train Loss Now: 0.3954454600811005\n"
     ]
    },
    {
     "name": "stderr",
     "output_type": "stream",
     "text": [
      "100%|██████████| 2/2 [00:00<00:00, 64.10it/s]\n",
      "  0%|          | 0/10 [00:00<?, ?it/s]"
     ]
    },
    {
     "name": "stdout",
     "output_type": "stream",
     "text": [
      "Step: 1, Train Loss Now: 0.2966475784778595\n",
      "Step: 2, Train Loss Now: 0.2954438328742981\n"
     ]
    },
    {
     "name": "stderr",
     "output_type": "stream",
     "text": [
      " 30%|███       | 3/10 [00:00<00:00, 24.73it/s]"
     ]
    },
    {
     "name": "stdout",
     "output_type": "stream",
     "text": [
      "Step: 3, Train Loss Now: 0.30467809240023297\n",
      "Step: 4, Train Loss Now: 0.3445875644683838\n",
      "Step: 5, Train Loss Now: 0.362930166721344\n",
      "Step: 6, Train Loss Now: 0.3565301646788915\n"
     ]
    },
    {
     "name": "stderr",
     "output_type": "stream",
     "text": [
      " 70%|███████   | 7/10 [00:00<00:00, 27.35it/s]"
     ]
    },
    {
     "name": "stdout",
     "output_type": "stream",
     "text": [
      "Step: 7, Train Loss Now: 0.3837513199874333\n"
     ]
    },
    {
     "name": "stderr",
     "output_type": "stream",
     "text": [
      "100%|██████████| 10/10 [00:00<00:00, 24.18it/s]\n"
     ]
    },
    {
     "name": "stdout",
     "output_type": "stream",
     "text": [
      "Step: 8, Train Loss Now: 0.4014073796570301\n",
      "Step: 9, Train Loss Now: 0.4154486358165741\n",
      "Step: 10, Train Loss Now: 0.4066731631755829\n"
     ]
    },
    {
     "name": "stderr",
     "output_type": "stream",
     "text": [
      "100%|██████████| 2/2 [00:00<00:00, 61.68it/s]\n",
      "  0%|          | 0/10 [00:00<?, ?it/s]"
     ]
    },
    {
     "name": "stdout",
     "output_type": "stream",
     "text": [
      "Step: 1, Train Loss Now: 0.3886648118495941\n",
      "Step: 2, Train Loss Now: 0.3288472145795822\n"
     ]
    },
    {
     "name": "stderr",
     "output_type": "stream",
     "text": [
      " 60%|██████    | 6/10 [00:00<00:00, 26.24it/s]"
     ]
    },
    {
     "name": "stdout",
     "output_type": "stream",
     "text": [
      "Step: 3, Train Loss Now: 0.36320311824480694\n",
      "Step: 4, Train Loss Now: 0.3675423860549927\n",
      "Step: 5, Train Loss Now: 0.3524842023849487\n",
      "Step: 6, Train Loss Now: 0.3639129747947057\n",
      "Step: 7, Train Loss Now: 0.37842048917497906\n",
      "Step: 8, Train Loss Now: 0.36276447027921677\n"
     ]
    },
    {
     "name": "stderr",
     "output_type": "stream",
     "text": [
      "100%|██████████| 10/10 [00:00<00:00, 24.89it/s]\n"
     ]
    },
    {
     "name": "stdout",
     "output_type": "stream",
     "text": [
      "Step: 9, Train Loss Now: 0.38606297969818115\n",
      "Step: 10, Train Loss Now: 0.3922010242938995\n"
     ]
    },
    {
     "name": "stderr",
     "output_type": "stream",
     "text": [
      "100%|██████████| 2/2 [00:00<00:00, 131.80it/s]\n",
      "  0%|          | 0/10 [00:00<?, ?it/s]"
     ]
    },
    {
     "name": "stdout",
     "output_type": "stream",
     "text": [
      "Step: 1, Train Loss Now: 0.4945104718208313\n"
     ]
    },
    {
     "name": "stderr",
     "output_type": "stream",
     "text": [
      " 30%|███       | 3/10 [00:00<00:00, 23.83it/s]"
     ]
    },
    {
     "name": "stdout",
     "output_type": "stream",
     "text": [
      "Step: 2, Train Loss Now: 0.4139023572206497\n",
      "Step: 3, Train Loss Now: 0.5131417016188303\n",
      "Step: 4, Train Loss Now: 0.5033845156431198\n",
      "Step: 5, Train Loss Now: 0.4529488205909729\n"
     ]
    },
    {
     "name": "stderr",
     "output_type": "stream",
     "text": [
      " 60%|██████    | 6/10 [00:00<00:00, 16.99it/s]"
     ]
    },
    {
     "name": "stdout",
     "output_type": "stream",
     "text": [
      "Step: 6, Train Loss Now: 0.440180907646815\n",
      "Step: 7, Train Loss Now: 0.43071113313947407\n"
     ]
    },
    {
     "name": "stderr",
     "output_type": "stream",
     "text": [
      "100%|██████████| 10/10 [00:00<00:00, 20.46it/s]\n"
     ]
    },
    {
     "name": "stdout",
     "output_type": "stream",
     "text": [
      "Step: 8, Train Loss Now: 0.4228135459125042\n",
      "Step: 9, Train Loss Now: 0.42012173930803937\n",
      "Step: 10, Train Loss Now: 0.4241392970085144\n"
     ]
    },
    {
     "name": "stderr",
     "output_type": "stream",
     "text": [
      "100%|██████████| 2/2 [00:00<00:00, 48.54it/s]\n",
      "  0%|          | 0/10 [00:00<?, ?it/s]"
     ]
    },
    {
     "name": "stdout",
     "output_type": "stream",
     "text": [
      "Step: 1, Train Loss Now: 0.32237401604652405\n",
      "Step: 2, Train Loss Now: 0.3049010783433914\n"
     ]
    },
    {
     "name": "stderr",
     "output_type": "stream",
     "text": [
      " 60%|██████    | 6/10 [00:00<00:00, 24.89it/s]"
     ]
    },
    {
     "name": "stdout",
     "output_type": "stream",
     "text": [
      "Step: 3, Train Loss Now: 0.28241150577863056\n",
      "Step: 4, Train Loss Now: 0.3011893406510353\n",
      "Step: 5, Train Loss Now: 0.40130074620246886\n",
      "Step: 6, Train Loss Now: 0.4275112797816594\n"
     ]
    },
    {
     "name": "stderr",
     "output_type": "stream",
     "text": [
      "100%|██████████| 10/10 [00:00<00:00, 22.39it/s]\n"
     ]
    },
    {
     "name": "stdout",
     "output_type": "stream",
     "text": [
      "Step: 7, Train Loss Now: 0.4169708064624241\n",
      "Step: 8, Train Loss Now: 0.41307181864976883\n",
      "Step: 9, Train Loss Now: 0.39914851718478733\n",
      "Step: 10, Train Loss Now: 0.4069853723049164\n"
     ]
    },
    {
     "name": "stderr",
     "output_type": "stream",
     "text": [
      "100%|██████████| 2/2 [00:00<00:00, 52.28it/s]\n",
      "  0%|          | 0/10 [00:00<?, ?it/s]"
     ]
    },
    {
     "name": "stdout",
     "output_type": "stream",
     "text": [
      "Step: 1, Train Loss Now: 0.35812076926231384\n"
     ]
    },
    {
     "name": "stderr",
     "output_type": "stream",
     "text": [
      " 60%|██████    | 6/10 [00:00<00:00, 24.77it/s]"
     ]
    },
    {
     "name": "stdout",
     "output_type": "stream",
     "text": [
      "Step: 2, Train Loss Now: 0.38247033953666687\n",
      "Step: 3, Train Loss Now: 0.4248772859573364\n",
      "Step: 4, Train Loss Now: 0.4535030722618103\n",
      "Step: 5, Train Loss Now: 0.4632913589477539\n",
      "Step: 6, Train Loss Now: 0.4629911780357361\n"
     ]
    },
    {
     "name": "stderr",
     "output_type": "stream",
     "text": [
      "100%|██████████| 10/10 [00:00<00:00, 25.04it/s]\n"
     ]
    },
    {
     "name": "stdout",
     "output_type": "stream",
     "text": [
      "Step: 7, Train Loss Now: 0.4215743499142783\n",
      "Step: 8, Train Loss Now: 0.4205740988254547\n",
      "Step: 9, Train Loss Now: 0.4159904718399048\n",
      "Step: 10, Train Loss Now: 0.42049205005168916\n"
     ]
    },
    {
     "name": "stderr",
     "output_type": "stream",
     "text": [
      "100%|██████████| 2/2 [00:00<00:00, 52.42it/s]\n",
      "  0%|          | 0/10 [00:00<?, ?it/s]"
     ]
    },
    {
     "name": "stdout",
     "output_type": "stream",
     "text": [
      "Step: 1, Train Loss Now: 0.3235211968421936\n"
     ]
    },
    {
     "name": "stderr",
     "output_type": "stream",
     "text": [
      " 30%|███       | 3/10 [00:00<00:00, 19.99it/s]"
     ]
    },
    {
     "name": "stdout",
     "output_type": "stream",
     "text": [
      "Step: 2, Train Loss Now: 0.42354562878608704\n",
      "Step: 3, Train Loss Now: 0.43367005387942\n",
      "Step: 4, Train Loss Now: 0.42025038599967957\n"
     ]
    },
    {
     "name": "stderr",
     "output_type": "stream",
     "text": [
      " 70%|███████   | 7/10 [00:00<00:00, 17.30it/s]"
     ]
    },
    {
     "name": "stdout",
     "output_type": "stream",
     "text": [
      "Step: 5, Train Loss Now: 0.42349836230278015\n",
      "Step: 6, Train Loss Now: 0.4145126094420751\n",
      "Step: 7, Train Loss Now: 0.43146137254578726\n",
      "Step: 8, Train Loss Now: 0.41933272406458855\n"
     ]
    },
    {
     "name": "stderr",
     "output_type": "stream",
     "text": [
      "100%|██████████| 10/10 [00:00<00:00, 18.42it/s]\n"
     ]
    },
    {
     "name": "stdout",
     "output_type": "stream",
     "text": [
      "Step: 9, Train Loss Now: 0.4101351963149177\n",
      "Step: 10, Train Loss Now: 0.41048883497714994\n"
     ]
    },
    {
     "name": "stderr",
     "output_type": "stream",
     "text": [
      "100%|██████████| 2/2 [00:00<00:00, 58.29it/s]\n",
      "  0%|          | 0/10 [00:00<?, ?it/s]"
     ]
    },
    {
     "name": "stdout",
     "output_type": "stream",
     "text": [
      "Step: 1, Train Loss Now: 0.4713733494281769\n",
      "Step: 2, Train Loss Now: 0.37372981011867523\n"
     ]
    },
    {
     "name": "stderr",
     "output_type": "stream",
     "text": [
      " 30%|███       | 3/10 [00:00<00:00, 24.21it/s]"
     ]
    },
    {
     "name": "stdout",
     "output_type": "stream",
     "text": [
      "Step: 3, Train Loss Now: 0.33411677678426105\n",
      "Step: 4, Train Loss Now: 0.37512198835611343\n",
      "Step: 5, Train Loss Now: 0.37281237840652465\n"
     ]
    },
    {
     "name": "stderr",
     "output_type": "stream",
     "text": [
      " 60%|██████    | 6/10 [00:00<00:00, 23.31it/s]"
     ]
    },
    {
     "name": "stdout",
     "output_type": "stream",
     "text": [
      "Step: 6, Train Loss Now: 0.3760129561026891\n",
      "Step: 7, Train Loss Now: 0.37751662731170654\n"
     ]
    },
    {
     "name": "stderr",
     "output_type": "stream",
     "text": [
      "100%|██████████| 10/10 [00:00<00:00, 23.61it/s]\n"
     ]
    },
    {
     "name": "stdout",
     "output_type": "stream",
     "text": [
      "Step: 8, Train Loss Now: 0.4201382100582123\n",
      "Step: 9, Train Loss Now: 0.4164790478017595\n",
      "Step: 10, Train Loss Now: 0.40866848826408386\n"
     ]
    },
    {
     "name": "stderr",
     "output_type": "stream",
     "text": [
      "100%|██████████| 2/2 [00:00<00:00, 83.48it/s]\n",
      " 10%|█         | 1/10 [00:00<00:00, 11.37it/s]"
     ]
    },
    {
     "name": "stdout",
     "output_type": "stream",
     "text": [
      "Step: 1, Train Loss Now: 0.3065469264984131\n"
     ]
    },
    {
     "name": "stderr",
     "output_type": "stream",
     "text": [
      "\n"
     ]
    },
    {
     "ename": "KeyboardInterrupt",
     "evalue": "",
     "output_type": "error",
     "traceback": [
      "\u001b[1;31m---------------------------------------------------------------------------\u001b[0m",
      "\u001b[1;31mKeyboardInterrupt\u001b[0m                         Traceback (most recent call last)",
      "\u001b[1;32mc:\\Users\\86183\\Desktop\\Lzc\\Data Science\\Kaggle Competition\\Kaggle - Detect Sleep States\\Final Train Code - Lzc.ipynb Cell 11\u001b[0m line \u001b[0;36m6\n\u001b[0;32m     <a href='vscode-notebook-cell:/c%3A/Users/86183/Desktop/Lzc/Data%20Science/Kaggle%20Competition/Kaggle%20-%20Detect%20Sleep%20States/Final%20Train%20Code%20-%20Lzc.ipynb#X10sZmlsZQ%3D%3D?line=59'>60</a>\u001b[0m train_step_loss \u001b[39m+\u001b[39m\u001b[39m=\u001b[39m loss\u001b[39m.\u001b[39mitem()\n\u001b[0;32m     <a href='vscode-notebook-cell:/c%3A/Users/86183/Desktop/Lzc/Data%20Science/Kaggle%20Competition/Kaggle%20-%20Detect%20Sleep%20States/Final%20Train%20Code%20-%20Lzc.ipynb#X10sZmlsZQ%3D%3D?line=61'>62</a>\u001b[0m loss\u001b[39m.\u001b[39mbackward()\n\u001b[1;32m---> <a href='vscode-notebook-cell:/c%3A/Users/86183/Desktop/Lzc/Data%20Science/Kaggle%20Competition/Kaggle%20-%20Detect%20Sleep%20States/Final%20Train%20Code%20-%20Lzc.ipynb#X10sZmlsZQ%3D%3D?line=62'>63</a>\u001b[0m optimizer\u001b[39m.\u001b[39;49mstep()\n\u001b[0;32m     <a href='vscode-notebook-cell:/c%3A/Users/86183/Desktop/Lzc/Data%20Science/Kaggle%20Competition/Kaggle%20-%20Detect%20Sleep%20States/Final%20Train%20Code%20-%20Lzc.ipynb#X10sZmlsZQ%3D%3D?line=64'>65</a>\u001b[0m \u001b[39mif\u001b[39;00m (batch_idx \u001b[39m+\u001b[39m \u001b[39m1\u001b[39m) \u001b[39m%\u001b[39m CFG\u001b[39m.\u001b[39mtrain_record_steps \u001b[39m==\u001b[39m \u001b[39m0\u001b[39m:\n\u001b[0;32m     <a href='vscode-notebook-cell:/c%3A/Users/86183/Desktop/Lzc/Data%20Science/Kaggle%20Competition/Kaggle%20-%20Detect%20Sleep%20States/Final%20Train%20Code%20-%20Lzc.ipynb#X10sZmlsZQ%3D%3D?line=65'>66</a>\u001b[0m     train_step_losses\u001b[39m.\u001b[39mappend(train_step_loss \u001b[39m/\u001b[39m (batch_idx \u001b[39m+\u001b[39m \u001b[39m1\u001b[39m))\n",
      "File \u001b[1;32mc:\\Users\\86183\\anaconda3\\lib\\site-packages\\torch\\optim\\lr_scheduler.py:69\u001b[0m, in \u001b[0;36mLRScheduler.__init__.<locals>.with_counter.<locals>.wrapper\u001b[1;34m(*args, **kwargs)\u001b[0m\n\u001b[0;32m     67\u001b[0m instance\u001b[39m.\u001b[39m_step_count \u001b[39m+\u001b[39m\u001b[39m=\u001b[39m \u001b[39m1\u001b[39m\n\u001b[0;32m     68\u001b[0m wrapped \u001b[39m=\u001b[39m func\u001b[39m.\u001b[39m\u001b[39m__get__\u001b[39m(instance, \u001b[39mcls\u001b[39m)\n\u001b[1;32m---> 69\u001b[0m \u001b[39mreturn\u001b[39;00m wrapped(\u001b[39m*\u001b[39margs, \u001b[39m*\u001b[39m\u001b[39m*\u001b[39mkwargs)\n",
      "File \u001b[1;32mc:\\Users\\86183\\anaconda3\\lib\\site-packages\\torch\\optim\\optimizer.py:280\u001b[0m, in \u001b[0;36mOptimizer.profile_hook_step.<locals>.wrapper\u001b[1;34m(*args, **kwargs)\u001b[0m\n\u001b[0;32m    276\u001b[0m         \u001b[39melse\u001b[39;00m:\n\u001b[0;32m    277\u001b[0m             \u001b[39mraise\u001b[39;00m \u001b[39mRuntimeError\u001b[39;00m(\u001b[39mf\u001b[39m\u001b[39m\"\u001b[39m\u001b[39m{\u001b[39;00mfunc\u001b[39m}\u001b[39;00m\u001b[39m must return None or a tuple of (new_args, new_kwargs),\u001b[39m\u001b[39m\"\u001b[39m\n\u001b[0;32m    278\u001b[0m                                \u001b[39mf\u001b[39m\u001b[39m\"\u001b[39m\u001b[39mbut got \u001b[39m\u001b[39m{\u001b[39;00mresult\u001b[39m}\u001b[39;00m\u001b[39m.\u001b[39m\u001b[39m\"\u001b[39m)\n\u001b[1;32m--> 280\u001b[0m out \u001b[39m=\u001b[39m func(\u001b[39m*\u001b[39margs, \u001b[39m*\u001b[39m\u001b[39m*\u001b[39mkwargs)\n\u001b[0;32m    281\u001b[0m \u001b[39mself\u001b[39m\u001b[39m.\u001b[39m_optimizer_step_code()\n\u001b[0;32m    283\u001b[0m \u001b[39m# call optimizer step post hooks\u001b[39;00m\n",
      "File \u001b[1;32mc:\\Users\\86183\\anaconda3\\lib\\site-packages\\torch\\optim\\optimizer.py:33\u001b[0m, in \u001b[0;36m_use_grad_for_differentiable.<locals>._use_grad\u001b[1;34m(self, *args, **kwargs)\u001b[0m\n\u001b[0;32m     31\u001b[0m \u001b[39mtry\u001b[39;00m:\n\u001b[0;32m     32\u001b[0m     torch\u001b[39m.\u001b[39mset_grad_enabled(\u001b[39mself\u001b[39m\u001b[39m.\u001b[39mdefaults[\u001b[39m'\u001b[39m\u001b[39mdifferentiable\u001b[39m\u001b[39m'\u001b[39m])\n\u001b[1;32m---> 33\u001b[0m     ret \u001b[39m=\u001b[39m func(\u001b[39mself\u001b[39m, \u001b[39m*\u001b[39margs, \u001b[39m*\u001b[39m\u001b[39m*\u001b[39mkwargs)\n\u001b[0;32m     34\u001b[0m \u001b[39mfinally\u001b[39;00m:\n\u001b[0;32m     35\u001b[0m     torch\u001b[39m.\u001b[39mset_grad_enabled(prev_grad)\n",
      "File \u001b[1;32mc:\\Users\\86183\\anaconda3\\lib\\site-packages\\torch\\optim\\adam.py:141\u001b[0m, in \u001b[0;36mAdam.step\u001b[1;34m(self, closure)\u001b[0m\n\u001b[0;32m    130\u001b[0m     beta1, beta2 \u001b[39m=\u001b[39m group[\u001b[39m'\u001b[39m\u001b[39mbetas\u001b[39m\u001b[39m'\u001b[39m]\n\u001b[0;32m    132\u001b[0m     \u001b[39mself\u001b[39m\u001b[39m.\u001b[39m_init_group(\n\u001b[0;32m    133\u001b[0m         group,\n\u001b[0;32m    134\u001b[0m         params_with_grad,\n\u001b[1;32m   (...)\u001b[0m\n\u001b[0;32m    138\u001b[0m         max_exp_avg_sqs,\n\u001b[0;32m    139\u001b[0m         state_steps)\n\u001b[1;32m--> 141\u001b[0m     adam(\n\u001b[0;32m    142\u001b[0m         params_with_grad,\n\u001b[0;32m    143\u001b[0m         grads,\n\u001b[0;32m    144\u001b[0m         exp_avgs,\n\u001b[0;32m    145\u001b[0m         exp_avg_sqs,\n\u001b[0;32m    146\u001b[0m         max_exp_avg_sqs,\n\u001b[0;32m    147\u001b[0m         state_steps,\n\u001b[0;32m    148\u001b[0m         amsgrad\u001b[39m=\u001b[39;49mgroup[\u001b[39m'\u001b[39;49m\u001b[39mamsgrad\u001b[39;49m\u001b[39m'\u001b[39;49m],\n\u001b[0;32m    149\u001b[0m         beta1\u001b[39m=\u001b[39;49mbeta1,\n\u001b[0;32m    150\u001b[0m         beta2\u001b[39m=\u001b[39;49mbeta2,\n\u001b[0;32m    151\u001b[0m         lr\u001b[39m=\u001b[39;49mgroup[\u001b[39m'\u001b[39;49m\u001b[39mlr\u001b[39;49m\u001b[39m'\u001b[39;49m],\n\u001b[0;32m    152\u001b[0m         weight_decay\u001b[39m=\u001b[39;49mgroup[\u001b[39m'\u001b[39;49m\u001b[39mweight_decay\u001b[39;49m\u001b[39m'\u001b[39;49m],\n\u001b[0;32m    153\u001b[0m         eps\u001b[39m=\u001b[39;49mgroup[\u001b[39m'\u001b[39;49m\u001b[39meps\u001b[39;49m\u001b[39m'\u001b[39;49m],\n\u001b[0;32m    154\u001b[0m         maximize\u001b[39m=\u001b[39;49mgroup[\u001b[39m'\u001b[39;49m\u001b[39mmaximize\u001b[39;49m\u001b[39m'\u001b[39;49m],\n\u001b[0;32m    155\u001b[0m         foreach\u001b[39m=\u001b[39;49mgroup[\u001b[39m'\u001b[39;49m\u001b[39mforeach\u001b[39;49m\u001b[39m'\u001b[39;49m],\n\u001b[0;32m    156\u001b[0m         capturable\u001b[39m=\u001b[39;49mgroup[\u001b[39m'\u001b[39;49m\u001b[39mcapturable\u001b[39;49m\u001b[39m'\u001b[39;49m],\n\u001b[0;32m    157\u001b[0m         differentiable\u001b[39m=\u001b[39;49mgroup[\u001b[39m'\u001b[39;49m\u001b[39mdifferentiable\u001b[39;49m\u001b[39m'\u001b[39;49m],\n\u001b[0;32m    158\u001b[0m         fused\u001b[39m=\u001b[39;49mgroup[\u001b[39m'\u001b[39;49m\u001b[39mfused\u001b[39;49m\u001b[39m'\u001b[39;49m],\n\u001b[0;32m    159\u001b[0m         grad_scale\u001b[39m=\u001b[39;49m\u001b[39mgetattr\u001b[39;49m(\u001b[39mself\u001b[39;49m, \u001b[39m\"\u001b[39;49m\u001b[39mgrad_scale\u001b[39;49m\u001b[39m\"\u001b[39;49m, \u001b[39mNone\u001b[39;49;00m),\n\u001b[0;32m    160\u001b[0m         found_inf\u001b[39m=\u001b[39;49m\u001b[39mgetattr\u001b[39;49m(\u001b[39mself\u001b[39;49m, \u001b[39m\"\u001b[39;49m\u001b[39mfound_inf\u001b[39;49m\u001b[39m\"\u001b[39;49m, \u001b[39mNone\u001b[39;49;00m),\n\u001b[0;32m    161\u001b[0m     )\n\u001b[0;32m    163\u001b[0m \u001b[39mreturn\u001b[39;00m loss\n",
      "File \u001b[1;32mc:\\Users\\86183\\anaconda3\\lib\\site-packages\\torch\\optim\\adam.py:281\u001b[0m, in \u001b[0;36madam\u001b[1;34m(params, grads, exp_avgs, exp_avg_sqs, max_exp_avg_sqs, state_steps, foreach, capturable, differentiable, fused, grad_scale, found_inf, amsgrad, beta1, beta2, lr, weight_decay, eps, maximize)\u001b[0m\n\u001b[0;32m    278\u001b[0m \u001b[39melse\u001b[39;00m:\n\u001b[0;32m    279\u001b[0m     func \u001b[39m=\u001b[39m _single_tensor_adam\n\u001b[1;32m--> 281\u001b[0m func(params,\n\u001b[0;32m    282\u001b[0m      grads,\n\u001b[0;32m    283\u001b[0m      exp_avgs,\n\u001b[0;32m    284\u001b[0m      exp_avg_sqs,\n\u001b[0;32m    285\u001b[0m      max_exp_avg_sqs,\n\u001b[0;32m    286\u001b[0m      state_steps,\n\u001b[0;32m    287\u001b[0m      amsgrad\u001b[39m=\u001b[39;49mamsgrad,\n\u001b[0;32m    288\u001b[0m      beta1\u001b[39m=\u001b[39;49mbeta1,\n\u001b[0;32m    289\u001b[0m      beta2\u001b[39m=\u001b[39;49mbeta2,\n\u001b[0;32m    290\u001b[0m      lr\u001b[39m=\u001b[39;49mlr,\n\u001b[0;32m    291\u001b[0m      weight_decay\u001b[39m=\u001b[39;49mweight_decay,\n\u001b[0;32m    292\u001b[0m      eps\u001b[39m=\u001b[39;49meps,\n\u001b[0;32m    293\u001b[0m      maximize\u001b[39m=\u001b[39;49mmaximize,\n\u001b[0;32m    294\u001b[0m      capturable\u001b[39m=\u001b[39;49mcapturable,\n\u001b[0;32m    295\u001b[0m      differentiable\u001b[39m=\u001b[39;49mdifferentiable,\n\u001b[0;32m    296\u001b[0m      grad_scale\u001b[39m=\u001b[39;49mgrad_scale,\n\u001b[0;32m    297\u001b[0m      found_inf\u001b[39m=\u001b[39;49mfound_inf)\n",
      "File \u001b[1;32mc:\\Users\\86183\\anaconda3\\lib\\site-packages\\torch\\optim\\adam.py:391\u001b[0m, in \u001b[0;36m_single_tensor_adam\u001b[1;34m(params, grads, exp_avgs, exp_avg_sqs, max_exp_avg_sqs, state_steps, grad_scale, found_inf, amsgrad, beta1, beta2, lr, weight_decay, eps, maximize, capturable, differentiable)\u001b[0m\n\u001b[0;32m    389\u001b[0m     denom \u001b[39m=\u001b[39m (max_exp_avg_sqs[i]\u001b[39m.\u001b[39msqrt() \u001b[39m/\u001b[39m bias_correction2_sqrt)\u001b[39m.\u001b[39madd_(eps)\n\u001b[0;32m    390\u001b[0m \u001b[39melse\u001b[39;00m:\n\u001b[1;32m--> 391\u001b[0m     denom \u001b[39m=\u001b[39m (exp_avg_sq\u001b[39m.\u001b[39;49msqrt() \u001b[39m/\u001b[39;49m bias_correction2_sqrt)\u001b[39m.\u001b[39;49madd_(eps)\n\u001b[0;32m    393\u001b[0m param\u001b[39m.\u001b[39maddcdiv_(exp_avg, denom, value\u001b[39m=\u001b[39m\u001b[39m-\u001b[39mstep_size)\n",
      "\u001b[1;31mKeyboardInterrupt\u001b[0m: "
     ]
    }
   ],
   "source": [
    "train_losses = []\n",
    "train_step_losses = []\n",
    "test_losses = []\n",
    "learning_rates = []\n",
    "\n",
    "indices = list(range(CFG.num_person))\n",
    "kf = KFold(n_splits=CFG.fold, shuffle=True, random_state=2023)\n",
    "\n",
    "for fold, (train_index, val_index) in enumerate(kf.split(indices)):\n",
    "    # print(f\"Fold {fold + 1}\")\n",
    "    print(\"Train indices:\", train_index)\n",
    "    print(\"Test indices:\", val_index)\n",
    "    X_train = []\n",
    "    y_train = []\n",
    "    for idx in train_index:\n",
    "        person_id = index_to_ids[idx]\n",
    "        X_train.extend(dic_X[person_id])\n",
    "        y_train.extend(dic_y[person_id])\n",
    "\n",
    "    X_val = []\n",
    "    y_val = []\n",
    "    for idx in val_index:\n",
    "        person_id = index_to_ids[idx]\n",
    "        X_val.extend(dic_X[person_id])\n",
    "        y_val.extend(dic_y[person_id])\n",
    "    \n",
    "    print(len(X_train), len(X_val))\n",
    "\n",
    "    train_dataset = MyDataset(X_train, y_train)\n",
    "    val_dataset = MyDataset(X_val, y_val)\n",
    "    train_dataloader = DataLoader(train_dataset, batch_size=CFG.batch_size, shuffle=True)\n",
    "    val_dataloader = DataLoader(val_dataset, batch_size=CFG.batch_size, shuffle=False)\n",
    "\n",
    "    train_model = model.to(device=device)\n",
    "    train_model.train()\n",
    "\n",
    "    optimizer = torch.optim.Adam(train_model.parameters(), lr=CFG.learning_rate)\n",
    "    scheduler = StepLR(optimizer, step_size=CFG.scheduler_step_size, gamma=CFG.scheduler_gamma)\n",
    "\n",
    "    min_loss = np.inf\n",
    "\n",
    "    for epoch in range(1, CFG.epochs + 1):\n",
    "        train_loss = 0.0\n",
    "        test_loss = 0.0\n",
    "        train_step_loss = 0.0\n",
    "\n",
    "        learning_rate = optimizer.param_groups[0][\"lr\"]\n",
    "        learning_rates.append(learning_rate)\n",
    "\n",
    "        for batch_idx, (data, target) in tqdm(enumerate(train_dataloader), total=len(train_dataloader)):\n",
    "            optimizer.zero_grad()\n",
    "\n",
    "            data = data.to(device)\n",
    "            target = target.to(device)\n",
    "            output = train_model(data)\n",
    "\n",
    "            loss = criterion(output, target)\n",
    "            train_loss += loss.item()\n",
    "            train_step_loss += loss.item()\n",
    "\n",
    "            loss.backward()\n",
    "            optimizer.step()\n",
    "\n",
    "            if (batch_idx + 1) % CFG.train_record_steps == 0:\n",
    "                train_step_losses.append(train_step_loss / (batch_idx + 1))\n",
    "                print(f\"Fold: {fold + 1}, Epoch: {epoch}, Step: {(batch_idx + 1)}, Train Loss Now: {train_step_loss / (batch_idx + 1)}\")\n",
    "\n",
    "        scheduler.step()\n",
    "\n",
    "        with torch.no_grad():\n",
    "            for batch_idx, (data, target) in tqdm(enumerate(val_dataloader), total=len(val_dataloader)):\n",
    "                data = data.to(device)\n",
    "                target = target.to(device)\n",
    "                output = train_model(data)\n",
    "\n",
    "                loss = criterion(output, target)\n",
    "                test_loss += loss.item()\n",
    "\n",
    "        train_loss /= len(train_dataloader)\n",
    "        train_losses.append(train_loss)\n",
    "\n",
    "        test_loss /= len(val_dataloader)\n",
    "        test_losses.append(test_loss)\n",
    "\n",
    "        print(f\"Fold: {fold + 1}, Epoch: {epoch}, Train Loss: {train_loss}, Test Loss: {test_loss}\")\n",
    "\n",
    "        if test_loss < min_loss:\n",
    "            min_loss = test_loss\n",
    "            torch.save(train_model.state_dict(), f\"{CFG.model_dir}/model_epoch_{fold + 1}.pth\")"
   ]
  },
  {
   "cell_type": "code",
   "execution_count": null,
   "metadata": {},
   "outputs": [],
   "source": [
    "plt.figure(figsize=(20, 5))\n",
    "\n",
    "plt.subplot(1, 3, 1)\n",
    "plt.plot(train_losses, label=\"Train Loss\")\n",
    "plt.plot(test_losses, label=\"Test Loss\")\n",
    "plt.xlabel(\"Epoch\")\n",
    "plt.ylabel(\"Loss\")\n",
    "plt.title(\"Train & Test Loss\")\n",
    "plt.legend()\n",
    "\n",
    "plt.subplot(1, 3, 2)\n",
    "plt.plot(learning_rates)\n",
    "plt.xlabel(\"Epoch\")\n",
    "plt.ylabel(\"Learning Rate\")\n",
    "\n",
    "plt.savefig(\"plot.png\")\n",
    "\n",
    "plt.tight_layout()\n",
    "plt.show()"
   ]
  }
 ],
 "metadata": {
  "kernelspec": {
   "display_name": "base",
   "language": "python",
   "name": "python3"
  },
  "language_info": {
   "codemirror_mode": {
    "name": "ipython",
    "version": 3
   },
   "file_extension": ".py",
   "mimetype": "text/x-python",
   "name": "python",
   "nbconvert_exporter": "python",
   "pygments_lexer": "ipython3",
   "version": "3.10.9"
  }
 },
 "nbformat": 4,
 "nbformat_minor": 2
}
